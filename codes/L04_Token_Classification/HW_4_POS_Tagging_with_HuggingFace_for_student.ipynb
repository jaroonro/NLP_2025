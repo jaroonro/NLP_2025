{
  "cells": [
    {
      "cell_type": "markdown",
      "metadata": {
        "id": "UxOTS6n1ikVL"
      },
      "source": [
        "# HW 4 - POS Tagging with Hugging Face\n",
        "\n",
        "In this exercise, you will create a part-of-speech (POS) tagging system for Thai text using NECTEC’s ORCHID corpus. Instead of building your own deep learning architecture from scratch, you will leverage a pretrained tokenizer and a pretrained token classification model from Hugging Face.\n",
        "\n",
        "We have provided some starter code for data cleaning and preprocessing in this notebook, but feel free to modify those parts to suit your needs. You are welcome to use additional libraries (e.g., scikit-learn) as long as you incorporate the pretrained Hugging Face model. Specifically, you will need to:\n",
        "\n",
        "1. Load a pretrained tokenizer and token classification model.\n",
        "2. Fine-tune it on the ORCHID corpus for POS tagging.\n",
        "3. Evaluate and report the performance of your model on the test data.\n",
        "\n",
        "### Don't forget to change hardware accelrator to GPU in runtime on Google Colab ###"
      ]
    },
    {
      "cell_type": "markdown",
      "metadata": {
        "id": "bQ1Uqldlj81G"
      },
      "source": [
        "## 1. Setup and Preprocessing"
      ]
    },
    {
      "cell_type": "code",
      "execution_count": 1,
      "metadata": {
        "id": "kyb4FhsEEeH8"
      },
      "outputs": [
        {
          "name": "stdout",
          "output_type": "stream",
          "text": [
            "Collecting wandb\n",
            "  Downloading wandb-0.20.1-py3-none-win_amd64.whl.metadata (10 kB)\n",
            "Collecting click!=8.0.0,>=7.1 (from wandb)\n",
            "  Downloading click-8.2.1-py3-none-any.whl.metadata (2.5 kB)\n",
            "Collecting gitpython!=3.1.29,>=1.0.0 (from wandb)\n",
            "  Using cached GitPython-3.1.44-py3-none-any.whl.metadata (13 kB)\n",
            "Requirement already satisfied: packaging in c:\\users\\user\\anaconda3\\envs\\nlp\\lib\\site-packages (from wandb) (24.2)\n",
            "Requirement already satisfied: platformdirs in c:\\users\\user\\anaconda3\\envs\\nlp\\lib\\site-packages (from wandb) (4.3.7)\n",
            "Collecting protobuf!=4.21.0,!=5.28.0,<7,>=3.19.0 (from wandb)\n",
            "  Downloading protobuf-6.31.1-cp310-abi3-win_amd64.whl.metadata (593 bytes)\n",
            "Requirement already satisfied: psutil>=5.0.0 in c:\\users\\user\\anaconda3\\envs\\nlp\\lib\\site-packages (from wandb) (5.9.0)\n",
            "Collecting pydantic<3 (from wandb)\n",
            "  Downloading pydantic-2.11.6-py3-none-any.whl.metadata (67 kB)\n",
            "Requirement already satisfied: pyyaml in c:\\users\\user\\anaconda3\\envs\\nlp\\lib\\site-packages (from wandb) (6.0.2)\n",
            "Requirement already satisfied: requests<3,>=2.0.0 in c:\\users\\user\\anaconda3\\envs\\nlp\\lib\\site-packages (from wandb) (2.32.3)\n",
            "Collecting sentry-sdk>=2.0.0 (from wandb)\n",
            "  Downloading sentry_sdk-2.30.0-py2.py3-none-any.whl.metadata (10 kB)\n",
            "Collecting setproctitle (from wandb)\n",
            "  Downloading setproctitle-1.3.6-cp310-cp310-win_amd64.whl.metadata (10 kB)\n",
            "Requirement already satisfied: typing-extensions<5,>=4.8 in c:\\users\\user\\anaconda3\\envs\\nlp\\lib\\site-packages (from wandb) (4.12.2)\n",
            "Collecting annotated-types>=0.6.0 (from pydantic<3->wandb)\n",
            "  Using cached annotated_types-0.7.0-py3-none-any.whl.metadata (15 kB)\n",
            "Collecting pydantic-core==2.33.2 (from pydantic<3->wandb)\n",
            "  Downloading pydantic_core-2.33.2-cp310-cp310-win_amd64.whl.metadata (6.9 kB)\n",
            "Collecting typing-inspection>=0.4.0 (from pydantic<3->wandb)\n",
            "  Downloading typing_inspection-0.4.1-py3-none-any.whl.metadata (2.6 kB)\n",
            "Requirement already satisfied: charset-normalizer<4,>=2 in c:\\users\\user\\anaconda3\\envs\\nlp\\lib\\site-packages (from requests<3,>=2.0.0->wandb) (3.3.2)\n",
            "Requirement already satisfied: idna<4,>=2.5 in c:\\users\\user\\anaconda3\\envs\\nlp\\lib\\site-packages (from requests<3,>=2.0.0->wandb) (3.7)\n",
            "Requirement already satisfied: urllib3<3,>=1.21.1 in c:\\users\\user\\anaconda3\\envs\\nlp\\lib\\site-packages (from requests<3,>=2.0.0->wandb) (2.3.0)\n",
            "Requirement already satisfied: certifi>=2017.4.17 in c:\\users\\user\\anaconda3\\envs\\nlp\\lib\\site-packages (from requests<3,>=2.0.0->wandb) (2025.4.26)\n",
            "Requirement already satisfied: colorama in c:\\users\\user\\anaconda3\\envs\\nlp\\lib\\site-packages (from click!=8.0.0,>=7.1->wandb) (0.4.6)\n",
            "Collecting gitdb<5,>=4.0.1 (from gitpython!=3.1.29,>=1.0.0->wandb)\n",
            "  Using cached gitdb-4.0.12-py3-none-any.whl.metadata (1.2 kB)\n",
            "Collecting smmap<6,>=3.0.1 (from gitdb<5,>=4.0.1->gitpython!=3.1.29,>=1.0.0->wandb)\n",
            "  Using cached smmap-5.0.2-py3-none-any.whl.metadata (4.3 kB)\n",
            "Downloading wandb-0.20.1-py3-none-win_amd64.whl (22.5 MB)\n",
            "   ---------------------------------------- 0.0/22.5 MB ? eta -:--:--\n",
            "   ---------------------------------------  22.3/22.5 MB 117.1 MB/s eta 0:00:01\n",
            "   ---------------------------------------  22.3/22.5 MB 117.1 MB/s eta 0:00:01\n",
            "   ---------------------------------------  22.3/22.5 MB 117.1 MB/s eta 0:00:01\n",
            "   ---------------------------------------  22.3/22.5 MB 117.1 MB/s eta 0:00:01\n",
            "   ---------------------------------------- 22.5/22.5 MB 23.7 MB/s eta 0:00:00\n",
            "Downloading protobuf-6.31.1-cp310-abi3-win_amd64.whl (435 kB)\n",
            "Downloading pydantic-2.11.6-py3-none-any.whl (444 kB)\n",
            "Downloading pydantic_core-2.33.2-cp310-cp310-win_amd64.whl (2.0 MB)\n",
            "   ---------------------------------------- 0.0/2.0 MB ? eta -:--:--\n",
            "   ---------------------------------------- 2.0/2.0 MB 54.6 MB/s eta 0:00:00\n",
            "Using cached annotated_types-0.7.0-py3-none-any.whl (13 kB)\n",
            "Downloading click-8.2.1-py3-none-any.whl (102 kB)\n",
            "Using cached GitPython-3.1.44-py3-none-any.whl (207 kB)\n",
            "Using cached gitdb-4.0.12-py3-none-any.whl (62 kB)\n",
            "Using cached smmap-5.0.2-py3-none-any.whl (24 kB)\n",
            "Downloading sentry_sdk-2.30.0-py2.py3-none-any.whl (343 kB)\n",
            "Downloading typing_inspection-0.4.1-py3-none-any.whl (14 kB)\n",
            "Downloading setproctitle-1.3.6-cp310-cp310-win_amd64.whl (12 kB)\n",
            "Installing collected packages: typing-inspection, smmap, setproctitle, sentry-sdk, pydantic-core, protobuf, click, annotated-types, pydantic, gitdb, gitpython, wandb\n",
            "\n",
            "   ---------- -----------------------------  3/12 [sentry-sdk]\n",
            "   ---------- -----------------------------  3/12 [sentry-sdk]\n",
            "   ---------- -----------------------------  3/12 [sentry-sdk]\n",
            "   ---------------- -----------------------  5/12 [protobuf]\n",
            "   -------------------- -------------------  6/12 [click]\n",
            "   -------------------------- -------------  8/12 [pydantic]\n",
            "   -------------------------- -------------  8/12 [pydantic]\n",
            "   ------------------------------ ---------  9/12 [gitdb]\n",
            "   --------------------------------- ------ 10/12 [gitpython]\n",
            "   ------------------------------------ --- 11/12 [wandb]\n",
            "   ------------------------------------ --- 11/12 [wandb]\n",
            "   ------------------------------------ --- 11/12 [wandb]\n",
            "   ------------------------------------ --- 11/12 [wandb]\n",
            "   ------------------------------------ --- 11/12 [wandb]\n",
            "   ------------------------------------ --- 11/12 [wandb]\n",
            "   ------------------------------------ --- 11/12 [wandb]\n",
            "   ------------------------------------ --- 11/12 [wandb]\n",
            "   ------------------------------------ --- 11/12 [wandb]\n",
            "   ------------------------------------ --- 11/12 [wandb]\n",
            "   ------------------------------------ --- 11/12 [wandb]\n",
            "   ------------------------------------ --- 11/12 [wandb]\n",
            "   ------------------------------------ --- 11/12 [wandb]\n",
            "   ------------------------------------ --- 11/12 [wandb]\n",
            "   ------------------------------------ --- 11/12 [wandb]\n",
            "   ------------------------------------ --- 11/12 [wandb]\n",
            "   ------------------------------------ --- 11/12 [wandb]\n",
            "   ------------------------------------ --- 11/12 [wandb]\n",
            "   ------------------------------------ --- 11/12 [wandb]\n",
            "   ------------------------------------ --- 11/12 [wandb]\n",
            "   ---------------------------------------- 12/12 [wandb]\n",
            "\n",
            "Successfully installed annotated-types-0.7.0 click-8.2.1 gitdb-4.0.12 gitpython-3.1.44 protobuf-6.31.1 pydantic-2.11.6 pydantic-core-2.33.2 sentry-sdk-2.30.0 setproctitle-1.3.6 smmap-5.0.2 typing-inspection-0.4.1 wandb-0.20.1\n"
          ]
        },
        {
          "name": "stderr",
          "output_type": "stream",
          "text": [
            "  DEPRECATION: Building 'seqeval' using the legacy setup.py bdist_wheel mechanism, which will be removed in a future version. pip 25.3 will enforce this behaviour change. A possible replacement is to use the standardized build interface by setting the `--use-pep517` option, (possibly combined with `--no-build-isolation`), or adding a `pyproject.toml` file to the source tree of 'seqeval'. Discussion can be found at https://github.com/pypa/pip/issues/6334\n"
          ]
        },
        {
          "name": "stdout",
          "output_type": "stream",
          "text": [
            "Collecting peft==0.10.0\n",
            "  Downloading peft-0.10.0-py3-none-any.whl.metadata (13 kB)\n",
            "Requirement already satisfied: numpy>=1.17 in c:\\users\\user\\anaconda3\\envs\\nlp\\lib\\site-packages (from peft==0.10.0) (2.1.3)\n",
            "Requirement already satisfied: packaging>=20.0 in c:\\users\\user\\anaconda3\\envs\\nlp\\lib\\site-packages (from peft==0.10.0) (24.2)\n",
            "Requirement already satisfied: psutil in c:\\users\\user\\anaconda3\\envs\\nlp\\lib\\site-packages (from peft==0.10.0) (5.9.0)\n",
            "Requirement already satisfied: pyyaml in c:\\users\\user\\anaconda3\\envs\\nlp\\lib\\site-packages (from peft==0.10.0) (6.0.2)\n",
            "Collecting torch>=1.13.0 (from peft==0.10.0)\n",
            "  Downloading torch-2.7.1-cp310-cp310-win_amd64.whl.metadata (28 kB)\n",
            "Requirement already satisfied: transformers in c:\\users\\user\\anaconda3\\envs\\nlp\\lib\\site-packages (from peft==0.10.0) (4.30.1)\n",
            "Requirement already satisfied: tqdm in c:\\users\\user\\anaconda3\\envs\\nlp\\lib\\site-packages (from peft==0.10.0) (4.67.1)\n",
            "Collecting accelerate>=0.21.0 (from peft==0.10.0)\n",
            "  Downloading accelerate-1.7.0-py3-none-any.whl.metadata (19 kB)\n",
            "Requirement already satisfied: safetensors in c:\\users\\user\\anaconda3\\envs\\nlp\\lib\\site-packages (from peft==0.10.0) (0.5.3)\n",
            "Requirement already satisfied: huggingface-hub>=0.17.0 in c:\\users\\user\\anaconda3\\envs\\nlp\\lib\\site-packages (from peft==0.10.0) (0.33.0)\n",
            "Requirement already satisfied: filelock in c:\\users\\user\\anaconda3\\envs\\nlp\\lib\\site-packages (from huggingface-hub>=0.17.0->peft==0.10.0) (3.18.0)\n",
            "Requirement already satisfied: fsspec>=2023.5.0 in c:\\users\\user\\anaconda3\\envs\\nlp\\lib\\site-packages (from huggingface-hub>=0.17.0->peft==0.10.0) (2025.3.0)\n",
            "Requirement already satisfied: requests in c:\\users\\user\\anaconda3\\envs\\nlp\\lib\\site-packages (from huggingface-hub>=0.17.0->peft==0.10.0) (2.32.3)\n",
            "Requirement already satisfied: typing-extensions>=3.7.4.3 in c:\\users\\user\\anaconda3\\envs\\nlp\\lib\\site-packages (from huggingface-hub>=0.17.0->peft==0.10.0) (4.12.2)\n",
            "Collecting sympy>=1.13.3 (from torch>=1.13.0->peft==0.10.0)\n",
            "  Downloading sympy-1.14.0-py3-none-any.whl.metadata (12 kB)\n",
            "Collecting networkx (from torch>=1.13.0->peft==0.10.0)\n",
            "  Downloading networkx-3.4.2-py3-none-any.whl.metadata (6.3 kB)\n",
            "Requirement already satisfied: jinja2 in c:\\users\\user\\anaconda3\\envs\\nlp\\lib\\site-packages (from torch>=1.13.0->peft==0.10.0) (3.1.6)\n",
            "Collecting mpmath<1.4,>=1.1.0 (from sympy>=1.13.3->torch>=1.13.0->peft==0.10.0)\n",
            "  Downloading mpmath-1.3.0-py3-none-any.whl.metadata (8.6 kB)\n",
            "Requirement already satisfied: colorama in c:\\users\\user\\anaconda3\\envs\\nlp\\lib\\site-packages (from tqdm->peft==0.10.0) (0.4.6)\n",
            "Requirement already satisfied: MarkupSafe>=2.0 in c:\\users\\user\\anaconda3\\envs\\nlp\\lib\\site-packages (from jinja2->torch>=1.13.0->peft==0.10.0) (3.0.2)\n",
            "Requirement already satisfied: charset-normalizer<4,>=2 in c:\\users\\user\\anaconda3\\envs\\nlp\\lib\\site-packages (from requests->huggingface-hub>=0.17.0->peft==0.10.0) (3.3.2)\n",
            "Requirement already satisfied: idna<4,>=2.5 in c:\\users\\user\\anaconda3\\envs\\nlp\\lib\\site-packages (from requests->huggingface-hub>=0.17.0->peft==0.10.0) (3.7)\n",
            "Requirement already satisfied: urllib3<3,>=1.21.1 in c:\\users\\user\\anaconda3\\envs\\nlp\\lib\\site-packages (from requests->huggingface-hub>=0.17.0->peft==0.10.0) (2.3.0)\n",
            "Requirement already satisfied: certifi>=2017.4.17 in c:\\users\\user\\anaconda3\\envs\\nlp\\lib\\site-packages (from requests->huggingface-hub>=0.17.0->peft==0.10.0) (2025.4.26)\n",
            "Requirement already satisfied: regex!=2019.12.17 in c:\\users\\user\\anaconda3\\envs\\nlp\\lib\\site-packages (from transformers->peft==0.10.0) (2024.11.6)\n",
            "Requirement already satisfied: tokenizers!=0.11.3,<0.14,>=0.11.1 in c:\\users\\user\\anaconda3\\envs\\nlp\\lib\\site-packages (from transformers->peft==0.10.0) (0.13.3)\n",
            "Downloading peft-0.10.0-py3-none-any.whl (199 kB)\n",
            "Downloading accelerate-1.7.0-py3-none-any.whl (362 kB)\n",
            "Downloading torch-2.7.1-cp310-cp310-win_amd64.whl (216.1 MB)\n",
            "   ---------------------------------------- 0.0/216.1 MB ? eta -:--:--\n",
            "   ---- ---------------------------------- 23.6/216.1 MB 114.9 MB/s eta 0:00:02\n",
            "   -------- ------------------------------ 46.9/216.1 MB 110.6 MB/s eta 0:00:02\n",
            "   ----------- ---------------------------- 60.3/216.1 MB 96.0 MB/s eta 0:00:02\n",
            "   ------------- -------------------------- 74.4/216.1 MB 89.6 MB/s eta 0:00:02\n",
            "   ---------------- ----------------------- 91.0/216.1 MB 86.6 MB/s eta 0:00:02\n",
            "   ------------------ -------------------- 103.0/216.1 MB 82.2 MB/s eta 0:00:02\n",
            "   --------------------- ----------------- 116.9/216.1 MB 79.4 MB/s eta 0:00:02\n",
            "   ----------------------- --------------- 131.3/216.1 MB 78.4 MB/s eta 0:00:02\n",
            "   -------------------------- ------------ 148.6/216.1 MB 78.5 MB/s eta 0:00:01\n",
            "   ----------------------------- --------- 165.2/216.1 MB 78.1 MB/s eta 0:00:01\n",
            "   -------------------------------- ------ 179.6/216.1 MB 77.0 MB/s eta 0:00:01\n",
            "   ----------------------------------- --- 194.5/216.1 MB 76.7 MB/s eta 0:00:01\n",
            "   ------------------------------------- - 208.4/216.1 MB 75.7 MB/s eta 0:00:01\n",
            "   --------------------------------------  216.0/216.1 MB 75.4 MB/s eta 0:00:01\n",
            "   --------------------------------------  216.0/216.1 MB 75.4 MB/s eta 0:00:01\n",
            "   --------------------------------------  216.0/216.1 MB 75.4 MB/s eta 0:00:01\n",
            "   --------------------------------------  216.0/216.1 MB 75.4 MB/s eta 0:00:01\n",
            "   --------------------------------------  216.0/216.1 MB 75.4 MB/s eta 0:00:01\n",
            "   --------------------------------------  216.0/216.1 MB 75.4 MB/s eta 0:00:01\n",
            "   --------------------------------------  216.0/216.1 MB 75.4 MB/s eta 0:00:01\n",
            "   --------------------------------------  216.0/216.1 MB 75.4 MB/s eta 0:00:01\n",
            "   --------------------------------------  216.0/216.1 MB 75.4 MB/s eta 0:00:01\n",
            "   --------------------------------------  216.0/216.1 MB 75.4 MB/s eta 0:00:01\n",
            "   --------------------------------------  216.0/216.1 MB 75.4 MB/s eta 0:00:01\n",
            "   --------------------------------------  216.0/216.1 MB 75.4 MB/s eta 0:00:01\n",
            "   --------------------------------------  216.0/216.1 MB 75.4 MB/s eta 0:00:01\n",
            "   --------------------------------------  216.0/216.1 MB 75.4 MB/s eta 0:00:01\n",
            "   --------------------------------------  216.0/216.1 MB 75.4 MB/s eta 0:00:01\n",
            "   --------------------------------------  216.0/216.1 MB 75.4 MB/s eta 0:00:01\n",
            "   --------------------------------------  216.0/216.1 MB 75.4 MB/s eta 0:00:01\n",
            "   --------------------------------------  216.0/216.1 MB 75.4 MB/s eta 0:00:01\n",
            "   --------------------------------------  216.0/216.1 MB 75.4 MB/s eta 0:00:01\n",
            "   --------------------------------------  216.0/216.1 MB 75.4 MB/s eta 0:00:01\n",
            "   --------------------------------------  216.0/216.1 MB 75.4 MB/s eta 0:00:01\n",
            "   --------------------------------------  216.0/216.1 MB 75.4 MB/s eta 0:00:01\n",
            "   --------------------------------------  216.0/216.1 MB 75.4 MB/s eta 0:00:01\n",
            "   --------------------------------------  216.0/216.1 MB 75.4 MB/s eta 0:00:01\n",
            "   --------------------------------------  216.0/216.1 MB 75.4 MB/s eta 0:00:01\n",
            "   --------------------------------------- 216.1/216.1 MB 26.9 MB/s eta 0:00:00\n",
            "Downloading sympy-1.14.0-py3-none-any.whl (6.3 MB)\n",
            "   ---------------------------------------- 0.0/6.3 MB ? eta -:--:--\n",
            "   ---------------------------------------  6.3/6.3 MB 64.1 MB/s eta 0:00:01\n",
            "   ---------------------------------------  6.3/6.3 MB 64.1 MB/s eta 0:00:01\n",
            "   ---------------------------------------- 6.3/6.3 MB 11.7 MB/s eta 0:00:00\n",
            "Downloading mpmath-1.3.0-py3-none-any.whl (536 kB)\n",
            "   ---------------------------------------- 0.0/536.2 kB ? eta -:--:--\n",
            "   ---------------------------------------- 536.2/536.2 kB 5.8 MB/s eta 0:00:00\n",
            "Downloading networkx-3.4.2-py3-none-any.whl (1.7 MB)\n",
            "   ---------------------------------------- 0.0/1.7 MB ? eta -:--:--\n",
            "   ------------------------------------ --- 1.6/1.7 MB 87.4 MB/s eta 0:00:01\n",
            "   ---------------------------------------- 1.7/1.7 MB 4.5 MB/s eta 0:00:00\n",
            "Installing collected packages: mpmath, sympy, networkx, torch, accelerate, peft\n",
            "\n",
            "   ---------------------------------------- 0/6 [mpmath]\n",
            "   ---------------------------------------- 0/6 [mpmath]\n",
            "   ---------------------------------------- 0/6 [mpmath]\n",
            "   ---------------------------------------- 0/6 [mpmath]\n",
            "   ---------------------------------------- 0/6 [mpmath]\n",
            "   ---------------------------------------- 0/6 [mpmath]\n",
            "   ---------------------------------------- 0/6 [mpmath]\n",
            "   ---------------------------------------- 0/6 [mpmath]\n",
            "   ------ --------------------------------- 1/6 [sympy]\n",
            "   ------ --------------------------------- 1/6 [sympy]\n",
            "   ------ --------------------------------- 1/6 [sympy]\n",
            "   ------ --------------------------------- 1/6 [sympy]\n",
            "   ------ --------------------------------- 1/6 [sympy]\n",
            "   ------ --------------------------------- 1/6 [sympy]\n",
            "   ------ --------------------------------- 1/6 [sympy]\n",
            "   ------ --------------------------------- 1/6 [sympy]\n",
            "   ------ --------------------------------- 1/6 [sympy]\n",
            "   ------ --------------------------------- 1/6 [sympy]\n",
            "   ------ --------------------------------- 1/6 [sympy]\n",
            "   ------ --------------------------------- 1/6 [sympy]\n",
            "   ------ --------------------------------- 1/6 [sympy]\n",
            "   ------ --------------------------------- 1/6 [sympy]\n",
            "   ------ --------------------------------- 1/6 [sympy]\n",
            "   ------ --------------------------------- 1/6 [sympy]\n",
            "   ------ --------------------------------- 1/6 [sympy]\n",
            "   ------ --------------------------------- 1/6 [sympy]\n",
            "   ------ --------------------------------- 1/6 [sympy]\n",
            "   ------ --------------------------------- 1/6 [sympy]\n",
            "   ------ --------------------------------- 1/6 [sympy]\n",
            "   ------ --------------------------------- 1/6 [sympy]\n",
            "   ------ --------------------------------- 1/6 [sympy]\n",
            "   ------ --------------------------------- 1/6 [sympy]\n",
            "   ------ --------------------------------- 1/6 [sympy]\n",
            "   ------ --------------------------------- 1/6 [sympy]\n",
            "   ------ --------------------------------- 1/6 [sympy]\n",
            "   ------ --------------------------------- 1/6 [sympy]\n",
            "   ------ --------------------------------- 1/6 [sympy]\n",
            "   ------ --------------------------------- 1/6 [sympy]\n",
            "   ------ --------------------------------- 1/6 [sympy]\n",
            "   ------ --------------------------------- 1/6 [sympy]\n",
            "   ------ --------------------------------- 1/6 [sympy]\n",
            "   ------ --------------------------------- 1/6 [sympy]\n",
            "   ------ --------------------------------- 1/6 [sympy]\n",
            "   ------ --------------------------------- 1/6 [sympy]\n",
            "   ------ --------------------------------- 1/6 [sympy]\n",
            "   ------ --------------------------------- 1/6 [sympy]\n",
            "   ------ --------------------------------- 1/6 [sympy]\n",
            "   ------ --------------------------------- 1/6 [sympy]\n",
            "   ------ --------------------------------- 1/6 [sympy]\n",
            "   ------ --------------------------------- 1/6 [sympy]\n",
            "   ------ --------------------------------- 1/6 [sympy]\n",
            "   ------ --------------------------------- 1/6 [sympy]\n",
            "   ------ --------------------------------- 1/6 [sympy]\n",
            "   ------------- -------------------------- 2/6 [networkx]\n",
            "   ------------- -------------------------- 2/6 [networkx]\n",
            "   ------------- -------------------------- 2/6 [networkx]\n",
            "   ------------- -------------------------- 2/6 [networkx]\n",
            "   ------------- -------------------------- 2/6 [networkx]\n",
            "   ------------- -------------------------- 2/6 [networkx]\n",
            "   ------------- -------------------------- 2/6 [networkx]\n",
            "   ------------- -------------------------- 2/6 [networkx]\n",
            "   ------------- -------------------------- 2/6 [networkx]\n",
            "   ------------- -------------------------- 2/6 [networkx]\n",
            "   ------------- -------------------------- 2/6 [networkx]\n",
            "   ------------- -------------------------- 2/6 [networkx]\n",
            "   -------------------- ------------------- 3/6 [torch]\n",
            "   -------------------- ------------------- 3/6 [torch]\n",
            "   -------------------- ------------------- 3/6 [torch]\n",
            "   -------------------- ------------------- 3/6 [torch]\n",
            "   -------------------- ------------------- 3/6 [torch]\n",
            "   -------------------- ------------------- 3/6 [torch]\n",
            "   -------------------- ------------------- 3/6 [torch]\n",
            "   -------------------- ------------------- 3/6 [torch]\n",
            "   -------------------- ------------------- 3/6 [torch]\n",
            "   -------------------- ------------------- 3/6 [torch]\n",
            "   -------------------- ------------------- 3/6 [torch]\n",
            "   -------------------- ------------------- 3/6 [torch]\n",
            "   -------------------- ------------------- 3/6 [torch]\n",
            "   -------------------- ------------------- 3/6 [torch]\n",
            "   -------------------- ------------------- 3/6 [torch]\n",
            "   -------------------- ------------------- 3/6 [torch]\n",
            "   -------------------- ------------------- 3/6 [torch]\n",
            "   -------------------- ------------------- 3/6 [torch]\n",
            "   -------------------- ------------------- 3/6 [torch]\n",
            "   -------------------- ------------------- 3/6 [torch]\n",
            "   -------------------- ------------------- 3/6 [torch]\n",
            "   -------------------- ------------------- 3/6 [torch]\n",
            "   -------------------- ------------------- 3/6 [torch]\n",
            "   -------------------- ------------------- 3/6 [torch]\n",
            "   -------------------- ------------------- 3/6 [torch]\n",
            "   -------------------- ------------------- 3/6 [torch]\n",
            "   -------------------- ------------------- 3/6 [torch]\n",
            "   -------------------- ------------------- 3/6 [torch]\n",
            "   -------------------- ------------------- 3/6 [torch]\n",
            "   -------------------- ------------------- 3/6 [torch]\n",
            "   -------------------- ------------------- 3/6 [torch]\n",
            "   -------------------- ------------------- 3/6 [torch]\n",
            "   -------------------- ------------------- 3/6 [torch]\n",
            "   -------------------- ------------------- 3/6 [torch]\n",
            "   -------------------- ------------------- 3/6 [torch]\n",
            "   -------------------- ------------------- 3/6 [torch]\n",
            "   -------------------- ------------------- 3/6 [torch]\n",
            "   -------------------- ------------------- 3/6 [torch]\n",
            "   -------------------- ------------------- 3/6 [torch]\n",
            "   -------------------- ------------------- 3/6 [torch]\n",
            "   -------------------- ------------------- 3/6 [torch]\n",
            "   -------------------- ------------------- 3/6 [torch]\n",
            "   -------------------- ------------------- 3/6 [torch]\n",
            "   -------------------- ------------------- 3/6 [torch]\n",
            "   -------------------- ------------------- 3/6 [torch]\n",
            "   -------------------- ------------------- 3/6 [torch]\n",
            "   -------------------- ------------------- 3/6 [torch]\n",
            "   -------------------- ------------------- 3/6 [torch]\n",
            "   -------------------- ------------------- 3/6 [torch]\n",
            "   -------------------- ------------------- 3/6 [torch]\n",
            "   -------------------- ------------------- 3/6 [torch]\n",
            "   -------------------- ------------------- 3/6 [torch]\n",
            "   -------------------- ------------------- 3/6 [torch]\n",
            "   -------------------- ------------------- 3/6 [torch]\n",
            "   -------------------- ------------------- 3/6 [torch]\n",
            "   -------------------- ------------------- 3/6 [torch]\n",
            "   -------------------- ------------------- 3/6 [torch]\n",
            "   -------------------- ------------------- 3/6 [torch]\n",
            "   -------------------- ------------------- 3/6 [torch]\n",
            "   -------------------- ------------------- 3/6 [torch]\n",
            "   -------------------- ------------------- 3/6 [torch]\n",
            "   -------------------- ------------------- 3/6 [torch]\n",
            "   -------------------- ------------------- 3/6 [torch]\n",
            "   -------------------- ------------------- 3/6 [torch]\n",
            "   -------------------- ------------------- 3/6 [torch]\n",
            "   -------------------- ------------------- 3/6 [torch]\n",
            "   -------------------- ------------------- 3/6 [torch]\n",
            "   -------------------- ------------------- 3/6 [torch]\n",
            "   -------------------- ------------------- 3/6 [torch]\n",
            "   -------------------- ------------------- 3/6 [torch]\n",
            "   -------------------- ------------------- 3/6 [torch]\n",
            "   -------------------- ------------------- 3/6 [torch]\n",
            "   -------------------- ------------------- 3/6 [torch]\n",
            "   -------------------- ------------------- 3/6 [torch]\n",
            "   -------------------- ------------------- 3/6 [torch]\n",
            "   -------------------- ------------------- 3/6 [torch]\n",
            "   -------------------- ------------------- 3/6 [torch]\n",
            "   -------------------- ------------------- 3/6 [torch]\n",
            "   -------------------- ------------------- 3/6 [torch]\n",
            "   -------------------- ------------------- 3/6 [torch]\n",
            "   -------------------- ------------------- 3/6 [torch]\n",
            "   -------------------- ------------------- 3/6 [torch]\n",
            "   -------------------- ------------------- 3/6 [torch]\n",
            "   -------------------- ------------------- 3/6 [torch]\n",
            "   -------------------- ------------------- 3/6 [torch]\n",
            "   -------------------- ------------------- 3/6 [torch]\n",
            "   -------------------- ------------------- 3/6 [torch]\n",
            "   -------------------- ------------------- 3/6 [torch]\n",
            "   -------------------- ------------------- 3/6 [torch]\n",
            "   -------------------- ------------------- 3/6 [torch]\n",
            "   -------------------- ------------------- 3/6 [torch]\n",
            "   -------------------- ------------------- 3/6 [torch]\n",
            "   -------------------- ------------------- 3/6 [torch]\n",
            "   -------------------- ------------------- 3/6 [torch]\n",
            "   -------------------- ------------------- 3/6 [torch]\n",
            "   -------------------- ------------------- 3/6 [torch]\n",
            "   -------------------- ------------------- 3/6 [torch]\n",
            "   -------------------- ------------------- 3/6 [torch]\n",
            "   -------------------- ------------------- 3/6 [torch]\n",
            "   -------------------- ------------------- 3/6 [torch]\n",
            "   -------------------- ------------------- 3/6 [torch]\n",
            "   -------------------- ------------------- 3/6 [torch]\n",
            "   -------------------- ------------------- 3/6 [torch]\n",
            "   -------------------- ------------------- 3/6 [torch]\n",
            "   -------------------- ------------------- 3/6 [torch]\n",
            "   -------------------- ------------------- 3/6 [torch]\n",
            "   -------------------- ------------------- 3/6 [torch]\n",
            "   -------------------- ------------------- 3/6 [torch]\n",
            "   -------------------- ------------------- 3/6 [torch]\n",
            "   -------------------- ------------------- 3/6 [torch]\n",
            "   -------------------- ------------------- 3/6 [torch]\n",
            "   -------------------- ------------------- 3/6 [torch]\n",
            "   -------------------- ------------------- 3/6 [torch]\n",
            "   -------------------- ------------------- 3/6 [torch]\n",
            "   -------------------- ------------------- 3/6 [torch]\n",
            "   -------------------- ------------------- 3/6 [torch]\n",
            "   -------------------- ------------------- 3/6 [torch]\n",
            "   -------------------- ------------------- 3/6 [torch]\n",
            "   -------------------- ------------------- 3/6 [torch]\n",
            "   -------------------- ------------------- 3/6 [torch]\n",
            "   -------------------- ------------------- 3/6 [torch]\n",
            "   -------------------- ------------------- 3/6 [torch]\n",
            "   -------------------- ------------------- 3/6 [torch]\n",
            "   -------------------- ------------------- 3/6 [torch]\n",
            "   -------------------- ------------------- 3/6 [torch]\n",
            "   -------------------- ------------------- 3/6 [torch]\n",
            "   -------------------- ------------------- 3/6 [torch]\n",
            "   -------------------- ------------------- 3/6 [torch]\n",
            "   -------------------- ------------------- 3/6 [torch]\n",
            "   -------------------- ------------------- 3/6 [torch]\n",
            "   -------------------- ------------------- 3/6 [torch]\n",
            "   -------------------- ------------------- 3/6 [torch]\n",
            "   -------------------- ------------------- 3/6 [torch]\n",
            "   -------------------- ------------------- 3/6 [torch]\n",
            "   -------------------- ------------------- 3/6 [torch]\n",
            "   -------------------- ------------------- 3/6 [torch]\n",
            "   -------------------- ------------------- 3/6 [torch]\n",
            "   -------------------- ------------------- 3/6 [torch]\n",
            "   -------------------- ------------------- 3/6 [torch]\n",
            "   -------------------- ------------------- 3/6 [torch]\n",
            "   -------------------- ------------------- 3/6 [torch]\n",
            "   -------------------- ------------------- 3/6 [torch]\n",
            "   -------------------- ------------------- 3/6 [torch]\n",
            "   -------------------- ------------------- 3/6 [torch]\n",
            "   -------------------- ------------------- 3/6 [torch]\n",
            "   -------------------- ------------------- 3/6 [torch]\n",
            "   -------------------- ------------------- 3/6 [torch]\n",
            "   -------------------- ------------------- 3/6 [torch]\n",
            "   -------------------- ------------------- 3/6 [torch]\n",
            "   -------------------- ------------------- 3/6 [torch]\n",
            "   -------------------- ------------------- 3/6 [torch]\n",
            "   -------------------- ------------------- 3/6 [torch]\n",
            "   -------------------- ------------------- 3/6 [torch]\n",
            "   -------------------- ------------------- 3/6 [torch]\n",
            "   -------------------- ------------------- 3/6 [torch]\n",
            "   -------------------- ------------------- 3/6 [torch]\n",
            "   -------------------- ------------------- 3/6 [torch]\n",
            "   -------------------- ------------------- 3/6 [torch]\n",
            "   -------------------- ------------------- 3/6 [torch]\n",
            "   -------------------- ------------------- 3/6 [torch]\n",
            "   -------------------- ------------------- 3/6 [torch]\n",
            "   -------------------- ------------------- 3/6 [torch]\n",
            "   -------------------- ------------------- 3/6 [torch]\n",
            "   -------------------- ------------------- 3/6 [torch]\n",
            "   -------------------- ------------------- 3/6 [torch]\n",
            "   -------------------- ------------------- 3/6 [torch]\n",
            "   -------------------- ------------------- 3/6 [torch]\n",
            "   -------------------- ------------------- 3/6 [torch]\n",
            "   -------------------- ------------------- 3/6 [torch]\n",
            "   -------------------- ------------------- 3/6 [torch]\n",
            "   -------------------- ------------------- 3/6 [torch]\n",
            "   -------------------- ------------------- 3/6 [torch]\n",
            "   -------------------- ------------------- 3/6 [torch]\n",
            "   -------------------- ------------------- 3/6 [torch]\n",
            "   -------------------- ------------------- 3/6 [torch]\n",
            "   -------------------- ------------------- 3/6 [torch]\n",
            "   -------------------- ------------------- 3/6 [torch]\n",
            "   -------------------- ------------------- 3/6 [torch]\n",
            "   -------------------- ------------------- 3/6 [torch]\n",
            "   -------------------- ------------------- 3/6 [torch]\n",
            "   -------------------- ------------------- 3/6 [torch]\n",
            "   -------------------- ------------------- 3/6 [torch]\n",
            "   -------------------- ------------------- 3/6 [torch]\n",
            "   -------------------- ------------------- 3/6 [torch]\n",
            "   -------------------------- ------------- 4/6 [accelerate]\n",
            "   -------------------------- ------------- 4/6 [accelerate]\n",
            "   --------------------------------- ------ 5/6 [peft]\n",
            "   --------------------------------- ------ 5/6 [peft]\n",
            "   ---------------------------------------- 6/6 [peft]\n",
            "\n",
            "Successfully installed accelerate-1.7.0 mpmath-1.3.0 networkx-3.4.2 peft-0.10.0 sympy-1.14.0 torch-2.7.1\n"
          ]
        }
      ],
      "source": [
        "# Install transformers and thai2transformers\n",
        "!pip install wandb\n",
        "!pip install -q transformers==4.30.1 datasets evaluate thaixtransformers\n",
        "!pip install -q emoji pythainlp sefr_cut tinydb seqeval sentencepiece pydantic jsonlines\n",
        "!pip install peft==0.10.0"
      ]
    },
    {
      "cell_type": "markdown",
      "metadata": {
        "id": "fTgw8WW3BxWZ"
      },
      "source": [
        "## Setup\n",
        "\n",
        "1. Register [Wandb account](https://wandb.ai/login?signup=true) (and confirm your email)\n",
        "\n",
        "2. `wandb login` and copy paste the API key when prompt"
      ]
    },
    {
      "cell_type": "code",
      "execution_count": null,
      "metadata": {
        "id": "4FjMIqhTBfOX"
      },
      "outputs": [
        {
          "name": "stderr",
          "output_type": "stream",
          "text": [
            "wandb: Appending key for api.wandb.ai to your netrc file: C:\\Users\\USER\\_netrc\n",
            "wandb: W&B API key is configured. Use `wandb login --relogin` to force relogin\n"
          ]
        }
      ],
      "source": [
        "!wandb login "
      ]
    },
    {
      "cell_type": "code",
      "execution_count": 10,
      "metadata": {
        "id": "4qSh7MXZB74z"
      },
      "outputs": [],
      "source": [
        "import wandb"
      ]
    },
    {
      "cell_type": "markdown",
      "metadata": {
        "id": "i-BR7danGv6W"
      },
      "source": [
        "We encourage you to login to your `Hugging Face` account so you can upload and share your model with the community. When prompted, enter your token to login"
      ]
    },
    {
      "cell_type": "code",
      "execution_count": 49,
      "metadata": {
        "id": "n7h8NENllZK2"
      },
      "outputs": [
        {
          "data": {
            "application/vnd.jupyter.widget-view+json": {
              "model_id": "a0feb6f851d54ca6a5dc8f1126c5f689",
              "version_major": 2,
              "version_minor": 0
            },
            "text/plain": [
              "VBox(children=(HTML(value='<center> <img\\nsrc=https://huggingface.co/front/assets/huggingface_logo-noborder.sv…"
            ]
          },
          "metadata": {},
          "output_type": "display_data"
        }
      ],
      "source": [
        "from huggingface_hub import notebook_login\n",
        "\n",
        "notebook_login()"
      ]
    },
    {
      "cell_type": "markdown",
      "metadata": {
        "id": "XqkDkseilv19"
      },
      "source": [
        "Download the dataset from Hugging Face"
      ]
    },
    {
      "cell_type": "code",
      "execution_count": 14,
      "metadata": {
        "id": "kRksERXFEngl"
      },
      "outputs": [
        {
          "data": {
            "application/vnd.jupyter.widget-view+json": {
              "model_id": "03e4a63271f54e5ea3b85db57f16d671",
              "version_major": 2,
              "version_minor": 0
            },
            "text/plain": [
              "Downloading data:   0%|          | 0.00/5.24M [00:00<?, ?B/s]"
            ]
          },
          "metadata": {},
          "output_type": "display_data"
        },
        {
          "data": {
            "application/vnd.jupyter.widget-view+json": {
              "model_id": "54b4d75882de453eb108440ae3a552a9",
              "version_major": 2,
              "version_minor": 0
            },
            "text/plain": [
              "Downloading data:   0%|          | 0.00/1.36M [00:00<?, ?B/s]"
            ]
          },
          "metadata": {},
          "output_type": "display_data"
        },
        {
          "data": {
            "application/vnd.jupyter.widget-view+json": {
              "model_id": "ddc747de79534514b9cc185c05815bec",
              "version_major": 2,
              "version_minor": 0
            },
            "text/plain": [
              "Generating train split: 0 examples [00:00, ? examples/s]"
            ]
          },
          "metadata": {},
          "output_type": "display_data"
        },
        {
          "data": {
            "application/vnd.jupyter.widget-view+json": {
              "model_id": "41deeaef3fbe4742aec1a184dcfaa91a",
              "version_major": 2,
              "version_minor": 0
            },
            "text/plain": [
              "Generating test split: 0 examples [00:00, ? examples/s]"
            ]
          },
          "metadata": {},
          "output_type": "display_data"
        }
      ],
      "source": [
        "from datasets import load_dataset\n",
        "\n",
        "orchid = load_dataset(\"Thichow/orchid_corpus\", trust_remote_code=True)"
      ]
    },
    {
      "cell_type": "code",
      "execution_count": 15,
      "metadata": {
        "id": "T_AWd4d5lCYd"
      },
      "outputs": [
        {
          "data": {
            "text/plain": [
              "DatasetDict({\n",
              "    train: Dataset({\n",
              "        features: ['id', 'label_tokens', 'pos_tags', 'sentence'],\n",
              "        num_rows: 18500\n",
              "    })\n",
              "    test: Dataset({\n",
              "        features: ['id', 'label_tokens', 'pos_tags', 'sentence'],\n",
              "        num_rows: 4625\n",
              "    })\n",
              "})"
            ]
          },
          "execution_count": 15,
          "metadata": {},
          "output_type": "execute_result"
        }
      ],
      "source": [
        "orchid"
      ]
    },
    {
      "cell_type": "code",
      "execution_count": 16,
      "metadata": {
        "id": "QNmIqSo0FkAx"
      },
      "outputs": [
        {
          "data": {
            "text/plain": [
              "{'id': '0',\n",
              " 'label_tokens': ['การ', 'ประชุม', 'ทาง', 'วิชาการ', ' ', 'ครั้ง', 'ที่ 1'],\n",
              " 'pos_tags': [21, 39, 26, 26, 37, 4, 18],\n",
              " 'sentence': 'การประชุมทางวิชาการ ครั้งที่ 1'}"
            ]
          },
          "execution_count": 16,
          "metadata": {},
          "output_type": "execute_result"
        }
      ],
      "source": [
        "orchid['train'][0]"
      ]
    },
    {
      "cell_type": "code",
      "execution_count": 17,
      "metadata": {
        "id": "hUuz3dLGlI_S"
      },
      "outputs": [
        {
          "data": {
            "text/plain": [
              "'การประชุมทางวิชาการ ครั้งที่ 1'"
            ]
          },
          "execution_count": 17,
          "metadata": {},
          "output_type": "execute_result"
        }
      ],
      "source": [
        "orchid['train'][0][\"sentence\"]"
      ]
    },
    {
      "cell_type": "code",
      "execution_count": 18,
      "metadata": {
        "id": "bh7fX19zI85W"
      },
      "outputs": [
        {
          "data": {
            "text/plain": [
              "'การประชุมทางวิชาการ ครั้งที่ 1'"
            ]
          },
          "execution_count": 18,
          "metadata": {},
          "output_type": "execute_result"
        }
      ],
      "source": [
        "''.join(orchid['train'][0]['label_tokens'])"
      ]
    },
    {
      "cell_type": "code",
      "execution_count": 19,
      "metadata": {
        "id": "38jM9YcSFmjV"
      },
      "outputs": [
        {
          "name": "stdout",
          "output_type": "stream",
          "text": [
            "total type of pos_tags : 47\n",
            "['ADVI', 'ADVN', 'ADVP', 'ADVS', 'CFQC', 'CLTV', 'CMTR', 'CMTR@PUNC', 'CNIT', 'CVBL', 'DCNM', 'DDAC', 'DDAN', 'DDAQ', 'DDBQ', 'DIAC', 'DIAQ', 'DIBQ', 'DONM', 'EAFF', 'EITT', 'FIXN', 'FIXV', 'JCMP', 'JCRG', 'JSBR', 'NCMN', 'NCNM', 'NEG', 'NLBL', 'NONM', 'NPRP', 'NTTL', 'PDMN', 'PNTR', 'PPRS', 'PREL', 'PUNC', 'RPRE', 'VACT', 'VATT', 'VSTA', 'XVAE', 'XVAM', 'XVBB', 'XVBM', 'XVMM']\n"
          ]
        }
      ],
      "source": [
        "label_list = orchid[\"train\"].features[f\"pos_tags\"].feature.names\n",
        "print('total type of pos_tags :', len(label_list))\n",
        "print(label_list)"
      ]
    },
    {
      "cell_type": "code",
      "execution_count": 20,
      "metadata": {
        "id": "Uf_NDWg7F6z_"
      },
      "outputs": [],
      "source": [
        "import numpy as np\n",
        "import numpy.random\n",
        "import torch\n",
        "\n",
        "from tqdm.auto import tqdm\n",
        "from functools import partial\n",
        "\n",
        "#transformers\n",
        "from transformers import (\n",
        "    CamembertTokenizer,\n",
        "    AutoTokenizer,\n",
        "    AutoModel,\n",
        "    AutoModelForMaskedLM,\n",
        "    AutoModelForSequenceClassification,\n",
        "    AutoModelForTokenClassification,\n",
        "    TrainingArguments,\n",
        "    Trainer,\n",
        "    pipeline,\n",
        ")\n",
        "\n",
        "#thaixtransformers\n",
        "from thaixtransformers import Tokenizer\n",
        "from thaixtransformers.preprocess import process_transformers"
      ]
    },
    {
      "cell_type": "markdown",
      "metadata": {
        "id": "T1suScqmntBW"
      },
      "source": [
        "Next, we load a pretrained tokenizer from Hugging Face. In this work, we utilize WangchanBERTa, a Thai-specific pretrained model, as the tokenizer."
      ]
    },
    {
      "cell_type": "markdown",
      "metadata": {
        "id": "jt3ASYUVm54n"
      },
      "source": [
        "# Choose Pretrained Model"
      ]
    },
    {
      "cell_type": "markdown",
      "metadata": {
        "id": "sFBKLqbIm23-"
      },
      "source": [
        "In this notebook, you can choose from 5 versions of WangchanBERTa, XLMR and mBERT to perform downstream tasks on Thai datasets. The datasets are:\n",
        "\n",
        "* `wangchanberta-base-att-spm-uncased` (recommended) - Largest WangchanBERTa trained on 78.5GB of Assorted Thai Texts with subword tokenizer SentencePiece\n",
        "* `xlm-roberta-base` - Facebook's [XLMR](https://arxiv.org/abs/1911.02116) trained on 100 languages\n",
        "* `bert-base-multilingual-cased` - Google's [mBERT](https://arxiv.org/abs/1911.03310) trained on 104 languages\n",
        "* `wangchanberta-base-wiki-newmm` - WangchanBERTa trained on Thai Wikipedia Dump with PyThaiNLP's word-level tokenizer  `newmm`\n",
        "* `wangchanberta-base-wiki-syllable` - WangchanBERTa trained on Thai Wikipedia Dump with PyThaiNLP's syllabel-level tokenizer `syllable`\n",
        "* `wangchanberta-base-wiki-sefr` - WangchanBERTa trained on Thai Wikipedia Dump with word-level tokenizer  `SEFR`\n",
        "* `wangchanberta-base-wiki-spm` - WangchanBERTa trained on Thai Wikipedia Dump with subword-level tokenizer SentencePiece\n",
        "\n",
        "In the first part, we require you to select the wangchanberta-base-att-spm-uncased."
      ]
    },
    {
      "cell_type": "markdown",
      "metadata": {
        "id": "6HbZo_TZDn17"
      },
      "source": [
        "<b> Learn more about using wangchanberta at [wangchanberta_getting_started_ai_reseach](https://colab.research.google.com/github/PyThaiNLP/thaixtransformers/blob/main/notebooks/wangchanberta_getting_started_aireseach.ipynb?fbclid=IwY2xjawH61XZleHRuA2FlbQIxMAABHZUaAmHobzmCMHpX0EgdLdjDAEwSX0bjqpo5xPUSIx9b4O_dsIvvG8KVNA_aem_IyKkvzy-VPf9k2pYAFf6Nw#scrollTo=n5IaCot9b3cF) <b>\n",
        "\n",
        "\n",
        "\n",
        "*   You need to set the transformers version to transformers==4.30.1.\n",
        "\n"
      ]
    },
    {
      "cell_type": "markdown",
      "metadata": {
        "id": "kl2NposVIh9-"
      },
      "source": [
        "`In the first part, we require you to select the wangchanberta-base-att-spm-uncased.`"
      ]
    },
    {
      "cell_type": "code",
      "execution_count": 21,
      "metadata": {
        "id": "n5IaCot9b3cF"
      },
      "outputs": [
        {
          "name": "stderr",
          "output_type": "stream",
          "text": [
            "c:\\Users\\USER\\anaconda3\\envs\\nlp\\lib\\site-packages\\huggingface_hub\\file_download.py:943: FutureWarning: `resume_download` is deprecated and will be removed in version 1.0.0. Downloads always resume when possible. If you want to force a new download, use `force_download=True`.\n",
            "  warnings.warn(\n"
          ]
        },
        {
          "data": {
            "application/vnd.jupyter.widget-view+json": {
              "model_id": "e1938458865940b886b6a02fdfd0e998",
              "version_major": 2,
              "version_minor": 0
            },
            "text/plain": [
              "sentencepiece.bpe.model:   0%|          | 0.00/905k [00:00<?, ?B/s]"
            ]
          },
          "metadata": {},
          "output_type": "display_data"
        },
        {
          "name": "stderr",
          "output_type": "stream",
          "text": [
            "c:\\Users\\USER\\anaconda3\\envs\\nlp\\lib\\site-packages\\huggingface_hub\\file_download.py:143: UserWarning: `huggingface_hub` cache-system uses symlinks by default to efficiently store duplicated files but your machine does not support them in C:\\Users\\USER\\.cache\\huggingface\\hub\\models--airesearch--wangchanberta-base-att-spm-uncased. Caching files will still work but in a degraded version that might require more space on your disk. This warning can be disabled by setting the `HF_HUB_DISABLE_SYMLINKS_WARNING` environment variable. For more details, see https://huggingface.co/docs/huggingface_hub/how-to-cache#limitations.\n",
            "To support symlinks on Windows, you either need to activate Developer Mode or to run Python as an administrator. In order to activate developer mode, see this article: https://docs.microsoft.com/en-us/windows/apps/get-started/enable-your-device-for-development\n",
            "  warnings.warn(message)\n"
          ]
        },
        {
          "data": {
            "application/vnd.jupyter.widget-view+json": {
              "model_id": "3d5dfb388b2d4b559e4d3ba7f247f399",
              "version_major": 2,
              "version_minor": 0
            },
            "text/plain": [
              "tokenizer_config.json:   0%|          | 0.00/282 [00:00<?, ?B/s]"
            ]
          },
          "metadata": {},
          "output_type": "display_data"
        },
        {
          "data": {
            "application/vnd.jupyter.widget-view+json": {
              "model_id": "3c61f7cfbf1143eeb1f5f5f5029f1a82",
              "version_major": 2,
              "version_minor": 0
            },
            "text/plain": [
              "config.json:   0%|          | 0.00/546 [00:00<?, ?B/s]"
            ]
          },
          "metadata": {},
          "output_type": "display_data"
        },
        {
          "name": "stderr",
          "output_type": "stream",
          "text": [
            "The tokenizer class you load from this checkpoint is not the same type as the class this function is called from. It may result in unexpected tokenization. \n",
            "The tokenizer class you load from this checkpoint is 'CamembertTokenizer'. \n",
            "The class this function is called from is 'WangchanbertaTokenizer'.\n",
            "The tokenizer class you load from this checkpoint is not the same type as the class this function is called from. It may result in unexpected tokenization. \n",
            "The tokenizer class you load from this checkpoint is 'CamembertTokenizer'. \n",
            "The class this function is called from is 'WangchanbertaTokenizer'.\n"
          ]
        }
      ],
      "source": [
        "model_names = [\n",
        "    'airesearch/wangchanberta-base-att-spm-uncased',\n",
        "    'airesearch/wangchanberta-base-wiki-newmm',\n",
        "    'airesearch/wangchanberta-base-wiki-ssg',\n",
        "    'airesearch/wangchanberta-base-wiki-sefr',\n",
        "    'airesearch/wangchanberta-base-wiki-spm',\n",
        "]\n",
        "\n",
        "#@title Choose Pretrained Model\n",
        "model_name = \"airesearch/wangchanberta-base-att-spm-uncased\"\n",
        "\n",
        "#create tokenizer\n",
        "tokenizer = Tokenizer(model_name).from_pretrained(\n",
        "                f'{model_name}',\n",
        "                revision='main',\n",
        "                model_max_length=416,)\n"
      ]
    },
    {
      "cell_type": "markdown",
      "metadata": {
        "id": "LzdbERHLwd0X"
      },
      "source": [
        "Let's try using a pretrained tokenizer."
      ]
    },
    {
      "cell_type": "code",
      "execution_count": 22,
      "metadata": {
        "id": "qwrwXsHFwl-G"
      },
      "outputs": [
        {
          "name": "stdout",
          "output_type": "stream",
          "text": [
            "text : ศิลปะไม่เป็นเจ้านายใคร และไม่เป็นขี้ข้าใคร\n",
            "tokens : ['<s>', '', 'ศิลปะ', 'ไม่เป็น', 'เจ้านาย', 'ใคร', '<_>', 'และ', 'ไม่เป็น', 'ขี้ข้า', 'ใคร', '</s>']\n"
          ]
        }
      ],
      "source": [
        "text = 'ศิลปะไม่เป็นเจ้านายใคร และไม่เป็นขี้ข้าใคร'\n",
        "print('text :', text)\n",
        "tokens = []\n",
        "for i in tokenizer([text], is_split_into_words=True)['input_ids']:\n",
        "  tokens.append(tokenizer.decode(i))\n",
        "print('tokens :', tokens)"
      ]
    },
    {
      "cell_type": "markdown",
      "metadata": {
        "id": "dEQAVqO8pDhK"
      },
      "source": [
        "model : * `wangchanberta-base-att-spm-uncased`\n",
        "\n",
        "First, we print examples of label tokens from our dataset for inspection."
      ]
    },
    {
      "cell_type": "code",
      "execution_count": 23,
      "metadata": {
        "id": "Vw_GdRdlpAhu"
      },
      "outputs": [
        {
          "name": "stdout",
          "output_type": "stream",
          "text": [
            "id : 0\n",
            "label_tokens : ['การ', 'ประชุม', 'ทาง', 'วิชาการ', ' ', 'ครั้ง', 'ที่ 1']\n",
            "pos_tags : [21, 39, 26, 26, 37, 4, 18]\n",
            "sentence : การประชุมทางวิชาการ ครั้งที่ 1\n"
          ]
        }
      ],
      "source": [
        "example = orchid[\"train\"][0]\n",
        "for i in example :\n",
        "    print(i, ':', example[i])"
      ]
    },
    {
      "cell_type": "markdown",
      "metadata": {
        "id": "yTuiwEWkppdA"
      },
      "source": [
        "Then, we use the sentence 'การประชุมทางวิชาการ<space>ครั้งที่ 1' to be tokenized by the pretrained tokenizer model."
      ]
    },
    {
      "cell_type": "code",
      "execution_count": 24,
      "metadata": {
        "id": "BRCxMtHToN16"
      },
      "outputs": [
        {
          "data": {
            "text/plain": [
              "{'input_ids': [5, 10, 882, 8222, 8, 10, 1014, 8, 10, 59, 6], 'attention_mask': [1, 1, 1, 1, 1, 1, 1, 1, 1, 1, 1]}"
            ]
          },
          "execution_count": 24,
          "metadata": {},
          "output_type": "execute_result"
        }
      ],
      "source": [
        "text = 'การประชุมทางวิชาการ ครั้งที่ 1'\n",
        "tokenizer(text)"
      ]
    },
    {
      "cell_type": "markdown",
      "metadata": {
        "id": "kxi8WqZnGa5F"
      },
      "source": [
        "These are already mapped into discrete values. We can uncover the original token text from the tokens by."
      ]
    },
    {
      "cell_type": "code",
      "execution_count": 25,
      "metadata": {
        "id": "optGK_eco3K6"
      },
      "outputs": [
        {
          "name": "stdout",
          "output_type": "stream",
          "text": [
            "<s>\n",
            "▁\n",
            "การประชุม\n",
            "ทางวิชาการ\n",
            "<_>\n",
            "▁\n",
            "ครั้งที่\n",
            "<_>\n",
            "▁\n",
            "1\n",
            "</s>\n"
          ]
        }
      ],
      "source": [
        "for i in tokenizer(text)['input_ids']:\n",
        "  print(tokenizer.convert_ids_to_tokens(i))"
      ]
    },
    {
      "cell_type": "markdown",
      "metadata": {
        "id": "T3l13UKnwK-d"
      },
      "source": [
        "Now let's look at another example."
      ]
    },
    {
      "cell_type": "code",
      "execution_count": 26,
      "metadata": {
        "id": "UyfIR3BowU84"
      },
      "outputs": [
        {
          "name": "stdout",
          "output_type": "stream",
          "text": [
            "sentence : โดยพิจารณาจากพจนานุกรมภาษาคู่ (Bilingual transfer dictionary)\n",
            "tokens : ['<s>', '▁โดย', 'พิจารณาจาก', 'พจนานุกรม', 'ภาษา', 'คู่', '<_>', '▁(', '<unk>', 'i', 'ling', 'ual', '<_>', '▁', 'trans', 'fer', '<_>', '▁', 'di', 'ction', 'ary', ')', '</s>']\n",
            "label tokens : ['โดย', 'พิจารณา', 'จาก', 'พจนานุกรม', 'ภาษา', 'คู่', ' ', '(', 'Bilingual transfer dictionary', ')']\n",
            "label pos : [25, 39, 38, 26, 26, 5, 37, 37, 26, 37]\n"
          ]
        }
      ],
      "source": [
        "example = orchid[\"train\"][1899]\n",
        "print('sentence :', example[\"sentence\"])\n",
        "tokenized_input = tokenizer([example[\"sentence\"]], is_split_into_words=True)\n",
        "tokens = tokenizer.convert_ids_to_tokens(tokenized_input[\"input_ids\"])\n",
        "print('tokens :',tokens)\n",
        "print('label tokens :', example[\"label_tokens\"])\n",
        "print('label pos :', example[\"pos_tags\"])"
      ]
    },
    {
      "cell_type": "markdown",
      "metadata": {
        "id": "cmV6M-vAwew5"
      },
      "source": [
        "Notice how `B` becomes an ``<unk>`` token. This is because this is an uncased model, meaning it only handles small English characters."
      ]
    },
    {
      "cell_type": "markdown",
      "metadata": {
        "id": "WniJR47ww7a0"
      },
      "source": [
        "# #TODO 0\n",
        "\n",
        "Convert the dataset to lowercase."
      ]
    },
    {
      "cell_type": "code",
      "execution_count": 27,
      "metadata": {
        "id": "RQWm_iWBxFQ8"
      },
      "outputs": [],
      "source": [
        "# Create a lowercase dataset for uncased BERT\n",
        "def lower_case_sentences(examples):\n",
        "  lower_cased_examples = examples\n",
        "\n",
        "  # fill code here to lower case the \"sentence\" and \"label_tokens\"\n",
        "  lower_cased_examples[\"sentence\"] = lower_cased_examples[\"sentence\"].lower()\n",
        "  lower_cased_examples[\"label_tokens\"] = [token.lower() for token in lower_cased_examples[\"label_tokens\"]]\n",
        "  return lower_cased_examples"
      ]
    },
    {
      "cell_type": "code",
      "execution_count": 28,
      "metadata": {
        "id": "ndBIqEpWuqBP"
      },
      "outputs": [
        {
          "data": {
            "application/vnd.jupyter.widget-view+json": {
              "model_id": "9e35ab22a3884f1eb0ae43cd5f46e166",
              "version_major": 2,
              "version_minor": 0
            },
            "text/plain": [
              "Map:   0%|          | 0/18500 [00:00<?, ? examples/s]"
            ]
          },
          "metadata": {},
          "output_type": "display_data"
        },
        {
          "data": {
            "application/vnd.jupyter.widget-view+json": {
              "model_id": "a3c0ca87cc3344f6badb651e10789aeb",
              "version_major": 2,
              "version_minor": 0
            },
            "text/plain": [
              "Map:   0%|          | 0/4625 [00:00<?, ? examples/s]"
            ]
          },
          "metadata": {},
          "output_type": "display_data"
        }
      ],
      "source": [
        "orchidl = orchid.map(lower_case_sentences)"
      ]
    },
    {
      "cell_type": "code",
      "execution_count": 29,
      "metadata": {
        "id": "z8xpcCqTrqbc"
      },
      "outputs": [
        {
          "data": {
            "text/plain": [
              "DatasetDict({\n",
              "    train: Dataset({\n",
              "        features: ['id', 'label_tokens', 'pos_tags', 'sentence'],\n",
              "        num_rows: 18500\n",
              "    })\n",
              "    test: Dataset({\n",
              "        features: ['id', 'label_tokens', 'pos_tags', 'sentence'],\n",
              "        num_rows: 4625\n",
              "    })\n",
              "})"
            ]
          },
          "execution_count": 29,
          "metadata": {},
          "output_type": "execute_result"
        }
      ],
      "source": [
        "orchidl"
      ]
    },
    {
      "cell_type": "code",
      "execution_count": 30,
      "metadata": {
        "id": "ecpDHyTPv2py"
      },
      "outputs": [
        {
          "data": {
            "text/plain": [
              "{'id': '1899',\n",
              " 'label_tokens': ['โดย',\n",
              "  'พิจารณา',\n",
              "  'จาก',\n",
              "  'พจนานุกรม',\n",
              "  'ภาษา',\n",
              "  'คู่',\n",
              "  ' ',\n",
              "  '(',\n",
              "  'bilingual transfer dictionary',\n",
              "  ')'],\n",
              " 'pos_tags': [25, 39, 38, 26, 26, 5, 37, 37, 26, 37],\n",
              " 'sentence': 'โดยพิจารณาจากพจนานุกรมภาษาคู่ (bilingual transfer dictionary)'}"
            ]
          },
          "execution_count": 30,
          "metadata": {},
          "output_type": "execute_result"
        }
      ],
      "source": [
        "orchidl[\"train\"][1899]"
      ]
    },
    {
      "cell_type": "markdown",
      "metadata": {
        "id": "rgV4ohz2xTY9"
      },
      "source": [
        "Now let's examine the labels again."
      ]
    },
    {
      "cell_type": "code",
      "execution_count": 31,
      "metadata": {
        "id": "DoUDQzM7q265"
      },
      "outputs": [
        {
          "name": "stdout",
          "output_type": "stream",
          "text": [
            "sentence : โดยพิจารณาจากพจนานุกรมภาษาคู่ (bilingual transfer dictionary)\n",
            "tokens : ['<s>', '▁โดย', 'พิจารณาจาก', 'พจนานุกรม', 'ภาษา', 'คู่', '<_>', '▁(', 'bi', 'ling', 'ual', '<_>', '▁', 'trans', 'fer', '<_>', '▁', 'di', 'ction', 'ary', ')', '</s>']\n",
            "label tokens : ['โดย', 'พิจารณา', 'จาก', 'พจนานุกรม', 'ภาษา', 'คู่', ' ', '(', 'bilingual transfer dictionary', ')']\n",
            "label pos : [25, 39, 38, 26, 26, 5, 37, 37, 26, 37]\n"
          ]
        }
      ],
      "source": [
        "example = orchidl[\"train\"][1899]\n",
        "print('sentence :', example[\"sentence\"])\n",
        "tokenized_input = tokenizer([example[\"sentence\"]], is_split_into_words=True)\n",
        "tokens = tokenizer.convert_ids_to_tokens(tokenized_input[\"input_ids\"])\n",
        "print('tokens :',tokens)\n",
        "print('label tokens :', example[\"label_tokens\"])\n",
        "print('label pos :', example[\"pos_tags\"])"
      ]
    },
    {
      "cell_type": "code",
      "execution_count": 32,
      "metadata": {
        "id": "aEHgBeX7fQFt"
      },
      "outputs": [
        {
          "name": "stdout",
          "output_type": "stream",
          "text": [
            "sentence : การประชุมทางวิชาการ ครั้งที่ 1\n",
            "tokens : ['<s>', '▁', 'การประชุม', 'ทางวิชาการ', '<_>', '▁', 'ครั้งที่', '<_>', '▁', '1', '</s>']\n",
            "label tokens : ['การ', 'ประชุม', 'ทาง', 'วิชาการ', ' ', 'ครั้ง', 'ที่ 1']\n",
            "label pos : [21, 39, 26, 26, 37, 4, 18]\n"
          ]
        }
      ],
      "source": [
        "example = orchidl[\"train\"][0]\n",
        "print('sentence :', example[\"sentence\"])\n",
        "tokenized_input = tokenizer([example[\"sentence\"]], is_split_into_words=True)\n",
        "tokens = tokenizer.convert_ids_to_tokens(tokenized_input[\"input_ids\"])\n",
        "print('tokens :',tokens)\n",
        "print('label tokens :', example[\"label_tokens\"])\n",
        "print('label pos :', example[\"pos_tags\"])"
      ]
    },
    {
      "cell_type": "markdown",
      "metadata": {
        "id": "5dVcLxYbrl4E"
      },
      "source": [
        "In the example above, tokens refer to those tokenized using the pretrained tokenizer, while label tokens refer to tokens tokenized from our dataset."
      ]
    },
    {
      "cell_type": "markdown",
      "metadata": {
        "id": "r1inxbOYuBpB"
      },
      "source": [
        "**Do you see something?**\n",
        "\n",
        "Yes, the tokens from the two tokenizers do not match.\n",
        "\n",
        "- sentence : `การประชุมทางวิชาการ ครั้งที่ 1`\n",
        "\n",
        "---\n",
        "\n",
        "- tokens : `['<s>', '▁', 'การประชุม', 'ทางวิชาการ', '<_>', '▁', 'ครั้งที่', '<_>', '▁', '1', '</s>']`\n",
        "\n",
        "\n",
        "---\n",
        "\n",
        "\n",
        "- label tokens : `['การ', 'ประชุม', 'ทาง', 'วิชาการ', ' ', 'ครั้ง', 'ที่ 1']`\n",
        "- label pos : `[21, 39, 26, 26, 37, 4, 18]`\n",
        "\n",
        "You can see that in our label tokens, 'การ' has a POS tag of 21, and 'ประชุม' has a POS tag of 39. However, when we tokenize the sentence using WangchanBERTa, we get the token 'การประชุม'. What POS tag should we assign to this new token?\n",
        "\n",
        "**What should we do ?**\n",
        "\n",
        "Based on this example, we found that the tokens from the WangchanBERTa do not directly align with our label tokens. This means we cannot directly use the label POS tags. Therefore, we need to reassign POS tags to the tokens produced by WangchanBERTa tokenization. The method we will use is majority voting:\n",
        "- If a token from the WangchanBERTa matches a label token exactly, we will directly assign the POS tag from the label POS.\n",
        "- If the token generated overlaps or combines multiple label tokens, we assign the POS tag based on the number of characters in each token: If the token contains the most characters from any label token, we assign the POS tag from that label token.\n",
        "\n",
        "**Example :**\n",
        "\n",
        "    # \"การประชุม\" (9 chars) is formed from \"การ\" (3 chars) + \"ประชุม\" (6 chars).\n",
        "    # \"การ\" has a POS tag of 21,\n",
        "    # and \"ประชุม\" has a POS tag of 39.\n",
        "    # Therefore, the POS tag for \"การประชุม\" is 39,\n",
        "    # as \"การประชุม\" is derived more from the \"ประชุม\" part than from the \"การ\" part.\n",
        "\n",
        "    # 'ทางวิชาการ' (10 chars) is formed from 'ทาง' (3 chars) + 'วิชาการ' (7 chars)\n",
        "    # \"ทาง\" has a POS tag of 26,\n",
        "    # and \"วิชาการ\" has a POS tag of 2.\n",
        "    # Therefore, the POS tag for \"ทางวิชาการ\" is 2,\n",
        "    # as \"ทางวิชาการ\" is derived more from the \"ทาง\" part than from the \"วิชาการ\" part."
      ]
    },
    {
      "cell_type": "markdown",
      "metadata": {
        "id": "jTkgye8K8sd8"
      },
      "source": [
        "# #TODO 1"
      ]
    },
    {
      "cell_type": "markdown",
      "metadata": {
        "id": "lgU8Nudh2rUJ"
      },
      "source": [
        "`**Warning: Please be careful of <unk>, an unknown word token.**`\n",
        "\n",
        "`**Warning: Please be careful of \" ำ \", the 'am' vowel. WangchanBERTa's internal preprocessing replaces all \" ำ \" to 'ํ' and 'า'**`\n",
        "\n",
        "Assigning the label -100 to the special tokens `[<s>]` and `[</s>]` and `[_]`  so they’re ignored by the PyTorch loss function (see [CrossEntropyLoss](https://pytorch.org/docs/stable/generated/torch.nn.CrossEntropyLoss.html): ignore_index)"
      ]
    },
    {
      "cell_type": "code",
      "execution_count": 35,
      "metadata": {
        "id": "bdxxiUU69lDx"
      },
      "outputs": [],
      "source": [
        "def majority_vote_pos(examples):\n",
        "\n",
        "    ####################################################################################################################\n",
        "    # TO DO: Since the tokens from the output of the pretrained tokenizer\n",
        "    # do not match the tokens in the label tokens of the dataset,\n",
        "    # the task is to create a function to determine the POS tags of the tokens generated by the pretrained tokenizer.\n",
        "    # This should be done by referencing the POS tags in the label tokens. If a token partially overlaps with others,\n",
        "    # the POS tag from the segment with the greater number of characters should be assigned.\n",
        "    #\n",
        "    # Example :\n",
        "    # \"การประชุม\" (9 chars) is formed from \"การ\" (3 chars) + \"ประชุม\" (6 chars).\n",
        "    # \"การ\" has a POS tag of 21,\n",
        "    # and \"ประชุม\" has a POS tag of 39.\n",
        "    # Therefore, the POS tag for \"การประชุม\" is 39,\n",
        "    # as \"การประชุม\" is derived more from the \"ประชุม\" part than from the \"การ\" part.\n",
        "    #\n",
        "    # 'ทางวิชาการ' (10 chars) is formed from 'ทาง' (3 chars) + 'วิชาการ' (7 chars)\n",
        "    # \"ทาง\" has a POS tag of 26,\n",
        "    # and \"วิชาการ\" has a POS tag of 2.\n",
        "    # Therefore, the POS tag for \"ทางวิชาการ\" is 2,\n",
        "    # as \"ทางวิชาการ\" is derived more from the \"ทาง\" part than from the \"วิชาการ\" part.\n",
        "\n",
        "    # tokenize word by pretrained tokenizer\n",
        "    tokenized_inputs = tokenizer([examples[\"sentence\"]], is_split_into_words=True)\n",
        "\n",
        "    # FILL CODE HERE\n",
        "    label_tokens = examples[\"label_tokens\"]\n",
        "    pos_tags = examples[\"pos_tags\"]\n",
        "    new_pos_result = []\n",
        "\n",
        "    new_tokens = tokenizer.convert_ids_to_tokens(tokenized_inputs[\"input_ids\"])\n",
        "\n",
        "    label_idx = 0\n",
        "    i = 0\n",
        "    for t in new_tokens:\n",
        "        if t in [\"<s>\", \"</s>\", \"▁\"]:\n",
        "            new_pos_result.append(-100)\n",
        "            continue\n",
        "\n",
        "        buffer = \"\"\n",
        "        weights = {}\n",
        "        t = t.replace('ํา', \"ำ\")\n",
        "        t = t.replace(\"<_>\", \" \")\n",
        "        if t[0] == \"▁\":\n",
        "            t = t[1:]\n",
        "        while label_tokens[label_idx][i] != t[0]:\n",
        "            i += 1\n",
        "            if i == len(label_tokens[label_idx]):\n",
        "                label_idx += 1\n",
        "                i = 0\n",
        "                \n",
        "        while buffer != t:\n",
        "            buffer += label_tokens[label_idx][i]\n",
        "            if pos_tags[label_idx] not in weights:\n",
        "                weights[pos_tags[label_idx]] = 0\n",
        "            weights[pos_tags[label_idx]] += 1\n",
        "            i += 1\n",
        "            if i == len(label_tokens[label_idx]):\n",
        "                label_idx += 1\n",
        "                i = 0\n",
        "\n",
        "        max_key = max(weights, key=weights.get)\n",
        "        new_pos_result.append(max_key)\n",
        "\n",
        "\n",
        "    tokenized_inputs['tokens'] = new_tokens\n",
        "    tokenized_inputs['labels'] = new_pos_result\n",
        "\n",
        "    return tokenized_inputs\n",
        "    ####################################################################################################################"
      ]
    },
    {
      "cell_type": "code",
      "execution_count": 36,
      "metadata": {
        "id": "doFKOhpbGf9N"
      },
      "outputs": [
        {
          "data": {
            "application/vnd.jupyter.widget-view+json": {
              "model_id": "3090cb26320c40faa282059a081bf312",
              "version_major": 2,
              "version_minor": 0
            },
            "text/plain": [
              "Map:   0%|          | 0/18500 [00:00<?, ? examples/s]"
            ]
          },
          "metadata": {},
          "output_type": "display_data"
        },
        {
          "data": {
            "application/vnd.jupyter.widget-view+json": {
              "model_id": "0d58d211b7ff47e2a50f0ada6d4666bb",
              "version_major": 2,
              "version_minor": 0
            },
            "text/plain": [
              "Map:   0%|          | 0/4625 [00:00<?, ? examples/s]"
            ]
          },
          "metadata": {},
          "output_type": "display_data"
        }
      ],
      "source": [
        "tokenized_orchid = orchidl.map(majority_vote_pos)"
      ]
    },
    {
      "cell_type": "code",
      "execution_count": 37,
      "metadata": {
        "id": "uvdDnWeOJYpv"
      },
      "outputs": [
        {
          "data": {
            "text/plain": [
              "DatasetDict({\n",
              "    train: Dataset({\n",
              "        features: ['id', 'label_tokens', 'pos_tags', 'sentence', 'input_ids', 'attention_mask', 'tokens', 'labels'],\n",
              "        num_rows: 18500\n",
              "    })\n",
              "    test: Dataset({\n",
              "        features: ['id', 'label_tokens', 'pos_tags', 'sentence', 'input_ids', 'attention_mask', 'tokens', 'labels'],\n",
              "        num_rows: 4625\n",
              "    })\n",
              "})"
            ]
          },
          "execution_count": 37,
          "metadata": {},
          "output_type": "execute_result"
        }
      ],
      "source": [
        "tokenized_orchid"
      ]
    },
    {
      "cell_type": "code",
      "execution_count": 38,
      "metadata": {
        "id": "ojrRF85dJbwf"
      },
      "outputs": [
        {
          "data": {
            "text/plain": [
              "{'id': '0',\n",
              " 'label_tokens': ['การ', 'ประชุม', 'ทาง', 'วิชาการ', ' ', 'ครั้ง', 'ที่ 1'],\n",
              " 'pos_tags': [21, 39, 26, 26, 37, 4, 18],\n",
              " 'sentence': 'การประชุมทางวิชาการ ครั้งที่ 1',\n",
              " 'input_ids': [5, 10, 882, 8222, 8, 10, 1014, 8, 10, 59, 6],\n",
              " 'attention_mask': [1, 1, 1, 1, 1, 1, 1, 1, 1, 1, 1],\n",
              " 'tokens': ['<s>',\n",
              "  '▁',\n",
              "  'การประชุม',\n",
              "  'ทางวิชาการ',\n",
              "  '<_>',\n",
              "  '▁',\n",
              "  'ครั้งที่',\n",
              "  '<_>',\n",
              "  '▁',\n",
              "  '1',\n",
              "  '</s>'],\n",
              " 'labels': [-100, -100, 39, 26, 37, -100, 4, 18, -100, 18, -100]}"
            ]
          },
          "execution_count": 38,
          "metadata": {},
          "output_type": "execute_result"
        }
      ],
      "source": [
        "tokenized_orchid['train'][0]"
      ]
    },
    {
      "cell_type": "code",
      "execution_count": 39,
      "metadata": {
        "id": "KMfzFnjSdCGI"
      },
      "outputs": [
        {
          "name": "stdout",
          "output_type": "stream",
          "text": [
            "id : 0\n",
            "label_tokens : ['การ', 'ประชุม', 'ทาง', 'วิชาการ', ' ', 'ครั้ง', 'ที่ 1']\n",
            "pos_tags : [21, 39, 26, 26, 37, 4, 18]\n",
            "sentence : การประชุมทางวิชาการ ครั้งที่ 1\n",
            "input_ids : [5, 10, 882, 8222, 8, 10, 1014, 8, 10, 59, 6]\n",
            "attention_mask : [1, 1, 1, 1, 1, 1, 1, 1, 1, 1, 1]\n",
            "tokens : ['<s>', '▁', 'การประชุม', 'ทางวิชาการ', '<_>', '▁', 'ครั้งที่', '<_>', '▁', '1', '</s>']\n",
            "labels : [-100, -100, 39, 26, 37, -100, 4, 18, -100, 18, -100]\n"
          ]
        }
      ],
      "source": [
        "example = tokenized_orchid[\"train\"][0]\n",
        "for i in example :\n",
        "    print(i, \":\", example[i])"
      ]
    },
    {
      "cell_type": "markdown",
      "metadata": {
        "id": "9lhsQcdL6H3J"
      },
      "source": [
        "This is the result after we realigned the POS based on the majority vote.\n",
        "- label_tokens : `['การ', 'ประชุม', 'ทาง', 'วิชาการ', ' ', 'ครั้ง', 'ที่ 1']`\n",
        "- pos_tags : `[21, 39, 26, 26, 37, 4, 18]`\n",
        "- tokens : `['<s>', '▁', 'การประชุม', 'ทางวิชาการ', '<_>', '▁', 'ครั้งที่', '<_>', '▁', '1', '</s>']`\n",
        "- labels : `[-100, -100, 39, 26, 37, -100, 4, 18, -100, 18, -100]`\n",
        "\n",
        "`['<s>', '▁', '</s>'] : -100`\n",
        "\n",
        "**Check :**\n",
        "\n",
        "> \"การประชุม\" (9 chars) is formed from \"การ\" (3 chars) + \"ประชุม\" (6 chars).\n",
        "\n",
        "\n",
        "> \"การ\" has a POS tag of 21,\n",
        "\n",
        "> and \"ประชุม\" has a POS tag of 39.\n",
        "\n",
        "> Therefore, the POS tag for \"การประชุม\" is 39,\n",
        "\n",
        "> as \"การประชุม\" is derived more from the \"ประชุม\" part than from the \"การ\" part.\n",
        "\n",
        "\n",
        "\n"
      ]
    },
    {
      "cell_type": "code",
      "execution_count": 40,
      "metadata": {
        "id": "iOE5CEgZdO9c"
      },
      "outputs": [
        {
          "name": "stdout",
          "output_type": "stream",
          "text": [
            "id : 1899\n",
            "label_tokens : ['โดย', 'พิจารณา', 'จาก', 'พจนานุกรม', 'ภาษา', 'คู่', ' ', '(', 'bilingual transfer dictionary', ')']\n",
            "pos_tags : [25, 39, 38, 26, 26, 5, 37, 37, 26, 37]\n",
            "sentence : โดยพิจารณาจากพจนานุกรมภาษาคู่ (bilingual transfer dictionary)\n",
            "input_ids : [5, 489, 15617, 19737, 958, 493, 8, 1241, 4906, 11608, 12177, 8, 10, 11392, 9806, 8, 10, 2951, 15779, 8001, 29, 6]\n",
            "attention_mask : [1, 1, 1, 1, 1, 1, 1, 1, 1, 1, 1, 1, 1, 1, 1, 1, 1, 1, 1, 1, 1, 1]\n",
            "tokens : ['<s>', '▁โดย', 'พิจารณาจาก', 'พจนานุกรม', 'ภาษา', 'คู่', '<_>', '▁(', 'bi', 'ling', 'ual', '<_>', '▁', 'trans', 'fer', '<_>', '▁', 'di', 'ction', 'ary', ')', '</s>']\n",
            "labels : [-100, 25, 39, 26, 26, 5, 37, 37, 26, 26, 26, 26, -100, 26, 26, 26, -100, 26, 26, 26, 37, -100]\n"
          ]
        }
      ],
      "source": [
        "# hard test case\n",
        "example = tokenized_orchid[\"train\"][1899]\n",
        "for i in example :\n",
        "    print(i, \":\", example[i])"
      ]
    },
    {
      "cell_type": "markdown",
      "metadata": {
        "id": "Fv_NkVQ6qsJe"
      },
      "source": [
        "Expected output\n",
        "\n",
        "\n",
        "```\n",
        "id : 1899\n",
        "label_tokens : ['โดย', 'พิจารณา', 'จาก', 'พจนานุกรม', 'ภาษา', 'คู่', ' ', '(', 'bilingual transfer dictionary', ')']\n",
        "pos_tags : [25, 39, 38, 26, 26, 5, 37, 37, 26, 37]\n",
        "sentence : โดยพิจารณาจากพจนานุกรมภาษาคู่ (bilingual transfer dictionary)\n",
        "input_ids : [5, 489, 15617, 19737, 958, 493, 8, 1241, 4906, 11608, 12177, 8, 10, 11392, 9806, 8, 10, 2951, 15779, 8001, 29, 6]\n",
        "attention_mask : [1, 1, 1, 1, 1, 1, 1, 1, 1, 1, 1, 1, 1, 1, 1, 1, 1, 1, 1, 1, 1, 1]\n",
        "tokens : ['<s>', '▁โดย', 'พิจารณาจาก', 'พจนานุกรม', 'ภาษา', 'คู่', '<_>', '▁(', 'bi', 'ling', 'ual', '<_>', '▁', 'trans', 'fer', '<_>', '▁', 'di', 'ction', 'ary', ')', '</s>']\n",
        "labels : [-100, 25, 39, 26, 26, 5, 37, 37, 26, 26, 26, 26, -100, 26, 26, 26, -100, 26, 26, 26, 37, -100]\n",
        "```"
      ]
    },
    {
      "cell_type": "markdown",
      "metadata": {
        "id": "0pwADd1a85bn"
      },
      "source": [
        "# Train and Evaluate model"
      ]
    },
    {
      "cell_type": "markdown",
      "metadata": {
        "id": "TsnlIUJvYEy2"
      },
      "source": [
        "We will create a batch of examples using [DataCollatorWithPadding.](https://huggingface.co/docs/transformers/v4.48.0/en/main_classes/data_collator#transformers.DataCollatorWithPadding)  \n",
        "\n",
        "Data collators are objects that will form a batch by using a list of dataset elements as input. These elements are of the same type as the elements of train_dataset or eval_dataset.\n",
        "\n",
        "DataCollatorWithPadding will help us pad the sentences to the longest length in a batch during collation, instead of padding the whole dataset to the maximum length. This allows for efficient computation during each batch.\n",
        "\n",
        "*   DataCollatorForTokenClassification : `padding (bool, str or PaddingStrategy, optional, defaults to True)`\n",
        "*   `True` or `'longest'` (default): Pad to the longest sequence in the batch (or no padding if only a single sequence is provided).\n",
        "\n"
      ]
    },
    {
      "cell_type": "code",
      "execution_count": 41,
      "metadata": {
        "id": "CcAY4-E2J6e5"
      },
      "outputs": [],
      "source": [
        "from transformers import DataCollatorForTokenClassification\n",
        "\n",
        "data_collator = DataCollatorForTokenClassification(tokenizer=tokenizer)"
      ]
    },
    {
      "cell_type": "markdown",
      "metadata": {
        "id": "jg4v14KcElbY"
      },
      "source": [
        "For evaluating your model’s performance. You can quickly load a evaluation method with the [Evaluate](https://huggingface.co/docs/evaluate/index) library. For this task, load the [seqeval](https://huggingface.co/spaces/evaluate-metric/seqeval) framework (see the Evaluate [quick tour](https://huggingface.co/docs/evaluate/a_quick_tour) to learn more about how to load and compute a metric). Seqeval actually produces several scores: precision, recall, F1, and accuracy."
      ]
    },
    {
      "cell_type": "code",
      "execution_count": 42,
      "metadata": {
        "id": "cZk3PjndK-Q8"
      },
      "outputs": [
        {
          "data": {
            "application/vnd.jupyter.widget-view+json": {
              "model_id": "40cf20ea94784920881c39e672c6e0d1",
              "version_major": 2,
              "version_minor": 0
            },
            "text/plain": [
              "Downloading builder script:   0%|          | 0.00/6.34k [00:00<?, ?B/s]"
            ]
          },
          "metadata": {},
          "output_type": "display_data"
        }
      ],
      "source": [
        "import evaluate\n",
        "\n",
        "seqeval = evaluate.load(\"seqeval\")"
      ]
    },
    {
      "cell_type": "markdown",
      "metadata": {
        "id": "FllGDNO5RUIA"
      },
      "source": [
        "Huggingface requires us to write a ``compute_metrics()`` function. This will be invoked when huggingface evalutes a model.\n",
        "\n",
        "Note that we ignore to evaluate on -100 labels."
      ]
    },
    {
      "cell_type": "code",
      "execution_count": 43,
      "metadata": {
        "id": "vDwNPItNLTM1"
      },
      "outputs": [],
      "source": [
        "import numpy as np\n",
        "import warnings\n",
        "\n",
        "\n",
        "def compute_metrics(p):\n",
        "    predictions, labels = p\n",
        "    predictions = np.argmax(predictions, axis=2)\n",
        "\n",
        "    true_predictions = [\n",
        "        [label_list[p] for (p, l) in zip(prediction, label) if l != -100]\n",
        "        for prediction, label in zip(predictions, labels)\n",
        "    ]\n",
        "    true_labels = [\n",
        "        [label_list[l] for (p, l) in zip(prediction, label) if l != -100]\n",
        "        for prediction, label in zip(predictions, labels)\n",
        "    ]\n",
        "\n",
        "    with warnings.catch_warnings():\n",
        "        warnings.filterwarnings(\"ignore\")\n",
        "        results = seqeval.compute(predictions=true_predictions, references=true_labels)\n",
        "    return {\n",
        "        \"precision\": results[\"overall_precision\"],\n",
        "        \"recall\": results[\"overall_recall\"],\n",
        "        \"f1\": results[\"overall_f1\"],\n",
        "        \"accuracy\": results[\"overall_accuracy\"],\n",
        "    }"
      ]
    },
    {
      "cell_type": "markdown",
      "metadata": {
        "id": "kt13vTldvTw4"
      },
      "source": [
        "The total number of labels in our POS tag set."
      ]
    },
    {
      "cell_type": "code",
      "execution_count": 44,
      "metadata": {
        "id": "JD84B79-Lxwf"
      },
      "outputs": [
        {
          "data": {
            "text/plain": [
              "{'ADVI': 0,\n",
              " 'ADVN': 1,\n",
              " 'ADVP': 2,\n",
              " 'ADVS': 3,\n",
              " 'CFQC': 4,\n",
              " 'CLTV': 5,\n",
              " 'CMTR': 6,\n",
              " 'CMTR@PUNC': 7,\n",
              " 'CNIT': 8,\n",
              " 'CVBL': 9,\n",
              " 'DCNM': 10,\n",
              " 'DDAC': 11,\n",
              " 'DDAN': 12,\n",
              " 'DDAQ': 13,\n",
              " 'DDBQ': 14,\n",
              " 'DIAC': 15,\n",
              " 'DIAQ': 16,\n",
              " 'DIBQ': 17,\n",
              " 'DONM': 18,\n",
              " 'EAFF': 19,\n",
              " 'EITT': 20,\n",
              " 'FIXN': 21,\n",
              " 'FIXV': 22,\n",
              " 'JCMP': 23,\n",
              " 'JCRG': 24,\n",
              " 'JSBR': 25,\n",
              " 'NCMN': 26,\n",
              " 'NCNM': 27,\n",
              " 'NEG': 28,\n",
              " 'NLBL': 29,\n",
              " 'NONM': 30,\n",
              " 'NPRP': 31,\n",
              " 'NTTL': 32,\n",
              " 'PDMN': 33,\n",
              " 'PNTR': 34,\n",
              " 'PPRS': 35,\n",
              " 'PREL': 36,\n",
              " 'PUNC': 37,\n",
              " 'RPRE': 38,\n",
              " 'VACT': 39,\n",
              " 'VATT': 40,\n",
              " 'VSTA': 41,\n",
              " 'XVAE': 42,\n",
              " 'XVAM': 43,\n",
              " 'XVBB': 44,\n",
              " 'XVBM': 45,\n",
              " 'XVMM': 46}"
            ]
          },
          "execution_count": 44,
          "metadata": {},
          "output_type": "execute_result"
        }
      ],
      "source": [
        "id2label = {\n",
        "    0: 'ADVI',\n",
        "    1: 'ADVN',\n",
        "    2: 'ADVP',\n",
        "    3: 'ADVS',\n",
        "    4: 'CFQC',\n",
        "    5: 'CLTV',\n",
        "    6: 'CMTR',\n",
        "    7: 'CMTR@PUNC',\n",
        "    8: 'CNIT',\n",
        "    9: 'CVBL',\n",
        "    10: 'DCNM',\n",
        "    11: 'DDAC',\n",
        "    12: 'DDAN',\n",
        "    13: 'DDAQ',\n",
        "    14: 'DDBQ',\n",
        "    15: 'DIAC',\n",
        "    16: 'DIAQ',\n",
        "    17: 'DIBQ',\n",
        "    18: 'DONM',\n",
        "    19: 'EAFF',\n",
        "    20: 'EITT',\n",
        "    21: 'FIXN',\n",
        "    22: 'FIXV',\n",
        "    23: 'JCMP',\n",
        "    24: 'JCRG',\n",
        "    25: 'JSBR',\n",
        "    26: 'NCMN',\n",
        "    27: 'NCNM',\n",
        "    28: 'NEG',\n",
        "    29: 'NLBL',\n",
        "    30: 'NONM',\n",
        "    31: 'NPRP',\n",
        "    32: 'NTTL',\n",
        "    33: 'PDMN',\n",
        "    34: 'PNTR',\n",
        "    35: 'PPRS',\n",
        "    36: 'PREL',\n",
        "    37: 'PUNC',\n",
        "    38: 'RPRE',\n",
        "    39: 'VACT',\n",
        "    40: 'VATT',\n",
        "    41: 'VSTA',\n",
        "    42: 'XVAE',\n",
        "    43: 'XVAM',\n",
        "    44: 'XVBB',\n",
        "    45: 'XVBM',\n",
        "    46: 'XVMM',\n",
        "    # 47: 'O'\n",
        "}\n",
        "label2id = {}\n",
        "for k, v in id2label.items() :\n",
        "    label2id[v] = k\n",
        "\n",
        "label2id"
      ]
    },
    {
      "cell_type": "code",
      "execution_count": 45,
      "metadata": {
        "id": "mQtGN8QQQLME"
      },
      "outputs": [
        {
          "data": {
            "text/plain": [
              "['ADVI',\n",
              " 'ADVN',\n",
              " 'ADVP',\n",
              " 'ADVS',\n",
              " 'CFQC',\n",
              " 'CLTV',\n",
              " 'CMTR',\n",
              " 'CMTR@PUNC',\n",
              " 'CNIT',\n",
              " 'CVBL',\n",
              " 'DCNM',\n",
              " 'DDAC',\n",
              " 'DDAN',\n",
              " 'DDAQ',\n",
              " 'DDBQ',\n",
              " 'DIAC',\n",
              " 'DIAQ',\n",
              " 'DIBQ',\n",
              " 'DONM',\n",
              " 'EAFF',\n",
              " 'EITT',\n",
              " 'FIXN',\n",
              " 'FIXV',\n",
              " 'JCMP',\n",
              " 'JCRG',\n",
              " 'JSBR',\n",
              " 'NCMN',\n",
              " 'NCNM',\n",
              " 'NEG',\n",
              " 'NLBL',\n",
              " 'NONM',\n",
              " 'NPRP',\n",
              " 'NTTL',\n",
              " 'PDMN',\n",
              " 'PNTR',\n",
              " 'PPRS',\n",
              " 'PREL',\n",
              " 'PUNC',\n",
              " 'RPRE',\n",
              " 'VACT',\n",
              " 'VATT',\n",
              " 'VSTA',\n",
              " 'XVAE',\n",
              " 'XVAM',\n",
              " 'XVBB',\n",
              " 'XVBM',\n",
              " 'XVMM']"
            ]
          },
          "execution_count": 45,
          "metadata": {},
          "output_type": "execute_result"
        }
      ],
      "source": [
        "labels = [i for i in id2label.values()]\n",
        "labels"
      ]
    },
    {
      "cell_type": "markdown",
      "metadata": {
        "id": "Nu7Z3QH_BJe4"
      },
      "source": [
        "## Load pretrained model"
      ]
    },
    {
      "cell_type": "markdown",
      "metadata": {
        "id": "cBYlcF-gDZcF"
      },
      "source": [
        "Select a pretrained model for fine-tuning to develop a POS Tagger model using the Orchid corpus dataset.\n",
        "\n",
        "\n",
        "\n",
        "*   model : `wangchanberta-base-att-spm-uncased`\n",
        "*   Don't forget to update the num_labels.\n",
        "\n",
        "You’re ready to start training your model now! Load pretrained model with AutoModelForTokenClassification along with the number of expected labels, and the label mappings:\n",
        "\n",
        "\n"
      ]
    },
    {
      "cell_type": "markdown",
      "metadata": {
        "id": "6OOu8s-mO_Fw"
      },
      "source": [
        "`In the first part, we require you to select the wangchanberta-base-att-spm-uncased.`"
      ]
    },
    {
      "cell_type": "code",
      "execution_count": 47,
      "metadata": {
        "id": "OOsnubHyDMmA"
      },
      "outputs": [
        {
          "name": "stderr",
          "output_type": "stream",
          "text": [
            "Some weights of the model checkpoint at airesearch/wangchanberta-base-att-spm-uncased were not used when initializing CamembertForTokenClassification: ['lm_head.bias', 'lm_head.layer_norm.weight', 'lm_head.dense.weight', 'lm_head.layer_norm.bias', 'lm_head.dense.bias']\n",
            "- This IS expected if you are initializing CamembertForTokenClassification from the checkpoint of a model trained on another task or with another architecture (e.g. initializing a BertForSequenceClassification model from a BertForPreTraining model).\n",
            "- This IS NOT expected if you are initializing CamembertForTokenClassification from the checkpoint of a model that you expect to be exactly identical (initializing a BertForSequenceClassification model from a BertForSequenceClassification model).\n",
            "Some weights of CamembertForTokenClassification were not initialized from the model checkpoint at airesearch/wangchanberta-base-att-spm-uncased and are newly initialized: ['classifier.bias', 'classifier.weight']\n",
            "You should probably TRAIN this model on a down-stream task to be able to use it for predictions and inference.\n"
          ]
        }
      ],
      "source": [
        "model_names = [\n",
        "    'wangchanberta-base-att-spm-uncased',\n",
        "    'wangchanberta-base-wiki-newmm',\n",
        "    'wangchanberta-base-wiki-ssg',\n",
        "    'wangchanberta-base-wiki-sefr',\n",
        "    'wangchanberta-base-wiki-spm',\n",
        "]\n",
        "\n",
        "#@title Choose Pretrained Model\n",
        "model_name = \"wangchanberta-base-att-spm-uncased\"\n",
        "\n",
        "#create model\n",
        "model = AutoModelForTokenClassification.from_pretrained(\n",
        "    f\"airesearch/{model_name}\",\n",
        "    revision='main',\n",
        "    num_labels=47, id2label=id2label, label2id=label2id\n",
        ")\n"
      ]
    },
    {
      "cell_type": "markdown",
      "metadata": {
        "id": "-H2OExQrCAfX"
      },
      "source": [
        "### #TODO 2"
      ]
    },
    {
      "cell_type": "markdown",
      "metadata": {
        "id": "FBZKrz8nFXyT"
      },
      "source": [
        "* Configure your training hyperparameters using `**TrainingArguments**`. The only required parameter is is `output_dir`, which determines the directory where your model will be saved. To upload the model to the Hugging Face Hub, set push_to_hub=True (note: you must be logged into Hugging Face for this). During training, the Trainer will compute seqeval metrics at the end of each epoch and store the training checkpoint.\n",
        "* Provide the `**Trainer**` with the training arguments, as well as the model, dataset, tokenizer, data collator, and compute_metrics function.\n",
        "* Use `**train()**` to fine-tune the model.\n",
        "\n",
        "\n",
        "Read [huggingface's tutorial](https://huggingface.co/docs/transformers/en/tasks/token_classification) for more details."
      ]
    },
    {
      "cell_type": "code",
      "execution_count": null,
      "metadata": {
        "id": "gMUkNHNrCwsl"
      },
      "outputs": [],
      "source": [
        "training_args = TrainingArguments(\n",
        "    #########################\n",
        "    output_dir=\"pos-spm-uncased\",\n",
        "    learning_rate=2e-5,\n",
        "    per_device_train_batch_size=32,\n",
        "    per_device_eval_batch_size=32,\n",
        "    num_train_epochs=2,\n",
        "    weight_decay=0.01,\n",
        "    push_to_hub=True\n",
        "    #########################\n",
        ")\n",
        "\n",
        "trainer = Trainer(\n",
        "    #########################\n",
        "    model=model,\n",
        "    args=training_args,\n",
        "    train_dataset=tokenized_orchid[\"train\"],\n",
        "    eval_dataset=tokenized_orchid[\"test\"],\n",
        "    data_collator=data_collator,\n",
        "    compute_metrics=compute_metrics,\n",
        "    ########################\n",
        ")\n",
        "\n",
        "trainer.train()"
      ]
    },
    {
      "cell_type": "markdown",
      "metadata": {
        "id": "XiXUG6aakihd"
      },
      "source": [
        "# Inference"
      ]
    },
    {
      "cell_type": "markdown",
      "metadata": {
        "id": "2OPVknoQk4wL"
      },
      "source": [
        "With your model fine-tuned, you can now perform inference."
      ]
    },
    {
      "cell_type": "code",
      "execution_count": null,
      "metadata": {
        "id": "mMyq6I9CkZ1R"
      },
      "outputs": [],
      "source": [
        "text = \"การประชุมทางวิชาการ ครั้งที่ 1\""
      ]
    },
    {
      "cell_type": "markdown",
      "metadata": {
        "id": "FL5qxD3EPLFt"
      },
      "source": [
        "`In the first part, we require you to select the wangchanberta-base-att-spm-uncased.`"
      ]
    },
    {
      "cell_type": "code",
      "execution_count": null,
      "metadata": {
        "id": "sKgM-EaGfxA4"
      },
      "outputs": [],
      "source": [
        "from transformers import AutoTokenizer\n",
        "\n",
        "# Load pretrained tokenizer from Hugging Face\n",
        "#@title Choose Pretrained Model\n",
        "model_name = \"airesearch/wangchanberta-base-att-spm-uncased\"\n",
        "\n",
        "tokenizer = Tokenizer(model_name).from_pretrained(model_name)\n",
        "inputs = tokenizer(text, return_tensors=\"pt\")"
      ]
    },
    {
      "cell_type": "code",
      "execution_count": null,
      "metadata": {
        "id": "PcRf-Q9nf4-t"
      },
      "outputs": [],
      "source": [
        "inputs"
      ]
    },
    {
      "cell_type": "code",
      "execution_count": null,
      "metadata": {
        "id": "6ADY5OuqkkHb"
      },
      "outputs": [],
      "source": [
        "from transformers import AutoModelForTokenClassification\n",
        "\n",
        "## Load your fine-tuned model from Hugging Face\n",
        "model = AutoModelForTokenClassification.from_pretrained(\"YOUR/MODEL_PATH\") ## your model path from Hugging Face\n",
        "with torch.no_grad():\n",
        "    logits = model(**inputs).logits"
      ]
    },
    {
      "cell_type": "code",
      "execution_count": null,
      "metadata": {
        "id": "AACsd7VZgT1E"
      },
      "outputs": [],
      "source": [
        "predictions = torch.argmax(logits, dim=2)\n",
        "predicted_token_class = [model.config.id2label[t.item()] for t in predictions[0]]\n",
        "predicted_token_class"
      ]
    },
    {
      "cell_type": "code",
      "execution_count": null,
      "metadata": {
        "id": "kJKGbf4Rk0c9"
      },
      "outputs": [],
      "source": [
        "id2label"
      ]
    },
    {
      "cell_type": "code",
      "execution_count": null,
      "metadata": {
        "id": "6OikBqcKTcUY"
      },
      "outputs": [],
      "source": [
        "# Inference\n",
        "# ignore special tokens\n",
        "text = 'จะว่าไปแล้วเชิงเทียนของผมก็สวยดีเหมือนกัน'\n",
        "inputs = tokenizer(text, return_tensors=\"pt\")\n",
        "tokenized_input = tokenizer([text], is_split_into_words=True)\n",
        "tokens = tokenizer.convert_ids_to_tokens(tokenized_input[\"input_ids\"])\n",
        "print('tokens :', tokens)\n",
        "with torch.no_grad():\n",
        "    logits = model(**inputs).logits\n",
        "predictions = torch.argmax(logits, dim=2)\n",
        "predicted_token_class = [model.config.id2label[t.item()] for t in predictions[0]]\n",
        "print('predict pos :', predicted_token_class)"
      ]
    },
    {
      "cell_type": "markdown",
      "metadata": {
        "id": "D-TtwYTCXs2O"
      },
      "source": [
        "**Evaluate model :**\n",
        "\n",
        "The output from the model is a softmax over classes. We choose the maximum class as the answer for evaluation. Again, we will ignore the -100 labels."
      ]
    },
    {
      "cell_type": "code",
      "execution_count": null,
      "metadata": {
        "id": "Hm_adLrcXyOe"
      },
      "outputs": [],
      "source": [
        "import pandas as pd\n",
        "from IPython.display import display\n",
        "\n",
        "def evaluation_report(y_true, y_pred, get_only_acc=False):\n",
        "    # retrieve all tags in y_true\n",
        "    tag_set = set()\n",
        "    for sent in y_true:\n",
        "        for tag in sent:\n",
        "            tag_set.add(tag)\n",
        "    for sent in y_pred:\n",
        "        for tag in sent:\n",
        "            tag_set.add(tag)\n",
        "    tag_list = sorted(list(tag_set))\n",
        "\n",
        "    # count correct points\n",
        "    tag_info = dict()\n",
        "    for tag in tag_list:\n",
        "        tag_info[tag] = {'correct_tagged': 0, 'y_true': 0, 'y_pred': 0}\n",
        "\n",
        "    all_correct = 0\n",
        "    all_count = sum([len(sent) for sent in y_true])\n",
        "    speacial_tag = 0\n",
        "    for sent_true, sent_pred in zip(y_true, y_pred):\n",
        "        for tag_true, tag_pred in zip(sent_true, sent_pred):\n",
        "            # pass special token\n",
        "            if tag_true == -100 :\n",
        "                speacial_tag += 1\n",
        "                pass\n",
        "            if tag_true == tag_pred:\n",
        "                tag_info[tag_true]['correct_tagged'] += 1\n",
        "                all_correct += 1\n",
        "            tag_info[tag_true]['y_true'] += 1\n",
        "            tag_info[tag_pred]['y_pred'] += 1\n",
        "    print('speacial_tag :',speacial_tag) # delete number of special token from all_count\n",
        "    accuracy = (all_correct / (all_count-speacial_tag))\n",
        "\n",
        "    # get only accuracy for testing\n",
        "    if get_only_acc:\n",
        "      return accuracy\n",
        "\n",
        "    accuracy *= 100\n",
        "\n",
        "\n",
        "    # summarize and make evaluation result\n",
        "    eval_list = list()\n",
        "    for tag in tag_list:\n",
        "        eval_result = dict()\n",
        "        eval_result['tag'] = tag\n",
        "        eval_result['correct_count'] = tag_info[tag]['correct_tagged']\n",
        "        precision = (tag_info[tag]['correct_tagged']/tag_info[tag]['y_pred'])*100 if tag_info[tag]['y_pred'] else '-'\n",
        "        recall = (tag_info[tag]['correct_tagged']/tag_info[tag]['y_true'])*100 if (tag_info[tag]['y_true'] > 0) else 0\n",
        "        eval_result['precision'] = precision\n",
        "        eval_result['recall'] = recall\n",
        "        eval_result['f1_score'] = (2*precision*recall)/(precision+recall) if (type(precision) is float and recall > 0) else '-'\n",
        "\n",
        "        eval_list.append(eval_result)\n",
        "\n",
        "    eval_list.append({'tag': 'accuracy=%.2f' % accuracy, 'correct_count': '', 'precision': '', 'recall': '', 'f1_score': ''})\n",
        "\n",
        "    df = pd.DataFrame.from_dict(eval_list)\n",
        "    df = df[['tag', 'precision', 'recall', 'f1_score', 'correct_count']]\n",
        "\n",
        "    display(df)\n"
      ]
    },
    {
      "cell_type": "code",
      "execution_count": null,
      "metadata": {
        "id": "x7Lryj2aYCdn"
      },
      "outputs": [],
      "source": [
        "# prepare test set\n",
        "test_data = tokenized_orchid[\"test\"]"
      ]
    },
    {
      "cell_type": "code",
      "execution_count": null,
      "metadata": {
        "id": "FGXWNs9RY2Zv"
      },
      "outputs": [],
      "source": [
        "# labels for test set\n",
        "y_test = []\n",
        "for inputs in test_data:\n",
        "  y_test.append(inputs['labels'])"
      ]
    },
    {
      "cell_type": "code",
      "execution_count": null,
      "metadata": {
        "id": "U6__09qnX1DW"
      },
      "outputs": [],
      "source": [
        "y_pred = []\n",
        "device = 'cuda' if torch.cuda.is_available() else 'cpu'\n",
        "for inputs in test_data:\n",
        "    text = inputs['sentence']\n",
        "    inputs = tokenizer(text, return_tensors=\"pt\")\n",
        "    with torch.no_grad():\n",
        "        pred = model(**inputs).logits\n",
        "        predictions = torch.argmax(pred, dim=2)\n",
        "        # Append padded predictions to y_pred\n",
        "        y_pred.append(predictions.tolist()[0])"
      ]
    },
    {
      "cell_type": "code",
      "execution_count": null,
      "metadata": {
        "id": "yX0BhOe7g3eh"
      },
      "outputs": [],
      "source": [
        "# check our prediction with label\n",
        "# -100 is special tokens : [<s>, </s>, _]\n",
        "print(y_pred[0])\n",
        "print(y_test[0])"
      ]
    },
    {
      "cell_type": "code",
      "execution_count": null,
      "metadata": {
        "id": "Na0L6NUdgLaE"
      },
      "outputs": [],
      "source": [
        "evaluation_report(y_test, y_pred)"
      ]
    },
    {
      "cell_type": "markdown",
      "metadata": {
        "id": "F0BZzVgjm4l_"
      },
      "source": [
        "# Other Pretrained model"
      ]
    },
    {
      "cell_type": "markdown",
      "metadata": {
        "id": "ssZdIst48AwH"
      },
      "source": [
        "In this section, we will experiment by fine-tuning other pretrained models, such as airesearch/wangchanberta-base-wiki-newmm, to see how about their performance.\n",
        "\n",
        "Since each model uses a different word-tokenization method.\n",
        "for example, **airesearch/wangchanberta-base-wiki-newmm uses newmm**,\n",
        "while **airesearch/wangchanberta-base-att-spm-uncased uses SentencePiece**.\n",
        "please try fine-tuning and compare the performance of these models."
      ]
    },
    {
      "cell_type": "markdown",
      "metadata": {
        "id": "GUCWuhrl91mj"
      },
      "source": [
        "### #TODO 3"
      ]
    },
    {
      "cell_type": "code",
      "execution_count": null,
      "metadata": {
        "id": "9etT-A_anBfi"
      },
      "outputs": [],
      "source": [
        "model_names = [\n",
        "    'airesearch/wangchanberta-base-att-spm-uncased',\n",
        "    'airesearch/wangchanberta-base-wiki-newmm',\n",
        "    'airesearch/wangchanberta-base-wiki-ssg',\n",
        "    'airesearch/wangchanberta-base-wiki-sefr',\n",
        "    'airesearch/wangchanberta-base-wiki-spm',\n",
        "]\n",
        "\n",
        "#@title Choose Pretrained Model\n",
        "model_name = \"airesearch/wangchanberta-base-wiki-newmm\" #@param [\"airesearch/wangchanberta-base-att-spm-uncased\", \"airesearch/wangchanberta-base-wiki-newmm\", \"airesearch/wangchanberta-base-wiki-syllable\", \"airesearch/wangchanberta-base-wiki-sefr\", \"airesearch/wangchanberta-base-wiki-spm\"]\n",
        "\n",
        "#create tokenizer\n",
        "tokenizer = Tokenizer(model_name).from_pretrained(\n",
        "                f'{model_name}',\n",
        "                revision='main',\n",
        "                model_max_length=416,)\n"
      ]
    },
    {
      "cell_type": "code",
      "execution_count": null,
      "metadata": {
        "id": "LFXdV8V5nGk2"
      },
      "outputs": [],
      "source": [
        "example = orchidl[\"train\"][1899]\n",
        "print('sentence :', example[\"sentence\"])\n",
        "tokenized_input = tokenizer([example[\"sentence\"]], is_split_into_words=True)\n",
        "tokens = tokenizer.convert_ids_to_tokens(tokenized_input[\"input_ids\"])\n",
        "print('tokens :',tokens)\n",
        "print('label tokens :', example[\"label_tokens\"])"
      ]
    },
    {
      "cell_type": "markdown",
      "metadata": {
        "id": "I7QMwcbK5Ibj"
      },
      "source": [
        "It's the same problem as above.\n",
        "\n",
        "`**Warning: Can we use same function as above ?**`\n",
        "\n",
        "`**Warning: Please beware of <unk>, an unknown word token.**`\n",
        "\n",
        "`**Warning: Please be careful of \" ำ \", the 'am' vowel. WangchanBERTa's internal preprocessing replaces all \" ำ \" to 'ํ' and 'า'**`"
      ]
    },
    {
      "cell_type": "code",
      "execution_count": null,
      "metadata": {
        "id": "SI0fUulE5MH3"
      },
      "outputs": [],
      "source": [
        "def majority_vote_pos(examples):\n",
        "\n",
        "    ####################################################################################################################\n",
        "    # TO DO: Since the tokens from the output of the pretrained tokenizer\n",
        "    # do not match the tokens in the label tokens of the dataset,\n",
        "    # the task is to create a function to determine the POS tags of the tokens generated by the pretrained tokenizer.\n",
        "    # This should be done by referencing the POS tags in the label tokens. If a token partially overlaps with others,\n",
        "    # the POS tag from the segment with the greater number of characters should be assigned.\n",
        "    #\n",
        "    # Example :\n",
        "    # \"การประชุม\" (9 chars) is formed from \"การ\" (3 chars) + \"ประชุม\" (6 chars).\n",
        "    # \"การ\" has a POS tag of 21,\n",
        "    # and \"ประชุม\" has a POS tag of 39.\n",
        "    # Therefore, the POS tag for \"การประชุม\" is 39,\n",
        "    # as \"การประชุม\" is derived more from the \"ประชุม\" part than from the \"การ\" part.\n",
        "    #\n",
        "    # 'ทางวิชาการ' (10 chars) is formed from 'ทาง' (3 chars) + 'วิชาการ' (7 chars)\n",
        "    # \"ทาง\" has a POS tag of 26,\n",
        "    # and \"วิชาการ\" has a POS tag of 2.\n",
        "    # Therefore, the POS tag for \"ทางวิชาการ\" is 2,\n",
        "    # as \"ทางวิชาการ\" is derived more from the \"ทาง\" part than from the \"วิชาการ\" part.\n",
        "\n",
        "    # FILL CODE HERE\n",
        "    tokenized_inputs = tokenizer([examples[\"sentence\"]], is_split_into_words=True)\n",
        "    label_tokens = examples[\"label_tokens\"]\n",
        "    pos_tags = examples[\"pos_tags\"]\n",
        "    new_pos_result = []\n",
        "\n",
        "    new_tokens = tokenizer.convert_ids_to_tokens(tokenized_inputs[\"input_ids\"])\n",
        "\n",
        "    label_idx = 0\n",
        "    i = 0\n",
        "    \n",
        "    try:\n",
        "        for t in new_tokens:\n",
        "            if t in [\"<s>\", \"</s>\", \"▁\"]:\n",
        "                new_pos_result.append(-100)\n",
        "                continue\n",
        "            if t == \"<unk>\":\n",
        "                new_pos_result.append(-100)\n",
        "                continue\n",
        "                \n",
        "            buffer = \"\"\n",
        "            weights = {}\n",
        "            t = t.replace('ํา', \"ำ\")\n",
        "            t = t.replace(\"<_>\", \" \")\n",
        "            if t[0] == \"▁\":\n",
        "                t = t[1:]\n",
        "            while label_tokens[label_idx][i] != t[0]:\n",
        "                i += 1\n",
        "                if i == len(label_tokens[label_idx]):\n",
        "                    label_idx += 1\n",
        "                    i = 0\n",
        "            j = 1      \n",
        "\n",
        "            for _ in range(30):\n",
        "                buffer += label_tokens[label_idx][i]\n",
        "                \n",
        "                if buffer != t[:j]:\n",
        "                    buffer = \"\"\n",
        "                    j = 1\n",
        "                    continue\n",
        "                \n",
        "                j += 1\n",
        "                if pos_tags[label_idx] not in weights:\n",
        "                    weights[pos_tags[label_idx]] = 0\n",
        "                weights[pos_tags[label_idx]] += 1\n",
        "                i += 1\n",
        "                if i == len(label_tokens[label_idx]):\n",
        "                    label_idx += 1\n",
        "                    i = 0\n",
        "                if buffer == t:\n",
        "                    break\n",
        "                \n",
        "            max_key = max(weights, key=weights.get)\n",
        "            new_pos_result.append(max_key)\n",
        "\n",
        "    except IndexError:\n",
        "        print(examples)\n",
        "        for (token, tag) in zip(label_tokens, pos_tags):\n",
        "            print(f\"'{token}': {tag}\")\n",
        "        print(\"--------\")\n",
        "        for (token, tag) in zip(new_tokens, new_pos_result):\n",
        "            print(f\"'{token}': {tag}\")\n",
        "\n",
        "        raise ValueError(\"Age cannot be negative!\")\n",
        "    \n",
        "    tokenized_inputs['tokens'] = new_tokens\n",
        "    tokenized_inputs['labels'] = new_pos_result\n",
        "\n",
        "    return tokenized_inputs\n",
        "    ####################################################################################################################"
      ]
    },
    {
      "cell_type": "code",
      "execution_count": null,
      "metadata": {
        "id": "O5n4veYxo3rR"
      },
      "outputs": [],
      "source": [
        "tokenized_orchid = orchidl.map(majority_vote_pos)"
      ]
    },
    {
      "cell_type": "code",
      "execution_count": null,
      "metadata": {
        "id": "ashRh72szWiM"
      },
      "outputs": [],
      "source": [
        "# hard test case\n",
        "example = tokenized_orchid[\"train\"][1899]\n",
        "for i in example :\n",
        "    print(i, \":\", example[i])"
      ]
    },
    {
      "cell_type": "code",
      "execution_count": null,
      "metadata": {
        "id": "7AL0Vqbv7cfb"
      },
      "outputs": [],
      "source": [
        "model_names = [\n",
        "    'wangchanberta-base-att-spm-uncased',\n",
        "    'wangchanberta-base-wiki-newmm',\n",
        "    'wangchanberta-base-wiki-ssg',\n",
        "    'wangchanberta-base-wiki-sefr',\n",
        "    'wangchanberta-base-wiki-spm',\n",
        "]\n",
        "\n",
        "#@title Choose Pretrained Model\n",
        "model_name = \"wangchanberta-base-wiki-newmm\" #@param [\"wangchanberta-base-att-spm-uncased\", \"wangchanberta-base-wiki-newmm\", \"wangchanberta-base-wiki-syllable\", \"wangchanberta-base-wiki-sefr\", \"wangchanberta-base-wiki-spm\"]\n",
        "\n",
        "#create model\n",
        "model = AutoModelForTokenClassification.from_pretrained(\n",
        "    f\"airesearch/{model_name}\",\n",
        "    revision='main',\n",
        "    num_labels=47, id2label=id2label, label2id=label2id\n",
        ")\n"
      ]
    },
    {
      "cell_type": "code",
      "execution_count": null,
      "metadata": {
        "id": "pWTh0bMfP70g"
      },
      "outputs": [],
      "source": [
        "data_collator = DataCollatorForTokenClassification(tokenizer=tokenizer)"
      ]
    },
    {
      "cell_type": "markdown",
      "metadata": {
        "id": "QkhYDS4q7oxK"
      },
      "source": [
        "### #TODO 4"
      ]
    },
    {
      "cell_type": "markdown",
      "metadata": {
        "id": "XVdITM5E7tQ5"
      },
      "source": [
        "Fine-tuning other pretrained model with our orchid corpus."
      ]
    },
    {
      "cell_type": "code",
      "execution_count": null,
      "metadata": {
        "id": "hBHlUamr7syk"
      },
      "outputs": [],
      "source": [
        "training_args = TrainingArguments(\n",
        "    #########################\n",
        "    output_dir=\"pos-base-wiki-newmm\",\n",
        "    learning_rate=2e-5,\n",
        "    per_device_train_batch_size=32,\n",
        "    per_device_eval_batch_size=32,\n",
        "    num_train_epochs=2,\n",
        "    weight_decay=0.01,\n",
        "    push_to_hub=True\n",
        "    #########################\n",
        ")\n",
        "\n",
        "trainer = Trainer(\n",
        "    #########################\n",
        "    model=model,\n",
        "    args=training_args,\n",
        "    train_dataset=tokenized_orchid[\"train\"],\n",
        "    eval_dataset=tokenized_orchid[\"test\"],\n",
        "    data_collator=data_collator,\n",
        "    compute_metrics=compute_metrics,\n",
        "    ########################\n",
        ")\n",
        "\n",
        "trainer.train()"
      ]
    },
    {
      "cell_type": "code",
      "execution_count": null,
      "metadata": {},
      "outputs": [],
      "source": [
        "from transformers import AutoModelForTokenClassification\n",
        "\n",
        "## Load your fine-tuned model from Hugging Face\n",
        "model = AutoModelForTokenClassification.from_pretrained(\"Charoonroj/pos-base-wiki-newmm\")"
      ]
    },
    {
      "cell_type": "code",
      "execution_count": null,
      "metadata": {},
      "outputs": [],
      "source": [
        "# prepare test set\n",
        "test_data = tokenized_orchid[\"test\"]\n",
        "\n",
        "# labels for test set\n",
        "y_test = []\n",
        "for inputs in test_data:\n",
        "  y_test.append(inputs['labels'])"
      ]
    },
    {
      "cell_type": "code",
      "execution_count": null,
      "metadata": {},
      "outputs": [],
      "source": [
        "y_pred = []\n",
        "device = 'cuda' if torch.cuda.is_available() else 'cpu'\n",
        "for inputs in test_data:\n",
        "    text = inputs['sentence']\n",
        "    inputs = tokenizer(text, return_tensors=\"pt\")\n",
        "    with torch.no_grad():\n",
        "        pred = model(**inputs).logits\n",
        "        predictions = torch.argmax(pred, dim=2)\n",
        "        # Append padded predictions to y_pred\n",
        "        y_pred.append(predictions.tolist()[0])"
      ]
    },
    {
      "cell_type": "code",
      "execution_count": null,
      "metadata": {
        "id": "KIdxvgUGCVsm"
      },
      "outputs": [],
      "source": [
        "######## EVALUATE YOUR MODEL ########\n",
        "evaluation_report(y_test, y_pred)"
      ]
    },
    {
      "cell_type": "markdown",
      "metadata": {
        "id": "AMpXErqPBv2I"
      },
      "source": [
        "### #TODO 5\n",
        "\n",
        "Compare the results between both models. Are they comparable? (Think about the ground truths of both models).\n",
        "\n",
        "Propose a way to fairly evaluate the models."
      ]
    },
    {
      "cell_type": "markdown",
      "metadata": {
        "id": "UigMzZVNCDuS"
      },
      "source": [
        "<b>Write your answer here :</b> No, they're not comparable."
      ]
    },
    {
      "cell_type": "markdown",
      "metadata": {},
      "source": [
        "### **wangchanberta-base-att-spm-uncased**\n",
        "- dataset: Assorted Thai Texts (66% Wisesight from Twitter, Facebook, Pantip, Instagram, YouTube | 28% Chaos Theory from Pantip | 6% from BEST 2009 aka wiki)\n",
        "- dataset size: 381M training sentences of 5-300 tokens\n",
        "- vocabulary size: 25,000 subword tokens\n",
        "- tokenizer: SentencePiece (subword level)\n",
        "- test accuracy: 90.15%\n",
        "### **wangchanberta-base-wiki-newmm**\n",
        "- dataset: Thai Wikipedia Dump (encyclopedia, novels, news and articles)\n",
        "- dataset size: 944,782 training sentences of at most 512 tokens\n",
        "- vocabulary size: 97,982 word tokens\n",
        "- tokenizer: newmm (word level)\n",
        "- test accuracy: 89.07%\n",
        "### **Orchid dataset (fine-tune training + testing)**\n",
        "- คลังข้อความภาษาไทย จากบทความวิชาการ ที่มีการกำกับขอบเขตของประโยค ขอบเขตของคำ และชนิดของคำ ขนาด 5 แสนคำ\n",
        "\n",
        "The att-spm-uncased model was pretrained on mostly social media texts, while it was Wikipedia/articles/news for the base-wiki-newmm model. This difference between these 2 datasets is the formality of the text.\n",
        "\n",
        "However, it doesn't explain why att-spm-uncased performed better than base-wiki-newmm when the latter was trained on a more suitable domain.\n",
        "\n",
        "The main stark difference is the sheer size of the Assorted Thai Texts dataset, which is 400x larger than the Thai Wikipedia Dump dataset in terms of sentence count. This makes the base-att-spm-uncased more tuned to the Thai language.\n",
        "\n",
        "## **My take on how to fairly evaluate the models.**\n",
        "### 1. Use the same tokenizer\n",
        "- The current models have tokenizers for different levels (word vs subword) as seen in the size of vocabularies.\n",
        "- Change the tokenizer to be the same e.g. make base-wiki-newmm use SentencePiece instead.\n",
        "- This would be expensive as we need to pre-train one of the model again.\n",
        "### 2. Find anoter dataset to fine-tune + test on\n",
        "- The Orchid dataset is more similar to the Thai Wikipedia Dump dataset than the Assorted Thai Texts dataset.\n",
        "- We should find another dataset in the social media domain to fine-tune + test on the att-spm-uncased and base-wiki-newmm models.\n",
        "- If we need to create a new dataset ourselves, it would also be expensive.\n",
        "- Another way is to find another dataset that is neutral or a mix of social media and encyclopedia texts.\n",
        "### 3. Ablation Study: reduce Assorted Thai Texts size\n",
        "- Pre-train a new att-spm-uncased model on Assorted Thai Texts dataset that is reduced to the same size as the Thai Wikipedia Dump dataset.\n",
        "- This would level the playing field for both models.\n",
        "- Again, expensive as we need to pre-train one of the model again."
      ]
    },
    {
      "cell_type": "markdown",
      "metadata": {
        "id": "bYN0X9HWVuUe"
      },
      "source": [
        "A note on preprocessing data.\n",
        "\n",
        "``process_transformers`` in ``thaixtransformers.preprocess`` also provides a preprocess code that deals with many issues such as casing, text cleaning, and white space replacement with <_>. You can also use this to preprocess your text. Note that space replacement is done automatically without preprocessing in thaixtransformers.\n"
      ]
    }
  ],
  "metadata": {
    "accelerator": "GPU",
    "colab": {
      "gpuType": "A100",
      "machine_shape": "hm",
      "provenance": [],
      "toc_visible": true
    },
    "kernelspec": {
      "display_name": "nlp",
      "language": "python",
      "name": "python3"
    },
    "language_info": {
      "codemirror_mode": {
        "name": "ipython",
        "version": 3
      },
      "file_extension": ".py",
      "mimetype": "text/x-python",
      "name": "python",
      "nbconvert_exporter": "python",
      "pygments_lexer": "ipython3",
      "version": "3.10.18"
    }
  },
  "nbformat": 4,
  "nbformat_minor": 0
}
