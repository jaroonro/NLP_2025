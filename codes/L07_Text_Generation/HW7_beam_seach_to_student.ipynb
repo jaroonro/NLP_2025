{
  "cells": [
    {
      "cell_type": "markdown",
      "source": [
        "# HW7: Beam Search Decoding - News Headline Generation"
      ],
      "metadata": {
        "id": "pDRbfJqgPfdr"
      },
      "id": "pDRbfJqgPfdr"
    },
    {
      "cell_type": "markdown",
      "source": [
        "In this exercise, you are going to learn and implement decoding techniques for sequence generation. Usually, the sequence is generated word-by-word from a model. In each step, the model predicted the most likely word based on the predicted words in previous steps (this is called auto-regressive decoding).\n",
        "\n",
        "As such, it is very important how you decide on what to predicted at each step, as it will be conditioned on to predicted all of the following steps. We will implement two of main decoding techniques introduced in the lecture: **Greedy Decoding** and **Beam Search Decoding**. Greedy Decoding immediately chooses the word with best score at each step, while Beam Search Decoding focuses on the sequence that give the best score overall.\n",
        "\n",
        "To complete this exercise, you will need to complete the methods for decoding for a text generation model trained on [New York Times Comments and Headlines dataset](https://www.kaggle.com/aashita/nyt-comments). The model is trained to predict a headline for the news given seed text. You do not need to train any model model in this exercise as we provide both the pretrained model and dictionary.\n"
      ],
      "metadata": {
        "id": "fSDxXAqSPeBB"
      },
      "id": "fSDxXAqSPeBB"
    },
    {
      "cell_type": "markdown",
      "source": [
        "## Download model and vocab and setup"
      ],
      "metadata": {
        "id": "YFlSAvCfiZXf"
      },
      "id": "YFlSAvCfiZXf"
    },
    {
      "cell_type": "code",
      "source": [
        "!wget -O vocab.txt https://www.dropbox.com/s/ht12ua9vpkep6l8/hw9_vocab.txt?dl=0\n",
        "!wget -O model.bin https://www.dropbox.com/s/okmri7cnd729rr5/hw9_model.bin?dl=0"
      ],
      "metadata": {
        "id": "q5gRmwtdiYjp",
        "colab": {
          "base_uri": "https://localhost:8080/"
        },
        "outputId": "6cf57ad6-90ff-41da-8ebb-36bef5939241"
      },
      "id": "q5gRmwtdiYjp",
      "execution_count": 1,
      "outputs": [
        {
          "output_type": "stream",
          "name": "stdout",
          "text": [
            "--2025-06-22 05:43:51--  https://www.dropbox.com/s/ht12ua9vpkep6l8/hw9_vocab.txt?dl=0\n",
            "Resolving www.dropbox.com (www.dropbox.com)... 162.125.5.18, 2620:100:601d:18::a27d:512\n",
            "Connecting to www.dropbox.com (www.dropbox.com)|162.125.5.18|:443... connected.\n",
            "HTTP request sent, awaiting response... 302 Found\n",
            "Location: https://www.dropbox.com/scl/fi/zlkw3il9cj4c121vtrrxh/hw9_vocab.txt?rlkey=m5gflik1lhvpenwydd3gfwvp7&dl=0 [following]\n",
            "--2025-06-22 05:43:51--  https://www.dropbox.com/scl/fi/zlkw3il9cj4c121vtrrxh/hw9_vocab.txt?rlkey=m5gflik1lhvpenwydd3gfwvp7&dl=0\n",
            "Reusing existing connection to www.dropbox.com:443.\n",
            "HTTP request sent, awaiting response... 302 Found\n",
            "Location: https://uce69fd54b7112b7f0ba459b2dad.dl.dropboxusercontent.com/cd/0/inline/CsFM4Yrq29DIRVXnOi3Ui19Vr1OtXPjR1pQmwZ25tqu6cBxUDL3j2ZmgOIRqjCNs6EbaqG9jhjBqOproKLj0B5uxhXp9hZ68lnoOtbTN6_icwqocCH1poDbT91zFKKy0VcGr-EV1mr9A64RlfVs88RQS/file# [following]\n",
            "--2025-06-22 05:43:51--  https://uce69fd54b7112b7f0ba459b2dad.dl.dropboxusercontent.com/cd/0/inline/CsFM4Yrq29DIRVXnOi3Ui19Vr1OtXPjR1pQmwZ25tqu6cBxUDL3j2ZmgOIRqjCNs6EbaqG9jhjBqOproKLj0B5uxhXp9hZ68lnoOtbTN6_icwqocCH1poDbT91zFKKy0VcGr-EV1mr9A64RlfVs88RQS/file\n",
            "Resolving uce69fd54b7112b7f0ba459b2dad.dl.dropboxusercontent.com (uce69fd54b7112b7f0ba459b2dad.dl.dropboxusercontent.com)... 162.125.5.15, 2620:100:601d:15::a27d:50f\n",
            "Connecting to uce69fd54b7112b7f0ba459b2dad.dl.dropboxusercontent.com (uce69fd54b7112b7f0ba459b2dad.dl.dropboxusercontent.com)|162.125.5.15|:443... connected.\n",
            "HTTP request sent, awaiting response... 200 OK\n",
            "Length: 78729 (77K) [text/plain]\n",
            "Saving to: ‘vocab.txt’\n",
            "\n",
            "vocab.txt           100%[===================>]  76.88K  --.-KB/s    in 0.04s   \n",
            "\n",
            "2025-06-22 05:43:52 (1.93 MB/s) - ‘vocab.txt’ saved [78729/78729]\n",
            "\n",
            "--2025-06-22 05:43:52--  https://www.dropbox.com/s/okmri7cnd729rr5/hw9_model.bin?dl=0\n",
            "Resolving www.dropbox.com (www.dropbox.com)... 162.125.5.18, 2620:100:601d:18::a27d:512\n",
            "Connecting to www.dropbox.com (www.dropbox.com)|162.125.5.18|:443... connected.\n",
            "HTTP request sent, awaiting response... 302 Found\n",
            "Location: https://www.dropbox.com/scl/fi/es8o6240q6qogbulewk2s/hw9_model.bin?rlkey=r4rjl9zuwwg72g7ws5mecv47r&dl=0 [following]\n",
            "--2025-06-22 05:43:52--  https://www.dropbox.com/scl/fi/es8o6240q6qogbulewk2s/hw9_model.bin?rlkey=r4rjl9zuwwg72g7ws5mecv47r&dl=0\n",
            "Reusing existing connection to www.dropbox.com:443.\n",
            "HTTP request sent, awaiting response... 302 Found\n",
            "Location: https://ucd49597497b8338067d21dad140.dl.dropboxusercontent.com/cd/0/inline/CsGtwSrN-Uc64igE37LIduOmNLxFzgfNLpxq86EoxLvLN4n2-Oo6IkTVWHvXUyr5Jl_BTUVLHCQonI4CV3FDyem1aedaKM7HTuitaNEchvPUMEHGfZPrKBokcE1W3yvq_Yi5_YXY6Gx8LqKMVLlx3JCa/file# [following]\n",
            "--2025-06-22 05:43:52--  https://ucd49597497b8338067d21dad140.dl.dropboxusercontent.com/cd/0/inline/CsGtwSrN-Uc64igE37LIduOmNLxFzgfNLpxq86EoxLvLN4n2-Oo6IkTVWHvXUyr5Jl_BTUVLHCQonI4CV3FDyem1aedaKM7HTuitaNEchvPUMEHGfZPrKBokcE1W3yvq_Yi5_YXY6Gx8LqKMVLlx3JCa/file\n",
            "Resolving ucd49597497b8338067d21dad140.dl.dropboxusercontent.com (ucd49597497b8338067d21dad140.dl.dropboxusercontent.com)... 162.125.5.15, 2620:100:601d:15::a27d:50f\n",
            "Connecting to ucd49597497b8338067d21dad140.dl.dropboxusercontent.com (ucd49597497b8338067d21dad140.dl.dropboxusercontent.com)|162.125.5.15|:443... connected.\n",
            "HTTP request sent, awaiting response... 302 Found\n",
            "Location: /cd/0/inline2/CsHeJNikuQaLxIWvMSJP_GeRWgnC4AhQVk76KRHL5CR5Ewdg8iKcUJMAp1sacPhC4Zt6dpOQK7JLcAJrojZuaGOD7Kmd43iMD4u-uYqlmAxDl8dJD45tQsXn0MQttyJwdcAmdUbjcmciUSgMF-un5_2GJIplLh4_5Yzk0MynTxYRALw7PEQS4iFjeluYtyaI9KmuROo1gI2V7vM3sH6hNM96w9wF1Dz7qch3xrUoZvhAyHCpJmCPCssALUOWGLMaybeFyq_MONIqOKsN4xtzvOoCn_EFmtjGiVtczA6MKbfwcpgSzGHDmks8m0zFfr3xrzCb67AKMMEydIaMBSUtXEpLI4Pnv3tu5LUtYIjJKEN-PIgtgSLr8hS0k0E68OWALEg/file [following]\n",
            "--2025-06-22 05:43:53--  https://ucd49597497b8338067d21dad140.dl.dropboxusercontent.com/cd/0/inline2/CsHeJNikuQaLxIWvMSJP_GeRWgnC4AhQVk76KRHL5CR5Ewdg8iKcUJMAp1sacPhC4Zt6dpOQK7JLcAJrojZuaGOD7Kmd43iMD4u-uYqlmAxDl8dJD45tQsXn0MQttyJwdcAmdUbjcmciUSgMF-un5_2GJIplLh4_5Yzk0MynTxYRALw7PEQS4iFjeluYtyaI9KmuROo1gI2V7vM3sH6hNM96w9wF1Dz7qch3xrUoZvhAyHCpJmCPCssALUOWGLMaybeFyq_MONIqOKsN4xtzvOoCn_EFmtjGiVtczA6MKbfwcpgSzGHDmks8m0zFfr3xrzCb67AKMMEydIaMBSUtXEpLI4Pnv3tu5LUtYIjJKEN-PIgtgSLr8hS0k0E68OWALEg/file\n",
            "Reusing existing connection to ucd49597497b8338067d21dad140.dl.dropboxusercontent.com:443.\n",
            "HTTP request sent, awaiting response... 200 OK\n",
            "Length: 8690974 (8.3M) [application/octet-stream]\n",
            "Saving to: ‘model.bin’\n",
            "\n",
            "model.bin           100%[===================>]   8.29M  48.5MB/s    in 0.2s    \n",
            "\n",
            "2025-06-22 05:43:54 (48.5 MB/s) - ‘model.bin’ saved [8690974/8690974]\n",
            "\n"
          ]
        }
      ]
    },
    {
      "cell_type": "code",
      "source": [
        "import torch\n",
        "import torch.nn as nn\n",
        "from tokenizers import Tokenizer\n",
        "from tokenizers.models import WordLevel\n",
        "from tokenizers.pre_tokenizers import Whitespace"
      ],
      "metadata": {
        "id": "i9ITxmo5i-s6"
      },
      "id": "i9ITxmo5i-s6",
      "execution_count": 2,
      "outputs": []
    },
    {
      "cell_type": "code",
      "source": [
        "class RNNmodel(nn.Module):\n",
        "    def __init__(self, vocab_size, embedding_dim, dropout_rate):\n",
        "\n",
        "        super().__init__()\n",
        "        self.embedding_dim = embedding_dim\n",
        "\n",
        "        self.embedding = nn.Embedding(vocab_size, embedding_dim)\n",
        "        self.rnn = nn.LSTM(embedding_dim, 128, num_layers=2,\n",
        "                     batch_first=True)\n",
        "        self.dropout = nn.Dropout(dropout_rate)\n",
        "        self.fc2 = nn.Linear(128, vocab_size)\n",
        "\n",
        "    def forward(self, src):\n",
        "        embedding = self.embedding(src)\n",
        "        output,_ = self.rnn(embedding)\n",
        "        output = self.dropout(output)\n",
        "        prediction = self.fc2(output)\n",
        "        return prediction"
      ],
      "metadata": {
        "id": "VcDZCYkEi0b4"
      },
      "id": "VcDZCYkEi0b4",
      "execution_count": 3,
      "outputs": []
    },
    {
      "cell_type": "code",
      "source": [
        "with open(\"vocab.txt\") as f:\n",
        "  vocab_file = f.readlines()\n",
        "embedding_dim = 64\n",
        "dropout_rate = 0.2\n",
        "\n",
        "model = RNNmodel(len(vocab_file), embedding_dim, dropout_rate)\n",
        "model.load_state_dict(torch.load(\"model.bin\",map_location='cpu'))\n",
        "model.eval()"
      ],
      "metadata": {
        "id": "6bZt9R0JjL8l",
        "colab": {
          "base_uri": "https://localhost:8080/"
        },
        "outputId": "f2296824-0e7c-44b0-8e91-afcf2579478e"
      },
      "id": "6bZt9R0JjL8l",
      "execution_count": 4,
      "outputs": [
        {
          "output_type": "execute_result",
          "data": {
            "text/plain": [
              "RNNmodel(\n",
              "  (embedding): Embedding(10054, 64)\n",
              "  (rnn): LSTM(64, 128, num_layers=2, batch_first=True)\n",
              "  (dropout): Dropout(p=0.2, inplace=False)\n",
              "  (fc2): Linear(in_features=128, out_features=10054, bias=True)\n",
              ")"
            ]
          },
          "metadata": {},
          "execution_count": 4
        }
      ]
    },
    {
      "cell_type": "code",
      "source": [
        "vocab = [v.strip() for v in vocab_file]\n",
        "vocab_size = len(vocab)\n",
        "print(f\"Vocab Size: {vocab_size}\")\n",
        "vocab[:10]"
      ],
      "metadata": {
        "id": "mOEWXsXzjpn6",
        "colab": {
          "base_uri": "https://localhost:8080/"
        },
        "outputId": "d44ba895-501e-4a86-8de2-eff475101317"
      },
      "id": "mOEWXsXzjpn6",
      "execution_count": 5,
      "outputs": [
        {
          "output_type": "stream",
          "name": "stdout",
          "text": [
            "Vocab Size: 10054\n"
          ]
        },
        {
          "output_type": "execute_result",
          "data": {
            "text/plain": [
              "['<unk>', '<pad>', '<eos>', 'the', 'a', 'to', 'of', 's', 'in', 'for']"
            ]
          },
          "metadata": {},
          "execution_count": 5
        }
      ]
    },
    {
      "cell_type": "code",
      "source": [
        "stoi = { ch:i for i,ch in enumerate(vocab) }\n",
        "tokenizer = Tokenizer(WordLevel(stoi, unk_token=\"<unk>\"))\n",
        "tokenizer.pre_tokenizer = Whitespace()\n",
        "tokenized_text = tokenizer.encode(\"the a of to unknowns\")\n",
        "print(tokenized_text)\n",
        "print(tokenized_text.ids)\n",
        "print(tokenized_text.tokens)\n",
        "print(tokenizer.decode(tokenized_text.ids))"
      ],
      "metadata": {
        "id": "sem3jbjoF_d8",
        "colab": {
          "base_uri": "https://localhost:8080/"
        },
        "outputId": "64b40a71-9c4e-4a81-dfaa-5c8fecb39e78"
      },
      "id": "sem3jbjoF_d8",
      "execution_count": 8,
      "outputs": [
        {
          "output_type": "stream",
          "name": "stdout",
          "text": [
            "Encoding(num_tokens=5, attributes=[ids, type_ids, tokens, offsets, attention_mask, special_tokens_mask, overflowing])\n",
            "[3, 4, 6, 5, 0]\n",
            "['the', 'a', 'of', 'to', '<unk>']\n",
            "the a of to <unk>\n"
          ]
        }
      ]
    },
    {
      "cell_type": "markdown",
      "source": [
        "## 1. TODO: Greedy decode\n",
        "Normally, in sequence generation task, the model will continue generating tokens until an end-of-sequence symbol appear or the maximum length is reached. For this task:\n",
        "- The end-of-sequence symbol is \"< eos >\" and its index is 2\n",
        "- Use the maximum generation length of 15"
      ],
      "metadata": {
        "id": "rSt1yuR19co-"
      },
      "id": "rSt1yuR19co-"
    },
    {
      "cell_type": "code",
      "source": [
        "eos_token = '<eos>'\n",
        "max_gen_length = 15\n",
        "eos_id = vocab.index(eos_token)"
      ],
      "metadata": {
        "id": "oUCajb2BvKnN"
      },
      "id": "oUCajb2BvKnN",
      "execution_count": 11,
      "outputs": []
    },
    {
      "cell_type": "code",
      "execution_count": 29,
      "id": "e6638613",
      "metadata": {
        "id": "e6638613"
      },
      "outputs": [],
      "source": [
        "def greedy_decode(seed_text, tokenizer):\n",
        "    \"\"\"Greedy decodes with seed text.\n",
        "\n",
        "        Args:\n",
        "        seed_text: The seed string to be used as initial input to the model.\n",
        "        tokenizer: The tokenizer for converting word to index and back.\n",
        "\n",
        "        Your code should do the followings:\n",
        "          1. Convert current_text to sequences of indices\n",
        "          2. Predict the next token using the model and choose the token with the highest score as output\n",
        "          3. Append the predicted index to current_text\n",
        "          4. Loop until completion\n",
        "          5. Return text prediction and a list of probabilities of each step\n",
        "\n",
        "        You do not need to stop early when end-of-sequence token is generated and can continue decoding\n",
        "        until max_gen_length is reached. We can filter the eos token out later.\n",
        "    \"\"\"\n",
        "    probs = []\n",
        "    current_text = torch.Tensor(tokenizer.encode(seed_text).ids).unsqueeze(0).long()\n",
        "    is_eos = False\n",
        "    while len(current_text[0]) < max_gen_length:\n",
        "        prediction = model(current_text)\n",
        "        pred_probs = nn.functional.softmax(prediction[0], dim=-1)\n",
        "\n",
        "        top_probs, top_token_ids = torch.topk(pred_probs, 1)\n",
        "        top_probs.squeeze_(1)\n",
        "\n",
        "        top_token_ids.squeeze_(1)\n",
        "        if top_token_ids[-1].item() == eos_id:\n",
        "            is_eos = True\n",
        "\n",
        "        if not is_eos:\n",
        "            probs.append(top_probs[-1].item())\n",
        "\n",
        "        current_text = torch.cat((current_text, torch.tensor([[top_token_ids[-1]]])), dim=1)\n",
        "\n",
        "    output = current_text[0].tolist()\n",
        "    return output,probs"
      ]
    },
    {
      "cell_type": "code",
      "execution_count": 31,
      "id": "9f78f6c8",
      "metadata": {
        "id": "9f78f6c8"
      },
      "outputs": [],
      "source": [
        "def clean_output(token_ids, eos_token_id) -> str:\n",
        "    \"\"\"Drop eos_token and every words that follow\"\"\"\n",
        "\n",
        "    if eos_token_id in token_ids:\n",
        "        eos_index = token_ids.index(eos_token_id)\n",
        "        token_ids = token_ids[:eos_index]\n",
        "\n",
        "    return tokenizer.decode(token_ids)"
      ]
    },
    {
      "cell_type": "code",
      "execution_count": 32,
      "id": "bdd42c8a",
      "metadata": {
        "id": "bdd42c8a",
        "colab": {
          "base_uri": "https://localhost:8080/"
        },
        "outputId": "9aeb27e7-cb65-4a11-8d8e-e796f85396d5"
      },
      "outputs": [
        {
          "output_type": "stream",
          "name": "stdout",
          "text": [
            "Seed: to\n",
            "Output: to encourage creativity in the new york bill\n",
            "\n",
            "probs: [0.04071051999926567, 0.2661307156085968, 0.25815948843955994, 0.2311648279428482, 0.07794329524040222, 0.06978018581867218, 0.2244524359703064]\n",
            "Seed: america\n",
            "Output: america s lethal export\n",
            "\n",
            "probs: [0.44965454936027527, 0.04639991372823715, 0.7206957340240479]\n",
            "Seed: people\n",
            "Output: people to balloon to make a criminal with a dog with a callous rival\n",
            "\n",
            "probs: [0.35848477482795715, 0.03946574404835701, 0.26953017711639404, 0.033772923052310944, 0.28156694769859314, 0.030896717682480812, 0.3262561559677124, 0.32244035601615906, 0.03489115461707115, 0.2229832410812378, 0.580828845500946, 0.04674474895000458, 0.26616525650024414]\n",
            "Seed: next\n",
            "Output: next phenom english clubs 2 call another deal in the same arrivals\n",
            "\n",
            "probs: [0.1724235713481903, 0.23235632479190826, 0.7396268248558044, 0.0788838192820549, 0.044043004512786865, 0.057693466544151306, 0.032969508320093155, 0.3304014205932617, 0.6040374040603638, 0.03174590691924095, 0.07468771189451218]\n",
            "Seed: picture\n",
            "Output: picture perfect chapter a spot of view of banning care\n",
            "\n",
            "probs: [0.25000011920928955, 0.01760745421051979, 0.025983275845646858, 0.05381891131401062, 0.3106653690338135, 0.040469057857990265, 0.24898776412010193, 0.045758068561553955, 0.08654487878084183]\n",
            "Seed: on\n",
            "Output: on the catwalk in saudi arabia\n",
            "\n",
            "probs: [0.30775660276412964, 0.02204967848956585, 0.2477516084909439, 0.18319879472255707, 0.7695567607879639]\n"
          ]
        }
      ],
      "source": [
        "sample_seeds = [\"to\", \"america\", \"people\", \"next\", \"picture\", \"on\"]\n",
        "for seed in sample_seeds:\n",
        "    output_text, probs = greedy_decode(seed, tokenizer)\n",
        "    cleaned_text = clean_output(output_text, stoi[eos_token])\n",
        "    print(f\"Seed: {seed}\\nOutput: {cleaned_text}\\n\")\n",
        "    print(f\"probs: {probs}\")"
      ]
    },
    {
      "cell_type": "markdown",
      "source": [
        "Your output should be:\n",
        "\n",
        "*   to encourage creativity in the new york bill\n",
        "*   america s lethal export\n",
        "*   people to balloon to make a criminal with a dog with a callous rival\n",
        "*   next phenom english clubs 2 call another deal in the same arrivals\n",
        "*   picture perfect chapter a spot of view of banning care  \n",
        "*   on the catwalk in saudi arabia\n",
        "\n",
        "\n",
        "\n",
        "\n",
        "\n"
      ],
      "metadata": {
        "id": "h99jCVvjUvFT"
      },
      "id": "h99jCVvjUvFT"
    },
    {
      "cell_type": "markdown",
      "id": "7553f608",
      "metadata": {
        "id": "7553f608"
      },
      "source": [
        "## 2. TODO: Beam search decode\n",
        "\n",
        "Another well-known decoding method is beam search decoding that focuses more on the overall sequence score.\n",
        "\n",
        "Instead of greedily choosing the token with the highest score for each step, beam search decoding expands all possible next tokens and keeps the __k__ most likely sequence at each step, where __k__ is a user-specified beam size. A sequence score is also calculated according user-specified cal_score() function.\n",
        "The beam with the highest score after the decoding process is done will be the output."
      ]
    },
    {
      "cell_type": "markdown",
      "source": [
        "There are a few things that you need to know before implementing a beam search decoder:\n",
        "- When the eos token is produced, you can stop expanding that beam\n",
        "- However, the ended beams must be sorted together with active beams\n",
        "- The decoding ends when every beams are either ended or reached the maximum length, but for this task, you can continue decoding until the max_gen_len is reached\n",
        "- We usually work with probability in log scale to avoid numerical underflow. You should use np.log(score) before any calculation\n",
        "- **As probabilities for some classes will be very small, you must add a very small value to the score before taking log e.g np.log(prob + 0.00000001)**"
      ],
      "metadata": {
        "id": "8kArvA-6xLmQ"
      },
      "id": "8kArvA-6xLmQ"
    },
    {
      "cell_type": "markdown",
      "source": [
        "#### Sequence Score\n",
        "The naive way to calculate the sequence score is to __multiply every token scores__ together. However, doing so will make the decoder prefer shorter sequence as you multiply the sequence score with a value between \\[0,1\\] for every tokens in the sequence. Thus, we usually normalize the sequence score with its length by calculating its __geometric mean__ instead.\n",
        "\n",
        "**You should do this in log scale**"
      ],
      "metadata": {
        "id": "MQRZftUYxcCU"
      },
      "id": "MQRZftUYxcCU"
    },
    {
      "cell_type": "code",
      "source": [
        "import numpy as np"
      ],
      "metadata": {
        "id": "gwPlGcQUUUcz"
      },
      "id": "gwPlGcQUUUcz",
      "execution_count": 33,
      "outputs": []
    },
    {
      "cell_type": "code",
      "execution_count": 34,
      "id": "d76c6f52",
      "metadata": {
        "id": "d76c6f52"
      },
      "outputs": [],
      "source": [
        "def cal_score(score_list, length, normalized=False): #cal score for each beam from a list of probs\n",
        "    log_scores = [np.log(s + 1e-15) for s in score_list]\n",
        "    if normalized:\n",
        "        score = sum(log_scores) / length\n",
        "    else:\n",
        "        score = sum(log_scores)\n",
        "\n",
        "    return score"
      ]
    },
    {
      "cell_type": "code",
      "execution_count": 57,
      "id": "bb1dd75a",
      "metadata": {
        "id": "bb1dd75a"
      },
      "outputs": [],
      "source": [
        "def beam_search_decode(seed_text, max_gen_len, tokenizer, beam_size=5, normalized=False):\n",
        "    \"\"\"We will do beam search decoing using seed text in this function.\n",
        "\n",
        "    Output:\n",
        "    beams: A list of top k beams after the decoding ended, each beam is a list of\n",
        "      [seed_text, list of scores, length]\n",
        "\n",
        "    Your code should do the followings:\n",
        "    1.Loop until max_gen_len is reached.\n",
        "    2.During each step, loop thorugh each beam and use it to predict the next word.\n",
        "      If a beam is already ended, continues without expanding.\n",
        "    3.Sort all hypotheses according to cal_score().\n",
        "    4.Keep top k hypotheses to be used at the next step.\n",
        "    \"\"\"\n",
        "    # For each beam we will store (generated text, list of scores, and current length, is_finished)\n",
        "    # Add initial beam\n",
        "    seed_ids = torch.Tensor(tokenizer.encode(seed_text).ids).unsqueeze(0).long()\n",
        "    beams = [(seed_ids, [], 0, False)]\n",
        "    for i in range(max_gen_len):\n",
        "      new_beams = []\n",
        "\n",
        "      for beam in beams:\n",
        "        if beam[-1] == True:\n",
        "          new_beams.append(beam)\n",
        "          continue\n",
        "        token_ids, score_list, length, _ = beam\n",
        "\n",
        "        prediction = model(token_ids)\n",
        "        pred_probs = nn.functional.softmax(prediction[0], dim=-1)\n",
        "        next_token_pred_probs = pred_probs[-1]\n",
        "        for next_token_id, next_token_prob in enumerate(next_token_pred_probs):\n",
        "          new_text = torch.cat((token_ids, torch.tensor([[next_token_id]])), dim=1)\n",
        "          new_length = length + 1\n",
        "\n",
        "          new_finished = False\n",
        "          if next_token_id == stoi[eos_token]:\n",
        "            new_finished = True\n",
        "\n",
        "          new_score = score_list + [next_token_prob.item()]\n",
        "          new_beams.append((new_text, new_score, new_length, new_finished))\n",
        "\n",
        "      new_beams.sort(key=lambda x: cal_score(x[1], x[2], normalized), reverse=True)\n",
        "      beams = new_beams[:beam_size]\n",
        "    return beams"
      ]
    },
    {
      "cell_type": "markdown",
      "source": [
        "## 3. Generate!\n",
        "Generate 6 sentences based on the given seed texts.\n",
        "\n",
        "Decode with the provided seed texts with beam_size 5, max_gen_len 10. Compare the results between greedy, normalized, and unnormalized decoding.\n",
        "\n",
        "Print the result using greedy decoding and top 2 results each using unnormalized and normalized decoing for each seed text.\n",
        "\n",
        "Also, print scores of each candidate according to cal_score(). Use normalization for greedy decoding."
      ],
      "metadata": {
        "id": "i_eqGDA09zqk"
      },
      "id": "i_eqGDA09zqk"
    },
    {
      "cell_type": "code",
      "execution_count": 67,
      "id": "d40a3cb0",
      "metadata": {
        "id": "d40a3cb0",
        "colab": {
          "base_uri": "https://localhost:8080/"
        },
        "outputId": "a392964d-bd69-40c0-eccb-4594a7d2e208"
      },
      "outputs": [
        {
          "output_type": "stream",
          "name": "stdout",
          "text": [
            "-Greedy-\n",
            "to encourage creativity in the new york bill 0.13\n",
            "-Unnormalized-\n",
            "To Consult Exploring Recipes For New Jersey 0.0\n",
            "To Consult Exploring Recipes Up The Pacific Northwest 0.0\n",
            "-Normalized-\n",
            "To Consult Exploring Recipes Up The Pacific Northwest 0.17\n",
            "To Consult Exploring Recipes Up The Least Of The Week 0.16\n",
            "\n",
            "-Greedy-\n",
            "america s lethal export 0.25\n",
            "-Unnormalized-\n",
            "America S Lethal Export 0.02\n",
            "America S Desert Aisles 0.01\n",
            "-Normalized-\n",
            "America S Lethal Export 0.25\n",
            "America S Desert Aisles 0.2\n",
            "\n",
            "-Greedy-\n",
            "people to balloon to make a criminal with a dog with a callous rival 0.14\n",
            "-Unnormalized-\n",
            "People To Balloon For A Criminal 0.0\n",
            "People To Balloon For A Criminal With Trump 0.0\n",
            "-Normalized-\n",
            "People To Balloon For A Criminal With A Second Fiddle 0.13\n",
            "People To Balloon For A Criminal With Trump 0.13\n",
            "\n",
            "-Greedy-\n",
            "next phenom english clubs 2 call another deal in the same arrivals 0.12\n",
            "-Unnormalized-\n",
            "Next S Blist Revue 0.0\n",
            "Next Phenom English Clubs 1 A Chance To Be Back 0.0\n",
            "-Normalized-\n",
            "Next S Blist Revue 0.14\n",
            "Next Phenom English Clubs 1 A Chance To Be Back 0.14\n",
            "\n",
            "-Greedy-\n",
            "picture perfect chapter a spot of view of banning care 0.08\n",
            "-Unnormalized-\n",
            "Picture Perfect Use Coffee 0.0\n",
            "Picture Korean A Bonanza Of Pancakes 0.0\n",
            "-Normalized-\n",
            "Picture Korean A Bonanza Of Contemplation Times Of Trump S Son 0.12\n",
            "Picture Korean A Bonanza Of Pancakes 0.07\n",
            "\n",
            "-Greedy-\n",
            "on the catwalk in saudi arabia 0.19\n",
            "-Unnormalized-\n",
            "On The Billboard Chart 0.0\n",
            "On The Catwalk In Saudi Arabia 0.0\n",
            "-Normalized-\n",
            "On The Whole30 Diet Vowing To Eat Smarter Carbs To Be 0.27\n",
            "On The Whole30 Diet Vowing To Eat Smarter Carbs For Because 0.26\n",
            "\n"
          ]
        }
      ],
      "source": [
        "def beam_top_k(seed, max_gen_len, tokenizer, beam_size, norm, k):\n",
        "    beams = beam_search_decode(seed, max_gen_len, tokenizer, beam_size, norm)\n",
        "    for i in range(k):\n",
        "      cleaned_text = clean_output(beams[i][0][0].tolist(), stoi[eos_token])\n",
        "      if(beams[i][3]):\n",
        "        score = cal_score(beams[i][1][:-1], beams[i][2]-1, norm)\n",
        "      else:\n",
        "        score = cal_score(beams[i][1], beams[i][2], norm)\n",
        "      prob = round(np.exp(score),2)\n",
        "      print(f\"{cleaned_text.title()} {prob}\")\n",
        "\n",
        "sample_seeds = [\"to\", \"america\", \"people\", \"next\", \"picture\", \"on\"]\n",
        "max_gen_len=10\n",
        "for seed in sample_seeds:\n",
        "    # print(f\"Seed: {seed}\")\n",
        "    print(\"-Greedy-\")\n",
        "\n",
        "    output_text, probs = greedy_decode(seed, tokenizer)\n",
        "    cleaned_text = clean_output(output_text, stoi[eos_token])\n",
        "    score = cal_score(probs, len(probs), normalized=True)\n",
        "    print(f\"{cleaned_text} {round(np.exp(score),2)}\")\n",
        "\n",
        "    print(\"-Unnormalized-\")\n",
        "\n",
        "    beam_top_k(seed, max_gen_len, tokenizer, 5, False, 2)\n",
        "\n",
        "    print(\"-Normalized-\")\n",
        "\n",
        "    beam_top_k(seed, max_gen_len, tokenizer, 5, True, 2)\n",
        "\n",
        "    print(\"\")"
      ]
    },
    {
      "cell_type": "markdown",
      "source": [
        "Your output should be:\n",
        "\n",
        "\n",
        "```\n",
        "-Greedy-\n",
        "to encourage creativity in the new york bill  0.13\n",
        "-Unnormalized-\n",
        "To Consult Exploring Recipes For New Jersey 0.00\n",
        "To Consult Exploring Recipes Up The Pacific Northwest 0.00\n",
        "-Normalized-\n",
        "To Consult Exploring Recipes Up The Pacific Northwest 0.17\n",
        "To Consult Exploring Recipes Up The Least Of The Week 0.16\n",
        "\n",
        "-Greedy-\n",
        "america s lethal export  0.25\n",
        "-Unnormalized-\n",
        "America S Lethal Export 0.02\n",
        "America S Desert Aisles 0.01\n",
        "-Normalized-\n",
        "America S Lethal Export 0.25\n",
        "America S Desert Aisles 0.20\n",
        "\n",
        "-Greedy-\n",
        "people to balloon to make a criminal with a dog with a callous rival  0.14\n",
        "-Unnormalized-\n",
        "People To Balloon For A Criminal 0.00\n",
        "People To Balloon For A Criminal With Trump 0.00\n",
        "-Normalized-\n",
        "People To Balloon For A Criminal With A Second Fiddle 0.13\n",
        "People To Balloon For A Criminal With Trump 0.13\n",
        "\n",
        "-Greedy-\n",
        "next phenom english clubs 2 call another deal in the same arrivals  0.12\n",
        "-Unnormalized-\n",
        "Next S Blist Revue 0.00\n",
        "Next Phenom English Clubs 1 A Chance To Be Back 0.00\n",
        "-Normalized-\n",
        "Next S Blist Revue 0.14\n",
        "Next Phenom English Clubs 1 A Chance To Be Back 0.14\n",
        "\n",
        "-Greedy-\n",
        "picture perfect chapter a spot of view of banning care  0.08\n",
        "-Unnormalized-\n",
        "Picture Perfect Use Coffee 0.00\n",
        "Picture Korean A Bonanza Of Pancakes 0.00\n",
        "-Normalized-\n",
        "Picture Korean A Bonanza Of Contemplation Times Of Trump S Son 0.12\n",
        "Picture Korean A Bonanza Of Pancakes 0.07\n",
        "\n",
        "-Greedy-\n",
        "on the catwalk in saudi arabia  0.19\n",
        "-Unnormalized-\n",
        "On The Billboard Chart 0.00\n",
        "On The Catwalk In Saudi Arabia 0.00\n",
        "-Normalized-\n",
        "On The Whole30 Diet Vowing To Eat Smarter Carbs To Be 0.27\n",
        "On The Whole30 Diet Vowing To Eat Smarter Carbs For Because 0.26\n",
        "\n",
        "```\n",
        "\n"
      ],
      "metadata": {
        "id": "icfu6pOzWUSt"
      },
      "id": "icfu6pOzWUSt"
    },
    {
      "cell_type": "markdown",
      "source": [
        "# Answer Questions in MyCourseVille!\n",
        "\n",
        "Use the seed word \"usa\" to answer questions in MCV."
      ],
      "metadata": {
        "id": "tquJVskBeM9m"
      },
      "id": "tquJVskBeM9m"
    }
  ],
  "metadata": {
    "kernelspec": {
      "display_name": "Python 3",
      "name": "python3"
    },
    "language_info": {
      "codemirror_mode": {
        "name": "ipython",
        "version": 3
      },
      "file_extension": ".py",
      "mimetype": "text/x-python",
      "name": "python",
      "nbconvert_exporter": "python",
      "pygments_lexer": "ipython3",
      "version": "3.7.11"
    },
    "colab": {
      "provenance": [],
      "toc_visible": true
    }
  },
  "nbformat": 4,
  "nbformat_minor": 5
}