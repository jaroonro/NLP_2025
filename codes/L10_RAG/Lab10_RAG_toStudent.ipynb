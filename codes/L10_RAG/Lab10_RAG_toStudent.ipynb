{
  "nbformat": 4,
  "nbformat_minor": 0,
  "metadata": {
    "colab": {
      "provenance": [],
      "gpuType": "T4"
    },
    "kernelspec": {
      "name": "python3",
      "display_name": "Python 3"
    },
    "language_info": {
      "name": "python"
    },
    "accelerator": "GPU"
  },
  "cells": [
    {
      "cell_type": "markdown",
      "source": [
        "# Setup"
      ],
      "metadata": {
        "id": "u98eKe5iVh5a"
      }
    },
    {
      "cell_type": "code",
      "execution_count": 1,
      "metadata": {
        "id": "yQvDjyEllKcg",
        "colab": {
          "base_uri": "https://localhost:8080/"
        },
        "outputId": "8e021bc2-8a96-4336-e25e-52d3e3003f43"
      },
      "outputs": [
        {
          "output_type": "stream",
          "name": "stdout",
          "text": [
            "\u001b[?25l   \u001b[90m━━━━━━━━━━━━━━━━━━━━━━━━━━━━━━━━━━━━━━━━\u001b[0m \u001b[32m0.0/44.8 kB\u001b[0m \u001b[31m?\u001b[0m eta \u001b[36m-:--:--\u001b[0m\r\u001b[2K   \u001b[90m━━━━━━━━━━━━━━━━━━━━━━━━━━━━━━━━━━━━━━━━\u001b[0m \u001b[32m44.8/44.8 kB\u001b[0m \u001b[31m4.0 MB/s\u001b[0m eta \u001b[36m0:00:00\u001b[0m\n",
            "\u001b[?25h\u001b[?25l   \u001b[90m━━━━━━━━━━━━━━━━━━━━━━━━━━━━━━━━━━━━━━━━\u001b[0m \u001b[32m0.0/1.4 MB\u001b[0m \u001b[31m?\u001b[0m eta \u001b[36m-:--:--\u001b[0m\r\u001b[2K   \u001b[90m━━━━━━━━━━━━━━━━━━━━━━━━━━━━━━━━━━━━━━━━\u001b[0m \u001b[32m1.4/1.4 MB\u001b[0m \u001b[31m76.1 MB/s\u001b[0m eta \u001b[36m0:00:00\u001b[0m\n",
            "\u001b[?25h\u001b[31mERROR: pip's dependency resolver does not currently take into account all the packages that are installed. This behaviour is the source of the following dependency conflicts.\n",
            "google-generativeai 0.8.5 requires google-ai-generativelanguage==0.6.15, but you have google-ai-generativelanguage 0.6.18 which is incompatible.\u001b[0m\u001b[31m\n",
            "\u001b[2K   \u001b[90m━━━━━━━━━━━━━━━━━━━━━━━━━━━━━━━━━━━━━━━━\u001b[0m \u001b[32m329.0/329.0 kB\u001b[0m \u001b[31m27.7 MB/s\u001b[0m eta \u001b[36m0:00:00\u001b[0m\n",
            "\u001b[2K   \u001b[90m━━━━━━━━━━━━━━━━━━━━━━━━━━━━━━━━━━━━━━━━\u001b[0m \u001b[32m2.5/2.5 MB\u001b[0m \u001b[31m90.2 MB/s\u001b[0m eta \u001b[36m0:00:00\u001b[0m\n",
            "\u001b[2K   \u001b[90m━━━━━━━━━━━━━━━━━━━━━━━━━━━━━━━━━━━━━━━━\u001b[0m \u001b[32m45.2/45.2 kB\u001b[0m \u001b[31m4.6 MB/s\u001b[0m eta \u001b[36m0:00:00\u001b[0m\n",
            "\u001b[2K   \u001b[90m━━━━━━━━━━━━━━━━━━━━━━━━━━━━━━━━━━━━━━━━\u001b[0m \u001b[32m50.9/50.9 kB\u001b[0m \u001b[31m5.2 MB/s\u001b[0m eta \u001b[36m0:00:00\u001b[0m\n",
            "\u001b[2K     \u001b[90m━━━━━━━━━━━━━━━━━━━━━━━━━━━━━━━━━━━━━━━━\u001b[0m \u001b[32m43.7/43.7 kB\u001b[0m \u001b[31m3.4 MB/s\u001b[0m eta \u001b[36m0:00:00\u001b[0m\n",
            "\u001b[2K   \u001b[90m━━━━━━━━━━━━━━━━━━━━━━━━━━━━━━━━━━━━━━━━\u001b[0m \u001b[32m143.7/143.7 kB\u001b[0m \u001b[31m13.2 MB/s\u001b[0m eta \u001b[36m0:00:00\u001b[0m\n",
            "\u001b[2K   \u001b[90m━━━━━━━━━━━━━━━━━━━━━━━━━━━━━━━━━━━━━━━━\u001b[0m \u001b[32m43.8/43.8 kB\u001b[0m \u001b[31m3.8 MB/s\u001b[0m eta \u001b[36m0:00:00\u001b[0m\n",
            "\u001b[2K   \u001b[90m━━━━━━━━━━━━━━━━━━━━━━━━━━━━━━━━━━━━━━━━\u001b[0m \u001b[32m50.1/50.1 kB\u001b[0m \u001b[31m4.4 MB/s\u001b[0m eta \u001b[36m0:00:00\u001b[0m\n",
            "\u001b[2K   \u001b[90m━━━━━━━━━━━━━━━━━━━━━━━━━━━━━━━━━━━━━━━━\u001b[0m \u001b[32m216.5/216.5 kB\u001b[0m \u001b[31m22.3 MB/s\u001b[0m eta \u001b[36m0:00:00\u001b[0m\n",
            "\u001b[?25hCollecting fastembed\n",
            "  Downloading fastembed-0.7.1-py3-none-any.whl.metadata (10 kB)\n",
            "Requirement already satisfied: huggingface-hub<1.0,>=0.20 in /usr/local/lib/python3.11/dist-packages (from fastembed) (0.33.0)\n",
            "Collecting loguru<0.8.0,>=0.7.2 (from fastembed)\n",
            "  Downloading loguru-0.7.3-py3-none-any.whl.metadata (22 kB)\n",
            "Collecting mmh3<6.0.0,>=4.1.0 (from fastembed)\n",
            "  Downloading mmh3-5.1.0-cp311-cp311-manylinux_2_5_x86_64.manylinux1_x86_64.manylinux_2_17_x86_64.manylinux2014_x86_64.whl.metadata (16 kB)\n",
            "Requirement already satisfied: numpy>=1.21 in /usr/local/lib/python3.11/dist-packages (from fastembed) (2.0.2)\n",
            "Collecting onnxruntime!=1.20.0,>=1.17.0 (from fastembed)\n",
            "  Downloading onnxruntime-1.22.0-cp311-cp311-manylinux_2_27_x86_64.manylinux_2_28_x86_64.whl.metadata (4.5 kB)\n",
            "Requirement already satisfied: pillow<12.0.0,>=10.3.0 in /usr/local/lib/python3.11/dist-packages (from fastembed) (11.2.1)\n",
            "Collecting py-rust-stemmers<0.2.0,>=0.1.0 (from fastembed)\n",
            "  Downloading py_rust_stemmers-0.1.5-cp311-cp311-manylinux_2_28_x86_64.whl.metadata (3.4 kB)\n",
            "Requirement already satisfied: requests<3.0,>=2.31 in /usr/local/lib/python3.11/dist-packages (from fastembed) (2.32.3)\n",
            "Requirement already satisfied: tokenizers<1.0,>=0.15 in /usr/local/lib/python3.11/dist-packages (from fastembed) (0.21.2)\n",
            "Requirement already satisfied: tqdm<5.0,>=4.66 in /usr/local/lib/python3.11/dist-packages (from fastembed) (4.67.1)\n",
            "Requirement already satisfied: filelock in /usr/local/lib/python3.11/dist-packages (from huggingface-hub<1.0,>=0.20->fastembed) (3.18.0)\n",
            "Requirement already satisfied: fsspec>=2023.5.0 in /usr/local/lib/python3.11/dist-packages (from huggingface-hub<1.0,>=0.20->fastembed) (2025.3.2)\n",
            "Requirement already satisfied: packaging>=20.9 in /usr/local/lib/python3.11/dist-packages (from huggingface-hub<1.0,>=0.20->fastembed) (24.2)\n",
            "Requirement already satisfied: pyyaml>=5.1 in /usr/local/lib/python3.11/dist-packages (from huggingface-hub<1.0,>=0.20->fastembed) (6.0.2)\n",
            "Requirement already satisfied: typing-extensions>=3.7.4.3 in /usr/local/lib/python3.11/dist-packages (from huggingface-hub<1.0,>=0.20->fastembed) (4.14.0)\n",
            "Requirement already satisfied: hf-xet<2.0.0,>=1.1.2 in /usr/local/lib/python3.11/dist-packages (from huggingface-hub<1.0,>=0.20->fastembed) (1.1.5)\n",
            "Collecting coloredlogs (from onnxruntime!=1.20.0,>=1.17.0->fastembed)\n",
            "  Downloading coloredlogs-15.0.1-py2.py3-none-any.whl.metadata (12 kB)\n",
            "Requirement already satisfied: flatbuffers in /usr/local/lib/python3.11/dist-packages (from onnxruntime!=1.20.0,>=1.17.0->fastembed) (25.2.10)\n",
            "Requirement already satisfied: protobuf in /usr/local/lib/python3.11/dist-packages (from onnxruntime!=1.20.0,>=1.17.0->fastembed) (5.29.5)\n",
            "Requirement already satisfied: sympy in /usr/local/lib/python3.11/dist-packages (from onnxruntime!=1.20.0,>=1.17.0->fastembed) (1.13.1)\n",
            "Requirement already satisfied: charset-normalizer<4,>=2 in /usr/local/lib/python3.11/dist-packages (from requests<3.0,>=2.31->fastembed) (3.4.2)\n",
            "Requirement already satisfied: idna<4,>=2.5 in /usr/local/lib/python3.11/dist-packages (from requests<3.0,>=2.31->fastembed) (3.10)\n",
            "Requirement already satisfied: urllib3<3,>=1.21.1 in /usr/local/lib/python3.11/dist-packages (from requests<3.0,>=2.31->fastembed) (2.4.0)\n",
            "Requirement already satisfied: certifi>=2017.4.17 in /usr/local/lib/python3.11/dist-packages (from requests<3.0,>=2.31->fastembed) (2025.6.15)\n",
            "Collecting humanfriendly>=9.1 (from coloredlogs->onnxruntime!=1.20.0,>=1.17.0->fastembed)\n",
            "  Downloading humanfriendly-10.0-py2.py3-none-any.whl.metadata (9.2 kB)\n",
            "Requirement already satisfied: mpmath<1.4,>=1.1.0 in /usr/local/lib/python3.11/dist-packages (from sympy->onnxruntime!=1.20.0,>=1.17.0->fastembed) (1.3.0)\n",
            "Downloading fastembed-0.7.1-py3-none-any.whl (100 kB)\n",
            "\u001b[2K   \u001b[90m━━━━━━━━━━━━━━━━━━━━━━━━━━━━━━━━━━━━━━━━\u001b[0m \u001b[32m100.9/100.9 kB\u001b[0m \u001b[31m9.4 MB/s\u001b[0m eta \u001b[36m0:00:00\u001b[0m\n",
            "\u001b[?25hDownloading loguru-0.7.3-py3-none-any.whl (61 kB)\n",
            "\u001b[2K   \u001b[90m━━━━━━━━━━━━━━━━━━━━━━━━━━━━━━━━━━━━━━━━\u001b[0m \u001b[32m61.6/61.6 kB\u001b[0m \u001b[31m5.8 MB/s\u001b[0m eta \u001b[36m0:00:00\u001b[0m\n",
            "\u001b[?25hDownloading mmh3-5.1.0-cp311-cp311-manylinux_2_5_x86_64.manylinux1_x86_64.manylinux_2_17_x86_64.manylinux2014_x86_64.whl (101 kB)\n",
            "\u001b[2K   \u001b[90m━━━━━━━━━━━━━━━━━━━━━━━━━━━━━━━━━━━━━━━━\u001b[0m \u001b[32m101.6/101.6 kB\u001b[0m \u001b[31m10.3 MB/s\u001b[0m eta \u001b[36m0:00:00\u001b[0m\n",
            "\u001b[?25hDownloading onnxruntime-1.22.0-cp311-cp311-manylinux_2_27_x86_64.manylinux_2_28_x86_64.whl (16.4 MB)\n",
            "\u001b[2K   \u001b[90m━━━━━━━━━━━━━━━━━━━━━━━━━━━━━━━━━━━━━━━━\u001b[0m \u001b[32m16.4/16.4 MB\u001b[0m \u001b[31m116.1 MB/s\u001b[0m eta \u001b[36m0:00:00\u001b[0m\n",
            "\u001b[?25hDownloading py_rust_stemmers-0.1.5-cp311-cp311-manylinux_2_28_x86_64.whl (324 kB)\n",
            "\u001b[2K   \u001b[90m━━━━━━━━━━━━━━━━━━━━━━━━━━━━━━━━━━━━━━━━\u001b[0m \u001b[32m324.8/324.8 kB\u001b[0m \u001b[31m30.7 MB/s\u001b[0m eta \u001b[36m0:00:00\u001b[0m\n",
            "\u001b[?25hDownloading coloredlogs-15.0.1-py2.py3-none-any.whl (46 kB)\n",
            "\u001b[2K   \u001b[90m━━━━━━━━━━━━━━━━━━━━━━━━━━━━━━━━━━━━━━━━\u001b[0m \u001b[32m46.0/46.0 kB\u001b[0m \u001b[31m4.5 MB/s\u001b[0m eta \u001b[36m0:00:00\u001b[0m\n",
            "\u001b[?25hDownloading humanfriendly-10.0-py2.py3-none-any.whl (86 kB)\n",
            "\u001b[2K   \u001b[90m━━━━━━━━━━━━━━━━━━━━━━━━━━━━━━━━━━━━━━━━\u001b[0m \u001b[32m86.8/86.8 kB\u001b[0m \u001b[31m9.5 MB/s\u001b[0m eta \u001b[36m0:00:00\u001b[0m\n",
            "\u001b[?25hInstalling collected packages: py-rust-stemmers, mmh3, loguru, humanfriendly, coloredlogs, onnxruntime, fastembed\n",
            "Successfully installed coloredlogs-15.0.1 fastembed-0.7.1 humanfriendly-10.0 loguru-0.7.3 mmh3-5.1.0 onnxruntime-1.22.0 py-rust-stemmers-0.1.5\n",
            "Requirement already satisfied: datasets in /usr/local/lib/python3.11/dist-packages (2.14.4)\n",
            "Requirement already satisfied: numpy>=1.17 in /usr/local/lib/python3.11/dist-packages (from datasets) (2.0.2)\n",
            "Requirement already satisfied: pyarrow>=8.0.0 in /usr/local/lib/python3.11/dist-packages (from datasets) (18.1.0)\n",
            "Requirement already satisfied: dill<0.3.8,>=0.3.0 in /usr/local/lib/python3.11/dist-packages (from datasets) (0.3.7)\n",
            "Requirement already satisfied: pandas in /usr/local/lib/python3.11/dist-packages (from datasets) (2.2.2)\n",
            "Requirement already satisfied: requests>=2.19.0 in /usr/local/lib/python3.11/dist-packages (from datasets) (2.32.3)\n",
            "Requirement already satisfied: tqdm>=4.62.1 in /usr/local/lib/python3.11/dist-packages (from datasets) (4.67.1)\n",
            "Requirement already satisfied: xxhash in /usr/local/lib/python3.11/dist-packages (from datasets) (3.5.0)\n",
            "Requirement already satisfied: multiprocess in /usr/local/lib/python3.11/dist-packages (from datasets) (0.70.15)\n",
            "Requirement already satisfied: fsspec>=2021.11.1 in /usr/local/lib/python3.11/dist-packages (from fsspec[http]>=2021.11.1->datasets) (2025.3.2)\n",
            "Requirement already satisfied: aiohttp in /usr/local/lib/python3.11/dist-packages (from datasets) (3.11.15)\n",
            "Requirement already satisfied: huggingface-hub<1.0.0,>=0.14.0 in /usr/local/lib/python3.11/dist-packages (from datasets) (0.33.0)\n",
            "Requirement already satisfied: packaging in /usr/local/lib/python3.11/dist-packages (from datasets) (24.2)\n",
            "Requirement already satisfied: pyyaml>=5.1 in /usr/local/lib/python3.11/dist-packages (from datasets) (6.0.2)\n",
            "Requirement already satisfied: aiohappyeyeballs>=2.3.0 in /usr/local/lib/python3.11/dist-packages (from aiohttp->datasets) (2.6.1)\n",
            "Requirement already satisfied: aiosignal>=1.1.2 in /usr/local/lib/python3.11/dist-packages (from aiohttp->datasets) (1.3.2)\n",
            "Requirement already satisfied: attrs>=17.3.0 in /usr/local/lib/python3.11/dist-packages (from aiohttp->datasets) (25.3.0)\n",
            "Requirement already satisfied: frozenlist>=1.1.1 in /usr/local/lib/python3.11/dist-packages (from aiohttp->datasets) (1.7.0)\n",
            "Requirement already satisfied: multidict<7.0,>=4.5 in /usr/local/lib/python3.11/dist-packages (from aiohttp->datasets) (6.4.4)\n",
            "Requirement already satisfied: propcache>=0.2.0 in /usr/local/lib/python3.11/dist-packages (from aiohttp->datasets) (0.3.2)\n",
            "Requirement already satisfied: yarl<2.0,>=1.17.0 in /usr/local/lib/python3.11/dist-packages (from aiohttp->datasets) (1.20.1)\n",
            "Requirement already satisfied: filelock in /usr/local/lib/python3.11/dist-packages (from huggingface-hub<1.0.0,>=0.14.0->datasets) (3.18.0)\n",
            "Requirement already satisfied: typing-extensions>=3.7.4.3 in /usr/local/lib/python3.11/dist-packages (from huggingface-hub<1.0.0,>=0.14.0->datasets) (4.14.0)\n",
            "Requirement already satisfied: hf-xet<2.0.0,>=1.1.2 in /usr/local/lib/python3.11/dist-packages (from huggingface-hub<1.0.0,>=0.14.0->datasets) (1.1.5)\n",
            "Requirement already satisfied: charset-normalizer<4,>=2 in /usr/local/lib/python3.11/dist-packages (from requests>=2.19.0->datasets) (3.4.2)\n",
            "Requirement already satisfied: idna<4,>=2.5 in /usr/local/lib/python3.11/dist-packages (from requests>=2.19.0->datasets) (3.10)\n",
            "Requirement already satisfied: urllib3<3,>=1.21.1 in /usr/local/lib/python3.11/dist-packages (from requests>=2.19.0->datasets) (2.4.0)\n",
            "Requirement already satisfied: certifi>=2017.4.17 in /usr/local/lib/python3.11/dist-packages (from requests>=2.19.0->datasets) (2025.6.15)\n",
            "Requirement already satisfied: python-dateutil>=2.8.2 in /usr/local/lib/python3.11/dist-packages (from pandas->datasets) (2.9.0.post0)\n",
            "Requirement already satisfied: pytz>=2020.1 in /usr/local/lib/python3.11/dist-packages (from pandas->datasets) (2025.2)\n",
            "Requirement already satisfied: tzdata>=2022.7 in /usr/local/lib/python3.11/dist-packages (from pandas->datasets) (2025.2)\n",
            "Requirement already satisfied: six>=1.5 in /usr/local/lib/python3.11/dist-packages (from python-dateutil>=2.8.2->pandas->datasets) (1.17.0)\n"
          ]
        }
      ],
      "source": [
        "!pip install -qU langchain\n",
        "!pip install -qU langchain-google-genai\n",
        "!pip install -qU langchain-huggingface\n",
        "!pip install -qU langchain-qdrant\n",
        "!pip install -qU langchain-community\n",
        "!pip install -qU langgraph\n",
        "!pip install fastembed\n",
        "!pip install datasets\n",
        "# !pip install -U \"fsspec[http]==2024.10.0\""
      ]
    },
    {
      "cell_type": "markdown",
      "source": [
        "# Code"
      ],
      "metadata": {
        "id": "n-3XxUtTFPhi"
      }
    },
    {
      "cell_type": "markdown",
      "source": [
        "In this assignment, you will need to set up and use\n",
        "1. LangSmith to monitor your agent.\n",
        "2. Use hybrid search to improve your retriever\n",
        "3. Use a reranker to improve your search result.\n",
        "\n"
      ],
      "metadata": {
        "id": "BOnQUC-vVgJZ"
      }
    },
    {
      "cell_type": "markdown",
      "source": [
        "## TODO 0: Set up LangSmith\n",
        "\n",
        "Create a LangSmith account and set up tracing for this assignment. https://www.smith.langchain.com/.\n",
        "\n",
        "No need to configure, just add your LangSmith API key."
      ],
      "metadata": {
        "id": "yUiunZrnDIw0"
      }
    },
    {
      "cell_type": "code",
      "source": [
        "import os\n",
        "from google.colab import userdata\n",
        "\n",
        "os.environ[\"GOOGLE_API_KEY\"] = userdata.get('gemini_api_key')"
      ],
      "metadata": {
        "id": "fYl0GVh_UCAB"
      },
      "execution_count": 1,
      "outputs": []
    },
    {
      "cell_type": "markdown",
      "source": [
        "## Components"
      ],
      "metadata": {
        "id": "JD2KQEXtGqLY"
      }
    },
    {
      "cell_type": "markdown",
      "source": [
        "We will be using Gemini as our LLM. Feel free to try out others if you want."
      ],
      "metadata": {
        "id": "hWMzV-Goqjel"
      }
    },
    {
      "cell_type": "code",
      "source": [
        "from langchain_google_genai import ChatGoogleGenerativeAI\n",
        "\n",
        "llm = ChatGoogleGenerativeAI(model=\"gemini-2.0-flash-001\")"
      ],
      "metadata": {
        "id": "0V2N4n8DGrd4"
      },
      "execution_count": 3,
      "outputs": []
    },
    {
      "cell_type": "markdown",
      "source": [
        "For our sentence embeddings, we will use [ModernBERT](https://arxiv.org/abs/2412.13663) trained by Alibaba as it is small and performant."
      ],
      "metadata": {
        "id": "5Wl6UDzxqt12"
      }
    },
    {
      "cell_type": "code",
      "source": [
        "from langchain_huggingface import HuggingFaceEmbeddings\n",
        "\n",
        "model_kwargs = {'trust_remote_code': True}\n",
        "embeddings = HuggingFaceEmbeddings(model_name=\"Alibaba-NLP/gte-modernbert-base\",model_kwargs=model_kwargs)"
      ],
      "metadata": {
        "id": "_uamWhgFGwsK",
        "colab": {
          "base_uri": "https://localhost:8080/"
        },
        "outputId": "5c4c8448-ed8d-4fa5-eb01-0caf33ca720b"
      },
      "execution_count": 4,
      "outputs": [
        {
          "output_type": "stream",
          "name": "stderr",
          "text": [
            "/usr/local/lib/python3.11/dist-packages/huggingface_hub/utils/_auth.py:94: UserWarning: \n",
            "The secret `HF_TOKEN` does not exist in your Colab secrets.\n",
            "To authenticate with the Hugging Face Hub, create a token in your settings tab (https://huggingface.co/settings/tokens), set it as secret in your Google Colab and restart your session.\n",
            "You will be able to reuse this secret in all of your notebooks.\n",
            "Please note that authentication is recommended but still optional to access public models or datasets.\n",
            "  warnings.warn(\n"
          ]
        }
      ]
    },
    {
      "cell_type": "markdown",
      "source": [
        "Likewise, the reranker is also based on the ModernBERT trained by Alibaba."
      ],
      "metadata": {
        "id": "74HajtoZryFT"
      }
    },
    {
      "cell_type": "code",
      "source": [
        "from langchain.retrievers import ContextualCompressionRetriever\n",
        "from langchain.retrievers.document_compressors import CrossEncoderReranker\n",
        "from langchain_community.cross_encoders import HuggingFaceCrossEncoder\n",
        "\n",
        "model = HuggingFaceCrossEncoder(model_name=\"Alibaba-NLP/gte-reranker-modernbert-base\")"
      ],
      "metadata": {
        "id": "uf6EXLTmUgB_"
      },
      "execution_count": 5,
      "outputs": []
    },
    {
      "cell_type": "markdown",
      "source": [
        "For our dataset, we will be using SQuAD v2 dataset."
      ],
      "metadata": {
        "id": "cHD5GXcAWJlo"
      }
    },
    {
      "cell_type": "code",
      "source": [
        "import datasets\n",
        "\n",
        "ds = datasets.load_dataset(\"rajpurkar/squad_v2\", split=\"validation\")"
      ],
      "metadata": {
        "id": "eY2ojeRsr77P"
      },
      "execution_count": 6,
      "outputs": []
    },
    {
      "cell_type": "markdown",
      "source": [
        "## Indexing"
      ],
      "metadata": {
        "id": "k2QulmK5GAaJ"
      }
    },
    {
      "cell_type": "code",
      "source": [
        "from langchain_core.documents import Document"
      ],
      "metadata": {
        "id": "Rjik9YIZA_4R"
      },
      "execution_count": 7,
      "outputs": []
    },
    {
      "cell_type": "code",
      "source": [
        "all_docs = [Document(text) for text in  list(set(ds[\"context\"]))]\n",
        "print(len(all_docs))"
      ],
      "metadata": {
        "id": "r2Cg8NL0AdjJ",
        "colab": {
          "base_uri": "https://localhost:8080/"
        },
        "outputId": "b53f9812-b2b3-472a-e37f-b4e0b4986132"
      },
      "execution_count": 8,
      "outputs": [
        {
          "output_type": "stream",
          "name": "stdout",
          "text": [
            "1204\n"
          ]
        }
      ]
    },
    {
      "cell_type": "code",
      "source": [
        "from langchain_text_splitters import RecursiveCharacterTextSplitter\n",
        "\n",
        "text_splitter = RecursiveCharacterTextSplitter(\n",
        "    chunk_size=2000,  # chunk size (characters)\n",
        "    chunk_overlap=200,  # chunk overlap (characters)\n",
        "    add_start_index=True,  # track index in original document\n",
        ")\n",
        "all_splits = text_splitter.split_documents(all_docs)\n",
        "\n",
        "print(f\"Split wiki abstract into {len(all_splits)} sub-documents.\")"
      ],
      "metadata": {
        "id": "gaqd68wEFIiN",
        "colab": {
          "base_uri": "https://localhost:8080/"
        },
        "outputId": "d05eee13-c054-4ca4-ba72-596166d84a1c"
      },
      "execution_count": 9,
      "outputs": [
        {
          "output_type": "stream",
          "name": "stdout",
          "text": [
            "Split wiki abstract into 1222 sub-documents.\n"
          ]
        }
      ]
    },
    {
      "cell_type": "markdown",
      "source": [
        "## TODO 1: Hybrid Search\n",
        "Embed your documents in a vector database that supports hybrid search. Also set the retrieval mode to hybrid search. Use BM25 as the lexical search.\n",
        "\n",
        "Hint: read more on `QdrantVectorStore` [here](https://python.langchain.com/api_reference/qdrant/qdrant/langchain_qdrant.qdrant.QdrantVectorStore.html#langchain_qdrant.qdrant.QdrantVectorStore). (You can use any vector DB that can do hybrid search)"
      ],
      "metadata": {
        "id": "5vbjsA4css9s"
      }
    },
    {
      "cell_type": "code",
      "source": [
        "from langchain_qdrant import QdrantVectorStore\n",
        "from qdrant_client import QdrantClient\n",
        "from qdrant_client.http.models import Distance, VectorParams\n",
        "\n",
        "client = QdrantClient(\":memory:\")\n",
        "\n",
        "client.create_collection(\n",
        "    collection_name=\"demo_collection\",\n",
        "    vectors_config=VectorParams(size=768, distance=Distance.COSINE),\n",
        ")\n",
        "\n",
        "vector_store = QdrantVectorStore(\n",
        "    client=client,\n",
        "    collection_name=\"demo_collection\",\n",
        "    embedding=embeddings,\n",
        ")"
      ],
      "metadata": {
        "id": "wn4hNqm37xCs"
      },
      "execution_count": 10,
      "outputs": []
    },
    {
      "cell_type": "code",
      "source": [
        "vector_store.add_documents(all_splits)"
      ],
      "metadata": {
        "colab": {
          "base_uri": "https://localhost:8080/"
        },
        "id": "4FDdIvmMrGXL",
        "outputId": "946d1471-3568-4e75-f28a-3e414b4ab21d"
      },
      "execution_count": 11,
      "outputs": [
        {
          "output_type": "execute_result",
          "data": {
            "text/plain": [
              "['c2711ee798db4808a9581b6ee604c26a',\n",
              " '98c0fa0b39444c06a603234db2a7abd3',\n",
              " 'f4449ac7714c4ed8aed878adb5616258',\n",
              " '9c33c42c43994ad5bc13fe84e54872e3',\n",
              " '8a6d6bfbcd1a44e0953d46330cbb6199',\n",
              " '88a60c7842cb4b64859d3ad117bb478c',\n",
              " '065e140110ff438dae6cef4c8c7e52c8',\n",
              " '45176ed1baf44fa8868d95afcec8feb9',\n",
              " 'd975eed6047e45e78ec6a37b9f1fcc3b',\n",
              " '0b9a893b3cb34053adc5ff49aadb037f',\n",
              " '493c9ac95f5c4c91b1e3cacf56facfbb',\n",
              " '7eadbe94dbca4d278ef561d921522118',\n",
              " '11d9b94b7a2f4b37848c50552e7af7a6',\n",
              " '02961e934efe416e9e804868bb2a80cc',\n",
              " 'dc411bfe93164643806495943fdcce86',\n",
              " 'da7d4d2e8ceb433ba6e2e750750b751c',\n",
              " '279f12e15e984af48897add8b88b938d',\n",
              " '9c7363838f7c43f590c237fff0ad6a30',\n",
              " 'd64274b27bc44524908a57fdfd4801e1',\n",
              " '0b76f1252c3c46a9bed6931a2da0235d',\n",
              " 'f3c5a0b160a54f8a94e219cb20bde809',\n",
              " 'ba6be13627c44bec911cef6fe0fabaca',\n",
              " 'a2bfa2920b8c4ecab0fa587d932bcd7c',\n",
              " '4739038c3f2e4c308d07ad5ca9eb6bfc',\n",
              " '8684e8c78ec44245b139f84e3cc7b9b8',\n",
              " '36eb4a3fbcd74d6a89a40209d5a0db5c',\n",
              " 'a120d7bacf8340d59ef514356f501fe2',\n",
              " '1b5e826177b34b6bb8a96398db3e6ad3',\n",
              " 'fd6f439c9c9f4467bcea51580cb6f4d2',\n",
              " '3c5bc466eb3645e7a079ec893cb55b99',\n",
              " '8bac5291db054d3ab59589c185a37d75',\n",
              " '1b7f567ccc434ab48e21c7fcd948b506',\n",
              " '7db5a75a347842bcbc8fb9a9f701a6d5',\n",
              " '3d6e570274a14fd18c4e9ada877af9c9',\n",
              " '8c5de08b412947ada28aebd47cc8ab17',\n",
              " '8b8c1bbce8804a4eb82c16ab73bebacc',\n",
              " '2055b318fa214ef8a01c6a6478c87b14',\n",
              " '6cf3462527b046848fc9d906a7d60593',\n",
              " '7c2bed9dbaa549de8ed8eaadd64c6439',\n",
              " '8caad7f907df465486176bfef0c16a13',\n",
              " '6d3afdcaf6914a50a69100651087ece6',\n",
              " '2125eba9e2c04e369736acb543b749e8',\n",
              " 'f0fc368635844afbbc16a7de85348a45',\n",
              " 'b07f0bfeb443434e957554da1438a8cc',\n",
              " 'c6576c06e05c416188b7d971c983ace8',\n",
              " '299238b9842941e9af30f91226b87fad',\n",
              " '5f09cbb12d8f41c89ecaf1655dfe0ce2',\n",
              " 'f4cd1ac92b824f788472a2e6dcac58d9',\n",
              " '586aa12165f9414e9ed41080c3d23acb',\n",
              " '806e99d132ea4bc0b1de811336f801b9',\n",
              " '20c998bc919f41b5ac9cec6636c1f0cd',\n",
              " 'd26d6a3a07854c7292a120b190bd2e62',\n",
              " '3f1cf668efe6461cb6177e45efdba737',\n",
              " '3398f2749c7c48fa855c04d5705c1cd9',\n",
              " 'f20001b5cfee4f4096bf4a396c731be8',\n",
              " 'c143dac70f2a4ae597404dc2d6ab1259',\n",
              " 'b89af1f9983d4416b239d4096c67496e',\n",
              " '639329a142374169a5a01aec25832ce5',\n",
              " '2e4faf272a7c4625b15dc1f289256374',\n",
              " '17752c32710a4618babd47b39e91e06d',\n",
              " 'fae178b82c1a45a5ade757a7f91c7158',\n",
              " '0f2b6700d57048ffb4e7c53b89e8f375',\n",
              " '27cff8ba631c4045bd96c8453df0aa80',\n",
              " 'b2679c22c35e4f54961235699fbea7c9',\n",
              " '267c3f84b1784e6a8fea5f723ae64dc8',\n",
              " '8cbec38366ca48aa9f1dea5a3ff15a77',\n",
              " '0f8c1b6fc5b34dcd9e8a306b09a6be6f',\n",
              " '639dcbe68d194c18827d0f6148d0361c',\n",
              " '19f220a6878c4e02871e28bda85e5616',\n",
              " 'a5cedd0f7e0a4a71acefb0d5d2c20832',\n",
              " 'bdbe03b24e284e1db5ea9c107cd9606a',\n",
              " '8973a056dc6b469584f0b0d1c07960c0',\n",
              " 'c6cd3e58eacb4965b8eed68fe9b6f84f',\n",
              " 'bb025a34f1534450a532880fbc80947f',\n",
              " 'f7b31d1165064156ae0fb1d26d67cab5',\n",
              " '3b8553452c784c61b66ed1e7838dd71f',\n",
              " '47cc29d3f7db4c07b1d0a4580584aade',\n",
              " '3c0950ea83f34e31bdba30cc2df2820b',\n",
              " '67fe8afd02204eecbfeef873fee0b155',\n",
              " '879c7511d6ea43b2971e61d6b2805a76',\n",
              " 'd5a3032712834a5285a9f676cb05b40f',\n",
              " '7cf30fc0bf7745f3af6db4af11743ff5',\n",
              " '1b655747e17d4a2e8a7970726e3a5dd5',\n",
              " '14df604fb92940a98e6f0271ceeb6c49',\n",
              " '37180330dc28437f8517bcaa2d8fdd4b',\n",
              " '8a5f7e0b5e114eeb99d5bc8502b718f4',\n",
              " '1ea979c89e774b289da5c83b2e084916',\n",
              " '0beafdb55e4b4a84b25e9b4492682177',\n",
              " '2fd165b60c5943a2a33d5285ca95a354',\n",
              " 'a32f89777e294c468041d92d719e77ab',\n",
              " '4eeb9616c33d41559693948b5e6a142f',\n",
              " '9b4815a50f1f4ac08d72cf56c268d4ef',\n",
              " 'f3de6deb8ab645b18b65ccee9ec1e5e8',\n",
              " '6fc9e99b2035491998cdd6b129faf43d',\n",
              " '2d6be38185c14a6184cecf134979e659',\n",
              " 'ffa3f13b5c0d40a38a3130d296a15f90',\n",
              " '57dace7453a74e09ab208dcc914d0dda',\n",
              " '46255d73365a4e6183fe4e43d5996af9',\n",
              " '991beece0bea4de38a42ad50b665bf48',\n",
              " 'fd35002ca6a9481596000a70cea6fd42',\n",
              " '3b2031eec29240c6bef541d1e1134765',\n",
              " '125346baad794bb5b4a34cdcde6e779c',\n",
              " 'c6191f9236564cd49755263fa071802c',\n",
              " '63c21470ba464e70b5a632d6be9b8124',\n",
              " '2239287e875c40e29c09022159e451f3',\n",
              " 'c2500882b45345c7954726d239ca3369',\n",
              " '7970ed47650549d9ae2a566bac7a80bd',\n",
              " '58d7164599f94dc092cb2c562294ac8f',\n",
              " '49c4a3cca8124b2a92e28eed2fde72ed',\n",
              " '4d6513b49c9743a1a6bd1d3955f424c3',\n",
              " '390be3138e934081a387cea1290ce142',\n",
              " 'd20d4361ac6f4463a3968d1fa71c5e6a',\n",
              " '3ec176a4e9da4afd9067d680b07dcaf9',\n",
              " 'c08b23f417244eb19b5e466b6a0d3210',\n",
              " 'd0b5447ad4644ce484bfbb2224cd3041',\n",
              " '253cc79b5bfd4e8b80ed1506ba5dc628',\n",
              " '825e0025d6074e139dbd6fa1206390ce',\n",
              " '60fbb1fbf5254f15b9425a4c2cb72277',\n",
              " '6c8afff8bd024c67b53f9b414b0260e1',\n",
              " '2c8710c4fbbc408f8e351751f0ff02ec',\n",
              " 'b4b5261c2378431cac00257569ff9db3',\n",
              " '45f2af9df8c04ddd9bb8682f2fe7c737',\n",
              " '3e0200c6202c451094021a29021c52ee',\n",
              " 'ae78d63ef5eb4d90bd21a7057050516f',\n",
              " '6017af55d6034c93833abfe9a74ceb86',\n",
              " 'd54964b11c8f4201b10cf3c0081c6f67',\n",
              " '08d2335f1490458e89496b5c2fec53f8',\n",
              " '613adbdd4bf3488e8d86fe9167cd4a6c',\n",
              " 'd063cac88d104491aa20ba830909aa3c',\n",
              " '261d3fd175994b44932a15cb1f026512',\n",
              " 'e6fb958e91c245b9a702a16c2bec8d08',\n",
              " '01f3e4ea9cac49f7bd3a667973c1d6ee',\n",
              " 'b801627ff8d2479dafca23b84a82c9a1',\n",
              " '2055f95437a247e98bbc71d47d92ef68',\n",
              " '41b6642fe9a4491497d7f17e624452de',\n",
              " 'db16bfcb9519400fb51c7562b980256b',\n",
              " '1f1d3ba3b76744c39739606a2cef2029',\n",
              " 'c64c40e30e674ad4a34ba7e6ac406ecf',\n",
              " '4b815dbe973341bd876c32c9b8386827',\n",
              " '41cb520e804447cb8d647881714bf766',\n",
              " '84e7528f4303458da7d5c9489ac37219',\n",
              " 'd759af47393e4915a101f351828a985a',\n",
              " '5223daf5e21743f68991d2035736c6f0',\n",
              " 'aedfc2a8b1214d019f1a0d5ba3655ff0',\n",
              " '03d9117937d14a368d825ea8a665658f',\n",
              " '95728045042548e8ad1b129047a8a401',\n",
              " '52c54b6ba1964042b5e60db35e95fcfc',\n",
              " '2eb8794472e34f189f806c8f9a611697',\n",
              " 'cd397ad861c544a8a0718db4cf885b3c',\n",
              " '7f4c8ac730de449d95bd1143d52d36b3',\n",
              " '29e4c9af17e04b07ac7672f86c7272ee',\n",
              " 'e043dc6234e145c395432af72c821fa6',\n",
              " 'a2c9b1a9f93346038039dcaf58515d55',\n",
              " 'f216b194373b4ec8945ced8d56578d01',\n",
              " '618f0e57a7554ed28f6c375a326892a9',\n",
              " '1417be3f4fc849b59fe4dee1114b2d82',\n",
              " 'd45695db411c42359411d6cbbcd65107',\n",
              " '6af561540fca4f62b0fc029ea0cbd0e5',\n",
              " '00d6b1ad877a4dfd99403c159b7bcdbe',\n",
              " '84a91150664e4ef194f6363646171463',\n",
              " 'b604a7f7f51849938fe21bc39b8b612a',\n",
              " '2cef4a281f3643ab88275c2201d89795',\n",
              " '958e02494465406b8176cebaa1a74e00',\n",
              " '27c541ae370348b8b5fe1b1b95b1fd04',\n",
              " 'c08619db81024c8ca8b6523a4d10056e',\n",
              " '1d85d1c0ffc1483aa23e8d37b0ea1442',\n",
              " '5db4b29b808940bf89c9eae792c9bc59',\n",
              " '5eb3398e4c394683b03f657d5437757b',\n",
              " '082d6a61304a45c69eb12c7106b12524',\n",
              " '7bf7bc5299a346bb9f0d5999ad2de91a',\n",
              " 'd8f7731b12bf4fafbd24b07eb52e5703',\n",
              " 'b9b2d04abedc432c962f81a851adbd2b',\n",
              " '76faccde08c34a1ea37354065d51b7fb',\n",
              " '7fe4e3371e114b918be48f138c2fe13d',\n",
              " 'f7d9f993e4354e589f0a7d38514d8f13',\n",
              " '5c7f529dae964bd7be8efbe431f30223',\n",
              " 'c97bd88445f14a01ab53c795538bb5c2',\n",
              " '62c4b9e6774643f7aa305134f32cc766',\n",
              " 'b094b7e95e9041ffb8433fc65330c17f',\n",
              " '48ce60bc4e9e4335871905e7a691f2e8',\n",
              " '8d4ea5cc42f1493c8f9a854a0370e528',\n",
              " 'e3fa5a0a4c714e768b837759450dfb68',\n",
              " '0188a05c2b1948ac90da262cd104d1b8',\n",
              " 'fa4890ae03dd42a39b7eb379cb01035a',\n",
              " 'ae218597086143d2a75ca5819793ecd2',\n",
              " 'c655659c22bb4a6aa91a6cc96d83045d',\n",
              " 'de1fa4efe07349a88b8906b2a34c315d',\n",
              " '25e8ac93d84d4a60af3b1fb4d792891a',\n",
              " '1323186b27a94736b1a05758054162c0',\n",
              " 'bc1a60f81a1246b99db3d852d055dde8',\n",
              " '77b40dc359bd48a59255fbd5d02c5557',\n",
              " '655118c8394a4442923f75ae64bbc82f',\n",
              " '8ad5ca53604e4749817589e7483bb6a2',\n",
              " '19af9b61c2004103a28884c9bb674988',\n",
              " '92d6fddceac6454c9226fc555c8d2d6d',\n",
              " '433098f21a344e72b6c036b9c1d5e64f',\n",
              " '134ee02d874245539556237db7be86e4',\n",
              " '482a2bd7720349ef9ce5dcd78a87ea08',\n",
              " '36b4ecd6bac24bfcbd0c6cd3fa78f408',\n",
              " '0f5faebcdec5411f8c83f39a0b83b208',\n",
              " 'cf2592345a9e4c2a835a8d8f787aaf0e',\n",
              " '27585d9dafda41719dd8cb0f7a659c93',\n",
              " '90f47f5c4a814968a3374d62341566f5',\n",
              " '848a99e3af5e4b8dbcf7cde0c9a1744e',\n",
              " 'f6d86c4f00024284aeba3a737ffc0c12',\n",
              " '719115d0f9624b0dbc621485da1088bc',\n",
              " '0b02e33e60e645998cb9b12d446764ed',\n",
              " '226f172ffb024a268de7d49cb25f718e',\n",
              " 'f3df3f85f29441339d3515a1b5c7b041',\n",
              " '858df657da15407485ca6be0c8d95c65',\n",
              " '0a3777616556484dbe58498b5e2e71bc',\n",
              " '5e2ff3f92db6451bb1a01aa25fc8f8b3',\n",
              " '0c9a6ea7e70146af8c531a3ef0dd27af',\n",
              " '45bd68bdcce54d3fa8c9fd7073c358f0',\n",
              " '27a44c7f68f441e6845f29846c5a8c7e',\n",
              " 'b7a9b0344f2b4f31a4a6e69d082209b9',\n",
              " '5ca31b80d720443c9547f718edb66f96',\n",
              " '2a6b4b1ed9984cb6a4ea73f0b9f75f39',\n",
              " '893e4b69be65469b868a8e14a89ccad7',\n",
              " '0bb800c89db14955a2e1ce28dad1298a',\n",
              " '4c37264d2f9540edb2315e7b77a31483',\n",
              " 'facdb42789cc494bb7a3c16446b16dce',\n",
              " 'ee9771757f1f47a48af1db8a1155dd98',\n",
              " 'e49391801b5b4aaf8e162591e6fb7ddd',\n",
              " '20c672f4fee54f16839a0be0372ab5d7',\n",
              " '6930534ed1b1405797e8c6e456a396c5',\n",
              " '9cc1b23a63614a08845342e4e6e6f94a',\n",
              " '88955da79b4d41528b772508ea287b78',\n",
              " '49f11d5827124441b9b82907dc822c54',\n",
              " '0a8a5cf2132c484b83b88925ddddf838',\n",
              " '82f20a49441a4060b354d5b6a56d1c65',\n",
              " '6cf3905b38b54bb4900f3f9d9e2e6a31',\n",
              " 'b8edce10b6504bb9a9132c8dae9b2075',\n",
              " '28a16f57c373429eb7ab65006831a7a7',\n",
              " '7f21f9ee985b48bc93b90dfc48f9f93a',\n",
              " 'd360364e8cff4fb199580ebe509260b8',\n",
              " '709cb59b626548999c79f50d24efa741',\n",
              " '019b3af2b35b4a0cbfd9cdbbdb907096',\n",
              " '5066f421c69745c5a95c49ec6140340f',\n",
              " '63f3a3a722994bba826c50b5fd113425',\n",
              " '4be28be31ed846988feb1a9fd950d9e0',\n",
              " '22029f810c3945f3a66ee02b0a54088f',\n",
              " '8d21e023412042dab10bd9b87e63eb0d',\n",
              " '8fcd08999f1a434c873eaa72ad2aaaee',\n",
              " 'd7f2bac5990c4d0bbb81e4d121466fee',\n",
              " '41c3f6d2045c46b0a14fbccdae985628',\n",
              " 'a5cbaa7f80924989a244e735a28b77e3',\n",
              " '41340b3cb4d146aebbfa7b5429023e0b',\n",
              " '1181eb8a067640acb36cada8c972dbd9',\n",
              " '9ead9bd4a39f4abab74b2cbc4eb66afd',\n",
              " 'c43bb7e051534ad7b7d4285bfb0b64fa',\n",
              " '73908f1873bb4d39b334013466cbe1fb',\n",
              " '41e7db36437f49ceb9dd34764bb258f5',\n",
              " 'c3661e05e76b40ac8770618d03e1d24c',\n",
              " 'a30393b745124fd4baeffa31cdb22724',\n",
              " '4de9685484de49688c9a1e372bac047e',\n",
              " '439a222373c24712b5a48eb4c4c9720c',\n",
              " 'a723f1d8d21440e7a13eee0f58ce143f',\n",
              " '500276dcaee64c1fba8a3749e8f17619',\n",
              " '185ac42458a8442681e0cd065a9c89da',\n",
              " 'b7be05229c4d47ceaf1983dfd6c9bdbf',\n",
              " '017629d331514249948a343af53be248',\n",
              " '365b2ca748d24e52b8f6c0f1fdf0d5ea',\n",
              " '48d8561b027f45848521077b511e6322',\n",
              " '6353698756f04c01814816a02685cbf4',\n",
              " 'fa3822a4401b42789d87f138a6416942',\n",
              " 'c3f5074523b2483a93ca882b458c61c1',\n",
              " '8d96f9a0f23947e3ae55b485840e4de6',\n",
              " '1304bd3cc5194b8f938ecb0a137124e9',\n",
              " 'e14a2ddeb1fb43da918864ae16005989',\n",
              " 'c95e00aee2af4dd9bbb934d52d09eb19',\n",
              " 'f1c3133d767147edb0acd5ef6239bf3c',\n",
              " 'd7c5e672a669471689c529253a891329',\n",
              " '1b68dbe92aca41858658fd72a4c7333b',\n",
              " '701bf0fc81ec4ad4a965ee6de2cd35ff',\n",
              " 'ba6eec09d374430685a42413c99d7824',\n",
              " '8166f513c1eb4bcdad80b57afd8e1bce',\n",
              " '4680454002124173ae345a2f045a634c',\n",
              " '82288db0d79d4cf3add2453c22fcdcd9',\n",
              " 'daee4132837d47ae8d4ecd6fc53e20b9',\n",
              " '3863b04701754ea483a5cbb187b871c9',\n",
              " '54f20f53816e4362b0e3ae0f231fcbea',\n",
              " 'afecc7b5a50846cf87f4ea9a99246229',\n",
              " '3b46e3fe9d3f49959f2f40dc4447edb0',\n",
              " '98419fd3d3ca49bea35dad9048d12ab3',\n",
              " '5ce3d71194004f7cb4400630b0e64e5a',\n",
              " '21877a8d41864ee488cfeb29fd3d6d15',\n",
              " '1a6c3f695ad34806ae603ee5de33eb3a',\n",
              " 'f7cdad5bdbdf4f25835a48fa1b82c128',\n",
              " '4ccd1926e64b4f8cb7a85601c046b28d',\n",
              " '3bbb1493cb9e44ed8f9a9773182c85b9',\n",
              " 'b1d4f93958fc4d1e8cac7a134cb142d9',\n",
              " '362d9621374d43258077d60bbbf4c816',\n",
              " '18a032639fa343ad95ba65c5e5b9c805',\n",
              " '7c05b12dbced40a885368b56e175d4f5',\n",
              " '94cdfadf7e114959ad9409b3f3effa90',\n",
              " '39d2bf89f08e40b0a5d4463da0b86ea1',\n",
              " 'bb06303946df416f9bb01db213b839e9',\n",
              " 'bca4f7a7c4a2422f8595e4cd58e287dc',\n",
              " 'b1f9829fa8444be49c5a18af2b541372',\n",
              " 'ae56f788b48c4e09968dac003bd878e4',\n",
              " '694efd26767e4a67a3d575b3d11812cd',\n",
              " 'af109cff3d774208aa83db490838d5da',\n",
              " 'c7ff2bf8cd854d028110c456e19c55d9',\n",
              " '3edac8930116487ca2defbbf2587bb3e',\n",
              " 'e5056dc0ba4844e689788327cea2a2e5',\n",
              " '9d9c4dec5b564d75ad58897b69a25c35',\n",
              " 'b13577439c05464ba4af7b6706bb8a04',\n",
              " 'f1214d454da54cf8a92c9131e6e2cebf',\n",
              " 'c71950e50cfc4f2f8292a5f6577d3231',\n",
              " 'a99ce48c6ed1411f931329115e52ead9',\n",
              " '82dcf18aa79e426e9b6c94f8f4cafc0a',\n",
              " '9fc4af4b3b0a4e729ec7bea2b5372252',\n",
              " '34dcd9cf4e8f4ae0a77ec2e6cf4e1e33',\n",
              " '18f41cb2ec1a465284c533e6b810e052',\n",
              " '750763d4fbc7456c8bd4f7729b6029b2',\n",
              " 'a51c535ab5b04b609da45d667735c364',\n",
              " 'b756825ee5004ade8c5aab316ddfc8bb',\n",
              " '0e1ac10ac2014c87a27bb41f0a3cfa88',\n",
              " '00ece434671547e5be6d77e7b167749d',\n",
              " 'dc15238f56854dc1ab6639d76c295f21',\n",
              " '26d152c29e4d474da89078b464ff918b',\n",
              " '1ecc6335e99743afacc0f37a12446b72',\n",
              " '45a40fcd386045458a39a5159d000ea1',\n",
              " '51ed2b8a2b964f108ed3a4bc2b5985b1',\n",
              " 'db14b6918c3d4b3791d67b834e35ad20',\n",
              " '78340715696a4c3d9c220cd0587d3a8d',\n",
              " '14b172b6c4a541f4a92facdd37da200a',\n",
              " 'b8ca35a9182748488f67ed8ecbee7aef',\n",
              " '0fdc60b8c5ae4eda94103ebd4caf2113',\n",
              " '0138da7447494507a5f463898cdd8e0f',\n",
              " '743ed1062c484c7786c88f99ce4b7fb5',\n",
              " '34b2dff9596942f39db46a1cae101900',\n",
              " '1ab6cecf991b41e491cf43be2dce860c',\n",
              " '91a1f6728e224d20b8de18b5c4c8069a',\n",
              " '7201a69341624a71b4eff852306e75ac',\n",
              " '476cbf97b7f9403ebe4bf29a14d0278d',\n",
              " 'f3cecce9d7634c29977385c7fdee171d',\n",
              " 'c51ad8e3a9724c028a2cea6a37e296cf',\n",
              " '78d30fb00cf84ad08e11f0e2f544888c',\n",
              " '875dc40ea57643f5ac27c4366e49b770',\n",
              " '1a1a6e127d6940b3bc6daa3ba289c144',\n",
              " '9fc00ed696e542018270d3865d90a766',\n",
              " '098d8916a9fd4eb68768640ad82db41d',\n",
              " 'bc0f07a8099a43fc8de86f943c3cbfd2',\n",
              " 'f1de2de4aba242c28610080de88ddae9',\n",
              " 'b25922227723446bb295550e3eb36c8c',\n",
              " '45fe026a20af40d886c79d648c469d97',\n",
              " '2a7ec789065442738e903988a476925b',\n",
              " '8fbb568938d24d3aa2749ec39880f4d9',\n",
              " 'b4a9bd78680c4bc9af478ffc2f083e12',\n",
              " '07adf4b143374d51bb461286c846522f',\n",
              " '31ce60dc57c14469b1213ddf0328ca7d',\n",
              " 'fc9d001fc13b43cb8ac88296d5bfd18c',\n",
              " 'f2a6494b340e49f988a9a3ad44989f5e',\n",
              " 'de4c4212880f4a4e833a55f11c893601',\n",
              " '57386e7e209c4bebb85e61ad40052d39',\n",
              " 'fc449f5bcc9e452ca898a4afbf861d71',\n",
              " 'bd17e4df1899414c9f2b4c4e759264e5',\n",
              " '6cb977490b8146fb8eacba7058bfd297',\n",
              " '67652de085f84e1585ff2d5e81025f16',\n",
              " 'b3bb71cbad63487fb55f74c18e88f5dc',\n",
              " '8bbc13d83f3b49e8b84f9060cad99a5c',\n",
              " '9615b9fee5a8421baf7f803c0f4d22ab',\n",
              " '872710cc05db4357b36b3d742e4da287',\n",
              " '15aae1d3a2304136b93f923101a01d27',\n",
              " 'f419849a9ad64708873828cd83160045',\n",
              " 'f20613ce973d42cdb4e644fd5609a40f',\n",
              " '992f9774a6474c5d842fb74e1e868b15',\n",
              " '87f22ab7a4654fc2bf2492eb4e2d9254',\n",
              " 'c8caa99fac14487995cb87863009a127',\n",
              " '6d651d11f4b24d708fec715ea3fafac5',\n",
              " '66740541d6b74b89b32ab0ddafdc5a64',\n",
              " 'ba3c719a402b4aa097aaa3de863d855d',\n",
              " 'c666c22c0e694b278011d04911f57882',\n",
              " 'f1cc63b758044643807348656d23652f',\n",
              " 'b812e5d004a64f969bcdbb20f6005c0b',\n",
              " '64ca4e1d2e5a4d9dbcdb6312123b6a38',\n",
              " 'cf828a92d9204389bcb7f99caf4ea9f6',\n",
              " '74386e87abef410e84d343d1090c2c0e',\n",
              " 'a15a2a3c0bf840a0bb2d86e29e56af2b',\n",
              " '52c765b1a4444e0a8db0600221351fbd',\n",
              " '9b71bb47e77b448abfa23be1720e1cea',\n",
              " 'd2445ad510084753b61fbe29eaa4d2b4',\n",
              " '92c41188b0d948f0b17d13e0f82957ef',\n",
              " '49edeb3ca8944de888bba88e2d3be195',\n",
              " 'c9909841d3ac4853a361d7a8b06b1282',\n",
              " '15ecf5df114c49b5808cf4788c954879',\n",
              " '0806dcfc83b24f7da100def7839ec540',\n",
              " '7b91b7472aaf404894edcb26d2c2c8f6',\n",
              " 'c9eb8a68e7ef485085a9de72edda1917',\n",
              " 'cb7a0f27687b4aa094c638c2e0e8e210',\n",
              " '8720c4aef4c34c5583e52df589f986a2',\n",
              " 'b5853608144644a7b50ff634210c3463',\n",
              " 'f40e5667e33b4494b74f9ee3a5a09259',\n",
              " 'ca9ac1f736da45c199fce690193259af',\n",
              " '04b1d969714549f08740c5fe9523dc0a',\n",
              " 'd3032868dbdd4a9d9b354911f1840472',\n",
              " '96f1514027f94b7aafbec3f8106f0e7e',\n",
              " 'cd04fdbcf084472db6f923737ba60e2e',\n",
              " '182a7dec1426450598c00d16de951ee9',\n",
              " '95aa9f5b0f914ffd8688ef1c3aaa4055',\n",
              " '7947b9fcaec945de80489394c5eab64e',\n",
              " 'b71ecdbcbd164ddd8c28dac519fd4eaf',\n",
              " 'd317487572754d3a9d190d55e2547665',\n",
              " '3009eed21e424cfcbba02a5e3ccd28ce',\n",
              " '5cf5d6afa3884cef8a24ad6d30879d66',\n",
              " '45a6b6f43dda498aae8850ed351c131a',\n",
              " '1f5712ea004840e29cd0bea8348e1f09',\n",
              " '932355b31e4041ae9c9264ee05cc3bb2',\n",
              " 'f402abdd4c4d40fabeccd663b625b25f',\n",
              " '0b2285d0d4914bdeaf985491d7edfc3c',\n",
              " '6f39befb7a5e4f81afddfbdce572057f',\n",
              " '2d4b79125a854fa2872d681d26cff797',\n",
              " '41bb32a4b9d24f3583f5f647caf19c14',\n",
              " 'a2f79bc754b3436ca4ea3422c0afd5ed',\n",
              " 'd8ef46b24a0542bf9374bb56137beb5b',\n",
              " '1ce08889db3f45cfba597b1a228e28b4',\n",
              " '5c2c741d03a9403a88a6b13d8d43ef44',\n",
              " '3e14a1c1c9e44cbc80d6e2e148c82994',\n",
              " '6c23db1f7ebf47bb99c99106dea6f128',\n",
              " '236edb52b45d46ef8c401434f111a14e',\n",
              " '6be7a2295c2d43de9dcecafe7fe028b2',\n",
              " 'c03923101b734ee496d4d528cea03b95',\n",
              " '9a4b595ccfc54f2b9b6e45e181ad061f',\n",
              " '917545e630794a52a477ad3b1f9360cb',\n",
              " 'd6d564745ea34c259bdb84398a76f07a',\n",
              " 'cae51ed75e2c4479b1d05f74379f36d8',\n",
              " 'cbeb96143c214f98b03aa9bbf56287a5',\n",
              " 'ae17acd4100849d5a453b628b7f2d38f',\n",
              " 'dbc47bc8771e4605839ccb920e628c80',\n",
              " '67fe8525c8714bc08c17c8fecf143158',\n",
              " '53dace93fdcf4df8abca856a6f44f4ba',\n",
              " '99b5bb32b96b42b380b968d5dd65c40b',\n",
              " '8ce4280a933a4765ac5aa5e47c131a5a',\n",
              " 'f1dfbca0b08e4ca3b467bd54d17c87e0',\n",
              " 'd5edf8a8a98043c3865b63442f48d484',\n",
              " 'acd29ddf489f45f8b563eddfc5365987',\n",
              " '90dc4b1e9d794daba46dfd5eabb72bf0',\n",
              " 'd4b7ed97cda24c5c8e229b822b830af1',\n",
              " '8152567dafdd452da357b9ab7e889d84',\n",
              " '7ea6a107497d4d27a83112aae8738570',\n",
              " '45860998187b44099f0af27523cff71b',\n",
              " 'f7b71fb91464410f9720a5dc370f8d19',\n",
              " '89217e970c07496c9b89e5b295f6f8f4',\n",
              " '3eee948cf90b4214856d3fb59ad20b05',\n",
              " '6a2da03597b64e1b884ebe3c0ebd5212',\n",
              " '9bffa295bd1f4bea945d0e465f4fb1bb',\n",
              " '29f24a45cb6843798aa1864f99313134',\n",
              " '47e4d30b3c7343039f4f8a4193ef002d',\n",
              " '43d2f3e8e26b494eb181819cc7689b79',\n",
              " '49ce30bd65d04991944e5c8ca6b40376',\n",
              " 'd52ad6b20fe8446e9d0e74d2eac765b2',\n",
              " '3d96efe158254669ad1216438e699719',\n",
              " '636c75023f744f39aac1a91df7ae828d',\n",
              " '087e675796bb4129bd435c0a2b35c372',\n",
              " '6bcfa7b2198a4ec49ddbb9496e0b1c9d',\n",
              " 'dfa60cc6e25d4cba9097f6fa2c30a489',\n",
              " 'f765e344ddf14f08b77b10f57dbc1f76',\n",
              " '8fb3626ec4d1463ab379b0f090a5ceee',\n",
              " 'a903cacf954b4777942e6ab4451c4420',\n",
              " 'ca9b1be23a70414486660bc383774293',\n",
              " 'b82a49595309484f9d8d1192b34a51a0',\n",
              " '4fa6807c02554f9299c284a7620a86af',\n",
              " 'e347a23980474321881e614ac748f10e',\n",
              " 'f3d9587c40d34209884e5a8da9aa0b3a',\n",
              " 'c7abdc65eb39483dbb1bb03e6b88cd2e',\n",
              " 'd72ed542109144d38181c5ca6bd1418d',\n",
              " '993b05f104464d509851f2c138e9d0e5',\n",
              " '4dfb1122349c45b8a43897e778df626e',\n",
              " 'ddb59b8a27aa4256aa25557b3964886d',\n",
              " '5c14affd1b99429e86eeeb1ed5bd6e6a',\n",
              " '6c19dfd6b40b401183ba38bb95b654ce',\n",
              " '5b5717bd43254aef9fd19d754675947f',\n",
              " '02f99a065fa64b62a1b3efbaf5bc8748',\n",
              " 'cae8114a04374cc1afee812d04160b01',\n",
              " 'eba6564615014831989470e63dcd2775',\n",
              " '55297c97d2f54516b1cfe59806dc8208',\n",
              " 'ac199b1b7ffe408b82d963db869a2ce3',\n",
              " '8503f769995d4d83a0c98ee894eed73b',\n",
              " 'f57eac6bf7b44cf4813d0c8be9227c70',\n",
              " 'e1a57b28c15b407388fe070cc72f1f9f',\n",
              " 'a36213a69ec14e9896e1a421aef3f28c',\n",
              " '30e3e2cdb6c04239a0c201befc142972',\n",
              " 'd3add3a518094e39a7ecf5dbdc601c8a',\n",
              " 'b946a53de96648bea4005a049cdfaed7',\n",
              " '93545be9d2454285a91dfe29a551ae58',\n",
              " '969277edd5d94d87a42e3c78cce651e7',\n",
              " 'f55e07414ba949f08cc1fc6c66694109',\n",
              " '2e082dff338b4308944284976f102102',\n",
              " '9363f832d8a542bcb869d6be31932a80',\n",
              " '76edfe4b5cef45b1abac4f91adfd7510',\n",
              " '9545347a59634e3f8d7b744e42bf6938',\n",
              " '9da298673bea45a489f4bdf7fa18b7ed',\n",
              " '351dadb5dc2143148458b0cba1df593c',\n",
              " '758a8d140e8d431cbb299c1b64b9c603',\n",
              " '2499bf759472408d9543dcc2f418e0f5',\n",
              " '9a04ea8a33444856bf7ee03b1dc2cfb0',\n",
              " '21a6a8a37563488fa1f4fc6212e9a1c3',\n",
              " 'b911547a538f44c4bc280ac061827125',\n",
              " '7832776a0d534d3688a32589b704b4c1',\n",
              " '2cfe7098a0164b40a9a9076a3e01e5dc',\n",
              " 'f6def75a2fd84dd6907cca129dc0a76c',\n",
              " 'eecf9bc8d2f5469387dc1f3f96e2dae6',\n",
              " '54c4e64f0b364c2c96baf6594ef74395',\n",
              " 'bba0ff74d9a24d1eb1c07028a011f7dc',\n",
              " '1168b17045c640608b8b00ea1dc410fd',\n",
              " 'b0f58ba8fdbc494bb71ed68313b2d2b5',\n",
              " 'bfeb41a76f5d49a7aab75255913b4e34',\n",
              " '0737f5ac9a124c6ca1880e6ba322a681',\n",
              " '9b820cc0efa0486eb1d1fe5918ded16e',\n",
              " '918f1fc1f7d2401ba50fb0bc58569fd9',\n",
              " '4f96e595d016412c95b748504711eb30',\n",
              " '815cb0035e9f46659531f58a64873b63',\n",
              " '483c941677504077a9703d625b5862f8',\n",
              " '3a893a5af9f146c98e683dbdeb4070fe',\n",
              " '2c2946e1eef14971a1db2e0953b78ae6',\n",
              " 'f590bb240c0a44089ca200afa5253177',\n",
              " 'fe388ac1601d4078b140661d04a9e89f',\n",
              " 'afe98f5b43a04eeead622a7291e8a554',\n",
              " '7c0f014f5860480b9af6d7e6ec28d0c9',\n",
              " 'e0582384f3424f4f92eeba41561a7620',\n",
              " '9b8b8ba7eced467db82dd6f4123193b8',\n",
              " '17ceb4aeb7294905820c162599ebf90e',\n",
              " 'a2fec70f042a4f408aff8a5b601d408d',\n",
              " '085d347d869e46789941babd378289c8',\n",
              " '2f1aae3b5bf547fb8ffa6c55d0056e77',\n",
              " 'bdd268623146431fb31851314ff9fbed',\n",
              " 'a6afe88bdab74008a61d3d339f94d7a0',\n",
              " 'c775eabc92b84f9f8026f5160d0a8a1d',\n",
              " 'f8204d4cc1b9421fb567d33a648624eb',\n",
              " '5538bff284b24155b5936340544c535c',\n",
              " 'd2265275b7694a7f955b979d1cf097b5',\n",
              " '84eb81fa54ce4f41b61a7a2b8b16cfa4',\n",
              " 'd36bde831ff1413691ae4189435fce0e',\n",
              " '2070bc6af2484401bdb322cab57d9196',\n",
              " '5039b5f650504b94949bc6a5d1cb9522',\n",
              " '970d0ac2ccb14f13bfb40a34d2414422',\n",
              " 'fa725d2b7ba5435db8a480e0e7f85913',\n",
              " '382d0614d5ac4944a09dc94bef34ce5f',\n",
              " '38b469c8fe2840f688f1a6476a802322',\n",
              " '194d92e826384cc19fa1f3170de02f9a',\n",
              " 'abe7a76278bd4491ae1ad2dd50e81514',\n",
              " '5258f72361df4842874c943829b85fc3',\n",
              " '5cfa13d9861a44f4921446c80919ffa0',\n",
              " '2928cbb398624c9bb1970c8b04e21fb2',\n",
              " '808b275557bb4d939ec578466b9727b1',\n",
              " '814f15e7cb9743f797b75e9ef4dc0420',\n",
              " 'b730238a4c074217a7d3aaa9cb9296e1',\n",
              " '9a6bf425f6e446e599b8808e006f06fe',\n",
              " '05e68b1178994730ae0d4ae75769a80b',\n",
              " 'e59a5bb08fed4198a580ee88253ea7ff',\n",
              " 'ddbf4bbee0964cdeb0b25eabcc86653c',\n",
              " '5a7886efbcc24b239fa264343d51eff4',\n",
              " 'bfdef2cf13114759bb44b8a093481966',\n",
              " '2987ca690273408fbdb1252e1b109e2b',\n",
              " 'abd958f9ea0c42d1b8eb7cf8ceaa2c39',\n",
              " 'f90f29376fe3448cba682085f48586d2',\n",
              " 'dd1a7b62d1d94cfe9d5664568334e817',\n",
              " 'a126b60a2ea647a49e254e66ec0b06e7',\n",
              " '8f1f9c6453114792a8093c8e4eaad33f',\n",
              " 'adf4f6762db242ad8f4283a0c9d62c4a',\n",
              " '41b902a108564a88a839c86471bdf7a8',\n",
              " '988c90febe0342df89dd28b457ff564a',\n",
              " '6bfb35fda2c6409fb43f41c04e25b10a',\n",
              " 'a7a89410d4824b22a103056092c19a0d',\n",
              " 'c188c064c0fc40adafbca36ec9fc70fb',\n",
              " 'fce544e0a02f4982869ffc5d57df63b7',\n",
              " 'a34282a6b6304fcf9bfe9c3aa1fbce28',\n",
              " 'a3ecd40a98584e03a03ce669231f883c',\n",
              " '9a4761bff0ed4fc3bcd973a937cc6b3b',\n",
              " '075c8818ee3b44d3ae4f7e60ada201f1',\n",
              " '22dd64c3aa6c4b91b529d93d628fe17e',\n",
              " 'c7fdd5a99a8e4c38b14ad292847d0875',\n",
              " '54a9b67e3d684d6abf8cefadb14207ff',\n",
              " 'f49c703471b747d39b8b3502faf164f0',\n",
              " '4f7a524876d4476db7d2cd6595f42020',\n",
              " 'a2cd087438234e64adc3597d3a863a8e',\n",
              " '0f9b03fc9f574b9ca909063e8d1d08ea',\n",
              " '0b20953e7cd242509d29b8e1052cca21',\n",
              " '9dc3fb57bcac41f5a32d6866a128c0f9',\n",
              " 'd0d2fd1b18d64b71863d4ef00fa0ee1e',\n",
              " '98b1f495c62248ba836c7334983771e0',\n",
              " '14f3b0927765408abbc8779bdb8b1aea',\n",
              " 'f62cbe9f0ad74d1aa2b720742abf3b04',\n",
              " '1b9f584f04674668b9d3130ec7263f35',\n",
              " 'fc607168773b49cb85bbe0174091a0fe',\n",
              " '3589659bf5c94e689333adbbe6aed7d6',\n",
              " '21be0906f5a64bb0b3987bea6ff5c027',\n",
              " 'a8269480b0a04da98520b314a7e2fcc5',\n",
              " 'cb23d048146040a398f8ffae75393c5f',\n",
              " '8984df271a5d49899cf68684110a4d35',\n",
              " 'c9518743ed4645f5885d358d0a4b3c47',\n",
              " 'c30bfe6cc37c452b872d5d03f3740463',\n",
              " 'db13e535f16b475a91dff6067fc9da46',\n",
              " '57af76ef2aa14105a73a901b81e22294',\n",
              " 'd4ffbb756bed43dfad52827fba58c6d7',\n",
              " 'de2f55fb5b6c470bbe06ff4d74f7545b',\n",
              " '74554e3bb47e4a9dab484f7f2b0777f8',\n",
              " '931f5ff5f3f4431c83c0f1af187ac802',\n",
              " 'e72d0df39cd244458861a90c8902e9a1',\n",
              " '26ca978724b34f9f95f8fee927fab7be',\n",
              " '3335351f670e469783c40688b78d8272',\n",
              " '220b0295e77043eeb1a06f4aaee00a17',\n",
              " '953e4d7618ad427eb8f28fa17c1e71ca',\n",
              " '81cf2bc732964060a4cc40e4654cacb5',\n",
              " '2f8d5cf7c006441ead8cf1a152f6e20a',\n",
              " '0e5c9a5ef88b462f874f9b78e6763b8b',\n",
              " '8fa7a6ffdd294ac48e985c5cffe4798d',\n",
              " '5c2a26ae2a2342b9960357fe3ed57cc4',\n",
              " '8f179efe97b442dfbeea75e2744c4157',\n",
              " 'c321c850039140d4a0e06fca2d4f95ee',\n",
              " 'eb1e7c87368e4b04ba5513c803af961d',\n",
              " '380635968c3842c79819ff30f0ba8ff1',\n",
              " '609db50be76a431aa047db3ba6b3520b',\n",
              " 'd4a27267ef9947dea92e0c1528eb65d8',\n",
              " '0c031155730344a39ed7b884b290b6c5',\n",
              " 'f68451f5788d419a94fa5a52aee50eca',\n",
              " '7e2b9b86ae8c4a6795b6d747f350541a',\n",
              " '5d85130fdea74e9592118601f1d8bca7',\n",
              " '431bc4b259254e9e8ccd26c17d301528',\n",
              " '2c201cc6b9c4433d898ea4d8d9e50137',\n",
              " '66a4e80dafe44bc8b1c8328891af6508',\n",
              " 'c00001555d09424c88fb164d0fbab7ec',\n",
              " 'a600ed6b341a4073bc7b23750bf09123',\n",
              " '0612a8704fb8420183226645606f597c',\n",
              " '1f2b7d847696413dbbb66b682a77e44e',\n",
              " '5126de03c91a43c4a2b4deec1a27164b',\n",
              " 'cf592eac14cf4b44a36279f44b34e9d4',\n",
              " 'b07f5351ea8442ec92e7fab716b2b909',\n",
              " '89490f3d1fa04a12af47eb094b62e6d5',\n",
              " 'f692f833a13f418b8cd2513a75bf3a70',\n",
              " '9d1e5841799a4e2f93eb8428e80fb916',\n",
              " 'e08ab5511ba048d295bb77bb3632ebe9',\n",
              " 'c7b753449984410a90cc0099cdfd2743',\n",
              " '596c3483e4ce4c42ad2422150b7df422',\n",
              " '653b533fae8c4582acdea7f055827f6e',\n",
              " '6d3f8b3a468f462d8dc13475756f2250',\n",
              " 'e9577c2ad8034068a17b18d017defa3d',\n",
              " '8786de0d0af0422684c8c32a1cc20f59',\n",
              " '2b038f7cf53a414abd48b62fa0393915',\n",
              " '70e1cd8c9fa04e399c76eba55be8e8b7',\n",
              " '9b9158bcdc864b7485841c00b23a302f',\n",
              " '18a9e41fbb904ce3b0752673da8e01ea',\n",
              " 'f5266b4e2dba40009159c3150ab5fb89',\n",
              " 'c0fafef16aa6455e89f2bf0e1081c9c3',\n",
              " '8ea23027430c4f5b8dc2c029fd56f0e1',\n",
              " '70ae0a03be1943eabfa57c7117ac8ba4',\n",
              " 'ca678f6c1bab40d6bc53a47031ba7e5d',\n",
              " '8a52111cbee945f48f3043057e62a314',\n",
              " '2ea7e8f0071245ab9cc6d339a4ab69b7',\n",
              " 'b9414969ac984b28b5172fac12a6cb79',\n",
              " '2050786fd471480c86f7774e5202d33b',\n",
              " '04f3ee2d902047f48d2e88c74a08b529',\n",
              " 'ccfbe6e4408e427cb38ec93fa2602db3',\n",
              " 'd9dccbb94855401bafdd4b6199b7a419',\n",
              " 'b4eb426bf61f4528b4b7db40ee1c2705',\n",
              " 'a9bf251f0c584d93a12a318180ac2eb5',\n",
              " '624780b3718546d8856db99f696ec5d6',\n",
              " 'e05652ab20a64108996c52e3ebc5e06f',\n",
              " 'b0ad7287817f4e6689db5e76dd163d1a',\n",
              " '53b126c9397747839492c3f9a33294e3',\n",
              " 'c556b890d8db4cc286119749a2a41cc2',\n",
              " '7982a9a4796c40a6b9db2e5599c8ffdd',\n",
              " '9520a1f2d9f44c8097b0da79d6bfd52f',\n",
              " 'c65a5d7f185840d385e9f7abb3521163',\n",
              " '98c31202c391402ba1014de999274508',\n",
              " 'b61bf88fab55468fb2ecf965a6aaae24',\n",
              " '630dac2e9bec4bf4a9ae5d7181f39637',\n",
              " '3b51d3794a27429cb5f6c0645e4edbc4',\n",
              " '550a04b848a24d45a5dc2ccf82d78eb4',\n",
              " 'd16318d6c84e4ee18c219aaf0e25dbaa',\n",
              " '7e10cc10602a4333b5028302dc191e27',\n",
              " 'e9a69689ed85417a87f8b0d92bb75fc3',\n",
              " 'd3aa1ec12560475f9cc8af50345eca07',\n",
              " 'd5e0dffb133b443096f013109edbac05',\n",
              " '6da7c0dccd604961a4edde163a243068',\n",
              " 'e196747a49b64684abc9635cb40dff9e',\n",
              " 'e1fc6a2a970c49e3802cc8321f3b13e5',\n",
              " '0fb89dfb60794235876411a1f76794d5',\n",
              " '08b82bb707b142f0a8b6a1c21b4b1ad7',\n",
              " '1a7e0ad6d5904f56a3dd73b9c32c86f5',\n",
              " 'e9e678209d1b438b8caeba38ae3d701a',\n",
              " 'f24ac47e36d549ce8433dae9a36b5b50',\n",
              " '38ae33c95ef34ac9b793f1a01e255096',\n",
              " 'c968cf8f2e8641f2a1ab22e008653625',\n",
              " '536f8013b8f044499ffb494e25f8ddd5',\n",
              " '75a4a7849d01492dbdbf436905f0beaa',\n",
              " '0ff4adcedf384746b01d5549b3eda0fa',\n",
              " '50cba068c14b4e278b51e8699bc26aed',\n",
              " 'e5fd380f6baa4b7f9efde05c2eb3d5af',\n",
              " '125e25d4216e4cbd9523a15451c13f94',\n",
              " 'adb978d6c2d841349c12d117d06e062c',\n",
              " '79bbd7a54e144eb7a5799c588d6f3505',\n",
              " '01b05c6099e64c2887dcef43896d834b',\n",
              " '6fd2334f0e79462fa9f031fbecc3aa29',\n",
              " '7558be99739b479d80292273b12eca95',\n",
              " 'eb5d2e6c17b84f169160e3b74af7c9d2',\n",
              " 'd65220c492dd49a2a9bd853dc3b24557',\n",
              " '39efda190a1d471c989696cee7eb8c46',\n",
              " 'dcb16462b2764ac9b769a37f5663234e',\n",
              " '71be66aa57594e14aa39eb8abaea1267',\n",
              " '53bda557da094bcd8d709ee16d165e15',\n",
              " 'e006262e904f4c06b7c14ab92dd3093a',\n",
              " '16dc077b5a2f4309b55967edb1c998c5',\n",
              " 'cbbee458fe934c8d828a4aee8c6f0c42',\n",
              " '2116e344f8e843eabc89946bb4498f88',\n",
              " 'db09ceb98ffa4cfeaafcb17e46b7f69b',\n",
              " '51ce002380ac49389bcd22004e10ce48',\n",
              " '1b815b27d8f34aeba6214ee30ea71564',\n",
              " '8f5c4b9de61945b89c02bcc5b8c9574d',\n",
              " '5e17a177d1fc49f19d862df27bbfcf30',\n",
              " '715338f54d6947278fe84489dcbe503c',\n",
              " '16b7fe2a0ecb4a55b24bac94340efb6b',\n",
              " '541a1cfbcdbe4760a356880b73b9f6de',\n",
              " '308f170030b946fc8f36bb60f4ee22b0',\n",
              " 'd955df0efcb344c49e4c0c8857aa94d6',\n",
              " 'a4927312e2fb45a9b9b1f36a7f8ff907',\n",
              " 'b311a97153164e79b258449872324cc8',\n",
              " 'b84b53017f1e458d8101eea0494a2bf4',\n",
              " '8474f5576f67409eb3bbe379ef6dc520',\n",
              " 'd3691d9836154ce5850d005d4fcb6abd',\n",
              " '67f1563a21374a11ac4b10689276e027',\n",
              " '34002029cb3f42559dc2337b9cf488e7',\n",
              " '37e5eb5cbc4742d1a9ac48f4fada7a99',\n",
              " '2d4a215b52da428f8c035b854cc8edf8',\n",
              " '887519ada9c747b4846d43f300448742',\n",
              " '0b91ca42040a4b94897f597e6e55c004',\n",
              " 'e2c296b987314800ae8f0b9a0149ebfd',\n",
              " '4bf57bb2869d4cca8839dd6538d5a0b5',\n",
              " 'fbe01e1fbbeb47119cd6db586bf6251f',\n",
              " '9b80be4754a94b3ca2b97f74f1b95d8a',\n",
              " '96486b5e728340328058e90dc1e25354',\n",
              " '903dbfa26c354ca1b333308eb7b6dec9',\n",
              " '18560ef4826d462a8196c8d8e6d0e05a',\n",
              " 'c79bc39f455648d69c44ab035bd5c3eb',\n",
              " '2d87e7af16054e518eef8a0a639f518f',\n",
              " '8e7cf86941e641e7ba1367dfdaae5127',\n",
              " 'b9d49aec7cdb4a0698397646ebef6c4e',\n",
              " 'c81bea774fb24fd4ba6ce41db8ff0ce0',\n",
              " '94d869a8f6c84d08bfec9ba380570135',\n",
              " 'e3d9808e9d8e41fcace89830b5e55615',\n",
              " '72232525994045d0af93a85b3d421573',\n",
              " '192d379fcf3644f8b783423c2b84cacc',\n",
              " 'dfded188a8cc42bf98d826bbdfaf5dd8',\n",
              " 'ac67507f98a34029a656dac285f773e6',\n",
              " '12181050777f4f368976aeee29bcb41d',\n",
              " '3cbc5d8b0ef544909db4c08b95619884',\n",
              " '68c06826d91844b78505364ee808c400',\n",
              " 'cc6e4e64f5914ba98e47e76bac27b665',\n",
              " 'f691e79e0a5a481ea84645d463ce10fd',\n",
              " '64a64bd9cf0a46699c82e5235e9b5b6a',\n",
              " 'd6d795c72b9546d797841b781cefd2ce',\n",
              " 'e6cdae72e69b4206b5c43a8097e3e6ca',\n",
              " '87a83b940eb647439cb271e79d8999ba',\n",
              " '0c086d20fabd452dacf1ddb4e64cef04',\n",
              " 'e69e448ad991415eb4629575f02b5161',\n",
              " 'e97e01b215f64d1c9ced2b18c11b12ce',\n",
              " '071751a91be840a8801986e3fd49bc20',\n",
              " '31e579a965e9442b90c642d79fa8e12f',\n",
              " 'b2981e0cb3d74d8faef0d7f60fd97cbd',\n",
              " 'b786ab2b58dc436e8b21908af1a9cf7c',\n",
              " '7a0a76a420654c429b6cbef860e6e602',\n",
              " 'ce2ecb0dc7ac42cb87af9fd7a65fc634',\n",
              " '634a624ac1c24d999ddf4a9a52407421',\n",
              " '7908f6cbfd6e49b28e2c5947878e339c',\n",
              " 'fe7dab710b3f4746b47f4f91fb450579',\n",
              " '1ae9ae299c2f4fbc8e2672f29bbc1417',\n",
              " '9409a93845ec4da1bdcd1e48e649d15c',\n",
              " '72b3e534cdb949499d08ba29c9e8c8b0',\n",
              " 'f40993f8d5624a2db7e24bc93dd22c2d',\n",
              " '947ea3a9df9c42cb91ab9ea160b450fe',\n",
              " '68750110e1e94a69937ed5f77165e993',\n",
              " '76210ae1dcc64747ae1f73f9400217ed',\n",
              " 'db4569b0d8354c089c3375360f274f0d',\n",
              " 'c191c051630a4855bd6e4aa769c63ed7',\n",
              " '46b096e307904dbf801d042cbd25c0e9',\n",
              " '27437f6acb2444ee9cb674fadc8844e5',\n",
              " 'c0e2e531190b40188ddd6895762d147c',\n",
              " '7f1746e9d3984affaa98dc5f394249de',\n",
              " 'f5c1a32d3ef04f96a73b847461e47487',\n",
              " '3739527e28034236abf3a57757e746e5',\n",
              " 'c1dfe0c693e94915a558865f97f4a522',\n",
              " 'eabe27aa3c1342809011e47e026f5568',\n",
              " 'e30b8a967023418490b66f3efac107a8',\n",
              " 'dd12107c0dc247e3be573f9ad3025c09',\n",
              " '955181faa71242d7a1c22e0f9860d771',\n",
              " 'a8c4109cb47842df815be1ec4c1a6d7c',\n",
              " '2f50c015cfdb41f98c0ecade100007fd',\n",
              " 'b8befe81b8d845febfd2f9bdd67be71e',\n",
              " '0b63775feba44cb98e990f19fa6618c0',\n",
              " '73d8b96e89fe4ad3ae4bdfdd06e5fb3d',\n",
              " 'f45bdba08a16408391088c8d819597a0',\n",
              " 'ec08cf3b03dc4cda86d9aa8e99528f9f',\n",
              " 'c34e84c24134432eab74ee80d83e1a13',\n",
              " '28e500c4676a4870b00658accb83038f',\n",
              " 'b8b7370327c64fb4afc264a58d610a55',\n",
              " '1bc2a1ea21944108860f16a9bdb19f6f',\n",
              " 'a9ac86e59c784262a5a81e1c15d73288',\n",
              " 'b51d3a6af3bc4321a574785ec93e99db',\n",
              " '47f693da461048baa9b099ca29787bf0',\n",
              " 'c04aa6a52fcf4fbfa189a332bf4799cb',\n",
              " '725cbef3d6d14669b183f100df5a7bd7',\n",
              " '1b3e66840f0b4add953ceb1bf853af65',\n",
              " '1bfd1d4208944e2ebf70af486f666988',\n",
              " 'c574a3a1a9684db3832ef853d99a6d6f',\n",
              " 'cca37e719ad54d32abd783bd55b03cae',\n",
              " '8fd3a5159863427b89bad2ce4425b9db',\n",
              " '57a3dc9aa45640f6891d0457b9ce6f40',\n",
              " '0602c37c8543414bb361195f19c7ce66',\n",
              " '71d72746a3ab465cbda24e070dd91c75',\n",
              " 'a11442f664c94aac838c47050a86b051',\n",
              " '00b745a35c194bddb085acdf8f65b5b5',\n",
              " '00034c82573e425abec575c20527fd96',\n",
              " '7b38b362bb76457ca74586b571fa4c52',\n",
              " '74238a2370ee4859951403766b1e6a60',\n",
              " 'b6f5a6ccadcb4484868da1fadc3ae46f',\n",
              " '438acc8a5460490e828c060b2cd9e809',\n",
              " 'c0a11fdd3d5c4306b9826e841da7dc68',\n",
              " 'e0238db3e1ab4b6cbe1f668e104ccd7d',\n",
              " 'cc855d7b5d6443dc84b68a3ee60d9a02',\n",
              " '24f2089591c044bda36a4add2d5b6e85',\n",
              " '4ad85c61086c4205a10f43d13d3fb2ce',\n",
              " '14df1fec21bb405c934f2a9450241a1c',\n",
              " '679d3f46808140cab516a6976a157345',\n",
              " '8b07338579cf48c88d4cd45ccab3a848',\n",
              " '963581fad9e94d268f650f816a40b3ff',\n",
              " 'e54c32545c8d430f9d3898bb20cc5c23',\n",
              " '9883f07a2395458fbb0f0691a43721f8',\n",
              " 'c9c77a30bde1411d85e93255f09d1084',\n",
              " 'f0f756497a5f4383a166b7809fe43b43',\n",
              " '22f6ceabf25d40d6af03a138edc0755c',\n",
              " '50f8c405862042c8b832c2bdcbf63f73',\n",
              " '4fe61a5ede334302af4831c137094efb',\n",
              " '03f6493033854532aa2a9303597f9783',\n",
              " '5a89f7100f924fc195d0cba99ebff2ef',\n",
              " 'f974e05c892a45b09ed54db4f0396f58',\n",
              " 'fb113f653acc4976b0469986156646de',\n",
              " '95dbf3eb3bd7461d873e320c4377439c',\n",
              " '02e323c95df94e3d9cdca9e99ba496a9',\n",
              " '1e0f8a5add4a4f2d9ed6e26574a51f94',\n",
              " '9f4ac445a3294de193e365a153824e20',\n",
              " 'b41000c10fc147538ad1b5a2e4dc0deb',\n",
              " 'af8241791ca44912b0595b8e4c5c7e30',\n",
              " 'f769b780b5fc46f2a3a28575e69bf7ce',\n",
              " 'ea160a897b754fa9874a14160b782c4a',\n",
              " '59c882ec82604a119e66bd7a7d156a64',\n",
              " '74d58de598aa4ec9abf94b9bd5c53cfa',\n",
              " '8d35ffed8e204235a2bfcc4e3bd06e94',\n",
              " '4e3bda40f1134795914a6197d2f7a0a7',\n",
              " '9475a67ebe174895bb191db813ce734a',\n",
              " 'ff7f6918e1474efcba0810b7d8b4947e',\n",
              " '66da1ca12f034e2bba7c5128929abfae',\n",
              " 'dc5b88783802480ca800c5ff88f96e4f',\n",
              " '4e8553fa4e644f46a42a2343f51189a3',\n",
              " '34bffa012cdb4389b1ba07776465e22d',\n",
              " 'bcae155b885a43c7be37c9ba5097b2ad',\n",
              " 'd46e45c6775e4d7b9c0c240249587baf',\n",
              " 'a0bbb5d15bca48f6afe3589f4693c4d6',\n",
              " '27703e6daac94bcc9e12106d938a2792',\n",
              " 'e3ff93fd86be43c0afaf7fc574680e40',\n",
              " '6020a80ca7a24a33980a9fae112d3edb',\n",
              " '38d44e5b619845508c789a71fa128eae',\n",
              " '523472a0b8864013aa115eab0fd7399d',\n",
              " '96b533a157e64e93bd777eb3d86deeeb',\n",
              " '78b0fd1cdf23457ba931e936ff6e5673',\n",
              " '0c6c962c2c5548bca15f6e5ac910971c',\n",
              " '15b4860f64cf4a0482caf6512ac4634b',\n",
              " '115bb2e7e804416087cb7c7f9ab44d3d',\n",
              " '697a9015e7fd43529520f609a43a2fbb',\n",
              " '6275489e4bc14b359b25da47965fd8db',\n",
              " '0e080f5fdee44c969c5e5e2b9696da87',\n",
              " '517d4cdca4874aec9fa995b672f68c52',\n",
              " '77d86a44303041278767b73a351e28ae',\n",
              " 'c0fc9d08c0f64a09a280408cc15037bc',\n",
              " '31d0cfaaafc54c16ab1670b6a5b0897b',\n",
              " '878c5943ce7b4c0db12318cf1dabb87e',\n",
              " '27e6ab0d5bcd4c0587b20f18af64b997',\n",
              " '70ff9adc4b4c438bb7d32922c989af8b',\n",
              " '7acbd1896d01470c85f47fda34548fd6',\n",
              " '082e355f903f42a38b1b37b31a3b26b4',\n",
              " 'abd8b419e3264bf59a7e2e152783fa10',\n",
              " '18227e7c72ef4923a13cc74476c85977',\n",
              " 'f19cad08806443978202995781fe1098',\n",
              " '53c425d496664e72b4ff8a76366ce4dd',\n",
              " 'f095828f4fc04bbe8d3925f8d280c94c',\n",
              " '112ef3ac4748403d903f26517aeb09a0',\n",
              " '5dccab3a3a64425ca74e36b090a4edf5',\n",
              " '25e5623640154206952c5ca1d0cfbaa9',\n",
              " '1d057bbc7e814333b622dd8d2144bc3c',\n",
              " '83c883e434224ea6911b17ca143d3906',\n",
              " 'ed30c28b399f4ec49151bf4dc4eabd8f',\n",
              " '65184a995bc8472f918aadcdc762e34c',\n",
              " '22348c23d1c441d58a105ed543fa8883',\n",
              " '3f15e8dd56a24dfa93bafef6886439d0',\n",
              " '3ae66a2dc85c47928e4e9d48ce917fbf',\n",
              " '382aefe30863493d86adefdb7378f026',\n",
              " '923aef112e424dc98e7c8daf3829e074',\n",
              " '611dfc627f6348f5844ad91529cc9b4e',\n",
              " '5bb1522f8fff470f8133aa58c74a35bb',\n",
              " '54a7896954b148639e6433ee26b70b82',\n",
              " '553d62b6e5fa40d5a31c5507ed429a03',\n",
              " 'd347402976ac4a338fafdd7e5851b94b',\n",
              " 'c8db9c02b24540daa7ea35841ad6f386',\n",
              " '49222fbf731641d685cdb93fd4cc9f84',\n",
              " 'd2009e0b43394c25a9ce57eb9db98895',\n",
              " '1d87d10cc08442c4842043c3ba9114e3',\n",
              " '6bc1435280f547fdbdbfe66bc28902fb',\n",
              " 'da7ed70aa15246009d65f17c85c53bc2',\n",
              " 'ce68a09ce524460fa821bd04cd5b008d',\n",
              " 'b2095a2364ea4a84bdc381236f39e357',\n",
              " '973515b04ce3423e89b592420cbc6fd3',\n",
              " '00a995b9c4a84a5db5fc3bb83fcc12f7',\n",
              " '89229c578a9948f181f6ece1e30b802e',\n",
              " '1566b85754254d6f8c31b6dec5b34c89',\n",
              " '9e8adc4fc9924daead3b11ef930818a6',\n",
              " 'be57cd3aee594d3da1c5d2ec5a159664',\n",
              " '342efe680ce641bf9d5e81b4ebdb8d9b',\n",
              " '07f42bcde16641e4a78d96596aaca434',\n",
              " 'b156ce2c03c4461498290079d3bd07cf',\n",
              " '44bcb65b6c6842a291b32dc0f13b940c',\n",
              " '4b7999a8cbc44dc28fef8e5244d2e6fe',\n",
              " '9831091e120c4660b12185eaf78c7014',\n",
              " '37ae86c23b594994a16f32c8844735fc',\n",
              " '7ed7fe97039149f298cffdb9b0532c48',\n",
              " '9dacae2c90954d71951d0d95714a7978',\n",
              " 'a222c8b5eaa84bd6ad538f17a20fb0c3',\n",
              " '66a26d8b298a4773b5fdd25548700380',\n",
              " 'c7610c25a7ca4eb5810d9cad8db5d475',\n",
              " '964de737411a40ecaa826200a44bd110',\n",
              " '5dc08d3a9b1b4f49b923a14ce0c36d0e',\n",
              " '0fb07f9de4ba495d9f7914d4c8029b4d',\n",
              " 'a7e5a3d4b3544a399d536976bdd2b4d1',\n",
              " '838a4d669aa94c589487aa0a5cb9d18c',\n",
              " 'b3f1924eaf1c4299b6f93d79b9943315',\n",
              " 'a26560c0426c4fdc894487b562961def',\n",
              " 'd295c4434a9344568a4420925783d746',\n",
              " '82bb4dfc40124f0f85f05b81793b10cf',\n",
              " '8c5b4366c8b644db89eafa74e46f5b2b',\n",
              " 'f6553cefb8164182a5a94c4cff3ad2fa',\n",
              " '26dceca2418f4ae392298d9a7c2199eb',\n",
              " '14fdc690da0248b2ba9bb65283859cb6',\n",
              " '0bb45fc40d954d8c88e5e93244a89fa5',\n",
              " '8af44531312a48918428042c20bdb77d',\n",
              " 'cbff0c037de64cac93f63d129883c909',\n",
              " 'c4364dc3e5c94bf1911b98fb8aa58007',\n",
              " 'fd24f6427a6845caa01c81ec99b7c3dd',\n",
              " '2e70fc34da484e4a8e88f51af50ebf69',\n",
              " 'b984e886b70a4f2ea3b24c1b9a74038f',\n",
              " '66df5ab8350a42f3b0ddef2db0e8994a',\n",
              " '905c4d3e7cee45288f1ddf420a782edb',\n",
              " 'c4da421e67e744799ca158d28f3814f2',\n",
              " '77675c108e99499dad673028e9d82c12',\n",
              " '9d383214d2754a448b3ac0ab23d107d5',\n",
              " 'cf848d8712994e348ba104b5ed12998a',\n",
              " '6724b81d9a90404db90ed6ca45c97f1f',\n",
              " 'b8058570f3b84ae28723262b274b47d6',\n",
              " '5c2954daf5aa427d86053f49f2cba264',\n",
              " 'd73d0362b5d440e1805776f8bd3ec759',\n",
              " 'c1aad1924a00400fb2c7cceff0d8634d',\n",
              " '8e31a6a423d94b5d96f81bb137099aa3',\n",
              " 'bbab68fa7a2d456d91a7e0b8c69cc3a2',\n",
              " '7483421e2e824fa9a2f86bd730a1f587',\n",
              " '147ae411a3224122a565f571fc8cab4c',\n",
              " '4da04ad881914d6f8bd7a6e3faef3113',\n",
              " '4fbabbea550d4f1e8ee637f41c74902a',\n",
              " '527fb0a90efe47408211e76abf9ccdc5',\n",
              " '19c43adf8a0743a88a75121068dd20ee',\n",
              " '99e6e5eadc274e4f9c30117d4f10ba05',\n",
              " 'd2d9f19864b844328df960ff51096e08',\n",
              " '1aa568eac9b34506915c5d8085acac24',\n",
              " 'e8af172c01f54a65862ce9bb8cf7cfac',\n",
              " '87c9493ccc5440e8ba1b921fcd8f5a5d',\n",
              " 'daf23b981685426da52288f6561ce0db',\n",
              " '4f9f0b42752040f88f9d4e548b137307',\n",
              " '24f5a9bf0ddb4e43860ee1e46b755a03',\n",
              " '490f29752ae945eea811e01242a56e8f',\n",
              " '3f7deb9c035049c4a969ff8214776239',\n",
              " '564642dda0664ae99812e95da0f98565',\n",
              " '282421fb803346cdb02c022485f0690c',\n",
              " '42ba502bf1934d90bc1f94c060deb295',\n",
              " '88d233f42f71403692d756e38165db77',\n",
              " 'cfa38b216bde41d8b077a04989b62edf',\n",
              " '540410cadcd54572a53462355623ff85',\n",
              " '7ba4f5d41d0d453c88dfbe19a3f83686',\n",
              " 'b8f9eeb984db49668546b9a56391bdcf',\n",
              " '186acc0ed66544aab84978a7fda560df',\n",
              " '6e54cc5165764b88add9c90f87a08971',\n",
              " '5bf36ef1e4e944eeb6bd555a18e8a172',\n",
              " 'c0d2664e9958428eaafa7a6bc82523c5',\n",
              " '9ec82b1668da4e68ba2c2f9e390fc43b',\n",
              " '8d6f7e3c8a6343a1bd32626a867c925a',\n",
              " '293d85e4d6854296a8084aec1ce43307',\n",
              " 'a13901b7fa9d402f90a7cb10264d4b6e',\n",
              " '1a30e149b00d4d38a1ccb7a5f643e089',\n",
              " '708b797a98084ceaa72bbbf05b9608d0',\n",
              " '12733ebe68924ce7a63e1bbf8847e489',\n",
              " '2842a96224354780adcf6a0010495e0d',\n",
              " 'e244053bef9d45238c6901081e7f0b62',\n",
              " '6647296b60cd41e1a9da2684f0c27e89',\n",
              " ...]"
            ]
          },
          "metadata": {},
          "execution_count": 11
        }
      ]
    },
    {
      "cell_type": "markdown",
      "source": [
        "## TODO 2: Reranking\n",
        "\n",
        "Create two retrievers.\n",
        "1. A normal retriever without a reranker. Set the `top_k` to 20.\n",
        "2. A retriever with a reranker. Set the `top_k` of the reranker to 3.\n"
      ],
      "metadata": {
        "id": "OR1Jm8ubuATV"
      }
    },
    {
      "cell_type": "code",
      "source": [
        "retriever_normal = vector_store.as_retriever(\n",
        "    search_type=\"similarity\",\n",
        "    search_kwargs={\"k\": 20},  # top_k 20\n",
        ")\n",
        "\n",
        "# Maximal Marginal Relevance (MMR) is a hybrid search\n",
        "retriever_mmr = vector_store.as_retriever(\n",
        "    search_type=\"mmr\",\n",
        "    search_kwargs={\"k\": 20, \"fetch_k\": 20, \"lambda_mult\": 0.5},\n",
        ")\n",
        "\n",
        "reranker = CrossEncoderReranker(model=model)\n",
        "def reranked_retriever(query):\n",
        "    # retrieve top 20 docs\n",
        "    retrieved_docs = retriever_mmr.invoke(query)\n",
        "\n",
        "    # rerank 20 docs, keep only top 3\n",
        "    reranked_docs = reranker.compress_documents(retrieved_docs, query=query)[:3]\n",
        "\n",
        "    return reranked_docs\n",
        "\n",
        "\n",
        "query = \"What caused free movement of goods in the EU?\"\n",
        "\n",
        "print(\"Normal Retriever Results:\")\n",
        "res_normal = retriever_normal.invoke(query)\n",
        "for i in range(7):\n",
        "    print(res_normal[i])\n",
        "\n",
        "print(\"\\nMMR Retriever Results:\")\n",
        "res_mmr = retriever_mmr.invoke(query)\n",
        "for i in range(7):\n",
        "    print(res_mmr[i])\n",
        "\n",
        "print(\"\\nReranked Retriever Results:\")\n",
        "res_reranked = reranked_retriever(query)\n",
        "for i in range(min(10, len(res_reranked))):\n",
        "    print(res_reranked[i])"
      ],
      "metadata": {
        "id": "D1czrFuG8WIa",
        "colab": {
          "base_uri": "https://localhost:8080/"
        },
        "outputId": "b06ad32f-9f8f-49fc-b7f7-681b85d9dba8"
      },
      "execution_count": 12,
      "outputs": [
        {
          "output_type": "stream",
          "name": "stdout",
          "text": [
            "Normal Retriever Results:\n",
            "page_content='While the concept of a \"social market economy\" was only introduced into EU law in 2007, free movement and trade were central to European development since the Treaty of Rome 1957. According to the standard theory of comparative advantage, two countries can both benefit from trade even if one of them has a less productive economy in all respects. Like in other regional organisations such as the North American Free Trade Association, or the World Trade Organisation, breaking down barriers to trade, and enhancing free movement of goods, services, labour and capital, is meant to reduce consumer prices. It was originally theorised that a free trade area had a tendency to give way to a customs union, which led to a common market, then monetary union, then union of monetary and fiscal policy, political and eventually a full union characteristic of a federal state. In Europe, however, those stages were considerably mixed, and it remains unclear whether the \"endgame\" should be the same as a state, traditionally understood. In practice free trade, without standards to ensure fair trade, can benefit some people and groups within countries (particularly big business) much more than others, but will burden people who lack bargaining power in an expanding market, particularly workers, consumers, small business, developing industries, and communities. The Treaty on the Functioning of the European Union articles 28 to 37 establish the principle of free movement of goods in the EU, while articles 45 to 66 require free movement of persons, services and capital. These so-called \"four freedoms\" were thought to be inhibited by physical barriers (e.g. customs), technical barriers (e.g. differing laws on safety, consumer or environmental standards) and fiscal barriers (e.g. different Value Added Tax rates). The tension in the law is that the free movement and trade is not supposed to spill over into a licence for unrestricted commercial profit. The Treaties limit free trade, to prioritise' metadata={'start_index': 0, '_id': '16b7fe2a0ecb4a55b24bac94340efb6b', '_collection_name': 'demo_collection'}\n",
            "page_content='Free movement of goods within the European Union is achieved by a customs union, and the principle of non-discrimination. The EU manages imports from non-member states, duties between member states are prohibited, and imports circulate freely. In addition under the Treaty on the Functioning of the European Union article 34, ‘Quantitative restrictions on imports and all measures having equivalent effect shall be prohibited between Member States’. In Procureur du Roi v Dassonville the Court of Justice held that this rule meant all \"trading rules\" that are \"enacted by Member States\" which could hinder trade \"directly or indirectly, actually or potentially\" would be caught by article 34. This meant that a Belgian law requiring Scotch whisky imports to have a certificate of origin was unlikely to be lawful. It discriminated against parallel importers like Mr Dassonville, who could not get certificates from authorities in France, where they bought the Scotch. This \"wide test\", to determine what could potentially be an unlawful restriction on trade, applies equally to actions by quasi-government bodies, such as the former \"Buy Irish\" company that had government appointees. It also means states can be responsible for private actors. For instance, in Commission v France French farmer vigilantes were continually sabotaging shipments of Spanish strawberries, and even Belgian tomato imports. France was liable for these hindrances to trade because the authorities ‘manifestly and persistently abstained' from preventing the sabotage. Generally speaking, if a member state has laws or practices that directly discriminate against imports (or exports under TFEU article 35) then it must be justified under article 36. The justifications include public morality, policy or security, \"protection of health and life of humans, animals or plants\", \"national treasures\" of \"artistic, historic or archaeological value\" and \"industrial and commercial property.\" In addition, although not clearly' metadata={'start_index': 0, '_id': '1b655747e17d4a2e8a7970726e3a5dd5', '_collection_name': 'demo_collection'}\n",
            "page_content='Although it is generally accepted that EU law has primacy, not all EU laws give citizens standing to bring claims: that is, not all EU laws have \"direct effect\". In Van Gend en Loos v Nederlandse Administratie der Belastingen it was held that the provisions of the Treaties (and EU Regulations) are directly effective, if they are (1) clear and unambiguous (2) unconditional, and (3) did not require EU or national authorities to take further action to implement them. Van Gend en Loos, a postal company, claimed that what is now TFEU article 30 prevented the Dutch Customs Authorities charging tariffs, when it imported urea-formaldehyde plastics from Germany to the Netherlands. After a Dutch court made a reference, the Court of Justice held that even though the Treaties did not \"expressly\" confer a right on citizens or companies to bring claims, they could do so. Historically, international treaties had only allowed states to have legal claims for their enforcement, but the Court of Justice proclaimed \"the Community constitutes a new legal order of international law\". Because article 30 clearly, unconditionally and immediately stated that no quantitative restrictions could be placed on trade, without a good justification, Van Gend en Loos could recover the money it paid for the tariff. EU Regulations are the same as Treaty provisions in this sense, because as TFEU article 288 states, they are ‘directly applicable in all Member States’. Moreover, member states comes under a duty not to replicate Regulations in their own law, in order to prevent confusion. For instance, in Commission v Italy the Court of Justice held that Italy had breached a duty under the Treaties, both by failing to operate a scheme to pay farmers a premium to slaughter cows (to reduce dairy overproduction), and by reproducing the rules in a decree with various additions. \"Regulations,\" held the Court of Justice, \"come into force solely by virtue of their publication\" and implementation could have the' metadata={'start_index': 0, '_id': 'dc411bfe93164643806495943fdcce86', '_collection_name': 'demo_collection'}\n",
            "page_content='Since its foundation, the Treaties sought to enable people to pursue their life goals in any country through free movement. Reflecting the economic nature of the project, the European Community originally focused upon free movement of workers: as a \"factor of production\". However, from the 1970s, this focus shifted towards developing a more \"social\" Europe. Free movement was increasingly based on \"citizenship\", so that people had rights to empower them to become economically and socially active, rather than economic activity being a precondition for rights. This means the basic \"worker\" rights in TFEU article 45 function as a specific expression of the general rights of citizens in TFEU articles 18 to 21. According to the Court of Justice, a \"worker\" is anybody who is economically active, which includes everyone in an employment relationship, \"under the direction of another person\" for \"remuneration\". A job, however, need not be paid in money for someone to be protected as a worker. For example, in Steymann v Staatssecretaris van Justitie, a German man claimed the right to residence in the Netherlands, while he volunteered plumbing and household duties in the Bhagwan community, which provided for everyone's material needs irrespective of their contributions. The Court of Justice held that Mr Steymann was entitled to stay, so long as there was at least an \"indirect quid pro quo\" for the work he did. Having \"worker\" status means protection against all forms of discrimination by governments, and employers, in access to employment, tax, and social security rights. By contrast a citizen, who is \"any person having the nationality of a Member State\" (TFEU article 20(1)), has rights to seek work, vote in local and European elections, but more restricted rights to claim social security. In practice, free movement has become politically contentious as nationalist political parties have manipulated fears about immigrants taking away people's jobs and benefits (paradoxically at' metadata={'start_index': 0, '_id': 'de4c4212880f4a4e833a55f11c893601', '_collection_name': 'demo_collection'}\n",
            "page_content='EU Competition law has its origins in the European Coal and Steel Community (ECSC) agreement between France, Italy, Belgium, the Netherlands, Luxembourg and Germany in 1951 following the second World War. The agreement aimed to prevent Germany from re-establishing dominance in the production of coal and steel as members felt that its dominance had contributed to the outbreak of the war. Article 65 of the agreement banned cartels and article 66 made provisions for concentrations, or mergers, and the abuse of a dominant position by companies. This was the first time that competition law principles were included in a plurilateral regional agreement and established the trans-European model of competition law. In 1957 competition rules were included in the Treaty of Rome, also known as the EC Treaty, which established the European Economic Community (EEC). The Treaty of Rome established the enactment of competition law as one of the main aims of the EEC through the \"institution of a system ensuring that competition in the common market is not distorted\". The two central provisions on EU competition law on companies were established in article 85, which prohibited anti-competitive agreements, subject to some exemptions, and article 86 prohibiting the abuse of dominant position. The treaty also established principles on competition law for member states, with article 90 covering public undertakings, and article 92 making provisions on state aid. Regulations on mergers were not included as member states could not establish consensus on the issue at the time.' metadata={'start_index': 0, '_id': '9475a67ebe174895bb191db813ce734a', '_collection_name': 'demo_collection'}\n",
            "page_content='Tax rates). The tension in the law is that the free movement and trade is not supposed to spill over into a licence for unrestricted commercial profit. The Treaties limit free trade, to prioritise other values such as public health, consumer protection, labour rights, fair competition, and environmental improvement. Increasingly the Court of Justice has taken the view that the specific goals of free trade are underpinned by the general aims of the treaty for improvement of people's well being.' metadata={'start_index': 1804, '_id': '541a1cfbcdbe4760a356880b73b9f6de', '_collection_name': 'demo_collection'}\n",
            "page_content='The embargo was not uniform across Europe. Of the nine members of the European Economic Community (EEC), the Netherlands faced a complete embargo, the UK and France received almost uninterrupted supplies (having refused to allow America to use their airfields and embargoed arms and supplies to both the Arabs and the Israelis), while the other six faced partial cutbacks. The UK had traditionally been an ally of Israel, and Harold Wilson's government supported the Israelis during the Six-Day War. His successor, Ted Heath, reversed this policy in 1970, calling for Israel to withdraw to its pre-1967 borders.' metadata={'start_index': 0, '_id': 'd45695db411c42359411d6cbbcd65107', '_collection_name': 'demo_collection'}\n",
            "\n",
            "MMR Retriever Results:\n",
            "page_content='While the concept of a \"social market economy\" was only introduced into EU law in 2007, free movement and trade were central to European development since the Treaty of Rome 1957. According to the standard theory of comparative advantage, two countries can both benefit from trade even if one of them has a less productive economy in all respects. Like in other regional organisations such as the North American Free Trade Association, or the World Trade Organisation, breaking down barriers to trade, and enhancing free movement of goods, services, labour and capital, is meant to reduce consumer prices. It was originally theorised that a free trade area had a tendency to give way to a customs union, which led to a common market, then monetary union, then union of monetary and fiscal policy, political and eventually a full union characteristic of a federal state. In Europe, however, those stages were considerably mixed, and it remains unclear whether the \"endgame\" should be the same as a state, traditionally understood. In practice free trade, without standards to ensure fair trade, can benefit some people and groups within countries (particularly big business) much more than others, but will burden people who lack bargaining power in an expanding market, particularly workers, consumers, small business, developing industries, and communities. The Treaty on the Functioning of the European Union articles 28 to 37 establish the principle of free movement of goods in the EU, while articles 45 to 66 require free movement of persons, services and capital. These so-called \"four freedoms\" were thought to be inhibited by physical barriers (e.g. customs), technical barriers (e.g. differing laws on safety, consumer or environmental standards) and fiscal barriers (e.g. different Value Added Tax rates). The tension in the law is that the free movement and trade is not supposed to spill over into a licence for unrestricted commercial profit. The Treaties limit free trade, to prioritise' metadata={'start_index': 0, '_id': '16b7fe2a0ecb4a55b24bac94340efb6b', '_collection_name': 'demo_collection'}\n",
            "page_content='The embargo was not uniform across Europe. Of the nine members of the European Economic Community (EEC), the Netherlands faced a complete embargo, the UK and France received almost uninterrupted supplies (having refused to allow America to use their airfields and embargoed arms and supplies to both the Arabs and the Israelis), while the other six faced partial cutbacks. The UK had traditionally been an ally of Israel, and Harold Wilson's government supported the Israelis during the Six-Day War. His successor, Ted Heath, reversed this policy in 1970, calling for Israel to withdraw to its pre-1967 borders.' metadata={'start_index': 0, '_id': 'd45695db411c42359411d6cbbcd65107', '_collection_name': 'demo_collection'}\n",
            "page_content='In practice, free movement has become politically contentious as nationalist political parties have manipulated fears about immigrants taking away people's jobs and benefits (paradoxically at the same time). Nevertheless, practically \"all available research finds little impact\" of \"labour mobility on wages and employment of local workers\".' metadata={'start_index': 1809, '_id': '57386e7e209c4bebb85e61ad40052d39', '_collection_name': 'demo_collection'}\n",
            "page_content='held that a requirement for lawyers in Italy to comply with maximum tariffs unless there was an agreement with a client was not a restriction. The Grand Chamber of the Court of Justice held the Commission had not proven that this had any object or effect of limiting practitioners from entering the market. Therefore, there was no prima facie infringement freedom of establishment that needed to be justified.' metadata={'start_index': 1800, '_id': 'daf23b981685426da52288f6561ce0db', '_collection_name': 'demo_collection'}\n",
            "page_content='Free movement of goods within the European Union is achieved by a customs union, and the principle of non-discrimination. The EU manages imports from non-member states, duties between member states are prohibited, and imports circulate freely. In addition under the Treaty on the Functioning of the European Union article 34, ‘Quantitative restrictions on imports and all measures having equivalent effect shall be prohibited between Member States’. In Procureur du Roi v Dassonville the Court of Justice held that this rule meant all \"trading rules\" that are \"enacted by Member States\" which could hinder trade \"directly or indirectly, actually or potentially\" would be caught by article 34. This meant that a Belgian law requiring Scotch whisky imports to have a certificate of origin was unlikely to be lawful. It discriminated against parallel importers like Mr Dassonville, who could not get certificates from authorities in France, where they bought the Scotch. This \"wide test\", to determine what could potentially be an unlawful restriction on trade, applies equally to actions by quasi-government bodies, such as the former \"Buy Irish\" company that had government appointees. It also means states can be responsible for private actors. For instance, in Commission v France French farmer vigilantes were continually sabotaging shipments of Spanish strawberries, and even Belgian tomato imports. France was liable for these hindrances to trade because the authorities ‘manifestly and persistently abstained' from preventing the sabotage. Generally speaking, if a member state has laws or practices that directly discriminate against imports (or exports under TFEU article 35) then it must be justified under article 36. The justifications include public morality, policy or security, \"protection of health and life of humans, animals or plants\", \"national treasures\" of \"artistic, historic or archaeological value\" and \"industrial and commercial property.\" In addition, although not clearly' metadata={'start_index': 0, '_id': '1b655747e17d4a2e8a7970726e3a5dd5', '_collection_name': 'demo_collection'}\n",
            "page_content='Citizenship of the EU has increasingly been seen as a \"fundamental\" status of member state nationals by the Court of Justice, and has accordingly increased the number of social services that people can access wherever they move. The Court has required that higher education, along with other forms of vocational training, should be more access, albeit with qualifying periods. In Commission v Austria the Court held that Austria was not entitled to restrict places in Austrian universities to Austrian students to avoid \"structural, staffing and financial problems\" if (mainly German) foreign students applied for places because there was little evidence of an actual problem.' metadata={'start_index': 0, '_id': '1d85d1c0ffc1483aa23e8d37b0ea1442', '_collection_name': 'demo_collection'}\n",
            "page_content='John Schmitt and Ben Zipperer (2006) of the CEPR point to economic liberalism and the reduction of business regulation along with the decline of union membership as one of the causes of economic inequality. In an analysis of the effects of intensive Anglo-American liberal policies in comparison to continental European liberalism, where unions have remained strong, they concluded \"The U.S. economic and social model is associated with substantial levels of social exclusion, including high levels of income inequality, high relative and absolute poverty rates, poor and unequal educational outcomes, poor health outcomes, and high rates of crime and incarceration. At the same time, the available evidence provides little support for the view that U.S.-style labor-market flexibility dramatically improves labor-market outcomes. Despite popular prejudices to the contrary, the U.S. economy consistently affords a lower level of economic mobility than all the continental European countries for which data is available.\"' metadata={'start_index': 0, '_id': 'b1d4f93958fc4d1e8cac7a134cb142d9', '_collection_name': 'demo_collection'}\n",
            "\n",
            "Reranked Retriever Results:\n",
            "page_content='While the concept of a \"social market economy\" was only introduced into EU law in 2007, free movement and trade were central to European development since the Treaty of Rome 1957. According to the standard theory of comparative advantage, two countries can both benefit from trade even if one of them has a less productive economy in all respects. Like in other regional organisations such as the North American Free Trade Association, or the World Trade Organisation, breaking down barriers to trade, and enhancing free movement of goods, services, labour and capital, is meant to reduce consumer prices. It was originally theorised that a free trade area had a tendency to give way to a customs union, which led to a common market, then monetary union, then union of monetary and fiscal policy, political and eventually a full union characteristic of a federal state. In Europe, however, those stages were considerably mixed, and it remains unclear whether the \"endgame\" should be the same as a state, traditionally understood. In practice free trade, without standards to ensure fair trade, can benefit some people and groups within countries (particularly big business) much more than others, but will burden people who lack bargaining power in an expanding market, particularly workers, consumers, small business, developing industries, and communities. The Treaty on the Functioning of the European Union articles 28 to 37 establish the principle of free movement of goods in the EU, while articles 45 to 66 require free movement of persons, services and capital. These so-called \"four freedoms\" were thought to be inhibited by physical barriers (e.g. customs), technical barriers (e.g. differing laws on safety, consumer or environmental standards) and fiscal barriers (e.g. different Value Added Tax rates). The tension in the law is that the free movement and trade is not supposed to spill over into a licence for unrestricted commercial profit. The Treaties limit free trade, to prioritise' metadata={'start_index': 0, '_id': '16b7fe2a0ecb4a55b24bac94340efb6b', '_collection_name': 'demo_collection'}\n",
            "page_content='Free movement of goods within the European Union is achieved by a customs union, and the principle of non-discrimination. The EU manages imports from non-member states, duties between member states are prohibited, and imports circulate freely. In addition under the Treaty on the Functioning of the European Union article 34, ‘Quantitative restrictions on imports and all measures having equivalent effect shall be prohibited between Member States’. In Procureur du Roi v Dassonville the Court of Justice held that this rule meant all \"trading rules\" that are \"enacted by Member States\" which could hinder trade \"directly or indirectly, actually or potentially\" would be caught by article 34. This meant that a Belgian law requiring Scotch whisky imports to have a certificate of origin was unlikely to be lawful. It discriminated against parallel importers like Mr Dassonville, who could not get certificates from authorities in France, where they bought the Scotch. This \"wide test\", to determine what could potentially be an unlawful restriction on trade, applies equally to actions by quasi-government bodies, such as the former \"Buy Irish\" company that had government appointees. It also means states can be responsible for private actors. For instance, in Commission v France French farmer vigilantes were continually sabotaging shipments of Spanish strawberries, and even Belgian tomato imports. France was liable for these hindrances to trade because the authorities ‘manifestly and persistently abstained' from preventing the sabotage. Generally speaking, if a member state has laws or practices that directly discriminate against imports (or exports under TFEU article 35) then it must be justified under article 36. The justifications include public morality, policy or security, \"protection of health and life of humans, animals or plants\", \"national treasures\" of \"artistic, historic or archaeological value\" and \"industrial and commercial property.\" In addition, although not clearly' metadata={'start_index': 0, '_id': '1b655747e17d4a2e8a7970726e3a5dd5', '_collection_name': 'demo_collection'}\n",
            "page_content='it was justified under article 36 to protect public health. Under the Unfair Commercial Practices Directive, the EU harmonised restrictions on restrictions on marketing and advertising, to forbid conduct that distorts average consumer behaviour, is misleading or aggressive, and sets out a list of examples that count as unfair. Increasingly, states have to give mutual recognition to each other's standards of regulation, while the EU has attempted to harmonise minimum ideals of best practice. The attempt to raise standards is hoped to avoid a regulatory \"race to the bottom\", while allowing consumers access to goods from around the continent.' metadata={'start_index': 1800, '_id': 'db4569b0d8354c089c3375360f274f0d', '_collection_name': 'demo_collection'}\n"
          ]
        }
      ]
    },
    {
      "cell_type": "markdown",
      "source": [
        "Take a subset of the dataset to evaluate the MRR of the retrievers."
      ],
      "metadata": {
        "id": "OYP-p261u4wL"
      }
    },
    {
      "cell_type": "code",
      "source": [
        "sample = ds.take(1000)"
      ],
      "metadata": {
        "id": "Aecu8lpbgGGE"
      },
      "execution_count": 13,
      "outputs": []
    },
    {
      "cell_type": "code",
      "source": [
        "sample[0]"
      ],
      "metadata": {
        "id": "24_GCz6HT4cq",
        "colab": {
          "base_uri": "https://localhost:8080/"
        },
        "outputId": "907b5071-d5f1-4d36-a89d-83863557a30b"
      },
      "execution_count": 14,
      "outputs": [
        {
          "output_type": "execute_result",
          "data": {
            "text/plain": [
              "{'id': '56ddde6b9a695914005b9628',\n",
              " 'title': 'Normans',\n",
              " 'context': 'The Normans (Norman: Nourmands; French: Normands; Latin: Normanni) were the people who in the 10th and 11th centuries gave their name to Normandy, a region in France. They were descended from Norse (\"Norman\" comes from \"Norseman\") raiders and pirates from Denmark, Iceland and Norway who, under their leader Rollo, agreed to swear fealty to King Charles III of West Francia. Through generations of assimilation and mixing with the native Frankish and Roman-Gaulish populations, their descendants would gradually merge with the Carolingian-based cultures of West Francia. The distinct cultural and ethnic identity of the Normans emerged initially in the first half of the 10th century, and it continued to evolve over the succeeding centuries.',\n",
              " 'question': 'In what country is Normandy located?',\n",
              " 'answers': {'text': ['France', 'France', 'France', 'France'],\n",
              "  'answer_start': [159, 159, 159, 159]}}"
            ]
          },
          "metadata": {},
          "execution_count": 14
        }
      ]
    },
    {
      "cell_type": "markdown",
      "source": [
        "## TODO 3: Retrieval Evaluation\n",
        "\n",
        "Calculate the MRR of the two retrievers based on the top 3 returned by each retriever.\n",
        "\n",
        "**For the vanilla retriever (no reranker), take only the top-3 to evaluate the MRR and ignore the rest.**"
      ],
      "metadata": {
        "id": "L1dVsQ58u-2V"
      }
    },
    {
      "cell_type": "code",
      "source": [
        "from tqdm import tqdm"
      ],
      "metadata": {
        "id": "mu-x-7bdsm5X"
      },
      "execution_count": 16,
      "outputs": []
    },
    {
      "cell_type": "code",
      "source": [
        "no_rerank = no_rerank_failures = 0\n",
        "limit = -1\n",
        "count = 0\n",
        "\n",
        "for row in tqdm(sample):\n",
        "    query = row[\"question\"]\n",
        "    context = row[\"context\"]\n",
        "\n",
        "    res_mmr = retriever_mmr.invoke(query)\n",
        "    found = False\n",
        "    for i in range(3):\n",
        "        doc_content = res_mmr[i].page_content\n",
        "        if doc_content == context:\n",
        "            no_rerank += 1/(i+1)\n",
        "            found = True\n",
        "            break\n",
        "    if not found:\n",
        "        print(f\"Query {count}: Failed to find relevant doc in top 3 results\")\n",
        "        no_rerank_failures += 1\n",
        "\n",
        "    count += 1\n",
        "    if limit != -1 and count == limit:\n",
        "        break"
      ],
      "metadata": {
        "colab": {
          "base_uri": "https://localhost:8080/"
        },
        "id": "Tig7mVeLssAl",
        "outputId": "97318305-b9d6-427d-d97e-696d61da729f"
      },
      "execution_count": 17,
      "outputs": [
        {
          "output_type": "stream",
          "name": "stderr",
          "text": [
            "  0%|          | 4/1000 [00:00<01:46,  9.33it/s]"
          ]
        },
        {
          "output_type": "stream",
          "name": "stdout",
          "text": [
            "Query 2: Failed to find relevant doc in top 3 results\n"
          ]
        },
        {
          "output_type": "stream",
          "name": "stderr",
          "text": [
            "  1%|          | 8/1000 [00:00<01:47,  9.24it/s]"
          ]
        },
        {
          "output_type": "stream",
          "name": "stdout",
          "text": [
            "Query 6: Failed to find relevant doc in top 3 results\n",
            "Query 7: Failed to find relevant doc in top 3 results\n"
          ]
        },
        {
          "output_type": "stream",
          "name": "stderr",
          "text": [
            "  1%|          | 10/1000 [00:01<01:46,  9.33it/s]"
          ]
        },
        {
          "output_type": "stream",
          "name": "stdout",
          "text": [
            "Query 8: Failed to find relevant doc in top 3 results\n",
            "Query 9: Failed to find relevant doc in top 3 results\n"
          ]
        },
        {
          "output_type": "stream",
          "name": "stderr",
          "text": [
            "  1%|          | 12/1000 [00:01<01:48,  9.14it/s]"
          ]
        },
        {
          "output_type": "stream",
          "name": "stdout",
          "text": [
            "Query 10: Failed to find relevant doc in top 3 results\n",
            "Query 11: Failed to find relevant doc in top 3 results\n"
          ]
        },
        {
          "output_type": "stream",
          "name": "stderr",
          "text": [
            "  2%|▏         | 16/1000 [00:01<01:53,  8.70it/s]"
          ]
        },
        {
          "output_type": "stream",
          "name": "stdout",
          "text": [
            "Query 14: Failed to find relevant doc in top 3 results\n",
            "Query 15: Failed to find relevant doc in top 3 results\n"
          ]
        },
        {
          "output_type": "stream",
          "name": "stderr",
          "text": [
            "  2%|▏         | 18/1000 [00:02<02:02,  7.99it/s]"
          ]
        },
        {
          "output_type": "stream",
          "name": "stdout",
          "text": [
            "Query 16: Failed to find relevant doc in top 3 results\n"
          ]
        },
        {
          "output_type": "stream",
          "name": "stderr",
          "text": [
            "  3%|▎         | 26/1000 [00:02<01:53,  8.61it/s]"
          ]
        },
        {
          "output_type": "stream",
          "name": "stdout",
          "text": [
            "Query 24: Failed to find relevant doc in top 3 results\n"
          ]
        },
        {
          "output_type": "stream",
          "name": "stderr",
          "text": [
            "  3%|▎         | 29/1000 [00:03<02:11,  7.40it/s]"
          ]
        },
        {
          "output_type": "stream",
          "name": "stdout",
          "text": [
            "Query 27: Failed to find relevant doc in top 3 results\n"
          ]
        },
        {
          "output_type": "stream",
          "name": "stderr",
          "text": [
            "  3%|▎         | 33/1000 [00:04<02:42,  5.96it/s]"
          ]
        },
        {
          "output_type": "stream",
          "name": "stdout",
          "text": [
            "Query 31: Failed to find relevant doc in top 3 results\n",
            "Query 32: Failed to find relevant doc in top 3 results\n"
          ]
        },
        {
          "output_type": "stream",
          "name": "stderr",
          "text": [
            "  5%|▌         | 52/1000 [00:06<01:51,  8.50it/s]"
          ]
        },
        {
          "output_type": "stream",
          "name": "stdout",
          "text": [
            "Query 50: Failed to find relevant doc in top 3 results\n"
          ]
        },
        {
          "output_type": "stream",
          "name": "stderr",
          "text": [
            "  5%|▌         | 54/1000 [00:07<01:53,  8.36it/s]"
          ]
        },
        {
          "output_type": "stream",
          "name": "stdout",
          "text": [
            "Query 52: Failed to find relevant doc in top 3 results\n"
          ]
        },
        {
          "output_type": "stream",
          "name": "stderr",
          "text": [
            "  6%|▌         | 58/1000 [00:07<01:47,  8.78it/s]"
          ]
        },
        {
          "output_type": "stream",
          "name": "stdout",
          "text": [
            "Query 56: Failed to find relevant doc in top 3 results\n"
          ]
        },
        {
          "output_type": "stream",
          "name": "stderr",
          "text": [
            "  6%|▋         | 63/1000 [00:08<01:49,  8.56it/s]"
          ]
        },
        {
          "output_type": "stream",
          "name": "stdout",
          "text": [
            "Query 61: Failed to find relevant doc in top 3 results\n"
          ]
        },
        {
          "output_type": "stream",
          "name": "stderr",
          "text": [
            "  6%|▋         | 65/1000 [00:08<01:50,  8.49it/s]"
          ]
        },
        {
          "output_type": "stream",
          "name": "stdout",
          "text": [
            "Query 63: Failed to find relevant doc in top 3 results\n",
            "Query 64: Failed to find relevant doc in top 3 results\n"
          ]
        },
        {
          "output_type": "stream",
          "name": "stderr",
          "text": [
            "  7%|▋         | 68/1000 [00:08<01:45,  8.81it/s]"
          ]
        },
        {
          "output_type": "stream",
          "name": "stdout",
          "text": [
            "Query 66: Failed to find relevant doc in top 3 results\n"
          ]
        },
        {
          "output_type": "stream",
          "name": "stderr",
          "text": [
            "  7%|▋         | 71/1000 [00:08<01:43,  9.00it/s]"
          ]
        },
        {
          "output_type": "stream",
          "name": "stdout",
          "text": [
            "Query 69: Failed to find relevant doc in top 3 results\n"
          ]
        },
        {
          "output_type": "stream",
          "name": "stderr",
          "text": [
            "  7%|▋         | 73/1000 [00:09<01:43,  8.94it/s]"
          ]
        },
        {
          "output_type": "stream",
          "name": "stdout",
          "text": [
            "Query 71: Failed to find relevant doc in top 3 results\n",
            "Query 72: Failed to find relevant doc in top 3 results\n"
          ]
        },
        {
          "output_type": "stream",
          "name": "stderr",
          "text": [
            "  8%|▊         | 76/1000 [00:09<01:41,  9.11it/s]"
          ]
        },
        {
          "output_type": "stream",
          "name": "stdout",
          "text": [
            "Query 74: Failed to find relevant doc in top 3 results\n",
            "Query 75: Failed to find relevant doc in top 3 results\n"
          ]
        },
        {
          "output_type": "stream",
          "name": "stderr",
          "text": [
            "  8%|▊         | 79/1000 [00:09<01:39,  9.28it/s]"
          ]
        },
        {
          "output_type": "stream",
          "name": "stdout",
          "text": [
            "Query 77: Failed to find relevant doc in top 3 results\n"
          ]
        },
        {
          "output_type": "stream",
          "name": "stderr",
          "text": [
            "  8%|▊         | 82/1000 [00:10<01:43,  8.89it/s]"
          ]
        },
        {
          "output_type": "stream",
          "name": "stdout",
          "text": [
            "Query 80: Failed to find relevant doc in top 3 results\n"
          ]
        },
        {
          "output_type": "stream",
          "name": "stderr",
          "text": [
            " 10%|█         | 100/1000 [00:12<01:49,  8.25it/s]"
          ]
        },
        {
          "output_type": "stream",
          "name": "stdout",
          "text": [
            "Query 98: Failed to find relevant doc in top 3 results\n"
          ]
        },
        {
          "output_type": "stream",
          "name": "stderr",
          "text": [
            "\r 10%|█         | 101/1000 [00:12<01:48,  8.25it/s]"
          ]
        },
        {
          "output_type": "stream",
          "name": "stdout",
          "text": [
            "Query 100: Failed to find relevant doc in top 3 results\n"
          ]
        },
        {
          "output_type": "stream",
          "name": "stderr",
          "text": [
            " 10%|█         | 104/1000 [00:13<02:42,  5.51it/s]"
          ]
        },
        {
          "output_type": "stream",
          "name": "stdout",
          "text": [
            "Query 102: Failed to find relevant doc in top 3 results\n"
          ]
        },
        {
          "output_type": "stream",
          "name": "stderr",
          "text": [
            "\r 10%|█         | 105/1000 [00:13<02:48,  5.32it/s]"
          ]
        },
        {
          "output_type": "stream",
          "name": "stdout",
          "text": [
            "Query 104: Failed to find relevant doc in top 3 results\n"
          ]
        },
        {
          "output_type": "stream",
          "name": "stderr",
          "text": [
            " 11%|█         | 112/1000 [00:14<01:50,  8.04it/s]"
          ]
        },
        {
          "output_type": "stream",
          "name": "stdout",
          "text": [
            "Query 110: Failed to find relevant doc in top 3 results\n"
          ]
        },
        {
          "output_type": "stream",
          "name": "stderr",
          "text": [
            " 12%|█▏        | 115/1000 [00:14<01:44,  8.45it/s]"
          ]
        },
        {
          "output_type": "stream",
          "name": "stdout",
          "text": [
            "Query 113: Failed to find relevant doc in top 3 results\n"
          ]
        },
        {
          "output_type": "stream",
          "name": "stderr",
          "text": [
            " 13%|█▎        | 130/1000 [00:16<02:28,  5.84it/s]"
          ]
        },
        {
          "output_type": "stream",
          "name": "stdout",
          "text": [
            "Query 128: Failed to find relevant doc in top 3 results\n"
          ]
        },
        {
          "output_type": "stream",
          "name": "stderr",
          "text": [
            " 13%|█▎        | 132/1000 [00:16<02:32,  5.68it/s]"
          ]
        },
        {
          "output_type": "stream",
          "name": "stdout",
          "text": [
            "Query 130: Failed to find relevant doc in top 3 results\n",
            "Query 131: Failed to find relevant doc in top 3 results\n"
          ]
        },
        {
          "output_type": "stream",
          "name": "stderr",
          "text": [
            " 14%|█▍        | 139/1000 [00:18<02:39,  5.41it/s]"
          ]
        },
        {
          "output_type": "stream",
          "name": "stdout",
          "text": [
            "Query 137: Failed to find relevant doc in top 3 results\n"
          ]
        },
        {
          "output_type": "stream",
          "name": "stderr",
          "text": [
            " 15%|█▍        | 148/1000 [00:19<01:38,  8.63it/s]"
          ]
        },
        {
          "output_type": "stream",
          "name": "stdout",
          "text": [
            "Query 146: Failed to find relevant doc in top 3 results\n",
            "Query 147: Failed to find relevant doc in top 3 results\n"
          ]
        },
        {
          "output_type": "stream",
          "name": "stderr",
          "text": [
            " 15%|█▌        | 152/1000 [00:19<01:39,  8.52it/s]"
          ]
        },
        {
          "output_type": "stream",
          "name": "stdout",
          "text": [
            "Query 150: Failed to find relevant doc in top 3 results\n"
          ]
        },
        {
          "output_type": "stream",
          "name": "stderr",
          "text": [
            " 16%|█▌        | 158/1000 [00:20<01:34,  8.95it/s]"
          ]
        },
        {
          "output_type": "stream",
          "name": "stdout",
          "text": [
            "Query 156: Failed to find relevant doc in top 3 results\n"
          ]
        },
        {
          "output_type": "stream",
          "name": "stderr",
          "text": [
            " 16%|█▋        | 163/1000 [00:20<01:34,  8.88it/s]"
          ]
        },
        {
          "output_type": "stream",
          "name": "stdout",
          "text": [
            "Query 161: Failed to find relevant doc in top 3 results\n"
          ]
        },
        {
          "output_type": "stream",
          "name": "stderr",
          "text": [
            " 16%|█▋        | 165/1000 [00:21<01:34,  8.80it/s]"
          ]
        },
        {
          "output_type": "stream",
          "name": "stdout",
          "text": [
            "Query 163: Failed to find relevant doc in top 3 results\n",
            "Query 164: Failed to find relevant doc in top 3 results\n"
          ]
        },
        {
          "output_type": "stream",
          "name": "stderr",
          "text": [
            " 17%|█▋        | 172/1000 [00:21<01:33,  8.83it/s]"
          ]
        },
        {
          "output_type": "stream",
          "name": "stdout",
          "text": [
            "Query 170: Failed to find relevant doc in top 3 results\n",
            "Query 171: Failed to find relevant doc in top 3 results\n"
          ]
        },
        {
          "output_type": "stream",
          "name": "stderr",
          "text": [
            " 18%|█▊        | 176/1000 [00:22<01:35,  8.63it/s]"
          ]
        },
        {
          "output_type": "stream",
          "name": "stdout",
          "text": [
            "Query 174: Failed to find relevant doc in top 3 results\n"
          ]
        },
        {
          "output_type": "stream",
          "name": "stderr",
          "text": [
            " 19%|█▊        | 187/1000 [00:23<01:27,  9.31it/s]"
          ]
        },
        {
          "output_type": "stream",
          "name": "stdout",
          "text": [
            "Query 185: Failed to find relevant doc in top 3 results\n"
          ]
        },
        {
          "output_type": "stream",
          "name": "stderr",
          "text": [
            " 19%|█▉        | 190/1000 [00:23<01:31,  8.86it/s]"
          ]
        },
        {
          "output_type": "stream",
          "name": "stdout",
          "text": [
            "Query 188: Failed to find relevant doc in top 3 results\n",
            "Query 189: Failed to find relevant doc in top 3 results\n"
          ]
        },
        {
          "output_type": "stream",
          "name": "stderr",
          "text": [
            " 20%|█▉        | 199/1000 [00:25<01:31,  8.72it/s]"
          ]
        },
        {
          "output_type": "stream",
          "name": "stdout",
          "text": [
            "Query 197: Failed to find relevant doc in top 3 results\n"
          ]
        },
        {
          "output_type": "stream",
          "name": "stderr",
          "text": [
            " 20%|██        | 203/1000 [00:25<01:31,  8.67it/s]"
          ]
        },
        {
          "output_type": "stream",
          "name": "stdout",
          "text": [
            "Query 201: Failed to find relevant doc in top 3 results\n",
            "Query 202: Failed to find relevant doc in top 3 results\n"
          ]
        },
        {
          "output_type": "stream",
          "name": "stderr",
          "text": [
            " 21%|██        | 209/1000 [00:26<01:29,  8.88it/s]"
          ]
        },
        {
          "output_type": "stream",
          "name": "stdout",
          "text": [
            "Query 207: Failed to find relevant doc in top 3 results\n"
          ]
        },
        {
          "output_type": "stream",
          "name": "stderr",
          "text": [
            " 22%|██▏       | 215/1000 [00:26<01:26,  9.04it/s]"
          ]
        },
        {
          "output_type": "stream",
          "name": "stdout",
          "text": [
            "Query 213: Failed to find relevant doc in top 3 results\n",
            "Query 214: Failed to find relevant doc in top 3 results\n"
          ]
        },
        {
          "output_type": "stream",
          "name": "stderr",
          "text": [
            " 22%|██▏       | 217/1000 [00:27<01:27,  8.98it/s]"
          ]
        },
        {
          "output_type": "stream",
          "name": "stdout",
          "text": [
            "Query 215: Failed to find relevant doc in top 3 results\n"
          ]
        },
        {
          "output_type": "stream",
          "name": "stderr",
          "text": [
            " 22%|██▏       | 220/1000 [00:27<01:25,  9.08it/s]"
          ]
        },
        {
          "output_type": "stream",
          "name": "stdout",
          "text": [
            "Query 218: Failed to find relevant doc in top 3 results\n"
          ]
        },
        {
          "output_type": "stream",
          "name": "stderr",
          "text": [
            " 22%|██▎       | 225/1000 [00:27<01:30,  8.52it/s]"
          ]
        },
        {
          "output_type": "stream",
          "name": "stdout",
          "text": [
            "Query 223: Failed to find relevant doc in top 3 results\n"
          ]
        },
        {
          "output_type": "stream",
          "name": "stderr",
          "text": [
            " 23%|██▎       | 227/1000 [00:28<01:27,  8.86it/s]"
          ]
        },
        {
          "output_type": "stream",
          "name": "stdout",
          "text": [
            "Query 225: Failed to find relevant doc in top 3 results\n",
            "Query 226: Failed to find relevant doc in top 3 results\n"
          ]
        },
        {
          "output_type": "stream",
          "name": "stderr",
          "text": [
            " 23%|██▎       | 231/1000 [00:28<01:55,  6.68it/s]"
          ]
        },
        {
          "output_type": "stream",
          "name": "stdout",
          "text": [
            "Query 230: Failed to find relevant doc in top 3 results\n"
          ]
        },
        {
          "output_type": "stream",
          "name": "stderr",
          "text": [
            " 25%|██▍       | 246/1000 [00:31<01:38,  7.65it/s]"
          ]
        },
        {
          "output_type": "stream",
          "name": "stdout",
          "text": [
            "Query 244: Failed to find relevant doc in top 3 results\n"
          ]
        },
        {
          "output_type": "stream",
          "name": "stderr",
          "text": [
            " 25%|██▍       | 249/1000 [00:31<01:28,  8.50it/s]"
          ]
        },
        {
          "output_type": "stream",
          "name": "stdout",
          "text": [
            "Query 247: Failed to find relevant doc in top 3 results\n"
          ]
        },
        {
          "output_type": "stream",
          "name": "stderr",
          "text": [
            " 25%|██▌       | 251/1000 [00:31<01:25,  8.77it/s]"
          ]
        },
        {
          "output_type": "stream",
          "name": "stdout",
          "text": [
            "Query 249: Failed to find relevant doc in top 3 results\n"
          ]
        },
        {
          "output_type": "stream",
          "name": "stderr",
          "text": [
            " 25%|██▌       | 253/1000 [00:31<01:24,  8.89it/s]"
          ]
        },
        {
          "output_type": "stream",
          "name": "stdout",
          "text": [
            "Query 251: Failed to find relevant doc in top 3 results\n"
          ]
        },
        {
          "output_type": "stream",
          "name": "stderr",
          "text": [
            " 26%|██▌       | 261/1000 [00:32<01:22,  9.00it/s]"
          ]
        },
        {
          "output_type": "stream",
          "name": "stdout",
          "text": [
            "Query 259: Failed to find relevant doc in top 3 results\n"
          ]
        },
        {
          "output_type": "stream",
          "name": "stderr",
          "text": [
            " 26%|██▋       | 263/1000 [00:33<01:21,  9.09it/s]"
          ]
        },
        {
          "output_type": "stream",
          "name": "stdout",
          "text": [
            "Query 261: Failed to find relevant doc in top 3 results\n",
            "Query 262: Failed to find relevant doc in top 3 results\n"
          ]
        },
        {
          "output_type": "stream",
          "name": "stderr",
          "text": [
            " 27%|██▋       | 268/1000 [00:33<01:21,  8.97it/s]"
          ]
        },
        {
          "output_type": "stream",
          "name": "stdout",
          "text": [
            "Query 266: Failed to find relevant doc in top 3 results\n",
            "Query 267: Failed to find relevant doc in top 3 results\n"
          ]
        },
        {
          "output_type": "stream",
          "name": "stderr",
          "text": [
            " 27%|██▋       | 273/1000 [00:34<01:22,  8.77it/s]"
          ]
        },
        {
          "output_type": "stream",
          "name": "stdout",
          "text": [
            "Query 271: Failed to find relevant doc in top 3 results\n"
          ]
        },
        {
          "output_type": "stream",
          "name": "stderr",
          "text": [
            " 29%|██▊       | 286/1000 [00:35<01:19,  8.93it/s]"
          ]
        },
        {
          "output_type": "stream",
          "name": "stdout",
          "text": [
            "Query 284: Failed to find relevant doc in top 3 results\n",
            "Query 285: Failed to find relevant doc in top 3 results\n"
          ]
        },
        {
          "output_type": "stream",
          "name": "stderr",
          "text": [
            " 29%|██▉       | 290/1000 [00:36<01:18,  9.04it/s]"
          ]
        },
        {
          "output_type": "stream",
          "name": "stdout",
          "text": [
            "Query 288: Failed to find relevant doc in top 3 results\n"
          ]
        },
        {
          "output_type": "stream",
          "name": "stderr",
          "text": [
            " 30%|██▉       | 296/1000 [00:36<01:17,  9.03it/s]"
          ]
        },
        {
          "output_type": "stream",
          "name": "stdout",
          "text": [
            "Query 294: Failed to find relevant doc in top 3 results\n",
            "Query 295: Failed to find relevant doc in top 3 results\n"
          ]
        },
        {
          "output_type": "stream",
          "name": "stderr",
          "text": [
            " 30%|██▉       | 298/1000 [00:37<01:17,  9.10it/s]"
          ]
        },
        {
          "output_type": "stream",
          "name": "stdout",
          "text": [
            "Query 296: Failed to find relevant doc in top 3 results\n"
          ]
        },
        {
          "output_type": "stream",
          "name": "stderr",
          "text": [
            " 30%|███       | 301/1000 [00:37<01:17,  8.99it/s]"
          ]
        },
        {
          "output_type": "stream",
          "name": "stdout",
          "text": [
            "Query 299: Failed to find relevant doc in top 3 results\n",
            "Query 300: Failed to find relevant doc in top 3 results\n"
          ]
        },
        {
          "output_type": "stream",
          "name": "stderr",
          "text": [
            " 30%|███       | 303/1000 [00:37<01:18,  8.88it/s]"
          ]
        },
        {
          "output_type": "stream",
          "name": "stdout",
          "text": [
            "Query 301: Failed to find relevant doc in top 3 results\n"
          ]
        },
        {
          "output_type": "stream",
          "name": "stderr",
          "text": [
            " 30%|███       | 305/1000 [00:37<01:18,  8.88it/s]"
          ]
        },
        {
          "output_type": "stream",
          "name": "stdout",
          "text": [
            "Query 303: Failed to find relevant doc in top 3 results\n",
            "Query 304: Failed to find relevant doc in top 3 results\n"
          ]
        },
        {
          "output_type": "stream",
          "name": "stderr",
          "text": [
            " 31%|███       | 309/1000 [00:38<01:16,  9.06it/s]"
          ]
        },
        {
          "output_type": "stream",
          "name": "stdout",
          "text": [
            "Query 307: Failed to find relevant doc in top 3 results\n"
          ]
        },
        {
          "output_type": "stream",
          "name": "stderr",
          "text": [
            " 31%|███       | 312/1000 [00:38<01:19,  8.61it/s]"
          ]
        },
        {
          "output_type": "stream",
          "name": "stdout",
          "text": [
            "Query 310: Failed to find relevant doc in top 3 results\n"
          ]
        },
        {
          "output_type": "stream",
          "name": "stderr",
          "text": [
            " 31%|███▏      | 314/1000 [00:38<01:19,  8.66it/s]"
          ]
        },
        {
          "output_type": "stream",
          "name": "stdout",
          "text": [
            "Query 312: Failed to find relevant doc in top 3 results\n",
            "Query 313: Failed to find relevant doc in top 3 results\n"
          ]
        },
        {
          "output_type": "stream",
          "name": "stderr",
          "text": [
            " 32%|███▏      | 321/1000 [00:39<01:18,  8.62it/s]"
          ]
        },
        {
          "output_type": "stream",
          "name": "stdout",
          "text": [
            "Query 319: Failed to find relevant doc in top 3 results\n",
            "Query 320: Failed to find relevant doc in top 3 results\n"
          ]
        },
        {
          "output_type": "stream",
          "name": "stderr",
          "text": [
            " 32%|███▏      | 323/1000 [00:39<01:15,  8.93it/s]"
          ]
        },
        {
          "output_type": "stream",
          "name": "stdout",
          "text": [
            "Query 321: Failed to find relevant doc in top 3 results\n",
            "Query 322: Failed to find relevant doc in top 3 results\n"
          ]
        },
        {
          "output_type": "stream",
          "name": "stderr",
          "text": [
            " 32%|███▎      | 325/1000 [00:40<01:13,  9.18it/s]"
          ]
        },
        {
          "output_type": "stream",
          "name": "stdout",
          "text": [
            "Query 323: Failed to find relevant doc in top 3 results\n"
          ]
        },
        {
          "output_type": "stream",
          "name": "stderr",
          "text": [
            " 33%|███▎      | 330/1000 [00:40<01:17,  8.61it/s]"
          ]
        },
        {
          "output_type": "stream",
          "name": "stdout",
          "text": [
            "Query 328: Failed to find relevant doc in top 3 results\n",
            "Query 329: Failed to find relevant doc in top 3 results\n"
          ]
        },
        {
          "output_type": "stream",
          "name": "stderr",
          "text": [
            " 33%|███▎      | 332/1000 [00:40<01:20,  8.28it/s]"
          ]
        },
        {
          "output_type": "stream",
          "name": "stdout",
          "text": [
            "Query 330: Failed to find relevant doc in top 3 results\n",
            "Query 331: Failed to find relevant doc in top 3 results\n"
          ]
        },
        {
          "output_type": "stream",
          "name": "stderr",
          "text": [
            " 33%|███▎      | 334/1000 [00:41<01:43,  6.41it/s]"
          ]
        },
        {
          "output_type": "stream",
          "name": "stdout",
          "text": [
            "Query 332: Failed to find relevant doc in top 3 results\n"
          ]
        },
        {
          "output_type": "stream",
          "name": "stderr",
          "text": [
            " 35%|███▌      | 353/1000 [00:44<01:14,  8.65it/s]"
          ]
        },
        {
          "output_type": "stream",
          "name": "stdout",
          "text": [
            "Query 351: Failed to find relevant doc in top 3 results\n"
          ]
        },
        {
          "output_type": "stream",
          "name": "stderr",
          "text": [
            " 36%|███▌      | 355/1000 [00:44<01:14,  8.70it/s]"
          ]
        },
        {
          "output_type": "stream",
          "name": "stdout",
          "text": [
            "Query 353: Failed to find relevant doc in top 3 results\n"
          ]
        },
        {
          "output_type": "stream",
          "name": "stderr",
          "text": [
            " 36%|███▌      | 359/1000 [00:44<01:11,  8.95it/s]"
          ]
        },
        {
          "output_type": "stream",
          "name": "stdout",
          "text": [
            "Query 357: Failed to find relevant doc in top 3 results\n"
          ]
        },
        {
          "output_type": "stream",
          "name": "stderr",
          "text": [
            " 36%|███▌      | 361/1000 [00:45<01:11,  9.00it/s]"
          ]
        },
        {
          "output_type": "stream",
          "name": "stdout",
          "text": [
            "Query 359: Failed to find relevant doc in top 3 results\n"
          ]
        },
        {
          "output_type": "stream",
          "name": "stderr",
          "text": [
            " 36%|███▋      | 363/1000 [00:45<01:10,  9.04it/s]"
          ]
        },
        {
          "output_type": "stream",
          "name": "stdout",
          "text": [
            "Query 361: Failed to find relevant doc in top 3 results\n"
          ]
        },
        {
          "output_type": "stream",
          "name": "stderr",
          "text": [
            " 36%|███▋      | 365/1000 [00:45<01:11,  8.91it/s]"
          ]
        },
        {
          "output_type": "stream",
          "name": "stdout",
          "text": [
            "Query 363: Failed to find relevant doc in top 3 results\n"
          ]
        },
        {
          "output_type": "stream",
          "name": "stderr",
          "text": [
            " 37%|███▋      | 372/1000 [00:46<01:09,  9.01it/s]"
          ]
        },
        {
          "output_type": "stream",
          "name": "stdout",
          "text": [
            "Query 370: Failed to find relevant doc in top 3 results\n"
          ]
        },
        {
          "output_type": "stream",
          "name": "stderr",
          "text": [
            " 38%|███▊      | 379/1000 [00:47<01:11,  8.69it/s]"
          ]
        },
        {
          "output_type": "stream",
          "name": "stdout",
          "text": [
            "Query 377: Failed to find relevant doc in top 3 results\n"
          ]
        },
        {
          "output_type": "stream",
          "name": "stderr",
          "text": [
            " 38%|███▊      | 382/1000 [00:47<01:10,  8.77it/s]"
          ]
        },
        {
          "output_type": "stream",
          "name": "stdout",
          "text": [
            "Query 380: Failed to find relevant doc in top 3 results\n",
            "Query 381: Failed to find relevant doc in top 3 results\n"
          ]
        },
        {
          "output_type": "stream",
          "name": "stderr",
          "text": [
            " 38%|███▊      | 384/1000 [00:47<01:10,  8.77it/s]"
          ]
        },
        {
          "output_type": "stream",
          "name": "stdout",
          "text": [
            "Query 382: Failed to find relevant doc in top 3 results\n"
          ]
        },
        {
          "output_type": "stream",
          "name": "stderr",
          "text": [
            " 39%|███▉      | 391/1000 [00:48<01:09,  8.76it/s]"
          ]
        },
        {
          "output_type": "stream",
          "name": "stdout",
          "text": [
            "Query 389: Failed to find relevant doc in top 3 results\n"
          ]
        },
        {
          "output_type": "stream",
          "name": "stderr",
          "text": [
            " 39%|███▉      | 394/1000 [00:48<01:08,  8.82it/s]"
          ]
        },
        {
          "output_type": "stream",
          "name": "stdout",
          "text": [
            "Query 392: Failed to find relevant doc in top 3 results\n"
          ]
        },
        {
          "output_type": "stream",
          "name": "stderr",
          "text": [
            " 40%|███▉      | 399/1000 [00:49<01:08,  8.81it/s]"
          ]
        },
        {
          "output_type": "stream",
          "name": "stdout",
          "text": [
            "Query 397: Failed to find relevant doc in top 3 results\n",
            "Query 398: Failed to find relevant doc in top 3 results\n"
          ]
        },
        {
          "output_type": "stream",
          "name": "stderr",
          "text": [
            " 42%|████▏     | 418/1000 [00:51<01:06,  8.79it/s]"
          ]
        },
        {
          "output_type": "stream",
          "name": "stdout",
          "text": [
            "Query 416: Failed to find relevant doc in top 3 results\n"
          ]
        },
        {
          "output_type": "stream",
          "name": "stderr",
          "text": [
            " 42%|████▏     | 424/1000 [00:52<01:08,  8.47it/s]"
          ]
        },
        {
          "output_type": "stream",
          "name": "stdout",
          "text": [
            "Query 422: Failed to find relevant doc in top 3 results\n"
          ]
        },
        {
          "output_type": "stream",
          "name": "stderr",
          "text": [
            " 43%|████▎     | 426/1000 [00:52<01:06,  8.67it/s]"
          ]
        },
        {
          "output_type": "stream",
          "name": "stdout",
          "text": [
            "Query 424: Failed to find relevant doc in top 3 results\n"
          ]
        },
        {
          "output_type": "stream",
          "name": "stderr",
          "text": [
            " 43%|████▎     | 429/1000 [00:52<01:03,  9.06it/s]"
          ]
        },
        {
          "output_type": "stream",
          "name": "stdout",
          "text": [
            "Query 427: Failed to find relevant doc in top 3 results\n"
          ]
        },
        {
          "output_type": "stream",
          "name": "stderr",
          "text": [
            " 43%|████▎     | 431/1000 [00:53<01:01,  9.23it/s]"
          ]
        },
        {
          "output_type": "stream",
          "name": "stdout",
          "text": [
            "Query 429: Failed to find relevant doc in top 3 results\n"
          ]
        },
        {
          "output_type": "stream",
          "name": "stderr",
          "text": [
            " 43%|████▎     | 433/1000 [00:53<01:05,  8.69it/s]"
          ]
        },
        {
          "output_type": "stream",
          "name": "stdout",
          "text": [
            "Query 431: Failed to find relevant doc in top 3 results\n",
            "Query 432: Failed to find relevant doc in top 3 results\n"
          ]
        },
        {
          "output_type": "stream",
          "name": "stderr",
          "text": [
            " 45%|████▍     | 446/1000 [00:55<01:30,  6.11it/s]"
          ]
        },
        {
          "output_type": "stream",
          "name": "stdout",
          "text": [
            "Query 444: Failed to find relevant doc in top 3 results\n"
          ]
        },
        {
          "output_type": "stream",
          "name": "stderr",
          "text": [
            " 45%|████▌     | 451/1000 [00:56<01:06,  8.28it/s]"
          ]
        },
        {
          "output_type": "stream",
          "name": "stdout",
          "text": [
            "Query 449: Failed to find relevant doc in top 3 results\n"
          ]
        },
        {
          "output_type": "stream",
          "name": "stderr",
          "text": [
            " 46%|████▌     | 461/1000 [00:57<01:00,  8.90it/s]"
          ]
        },
        {
          "output_type": "stream",
          "name": "stdout",
          "text": [
            "Query 459: Failed to find relevant doc in top 3 results\n",
            "Query 460: Failed to find relevant doc in top 3 results\n"
          ]
        },
        {
          "output_type": "stream",
          "name": "stderr",
          "text": [
            " 47%|████▋     | 467/1000 [00:58<00:58,  9.07it/s]"
          ]
        },
        {
          "output_type": "stream",
          "name": "stdout",
          "text": [
            "Query 465: Failed to find relevant doc in top 3 results\n"
          ]
        },
        {
          "output_type": "stream",
          "name": "stderr",
          "text": [
            " 48%|████▊     | 482/1000 [00:59<00:57,  9.08it/s]"
          ]
        },
        {
          "output_type": "stream",
          "name": "stdout",
          "text": [
            "Query 480: Failed to find relevant doc in top 3 results\n"
          ]
        },
        {
          "output_type": "stream",
          "name": "stderr",
          "text": [
            " 49%|████▊     | 486/1000 [01:00<00:57,  8.95it/s]"
          ]
        },
        {
          "output_type": "stream",
          "name": "stdout",
          "text": [
            "Query 484: Failed to find relevant doc in top 3 results\n"
          ]
        },
        {
          "output_type": "stream",
          "name": "stderr",
          "text": [
            " 49%|████▉     | 489/1000 [01:00<00:59,  8.52it/s]"
          ]
        },
        {
          "output_type": "stream",
          "name": "stdout",
          "text": [
            "Query 487: Failed to find relevant doc in top 3 results\n"
          ]
        },
        {
          "output_type": "stream",
          "name": "stderr",
          "text": [
            " 49%|████▉     | 494/1000 [01:01<00:55,  9.18it/s]"
          ]
        },
        {
          "output_type": "stream",
          "name": "stdout",
          "text": [
            "Query 492: Failed to find relevant doc in top 3 results\n",
            "Query 493: Failed to find relevant doc in top 3 results\n"
          ]
        },
        {
          "output_type": "stream",
          "name": "stderr",
          "text": [
            " 50%|████▉     | 496/1000 [01:01<00:58,  8.55it/s]"
          ]
        },
        {
          "output_type": "stream",
          "name": "stdout",
          "text": [
            "Query 494: Failed to find relevant doc in top 3 results\n",
            "Query 495: Failed to find relevant doc in top 3 results\n"
          ]
        },
        {
          "output_type": "stream",
          "name": "stderr",
          "text": [
            " 50%|█████     | 503/1000 [01:02<00:53,  9.35it/s]"
          ]
        },
        {
          "output_type": "stream",
          "name": "stdout",
          "text": [
            "Query 501: Failed to find relevant doc in top 3 results\n"
          ]
        },
        {
          "output_type": "stream",
          "name": "stderr",
          "text": [
            " 50%|█████     | 505/1000 [01:02<01:01,  8.06it/s]"
          ]
        },
        {
          "output_type": "stream",
          "name": "stdout",
          "text": [
            "Query 503: Failed to find relevant doc in top 3 results\n"
          ]
        },
        {
          "output_type": "stream",
          "name": "stderr",
          "text": [
            " 52%|█████▏    | 520/1000 [01:04<00:51,  9.26it/s]"
          ]
        },
        {
          "output_type": "stream",
          "name": "stdout",
          "text": [
            "Query 518: Failed to find relevant doc in top 3 results\n"
          ]
        },
        {
          "output_type": "stream",
          "name": "stderr",
          "text": [
            " 53%|█████▎    | 530/1000 [01:05<00:51,  9.11it/s]"
          ]
        },
        {
          "output_type": "stream",
          "name": "stdout",
          "text": [
            "Query 528: Failed to find relevant doc in top 3 results\n"
          ]
        },
        {
          "output_type": "stream",
          "name": "stderr",
          "text": [
            " 54%|█████▎    | 537/1000 [01:06<01:08,  6.74it/s]"
          ]
        },
        {
          "output_type": "stream",
          "name": "stdout",
          "text": [
            "Query 535: Failed to find relevant doc in top 3 results\n"
          ]
        },
        {
          "output_type": "stream",
          "name": "stderr",
          "text": [
            " 54%|█████▍    | 539/1000 [01:06<01:16,  6.02it/s]"
          ]
        },
        {
          "output_type": "stream",
          "name": "stdout",
          "text": [
            "Query 538: Failed to find relevant doc in top 3 results\n"
          ]
        },
        {
          "output_type": "stream",
          "name": "stderr",
          "text": [
            " 55%|█████▍    | 545/1000 [01:07<01:23,  5.45it/s]"
          ]
        },
        {
          "output_type": "stream",
          "name": "stdout",
          "text": [
            "Query 544: Failed to find relevant doc in top 3 results\n"
          ]
        },
        {
          "output_type": "stream",
          "name": "stderr",
          "text": [
            " 56%|█████▌    | 555/1000 [01:09<00:56,  7.90it/s]"
          ]
        },
        {
          "output_type": "stream",
          "name": "stdout",
          "text": [
            "Query 553: Failed to find relevant doc in top 3 results\n",
            "Query 554: Failed to find relevant doc in top 3 results\n"
          ]
        },
        {
          "output_type": "stream",
          "name": "stderr",
          "text": [
            " 58%|█████▊    | 583/1000 [01:12<00:47,  8.80it/s]"
          ]
        },
        {
          "output_type": "stream",
          "name": "stdout",
          "text": [
            "Query 581: Failed to find relevant doc in top 3 results\n"
          ]
        },
        {
          "output_type": "stream",
          "name": "stderr",
          "text": [
            " 59%|█████▉    | 588/1000 [01:13<00:46,  8.92it/s]"
          ]
        },
        {
          "output_type": "stream",
          "name": "stdout",
          "text": [
            "Query 586: Failed to find relevant doc in top 3 results\n",
            "Query 587: Failed to find relevant doc in top 3 results\n"
          ]
        },
        {
          "output_type": "stream",
          "name": "stderr",
          "text": [
            " 59%|█████▉    | 590/1000 [01:13<00:46,  8.80it/s]"
          ]
        },
        {
          "output_type": "stream",
          "name": "stdout",
          "text": [
            "Query 588: Failed to find relevant doc in top 3 results\n",
            "Query 589: Failed to find relevant doc in top 3 results\n"
          ]
        },
        {
          "output_type": "stream",
          "name": "stderr",
          "text": [
            " 59%|█████▉    | 594/1000 [01:13<00:44,  9.02it/s]"
          ]
        },
        {
          "output_type": "stream",
          "name": "stdout",
          "text": [
            "Query 592: Failed to find relevant doc in top 3 results\n",
            "Query 593: Failed to find relevant doc in top 3 results\n"
          ]
        },
        {
          "output_type": "stream",
          "name": "stderr",
          "text": [
            " 61%|██████    | 612/1000 [01:15<00:42,  9.09it/s]"
          ]
        },
        {
          "output_type": "stream",
          "name": "stdout",
          "text": [
            "Query 610: Failed to find relevant doc in top 3 results\n"
          ]
        },
        {
          "output_type": "stream",
          "name": "stderr",
          "text": [
            " 63%|██████▎   | 629/1000 [01:17<00:41,  9.04it/s]"
          ]
        },
        {
          "output_type": "stream",
          "name": "stdout",
          "text": [
            "Query 627: Failed to find relevant doc in top 3 results\n"
          ]
        },
        {
          "output_type": "stream",
          "name": "stderr",
          "text": [
            " 63%|██████▎   | 632/1000 [01:18<00:40,  9.05it/s]"
          ]
        },
        {
          "output_type": "stream",
          "name": "stdout",
          "text": [
            "Query 630: Failed to find relevant doc in top 3 results\n"
          ]
        },
        {
          "output_type": "stream",
          "name": "stderr",
          "text": [
            " 64%|██████▎   | 635/1000 [01:18<00:45,  7.98it/s]"
          ]
        },
        {
          "output_type": "stream",
          "name": "stdout",
          "text": [
            "Query 633: Failed to find relevant doc in top 3 results\n"
          ]
        },
        {
          "output_type": "stream",
          "name": "stderr",
          "text": [
            " 64%|██████▍   | 644/1000 [01:20<01:02,  5.74it/s]"
          ]
        },
        {
          "output_type": "stream",
          "name": "stdout",
          "text": [
            "Query 642: Failed to find relevant doc in top 3 results\n"
          ]
        },
        {
          "output_type": "stream",
          "name": "stderr",
          "text": [
            " 65%|██████▍   | 647/1000 [01:20<01:01,  5.73it/s]"
          ]
        },
        {
          "output_type": "stream",
          "name": "stdout",
          "text": [
            "Query 645: Failed to find relevant doc in top 3 results\n",
            "Query 646: Failed to find relevant doc in top 3 results\n"
          ]
        },
        {
          "output_type": "stream",
          "name": "stderr",
          "text": [
            " 65%|██████▌   | 650/1000 [01:21<00:54,  6.36it/s]"
          ]
        },
        {
          "output_type": "stream",
          "name": "stdout",
          "text": [
            "Query 648: Failed to find relevant doc in top 3 results\n",
            "Query 649: Failed to find relevant doc in top 3 results\n"
          ]
        },
        {
          "output_type": "stream",
          "name": "stderr",
          "text": [
            " 65%|██████▌   | 652/1000 [01:21<00:48,  7.20it/s]"
          ]
        },
        {
          "output_type": "stream",
          "name": "stdout",
          "text": [
            "Query 650: Failed to find relevant doc in top 3 results\n",
            "Query 651: Failed to find relevant doc in top 3 results\n"
          ]
        },
        {
          "output_type": "stream",
          "name": "stderr",
          "text": [
            " 66%|██████▋   | 664/1000 [01:22<00:39,  8.40it/s]"
          ]
        },
        {
          "output_type": "stream",
          "name": "stdout",
          "text": [
            "Query 662: Failed to find relevant doc in top 3 results\n",
            "Query 663: Failed to find relevant doc in top 3 results\n"
          ]
        },
        {
          "output_type": "stream",
          "name": "stderr",
          "text": [
            " 67%|██████▋   | 667/1000 [01:23<00:37,  8.79it/s]"
          ]
        },
        {
          "output_type": "stream",
          "name": "stdout",
          "text": [
            "Query 665: Failed to find relevant doc in top 3 results\n"
          ]
        },
        {
          "output_type": "stream",
          "name": "stderr",
          "text": [
            " 67%|██████▋   | 673/1000 [01:23<00:38,  8.57it/s]"
          ]
        },
        {
          "output_type": "stream",
          "name": "stdout",
          "text": [
            "Query 671: Failed to find relevant doc in top 3 results\n"
          ]
        },
        {
          "output_type": "stream",
          "name": "stderr",
          "text": [
            " 68%|██████▊   | 678/1000 [01:24<00:35,  9.09it/s]"
          ]
        },
        {
          "output_type": "stream",
          "name": "stdout",
          "text": [
            "Query 676: Failed to find relevant doc in top 3 results\n"
          ]
        },
        {
          "output_type": "stream",
          "name": "stderr",
          "text": [
            " 68%|██████▊   | 682/1000 [01:24<00:36,  8.71it/s]"
          ]
        },
        {
          "output_type": "stream",
          "name": "stdout",
          "text": [
            "Query 680: Failed to find relevant doc in top 3 results\n"
          ]
        },
        {
          "output_type": "stream",
          "name": "stderr",
          "text": [
            " 68%|██████▊   | 684/1000 [01:25<00:36,  8.76it/s]"
          ]
        },
        {
          "output_type": "stream",
          "name": "stdout",
          "text": [
            "Query 682: Failed to find relevant doc in top 3 results\n"
          ]
        },
        {
          "output_type": "stream",
          "name": "stderr",
          "text": [
            " 69%|██████▉   | 690/1000 [01:25<00:35,  8.67it/s]"
          ]
        },
        {
          "output_type": "stream",
          "name": "stdout",
          "text": [
            "Query 688: Failed to find relevant doc in top 3 results\n"
          ]
        },
        {
          "output_type": "stream",
          "name": "stderr",
          "text": [
            " 71%|███████   | 710/1000 [01:27<00:33,  8.66it/s]"
          ]
        },
        {
          "output_type": "stream",
          "name": "stdout",
          "text": [
            "Query 708: Failed to find relevant doc in top 3 results\n"
          ]
        },
        {
          "output_type": "stream",
          "name": "stderr",
          "text": [
            " 72%|███████▏  | 715/1000 [01:28<00:31,  8.99it/s]"
          ]
        },
        {
          "output_type": "stream",
          "name": "stdout",
          "text": [
            "Query 713: Failed to find relevant doc in top 3 results\n"
          ]
        },
        {
          "output_type": "stream",
          "name": "stderr",
          "text": [
            " 72%|███████▏  | 719/1000 [01:28<00:31,  8.78it/s]"
          ]
        },
        {
          "output_type": "stream",
          "name": "stdout",
          "text": [
            "Query 717: Failed to find relevant doc in top 3 results\n",
            "Query 718: Failed to find relevant doc in top 3 results\n"
          ]
        },
        {
          "output_type": "stream",
          "name": "stderr",
          "text": [
            " 72%|███████▏  | 721/1000 [01:29<00:32,  8.68it/s]"
          ]
        },
        {
          "output_type": "stream",
          "name": "stdout",
          "text": [
            "Query 719: Failed to find relevant doc in top 3 results\n",
            "Query 720: Failed to find relevant doc in top 3 results\n"
          ]
        },
        {
          "output_type": "stream",
          "name": "stderr",
          "text": [
            " 73%|███████▎  | 727/1000 [01:29<00:30,  8.86it/s]"
          ]
        },
        {
          "output_type": "stream",
          "name": "stdout",
          "text": [
            "Query 725: Failed to find relevant doc in top 3 results\n"
          ]
        },
        {
          "output_type": "stream",
          "name": "stderr",
          "text": [
            " 74%|███████▍  | 742/1000 [01:31<00:45,  5.66it/s]"
          ]
        },
        {
          "output_type": "stream",
          "name": "stdout",
          "text": [
            "Query 740: Failed to find relevant doc in top 3 results\n"
          ]
        },
        {
          "output_type": "stream",
          "name": "stderr",
          "text": [
            " 75%|███████▌  | 751/1000 [01:33<00:44,  5.55it/s]"
          ]
        },
        {
          "output_type": "stream",
          "name": "stdout",
          "text": [
            "Query 749: Failed to find relevant doc in top 3 results\n"
          ]
        },
        {
          "output_type": "stream",
          "name": "stderr",
          "text": [
            " 76%|███████▌  | 758/1000 [01:34<00:28,  8.42it/s]"
          ]
        },
        {
          "output_type": "stream",
          "name": "stdout",
          "text": [
            "Query 756: Failed to find relevant doc in top 3 results\n"
          ]
        },
        {
          "output_type": "stream",
          "name": "stderr",
          "text": [
            " 76%|███████▌  | 761/1000 [01:34<00:27,  8.70it/s]"
          ]
        },
        {
          "output_type": "stream",
          "name": "stdout",
          "text": [
            "Query 759: Failed to find relevant doc in top 3 results\n",
            "Query 760: Failed to find relevant doc in top 3 results\n"
          ]
        },
        {
          "output_type": "stream",
          "name": "stderr",
          "text": [
            " 77%|███████▋  | 767/1000 [01:35<00:26,  8.67it/s]"
          ]
        },
        {
          "output_type": "stream",
          "name": "stdout",
          "text": [
            "Query 765: Failed to find relevant doc in top 3 results\n"
          ]
        },
        {
          "output_type": "stream",
          "name": "stderr",
          "text": [
            " 77%|███████▋  | 769/1000 [01:35<00:26,  8.70it/s]"
          ]
        },
        {
          "output_type": "stream",
          "name": "stdout",
          "text": [
            "Query 767: Failed to find relevant doc in top 3 results\n"
          ]
        },
        {
          "output_type": "stream",
          "name": "stderr",
          "text": [
            " 77%|███████▋  | 771/1000 [01:35<00:25,  8.97it/s]"
          ]
        },
        {
          "output_type": "stream",
          "name": "stdout",
          "text": [
            "Query 769: Failed to find relevant doc in top 3 results\n"
          ]
        },
        {
          "output_type": "stream",
          "name": "stderr",
          "text": [
            " 77%|███████▋  | 773/1000 [01:36<00:25,  8.99it/s]"
          ]
        },
        {
          "output_type": "stream",
          "name": "stdout",
          "text": [
            "Query 771: Failed to find relevant doc in top 3 results\n"
          ]
        },
        {
          "output_type": "stream",
          "name": "stderr",
          "text": [
            " 78%|███████▊  | 778/1000 [01:36<00:24,  8.89it/s]"
          ]
        },
        {
          "output_type": "stream",
          "name": "stdout",
          "text": [
            "Query 776: Failed to find relevant doc in top 3 results\n"
          ]
        },
        {
          "output_type": "stream",
          "name": "stderr",
          "text": [
            " 78%|███████▊  | 782/1000 [01:37<00:24,  9.03it/s]"
          ]
        },
        {
          "output_type": "stream",
          "name": "stdout",
          "text": [
            "Query 780: Failed to find relevant doc in top 3 results\n"
          ]
        },
        {
          "output_type": "stream",
          "name": "stderr",
          "text": [
            " 80%|███████▉  | 799/1000 [01:39<00:22,  9.07it/s]"
          ]
        },
        {
          "output_type": "stream",
          "name": "stdout",
          "text": [
            "Query 797: Failed to find relevant doc in top 3 results\n"
          ]
        },
        {
          "output_type": "stream",
          "name": "stderr",
          "text": [
            " 80%|████████  | 805/1000 [01:39<00:22,  8.83it/s]"
          ]
        },
        {
          "output_type": "stream",
          "name": "stdout",
          "text": [
            "Query 803: Failed to find relevant doc in top 3 results\n"
          ]
        },
        {
          "output_type": "stream",
          "name": "stderr",
          "text": [
            " 81%|████████  | 808/1000 [01:40<00:21,  9.06it/s]"
          ]
        },
        {
          "output_type": "stream",
          "name": "stdout",
          "text": [
            "Query 806: Failed to find relevant doc in top 3 results\n"
          ]
        },
        {
          "output_type": "stream",
          "name": "stderr",
          "text": [
            " 81%|████████  | 810/1000 [01:40<00:21,  8.78it/s]"
          ]
        },
        {
          "output_type": "stream",
          "name": "stdout",
          "text": [
            "Query 808: Failed to find relevant doc in top 3 results\n",
            "Query 809: Failed to find relevant doc in top 3 results\n"
          ]
        },
        {
          "output_type": "stream",
          "name": "stderr",
          "text": [
            " 81%|████████▏ | 814/1000 [01:40<00:21,  8.70it/s]"
          ]
        },
        {
          "output_type": "stream",
          "name": "stdout",
          "text": [
            "Query 812: Failed to find relevant doc in top 3 results\n",
            "Query 813: Failed to find relevant doc in top 3 results\n"
          ]
        },
        {
          "output_type": "stream",
          "name": "stderr",
          "text": [
            " 82%|████████▏ | 816/1000 [01:41<00:20,  8.96it/s]"
          ]
        },
        {
          "output_type": "stream",
          "name": "stdout",
          "text": [
            "Query 814: Failed to find relevant doc in top 3 results\n"
          ]
        },
        {
          "output_type": "stream",
          "name": "stderr",
          "text": [
            " 83%|████████▎ | 827/1000 [01:42<00:19,  9.03it/s]"
          ]
        },
        {
          "output_type": "stream",
          "name": "stdout",
          "text": [
            "Query 825: Failed to find relevant doc in top 3 results\n"
          ]
        },
        {
          "output_type": "stream",
          "name": "stderr",
          "text": [
            " 83%|████████▎ | 834/1000 [01:43<00:18,  9.16it/s]"
          ]
        },
        {
          "output_type": "stream",
          "name": "stdout",
          "text": [
            "Query 832: Failed to find relevant doc in top 3 results\n",
            "Query 833: Failed to find relevant doc in top 3 results\n"
          ]
        },
        {
          "output_type": "stream",
          "name": "stderr",
          "text": [
            " 84%|████████▍ | 842/1000 [01:44<00:28,  5.62it/s]"
          ]
        },
        {
          "output_type": "stream",
          "name": "stdout",
          "text": [
            "Query 840: Failed to find relevant doc in top 3 results\n"
          ]
        },
        {
          "output_type": "stream",
          "name": "stderr",
          "text": [
            " 84%|████████▍ | 844/1000 [01:44<00:28,  5.56it/s]"
          ]
        },
        {
          "output_type": "stream",
          "name": "stdout",
          "text": [
            "Query 842: Failed to find relevant doc in top 3 results\n"
          ]
        },
        {
          "output_type": "stream",
          "name": "stderr",
          "text": [
            " 85%|████████▍ | 846/1000 [01:45<00:27,  5.57it/s]"
          ]
        },
        {
          "output_type": "stream",
          "name": "stdout",
          "text": [
            "Query 844: Failed to find relevant doc in top 3 results\n",
            "Query 845: Failed to find relevant doc in top 3 results\n"
          ]
        },
        {
          "output_type": "stream",
          "name": "stderr",
          "text": [
            " 85%|████████▌ | 853/1000 [01:46<00:25,  5.81it/s]"
          ]
        },
        {
          "output_type": "stream",
          "name": "stdout",
          "text": [
            "Query 851: Failed to find relevant doc in top 3 results\n"
          ]
        },
        {
          "output_type": "stream",
          "name": "stderr",
          "text": [
            " 86%|████████▌ | 856/1000 [01:46<00:19,  7.47it/s]"
          ]
        },
        {
          "output_type": "stream",
          "name": "stdout",
          "text": [
            "Query 854: Failed to find relevant doc in top 3 results\n"
          ]
        },
        {
          "output_type": "stream",
          "name": "stderr",
          "text": [
            " 86%|████████▌ | 858/1000 [01:46<00:18,  7.80it/s]"
          ]
        },
        {
          "output_type": "stream",
          "name": "stdout",
          "text": [
            "Query 856: Failed to find relevant doc in top 3 results\n",
            "Query 857: Failed to find relevant doc in top 3 results\n"
          ]
        },
        {
          "output_type": "stream",
          "name": "stderr",
          "text": [
            " 88%|████████▊ | 884/1000 [01:49<00:12,  8.96it/s]"
          ]
        },
        {
          "output_type": "stream",
          "name": "stdout",
          "text": [
            "Query 882: Failed to find relevant doc in top 3 results\n"
          ]
        },
        {
          "output_type": "stream",
          "name": "stderr",
          "text": [
            " 91%|█████████ | 907/1000 [01:52<00:10,  8.88it/s]"
          ]
        },
        {
          "output_type": "stream",
          "name": "stdout",
          "text": [
            "Query 905: Failed to find relevant doc in top 3 results\n"
          ]
        },
        {
          "output_type": "stream",
          "name": "stderr",
          "text": [
            " 91%|█████████ | 911/1000 [01:52<00:09,  9.09it/s]"
          ]
        },
        {
          "output_type": "stream",
          "name": "stdout",
          "text": [
            "Query 909: Failed to find relevant doc in top 3 results\n"
          ]
        },
        {
          "output_type": "stream",
          "name": "stderr",
          "text": [
            " 93%|█████████▎| 932/1000 [01:55<00:08,  8.15it/s]"
          ]
        },
        {
          "output_type": "stream",
          "name": "stdout",
          "text": [
            "Query 930: Failed to find relevant doc in top 3 results\n"
          ]
        },
        {
          "output_type": "stream",
          "name": "stderr",
          "text": [
            " 94%|█████████▍| 942/1000 [01:56<00:08,  7.16it/s]"
          ]
        },
        {
          "output_type": "stream",
          "name": "stdout",
          "text": [
            "Query 941: Failed to find relevant doc in top 3 results\n"
          ]
        },
        {
          "output_type": "stream",
          "name": "stderr",
          "text": [
            " 94%|█████████▍| 944/1000 [01:56<00:09,  6.07it/s]"
          ]
        },
        {
          "output_type": "stream",
          "name": "stdout",
          "text": [
            "Query 942: Failed to find relevant doc in top 3 results\n",
            "Query 943: Failed to find relevant doc in top 3 results\n"
          ]
        },
        {
          "output_type": "stream",
          "name": "stderr",
          "text": [
            " 95%|█████████▌| 953/1000 [01:58<00:09,  5.22it/s]"
          ]
        },
        {
          "output_type": "stream",
          "name": "stdout",
          "text": [
            "Query 951: Failed to find relevant doc in top 3 results\n"
          ]
        },
        {
          "output_type": "stream",
          "name": "stderr",
          "text": [
            " 96%|█████████▌| 956/1000 [01:58<00:06,  6.90it/s]"
          ]
        },
        {
          "output_type": "stream",
          "name": "stdout",
          "text": [
            "Query 954: Failed to find relevant doc in top 3 results\n"
          ]
        },
        {
          "output_type": "stream",
          "name": "stderr",
          "text": [
            " 96%|█████████▌| 958/1000 [01:59<00:05,  7.69it/s]"
          ]
        },
        {
          "output_type": "stream",
          "name": "stdout",
          "text": [
            "Query 956: Failed to find relevant doc in top 3 results\n"
          ]
        },
        {
          "output_type": "stream",
          "name": "stderr",
          "text": [
            " 97%|█████████▋| 968/1000 [02:00<00:03,  8.78it/s]"
          ]
        },
        {
          "output_type": "stream",
          "name": "stdout",
          "text": [
            "Query 966: Failed to find relevant doc in top 3 results\n"
          ]
        },
        {
          "output_type": "stream",
          "name": "stderr",
          "text": [
            " 97%|█████████▋| 970/1000 [02:00<00:03,  8.40it/s]"
          ]
        },
        {
          "output_type": "stream",
          "name": "stdout",
          "text": [
            "Query 968: Failed to find relevant doc in top 3 results\n"
          ]
        },
        {
          "output_type": "stream",
          "name": "stderr",
          "text": [
            " 98%|█████████▊| 980/1000 [02:01<00:02,  8.62it/s]"
          ]
        },
        {
          "output_type": "stream",
          "name": "stdout",
          "text": [
            "Query 978: Failed to find relevant doc in top 3 results\n",
            "Query 979: Failed to find relevant doc in top 3 results\n"
          ]
        },
        {
          "output_type": "stream",
          "name": "stderr",
          "text": [
            " 99%|█████████▊| 986/1000 [02:02<00:01,  9.01it/s]"
          ]
        },
        {
          "output_type": "stream",
          "name": "stdout",
          "text": [
            "Query 984: Failed to find relevant doc in top 3 results\n"
          ]
        },
        {
          "output_type": "stream",
          "name": "stderr",
          "text": [
            "100%|██████████| 1000/1000 [02:04<00:00,  8.06it/s]\n"
          ]
        }
      ]
    },
    {
      "cell_type": "code",
      "source": [
        "rerank = rerank_failures = 0\n",
        "index = 0\n",
        "limit = -1\n",
        "for index in tqdm(range(len(sample))):\n",
        "    row = sample[index]\n",
        "    query = row[\"question\"]\n",
        "    context = row[\"context\"]\n",
        "\n",
        "    res_reranked = reranked_retriever(query)\n",
        "    found = False\n",
        "    for i in range(3):\n",
        "        doc_content = res_reranked[i].page_content\n",
        "        if doc_content == context:\n",
        "            rerank += 1/(i+1)\n",
        "            found = True\n",
        "            break\n",
        "    if not found:\n",
        "        print(f\"Query {index}: Failed to find relevant doc in top 3 results\")\n",
        "        rerank_failures += 1\n",
        "\n",
        "    index += 1\n",
        "    if limit != -1 and index == limit:\n",
        "        break\n"
      ],
      "metadata": {
        "colab": {
          "base_uri": "https://localhost:8080/"
        },
        "id": "bxEMQX1Cune6",
        "outputId": "30d01c1e-ec6e-4095-ff21-4738ca32b5eb"
      },
      "execution_count": 18,
      "outputs": [
        {
          "output_type": "stream",
          "name": "stderr",
          "text": [
            "  2%|▏         | 16/1000 [00:10<10:41,  1.53it/s]"
          ]
        },
        {
          "output_type": "stream",
          "name": "stdout",
          "text": [
            "Query 15: Failed to find relevant doc in top 3 results\n"
          ]
        },
        {
          "output_type": "stream",
          "name": "stderr",
          "text": [
            "  6%|▌         | 62/1000 [00:42<10:44,  1.46it/s]"
          ]
        },
        {
          "output_type": "stream",
          "name": "stdout",
          "text": [
            "Query 61: Failed to find relevant doc in top 3 results\n"
          ]
        },
        {
          "output_type": "stream",
          "name": "stderr",
          "text": [
            "  7%|▋         | 70/1000 [00:48<10:10,  1.52it/s]"
          ]
        },
        {
          "output_type": "stream",
          "name": "stdout",
          "text": [
            "Query 69: Failed to find relevant doc in top 3 results\n"
          ]
        },
        {
          "output_type": "stream",
          "name": "stderr",
          "text": [
            " 10%|█         | 101/1000 [01:09<10:05,  1.48it/s]"
          ]
        },
        {
          "output_type": "stream",
          "name": "stdout",
          "text": [
            "Query 100: Failed to find relevant doc in top 3 results\n"
          ]
        },
        {
          "output_type": "stream",
          "name": "stderr",
          "text": [
            " 11%|█         | 111/1000 [01:17<11:34,  1.28it/s]"
          ]
        },
        {
          "output_type": "stream",
          "name": "stdout",
          "text": [
            "Query 110: Failed to find relevant doc in top 3 results\n"
          ]
        },
        {
          "output_type": "stream",
          "name": "stderr",
          "text": [
            " 16%|█▌        | 157/1000 [01:50<10:25,  1.35it/s]"
          ]
        },
        {
          "output_type": "stream",
          "name": "stdout",
          "text": [
            "Query 156: Failed to find relevant doc in top 3 results\n"
          ]
        },
        {
          "output_type": "stream",
          "name": "stderr",
          "text": [
            " 17%|█▋        | 171/1000 [02:00<09:46,  1.41it/s]"
          ]
        },
        {
          "output_type": "stream",
          "name": "stdout",
          "text": [
            "Query 170: Failed to find relevant doc in top 3 results\n"
          ]
        },
        {
          "output_type": "stream",
          "name": "stderr",
          "text": [
            " 19%|█▊        | 186/1000 [02:10<08:16,  1.64it/s]"
          ]
        },
        {
          "output_type": "stream",
          "name": "stdout",
          "text": [
            "Query 185: Failed to find relevant doc in top 3 results\n"
          ]
        },
        {
          "output_type": "stream",
          "name": "stderr",
          "text": [
            " 21%|██        | 208/1000 [02:24<09:10,  1.44it/s]"
          ]
        },
        {
          "output_type": "stream",
          "name": "stdout",
          "text": [
            "Query 207: Failed to find relevant doc in top 3 results\n"
          ]
        },
        {
          "output_type": "stream",
          "name": "stderr",
          "text": [
            " 22%|██▏       | 215/1000 [02:30<11:01,  1.19it/s]"
          ]
        },
        {
          "output_type": "stream",
          "name": "stdout",
          "text": [
            "Query 214: Failed to find relevant doc in top 3 results\n"
          ]
        },
        {
          "output_type": "stream",
          "name": "stderr",
          "text": [
            "\r 22%|██▏       | 216/1000 [02:30<10:11,  1.28it/s]"
          ]
        },
        {
          "output_type": "stream",
          "name": "stdout",
          "text": [
            "Query 215: Failed to find relevant doc in top 3 results\n"
          ]
        },
        {
          "output_type": "stream",
          "name": "stderr",
          "text": [
            " 24%|██▍       | 245/1000 [02:48<06:34,  1.91it/s]"
          ]
        },
        {
          "output_type": "stream",
          "name": "stdout",
          "text": [
            "Query 244: Failed to find relevant doc in top 3 results\n"
          ]
        },
        {
          "output_type": "stream",
          "name": "stderr",
          "text": [
            " 25%|██▍       | 248/1000 [02:50<07:09,  1.75it/s]"
          ]
        },
        {
          "output_type": "stream",
          "name": "stdout",
          "text": [
            "Query 247: Failed to find relevant doc in top 3 results\n"
          ]
        },
        {
          "output_type": "stream",
          "name": "stderr",
          "text": [
            " 26%|██▋       | 263/1000 [02:59<07:02,  1.74it/s]"
          ]
        },
        {
          "output_type": "stream",
          "name": "stdout",
          "text": [
            "Query 262: Failed to find relevant doc in top 3 results\n"
          ]
        },
        {
          "output_type": "stream",
          "name": "stderr",
          "text": [
            " 27%|██▋       | 268/1000 [03:01<06:52,  1.78it/s]"
          ]
        },
        {
          "output_type": "stream",
          "name": "stdout",
          "text": [
            "Query 267: Failed to find relevant doc in top 3 results\n"
          ]
        },
        {
          "output_type": "stream",
          "name": "stderr",
          "text": [
            " 30%|███       | 301/1000 [03:21<06:49,  1.71it/s]"
          ]
        },
        {
          "output_type": "stream",
          "name": "stdout",
          "text": [
            "Query 300: Failed to find relevant doc in top 3 results\n"
          ]
        },
        {
          "output_type": "stream",
          "name": "stderr",
          "text": [
            " 33%|███▎      | 330/1000 [03:38<06:24,  1.74it/s]"
          ]
        },
        {
          "output_type": "stream",
          "name": "stdout",
          "text": [
            "Query 329: Failed to find relevant doc in top 3 results\n"
          ]
        },
        {
          "output_type": "stream",
          "name": "stderr",
          "text": [
            " 36%|███▌      | 360/1000 [03:56<06:56,  1.54it/s]"
          ]
        },
        {
          "output_type": "stream",
          "name": "stdout",
          "text": [
            "Query 359: Failed to find relevant doc in top 3 results\n"
          ]
        },
        {
          "output_type": "stream",
          "name": "stderr",
          "text": [
            " 36%|███▋      | 364/1000 [03:59<06:40,  1.59it/s]"
          ]
        },
        {
          "output_type": "stream",
          "name": "stdout",
          "text": [
            "Query 363: Failed to find relevant doc in top 3 results\n"
          ]
        },
        {
          "output_type": "stream",
          "name": "stderr",
          "text": [
            " 38%|███▊      | 378/1000 [04:07<05:32,  1.87it/s]"
          ]
        },
        {
          "output_type": "stream",
          "name": "stdout",
          "text": [
            "Query 377: Failed to find relevant doc in top 3 results\n"
          ]
        },
        {
          "output_type": "stream",
          "name": "stderr",
          "text": [
            " 38%|███▊      | 382/1000 [04:09<05:27,  1.89it/s]"
          ]
        },
        {
          "output_type": "stream",
          "name": "stdout",
          "text": [
            "Query 381: Failed to find relevant doc in top 3 results\n"
          ]
        },
        {
          "output_type": "stream",
          "name": "stderr",
          "text": [
            " 40%|███▉      | 396/1000 [04:17<06:12,  1.62it/s]"
          ]
        },
        {
          "output_type": "stream",
          "name": "stdout",
          "text": [
            "Query 395: Failed to find relevant doc in top 3 results\n"
          ]
        },
        {
          "output_type": "stream",
          "name": "stderr",
          "text": [
            " 41%|████      | 411/1000 [04:26<05:21,  1.83it/s]"
          ]
        },
        {
          "output_type": "stream",
          "name": "stdout",
          "text": [
            "Query 410: Failed to find relevant doc in top 3 results\n"
          ]
        },
        {
          "output_type": "stream",
          "name": "stderr",
          "text": [
            " 42%|████▏     | 415/1000 [04:28<05:29,  1.78it/s]"
          ]
        },
        {
          "output_type": "stream",
          "name": "stdout",
          "text": [
            "Query 414: Failed to find relevant doc in top 3 results\n"
          ]
        },
        {
          "output_type": "stream",
          "name": "stderr",
          "text": [
            " 48%|████▊     | 481/1000 [05:07<04:58,  1.74it/s]"
          ]
        },
        {
          "output_type": "stream",
          "name": "stdout",
          "text": [
            "Query 480: Failed to find relevant doc in top 3 results\n"
          ]
        },
        {
          "output_type": "stream",
          "name": "stderr",
          "text": [
            " 51%|█████     | 511/1000 [05:26<05:03,  1.61it/s]"
          ]
        },
        {
          "output_type": "stream",
          "name": "stdout",
          "text": [
            "Query 510: Failed to find relevant doc in top 3 results\n"
          ]
        },
        {
          "output_type": "stream",
          "name": "stderr",
          "text": [
            " 56%|█████▌    | 555/1000 [05:52<04:26,  1.67it/s]"
          ]
        },
        {
          "output_type": "stream",
          "name": "stdout",
          "text": [
            "Query 554: Failed to find relevant doc in top 3 results\n"
          ]
        },
        {
          "output_type": "stream",
          "name": "stderr",
          "text": [
            " 59%|█████▉    | 590/1000 [06:13<04:05,  1.67it/s]"
          ]
        },
        {
          "output_type": "stream",
          "name": "stdout",
          "text": [
            "Query 589: Failed to find relevant doc in top 3 results\n"
          ]
        },
        {
          "output_type": "stream",
          "name": "stderr",
          "text": [
            " 59%|█████▉    | 593/1000 [06:15<03:53,  1.74it/s]"
          ]
        },
        {
          "output_type": "stream",
          "name": "stdout",
          "text": [
            "Query 592: Failed to find relevant doc in top 3 results\n"
          ]
        },
        {
          "output_type": "stream",
          "name": "stderr",
          "text": [
            " 60%|██████    | 600/1000 [06:19<04:24,  1.51it/s]"
          ]
        },
        {
          "output_type": "stream",
          "name": "stdout",
          "text": [
            "Query 599: Failed to find relevant doc in top 3 results\n"
          ]
        },
        {
          "output_type": "stream",
          "name": "stderr",
          "text": [
            " 63%|██████▎   | 631/1000 [06:37<03:42,  1.66it/s]"
          ]
        },
        {
          "output_type": "stream",
          "name": "stdout",
          "text": [
            "Query 630: Failed to find relevant doc in top 3 results\n"
          ]
        },
        {
          "output_type": "stream",
          "name": "stderr",
          "text": [
            " 65%|██████▍   | 649/1000 [06:48<03:25,  1.71it/s]"
          ]
        },
        {
          "output_type": "stream",
          "name": "stdout",
          "text": [
            "Query 648: Failed to find relevant doc in top 3 results\n"
          ]
        },
        {
          "output_type": "stream",
          "name": "stderr",
          "text": [
            "\r 65%|██████▌   | 650/1000 [06:48<03:43,  1.57it/s]"
          ]
        },
        {
          "output_type": "stream",
          "name": "stdout",
          "text": [
            "Query 649: Failed to find relevant doc in top 3 results\n"
          ]
        },
        {
          "output_type": "stream",
          "name": "stderr",
          "text": [
            "\r 65%|██████▌   | 651/1000 [06:49<03:39,  1.59it/s]"
          ]
        },
        {
          "output_type": "stream",
          "name": "stdout",
          "text": [
            "Query 650: Failed to find relevant doc in top 3 results\n"
          ]
        },
        {
          "output_type": "stream",
          "name": "stderr",
          "text": [
            " 67%|██████▋   | 672/1000 [07:01<03:27,  1.58it/s]"
          ]
        },
        {
          "output_type": "stream",
          "name": "stdout",
          "text": [
            "Query 671: Failed to find relevant doc in top 3 results\n"
          ]
        },
        {
          "output_type": "stream",
          "name": "stderr",
          "text": [
            " 72%|███████▏  | 718/1000 [07:29<03:05,  1.52it/s]"
          ]
        },
        {
          "output_type": "stream",
          "name": "stdout",
          "text": [
            "Query 717: Failed to find relevant doc in top 3 results\n"
          ]
        },
        {
          "output_type": "stream",
          "name": "stderr",
          "text": [
            "\r 72%|███████▏  | 719/1000 [07:30<03:15,  1.44it/s]"
          ]
        },
        {
          "output_type": "stream",
          "name": "stdout",
          "text": [
            "Query 718: Failed to find relevant doc in top 3 results\n"
          ]
        },
        {
          "output_type": "stream",
          "name": "stderr",
          "text": [
            " 73%|███████▎  | 726/1000 [07:35<03:05,  1.48it/s]"
          ]
        },
        {
          "output_type": "stream",
          "name": "stdout",
          "text": [
            "Query 725: Failed to find relevant doc in top 3 results\n"
          ]
        },
        {
          "output_type": "stream",
          "name": "stderr",
          "text": [
            " 76%|███████▌  | 760/1000 [07:54<02:06,  1.90it/s]"
          ]
        },
        {
          "output_type": "stream",
          "name": "stdout",
          "text": [
            "Query 759: Failed to find relevant doc in top 3 results\n"
          ]
        },
        {
          "output_type": "stream",
          "name": "stderr",
          "text": [
            " 78%|███████▊  | 777/1000 [08:05<02:07,  1.74it/s]"
          ]
        },
        {
          "output_type": "stream",
          "name": "stdout",
          "text": [
            "Query 776: Failed to find relevant doc in top 3 results\n"
          ]
        },
        {
          "output_type": "stream",
          "name": "stderr",
          "text": [
            " 80%|███████▉  | 798/1000 [08:18<02:14,  1.50it/s]"
          ]
        },
        {
          "output_type": "stream",
          "name": "stdout",
          "text": [
            "Query 797: Failed to find relevant doc in top 3 results\n"
          ]
        },
        {
          "output_type": "stream",
          "name": "stderr",
          "text": [
            " 81%|████████  | 810/1000 [08:25<01:57,  1.61it/s]"
          ]
        },
        {
          "output_type": "stream",
          "name": "stdout",
          "text": [
            "Query 809: Failed to find relevant doc in top 3 results\n"
          ]
        },
        {
          "output_type": "stream",
          "name": "stderr",
          "text": [
            " 81%|████████▏ | 814/1000 [08:27<01:43,  1.79it/s]"
          ]
        },
        {
          "output_type": "stream",
          "name": "stdout",
          "text": [
            "Query 813: Failed to find relevant doc in top 3 results\n"
          ]
        },
        {
          "output_type": "stream",
          "name": "stderr",
          "text": [
            " 84%|████████▍ | 841/1000 [08:43<01:43,  1.54it/s]"
          ]
        },
        {
          "output_type": "stream",
          "name": "stdout",
          "text": [
            "Query 840: Failed to find relevant doc in top 3 results\n"
          ]
        },
        {
          "output_type": "stream",
          "name": "stderr",
          "text": [
            " 86%|████████▌ | 858/1000 [08:53<01:32,  1.54it/s]"
          ]
        },
        {
          "output_type": "stream",
          "name": "stdout",
          "text": [
            "Query 857: Failed to find relevant doc in top 3 results\n"
          ]
        },
        {
          "output_type": "stream",
          "name": "stderr",
          "text": [
            " 94%|█████████▍| 944/1000 [09:45<00:34,  1.60it/s]"
          ]
        },
        {
          "output_type": "stream",
          "name": "stdout",
          "text": [
            "Query 943: Failed to find relevant doc in top 3 results\n"
          ]
        },
        {
          "output_type": "stream",
          "name": "stderr",
          "text": [
            "100%|██████████| 1000/1000 [10:17<00:00,  1.62it/s]\n"
          ]
        }
      ]
    },
    {
      "cell_type": "code",
      "source": [
        "print(f\"MRR of the retriever without a reranker: {no_rerank / len(sample):.4f}\")\n",
        "print(f\"MRR of the retriever with a reranker: {rerank / len(sample):.4f}\")\n",
        "\n",
        "print(f\"Percentage of queries with no relevant doc in top 3 (no rerank): {100 * no_rerank_failures / len(sample):.2f}%\")\n",
        "print(f\"Percentage of queries with no relevant doc in top 3 (rerank): {100 * rerank_failures / len(sample):.2f}%\")"
      ],
      "metadata": {
        "id": "gCBwMQCwgEWJ"
      },
      "execution_count": null,
      "outputs": []
    },
    {
      "cell_type": "markdown",
      "source": [
        "## Agentic RAG\n",
        "\n",
        "Feel free to use the workflow from the demo. However, you will need to modify it slightly to use the retriever with a reranker."
      ],
      "metadata": {
        "id": "UVeYhcCAscQP"
      }
    },
    {
      "cell_type": "markdown",
      "source": [
        "## TODO 4: Usage\n",
        "Run your agent twice. Once on a message that doesn't need tool-use like \"hello\" and again for a message that does."
      ],
      "metadata": {
        "id": "9Qm-4Kv9G_Ue"
      }
    },
    {
      "cell_type": "code",
      "source": [
        "from langgraph.graph import MessagesState, StateGraph\n",
        "\n",
        "graph_builder = StateGraph(MessagesState)"
      ],
      "metadata": {
        "id": "9Usr3qknVbNw"
      },
      "execution_count": 21,
      "outputs": []
    },
    {
      "cell_type": "code",
      "source": [
        "from langchain_core.tools import tool\n",
        "\n",
        "\n",
        "@tool(response_format=\"content_and_artifact\")\n",
        "def retrieve(query: str):\n",
        "    \"\"\"Retrieve information related to a query from a vector database containing information on various topics from Wikipedia\"\"\"\n",
        "    retrieved_docs = reranked_retriever(query)\n",
        "    serialized = \"\\n\\n\".join(\n",
        "        (f\"Source: {doc.metadata}\\n\" f\"Content: {doc.page_content}\")\n",
        "        for doc in retrieved_docs\n",
        "    )\n",
        "    return serialized, retrieved_docs"
      ],
      "metadata": {
        "id": "T9B2S7lovMMw"
      },
      "execution_count": 15,
      "outputs": []
    },
    {
      "cell_type": "code",
      "source": [
        "from langchain_core.messages import SystemMessage\n",
        "from langgraph.prebuilt import ToolNode\n",
        "from langsmith import traceable\n",
        "\n",
        "\n",
        "# Step 1: Generate an AIMessage that may include a tool-call to be sent.\n",
        "@traceable\n",
        "def query_or_respond(state: MessagesState):\n",
        "    \"\"\"Generate tool call for retrieval or respond.\"\"\"\n",
        "    llm_with_tools = llm.bind_tools([retrieve])\n",
        "    response = llm_with_tools.invoke(state[\"messages\"])\n",
        "    # MessagesState appends messages to state instead of overwriting\n",
        "    return {\"messages\": [response]}\n",
        "\n",
        "tools = ToolNode([retrieve])\n",
        "\n",
        "# Step 3: Generate a response using the retrieved content.\n",
        "@traceable\n",
        "def generate(state: MessagesState):\n",
        "    \"\"\"Generate answer.\"\"\"\n",
        "    # Get generated ToolMessages\n",
        "    recent_tool_messages = []\n",
        "    for message in reversed(state[\"messages\"]):\n",
        "        if message.type == \"tool\":\n",
        "            recent_tool_messages.append(message)\n",
        "        else:\n",
        "            break\n",
        "    tool_messages = recent_tool_messages[::-1]\n",
        "\n",
        "    # Format into prompt\n",
        "    docs_content = \"\\n\\n\".join(doc.content for doc in tool_messages)\n",
        "    system_message_content = (\n",
        "        \"You are an assistant for question-answering tasks. \"\n",
        "        \"Use the following pieces of retrieved context to answer \"\n",
        "        \"the question. If you don't know the answer, say that you \"\n",
        "        \"don't know. Use three sentences maximum and keep the \"\n",
        "        \"answer concise.\"\n",
        "        \"\\n\\n\"\n",
        "        f\"{docs_content}\"\n",
        "    )\n",
        "    conversation_messages = [\n",
        "        message\n",
        "        for message in state[\"messages\"]\n",
        "        if message.type in (\"human\", \"system\")\n",
        "        or (message.type == \"ai\" and not message.tool_calls)\n",
        "    ]\n",
        "    prompt = [SystemMessage(system_message_content)] + conversation_messages\n",
        "\n",
        "    # Run\n",
        "    response = llm.invoke(prompt)\n",
        "    return {\"messages\": [response]}"
      ],
      "metadata": {
        "id": "e-f9-khVvO3m"
      },
      "execution_count": 16,
      "outputs": []
    },
    {
      "cell_type": "code",
      "source": [
        "from langgraph.graph import END\n",
        "from langgraph.prebuilt import ToolNode, tools_condition\n",
        "\n",
        "graph_builder.add_node(query_or_respond)\n",
        "graph_builder.add_node(tools)\n",
        "graph_builder.add_node(generate)\n",
        "\n",
        "graph_builder.set_entry_point(\"query_or_respond\")\n",
        "graph_builder.add_conditional_edges(\n",
        "    \"query_or_respond\",\n",
        "    tools_condition,\n",
        "    {END: END, \"tools\": \"tools\"},\n",
        ")\n",
        "graph_builder.add_edge(\"tools\", \"generate\")\n",
        "graph_builder.add_edge(\"generate\", END)\n",
        "\n",
        "graph = graph_builder.compile()"
      ],
      "metadata": {
        "id": "t9KUSTzvvb1Y"
      },
      "execution_count": 22,
      "outputs": []
    },
    {
      "cell_type": "code",
      "source": [
        "from IPython.display import Image, display\n",
        "\n",
        "display(Image(graph.get_graph().draw_mermaid_png()))"
      ],
      "metadata": {
        "colab": {
          "base_uri": "https://localhost:8080/",
          "height": 449
        },
        "id": "rIcbQ_C3vrhP",
        "outputId": "34a141de-188d-48d5-ca7a-22f9e63f0b5a"
      },
      "execution_count": 23,
      "outputs": [
        {
          "output_type": "display_data",
          "data": {
            "image/png": "[encoded data removed]",
            "text/plain": [
              "<IPython.core.display.Image object>"
            ]
          },
          "metadata": {}
        }
      ]
    },
    {
      "cell_type": "code",
      "source": [
        "from langgraph.checkpoint.memory import MemorySaver\n",
        "\n",
        "memory = MemorySaver()\n",
        "graph = graph_builder.compile(checkpointer=memory)\n",
        "\n",
        "# Specify an ID for the thread\n",
        "config = {\"configurable\": {\"thread_id\": \"abc123\"}}"
      ],
      "metadata": {
        "id": "L8S1tebGw_iy"
      },
      "execution_count": 24,
      "outputs": []
    },
    {
      "cell_type": "code",
      "source": [
        "input_message = \"hello\"\n",
        "\n",
        "for step in graph.stream(\n",
        "    {\"messages\": [{\"role\": \"user\", \"content\": input_message}]},\n",
        "    stream_mode=\"values\",\n",
        "    config=config,\n",
        "):\n",
        "    step[\"messages\"][-1].pretty_print()\n"
      ],
      "metadata": {
        "colab": {
          "base_uri": "https://localhost:8080/"
        },
        "id": "O4xmYa9DxAbj",
        "outputId": "b2819a63-a9a4-4c09-d9d9-4e801550208c"
      },
      "execution_count": 25,
      "outputs": [
        {
          "output_type": "stream",
          "name": "stdout",
          "text": [
            "================================\u001b[1m Human Message \u001b[0m=================================\n",
            "\n",
            "hello\n",
            "==================================\u001b[1m Ai Message \u001b[0m==================================\n",
            "\n",
            "Hello! How can I help you today?\n"
          ]
        }
      ]
    },
    {
      "cell_type": "code",
      "source": [
        "# Run the agent with a message that needs tool-use\n",
        "input_message_tool = \"What caused free movement of goods in the EU?\"\n",
        "for step in graph.stream(\n",
        "    {\"messages\": [{\"role\": \"user\", \"content\": input_message_tool}]},\n",
        "    stream_mode=\"values\",\n",
        "    config=config,\n",
        "):\n",
        "    step[\"messages\"][-1].pretty_print()"
      ],
      "metadata": {
        "colab": {
          "base_uri": "https://localhost:8080/"
        },
        "id": "8jKCMu3e6X4r",
        "outputId": "c953eebd-22a4-4a90-9397-8f217ac12a23"
      },
      "execution_count": 26,
      "outputs": [
        {
          "output_type": "stream",
          "name": "stdout",
          "text": [
            "================================\u001b[1m Human Message \u001b[0m=================================\n",
            "\n",
            "What caused free movement of goods in the EU?\n",
            "==================================\u001b[1m Ai Message \u001b[0m==================================\n",
            "Tool Calls:\n",
            "  retrieve (5086343a-62b6-4a13-a95f-ca16477c620f)\n",
            " Call ID: 5086343a-62b6-4a13-a95f-ca16477c620f\n",
            "  Args:\n",
            "    query: causes of free movement of goods in the EU\n",
            "=================================\u001b[1m Tool Message \u001b[0m=================================\n",
            "Name: retrieve\n",
            "\n",
            "Source: {'start_index': 0, '_id': '1b655747e17d4a2e8a7970726e3a5dd5', '_collection_name': 'demo_collection'}\n",
            "Content: Free movement of goods within the European Union is achieved by a customs union, and the principle of non-discrimination. The EU manages imports from non-member states, duties between member states are prohibited, and imports circulate freely. In addition under the Treaty on the Functioning of the European Union article 34, ‘Quantitative restrictions on imports and all measures having equivalent effect shall be prohibited between Member States’. In Procureur du Roi v Dassonville the Court of Justice held that this rule meant all \"trading rules\" that are \"enacted by Member States\" which could hinder trade \"directly or indirectly, actually or potentially\" would be caught by article 34. This meant that a Belgian law requiring Scotch whisky imports to have a certificate of origin was unlikely to be lawful. It discriminated against parallel importers like Mr Dassonville, who could not get certificates from authorities in France, where they bought the Scotch. This \"wide test\", to determine what could potentially be an unlawful restriction on trade, applies equally to actions by quasi-government bodies, such as the former \"Buy Irish\" company that had government appointees. It also means states can be responsible for private actors. For instance, in Commission v France French farmer vigilantes were continually sabotaging shipments of Spanish strawberries, and even Belgian tomato imports. France was liable for these hindrances to trade because the authorities ‘manifestly and persistently abstained' from preventing the sabotage. Generally speaking, if a member state has laws or practices that directly discriminate against imports (or exports under TFEU article 35) then it must be justified under article 36. The justifications include public morality, policy or security, \"protection of health and life of humans, animals or plants\", \"national treasures\" of \"artistic, historic or archaeological value\" and \"industrial and commercial property.\" In addition, although not clearly\n",
            "\n",
            "Source: {'start_index': 0, '_id': '16b7fe2a0ecb4a55b24bac94340efb6b', '_collection_name': 'demo_collection'}\n",
            "Content: While the concept of a \"social market economy\" was only introduced into EU law in 2007, free movement and trade were central to European development since the Treaty of Rome 1957. According to the standard theory of comparative advantage, two countries can both benefit from trade even if one of them has a less productive economy in all respects. Like in other regional organisations such as the North American Free Trade Association, or the World Trade Organisation, breaking down barriers to trade, and enhancing free movement of goods, services, labour and capital, is meant to reduce consumer prices. It was originally theorised that a free trade area had a tendency to give way to a customs union, which led to a common market, then monetary union, then union of monetary and fiscal policy, political and eventually a full union characteristic of a federal state. In Europe, however, those stages were considerably mixed, and it remains unclear whether the \"endgame\" should be the same as a state, traditionally understood. In practice free trade, without standards to ensure fair trade, can benefit some people and groups within countries (particularly big business) much more than others, but will burden people who lack bargaining power in an expanding market, particularly workers, consumers, small business, developing industries, and communities. The Treaty on the Functioning of the European Union articles 28 to 37 establish the principle of free movement of goods in the EU, while articles 45 to 66 require free movement of persons, services and capital. These so-called \"four freedoms\" were thought to be inhibited by physical barriers (e.g. customs), technical barriers (e.g. differing laws on safety, consumer or environmental standards) and fiscal barriers (e.g. different Value Added Tax rates). The tension in the law is that the free movement and trade is not supposed to spill over into a licence for unrestricted commercial profit. The Treaties limit free trade, to prioritise\n",
            "\n",
            "Source: {'start_index': 1803, '_id': '14df604fb92940a98e6f0271ceeb6c49', '_collection_name': 'demo_collection'}\n",
            "Content: of health and life of humans, animals or plants\", \"national treasures\" of \"artistic, historic or archaeological value\" and \"industrial and commercial property.\" In addition, although not clearly listed, environmental protection can justify restrictions on trade as an overriding requirement derived from TFEU article 11. More generally, it has been increasingly acknowledged that fundamental human rights should take priority over all trade rules. So, in Schmidberger v Austria the Court of Justice held that Austria did not infringe article 34 by failing to ban a protest that blocked heavy traffic passing over the A13, Brenner Autobahn, en route to Italy. Although many companies, including Mr Schmidberger's German undertaking, were prevented from trading, the Court of Justice reasoned that freedom of association is one of the ‘fundamental pillars of a democratic society’, against which the free movement of goods had to be balanced, and was probably subordinate. If a member state does appeal to the article 36 justification, the measures it takes have to be applied proportionately. This means the rule must be pursue a legitimate aim and (1) be suitable to achieve the aim, (2) be necessary, so that a less restrictive measure could not achieve the same result, and (3) be reasonable in balancing the interests of free trade with interests in article 36.\n",
            "==================================\u001b[1m Ai Message \u001b[0m==================================\n",
            "\n",
            "Free movement of goods within the European Union is achieved by a customs union and the principle of non-discrimination. The Treaty on the Functioning of the European Union articles 28 to 37 establish the principle of free movement of goods in the EU. Breaking down barriers to trade and enhancing free movement of goods is meant to reduce consumer prices.\n"
          ]
        }
      ]
    },
    {
      "cell_type": "markdown",
      "source": [
        "## TODO 5: Monitor your agent in LangSmith.\n",
        "\n",
        "If you have set up correctly, you can just visit the LangSmith website and see that your tracings are logged into your LangSmith project.\n",
        "\n",
        "Capture your screen like this and upload it to MCV."
      ],
      "metadata": {
        "id": "MV5YqQsQUt05"
      }
    },
    {
      "cell_type": "markdown",
      "source": [
        "![image.png](data:image/png;base64,iVBORw0KGgoAAAANSUhEUgAAB3QAAAVkCAYAAAAsTy6YAAAgAElEQVR4Xuy9CXhb1bW/vSzb8hQ7TpyBzA6ZIAMBAgWSMgYIpfBR5lzKdEspoQOBwL+FFkqhUCilQKCUXKAtpYUCpXAplDIUyi1TGELCFKaETGR2EtuxHc/+9jrOEcfKkXQkH8my9O7nMcHSHtZ+15Ysnd9Za+VUVAzqEBoEIAABCEAAAhCAAAQgAAEIQAACEIAABCAAAQhAAAIQgAAEIAABCKQdgRwE3bTzCQZBAAIQgAAEIAABCEAAAhCAAAQgAAEIQAACEIAABCAAAQhAAAIQsAgg6GbYQagYMFC2VG3OsF2xHS8E8L0XSvSBAAQgAAEIQAACEIAABCAAAQhAAAIQgAAEIAABCKQPgZycHAkGC8xPUHLzciUQCEhOTiB9DMQSVwIdHe3S3t4ubW3t0tzcKM1NLaKPJash6CaLbA/Ni6jXQ+DTYFl8nwZOwAQIQAACEIAABCAAAQhAAAIQgAAEIAABCEAAAhCAgAcCgdyAFBUVS35+viUGtrY2G3GwzRIIRaiW6gFhD3fJkVzjw9zcXMkzPlRBvqW5VXbsqLeEXr8bgq7fRHt4PkS9HnZADy6P73sQPktDAAIQgAAEIAABCEAAAhCAAAQgAAEIQAACEIAABDwSCBYUSJ8+pdK4Y4c0NNR7HEW3dCdQUtJHCgoLZXttjbS0tPhqLoKurzh7fjJEvZ73QU9ZgO97ijzrQgACEIAABCAAAQhAAAIQgAAEIAABCEAAAhCAAAS8ESgsKpKiwmLZXlcrrT6Lft4soFcyCWikbokR6xvq66WpqdG3pRB0fUOZHhMh6qWHH3rCCnzfE9RZEwIQgAAEIAABCEAAAhCAAAQgAAEIQAACEIAABCDgjYDWyi0uLpHa2uqkpOX1ZgW9kk1A6yD3LS+Xuro6k4a52ZflEHR9wZg+kyDqpY8vUm0Jvk81cdaDAAQgAAEIQAACEIAABCAAAQhAAAIQgAAEIAABCHgjEAjkGpGvr9RU1xgxt83bIHr1WgJ5eXlSWqb+3mr83f2ayAi6vfYouBuOqJdhDo1jO/g+Dlh0hQAEIAABCEAAAhCAAAQgAAEIQAACEIAABCAAAQikkECf0jJpbW02dXP9S8ObQvNZKgECRcXFkpMTMOmX6xIY3XUIgm63EabXBIh66eWPVFqD71NJm7UgAAEIQAACEIAABCAAAQhAAAIQgAAEIAABCEAAAt4I5ObmSlnfctm2dYu3AfTKCAI5OTnSr39/4/et0tHRvShdBN2MOBJfbgJRL8McGsd28H0csOgKAQhAAAIQgAAEIAABCEAAAhCAAAQgAAEIQAACEEgRgcKiIsk1KZfrfYjUTJHJLOMTAY3Mbm5qkubmpm7NiKDbLXzpNxhRL/18kiqL8H2qSLMOBCAAAQhAAAIQgAAEIAABCEAAAhCAAAQgAAEIQMA7gTJTS7VhR4O0trR4H0TPjCAQLCiQYH5Q6uq2d2s/CLrdwpd+gxH10s8nqbII36eKNOtAAAIQgAAEIAABCEAAAhCAAAQgAAEIQAACEIAABLwTKO/XT2qqa0za3Xbvg+iZEQQ03XZJn1Kpranu1n4QdLuFL/0GI+qln09SZRG+TxVp1oEABCAAAQhAAAIQgAAEIAABCEAAAhCAAAQgAAEIeCfQv2KAqaNaZQRd72PomTkE+vWv6Hb9ZF8F3UAgIKo0t0QIGS8sLJTGxsa088DQoUNl9OhKV7tWrFgp69ati2hzd8YmAwSiXjKo9o458X3v8BNWQgACEIAABCAAAQhAAAIQgAAEIAABCEAAAhCAQHYR4Pp9dvk7fLd++N83QTcnJ0dmzjxC8vPz5Y033pStW7d2sXfUqJGy995TZe3adbJo0TvmLoT0uQ1hxozpMmBAhetp+uKLtZa9kdq0afvK8OHDXJ/evLlKXnvt9ZSeUj8ORUoNZjHfCKTK9wUm33s/kx6isLBA9P+1bdtWLZs3b06r17VvYJkIAhCAAAQgAAEIQAACEIAABCAAAQhAAAIQgAAEINANAqm6ft8NExmaRAJ++N83QVfFnaOOOkoCgRxpa2uT119/Q7Zs2RLa/l57TQlFwa5fv0HeeuvttBF/nIJuc3OLLFmyRPRfbdXV1dZ+IjWNSC4vL7eeDgbzjWi9t/WvtqqqLfLqq68l8QjsOrUfhyKlBrOYbwSS7fuysjIZN26saFS6vs7DW2trq+hr++OPP5GGhobQ08FgUIYNG2rdzNHc3OzbfpkIAhCAAAQgAAEIQAACEIAABCAAAQhAAAIQgAAEINAbCCT7+n1vYJDNNvrhf98EXXXE0KFDZNq0aZbY09raJgsXfinqqvA5Y8ZBVmSftg0bNsqbb76VFqJueIRube12eeWVVyOmjnY7dBqZ/NWvzpCystLQ0wi62fzyTP3e/XhDiGT16NGVMnny5J03bLTL6tWrpaamVnbs2GGd+YEDB0pFRYVJuR6wXjfvvLPEvMY3WNONHTtGJk2aKB9+uFSWLVueejCsCAEIQAACEIAABCAAAQhAAAIQgAAEIAABCEAAAhDoQQLJvH6v2zriiCPkgAMOsK7Va1u5coW8+OJL8sEH7/fgrlnaJuCH/30VdNUwFXX322+aaArmtrZ2E6m7MBSpq6Kuip7l5X2tPWzatNkSfXs6/bIt6L7wwr9l3333tkTneERdp5i7bds2S8yaOfNwInR5raaUgB9vCOEG6+tYU6WPHDnCep0uX/65fPrpZ643O+jrQCPx7RTkn366TD766COZMGG87LHHBCty95NPPk0pExaDAAQgAAEIQAACEIAABCAAAQhAAAIQgAAEIAABCPQ0gWRcv9c9qZA7d+5cqays3GWLGpD12muvybx583p6+1m/vh/+913QVa+ooLPvvvuERF2tqav1NbXl5+fJ9OnTu4i6+nx7e3uPOdQWdJ977l9WSlhbdPYi6jrF3OrqGiuyV1PMHn30kVkj6JaUlEhJSbEl0He3DR48WOrr66Wurq67U/k+Xm9IiJZ+2/cF45zQjzeE8CU1slYjbPWN/623FplaudtiWrXbbrvJPvtMtV4HGpWr3BB0Y2KjAwQgAAEIQAACEIAABCAAAQhAAAIQgAAEIAABCGQogWRcvz/ppJPlhz/8f1JUVBSV2uLFi+Xcc8/NULK9Y1t++D8pgq7ic4q6KtYuXBhZ1NXUxBrJ21Oi7vTpB5kw9AHy3HPPG+GqsYvovH27pl9+zbX2pwpWX/3qdCktLTW1dmusOx1aWlrNi6fQCLpHGRG7yjz2ekpPkx+HIh6DA4GAfO1rsyQvL89Kp6sCXqLNFg+1FuszzzyXVuKp+lr3qmc0XevA+u17FeqPOOJw44dW+b//e9kS2r02rbd78MEzrHNRW1tr0jKXEaHrFR79IAABCEAAAhCAAAQgAAEIQAACEIAABCAAAQhAIKMI+H39fvLkKXLnnb8xwZPlFqePP/5YHn74EXnssb9Zv1900Q/k5JNPCT3/wgsvEKnbgyfKD/8nTdBVLp2i7r4mUlcsIezNN9+WjRs3Wsg0Urez5myZ9XtPirpDhw6VwYMHyeLFS0LuVPtmzJghffuWmVzjq+Tdd9/bxdWainbUqJFWLdFXX9Wau62hPvvss7fZ6yZZt25dSo+IH4ciHoNV5FTRTyN0tdlpduOZQ/vuueeeMn78WGtYfX2Dye3+7x4T+MNtt8Vc+/F0FXX99v3++08zKdSHWpG5iZxjTV2uNzzoGen8g0LK5XhfF/SHAAQgAAEIQAACEIAABCAAAQhAAAIQgAAEIACB3k/A7+v31113nRx//PE7r71/LKeffvoukDQd8y9+8Qsrgre6uloOPfTQLn1UFD7++ONCdXf1yaeeesroMy926afzHHfccdZj+rxma509+3SZMmWKvP/++/LQQw+HavVeccUVpgzjBGvNJUuWyA033NBlLo0U3muvvazHNBW0c+5I69sTaF/9KS7u1KMaGlRLenEXe9UGrSWsmYN1ff195MiRsnr16i72OG3R+bTu8O2335GUw+aH/5Mq6OquFZIKn52ibocRdd9yiLr5luBji7pbt24zwuhraSPkaTplFWbXrFkj69dv2MWJQ4YMkREjhltCcEtLS1KcHO+kfhyKeNfUF6b60X4Rff75CvMi/sDzNFOmTJbddx8degFqRLSm+E2H5hRztYas1pTVlo6irp++1zTJxx57jDQ2Nsrzz7/gyRXKSmvt6li76WtEb4rQhqDrCSOdIAABCEAAAhCAAAQgAAEIQAACEIAABCAAAQhAIMMI+Hn9XtE899yzJlBxN4vSJZdcsouoaeO75ZZbZMyYMdav8+fPD/VTkfOEE05wTdes2WgvvPDCkAdU+NQ1tD300EO7jNu4cYPJWjtL7rvvPqOp7dPFc/ZzTntmzpxp/XrNNde6pozWNcKF4Lvuussq5+rWwvs/8cQTVk3hlStXWmUkbZv0d92zCtnXX3+da91htXfevMtCArVfx9AP/ydd0NXNqqirNTW1uYm6Bx/8VZO2uI/1fLqJun45K1Xz+HEoErG1sLDQSrEbr6gbLua+/PKrloiYDq2gIGgE3M7oUq2dq6K9ivy2YNnR0S5NTc3pYKplg5++HzRokBx00AERo9PdNq1vkFOnTonIA0E3bY4KhkAAAhCAAAQgAAEIQAACEIAABCAAAQhAAAIQgEAKCfh5/V7Nfvfddy3rbZEynq04BVoNrtN0zfrvxIkTXVM0O/trpK82/VfTPTtTPu+xxx6WPdoGDx4cEouffPJJufLKK63HVWC2BV17rqVLl0r//v1Fx9vt1ltvtQRitzGLFi2yHp82bVpofWd/W9C1bdR/9UfFXd2L/bzOoXtfu3attb4t/IaL0PGwjdTXD/+nRNDVDTjFHhV1tWZuVVWVtTdnLVr9XdMva6QuLX4CfhyK+FftHKGirqbRttMvx4rUdYq5mmb5lVfSU8zVmr76YzetC6s/2tJJ1PXT95WVo4w4u5csXfqRfPbZMk9HQl/HmoLcTrHsHKSC+KpVq9Mmkt3ThugEAQhAAAIQgAAEIAABCEAAAhCAAAQgAAEIQAACEPCBgJ/X70866WS5+uqfWlaFR9N6MdUZ3atRsnbd3fC6vHbkr1PQdQrI4f2dwq3TRucYp6AbHg2rUcOzZ8+2tuAco+mlx40bZz3uTC2t6ZdVyNXmrBHsFGwXL15sibh2c+7Faa8+70xj7RYl7IVtpD5++D9lgq5uwq45q///xRdrZdGid0J769Onj8nffXBIKPvXv140tVTru8MnK8f6cSi6A66goMBE6n41JOpGqj+sYqGKhtpUzH355VdMtGtTd5b2bazuwU6tHC7m2ot0FXU70sJ2P30/YcJ4czfMBCt1tgrzNAhAAAIQgAAEIAABCEAAAhCAAAQgAAEIQAACEIAABBIj4Of1e6co6RQyvVjmFEHDxU4d7xRVbcEzPOWyMx2yMxXy1KmdmXrt5hZF7BR0f/e7e3epWesUm8PnC9+fCsoPPPBn62GnAGwLuhp1fOCBB3YZZqeFdntOOy5cuNCKLHZj44VvpD5++D9lgq4d8aeb0Vqkr71GhG53nJ/MQ9Fdu2KJur1dzLX5pJuo68cbgr23MWN2N3nkJ1nRuRqlS4MABCAAAQhAAAIQgAAEIAABCEAAAhCAAAQgAAEIQCAxAn5ev48lykazMJYY7Bb16hzjTG2s6zgF2ngF3W9+88xdatU6BWLnWireHn/8cTJhwgTp16+fEV0LQzWE1Q43QdctHbVT7N24ceMuqOxU0Ymkso7G3Q//p0TQDa+h+/bbb8v69RusvWlN0vAauq+99rpVs5QWPwE/DkX8q+46QkXdGTOmh2ojr169xtzRsMTkIN/b1FQeYQ3Yvr3OSq3dmyJzw3eaTqKun74fOHCgKTB+oGzZstVKhZ1oU/F+6NAhpkD7v3hNJwqRcRCAAAQgAAEIQAACEIAABCAAAQhAAAIQgAAEINCrCfh5/V5B2NGv8dZ7jSXoOue20zknS9B1i8B1CsS2oKtRwyeccEKoJq99ELT+rV13N15BN9ZhykpBV8VcTbWckyOitXPffPMtsVVvFXO/+tXpUlZWZrHbunWbJfC1t7fHYpmS59U+rfOq6aE3bdq0y5qDBg2S4cOHWWlpW1paUmJTrEX8flOItV6058NrI9fV1UufPiXWkO3btxuh8DVpbm7uzhK+jNX0ymprrDTLkRYLF3V1TxqFnurmp++1Du6sWUdZXF544UVR38XbSkpK5Mgjj7BeG88++zyCbrwA6Q8BCEAAAhCAAAQgAAEIQAACEIAABCAAAQhAAAIZQcDP6/cK5OGHHw6Jmc46uOGwnP20Jq5qdvqvNrd0zW6Cb7IEXbtGr9NmOyWyPmY/b6dB1jTJDz74gLz44kuhyF63tM52FG60CN14hfDuHkI//J/UCF0VO/fdd9+dYm67EXPfdoi5eUbMnRESc6uqtsjrry/sETF36NChJjR7kBVBarf8/DwTYTpD+vYtM6Haq8zdDu/t4i+7JnBNTa0Rol81wlVrqI9Gom7cuEnWrVvXXT/HNd6PQxHXgjE6qyA4ffpBFke7KS+Nwk4HMVdtKihQMTdgmRepZm4sJl1F3XYTdZx6odpv3++5554yfvxYWb78c/Pm+GEsBLs8v9deU2T06Er55JPPRO+UoUEAAhCAAAQgAAEIQAACEIAABCAAAQhAAAIQgAAEspGA39fvL7roB3Leed+2UKo4OW/eZbukL3YKsbaA6aw76yZqutW4TZagGy4oq2333nuPFYlr17iNVr83Vg1dN0HXmdLZTVDW9d5+e9EuLLt7Zv3wf9IE3U4xdx8r6lEjbhcufFM2b95s7VnF0unTp0t5eV/r954Uc3V9FRwHDhxg0sI+bw5Jo2XfQQcdZPJwl0tt7XYrathNfFSxUtMKl5WVyrZt1UaQft0SdTV399FHH2X2W2UJl6lsfhwKv+3VSGflpKJup/j9WtpENOteCwsLzH9zEhZzbV5firod0tjY5DfGmPP57XtNm63nWKONX375FeO7mpg22B0qKiqslM0alf/ss89ZbGkQgAAEIAABCEAAAhCAAAQgAAEIQAACEIAABCAAgWwk4Pf1e2VoR6Lq/1dXV5vr+C/LsmXLLLyHHXaYKYG5Twi1sx6tMwp28eLFoiKmNv13zpw5lqCq8x166KGhx+2oXj9r6Kpou2DBAlF7tHbvBRdcEIo6tu066aST5eqrf2rZoYFjp59+uvX/KuZeddWVcadcdtYIVkH7xht/aSJ+X7TmvO6660yd3uOt/3eLXu7OufXD/0kRdJ1ibltbu7zxRmQxd9OmzdbzPZlmWcXGAQMqrDqfKtxq5LCKzSrmav3QaOmUO9NGa6RxqTngNVZ/FXqPPvpIS6hW8TKVzY9DkQx7c3NzZciQ3UzE8voe9bXb3vSmA/vGg+7uXVMVqwDa21Mu2xyGDx9u3ZjR1NQoL730H0/1jvv06SOHHHKw5OXlWlH5GzZ01sumQQACEIAABCAAAQhAAAIQgAAEIAABCEAAAhCAAASykUAytBsVNW+55WaTgXa3qEgfeughueGGG0J9Yo1TofWmm34ljz32N2tMsiJ0VbR1is62gbr+t799fihK9rnnng3tUYVm/Rk8eLClV5SXl1vDvNbQ1b5ak3f27NkhHjqfPY8+GCniuTvn1g//+y7oDh06RPbbb5olkKmYq2mUt2zZYu1TRT1bLNXfVcxduPCNHhG/nOBtQfeFF/5txKu9TWRuP09irj2HU9Tdtm2bvPPOEpk583AE3e6cbsbGTcCPNwS3RUeN6qyDrWmk9U1RUzC73eSgr/kxY3Y3aZrHW1HuixYtNvWnv4h7HwyAAAQgAAEIQAACEIAABCAAAQhAAAIQgAAEIAABCGQSgWRdv1dGKlAec8wxXURJfVwjWh9++JGQMOvkqaLuZZdduougqhrAH/94f5cxyRJ0v/nNM7tE2ap9uv78+fNDUbP6mNp6/fXXSWVlZWgLKsLOn397KHo3HkFXJ9GU1SeffMouzFRkvvnmX2d+ymUVc6dNmyaBgLuYO2OGpjHuZwFPFzFXbbEFXVX9NZTcS2Ru+BuJU9S15yFCN5PebtN/L8n8g6DR1ZMmTZKSkmJzA4bI9u215qdO6urqrIh0Tc+sUe3FxcVWemWtubtq1er0h4aFEIAABCAAAQhAAAIQgAAEIAABCEAAAhCAAAQgAIEkE0jm9XvbdBU+NeBSm6Yx9trslMvJqB0bboOzRu/UqVOtpzUN8siRI2PWrrX7qYZnRw973WOkfvac8TKLd10//O9bhK4KmrNmHW2icANG0GmzIm/tyFzd2KRJE2Xs2DHWHjds2GhSsb7V45G5NnBb0NXfu1Pj1VkrVudC0I33SNO/OwT8eEOItr5G4Oqb6u67V5oU42W7dNWI/BUrVsinn36WVjWSu8OUsRCAAAQgAAEIQAACEIAABCAAAQhAAAIQgAAEIACB7hJI9vX77tqXqvFugm6q1u7Jdfzwv2+Cbl5enhx++GGmbmaeVRN369atXdjsvvtomTJlsknButakJF6cNmKuGjl9+kEycOAAV19+9tkyWbr0o4h+njhxTxk3bqzr85s3V8lrr72e0jPix6FIqcEs5huBVPpeb16oqOgvpaWl0tDQEIrW7cla2L6BZCIIQAACEIAABCAAAQhAAAIQgAAEIAABCEAAAhCAgI8EUnn93kezfZ8KQTdxpL4JumqC1sgNBAIRo/MKCwulsbExcWuTNHLEiOFW5KFbW7Fipaxbty7iykOHDpXRoytdn1+1apUlYKey8aaQStrptRa+Ty9/YA0EIAABCEAAAhCAAAQgAAEIQAACEIAABCAAAQhAQAlw/b7zHCDoJv568FXQTdwMRvpFgDcFv0j2vnnwfe/zGRZDAAIQgAAEIAABCEAAAhCAAAQgAAEIQAACEIBA5hPg+n2nj1NVszbdTpQf/kfQTTevdtMePw5FN01geA8RwPc9BJ5lIQABCEAAAhCAAAQgAAEIQAACEIAABCAAAQhAAAJRCPTrP0C2ba2CURYSyMkRKe9XYfy/pVu7R9DtFr70G4yol34+SZVF+D5VpFkHAhCAAAQgAAEIQAACEIAABCAAAQhAAAIQgAAEIOCdQN/y/rK9tlra29u9D6JnRhAI5AaktLSv1FRv69Z+EHS7hS/9BiPqpZ9PUmURvk8VadaBAAQgAAEIQAACEIAABCAAAQhAAAIQgAAEIAABCHgnUFbWV3bs2CEtLc3eB9EzIwgEg0EpKCwygn5Nt/aDoNstfOk3GFEv/XySKovwfapIsw4EIAABCEAAAhCAAAQgAAEIQAACEIAABCAAAQhAwDuBwsJCyc3Lk/q6Ou+D6JkRBEr69JHW1lZpamzs1n4QdLuFL/0GI+qln09SZRG+TxVp1oEABCAAAQhAAAIQgAAEIAABCEAAAhCAAAQgAAEIeCcQCORK3/JyU0d1qxnU4X0gPXs1gRxTQLdf/wqp3ra12+m2EXR79VHY1XhEvQxzaBzbwfdxwKIrBCAAAQhAAAIQgAAEIAABCEAAAhCAAAQgAAEIQCCFBPqUlkprS6s0Nu5I4aos1ZMEiouLRcX8urrt3TYDQbfbCNNrAkS99PJHKq3B96mkzVoQgAAEIAABCEAAAhCAAAQgAAEIQAACEIAABCAAAe8EAoGAidLtJzXV1SZas837QHr2SgK5eblSVlZuonO3SUdHe7f3gKDbbYTpNQGiXnr5I5XW4PtU0mYtCEAAAhCAAAQgAAEIQAACEIAABCAAAQhAAAIQgEB8BIIFBVJcXGKJun6IfPGtTu9UEegU78tNZG6dtDQ3+7Isgq4vGNNnEkS99PFFqi3B96kmznoQgAAEIAABCEAAAhCAAAQgAAEIQAACEIAABCAAgfgIFBUXSWFBsWzfXiutrS3xDaZ32hPIz8+XPqVl0tBQL02Njb7Zi6DrG8r0mAhRLz380BNW4PueoM6aEIAABCAAAQhAAAIQgAAEIAABCEAAAhCAAAQgAIH4CBSYSN2SPqVWPd0dRvjr6IhvPL3TkUCO8WmJFBQUSp0R65t9isy1d4qgm44+74ZNiHrdgNfLh+L7Xu5AzIcABCAAAQhAAAIQgAAEIAABCEAAAhCAAAQgAIGsIRAI5Jr0y8WSl58nzU3N0mKiddvb2qStTeutovCm+0HIycmRQG5AcgN5lg+DwQJpaWk2An2DqZHc/Zq54ftH0E33ExGnfYh6cQLLoO74PoOcyVYgAAEIQAACEIAABCAAAQhAAAIQgAAEIAABCEAgKwgEAjmWGJhvfnKNQKhCr4qFtPQmoDWQVbhVAb65qdGKyO1IYqg1gm56nwesgwAEIAABCEAAAhCAAAQgAAEIQAACEIAABCAAAQhAAAIQgAAEspgAgm4WO5+tQwACEIAABCAAAQhAAAIQgAAEIAABCEAAAhCAAAQgAAEIQAAC6U0AQTe9/YN1EIAABCAAAQhAAAIQgAAEIAABCEAAAhCAAAQgAAEIQAACEIBAFhNA0M1i57N1CEAAAhCAAAQgAAEIQAACEIAABCAAAQhAAAIQgAAEIAABCEAgvQkg6Ka3f7AOAhCAAAQgAAEIQAACEIAABCAAAQhAAAIQgAAEIAABCEAAAhDIYgIIulnsfLYOAQhAAAIQgAAEIAABCEAAAhCAAAQgAAEIQAACEIAABCAAAQikNwEE3fT2D9ZBAAIQgAAEIAABCEAAAhCAAAQgAAEIQAACEIAABCAAAQhAAAJZTABBN4udz9YhAAEIQAACEIAABCAAAQhAAAIQgAAEIAABCEAAAhCAAAQgAIH0JoCgm97+wToIQAACEIAABCAAAQhAAAIQgAAEIAABCEAAAhCAAAQgAAEIQCCLCSDoZrHz2ToEIAABCEAAAhCAAAQgAAEIQAACEIAABCAAAQhAAAIQgAAEIJDeBBB009s/WB5xFMkAACAASURBVAcBCEAAAhCAAAQgAAEIQAACEIAABCAAAQhAAAIQgAAEIAABCGQxAQTdLHY+W4cABCAAAQhAAAIQgAAEIAABCEAAAhCAAAQgAAEIQAACEIAABNKbAIJuevsH6yAAAQhAAAIQgAAEIAABCEAAAhCAAAQgAAEIQAACEIAABCAAgSwmgKCbxc5n6xCAAAQgAAEIQAACEIAABCAAAQhAAAIQgAAEIAABCEAAAhCAQHoTQNBNb/9gHQQgAAEIQAACEIAABCAAAQhAAAIQgAAEIAABCEAAAhCAAAQgkMUEEHSz2PlsHQIQgAAEIAABCEAAAhCAAAQgAAEIQAACEIAABCAAAQhAAAIQSG8CCLrp7R+sgwAEIAABCEAAAhCAAAQgAAEIQAACEIAABCAAAQhAAAIQgAAEspgAgm4WO5+tQwACEIAABCAAAQhAAAIQgAAEIAABCEAAAhCAAAQgAAEIQAAC6U0gZ/yESR3pbSLWQQACEICA3wRaW5olLz/o97TMBwEIQAACEIAABCAAAQikKQG+A6SpYzALAhCAAAQgAAEIQAACHggQoesBEl0gAAEIQAACEEh/AhUDBlhGbqmqSn9jsRACEIAABCAAAQhAAAIQgAAEIAABCEAAAhCAgEcCCLoeQdENAhCAAAQgAIH0JoCgm97+wToIQAACEIAABCAAAQhAAAIQgAAEIAABCEAgMQIIuolxYxQEIAABCEAAAmlGAEE3zRyCORCAAAQgAAEIQAACEIAABCAAAQhAAAIQgIAvBBB0fcHIJBCAAAQgAAEI9DQBBN2e9gDrQwACEIAABCAAAQhAAAIQgAAEIAABCEAAAskggKCbDKrMCQEIQAACEIBAygkg6KYcOQtCAAIQgAAEIAABCEAAAhCAAAQgAAEIQAACKSCAoJsCyCwBAQhAAAIQgEDyCSDoJp8xK0AAAhCAAAQgAAEIQAACEIAABCAAAQhAAAKpJ4Cgm3rmrAgBCEAAAhCAQBIIIOgmASpTQgACEIAABCAAAQhAAAIQgAAEIAABCEAAAj1OAEG3x12AARCAAAQgAAEI+EEAQdcPiswBAQhAAAIQgAAEIAABCEAAAhCAAAQgAAEIpBsBBN108wj2QAACEIAABCCQEAEE3YSwMQgCEIAABCAAAQhAAAIQgAAEIAABCEAAAhBIcwIIumnuIMyDAAQgAAEIQMAbAQRdb5zoBQEIQAACEIAABCAAAQhAAAIQgAAEIAABCPQuAgi6vctfWAsBCEAAAhCAQAQCCLocDQhAAAIQgAAEIAABCEAAAhCAAAQgAAEIQCATCSDoZqJX2RMEIAABCEAgCwkg6Gah09kyBCAAAQhAAAIQgAAEIAABCEAAAhCAAASygACCbhY4mS1CAAIQgAAEsoEAgm42eJk9QgACEIAABCAAAQhAAAIQgAAEIAABCEAg+wgg6Gafz9kxBCAAAQhAICMJIOhmpFvZFAQgAAEIQAACEIAABCAAAQhAAAIQgAAEsp4Agm7WHwEAQAACEIAABDKDAIJuZviRXUAAAhCAAAQgAAEIQAACEIAABCAAAQhAAAJdCSDociIgAAEIQAACEMgIAgi6GeFGNgEBCEAAAhCAAAQgAAEIQAACEIAABCAAAQiEEUDQ5UhAAAIQgAAEIJARBBB0M8KNbAICEIAABCAAAQhAAAIQgAAEIAABCEAAAhBA0OUMQAACEIAABCCQiQQQdDPRq+wJAhCAAAQgAAEIQAACEIAABCAAAQhAAAIQIEKXMwABCEAAAhCAQEYQQNDNCDeyCQhAAAIQgAAEIAABCEAAAhCAAAQgAAEIQCCMAIIuRwICEIAABCAAgYwggKCbEW5kExCAAAQgAAEIQAACEIAABCAAAQhAAAIQgACCLmcAAhCAAAQgAIFMJICgm4leZU8QgAAEIAABCEAAAhCAAAQgAAEIQAACEIAAEbqcAQhAAAIQgAAEMoIAgm5GuJFNQAACEIAABCAAAQhAAAIQgAAEIAABCEAAAmEEEHQ5EhCAAAQgAAEIZAQBBN2McCObgAAEIAABCEAAAhCAAAQgAAEIQAACEIAABBB0OQMQgAAEIAABCGQiAQTdTPQqe4IABCAAAQhAAAIQgAAEIAABCEAAAhCAAASI0OUMQAACEIAABCCQEQRSLeh25AUl56BvSM5hZ4gMGJGeDKvWSMeLf5aON/4uOa3N6WkjVkEgwwjk5OdJbv9yCVZUSF55ueT26ye5xUXpscvWVmmtrpGWrVulZctWaTU/7Tsa08M2rIAABCAAAQhEIZCTG5BAaakE+pRIoMB8Ds/Lk5xAAGYQSBsCHe3t0mE+a3U0t0j79u3Sur1epK3NV/tycnIkGCwwP0HJzcuVgHkN5OTwOvAVsmOyjo52aTd+bWtrl+bmRmluahF9zM+GT/2kmT5zZerZYV89f8YQdHveB1gAAQhAAAIQgIAPBFIq6JYPFvnunZIzeLQPlid/io4Nn4vc9X2R6o3JX4wVIJCNBMzFNb3IXDRujBQOGypiLrC119dLW32DtDXssP41V396noy56KfisvVTUiI55oJ4a812afxsmTSvW9/z9mEBBCAAAQhAIIyA3iiVN6DC+tulAln7jh1GMGuWjpZWMUoLvCCQPgRUXDXnNceIrQH9rGVuPmirN58Dq7ZYQm93WsDc0FBUVCz5+fmWqNhqbtZtM2KxCo3mQ2Z3pmZsVAI5kmvY5+bmSp5hr0J6S3Or7Nhh3ou6+f6DTzP96GXq2WFfPX1yEXR72gOsDwEIQAACEICALwRSKujOu19yRk3yxe5UTdKxfLHI7d9O1XKsA4HsIBAwX2j795fisbtL/uBB0maiMVq21Rgx1wi4vaTllhRLXt9SK7pjx7Ll0rx2vWiECQ0CEIAABCDQ0wRyy0olOHQ3k1miWlo2V0lOOtwc1dNQWL/3EDA3/OUPGiC55X2tz1ftdSZiN4EWLCiQPn1KpdHczNDQkNgcCSzLkAgESkr6SEFhoWyvNVlvWloS4oRPE8LW6wdl6tlhX6k9mgi6qeXNahCAAAQgAAEIJIlAygTd6SdKzulXJmkXyZ2244Gfibz5ZHIXYXYIZAMBI+TmGSG3aMI4yR84QFq3bpNmc6FZrCiJ3tlyNPJgQH/JKyyQhk8+k+Yv1iHs9k5XYjUEIACBjCCQ19+ULKjoLy1r10m7yXZBg0BvJaCRuvl6Y8KmKmkzpS/iaYVFRVJUWCzb62qlNUHxMJ716OuNgEbqlhiRvcFk5Glqiq98CT71xjhTe2Xq2WFfqTuxCLqpY81KEIAABCAAAQgkkUDKBN1L7pOcyilJ3Enypu5Y+b7IrecmbwFmhkAWEMgJ5kuhSa1cPG6stDc1S+PqL0zax8Tuzk9HXJomsHD4UGmr2y51i961UlvSIAABCEAAAqkkEDCRuXrDVNOqNWJyy6ZyadaCQHIImHS9hZUjpGX9RvMZy1uUrdbKLS4ukdra6m6n903OprJ7Vq1f3Le8XOrq6kwa5mZPMPCpJ0wZ3ylTzw77Ss3RRdBNDWdWgQAEIAABCEAgyQRSJuje+JLkFJUmeTfJmb5jx3aRyw9LzuTMCoEsIBAwdWeLJk6QwhHDpdlckGvZsjVjdx009Qq1/lvdO0usCGQaBCAAAQhAICUEdgpfTSvXZNQNUylhxyJpTSBgsqAERwyTps9XSkeMrC6BQK4RC/tKjYnobW9vS+t9ZbNxeXl5Ulqmftpq/BS9ljE+zeaTsuveM/XssK/kn3ME3eQzZgUIQAACEIAABFJAIFWCbs78RSnYTfKW6Jg7LXmTMzMEMpiA1j8rnjJJgib9447PV0h7o7c78XszkkBxoeQPGCANH35kIko29OatYDsEIAABCPQSAsFhQ6zsEK2mbi4NAplGIM/U1JWcgLRu3BR1a31Ky0xwuskEsyO+dL6Zxqs37KeouFhyjE8b6uvwaW9wWBrZmKlnJ9v3lewjhqCbbMLMDwEIQAACEIBASghkoqC7T0VQvjGqSA4cVCAT+uZLi7nr97PaVnl1Q6M8tmqHfFQdf5pXBN2UHEcWyTACtpib369cdixfYSKGsif9Y6AgKMFBg6ReRd0NiLoZdrTZDgQgAIG0IqBlDYKjRkrTss9FOqJHu6WV4RgDAa8EcnOlcEylNOnnyQhRurmmT1nfctm2dYvXWenXgwRycnKkX//+xl9bzduW+/sWPu1BB6Xx0pl6drJ5X6k4bgi6qaDMGhCAAAQgAAEIJJ1AJgm6laV5Mv+AfjJ9cEFUbk+u3iE/fGubVDW2e+aLoOsZFR0hYBHQNMvFUyZKcOBAI+Z+Lh2t2Zf2LieYJwWmlmHdux+QfpnXBQQgAAEIJI1ArsmCEcjLlZaNm5O2BhNDoKcJBIcPldba7dJuftxaYVGR5JqUy/UxIj57eh+s/yUBjahubmqS5uYmfMrBiItApp6dbN1XXM5PsDOCboLgGAYBCEAAAhCAQHoRyBRBd7yJxH185gAZVJTrCfDqulY58YUq0X+9NARdL5ToA4FOAhopVLjnHlI8epQ0fLosK8Vc+yzkmJqGwYH9Zfsbi6xUmDQIQAACEICA3wSCI4dLa9UWaW/g74zfbJkvfQjk9i0zNwwWS8s698wnZaYma8OOBmltiT8bU/rsMrssCRaY+sj5Qamrcxfp8Wl2nYd4dpupZydb9xWP7xPti6CbKDnGQQACEIAABCCQVgQyQdDdq39QHj9ygJTlB0Jsf/dpndy5tE7W1HcKtmPL8mTupFKZvXtJqM/K7a0y69lNsrUpdqRuooLurFlHy+jRlaE1V6xYKc8++1xanYHeasycOd+RffbZt4v5y5cvl3fffTdrGafFeQsEpMAIuX1M3dzGteulraa2tx4x3+zWlNMmB6YRdd/2bU4mggAEIAABCNgECjQV7aovxBQPBQoEMpZAjilnkT9kN2leudp1j+X9+klNdY1J3xv7u13GQuplG9OUyiV9SqW2xr32Nz7tZQ5NobmZenaydV+pODoIuqmgzBoQgAAEIAABCCSdQG8XdPc19XIfNZG5pTvF3PUNbXLai1XycY37ndn7DyyQvxxWIX2DneLvg8vrZe7CbTE5Jyro/s//LJBjjpkVmv+ZZ56VCy6YE3M9OrgTUMHy/PPPl8mTJ0mRSasWqa1fv16ef/55ueqqq7MKZTqct7yKCimZOlly8vKkMcIFt6xyys7NFgwdIo2ffy5Nq80FdxoEIAABCEDARwJFE8bKDpMRw9w7lJSm0+aayMhAaR8JFBZaf+NzcgNWLdMOIyK3NzZKm6bCNRHCOUmxgEkhYI63qblaNG53afx0uSuO/hUDTD3WKspI97LD0q9/RcS6x/i0lzkzxeZm6tnJxn2l4ugg6KaCMmtAAAIQgAAEIJB0Ar1Z0B1ekiuvHrebFOd1XjrSaNzjntss64yoG60dNaxQHjxsQKjLpMfWy6Yd0ccg6Cb9KMZc4JZbfi0nn3xSzH7ODirszp9/u/zlLw/FNa63du5pQVcv8BZOnCDFY8dIw8efZnWq5fAzFDBRJUFT47Dm1YXSQSrA3voSw24IQAACaUmgaM/xsuOjT5NiW6CsVIKDBoiWEIjV2pubrTq+7XX1sbryPAQSIhDtrFcMGChbqqgjnRDYHhwUzW/4tAcd0wuWztSzk437SsVxQ9BNBWXWgAAEIAABCEAg6QR6s6B73Igi+cMhFRajFSZ98vHPb5aNMYRZG+gDJkr36GGdEZ5XvVMjCz5yr9tj90fQTfpRjLrAo4/+Vfbff7+EjNhh6pZec821WSHq9rSgmzegQvrsvZe0mQidFlPLLxlt6p57yvT9psmUPSbIxs1V8u5HH8nzL78i9Q0NyVjO1znz+pZKi7G5ichlX7kyGQQgAIFsJ5AUQdeUUAgOH2Iic78sV9LR3m7qwTdaNya1t7RKIN9E6gaDJmq3QHJMf7u1bq+TZlN2IacjSSHD2e7wLN4/gm7mOT9TxavM81T67agnzk55ebnJwHaMPPPMM1Jd7Z4qvLukemJf3bXZy/ievkEDQdeLl+gDAQhAAAIQyHACgwYNlDPOOMPsMp7kYh3y5z8/IFVVVWlBpzcLugrw+xNLRSN1b3qv1lMtXBv6140YfN9OMfjFdY1y+r+j+wNBt+eO65/+dL8ccsjBuxjw1ltvy5tvvilr1qyRjz76WA488CsyfvwEmT79IBkyZEiX/tki6vaooGsu5BaOHysle4yXeo0S8vkibr++feWqi74vX595xC5nYZN5P738lzfJq28t6rmD6mVlk54yOKC/1L78upfe9IEABCAAAQh4IuC3oKsibXDkMCPYdkbltje3mMjbTdJeb26ecvv7blLhBvqUSL6J5A2Ysdrampqlec1aEbJSePIhnbwRQND1xqk39cpU8ao3+aC32prqszNw4AD53e9+L6NGjZJVq1bJeed9Szabm3X9bqneVyT7x5qsWz/4wVwZO3acfPbZZ3L77fPl88/dU957YYCg64USfSAAAQhAAAIQSBqBvffe23yYu0cGDPgyda/XxapMKqhvfet8effdd70OSVq/3i7oJgpmTGmeLPz/drOGL69tlQOf3BB1KgTdREl3b9ycOd+RK664osskmkb56qt/Js8++1zEyd3SMy9f/rkcccTM7hmU5qN7UtDNNYJrsamdq61lwyZfSQ00dXkfNF8gRw4bIus2bLTE2/eMiD+of38559ST5ZsnfsNa74LLfywvLXwj7rW/Pft0a8xb775nRfyedtyxUtan1HWeex96OO75nQPy+5ebWrorpWUTKQG7BZLBEIAABCAQIuCroGvKJxSMHikB86/1N31rtSXmerl9VWucBncbJHnlfa2xmoK5acVq8z/tCXsrp7gzo45b62hscp9bI4d3itEdJmsILcUEnPwj+ShBk1Il6B5xxBEycuRIz1bWmhrSjz32N6v/ueeea/27evVqefHFFz3Pkc4d7T059+mXvT0lXk2ePEX2M1l/7NYdfyXC56STTpYyk9Je23333ecXzqyaJ5Vnp8J8H/3DH/5gibl2U1H3v//7v2XLFn8zU6VyX5EOzKRJk+VXv7pZCgsLQ13q6+vNfs82wSmJ7bfXCrr/9V+zpW/fMk8vroUL35QlS5aIXjDWiAO3tmDB3Z7mcq7rdcysWUfL6NGV5s2lr9TW1ohtT/iC0eyz+9bU1GZFmjtPzqATBCAAAQj0egIamfviiy+YG85b5Lrrrpe1a9dF3NNll11qpYq94II5JiVLjQwfPkyuuupKCZhoNhWXknFHXzyAs1XQHWmiehd9ozOKc1Vdm+z3xPqo2BB04zlV/vVdsuQd6devX2hCFXPnzPmu9Rk5Vvv5z6+Rs88+u0u3+++/37z+ro41tNc+35OCbnDUSCndd6rsWL5C2vXinU8tNzdX/v77e2Ss+fL88bLlcu5lP5RtYemt5n7rXPnu2WfJRhOp+/VzviXbzZfNeNonL71gdf+V+W6lgu0zf7pPRo8YEXGKjz5bJg8+8YQ88tTT8Sxj9c0tKTYXxTukbvF7cY9lAAQgAAEIQMCNgF+CriZILhg9SnJNCmVtzaYebtvWbXFDzzUlGIIDO8uitJnSFyrq5hixN5Gme4vWdH5N7ywmBbTd8kwUVb7JiKEtWbWFE9lLtoxx8m9ctUb8FNVTJejecsstMnOm9xtBV65cKSeccILlYvum7RdeeEHmzZuXEW639+Tcp18b6ynx6rrrrpPjjz8+tI3FixeHxPh495YInyfMd4nKykprqalTp0ZdEvHXHU+qzo6KuX/84/0yYsTwXQxZs+YLOeecs30VdVO1r0iHTs/jL35xoxQVFcnddy+Qhx56SC43N04fffTRod/jfY1o/14r6OrF3zFjdve05xtuuEFUfHWLTHBO8OGHS2X+/PlRoxQ+/nip5QRtl19+RVRxVQXaK6/8iWudMk1tpxeunRfRYtmna2ZDRIQnp9IJAhCAAAQygsDpp58mN930S/npT39mPtj9Meqe7rnnbvPB5yjzd/UrsmlnRNa3vvUtE2F4lfmCd6n87W+P9SiT3iToFuTmyPi++TKuLE8qTYRtU1uHrDK1c1/b1BRXumUFfvjQQnnk8M7o6rc2N8mxz0WPlks3QVdvvJs1a5Z141+xiVzQFMPbtm2Treai29q1a+Xpp5+O+nlPP5PaTfufdVan8KnznnnmmTJs2DAZOrRT8F63br312e/++//kSUjVMfr58Mgjj5L+JoJSP/uqbTrPokVvhwRVveHw/PPPD9nx6quvdBFbwwVZTZs8d+7FUT/zhr+Ynn76HzJp0sTQw/q5+dhjvx76XdeYMeOrod/vuecei5vNYdy4sRbbSCmbdQ/HHnusxat//36W+Kyic4OJBlFmzz77bER7o+3f5qc3gOj6Oqf61snP7Y0jmqCre502bT/LTnvOL75YK//61/PWd45uNSO6Fk+eJEWjRkj9xybdso9tgDlDT//x91ZE7kVXXyMN5hy4tT/e8ms5cN+95Uc33CT/a7jH0yIJutW1tbKtpiY0laZ9Li/78ubcBx7/X7l2/h3xLCXmbh4pNDUJa178j2gtQhoEIAABCECguwT8EnRz+/U1EbaDLXM0MrfVROYm2qz6u6Wd0WdNX6yTdlNXN5EWS9DVOdvb2o1ovDIk6iLoJkLavzEIup1ZuBB0vZ2pnhKvnnvuWRk8uDNjlzb9vnfggQd6MzqsV7IF3XjE34Q20EsHpeLsOMVcFW9fe+010euBDz/8iCn1NN0Sef0WdVOxr0gu33vvfeT6639h6Yi/+c0docwD3/nOHJk9e7Y88MCfTabCexM6Mb1W0NUaYHrBx272BTj9XUVPZ3vkkYd3EXTD+9jisL7pzJ59hutFth/+8P/J9773XetCml5k+s9/Xg5dtAunrxev5s+/LST+6np6kU9tttcKj4xwCrrh9tnzOy8UJuRxBkEAAhCAAATSiMBFF/1ALr10nnz72+fL88//K6plboLuMcfMEhVebrrpJrnzzrt6dGe9QdAdawTcSyaXymmjSyKyeujzevnFu7WyvqHNE8+7Z/SXEyuLrb53LN0u1y7+UrRxmyBdBF0VcPXsudWUDbdbP5fpTQNu0ayrVq0IdbdvvFPB79RTTw19Dgyfz0sdWrVP0x1Hu4HRtksz0DjTKT/zzLNWJLvdwsXY8Oe9OFpF0xtvvKFL11GjRod+DxdA9YZKzSxz9dU/3YWDfbOlDtbPzD/60Y883agZ6bN3+E2R9v7CbQrfp36m/6VJOazCc3hzE3TvumtBTJ/oTZunnHKqF6SufQJ9+ljplrXWXvO66OnLE1mkwnyH2WL2Ha19Ze+p8qfbbpH7zU0y199xZ1zLRBJ0n3v5ZfnBVT/rMpemY/6eiQbebdAg6/Grbv513JG6+RX9pOGjT6TNZG2gQQACEIAABLpLwA9BV6NzC8fubv6W50mbybTRtGKVa5rlvCGDO4Xedh0RpQVypGD30dZ87Y2NnamXE2i2oGtF4q5c8+UMZl4Vn3NN7V5trebzW8vOzyAIugmA9nFIJgi6bji8impE6MZ3mHpCvNKU2rfeeqtlqEbm7rPPPtb/q1B1++1x3qxpxiHoxudzv3on++yojqY3tY8cOcKkUF9jyqadKyeffKpceOEc0e/Yf/vbX+X3v78v9PxZZ51psvJVd3t7yd5XJANVzP3FL26w0iw7xVxb5C0oKDA37p8vy0zWrERarxV0wzfrvJDjvLjk7Betj15M+uUvb7SE2kgXueyLYRoBdPLJJ1l3nOyxx5eRCs61Fi58LXTHfnhtMl3rmmt+Zj3vvOjjZQ+JOJkxEIAABCAAgXQlcMklF8vFF881H+jOM3feRq+L4yboHnnkTOvLwq9/fUtCXxj85JLugu5e/YPy2MwB0jcYiLntupYOmffmNnl8ZUPUvgcNKpC/HzUw1Odrz26St6uao45JB0FXxdIFC35rfRbz2iKlKA4XdPVGwvBatW5rRBN147FPI2X//vcnogq6ThvVlu9854K4onO9MAoXQO+887fmdf3frqK2LeiqSOwm+EZbz00wdRN0N23auEua6EjzOgVmu4+boDtu3DhPwnN3RN08k1qxzz5TpWVbtbSZGmLJbCru3n3j9VJvvtOcffGloaUGm3rm/3n0YXn6xX/LJddeF5cJ8Qi6OvHUPfeU26/5qSXqrlizRo4569y41ss1UfWtRqBuMmkIaRCAAAQgAIHuEvBD0A0YYbRgRGcASrQ0ubpWe3OLNJssHx1N0T8/55qSc8GhnRFwjUYgtmrextkiCro75ynYKULrr3Z65ViCbqC0jwQcdQFVcO4SQWzE4rzycmuFNlPGwS1lcK6pE2zX6W3dsvXLWr4mE0euqYtpP2eP79J/c1Wn9Y51WneKANa6uQGx5nSkkc4xabDtiGcd2mFK/7jdGKY1h3NLdorc9jo28wj7sm2z53TOYcKfzWcWcwNahKwiTpb2eATdrhG6+h1r4MDO756bN28W/Qwf3jTFs7b33ntP3n57kQnaOl00MvCNN97oUl9Va7XutddeoeErV66Iej1BhUv9KS7uvJG5oaHBqusbqbZveP+nnnrK6puIYOn1pd4T4pUz3fIll1wSEnc//vhjE315ekTTE+GjtXqPP/640BlQH2vNXC83COh6xx13nMmyNE3Kd74naeS3Nts3trHh67j18eoTZz89v8OGDTc3lV8qTU2NnqdQUfBmc+Pr2rVfuJ55zxNF6Zjss3PWWWfJZZddJs5auXPmXBgSdBcsuMt6ndq1dW+88ZfmpusHu721ZO/LzcB99tnXiswNF3M1w5dm61Ux9447bpfHH088wyCCroO8feHGLa2xXlh74onHrd4nnHBi6CKgXqy66aZfdfGfHckbLZ2dM8rBvqiGoNvt1ykTQAACEIBALyNw8cUXyyWXzJXzzvu2SVf6Zepat22ocKsCarMrzgAAIABJREFU7le+coBs3Jm2zBZ0b711vtx22209uvt0FnQn9cuX/z1yoJQ7xNxXNjZZKZJbTabS4aYO7iFDCmVYcW4Xhqe+WCUvrXf/sjGyT548ffRAGVzUOebf6xrltH/vvKgSxRPpIOi6le5QEe6jj5ZaGVW0afpgrdlsl9rQx9yEunBB104XrNGf77//gfVlX7/4T5kyuUsNW50vUikNN/tUUH733S9rhTrFRZ3HGcnrvDkxXOzUeQ48cLrvr5VwAVTXsQVzO4W1vaimY/7IpP196KEHu/DVz87K+P3335fa2hopK+trXu9f2aV8SXj93vA9Kg9Nc62+c/pB1x9h6rk6U0frY24ZesL3Y2fo0f4qoq8x4mOk+fRxN5HYC/TgsKFSYurnNq5cHfPirpf5IvUZaL4wP3D7bTLKrPfhp5/KSd+5MNT1a4cfJreZVPa33ft7uevPD8S1TLyCrk5+yfnnyZxvnmGt870rfyr/euVVz2sGtDZhS7OJ0vU3PbVnA+gIAQhAAAIZRcAPQTdvyG6SX14mHW1tsuOTZRFr3toCq5YNaNlUJW3mZq6IzdTNLZww1pqrefMWaavaEjf3WIJusHKE5O4sMWeLxpEEXRVFg6achUYNh7f2JhOVrBHAO4XLgvFjJWCEVevxz1ft0j/0vBFdm5Z1ZlyMNL/e8KZ/+207beFZhdNCU65CW4spzZNrPufomtpCoroRiIMjh4XGOg1pN2tbwrpDKI8mZndZr2qrtO4UfG2GGgXdVl0rQROF3WUdk9K62USndRHkI9ilvNq214dqGPfWGrpuB9WLAKfjnBG6Wn7Gjv6059y4cYPJonSZfPDB+6Fl7DGazlW/H9mpgO20zSrWXX/9daGaq0773ObT5++66y4rJaxb05qY4cKyCndaB9j5PVLH6vUMve6hLVNq6NrpljWa8tBDDzXpcx82wW97WHv85jfP7OIbm18ifLT27dy5F4XEWHsu9fPQoUNj1tBVAV8FZ7emEcYqDGuLZJs+p2tdeOGX35lcJ4vy4IwZM4yQd4e50eBt+f73vy/NzdFv5NGpCgoKTSa631hn/6KLLpJXX/X+PSke+5ItfKqIrgL/3/72qFTt/PsVLuiqvQPMzc0nn3yKuU7wsMn21fsidFU/vPHGmyQYDFplXW0tUVOQX3PNzyXfZOFyPh6Pj5x9EXQdNKIJunbtMfvCm6Z81hR9bhf2Hn30r9aFp1h35+t62h577DErSgJBN9FjzDgIQAACEOitBBB04/dczvxFcQ2abMTcxx1i7pr6Vjn9xS3yWW3LLvOcOrpYfrl/uZTmd14A2bCjTaY8tn6XfirmPmkic4fuFIC3NrXLzH9ulC/qY6dp7mlBN1z8ixYp65ZmWG/sc6ZeDo9+VViRPgPanxGdQMOjZcPr3WpfzQ6jKZ/Dm1tf7eMUdMP7xPp8Gtfhcvkc7RyvbP/61792qedrP+8mAM+Z813XtNaaelqz49gtXJQO96ndL9Jetb++90QT693SNUer/xseaZwo54LRlVK63z5S9+4HibrCGldibiIoN1Etazds3GUep5i7au06+eZFF8vmLZ0XhjU692//81vRPhdc/mN5aeEbcdmRiKCrC9jjFjzwoNx6z+88r5kTzJe8gqBsX7TE8xg6QgACEIAABCIR8EPQLdh9lARMBE6rybTRsnbXz9H22uE1bVtNbVwtt5ATIYIzaARLKzNFXb20rOm8ATGeFo+gq0K0CrKuoqYRIK1o3p2CqaZo7jCCaI5GrZpIYm3OtM75JrLYfnyHCraOaFmNSi0YPtQao0Js65bOshDOaGEVW9vq6qy9K1et82uv7Sboan8r3bX5HNo5b5UVGewUrG2x1BKHd6aatuoHq307+XdH0LVt0HVUsM8JFoRsDk957eSjNrSbvebk5lp2OfeazYKuioUqCKkIqq2ysjJ09MPr69qCrj1GRdodOxqtG0avvPLKLtGcGkWqN/M6xWLtf/TRs0Lza8TvzJkzrd91zkWLOr+LOyM9nYKgMwWx9tP5VEuYOHGiFZlnf//IBEFXRVb9DqTNFjudEbtuYneifP7v//4vJOaqH5YuXRoS7PU7ms116tSprm+Laus555xtBP7BXXygnf/4x/ut+qZO0Vfn1POh/6rvnFG98+bNc13Dy4MHH3ywFYig6am/+93vRhV1VRT87W9/a4m5+t31ZVPCJlkt2YKum91ugq7f+0vlvpxi7q9/fbP84x9PWdtRMfdak/UqLy/PFzFX50TQdZwU+yKb3nV/7LFf73KG7EgJ+4Ka8wJf+IU9O92yW/RutIOJoOv3y5b5IAABCEAg3Qkg6MbvoXgE3fDIXBVzT3i+SvTfSE0F4H8cPUiK83Lkg20tcvjTXQWhcDG3urldvvGvzfKh6eul9bSgqzbqZy5NhaNRrq+++oqr4GjvJbz+bHjkZbig6/Y50sllyZJ3ukTqhkeb2p8j7TGR6sbaz7sJj05B1y11sLO+rhefeenjZke0KFX9wnP00UeZyOUpxg9jzcWAn0VNA/3xx0u7CLDOEitugm6k6Gd7L3ZGHefenJ/p3fZz+eVXuNbb1TnChXON6N177329oOvSJzjaCLomQrf+/aVxj7UHDDeRQQ/feYeUlZbKQSecJHUmStxu0cTcctP/wTtvlzEjR8oic9FL0zC3muiieFqigu4zf7pPRpvoabdau1HXNxeV8/v1le2vvxmPmfSFAAQgAAEIuBLwRdAdZ8ROc+G2xaT6bTViYqQWLuhqPytS1Nxs1WEEqPCWb6I980x64nYT1dW0fGXcHowm6GpEbOHoUdacaoMdKesmalopi40dKoaqAOtMsdxFvN2ZPcM5t1O01bW69N8pIuvcdmRrmxGvmx3idV5FP8kf9GW5F1dB1yUK1ikcR5vTa/3gWBG6urcue1URfPfKUESzLZhrqugiI46HuH9u/LpTUHZy0+ezWdDV/V9zzbWW6KbNKSSGC7C2oKv9wgVFp2D35JNPWgKv3SIJkfq4fmfU5kwh7BQmnaKyRnrakcThazijVzNB0HVGLts1c51c3PaYCB+Nmp09e7blg/BUzk6/6fORBF3bz9Giw+1o4/DzplHdGiVri7oa6Rsp1baXN2Yvom4qxVy1OZXCp80okwTdSGLujBkHm+scV/sq5sbyl5cz2N0+ORUVgzq6O4mO9yKGOvuEp0M48sijQuncwi8+ac3bu+/+H8tMZxSFfUEu/EKcfWEv3lRrkaILnHzindMPtswBAQhAAAIQSBYBBN34yXoVdN3E3G/8q0pW130p5k7omy9HDiu0auWua/hSuJk2ICgzTQrmx1ft6BLJ210xV3ebDoJuPNTDhb1Ygm6sz2rRBFbnZ07bxvAbB8Nt1y8P4amLuyvo2llkYnGys8xov/B9xRJUY80d/nx4GupYgq6XGyvDxXPnZ/pE9hMu7jtt9LrfgnFjpM/UKVL/3odeh3Tp189ELzx6152iou7iDz6U2d+/KPS8irl/nn+LVA4fLiu/+ELO+MHFssUIz3ZTEXjvSRPli/Ub5JQLvyfbdtagi8eQlAu6OSLBwYOk9j/JST8Wz97pCwEIQAACvZ+AH4KulRrZCHgtJg1vq0nHG6m5CbrWZ+WODmnU1MRh6ThzTSrK4MAKK+KzUcXPOJu9nhXxaqJqQ81E2uaWlYUiSJ1CZKwauuEm5O02yNxo1Vkz1ylA2hG34WmX7XTLTpE1aOoP21Gz4RG9Oq9brd/wlMt2pK9tX7QoYeecVpTup51suxWh65jHtsGtHq5ToG5ev3GXWr5OFtks6LrVY40kzNmCrtsYW0zUqEuNmgtvCxcutG4g1ehJFX+jNRX5Hnjgz1YXp3Bpz2GnIHbO4RSiM0HQtaNmw3k6hdFw8TMRPk4h3E1MtedU1okKuk4h2s3/TlE5XKiP863Y6h5N1E21mKv2IOgm4sXOMVobV2vmqt+ckbmHH36E/PjHP5Fck3HBjzTLTguzNkI3kpucF8DsPnaat/D0bnba5fBIDD8EXb0I5ta05thf/vJQ4qeMkRCAAAQgAIE0IoCgG78zvAi6E02U7ROONMsq1h733OZdInPfPXGIlTa5vrVDjn1ukyyNEmXrJub+f89vlo+qvUXm2jvtTYKuiqX6OdBZnzaWoBtLxAu/gc/52TM8ajRWtK/NNDyKuLuCrlsaabeT6mSRzEhgFbrnz7/Nc4SuXlTYY4+JMV9c4amcndHQiewnmugc05idHQqNoFtiBN06E6GbYy7oxtPyzJfFh397h0yeMEE++fxzOfOiS6TWpO3TFi0yV5/X6NyXH/ur1NTWWiKwirqJtEQF3Tf+/rhJEV0Wd4Ruh3RIoamXXPNS8lKQJcKBMRCAAAQg0DsJ+CHo2oKj1ntt3bApIgg3Qbej1UTHrt1gUgR/mV3DniDfiKV5RiztaGmRxmUr4gYcSUB2TuSMUNXHo4qaGqlrPj8ESoqsKZxphfV3pwDpFC7t+rzOSNymL9aFIn2dqZHtCFynjW7POwVdN+Ez1pxukcXdEXTD0yqHs7RtdBN5nXuN9Xzch8AxINpZT7ZYkEgN3fA0t7EE3fBUzLp1e4x+V9i4cdeyJHY63nCxVcXb448/TiaYz9j9+vUz30kKQ7V5dV5nf1tQjiTYxnq+Oz5NpSjnFKfDBVBn1Gy4+Blr/27PxzovsZ53Mo3U1xm97XZ2IkVkd8dfbqJuT4i5uodUnh2bWSZE6KqY+4tf3GDVxnWKuUcffbT86EdXWHXvnY9357w4xyb7PTqWnT0WoesUTIeaiwB6B06k+mT23fs65rPPPgvtqcLc5a61crU5I3ftiznhkbuxYHiJMo41B89DAAIQgAAEehMBBN34vRVL0B1l6ts+d8wg6V/QWQdXxdzjjfDqjMy1V138jSEyvCTX+rXGpE6+/O1qeXTFrheQTqwslpu/Ui5lO2vrxptm2bnLdBR0VTAcPbpSxo+fICUlJTLCpH4tLCzsIuTae0imoJuIiKh2RRuXyJw9JehqSZO+pvaapsPWpunNik29tCFDhuzyQokWoes1OjhcXHeOS4SbH4JuwVgTobvXJKlf+kko5Z7Xd4ljDjtM5v/sKmk0ET1fP+e/Q6Jshbnw9OAdt4Uic8+cOy9UM9c591hTj6xm+3bX57zakIigO3XPPeWRu35jLfGrBXfLvQ897HU5K4qpcLeBUvPy657H0BECEIAABCAQiYAfgm6wcqTkGsEnPLVv+JrhAqslAq5ZZwrQupc7yDeRq3laV9X0a1q5Jm4nhiJ0TfRoR3NTl/EdzS3SWl1j1Zp1tkg1dIMjTRStuY7qbBr5a4q+WnVutXURVh2phW2h244+dUbF6rhY4msyBN0u+4xWP3jnhmOlXEbQjX48vQpwtrgXTZzVlZxRmV7HRLPQKcZqZOYJJ5zQ5cZSHasRwHvssYc1TTYKus50y9FYRkqJHY/gHeu8xHreaV+igq7OYZ8tu15w3G/CLgOcou7cuXOtSM5U1MwNN8VvQVfTUx9zzDHyzDPPWLWn3ZoXQdfLPNH84Pe+nGtFEnO//vXjZN68S5Mm5qoNWSvoOi8C2Rds3GpduaW+czsoTjHYrsX71ltvyymnnBrxXNnp7Ox0dQi6frwVMgcEIAABCPQmAgi68XsrlqD74GED5CiTRlnbhh1t8nUTmesm5urzRwwtlIcPH9DFCK2v+/KGJllb3yaq304fXCBfGdh5YUbbNiP8nhhHzdzwHaaLoKuf8c4880xTw3Vyl5q2sTzS2wTdRKJ+Uyno6udfLX0yefKkXS6URPNFxgq6pr5ayZRJssPUxusIS7UY62zeZsTcrxlR99d33yt3P/iXUPfH71kgE404vsrU5PvmRRd3S7CNZUMigu5P5/5AvnniN6ypT7vw+/LuRx/FWib0fI6JSs4vL5Naauh6ZkZHCEAAAhCITMAPQTfPlALI728iaU1qZK2VaqoDuDanoNuydZu0bNwcsa+5MiyF48dYqZxbd/aN14/RauhGmstN0HVG22pEr9rT0dgpEEeLKA0JuE1N0mRSStv2hEcydxFsd4qrTvsKdh8VEo3daugmEqHrJhITobs53iPmub9XAc6rOBuvoBsuMkYz3E7nq1G9Dz74gKmd+pJ88MH71hC3aNJEIlA9g4vRMZniVfjSdrplL7Y76x8nwifWeYn1vNPGRAXdWBG8XjhE6nOY+f52yy23SGNjo3VTuUajv/TSS92ZMu6xfp+dc889Ry65ZJ7ceustct99f3S1x68+0Tbr977stWwxNy8vz8ro9o9/PGU9pWLupZdeZv1/MiJz7fURdA0JZ+2x8JTLdlplTbesufbD24wZX5VDDjlYnOmYncLs5Zdf4Zoi2dnHro2GoBv3+w0DIAABCECglxOwBd1vfes8eeGFF6Pu5p577pajj9aa91+RTZs6v2AeeeRM+d3v7jUfom41dzPe3qM0KgZ0CqNbqqqSakc0QXdcWb68dvzg0PrHPrtJ3qpqjmrPSSb69pYD+klJXqTLTV8O/6SmRc54aUtEgdjLxtNB0P35z6+RU089NaaAqJ/vtDkjRHuboKtRrzfeeEPINW43MHrxm/axPxfb/bubcjl8vkh2aORs//79ugjvmSroBocNtQTdZvMep5E98bTH7r5LJo0fLxdc8RN56fWFoaGPLvitlBQXy9mXXJpUMVcXjFfQPe24Y+UnP/i+FJponkXvv2/V9Y2n5eTlSsBE/dS/+0E8w+gLAQhAAAIQcCXgh6CbY/7mFo4abs3faCJuO3aWPwhfUNdqN9G4Les2SHuMv/mBslIpGNaZsaRx5Wrp2NEYtwf9EnRt8VMjcpuWdS0XF6mGrhrrTLGs9WKDQzq/s4TXyXXO4aznq31zTJrnwtGjQnv3Kug653Smd7YmMiK5lSbb1BJ21vh1CrrhY5zPtZg6ya2mXrI2m43XCN1AaR8pGD7UGhue7lofc9YLzuYaun5F6DqjSt1qsapo9/bbi0KCrVPEe+ihh0S/+9gtUg3daPVjnXVYe3MN3Ysu+oGcd963LRQaqfzPf/5zl/ejAw44QKZPn2497oxoTYSP02/hfnCmQta1Eq2h6/Snm+CvguvMmTOt/ej1p9tvv2OXPXfnARV1b7zxRrn88stTLuaq3X4Ln3PmzJELL7xQ7rprgSxYcJcrGo2+/drXjpWnn35aampiRfHeZeZZEDdiv/elBmj97WuvvU5UzL355l8Z+/9h2aVBnd/97ves/7/ttlvk73//e9z2eh2AoLuTlB2lq3fczJ59hixZssR6ZsmSd6yLR5HSMTsjeJ3irV3LTOe77bbbzKG7O+QTFW71ArameXbW6kLQ9Xps6QcBCEAAAplCQL8MXHrpPDn//O/Ic889H3VbboLurFmz5O67F8hNN90kd97p/kExVazSQdC9cu8ymTupzNryIyvq5XuvbfO0fa2je8XUMpm9e0nE/re8Xyu3fLhdmtriq+sZPmFPC7rhaXbVPv289vnnK2TNmjWyfPlyqa2tCX12C0+929sEXd3fxx8v7SJeR7rhMNZhCU8p3B1BN5yrrq1i87Jly2XLli2yePE75otdbejGyGjpjKOlTo62p3RMuZw3oEKKjaDb3tQsrVVbYrmky/O//9VNMmP/aTL3Z9fKMy/9X9Sx/U0Nvq2mtp/fzaugq0LuwQd8RQ75ylcsMbfRROucffGlcUXnqu2BgqBVZ3DH8vhrCfq9d+aDAAQgAIHeT8APQVc/KReOqZRAMCjtJpVx4+crJceUCAhvBaNHSrOpHduhqYqjtYCJzjUZPHJMjb428/mgyfzN07p88TbfBF2T+jnXpH7WZtfD1f93piG2nlu1ZpcUzgXjx4aEU03N7BRQQ/txpGfWx1Qwbauvt3jmDRpojbebV0FXHHNqiufm1cY2jSo2Yq5Vm9iU/NCmQnObST2tzSlAq50tm7dIhxHgLTvM5zW9ocy2L1FB1ykmW3OZG/pat5jvb2F2ReIZ7xlw9s/GGrpO8U9Fuxtv/KWJuO28qdxZ99UWkJ11YlW4PP30062+Kv5dddWVrimXncKfcw0Vh1XkUi1AW28WdDXgTdMCa4skbjpZa8rdQw891OqfCB+nsK7f21XYUxt0jcsv/1GXesaxBN2HH3445Dc7clj9qVHXzn056wI7fefcS3def+k21m/h0/bZvffeI3fc0VlaJ5Fm3zxw6623ugZaxprT732NHDlK7rnn3l1q5s6ePduUY51jmZNsMVfXQNB1eN4Wb+0oXWdEg7NGbvhhsWvsOsVZjfpdYO6GtyM69A1n3br1Ytfr1TnC63s5Lyo5a/w611u7dq2cddbZsc4rz0MAAhCAAAR6BYGzzz5bNFryZ0aA+MMf/hDV5rvv/h/RG6n2229/2bzzLujzzjtPfvrTK+XKK6800YMP9Oie00HQfdbUzt23Imhx+IZJi/zqxq71sWIBqigMyPRBBTLS1OEtye28ULTKpF7+55odUtvSHmu4p+d7WtC1b7qzjdUSGdddd33oZr7wTaRS0NXXgr4m7Pbhh0vl2GO/HpOrXe7D7hiecSb8+VhlQdwW1M+2TzzxeJen3EqYRLIhfM5wkTnSzZP2uHgEXa9RyNF491QN3VwTqVG05x7WhUW9EBpP+/45Z8sP/vscefu9963Uym5NI3V/c+3PZOKE8TLrjLOk2tTM9bNFEnSjrbFh0ya58/4/ySNPPR23KXnlfc2F8hVxi99xL8QACEAAAhDICgJ+CLoKKtf8HQ8O3c1iprVpW4xQuEtTUdZF6A3vl28ic/NMhK62prXrpb02sb/dfgm6zqhStUmjUTUVtCXQGnHaFjrdBN18w8QWT3WsU0B17tsppjof17UsvjtFMc+Cro4xnxnsqGC3wxwrQtY5RkXm/AH9rYe6E6Fr7SWKXbpfe69E6M7r4rZIqXOjpWnWCZxRsvq7CnQaKWg3FWHnzbssFKXrjCjVvvozePBgaTIivz3OKc6qOHjLLTd3ERntubVfZWWl9WtvFnSdaag1WjFSc/rIFuQS5eMUW53rqd6iN2MPHtz5fhtL0A33v47xYpv207VuuulX8thjf4u45976hN/C52mnnSo/+cmV8sADf7aYJdo0Yvm//uu/5Prrr5NHHvlr3NP4va9TTjnNROF+14oqvvnmmyx7zj77XFEBW5umX37qqSfjtjPeAQi6DmLOizoq4J5//vkmreN+XdIpuwFWZ5188klWVMHee+/bpYteDDrA3H2uUb52035vvPGmXHBBp3JvN7eIkfD1wkXgeB1OfwhAAAIQgEA6ERg2bJi5K/ZfVr0QvdNy8eJ3I5p32WWXWn+X9e9ntbkwsu++e1t3uQbNXdKHHz7T+nvdky0dBN3F3xgiw0tyLQx7Pb5e1je09SQS17V7WtB11of1IvylUtANT48cnjkmkjPDxdFwQdftM2a8UbrhHMLF5ngE0HB7vAjM8Qi6yinazZg2x2hCeDz7seeLZqPXF6JG3xSOHyfFE8ZJ/QdLvQ6z+g3dbbD864E/Sa6pK3vDb34r9z3a9WLDEHPxacEvfi57jBkjn5kLSqfO+Z7sMO+9fjavgq5G5K4w0THvfPCBXDs/8ZRlheYid80rr5vophY/t8FcEIAABCCQpQT8EnStKF0TgRsw9RC1hacO9orXmdq33YgJjStWJxSdq+v5JejqXCpChkfLai1cMdGvttDpJkDukjLZpUauzUYjfvXGrZxgvvVQe/0OE726VYIjTYRwAoKuzqFidL6pcWyLzta8xuY2Y7sdZev0jdqrEbz2es6+oRrA3Ui5bK8Vbpeu02qidfVzYTSeXs+RW79sjNC1OWjU38knn9JFyNXnNCrz5pt/HRJz9TEVIFVMsoVYfUxFXS33dPXVP7WmDBdndYxeu7CjWO0+tsDlNqY7vrTH+i1eudnkTLfsjGJ16+sUT519E+Wj0b2axtmOcrb9cI65qdX2TyxBV+10pnDW35988kkrQMD2d7jvbH/98Y/3Z6SYq/vz++zsv//+cu+998r7pqTOmWeemfDxfuCBB8xrcLJJ8X2eSYf+dtzz+L2vc845V/RHbzC4//775KKL5so3vnGiZZcz/XLchsY5IGME3Tj3nfLuGlE0enSlrFixUp599rmUr8+CEIAABCAAgXQlcOKJJ5oIyZ9Ln52pu+Kxs87UpPrxj680kYNPxDMsKX3TQdB964QhUtmnU9Cd9r/rZbWJrk23lk6Crpcb5exMLDbHZKZc1jXsjDH2es4MMG6+dEtdHC7o6rhwsVHFYk0z9Ze/PBTziIQLzTrg/vvvN6nGrg6NjUcADRd03ex1GhUrOthNsI7FzVk2xV7LKXLHsx97vB+Crs4VHDVSSqdOkcYv1sZdR/dbp58mP7rwAsuklxa+IX945BEJ5gVlz3Fj5fwzZktpSYmsNtE9Z5gvn5tNauve3AJFhdYF2bq3F/fmbWA7BCAAAQikEQG/BF1rS6a+XkGlEXXt1Lxbq6Vl4ybxlCzZRO9aqYCNoKmtvdmkWl5pMneYlL/p1FR01WalL273kM3HkfrYLSLWy97sOrXa147Q9TKuSx9jh4qlarNlu4em4q7Xvh6mc+2ia2i65Y6GzkjkZLaeFHSTua945taUvSNHjrSGqEATrdl9a02EvNcITRUu99tvmqxevTqU2jke++Lt67d4Fe/68fZPlI9GQ8bjh0h2aUrt6uptEX1jR1066yrHu8fe0t/vs5Nv3l8fffRRS2j/5JNP5JVXXpFmU4LAawuaG3kOPvhgGT9+vNHSVpj6tKdIa2uM8gQuk/u9L1vQdS7VYTJtqJj7z392Zps6+OBDrOssXtpVV/1EXn31VS9du/RB0I0bGQMgAAEIQAACEPCbQElJsRxzzDEyYkTnFyovbc2aVaJCUH19g5fuSe+TDoLuk0cNlANNymRtp/27Sv69znv03aCiXLn9wH53Z8EmAAAgAElEQVSyqq5VfvSW/7U1bQekk6CrouYee0yMeDbsLCzODskWdMPTAOvakQRPN/si9XcTZXX/v//9H6KmQdI1jj32a11q8Go0/IEHTu/CLR4BNFyAjZVaOjxNti7sTPccKctNtCjk8DnDo7Xj2Y8Nwi9BN9fUty2auIdJXVhoauutjfu968KzzpS53zrXNYJHI2J/8NNrpGrr1rjnTbcBeeVlFp/mdRvSzTTsgQAEIACBXkrAV0FXGZhMQgUmojSg4qFpWlO3eeNmE21a71pX1/zxFi2/kD9oQKfgqGO0bu7qL0zu5vgvZqebG5wRxxFTCBuxVVNMa9pq/RvfRUQ1YmfB2N2tOrqajrhZRW5aQgQQdBPCltaD/Bav0nqzGOcrgWScnVGjRsntt9/eJbo9XqM/++wzufjii+WLL8zfwASa3/v66lcPlmuv/XnIks2bN5sawfMtwdpu4X2imY2gm4BTGQIBCEAAAhCAAAT8IpAOgu5PppbJxZPLrC09sapBvv2KN9FmSHGu/P3IgVJZmmeNPe1FIwav9y4Gx8PQL0FXo2v1A77X9thjj1lZUrzU0NWI0AsvnGNuMpi1y/TJFnR1wfCoYH1MBcdly5bLFhNVWWzqoE6ZMjlU0kMF1iFDhoRsjSQAu4nF9tzvv/+BlRJJaxBpKvTKytFd1rAnjxTZG68A6qWGrkbRzp07VyZN2lV09yLoqq1PP/1PE038p1CNZBW2tazKmDG7d/HtnXf+touwHe9+dDK/BF2NzCgcO0b6TN5T6j76NKFoHE2vPOuQg2X6tGmSn5crG6uq5FOTKei+vz5qglE8RNB4fWH1VD/DKDiwQra/tlA6TFpCGgQgAAEIQMAPAr4LumqU+Ztl1cF1ZCPqMH+L23c0WiUDOlSozcuXQDBPAiaVcI7W1t3ZWk00oIqaOR5q7fqx/2TNoSKsyW1s1dnVFlWMNYJuwehKS7TVppG8HaY2r5jfc8vKQo83fbFO2rfXJcvkjJ8XQTfzXOy3eJV5hNhRJALJOjv696yycpQMHz5Chg4dYq5faO3xaHkqOsx1j62ybt16WbNmjZXOvDstWfvqjk1+jCVC1w+KzAEBCEAAAhCAQNYTSAdBd++KoDx/zKCQL05+oUr+syG6MDvMiLlPmMjeUX06xdy6lg6Z/tSGpNXf9UvQjffA2UJspGhOFYjtpl827No8+rhT/EuFoKuC8oIFv+0i0kbar6YWbmho6CI+R0thHEnU9cIzWprmeAVQt1TROr9+ebObzV0f1xpJTtE6mqBr+zJctI20R7cavvHuR+f2TdA1c+UNqJBiI9prNE6zSc9I60pAI3datm6Tps9XgAYCEIAABCDgG4GkCLo7rcs1f7usurM7UzBHM1pTLLdoJG9dvW9766mJtD5swfChoeXbm5o600dHucFMUw8Hh2tkc+f3E2ez68u2Vdf01JYyYl0E3YxwY5dNZKp4lXmeSr8dZerZycZ9peJ05VRUDOpIxUKsAQEIQAACEIAABJJJIB0EXd3fnw+tkFnDO+tZbWtul2+a1MtvVTW7bn1iv3x56LABohG62lTMPfGFzbJki3t/P/j1tKCre/jTn+6XQ0z0YqzmJpamQtBVu1TUvfLKn8j+++8X0Uy7Tmy84qOK2nPmzAlF+MbioM+rSPrLX/7SinJ2a/HaoHO4RSK7za3Rs5qS3SnQxhJ058271JMo7ibmqg2J7MdPQVfTLBbtMV6Kxo2Rhk+XSUccNYe8+LM39wkUFkr+gH5S+4qJzjUXvGkQgAAEIAABvwgkU9BVG/UCaK4pNaPibo6JVs0xdXZzTOSplW2itcVErjZJm4k6tVIyOyJ1/dpfj8xjIpRVoM3JzTX7bIurPqzW6M0tKQmZ3d7YaNiYcjuZkG2kR5zx5aIIuj3sgCQsn6niVRJQMWUYgUw9O9m4r1QcbgTdVFBmDQhAAAIQgAAEkk4gXQTdgYW58uwxA2VEyZd3tP9leb3csbROPqttkQGFATlgYIEcNqRAzh3XJ8RFxV+N6H1/a3IFknQQdHXTP/zh/5MzzvgvV1FT0xs/+OBfrBS84cJeqgRd2zGadnjWrFkycuRI6d9fUxSJlWraTiGtvyciPuo4jdY96qijokYCa33bv//9CSOO3h31NZSoDTru0EMP6VKj115IReR77rlH/vKXh6JGv4ZHXeu4I46YGVUUVx8/+eSTctVVV7vuK5H9+CnoqlF5FRqlO1EChUXSSCRqyE8FJoK+0aSPblq1Ounv6ywAAQhAAALZRaBg/FhpMiUupJ3Yk+zyfJbtNpBjahGPkSZz06Bb69d/gGzbWpVlUHr3dvX+j/J+FcZvW/Bp73Zlyq3P1LOTrftKxQFC0E0FZdaAAAQgAAEIQCDpBNJF0NWNjjTpk+87uL9M6R/0tO/Gtg5LzH1zc5On/t3plKig2501o43VmqoTJ+4pgwYNlnoTDfHpp5/EFC+TZUui8yYiPoavpaJoeIsl4iZqr9s4XX/8+AlSYqIwNm3aKEuXfmQJuV5aJEHXHqui+OjRlbLPPvuaSOPlVj0er3N7WT+ZfQpMrd8+RtRtWr9JWo0Ine0tv3+5CW/qkO1vvJ3tKNg/BCAAAQgkgUDB7pXSvOaLzpqtNAhkKIGcYL7km5TWzZ+vdN1h3/L+sr222gRCm8hxWq8goDWnS0v7Sk21+/cFfNor3NgjRmbq2cnWfaXiECHopoIya0AAAhCAAAQgkHQC6STo2pv9yd5lcvGksqh7//e6RvnxompZVpuaC1fpJugm/WCkYIFwQff++++PGHmaAnNSvkQsQTflBvm4oF5wK9pjghTtPloaPjOpl7P4ArOmoQ4ONBcY31gk7aauMg0CEIAABCDgN4HgyOHSamq0Z0LtWr/ZMF/mENC6xnnlfc3NC2tdN1VW1ld2mM9aLS3JzdyUOUR7fifBYFAKTFaf7bXutaXxac/7KF0tyNSzk637SsU5Q9BNBWXWgAAEIAABCEAg6QTSUdDVTe9Zni+nVBbL9MEFMr5vnuSa3DMfV7fI65ua5PFVO+S9JKdYDgePoBv7KGpE6fnnn2+lWNZasEuWLIk6aMmSd7qkjr788it6TQRqbBqxe2SyoKu7D5io5eLJe0rB4EHSsGyFdLSm5uaL2ORT1yNQEJSgSUFd9+57JlK5OnULsxIEIAABCGQVgVyTCSJgatu2rN+YVftms9lFIH/IYGlvNPWaI3ymKiwslFxT37m+ru7/Z+8+4Kwqzv+PP3d7Z5ciCoKCIjYUiQajiYWYYItGFLBiQcRAjJr8o9HYa9RY0FjQqAQVxRpsEWP/qcESBFtAVKSqyC6wvd//PAfP9ezdW86te8vn/H68xN1z5sy8Z3YxfPeZyS6YNB5taVmZtJv/jdBizpkOdDGnaTy5Ce56pq6dbB1XgpeL1TyBbjKUeQcCCCCAAAIIJFwgVQPdhA88whcQ6IYGu+mmG+Xoo8f5bvr666/lzDOnBQx1R44cKRdd9GfZa689fffr2bAjR46KcFbS+/ZMD3R1dnKrKk2ou4sUVPXKulA3x/ylYsEWfaXx40+k9Zt16b1Y6T0CCCCAQEoL6G4QhUMGS7P5ASqz32xK95XOIRCVQE6OFA0bKi1mu+VgO7/k5ORKr8pKcx5rjXkF50lH5ZzEhzzmB7areveRjRtqgm6TzZwmcULS6FWZunayeVzJWH4EuslQ5h0IIIAAAgggkHABAl13xAS6oZ30TN9LL71EiouLfTfqlmcfmzBr5cqV1hm/etZsv379rCDXeZ8+cPvtd8j119/gbjIy5K5sCHR1qnIqKqR0NxPq9u0jTV8uN5UVmb8NXm5pieT37S2NH31qwlyqpTLkS5ZhIIAAAiktkD9wq83Vi9UaZnEhkFkCef36iMdU34arQi8rL5d2c9RHczPHXKT6CigpKRENbOvr60J2lTlN9ZlMfv8yde1k+7gSvZIIdBMtTPsIIIAAAgggkBSBpAW6N/5HJK8gKWOK90u8TeZ/ZP7pgHg3m3HtXXnl5TJ+/PhuYW24gWbb2bm2R7YEujpea/vlnXeUQnPGX+vab6Qtg/+yuaB/P8kx54HVL1zENsvhvvj5PAIIIIBA/ARMlW7RtoOk5atVpoKxLX7t0hICPSxgHWFh/huyeflKMfvzhuxNjqnk7VVZJZs2bjRVnx093HNeH0wgNy9XKioqTXXuBvF6Q+8qwJyyjpwCmbp2GFfi1zmBbuKNeQMCCCCAAAIIJEEgWYGu/H62eLbZJQkjiv8rvF99JHLzKfFvOANb1EpdPUd3u+2Ghh2dbss8a9Ysueuuu8Pem4k3ZFOgq/PnKTB/0bzD9lIybHvpbGqW5lWrg26Zl47znVNUKIUDB0jHpk1WmKtVUlwIIIAAAggkUyC3olzy+vWVlhWrwgZfyewX70IgaoHvf1Ch1ZwP3Vnf4KqZAnOedElJqRXqhgsLXTXITXEV2BzQVprK3Hppa3W3cw9zGtcpSNvGMnXtMK7kLEkC3eQ48xYEEEAAAQQQSLBA0gLd0UeI5/hLEzyaxDTvfegykXefSUzjGdrq2LG/lLFjx8rgwYOld+/evlHWmDOtdAvm9957Tx5++JEMHb27YelZwnvv/WPfzZs21Wa+SY5H8szWy8XDhkmB2TqvbX2NtK6vTuvz/jymwiC/b1/JNdUjjUuXSsvKNe4WAHchgAACCCCQAIE8s+V/blWVtK35WjobGxPwBppEIDkCOWWlUjBgS2lbt146Nm6K6KXFJcVSVFgidXW1pqiXivWI8BJ4c74J6MvKK6SxsUFampsjehNzGhFXxt2cqWuHcSVvqRLoJs+aNyGAAAIIIIBAAgWSFujqGNKwSte74hORmyYlcAZoGoEsFDDBbq4J+ktMxa6GoR21ddKmW+M1ps95Z7nlZZJvfokZS+Nnn0vr6rVZOJEMGQEEEEAgFQVye1VIwVb9pb1mg7R9t17Em4q9pE8IBBHweCTfHGGh61h/MKHDZWWuf2uFplK3tKzcOk+3yQSIXr4OenDJecxclEphYZHUm5C91WVlLnPag1OWMq/O1LXDuJK9xAh0ky3O+xBAAAEEEEAgIQJJDXQr+4v85m/i2TL8drwJGWyEjXq/XS5yx3SRjd9G+CS3I4CAKwHzF3a5vXpJ8fZDpWDrAeIx/97R0Gj90qoi/WdKXGZruNzSEutXjtnCL6cw3/wl+UZp1iD3W74/pMQc0QkEEEAAga4CphIu31Tr5phKxY66BuvPVT1b19tqqhVJtlgtqSRg/jsrJz/PHM9RYK1X/aE5DXHbzU4u3jBn5oYbRk5Ortl+uUTyTPutLa3SZqp1Ozs6pKNDz20l4Q3nF+3n9b/pc3LNfz/n5Fn2BQWF0tbWaoJ189/4naHPzA33TuY0nFB6fz5T1w7j6vl1SaDb83NADxBAAAEEEEAgDgJJDXT1fzbnFYhHt18ec6JI30FxGEECmli/SryvPCjed54WT7u7c30S0AuaRCCrBDzmL57zeldJXh/zq7RMcoqLxFNUZMLTQuv8XY/5y76kXuYvu/UvETvMdnBec+ZvZ0uz+cvFRhPk1lgVT5yRm9TZ4GUIIIAAAlEKeDRUMQFZTnn55j9P80xwluw/U6PsO49lh4DXBHz2Dxt01NWbH0Coj/txHDlmRxUNFfPNr1zzNaGhoAYsXIkR0LOLNbjV4LzV/De0VuR64/yDJMxpYuaup1vN1LXDuHp6ZYnENdDNy8s3f6gUmJ9Yyf/+D5Uk/2WFn6f9DVfPGGhtaTFnDbTHJJ5q44tpMDwcsQDrKWIyHvheIN5rB1gEEAgskOxAl3lAAAEEEEAAAQQQQAABBBBAAAEEEEAAAQSSIRCXQFd/Ikj38tefCmptNT+t0tJmfnKlPe4/sRIpiP6EUm6u2Q7BbCWmP73UaX6apr6+LuItEVJ1fJF6cH9sAqyn2Pyy+el4rZ1sNmTsCLgRINB1o8Q9CCCAAAIIIIAAAggggAACCCCAAAIIIJBuAjEHurlmi5NyE+Y2mEPZ26I8CDxZaAVmmzM9b6C2ttY6Z8DNlU7jczMe7omfAOspfpbZ1lI0a8dplGq7BVCBnG0rOHXHS6CbunNDzxBAAAEEEEAAAQQQQAABBBBAAAEEEEAgeoGYAl2tyK3oVSF1JiDtcBmQRt/V+DyZZwLoMnPexqaNG8NWEKfj+OKjRCtuBVhPbqW4z18gkrVjP5uquwVQgcz6ThUBAt1UmQn6gQACCCCAAAIIIIAAAggggAACCCCAAALxFIgp0O1V2UuamnSL5ZZ49inhbRUVF0m+Oe+3rq4u5LvSdXwJB+QFXQRYTyyIaAXcrh1tP512C4i1AjlaT55DgECXNYAAAggggAACCCCAAAIIIIAAAggggAACmSgQdaBbUFAgxWb7Yq10TcersqpK6k2g297eHrD76T6+dJyTdO4z6ymdZ69n+x5u7Wjv0nG3gGgqkHt2Jnh7JggQ6GbCLDIGBBBAAAEEEEAAAQQQQAABBBBAAAEEEPAXiDrQLSsrM2FomzQ3p1d1rg1QXFIsHvN/jY2NAVdFuo+PpZ5cAdZTcr0z6W3h1o6ONV13C4ikAjmT5pSx9JwAgW7P2fNmBBBAAAEEEEAAAQQQQAABBBBAAAEEEEicQNSBblXvKlOdu0k6OzsT17sEtpyfny8lpVphvCngW9J9fAmko+kAAqwnlkW0AuHWTrrvFuCmAjlaO55DwF+AQJc1gQACCCCAAAIIIIAAAggggAACCCCAAAKZKBB1oNu7Tx+pqa5OYxOPaGi7oaYm4BjSf3xpPDVp2XXWU1pOW0p0OvTaSffdAtxUIKfENNCJjBAg0M2IaWQQCCCAAAIIIIAAAggggAACCCCAAAIIIOAnEHWgq39pWr1+fVqDhhpDJowvrScnDTvPekrDSUuRLodaO+m+W0C4CuQUmQK6kSECBLoZMpEMAwEEEEAAAQQQQAABBBBAAAEEEEAAAQS6CBDoBgmlCXT5SolUgEA3UjHutwVCrZ303y0gdAUyqwCBeAoQ6MZTk7YQQAABBBBAAAEEEEAAAQQQQAABBBBAIFUECHQJdFNlLaZ9Pwh0034Ke2wAmb52+AGZHltaWfdiAt2sm3IGjAACCCCAAAIIIIAAAggggAACCCCAQFYIEOgS6GbFQk/GIDM9lEuGYba+I9PXDoFutq7s5I+bQDf55rwRAQQQQAABBBBAAAEEEEAAAQQQQAABBBIvQKCb4EC3qKhIvF73E+nxiDQ3N7t/gDtTRiDTQ7mUgc7AjqTy2ulrzks/5JCD5emnn5FNmzZFpU+gGxUbD0UhQKAbBRqPIIAAAggggAACCCCAAAIIIIAAAggggEDKCxDoJijQ3WmnnWTChAnSu3dv8WhK6/LymvR3venTY489JkuWLHH5FLelgkAqh3Kp4EMfggv09NrR71OHH364PPvss1JTU+Pr6BZb9JO5c+fK0KFD5NJLL5dZs2ZFNY0EulGx8VAUAgS6UaDxCAIIIIAAAggggAACCCCAAAIIIIAAAgikvACBbgIC3b322ktmzrxLWlpaZMOGjSbQdb8OtJq3qqpSCgsLZMqUM+S//13o/mFz55lnnmHdv2DBu7Jo0aJuz9qfX778K5k//8Vunz/uuGOlV68KCfb5iDqTwJvPO++PcvDBB/ve8Pvf/yHgeIN1YezYX8qQIdt2GWegj0UyhESHcnb/Kip6SW3tprBzfNddd0fS/ZS51x5nqHWsn7PXqnOtB/pYygwsREcSvXbCGUydOkUuvPBCufrqa+Tuu++xbtfK3Mcee9QKc7/8crkcffQxXcLecG06P0+gG4kW98YiQKAbix7PIoAAAggggAACCCCAAAIIIIAAAggggECqCiQ90NVKsBNOOE6Ki0tiNmlqapSHHno4ISFDLAHEXXfdKfvuu49MnjxFli37LOIK3WHDdpB7771HXn/9/+S3v/1tRE4LFrwtW221lTzxxJOiIafzGjlypMyb95T1offee1+OOWZ8t7aXLPnUzE2xzJ49Wy6++FLX79a29977x2ZL1lp5+OFHXD8XzY0a5k6fPs336Ndff23evU9ETWngfvDBY+WFF+bL1KlnWs8G+lgkjSYqlFPbiy76s+y1157duvPGG/8nN954U5cwe8WK5dZ922wzJJLup8y9zz//nOyyy85WfwKtY7ujr7zysmy33VC59tprxQ6vA30sZQYWoiOJWjtux37OOefIueeeLTffPENuueUWK8x98sknzBoaLCtWrJRx4462dg6I9orl+2m07+S57BQg0M3OeWfUCCCAAAIIIIAAAggggAACCCCAAAIIZLpA0gPd0047Ra6//rq4uZ533vly332zomovESGKnpl7990zzVbLVXLiiZNk48aNEfetV69KE1TPtqp7J08+XVpbW1238cADs2W//X4mn3zyqRx66GFdnrvyystl0qRJ1sc2bNggI0eO6vJ5rW78y1+utT52xhlTA1bwBuuIVv5ecMEF8sUXX8qYMT933d9obrRDOw0zTzppkhnHyIiqc/Wd6RLo6tjuuusOK6RvamqygvjGxkbp06ePL+D1N0/nQNf+oQNdn1VVVRIqrCfQjearJ/AzzkD3wQcfjGuYq28k0I3fXNFSaAECXVYIAggggAACCCCAAAIIIIAAAggggAACCGSiQNIDXa3QPemkE8yWwkUxe2qF7oMPzrHCyWiuRAS6Oq6///0eE+hWWoHu6NGj5bDDDhOvt7NLF1tbW0wA+mdpa2vr1nUNsh588B9mXJusQFe3bnZ72dWrGv7tuOPmKkf7evzxx7pUefqHtjfddKPZVnVcwLA33Pt7ItB1VmaG65//59Ml0LVDeF3jp5xyWpfg2hnA/+lPF/gqo9M50LXXoIb1I0bsaoW6zrE555FAN9JVH/z+c84521TonmMq8x+U/fffL26VufYbCXTjN1e0FFqAQJcVggACCCCAAAIIIIAAAggggAACCCCAAAKZKJD0QDeVEBMd6J566mS57LJLTaXsod2GrVW348dPkMWLF3f7XCyBrjZmB3r+QdiiRQutgEy3Gdbthv23s7W3urUrX7UtrZicNOkk6596NTc3y5IlS0zw84AvXNSq4GHDtvdVka5d+7V1r7NS17+dmpoaeemlf/u2yrURNMDcd9+fyltvvSlr1qyRI444UrTq+Z577rEcBw4cKAMGbGVtC63Vm42NTdZ9Wqnrtr96X7oEuuG2gVavLbboL6+99lrAQNf21DGrk1ZfBjo7Wc+tPfHEEy1fvQLNj4atdjW0cztvDZanTJnSbc71A7qmdP4efXRut7kO9L3A3jL89tvvMIHuCKva3Lkenc/EK9AdN26C+QGMvvKPf9wT8Acsgn3Pys8vkJNPPt1YrTcVrY/G9K0tEd+LIumQHejaz8Rjm2Xn+wl0I5kN7o1FgEA3Fj2eRQABBBBAAAEEEEAAAQQQQAABBBBAAIFUFSDQDXIuZLQBhH+Frm6Pa4dkzkXQ2dkhX321IuC6iDXQtYMuZ2CrgZ1uBa2VnnPmPGydQeu/LbN9fq6Gaddff4PoM9dd9xcrBPa/NEw988xpVqhrv8//HvsMV23n8ssvswJf/8v/LF87wNS+2eeo6jNajTthwkTrzFT/y95y2G1/9fl0C3QDVegG+6ZiB/oahGog6ry0cvvss8/pEupqIHvppZdYIbn/5Txj2K4W9t8G2bbUZ50/ROCsID7yyKPCbottr1FtR9eOXW0eaHtwvSdega5Wsk+efKZ8/vkyc3b1ndLe3h72+3V+fr6cfvo0GTJkO7Pl+13mhxw+DftMqBt6PtDdfIaufT3wwEO+M3ObmxtNIP941GeVa5vRfj+NCZWHs1KAQDcrp51BI4AAAggggAACCCCAAAIIIIAAAgggkPECBLoJDnSj2Q461kDX3rbWGdjaYZwGqFdddbXMm/eUdSarvS1zoPDNDsy0nRkzZlghoDOcdQbGobZcttux360hsN6v53ZqiDh79my5+OJLrS82Zzio73366XnWxxcseNcXCAYK8vSeSPqbLoGues+YcYvlpGvplVdeNefovuerxg30HcoOdDV4nTVrllUZ6/T2r8B+5JE5VvvO+XGet2wH/Pb5tvpOZ0DrDPSdayLQOgz1HdUZ5tvnP/v/kIHz+XgFutrmTjvtIqeeOlWWL//CVIPfHjLUzcvLMxXJ060w9/77Z8r//vdJzH9Q9HSgO23amXL++ecHHcdFF10kGvJGexHoRivHc5EKEOhGKsb9CCCAAAIIIIAAAggggAACCCCAAAIIIJAOAj0a6Op5uieccJwJk0pcW+m5uQ899HBM1WL2yxIRovhX6DoD3Z/97KcydOh23ca6bNln8vbb//F9PNZA1w5nnYGtfX6uHZ7aW9vaFZV2+GZXu9qd0SBw+fKvulR0BgreggW6dl8CVVnaFZjOik+7bf9+ONGCBbp6j9v+pkugq2NSw/PPP69LpbTO7ccff2JtRe2/hbId6PqfMWyHtE7bYPOu77WNnPNj2/uHvBoG77XXnl2qvu0tvP239g72xW5vCe4M+O1161/JrW3EM9DV9tyEuokIc/Xdifhe5PqbqrlRvxcfe+wEKSjofra5VujOnftY1GeVhxtfJP3kXgTCCRDohhPi8wgggAACCCCAAAIIIIAAAggggAACCCCQjgI9GuiedtopZmvf6yJ2O++88802p7Mifs7/gUSEKMECXd12+fHHHzXbDg/o1u9Vq1aZMOU464xTvWINdLUNu7LRDmztsMyurNRzb3U7Xjtss8M35xa7zo5qpeiQIdta20f/4he/sLZPdgaDwQJdZ/hrV9s6273gggusf7W3Zw53ZqzeGyrQtdsO1990CnTtMWkArufKjhixa5dw1xmA6r12oGub2s8HmqNA23M7DXWbbuf82AGwHbDaobyuI63g1S2x7ffaa/CMM6YGPLfXubtNPHcAACAASURBVA6Cbc9st+/84QT7uXgHutpuqFA3UWGuvjcR34ti/gYZxwao0I0jJk2FFCDQZYEggAACCCCAAAIIIIAAAggggAACCCCAQCYK9Gigq1VhJ510gmgI6vbSCt0HH5wTU7WY/a5EhCihKnT33XcfE3gFqtBdJv/5zwIfQTwCXWd1pG7R+5e/XCvOSks7KLO3ZfYPgLUzGtBddNGfZddddwl4vmokgW64+Y1HoBtJf9Mx0HUaamA9ZcoUqypWL2c1bjSBrn81r/0u/7b8K67tHwzQHxw44IAD5OCDx1p92bSpttuaC7UG7Ha0kvudd97tcqu2qZd/cJ2IQFffEyjUTWSYq+9MxPcibVe/x06YcIwUFXXfBSEeZ+OG+7p2873WbRvch4AbAQJdN0rcgwACCCCAAAIIIIAAAggggAACCCCAAALpJtCjgW5PYyUiRAkV6LodbzwCXXt7XQ1s//vf92XSpEniPDtV+6JhnVY+nn32OaKVmP5VkPa2zHbI9sEHC62gzg7uIgl0taLzpZf+HZRAz3nVK5YK3Uj6m+6Brg1pb0nsrKyOJtC1t1D2n6BAbdnV3lp5e/nll5mwsMiE/6OsraH1Bwe0Lw0NDXL00eO6rblgC8BuM9TXiPNMaL0vUYGutu0Mde+7b6acdtrUuJ6Z6z/ORHwv0necdNKJ5szsK4OyXn31NeZr/x6335qivo8K3ajpeDBCAQLdCMG4HQEEEEAAAQQQQAABBBBAAAEEEEAAAQTSQoBAd/36gBMVbQDhNtAdMmRb8Xhyur1bt10uKSkxVcj/MFXIm2Ty5NOlpaUl4sWkFZwa0moY+9FHH1vbK/uHds7tdjV8c55T6jyH99hjj5dFixb5+hDonNtgWy47g+VDDz0s7DiiDXQj7W+6BLp2oBoscI010LWf9w/7daLsKm7/84+d23X7rxut9F679mtpbm6WXXbZWewtv0NNvP0evUere/0v3eZbfyBBL3vLcP19IgNdbX+XXUbIKadMkdbWNnO2bL7MmnWPOSP4o7BrOJobEhXo+p+N27dvX2tXBPu6+eYZcsstt0TT5Yieifb7aUQv4WYEjACBLssAAQQQQAABBBBAAAEEEEAAAQQQQAABBDJRgEC3BwLdPffcSx555CHJy8vvtqaef/5fctlll8n99/89pkBXG7arHrWS1nm2qf1S+zxU3YpZz8R1bmnrDEh33HFnXz91W+NZs+6zznANVKHrH/7p/Y88Msfastl/W18Ne3/1q19ZgfNJJ20O7OIR6Lrpb7oEuvbW2TpHZ545rUuwriH6OeecY9k65y6SCl07iNfq7Msvv0IefvgRax503u666w5rXfifq2wHsPa6cYbNGhDrFt325ZyLYN9A7VDZvwLXeb+9lu0zn/VziQ509R0a6p544qnmByzuT1iYq+9JVKDrNNQw98knnzBnHA/2fZhANxP/WM/uMRHoZvf8M3oEEEAAAQQQQAABBBBAAAEEEEAAAQQyVSBlAl2tJDvhhONMONX9rEc9N/ehhx6WmpqauM5DIkIUNxW6hYWFJty82gS6Bd3G88wzz8j7778fc4WuNmxXUurvneGr/VI7tLX/XbfQnT//RV+fnIHwsmXLrI+PHv1jq/pSgz5nm87gVoO+xsYmGTPm59YzdpWu/l6rgKurq6VPnz6+81+dgWC0ga62HUl/0yXQ1UrrGTNu8Z1hrOZ6lZQUW3MQaG4jCXT1eTtQ1VD3448/sbbeHjFiVyu0DxQk6zP2mcv6e2fVrP9cH3PM+LBfs3Zb/mfkOh+017LzHOhkBLphOx+nGxLxvcjZNWeYu2LFSnn99TdM1fOJcvPNt5gK3RlxGkXwZqjQTTgxL/hegECXpYAAAggggAACCCCAAAIIIIAAAggggAACmSiQMoHuaaedItdff11Q4/POO1/uu29WXOcgESGKnid69913S+/elaayb5Js3Lgx4j736lVpAuzZ31foTjZbvrZG3IY+4NzK1r/K0m7QDtOcQZn9OQ18zz77d77gUD+ugey7774r06dP6xYSa5g3fvx4X/jo3G5X+3L88cdZIaF9aTXvnDkPm3m/wfexWALdSPqbLoGuwmioe/bZZ1tbGDsvDV41mJs69cwuH4800NWH1WP//ffzzZ0911dddXWXqmD7RXblsP8PCmiwP2/eU9ZtwbaJdnbWGQA7g2H/Be/84QP7Bw8IdN19W/APc8eNO9p8bzpRzj33bBPosuWyO0XuShcBAt10mSn6iQACCCCAAAIIIIAAAggggAACCCCAAAKRCKRMoKsVunq2o1a4+l9aofvgg3Os82DjeSUi0NX+3X777ab69Efm/NspsmrVKsnJ8bjudmenVwYPHiz33HO3Vak7ffpvXT+bqBs1TOvVq0KWL/+qSwVvsPdpAPntt+sCBoH6uSFDtpVNm2p92/vGu9+R9jde70/UenL2T7dI1itRfnb7Cxa8G3D+4mVFO10FErV2AoW5680287pVN4EuqzATBQh0M3FWGRMCCCCAAAIIIIAAAggggAACCCCAAAIIpEyg2xNTkagQZc89f2SqdGdKXV2DNDQ0iMfjdT08r9cjpaXFUlFRIaefPkX++9+Frp/lxp4VSNR66tlR8fZkCCRi7fTu3UeeeOIxGTp0iHz55XJTPT9BNMzVa+rUKXLhhRfK1VdfY75X3ZPwIbLlcsKJecH3AgS6LAUEEEAAAQQQQAABBBBAAAEEEEAAAQQQyEQBAt3vAw7/yY01gNhpp53kmGOOEa2Q87gv0BWvyX41dHnsscfMOaVLMnHNZeyYEhHKZSwWA+sikIi1M3nyZLnkkousMHfixImybt13vnfqjghHHHGE2R57Xtx3Pgg0tbF+P2W5IOBWgEDXrRT3IYAAAggggAACCCCAAAIIIIAAAggggEA6CRDoJijQtReBnqkb6dXc3BzpI9yfAgKJCOVSYFh0IQkCiVg7m7exP9GcUz1Hvvtuc2VuT10Euj0ln33vJdDNvjlnxAgggAACCCCAAAIIIIAAAggggAACCGSDAIFuggPdbFhEjHGzQCJCOWyzQyDT1w6Bbnas41QYJYFuKswCfUAAAQQQQAABBBBAAAEEEEAAAQQQQACBeAsQ6BLoxntNZW17mR7KZe3EJmHgmb52CHSTsIh4hSVAoMtCQAABBBBAAAEEEEAAAQQQQAABBBBAAIFMFCDQJdDNxHXdI2PK9FCuR1Cz5KWZvnYIdLNkIafAMAl0U2AS6AICCCCAAAIIIIAAAggggAACCCCAAAIIxF2AQJdAN+6LKlsbzPRQLlvnNRnjDrV2qnr3kY0bqsXrTUZPEvOO3n16S011TWIap1UEHAIEuiwHBBBAAAEEEEAAAQQQQAABBBBAAAEEEMhEgagD3UwPGTJhfJm4YFN5TKFCK9ZTKs9cz/ct1NqprKyUuvo66Wjv6PmORtGD3Nw8KSsvk00bN0bxNI8gEJkAgW5kXtyNAAIIIIAAAggggAACCCCAAAIIIIAAAukhEHWgm+khQ7qPLz2WX+b0MlxoxXrKnLmO90jCrZ3S0lLp6OiQ5ubmeL86Ke0VFRdLjidHGhsbkvI+XpLdAgS62T3/jB4BBBBAAAEEEEAAAQQQQAABBBBAAIFMFYg60M30kCHdx5epCzZVxxUutGI9perM9Xy/wq2d/Px8KS0rNdsup2eFa2VVldTX1Ut7e1vPY9ODjBcg0M34KWaACCCAAAIIIIAAAggggAACCCCAAAIIZKVA1IFupocM6T6+rFzNPTjocKEV66kHJyfFXx1u7Wj3K3r1khZTodvS0pLio+navaKiYikoKJDa2k1p1W86m74CBLrpO3f0HAEEEEAAAQQQQAABBBBAAAEEEEAAAQSCC0Qd6GZDyJCuIQoLPrkCbkMr1lNy5yUd3uZ27eTm5kh5RS+pM8FoR0dnOgxN8vL07Nxyc3buJvF606PPaQFLJ0MKEOiyQBBAAAEEEEAAAQQQQAABBBBAAAEEEMheAf176TFjDpRicxRgpFdjY5O89tpr0taWmrtNxhToZnrIkI7ji3SBcn9sApGEVqyn2Kwz7elI1o6OXc/aLa8ol4b6+pT9A8WeI63KLSktMZW5ddJpzv/lQiBZAgS6yZLmPQgggAACCCCAAAIIIIAAAggggAACCKSWwBZb9JOzzjpLBg4cEHXH1qxZI7fd9jdZt+67qNtI1IMxBbrZEDKkU4iSqEVCu4EFogmtWE+sJhWIZu1s/n6bY87TLZecnBxpNdsvt7a2mYrddlMB6+1RWI/HI7l5uVKQXyiFRQXmvNwOK3ju7KQyt0cnJgtfTqCbhZPOkBFAAAEEEEAAAQQQQAABBBBAAAEEsl5AC6guv/wy2WqrLWXZss/l008/DWkyfPhw2XHH4bJkyVJZunSpde/OO+8sw4ZtL2vWrJXLLrvc/N17ahUrxRzoZkPIkKohStZ/hSYZIF6hFespyROXAq+L19qxh5KXly8FhQWSn59nwt1cK+DtyUuDW/3Drd1sRdHS0mqFzFwI9IRAMgPd6667Vrbccsugw1y2bJk8//wLsnDhwp6gSKl3nnXWdNlzzz1d9Wnu3EeN279c3Zvsm+xxvP/+++YnNW/3vd5eC/4fT3b/wr0vXfqp4zj00ENk4sQJviHNmHGb66+lf/zjft9zqbyews2X0+Gbb76R88+/wM0j3IMAAggggAACCCCAAAIIIIBAVgqMGrWH/Pa30+Wzz5bJX/5yXViDI488QvTXvHlPW7/s64IL/mSFujNm3CqLF38Ytp1k3hCXQNfucKaHDKk2vmQuFN4lVrVhPEMr1lP2rKp4r53skWOkCEQmkMxAd8GCt2X77bcL28FXX31Nrr32OtdhVNgG0/AGDdgOO+xQVz2//PIruoSlrh5K0k32OJ577nk5+eRTfW+114L/x5PULdevSZd+6oA0PL/00kt8Y7v33vtcBZr+z8VrPY0aNUr23fcnstGcC//AAw+6No/1Rns8n3/+hey99z6xNicnnXSiVFb2krfe+k9Wf0+KGZIGEEAAAQQQQAABBBBAAAEEUk7gkEMOlvHjj7EKLB5//PGw/QsW6E6YMF4OPnisPProY/LCC/PDtpPMG+Ia6Caz47wLAQQQQAABBBBwCqRioKv9i1cYk66zbQehGzZskLff/k/IYaRyRSWBbvJWoH8wu3btWtlttz3CduC5556R0aN/7LsvXoFuvIPVsAP5/oZ4v9cO9ePl4nYc3IcAAggggAACCCCAAAIIIIBAogXsgPaf/5wnTz/9TNjXBQt0jzzySFO5+yt56ql/yjPPPBu2nWTeQKCbTG3ehQACCCCAAAIJE+ipQPedd941P7H3QpdxjRs3TkaM2NX3MbcVhgnD6cGG7SA03YNtAt3kLSJnoNvU1CTFxcVy7rl/CFkdq1W08+Y9ad2rAfCAAQPM2TnxqfiOd7DqVjLe7yXQdSvPfQgggAACCCCAAAIIIIAAAukmECygDTaO4IFu4K2YU8GDQDcVZoE+IIAAAggggEDMAj0V6AbbavfVV1/2hbqJDjP1zNHtthua9C1h3UxaPAJde3z6vki2i432OXtrWucWu5EEuhrE6RXJFr32tr6xPPfFF18GPYPY7ZbL2o+ePvvZGejqD0xo1a3+87DDfhV0yekZwZMnnyYfffSxFerqlujhAl17nrVR57nI/i+JJFiNdh6da9Xui5v3RvK+SAJdp00kX3NuvidwDwIIIIAAAggggAACCCCAAALxFiDQjbco7SGAAAIIIIAAAgkSSLVA96KLLpRzzjnbGq1WGQ4atK31e//tZPv27d9NxHlGrzOUcp5Hq0HySy+9LNOnT+tynq9ubfyPf8yWq666JkHSkTUbS6CrVieccEK384o13Lv99juChpfRPqdzdvLJk6Sqqso3SPW84oqr5KCDfm6dBRzqDF2dj0suuajb86HmQ4Mz/znUl4ebRw3yrrzy8i5bDId6LlSga4eh+nwqVJM7v0Z0/et5us6voUAr8MMPP7CqcrX/+++/f8hAV8c7btxRXeZJ23/llVdlxozbfIG2/9eq873+6yDaeQz0nPZlzpyHZfXq1dbYA/1ASCTvC3Xmt//3H/16HTPmQCsUd176NXfxxZf2eNgf2Xcf7kYAAQQQQAABBBBAAAEEEMgWAQLdbJlpxokAAggggAACaS+QaoFusOA2XoHuq6++JiNH7t4llHJOYrjqxGRNeLSBrjMQ13Dzs8+WSUlJiRXUadikodfUqb/pFupG+5wz1NT3VVfXWEQDBw6w/rlgwTty4IEHBA10NfDabbcR1r1r1qy1/tmnT2/f/AQKSv23Fv7ww49k/fr1ssceI61wUq9bbpnRLZzXas6ZM+/0Obh5X7BAV4PBa665ymorFcJcHbPTRQPHZcuWWI7B+qces2fPsrx++ctD5I47/hY00H3ssbnWPOqlWzMvXfqZ+WGLQb4fGnCe12uHpiUlxdZ86JqzrV9//XU5//wLrHainUenvbNte91oaKw/ROAf6Eb6Ph2zjlHXsr0ldWNjk9X3vffex/etwBn8qsMHHyySvn37Wuvafs7NWca+BvkNAggggAACCCCAAAIIIIAAAkkSINBNEjSvQQABBBBAAAEEYhVItUDXGRw5A5l4BboaAOmlQeMbb7wh++23nwlnRvsq63Tr2QMP/HmsrDE/H02g6zwPde7cR00F61m+fujnZs261wrY/IOuaJ9zBoIalI8fPzHg+/SDwSp09XMagp1yyuQuVYzPPfeMVUUbKIC2g8pA1Y+3336bTJw4warUHTZsxy7zYAdvgd5nP6cPTJp0ii/wDhTopmKYq/32D3Ttr6VgW5fbn7e3ZQ62tbDdrs7F9dff0GWbZaeF/xyH2/o42nm0n9NxTZv224DrRj38xx3t+0JtuWz/QEMgG/26mjt3TshQPeZvFDSAAAIIIIAAAggggAACCCCAQAwCBLox4PEoAggggAACCCCQTIFUCXQ1HNQgTivr7MsZEMUr0NW2zz33D/LAAw/63uOsMtUPBtrOOZlzou+yA10NJt9++z9BX//+++/7Ajb7mWChtDOAdRpE+1y4wND5vmCBrgZhRx45LuCWtPZ2wIHC4okTx5uw7LFuz2mI9uKL/7K8nPPoDCWDvU/Pb25sbJQXXnjBZ+of6KZqmKvj9Q90nf7OkNpeTHbAaVelr1//rfUp/yp128D/hwTsdpyhpr1FurM/wQJlnatI59GuJA+1bpyBr7OSNpr36TjCnaGra2KbbQYH3K7d/hoJdmZ4sr+v8D4EEEAAAQQQQAABBBBAAAEEnAIEuqwHBBBAAAEEEEAgTQR6KtANx+NfRRmvQDdYuGSHWdqvVAp0wzk5gyI7AA203bDdTqBwLtbnQm05HGzLYvvjoSqi7arZYHMWyMYZ6DpDa/9q1HCu/l722cupts2ycxz+ga5+znb2D8XtYNRZyRwo0HV66rbMCxcuDEhnP+s0D1ehG2oOYpnHaKvb7R8E8P+Bj3CBbqhx2OsuVSr/3a577kMAAQQQQAABBBBAAAEEEMgOAQLd7JhnRokAAggggAACGSCQioFuoK1UszXQjaRC1w7VNAy3z/r0X6LOc0ZPPvlU69OxPhfq3GE7XAtWoRuqcjFQQOkcj1ZG6nbZZWVlMnz4cOtTelawfTn7FSxYDvcl7Aye7XOI7S2Kwz2b7M8H8rKrZ/23oNZq5BEjdu2yFXagQNfZpn5dBrvsc2ad5m4D3XjPY7j3RvI+Ha+bQFcD6EMPPdhs8z3MOj+3T58+Xc6CjuSHEpK9bngfAggggAACCCCAAAIIIIBA9goQ6Gbv3DNyBBBAAAEEEEgzgZ4KdDXgWLp0qaWlAYiel6pXsK1UszXQjSQIclYZh1uGziA11udCVTQnItDVQO6Pf/yDdR6w89K1o14aVOoVKNANFT4HMrPDPP/PRdpOuPmIx+eDBeCrVn1lnRFtV247q1+dWzGHC3Td9DGSQDdR8xgs0I3mfTrmcIGuVuE6z+G2nfQHK/QKdG61G0vuQQABBBBAAAEEEEAAAQQQQCDRAgS6iRamfQQQQAABBBBAIE4CPRXo+ldm2ude6rACVUAS6IafcDuQ0y2QV69eHfKBL774Up5/fvNZs7E+l8wKXQ0j58170gooNTD7v/97U5YsWSJvvfUf33bAgYLJWCt0NSy+8MKL5NhjJ1o/fBDqDNfwM5WYO4IFuv7b/tpbWftvAxwq0NXxXn/9DWE77pyHUJWyiZzHQO+N9n064FCBrv0DC3qfbmu9ePFiWbFipe+M7mi2fw6LzA0IIIAAAggggAACCCCAAAIIxEkgXoHur3/9azniiMPlySefkmeffS5OvYtPM54+fbbwxqcpWkEAAQQQQAABBHpOIFUCXXtrWFvCWTmoH3NWFeq/B6oKtc+C1c87Q0Zn6JJuZ+hGUqHr5izcQCst1ueSeYaucwvhiROPD3ima6BgMh5n6OoW1boOZ82616q61EB5t9326LkvXr83Bwt0Dz30EJk9e5YVQg8atK0voPQ/azmWM3QDIYQKdBM5j4FC1Gjfp+MKFejaP4gyd+6jMn36Wd0YCHRT5suDjiCAAAIIIIAAAggggAACCAQQ0L8zOOaYo+Vf/5ovjz32WFijYAHwxIkTZOzYX8qjjz4mL7wwP2w7ybzBs8W22xHoJlOcdyGAAAIIIIBAQgQqCwutdqvXr09I+85GndvXBjo71fl5/+pBbce5NbB/gOJfwZuNga5/JWagCdXqzK+//lquuuoa36djfS5Y6GwHifqiYGfo6uf8w3u7Y3ZY5nw2XEDmXAeBtv8NVVn73HPPWGefPvTQQ3Lbbbdb3QhU2atb915zzVVWlXAqnacb6sxhexwavk+efJr4n6nr/Pryr7i2A/9goaWG3GeffZa89NLLvspUbS9UoBvtPF500YVyzjlnh6yQtteNc11G+z7nGghUiR4oBA/0PS+SH8xI+DdiXoAAAggggAACCCCAAAIIIIDA9wKjRu0hv/3tdNGd3K6++oe/KwoGFCzQveiiP8vQoUPk1ltvk0WLFqeUL4FuSk0HnUEAAQQQQACBaAVSKdANFco6gxV7rLrFaWNjo+8MXg2pqqqqrE9nY6CrAerMmXdaQWOgwNxZBe0MUWN5Tis/9fIPNp2VrPr5UIGuVrqecsrkLtW2Gq7aWxtPnfob3/bQ9hrRYNb5cX2HjuMvf7nGd7aufwBnh5qB3hfMJthWzXawqO8NVaEc7ddlNM+FCnSdFar6NaJfO+PHT+zymmDhpDNEnTnz7i4/DLB5bjfPlX9I7JyrI48c12V+Y5lHO7ANtW60X84QNZb3hdqu2/5cIE97a2v/vkQztzyDAAIIIIAAAggggAACCCCAQCIE8vLy5IorLpctt+wva9asNUcJfShtba1BXzV8+HDZccfh5virpbJ06VLJzy+QkSN3N38Xs5UpIPhGLrnkUuno6EhEV6Nuk0A3ajoeRAABBBBAAIFUEkilQFddnFW6/lVtWhl58803BuTTe/U/JA877FDr89kY6Oq4ncGkBmyffbbMCr2HD9/BF3SGC3tjfa6kpES23347ax4WLHhHDjzwgKCBrgZhe+892rpX51D7usMOw3zBfKCw1K4Y1VD3ww8/MpXb62Xw4MEyYsSuVhv2u/0DXWdlrT5rv2/QoK19Nv7vCxXm2ZXN9vm6DzzwYI9+aYcKdLVjq1Z9ZYX9egWqig5VbWqHtvqsBqlLl34mOs/OuQpUwWqHr7qmqqtr5PXXX5fzz7/A6kO859Hui65v/T7g//0j2vc5v6a0Tb323nsf65/OYF9dPvhgkeWi/2NWg3N7PVKh26NfGrwcAQQQQAABBBBAAAEEEEAghICGub/73e+sUDfaa82aNaY692/y3XffRdtEwp4j0E0YLQ0jgAACCCCAQDIFUi3Q9Q9t/UMiDa2mTDndF8CplVaHXnzxpda2r9ke6KqHGk6fPs0XbNrrSUO1f/xjdrcKS/vz0T6nodbJJ0/yhbDanr7riiuukoMO+rk1J8EqdPXjulXvJZdc1O35YH3V6t8bb7zBCnCdl27T/Yc//FFefPFf1ocDBYxaxas2WlHqvILZhAp09Xn78/p8sDN9k/X1HC7QtQPocOdIB3LTMQSaZ/24tnf77Xd02W452JpynjscyzwGWqsarM+Z87CsXr1aLr30km6Bbizv0y2bx4w50BeIO88fVpepU8/wfU7Hrn3RauZhw4YFDJeTtSZ4DwIIIIAAAggggAACCCCAAAJuBDwej+y0007mf8du7+Z23z1er1eWLfvcVOwuEf19Kl4Euqk4K/QJAQQQQAABBCIWSGagG3HnQjyg4cy++/7Ed9ZpPNvOlLY0vNxuu6HWcDZu3BQwcAs01mif05CtsrJXRO9yvl8DyUj66uynnvXy/PObg1w3l71+Inmfm3az4R57nnWsbt1Dfb3GMo/OZ+1zj8PNQSzv07FXV1cHXGv2+tX3u+1LuL7yeQQQQAABBBBAAAEEEEAAAQQQiE2AQDc2P55GAAEEEEAAgRQRSNdAN0X46AYCCCCAAAIIIIAAAggggAACCCCAAAIIpKgAgW6KTgzdQgABBBBAAIHIBAh0I/PibgQQQAABBBBAAAEEEEAAAQQQQAABBBBIDwEC3fSYJ3qJAAIIIIAAAmEECHRZIggggAACCCCAAAIIIIAAAggggAACCCCQiQIEupk4q4wJAQQQQACBLBQg0M3CSWfICCCAAAIIIIAAAggggAACCCCAAAIIZIEAgW4WTDJDRAABBBBAIBsECHSzYZYZIwIIIIAAAggggAACCCCAAAIIIIAAAtknQKCbfXPOiBFAAAEEEMhIAQLdjJxWBoUAAggggAACCCCAAAIIIIAAAggggEDWCxDoZv0SAAABBBBAAIHMECDQzYx5ZBQIIIAAAggggAACCCCAAAIIIIAAGglZMwAAIABJREFUAggg0FWAQJcVgQACCCCAAAIZIUCgmxHTyCAQQAABBBBAAAEEEEAAAQQQQAABBBBAwE+AQJclgQACCCCAAAIZIUCgmxHTyCAQQAABBBBAAAEEEEAAAQQQQAABBBBAgECXNYAAAggggAACmShAoJuJs8qYEEAAAQQQQAABBBBAAAEEEEAAAQQQQIAKXdYAAggggAACCGSEAIFuRkwjg0AAAQQQQAABBBBAAAEEEEAAAQQQQAABPwECXZYEAggggAACCGSEAIFuRkwjg0AAAQQQQAABBBBAAAEEEEAAAQQQQAABAl3WAAIIIIAAAghkogCBbibOKmNCAAEEEEAAAQQQQAABBBBAAAEEEEAAgdgrdPNypXzkCCn/0R6SX9krrqJtGzdJ7XsLpX7xxyIdHXFtm8YQQAABBBBAILMECHQzaz4ZDQIIIIAAAggggAACCCCAAAIIIIAAAghsFogp0M0tL5ctJvxa2qprpG7hYmlZuTqurkXbDJKyUSMlzwTF6x59UjobGuPaPo0hgAACCCCAQOYIEOhmzlwyEgQQQAABBBBAAAEEEEAAAQQQQAABBBD4QSD6QNfjkS0nHSsNnyyVuvcXJtS0176jpXDw1rLu4ScS+h4az1wBb0e7WL9yOkWsX+anGcwajtfl1YZMex7JM//IEY83V6Qzfu3Hq5+0gwACCGSyAIFuJs8uY0MAAQQQQAABBBBAAAEEEEAAAQQQQCB7BaIOdMv22E0KB20t1U8/nxQ9rQSu/+hTafzfZ0l5Hy/JDAFvZ6d0tjSJp9ArXs1X28yvDhO/6g7eVgobx0vbNzmu5JrfFOVKTkGReFrN701+zIUAAgggkHgBAt3EG/MGBBBAAAEEEEAAAQQQQAABBBBAAAEEEEi+QNSB7pannijrn3tB2tet79brTnPebVtLs7S3tljVinmFhZJXUCg5OaYsMsqraNvBUjF6T1k398koW+CxbBPwmnXY2dokUmiy2xaveNqTLJDvkZzKku9DXap1k6zP6xBAIAsFCHSzcNIZMgIIIIAAAggggAACCCCAAAIIIIAAAlkgEHWgO+gPv5WVN/7NbDHb9WptapL6jdVS2douQ3LypcbbIas626QjL09Kq/pIYUlpVFvdeooKZeAZp8jqW2dmwbQwxFgFrMrcZnPmcrFpqdGU4vZQlazXVOvm9SkRaTY/zBDviuBYkXgeAQQQyDABAt0Mm1CGgwACCCCAAAIIIIAAAggggAACCCCAAAKWQNSB7jbnnyMrrrulC2N7a6vU16yXMwYPlWknnCRFW/aXz596Rprf/0D+WVct/2xrkJaKXlJcXiE5ubo3bWRXoHe6bWHXnXeWUSNHWrfPnjPH7WMpf99RvzpC9ththJSUlEhjY6N88OFH8tQzT6dsvw/cbz8ZtPXWUldXn9B+dhgLT1GnVZkrkVbmlnikYESB5G6dK7lVOdKxoVM6VrVL60etIqbgN+Kr2LRTbkLdaJ6N+GU8gAACCGSvAIFu9s49I0cAAQQQQAABBBBAAAEEEEAAAQQQQCCTBeIa6DZu2ijHHLy7nDt9klQ3lkldU7688MILMuLF/5MxG5tkZkON/KO1NupQN5ZAd9Lxx8s506ZZcznqpz9N+znVIPeMU0+W/lv07zaWjZs2yayHHkrJ4PqvV18tY/bfX1asXClHmTlJxOXtaJcOs9Wyp9DUjzdEUBZrgtziQ4ql8MeF4snxiLfZBLnfdUhuv1wTDueI15y927KgRZr+ZSp/WyLreU6/YrP1svkhhk62Xo5MjrsRQAAB9wIEuu6tuBMBBBBAAAEEEEAAAQQQQAABBBBAAAEE0kcgroFuw8YambB3rfxpfIdsve0u0jb0Grnvkf9JyQOPyYHraqXInGl6S9OGqENdAt3NC+u3U8+Q006a5FtlGo7a1zaDB/t+P/eJJ+S6m29OqdWYjEC3s7lZOnPbxNNhht7mbvg5/XOl7PQyySnLkaYXm6R1Uat4TWWufXlMpW7hnoVS9PMi6ajplPq/14nX/NP1VZovOcVF4okwCHbdPjcigAACCEiyAt0PP/4k7bR323WXtOszHUYAAQQQQAABBBBAAAEEEEAAAQQQQACBzQJxDXSbG+qlT8EGmX5YqwzuZ44M3fIk+WhpsYx+8X3Za32t9ULv1s1yT3G1zPyyRWo7+0hRWbnrM3UJdEV0y+KrLrlEiouK5Nt138r1t8yQV994w7ee9fPnnXO2VbnbZILNi664osvne3rhJyPQ7WhoECkxlbkuz871lHmk4pwK8Zqtmevvr5POb4MHtboNc9kpZdJpdl+um7HJfaVuvkdye5eZPvX0DPB+BBBAIHMFCHSDzy2Bbuaue0aGAAIIIIAAAggggAACCCCAAAIIIJD5AnENdL2dpnLRVOk215vqRfP73qVlMr28nxzbkSd9zHa1euVv3yRF46vltv81y+3P5Umtt68UlpS6ku6JQFcD0gN/9jPrjFq99JzaR596Sj7+9NMufT7/3HOlX9++8uEnn1hbHdv/rjd9t359yEpZ3Q56t102V87Y7Wtbh40da33s//35z7533XfHHTJyt92ssHbq737XrR96o54XPPPWW63Qd9GHH8pp3281rWNxtqnvHf2jH1ltOd+hz+t92gf7em7+/G7BsN1ve3yBxuHv5B/ounnG1eJw3NReVyc5FR7p3NTp6ocFSk8tk7whZi3eXNulKjfYe3O2ypXys8qldWGrND3uLqE1p/lK3lbmhxfq2XI50vnkfgQQQMCtAIFucCkCXberiPsQQAABBBBAAAEEEEAAAQQQQAABBBBIPYG4Brr28FqbmqSxdqMMNSHu5UW9Zf+8Yt/Ivx1ZJv3HrxFP7+/kN7eJ/GtxhZT0qpTcvPywOskOdG+/8Ub5yejR3fqlAejTzz3XJaR9yoS4ut3xK6+/LtsNGWL93nlpNe0h447u1pYd0Do/oWfgPvn0PN+2ys4zf9966SUrqNX3OENY/4Z1W+ZtB2/TJUx2niOs2zFPPPqH/tjv0CD6iMMOs97hf/3nnXdk+h/+4PuwM5xd8N57XdrTm9TprzNulaeeeTrgM18sX26dp+u84lFV3GECXU+FOfO2NvyWyLmDc6XirF7S8Gi9tL5nym5DXHm75ktndad0ft0hhWOKpOSQEtl4zUZXIbA2mzegXLx1YZc5NyCAAAIIRClgB7pmA5IoW+AxBBBAAAEEEEAAAQQQQAABBBDoSYHq9d/15Ot5NwIIIJCyAgkJdHW0uv3yoLoGuSS/QvbP31zdqtenVdtI1aRvZPhey+Rf/2mVKx/OleW1/VxV6SYz0LXDSu2zBpnv/Pe/Vv8P+cVBMnzYDt0qZO1AVwPJlpYWefPtt6XBVPOO3G2Edb9ez/7rX3LJ1Vf7LJyBsVbSLly8SEpNtfIBP/upFBYWSWWvXta9dtjqDGSvvO76LkGpmxXmfF77uW7dOtFQVS8Nh52fX7rsM3lrwQKprau3qoft4PUWUyGsFch62UYaQGtfbaftTaD90332sT7mX0lsP6Mf12vR4sXyv8+Wyk47DPeF5/ru4049zc2QAt4TSaBbdHixFP20SDZeskEkRJ5bMLpQSo8plabnG6T51RbRM3UrL6yUhnkN0vqmu4NxCXSjnlIeRAABBFwJJKtC11VnuAkBBBBAAAEEEEAAAQQQQAABBCIW0L8Xb2nZ/HfHXAgggAACPwgkLNBtM9906zdUy9U55XJ8YYXkeTZXy2ig+9hB+8sh+70i+5a8JdNmtMuziyqluLyX5OTmhpybZAa69nbE1TU1XUJY7aBdJXvfA7PlbzPvtvrsDHT9t0K2P7di5Uo5ymxzrJduazz77s3P+lfb6uduveGGkIGus2rX7YJ2BraBKnztLZl7V1X5tmm22374/vusYNpZpesMvf3Daue2z8GecYbD+h5ne9GMz+5rJIFu6cmlklOVK3W3bD7jWUwxuafIVPdu+KG6t+DHBVI6vkxaFjZLwyMN4vFuXssVl/SS9v+1SeNj7rZdJtB1u1K5DwEEEIhOgEA3OjeeQgABBBBAAAEEEEAAAQQQQCBVBAh0U2Um6AcCCKSaQMICXR1oXc16+UVzh/y+qEp2zCu0xr6uqJf86WfT5OOdtpFJ/f4pK996Wf79xnfS0lkkeQWb7wl2JTPQDdYHZ9jqDEXt0NZ/W2Jtx//cWP2Ybol82kmTrNdMOuOMbmfhXmEqZg8/5BDr84EqdAMFntqHQJcdIjsD3UDvDGVvB7rOUNpZbbvvQQd1e9yuQHZuN20/E2gLamf/khXolk0pN3shi9TfuXkv5KKDi6Ro3yKpm1knHas7JH+vAimbYMLcRS3SMKfeF+bqvWXTzRbKzV5puLfe1dc1ga4rJm5CAAEEohYg0I2ajgcRQAABBBBAAAEEEEAAAQQQSAkBAt2UmAY6gQACKSiQ0EDXrtI9wVso04sqZVDu5nNyH97hILl1j2Nkea+BIh/Pk9z37pdyqZWC4h+2Zg5klexAV8Pbw8aOlX59+1rn4urlPBs3UKAbqPI1UKAbKtjU9wQKN8MFngvffDPgEnMbCNsP2+fvDhywlRSZLS622GIL35m6gQJd58ecHXCG1nYfAlnYz4Qbn9uvn0gqdEtOKJXcAXlSd8Mmq3lPqUfKf1NuncHb8mazFP+iRFo+MGHuw13DXL234k+mQndluzTOaXDVNQJdV0zchAACCEQtQKAbNR0PIoAAAggggAACCCCAAAIIIJASAgS6KTENdAIBBFJQIKGBro63qb5OGjdtkMt+5pGjWntJb2+utG6skEcqfykzd/u1LK9eLrlv3y5lrd+EPUc3mYHuUb86Qv7f2b/zBZk6Fj0rVitL+2/R39oOOR6BbrAwNFC4qVsi33jNNdYy8t+u2H9tRRMIa4B9w1VXWuOzL/usXf13DbMjCXQD9SHVAt2iXxZZoe2GS80Zuo1ea9ga6padWS55W+YFDXM9ZR6pvLRKGl9olJaX3Z3pQKCbgt8B6RICCGSUAIFuRk0ng0EAAQQQQAABBBBAAAEEEMhCAQLdLJx0howAAq4EEhboanVuU12ttDY1yfiftsu2JiPcbiuRFZ/lykcL8uXAljL5SXFveTG3QO6tXysbSvOlqLQsZKeTGeja5+QuXfaZPPrkP+WpZ5729c3eXjmWQNfeUlkD00DbFZ9/7rky8eijrXc6tx9+5bnnrDB50Ycfdjvn1okXaLvjcBWw9rbKGlo/N3++73xgbTeaKuNAY0y1QDdnQI70OrdSGp+ql5a3W32EGuoWjCqQZlOla5+Z6/QtPKBQSg4rlU03bJTOdT+ctxtqARPouvqexE0IIIBA1AIEulHT8SACCCCAAAIIIIAAAggggAACKSFAoJsS00AnEEAgBQUSEuh2dnRIXfV38uu9GmS/XUV+vKNIda05c7RYZIM5bvShV0QaFhfJMaZidzdztu5lTTUyv8AjJb0qJS+/IChTsgJdrc69+PzzrH4EOmvWDntjCXSd7whUbWuHxtoHZ6BrB6L68Suvu75L0GzDaaXtzFtvtaqLnX0MF+ja47rvgdldwlxtN9QZuvr5P1x4obz6xhtd5s4eg4bix516mvW5VAt0tU+lJ5VJ/g55UnvLJums3lylG+rK2TJXys8ql7YP26RxrrvtlrU9At1wsnweAQQQiE2AQDc2P55GAAEEEEAAAQQQQAABBBBAoKcFCHR7egZ4PwIIpKpAQgLd9tZWqa9ZL63NTcHHnVck5XudLMcVlEvBinfkmXWfhK3STVagq4Ho7LvvtvruH7baVaf6uVgCXX3eDjy1SvdpU3l73c03i26rfNKxx8rI3Xbz2TkDXee2yPrcy6++Ko8+9ZR8/Omn1v16bu24I460qnj181N/9zvf58IFuv968glru2X/c4Cd4XOgLZf1vVrV+8eLLva9y1lhPPeJJ6yx6ZWMQLe9rk485SLeWq94PJ7wX3slHlOlWyHedpH6WXXS+W3witvcQblSdnKZeNtEameYc3fd7bYsnV6vFeh66l30J3yPuQMBBBBAIIAAgS7LAgEEEEAAAQQQQAABBBBAAIH0FiDQTe/5o/cIIJA4gYQEut7OTmlva5POzo6gPW822zH3772jlI6cKDVb7yE1r90kuavfDFmlG69ANxSnHZ46w9aln30mNRs2yC477SgVFb2kpaUl5jN0tQ8a3l58/vlWW87LDmoPP+QQ68POQFf/XQPWs86c2u05/zb+OuPWLhW84QJdZ/WvVtWuWfu1DBywlQwftoPv7OBAga6GufoHbWFhoaxbt06Kigp95/D6nxGcjEC3o8FUzRabStsm88vdbsiS099U3Z5eZp2f2/TvJmn9oFW8G3+o1s3pY7Zg3rNQisYUS0d1pzTcW+uqmtc3J/k5ktu71JzTm7gvZlpGAAEEsl2AQDfbVwDjRwABBBBAAAEEEEAAAQQQSHcBAt10n0H6jwACiRJISKDrprN6tm7bxmo5Ma9S+ux0qHzasE7eXfG21JcWBD1LN5mBrlbCXnnRRbLN4MG+4WzctEluu2umTDruWOvjsVboasP6nlNOOEG2GzLEek+zOXtYz+wtLy+Tc6ZNsz7mH+g6n/vJ6NHW1sr2pWGwBtAPPPJIty2QwwW62oZ99q6zPa0e7te3r4zZf38JFOjqx2Y//Ei3kFnP+b3pb3/zVe1qm8kIdDuNQWdOmzn71rzwh2Nxwy9LU6lbfGixFO5VKJ4cj3Q2dUrn+g7J7ZcrnqIcU8HrNefsmrOhXzSV5y3hm3Pe4SnJE09JkXhaqNCNTI67EUAAAfcCBLrurbgTAQQQQAABBBBAAAEEEEAAgVQUINBNxVmhTwggkAoCPRbo6uDrzLbM2zeabYELKmTv/GK5wpyl+2KIs3RjCXSjxdYq2kFbb209PnvOnGibifg5N+Gr3ajdx7q6+oBn6kb6cg2ZR40caT22cNGiLoGss61A4axWD2sYHeq5SPsT6f3ejnbpaGkyIawJTxvCn4nr376nzFTj7pYvuQNMCNsrRzo3morzle3S9rFJh0PsIh6qnzlbmAOkW017wYvWIx0m9yOAAAII+AkQ6LIkEEAAAQQQQAABBBBAAAEEEEhvAQLd9J4/eo8AAokT6NFAt8Nsy1y/oVpyGxvlwPwSqfN2ygedreLp0zdglW5PBLqJoxfR0PaQXxxkVeQ+9czTXV513x13WOfo6nbGh4w7OpHdiLrtUNW2UTcapwc7zJryFHWKt9UEuua82x69inIlt8IEuk1U5/boPPByBBDIeAEC3YyfYgaIAAIIIIAAAggggAACCCCQ4QIEuhk+wQwPAQSiFog60B107jRZ9bd7TFgWe1qm2y831ZszSTs6pLC4RApLyyQ3L6/LoDwFBbL1tNNl1S13RD3YVHvQeU7vy6++Kp8vXy4Vprp11O4jrTBXr7lPPCHX3XxzqnXd6k8qB7pifjigXUPdEtPRRvdn6cYdOs9jzs41nWjOEYm8WDju3aFBBBBAIJMFCHQzeXYZGwIIIIAAAggggAACCCCAQDYIEOhmwywzRgQQiEYg6kB3y0nHSc3Lr0nrmq+jeW/EzxQO2loq999Hvn3w0YifTdUHAp3T6+yr84zeVBxDSge6BszbYc7AbW0UKTS/b/Ymf7vjfI/kVJaIp9VU5nZSnZuKa5g+IYBAZgkQ6GbWfDIaBBBAAAEEEEAAAQQQQACB7BMg0M2+OWfECCDgTiDqQLds9xFSNHRbWf/UM+7eFONdW4z/tTR8ukQaPlkSY0up97ieO7vHbiOkpETLSUW+W79enps/P+jZtakygnif3ZuQcXV2Skdrs3gKzPbLmqlqQXl75+aANd4Vs9p+rv4yvzHbLOfkF4qnzVTmmtdxIYAAAggkXoBAN/HGvAEBBBBAAAEEEEAAAQQQQACBRAoQ6CZSl7YRQCCdBaIOdMXjkS1PPlYaP/1Mat/9b0INKvf/qRQO3FK+mfO4UOeYUOqMbdzb0W52Ye4Qb06HiMckrCZn9Zg1HK9rczbsMW3miScnx7zCJLtU5caLl3YQQAABVwIEuq6YuAkBBBBAAAEEEEAAAQQQQACBlBUg0E3ZqaFjCCDQwwLRB7qm47kV5dJ/wjhpNRWlte9/IK2r18Z1OMXDhkrZ7rtJXnmpfPvok9LZ0BTX9mkMAQQQQAABBDJHgEA3c+aSkSCAAAIIIIAAAggggAACCGSnAIFuds47o0YAgfACMQW62rwnN1fK9thdKn68hwley8O/MYI72qo3mKB4odR/+ImpdmTf2gjouBUBBBBAAIGsEyDQzbopZ8AIIIAAAggggAACCCCAAAIZJkCgm2ETynAQQCBuAjEHupH2pLKwSDa2NEf6GPcjgAACCCCAAAIhBQh0WSAIIIAAAggggAACCCCAAAIIpLcAgW56zx+9RwCBxAkQ6CbOlpYRQAABBBBAIIkCBLpJxOZVCCCAAAIIIIAAAggggAACCCRAgEA3Aag0iQACGSFAoJsR08ggEEAAAQQQQIBAlzWAAAIIIIAAAggggAACCCCAQHoLEOim9/zRewQQSJwAgW7ibGkZAQQQQAABBJIoQKCbRGxehQACCCCAAAIIIIAAAggggEACBAh0E4BKkwggkBECBLoZMY0MAgEEEEAAAQQIdFkDCCCAAAIIIIAAAggggAACCKS3AIFues8fvUcAgcQJEOgmzpaWEUAAAQQQQCCJAgS6ScTmVQgggAACCCCAAAIIIIAAAggkQIBANwGoNIkAAhkhQKCbEdPIIBBAAAEEEECAQJc1gAACCCCAAAIIIIAAAggggEB6CxDopvf80XsEEEicAIFu4mxpGQEEEEAAAQSSKECgm0RsXoUAAggggAACCCCAAAIIIIBAAgQIdBOASpMIIJARAgS6GTGNDAIBBBBAAAEECHRZAwgggAACCCCAAAIIIIAAAgiktwCBbnrPH71HAIHECRDoJs6WlhFAAAEEEEAgiQIEuknE5lUIIIAAAggggAACCCCAAAIIJECAQDcBqDSJAAIZIUCgmxHTyCAQQAABBBBAgECXNYAAAggggAACCCCAAAIIIIBAegsQ6Kb3/NF7BBBInACBbuJsaRkBBBBAAAEEkihAoJtEbF6FAAIIIIAAAggggAACCCCAQAIEeiLQ7b/1UCkoLJbWlibzq1k2fLe228iq+g0w9xS5GnGNeb7NtOO8ynpVSWl5lfWhQJ+378037+ht3hXo+nb1lwE/HmvfnI1G25b9XEPdBqnftMHXpNraV6hx6z1OI/95cNOvcO27mjxuQiCFBbIy0PV628QrnWZaOqTT0yk5Hk8KT1FqdM2r3TBOHskz/8gRjzdXDF7cO+ftaJdcMzX5ubmSl5cnubk5kpOTE/f3pGqDnZ2d0tHplXZvp/nllQ7ziwsBBBBAwJ0Aga47J+5CAAEEEEAAAQQQQAABBBBAIFUFkhnoDtpuF9llz/2kuKSsC0dTY7188NZ8cQaoBxx+klT129IV29v/fqLLs/rQvmMnyBYDtrGe/98Hb8uSRW8FbEsD0H1+cXTQ96xbu0IWL/h3l9A01r45XxZtW/Zzn3/yvnz07qu+Jo869Y++369Y9pEsfPOFoGNzvnvDd9/Ia88+4LvXTb8CubuaMG5CIE0EsirQNfGYeL0tm8PcNjNDHSYs6zD/JDNzt1w1vzU5ruSa3xTlSk5BkXhaze81G4/x8pog09PaIqUlpSbAzZXW1mbz01Bt0mECXm8WhZoeE5rn5uaZn/bKlwLjq0uzsaNNTMbLhQACCCAQRoBAlyWCAAIIIIAAAggggAACCCCAQHoLJCvQHbrTKNl9759bWBoeVq9bbf1+4JAdfQGvMyAc9dODpaKynw83r6BAynv19j3vVP+fCWudYbBW3R5+/FmiQbGGx3WbauSlJ+8NOFHOQFf75bzsQLmttVXmPz7TVwUcS9/8OxFtW24CXR3/C3PvDDhurc79xbjTfZ8LFuhqG80N9QHbWPzOywGrq9P7K4LeI/CDQNYEul5vu8kdTZjbbILDdpZAXATyPZJTWfJ9qBt9ta63o0M8ba1SXlouDY0Non8gcW0WKCgslJLSMmlo11CXVJd1gQACCIQSINBlfSCAAAIIIIAAAggggAACCCCQ3gLJCnQPnvgbK1wNVC1rV9NqNexb8x8NCOoMXp+6/4aQ6DuO3Fd22mMf0QrVLQYOsd772rMPBQwfQ7WroedPDz7Wet6/EtbZgUj6Fm61uG0rXKCrllqh/P4bz8uqLz7p9toRPz5Qtt9lT7HvCxbohhp3uLHweQTSXSArAl2tyO2UJpEGU0oah2rSdJ/0ePbfa6p18/qUiDSbbZGjyBu1MleaW6SiolzqamtNRa6WTHM5BXLz8qXc+NS36VbhXAgggAACwQQIdFkbCCCAAAIIIIAAAggggAACCKS3QLICXXsr4EBhrAanQ4aPtAqP3GyNHC7QPWjcZKuaV8PMflsNkm2GjbDC3UDbD4cLUO3g0z/wdM56uDYiWSFu2woX6K5d8ZkM2GYH0X++88q8bl2wA3b7PgLdSGaJe7NFICsCXQ1zvU2mLJfK3MSs6+JcyS03oa7JzCO9OhobpVd5mTQ16RbLLZE+njX3F5WUWNW6De0s4qyZdAaKAAIRCyQz0D3uuGNlypQpQfu4Zs0aaTR/xn3wwUK56667Ix5Lqj7wyisv+7o2Zszmram4EEAAAQQQQAABBBBAAAEEEIiXQLID3VDn2YYak9ug07mVsAa/em7vnvsdam2/HGj74XDtpmugu3jBy74trp+dc5tvu2g1tsesJmuWL7EqdQl04/UVRTuZJJDxgW6n2V/Z29FsqnOpbUzkws3pV2y2XjYH7Ha633rZa87HzWvvMFtElMimjRsT2b2MaLuyd29pNIFuB1svZ8R8MggEEIi/QDID3TPPPEMuuOACV4PYsGGDXHfd9fLww4+4uj+Vb1oGZIMmAAAgAElEQVSxYrmve9tsMySVuxpx30aOHCl77/1j67nly7+S+fNfjLgNHkAAAQQQQAABBBBAAAEEEIhNIFmBrp4Vq5WyemlV6NoVn8s3q7/oEjSGGkm44NV+1rmVsL198+EnnC355gzeQNsPh2t39JgjrUrXeG0HHW62wvXHfj5cha6eR6wWWqnsH6LbY9Kq5bbWFgLdcJPC57NWIOMD3Q4xYW5zm4j5f64ECpTmS05xkXgiKLLtbG6WUlN12m7Oh2022y5zhRYoLiuVHLP9cjPbUrNUEEAAgYACqRroamebmprk8suvSPtQN5MDXWdI/8IL82Xq1DP5SkMAAQQQQAABBBBAAAEEEEiyQLICXR2WM9S1h1m3qUa+/N8H5tfCkCN3G3TaWwlrhardph1gBtp+2NmuhqDOa9sdRlhhrl76uW9Xfxmwj2775mZq3bblJtAtLa+0qnTV+KUn77Ven19YJGOPmWoF3Hqu8NZDhocMdIP1OdQW1G7GyT0IpINA5ge6nkaRenMuK2fnJnY95nskt3eZiOF2e3U0NEhVZS9TnbtJOvUsXa6QAvqHWklZmXWWLhcCCCCAQHeBngp0v/jiSwm0/fB55/1Rxo07Srbaaiurs1qpO3LkqLSeOgLdtJ4+Oo8AAggggAACCCCAAAIIpLxAMgNdxdAtkbcesrP06T9Qthiwjc9HQ8fXn3soaMWum6Czqt8AOeDwE6w2ndsM29su6xm9zz40o8ucONsNNlmff/K+fPTuq0Hn0k3f3C4Et225CXRrvlsrhx9/lvVqDW83mH8futOoLiFvsC2l7fZ1W+bmhvpu3a/d+F3AM4ndjpP7EEgHgSwIdOvFu6lTPB73WwFLXo702muglI8aKMVDqkwY7JXmFRtk03trpXbhGnMWL+Gj/+LuFK/kbVUunnr3zu11ddKnTx+pqa5Oh6+VHu+jVzzSu09vqTV/0HMhgAACCHQXSLVAV3uo2/g+8sgcKS4utjr8pz9dkNZVugS6fOUhgAACCCCAAAIIIIAAAggkUiDZga7/WDRg3GG30eaYwLJu57g673UTdNoVwPbZsM7n9ZxYvZyVu/rvzna16tS+ysxWxVrw4+bMXzd9czuHbttyE+hqRbFze+WFb74g+46dYAXptkO4QDdcmO12XNyHQDoKZHyg2+lpEG+tuwDWk58j/SfuJgMm7SH5VZv/4tX/aq1ulDX3vi/fPv6xeKI8lrdkeF8p3rZK2jY2Se07q12vm4rRW0vx4Eppr22Rpq82SOPS9SGfjfR+1x0JcmPegHLx1rlvpUMD3b59pXp96HG4bzG2O8eMGSODBw8O2sisWbO6fO6UU04Jeu/KlSvllVdeCdmhXXcdIXvu+SPrHv+2gz2oXhtb2J46tpnmaQQQyFSBVAx01frxxx+Tvfba/D/UAm3lq6HvpEknWeFv795VUlVVJV9//bWsXr1GXnrp33LXXXd3mTKt/D344IOtjy1btizg1sA33XSj1Z5eb731plx88aXdpv2BB2bLwIEDrY8/+ujcbu8JtE6CBbrHHXesTJkypcv7dAvjI444UoYO3XzW7tq1XwftS6zPa/vO8QSqmNZ7Ar3nyisvl333/amUlBR3qaauqdkQ0i9Tv44YFwIIIIAAAggggAACCCDQkwI9Hejq2LVq9xfjTrcYnrr/hoAcboJOe7vlUJ7+Z+EGa9cOOjUcfmHunSGnyE3f3M6x27bcBrp2e/Y4jjr1j1ZX7ApmAl23M8N92ShAoPv9rOf3LZEd/nqIlO3SXzS0/ebhxVL/6XfStGxz2FiyQz8p3bmfbHXC7pJfWWyqdVfLsvPnS0ddZOHaoLN/IgNO3MNqs2FZtXx8/Nyw6y6/X4kMn/ErKR3Wp8u91f/+XD6/8MVuz+v9218zVipGbt7i0b6C3R+2Ay5vSPdA96abbpKf//znQUe7++67d/nc4sWLg9778ssvy+9///uQcnfeeafss88+1j3+bQd7kEDX5WLkNgQQyEqBVA10Z868ywSwY6058Q90NWC89NJLfBW8gSbuvffel2OOGe/71Nixv5S7755p/XuwbZwXLHjbF04G2hJaw955857ytXnkkUfJokWLwq6bYIGu//mzDeZYhaOPHhewPf/x6E3+z69b960JuScFfF7D7jPPnNatv6+88rJst91Q65ltttkcIvtfgc7Jdc5PoGficZ6uhsaDBg02/f6NNDc3h3W2b9DK7jvvvENWrVoZMJR33RA3IoAAAggggAACCCCAAAJpIpCMQNcODZ1nuTp54hHo2tsqa7v+Z+Hqx+zzZPX3zu2YgwWozrNmw1Wpug1h3SwJt225DXT1nXbQrdXGO+2xjzjPEibQdTMr3JOtAgS6ZuZzivNl53vHWYHpd88vla+u/z/pbAi8rW1uRaEMvfhA6X3AUKn94Gv537R5rrZgdoasGuTqu9wGurs/daIUbV0h6/75qdS+v0byTB/6HbWL1UagkHbXOROtz9Uu+lrWmUpivbY6eZT1MW1j+dWvJWS9p3ugO2/ePNl2221Fw9hAlzOg1ercc889V7766iv54osvut3+4Ycfhqy6tZ+3HyTQTciSpFEEEMgygVQNdINV6GowO2PGLb4wV8PZd95515q1kpISq6rX3qrZP1R0Brb+2zj7h7Xann/AqVW+06dPs971ySefyqGHHuZqtbgJdDVA1mBVx6NVuY2NjbL99ttZlcf2NXv27C4BpTNo1f7sssvO0tTUJB9//IlUm6MZBg0aZH3MvgKF1NEGusmo0D3ggP3lvvvulQULFsgpp5wmrS6OTygqKjL/LXGfWQd7yeTJp8trr73uao64CQEEEEAAAQQQQAABBBBIZ4FkBLrOs239tzzW4HTUvmNlwDY7SKhq2HBBp721sH8FrnNunMHmkkVvWZ8K1a4ddurZu/MfnxnT+b5u10i4cdrtRBLoOquNdWvr9994XlZ98YnVFIGu25nhvmwUINA1s77NH38mW04YId888qGsuPHNLuugdFdTsbuuXtrWNXT5+LDrxkrvMdvJqtsXyNpZC8OunSF/PkC2+PXOvkB19HvTXAW6A077kQz6zWhZ++AHsmrGf7q8Z48XTpGCPiXy0YmP+rZf7jN2mGx/1S+sMPd/U36ovNEH7WDYeX/YjkdwQzICXf3LTa3Y+clPfmKdv1teXm71sM5s36x/4fv222+aLRcfiqj6xR6iHei6CVftQNZNJW4gwhdfnC/2f5z0778lFboRrDNuRQABBIIJpGKg63+G7rXXXuvb2thZGRqoalWrd//yl2ut4Wq4ueOOPwSaur3wfvv9zPrcE088aXaF+IOPRQNK/bNSn7EDYed79cZQz4daYW4CXX1ex3PVVVf7qmjV4ZprrvaFsv6BrDPQ1ecDVeH6VzP7h8LRBrr2eANV78bzq23MmAPlnnvuNjbvmfk5JWSoW2DORZo9e5YV5k6ZcoY5xuHVeHaFthBAAAEEEEAAAQQQQACBlBVIRqCrg7fPt7X+N7fZxri5od4ysc+q1d9rZa2e+xroChd0Hn7C2daZt/6BsbMtuw/OSuFw7dohcKgq3XBtRDL5btuKJNB1VkD7h+bhAl3nXPmPY/E7L5tzj9dGMjzuRSCtBLI+0NXK2T2ePVla1tbJ4qMfEunsejDuyKdPlK/nfCjfmrDXeeWU5FkBaU5BnnxwyCzpbG4POfG61XLjkvVSPX+ZdZ/bQNd6R7F5x8GzurWv4W3FngOt83zt83R3uucoa6vlQKFtsHBYDbY8fnfpNXrz+bEdpjpZK3vtvrpd0YkMdCsqesnf/363DB8+3HTHY3Wps7NTWr4/T7awsFBycnK+76pXlixZYv4CdKrU1m5y232raubbb7+VI488MuwzV111lfzqV7+Sm2++2fX5t3aj9tbO9977d7PF80FWVbCbEFmfZ8vlsFPDDQggkMUCqRToaoD5y1/+Qo4//jhfZWqg7ZHt+1588d8Btzx2VuI6q2ydYa9/ha1dEayhqX0ubKgK3zPOmCrz53c/wiHQUnIT6GqQfOyxx3cbj3OraG3bOR7/QNe/6tjuizME9x93qge6OgY3oS5hbhZ/E2PoCCCAAAIIIIAAAggg4CuCSQbFjiP3lW2H7yZaJeq8Nnz3jYQLB0MFnUN3GiW77735aD/ndsr+Y3JWCv/7yb9L/aYNISt09Xln2/Yz/u26DWHdGLttK5JAV9+779gJssWAbWTFso9k4Zsv+LoSLtAN1edQAbybsXIPAqkukPWB7hZH7yJD/rS/LL/2dVn35OayfucVLNDVewZO2Uu2PmMvWXL2s7Lp7ZURzbWbQFeD1lHPn+LbVln/vWLUQOs9tQvXSNt3jd3eqVW7egUKgO32nNW7+rGd7x5nbencvLpWOpraJL93sVX5u+rOd2Ttff91Pa5EBbo77bSjPPTQHMnNzZWamg2mSuVl+dvf/mZt5ei8eveukt/8ZpocdNAvpXfvSuno6DB/oTxRPvtsc4ge7tIzcXULZQ10tQJXr/ff/6/Z7vGjbo/aoawGuitXrpTBgweb8LhOnnzyiZCvGTNmjBUCa+A8ceJEc37h5m2eCXTDzQ6fRwABBMIL9FSgG75nmytsL7/8Cnn44Ufc3G7do2Gvbrlrb1XsH3IuWfKpVYHrX727aNFC6xkNcXU3C9262VkR6wxWtRJ27703n+fu5nIT6Ibawtnum74rWKAbqk/+20k720iHQFfHHSrUJcx1swq5BwEEEEAAAQQQQAABBDJZIFkVuk5DrRgtLd98TFCNqfBsa2nOZGLGhgACaSqQ9YHu0Ct+Lv0OGS4LD75f2qqbuk1jqEC3ZHhfGfHgBFljtlxebbZejuRyE+ja2yfrubd69f7lMMkrybd+397YJjUvLut2Hm64dv0/b28F7Qxv7ZBXK4M/PunRgMFxoLEmKtCdNet+2WOPUSYIvcX8xfb9rpgnT54sZ511lhXInn765LDPjBt3tFx66SWmQvcb0Wpge4tKffCDDz6Qv/71xi7B7ty5c83WlztaAbAGsva1ceNGs/Xl43LrrbcFfKcGuP3795cLL7zQBNOvEOiGnRluQAABBNwLpGqgqwHljBm3hgxzteJWt9ctLS2VYcOGWYPWc2idl/+2yc6zee3POcNa/djAgQOt7Zf1OvLIo6yqWXtLZv2Yf+VuOG03gW6oNoOFrs4K3UDbTzv75QyFndXF6RLo6lgChbqEueFWH59HAAEEEEAAAQQQQACBbBDoiUA3G1wZIwIIpL9A1ge6w289XCp/MlgW/PgO8XTdbdma3VCBbk5pvuz12hSpeeULWXb+/IhWQ7jgVRuzA93W6karYrb635/LhteXS+HACulvzvzVj/1/9s4EXqdq/ePPOY4zcY4zIIRwJBlCg0TFpQylK+QmDf9Umm8u3YpSNE+XrkalQZSUIpcGhauikMJF3CRDyHQGB2d2zn8/69z1tt797v3uvd/pvMNvfz4+dd53rbXX+q6133K+7/M8LHt3PL7cdW+rcTmFc4IWgftDz+mij1mKZpa6RhHA3hYZLKG7cOEiatKkMV1yyaVCuNq5GjduTIsWLaJ9+37XUiMPtOwihS5HObHAXb16NfEYf/pTL03ANnJF7sqBVKHLqZr5l/Xnnnsude9eHeVklIp5/PjxWsTwcFq4cCFNmDBBtEOEruXWoAEIgAAI2CZQU0KXM0asXr3GbZ79+/dz/ewtpfGUKZOF3JNRuN4Wqxe69957D91xx+2ii5Soqqzl6FVV8L700sv0zDPPkiqCzVIbm80jFELXSjKr4lZlEklCl/mqUvemm24WpSVQM9f2446GIAACIAACIAACIAACIAACUUoAQjdKNxbLAgEQ8JtAzAvdNlMuocwLWtD3PV+jyiLPOrgsdEsPHKdfH1lGpb+512OtpQnds1nofr2Dtt39maPNsBKvPJgUuvzv+vTHLFw7zPqLkLpqvVyrcfVCV9bV5XTLhxZuoYKVu1z1eB0tSGscLKE7ffrrWkriM6h27dq0YsUK7ZfWn4voVpav6sVRtZzSuH///nT++edTeXk5cRrlUaNGOV2KW3spXe3Uy+VUzWPGjPEQwB06dNR+UTvdo0YvhK5fW4POIAACIOBGoKaErprOWE5IlaZG73M7tR4s/8xfDtq27RcqKirSUiRvF/8Nu++++1yRunqhq6YflveQ91XTHss6vF9//Q1de+11WpRudUpmo5q+VkcqFEJXztNsLmpdYVVIR5rQ5fVdfPFF4hzw/9Pw/8fccsut9OWXS6y2Ae+DAAiAAAiAAAiAAAiAAAiAQNQSgNCN2q3FwkAABPwkEPNC95T7elKjK9rThr+8RyU73GuyMtu6ZzSiFlqN3ZSWmXTwo02aWF1DlcfLBPaU1tl0xntX0v4PNtKuZ79xtBVW4pUHk0KXZeuGwe94jN9s9HnU5JoubrLXalyj92XaZXkDjggu+GYn7XltjaMo3WAJXY4oio+Ppx07ttOQIUO0X3imUmVlJeXm5glBGh8fRw0aNNTqBGaJdsXFRVra44+oVavWop2MXnK0QUrju+76K91440307bffajV6b7Mc5osvFouo3quvvsaVpllG9HL9RLXOLoSuJU40AAEQAAHbBMJJ6KqRsbwAvYzl12QNXP53GT2rX6xZNKps9+mnn1D79u1cdXSlrP3oo3k0duzdotmsWTPpwgsvEHV0+bUFC+aL161SGxuBD4XQNRPgcj5mc1BZyfTS+jV4Szetpn22ihK2fShtNGSp+8ILz2ulIu6CzLXBC01AAARAAARAAARAAARAAASimwCEbnTvL1YHAiDgO4GYF7rZA9pQ60cuot0vfke/v73OkGRVHGnStwM1u6MbVZ2opM03zKOSXQV08qhzqOnN59DP4xZT/tLtjnbBSrzyYFLoHt+WS5tGvO8xvlpjV6Zd7vL59RSfUtuVUlntJGv+Fq7/nbaMqv5lrrw44jerVytK69KE6pzekJKbppOZSDZbaLCE7u23305XXXUVXXHFME3iHhapjTkqqWFDlrjZYjq5ubl08OBBLeqI0yWv0QRvA/rggw/o3Xdn07RprzjaG31jjvrl6Fyulzto0CDLsWbMmKHV/O3iSrus1ufdtGmzW/+zzjqLMjIyaOnSpeL1sWPHeh0/u359KigttZwDGoAACIBALBIIJ6HL/KVI5X/XS0qumfvUU0+KbfImMNV6sUZSmFM2Dx06RIzDUlh+iUlN86yKSrWNmUT2dnZCIXT5/mZCVk0zzRHN3bpVlzrgSxW6ZmtTI6f10ramhG4sPqtYMwiAAAiAAAiAAAiAAAiAAAiYEYDQxdkAARAAAWMCMS90a9VLpjM1CVqRX0zrB82iqvJK07OSkJFMja/uRLtfXk21kmtT5wXXUHxyAv044G1X1K7dg2ZH6PJYZ301iiryig0jdFs/0ZeyL25NO5/5mg7M3SRufdpUrSZw9+b0y4QvKXfxNrfpyPTK+95ZR79N/c7rVGVtXaNxzDoGS+g2bNiA3n57JjVq1Mgy5fLFF1+s1Qvsr9WyPY/279+vpZa8hg4fzrXcFk6VfMYZZ4i6u5zOWb1khC5LVylcp0yZQocOHRIRV/pLRuh26tRJvCXTMFtOQmsg+5i1hdC1QxFtQAAEYpVAuAld/vLRnDmzRSpdvmbOnEkPPjhR/LsawasXk3L/1GhSfs1I6KrjsBjOyWllmEpZRgPLNjwe19h1eoVK6BpFDzPPadNeFjXu+dILWW8CndurEt2ovyp0rdI+O+WG9iAAAiAAAiAAAiAAAiAAAiAAAvYIQOja44RWIAACsUcg5oUub7lMXXzwX1tox6P/tjwFVVqLNk/3o6zeObRn+ve097XvLfvoGxgJ3fRzm1K9bs1o/+wNrlTHUtDqa+hy21OfGSCG/c8V77ram0X1ypq7HL2rtufxk5tneAhjKYvDQejyGvk/5H/722gaPPhykXK5qqpKiFpOuVyrVrwr5XJcXJxIuTxv3jyaOvUFKi0tsbU3Utpu3bqVrrzySrc+RjV0pbTVp1A2q6FrNgmkXLa1PWgEAiAAArYIhJvQ5UmrdXL1NWvV6FsWiO+88w4tXvyFkL1cYqB//35u6zYSutxArSnLPxvJSJmaWQ6o1ti1Bfd/jUIhdGU9WZ7j8uXLqbDwCKWn19OYDHbJXG4zfPgILTPHetf0VSHLL7K85vf5C14dO3akc845m0pKSkT9YL70QlgVvjz+3Llzae/evaLttGmvOcGEtiAAAiAAAiAAAiAAAiAAAiAAAj4SgND1ERy6gQAIRD0BCF1ti1lytntjCNU5NZtyv/yFfn1iOVUeq66Tq78SMlMoR0vRnKGJ16Mb99OWWxdQVdkJxwfFSOhyNG5Cam06+PFPJFMos4g948OrxesF3+6msoPHqFadRKrX4xTxml708kSkBOZUzcc3HxBzy7igBSVmp3q0l+KW2x6av5kqCksps2dLEfnLtXTX9Z9he23BitBVJ5CQkKClXO6qpVzu4pFymeXuhg3rRcrliooK2/OWDaVc5dTK27dXp9CWKZHXrVsnIm3lJcUt/8KX3+N/ZmVliVTL/O/PPPOsW61cs8lA6DreJnQAARAAAVMC4Sh09VG6am1bNX2w0aI4creoqFhE3fJlJnTVyFRuZ5RuWB/tq0YLOzlSoRC6LFqbNWsmagMbXfzfWf5C1XvvzfF4W02prH+Thfrs2e+50lIb1clV0zbL/ojWdXJC0BYEQAAEQAAEQAAEQAAEQAAE/CMAoesfP/QGARCIXgIQuv/b29rZKdRm8iVUt/1JQmTun72ejm85TMf/e4jiE2tRqiZ763ZoRI2uOoMS0pLoyPd7aJtWO/eEJkB9uYyEbofZVwqprKZQ5rFZ6rZ+oh+ld65OMcgXz3HfG2tdqZb1c2j5QC/K6nuqkL58VRSVazWCf6R9b/7gMV0pddU3WPD++vBSKvrvYdvLC4XQtT0ZHxp26NBR/JK3e/c/6vHxL42//fZbw9q2LHVHjhwpauDKi2Uwp4eeN+8jWzOA0LWFCY1AAARAwBaBcBS6PHG1zq0+spSl7ogRV7miRuVCOeXwY489LvpaCV19KmGjVMpqama+h1pj1xbc/zUKldB95ZVpNGHCAyKqVr046nb69OmGMle246jonj0vdKW65tclz27dutL48eNFUyOhywJef1+zlNhOuKEtCIAACIAACIAACIAACIAACICAPQIQuvY4oRUIgEDsEYDQVfY8rnY8NRrRiZpc14US0pMNT0PZ4SLa+9YPmkjdSHGceznAF8vb8kNFhqPye+lnnkzFO/Nti1ZOwVxeUEyFq/dYzpTb8lX4417TOXgbJNKFrro2lrWFhUdtidnevXtT8+bNae3aH2jTpo2WnP1pgBq6/tBDXxAAgWgnEEqhG2iWLGXr1UsXw+7YsVOkXo6lS02XrIpWFtEtW7bwiYtk6ku6ZBa7LH/58qV/LO0d1goCIAACIAACIAACIAACIAACgSQAoRtImhgLBEAgmghA6BrsJovd9K7NKK1LE0ppoUVfnqjSJGoeFa7dJ2Qn/4zLk0A0Cd1w3V8I3XDdGcwLBEAgHAhEstANB341OQczoVuTc8K9QQAEQAAEQAAEQAAEQAAEQAAEQk8AQjf0zHFHEACByCAQ9UK3go5qIadVFBcXFxk7EqGzrKyqIha6ccfsc644elSrO5tNBfm5pHXHZYNAVnYWHSkrt9ESTUAABEAg9ghA6EbunkPoRu7eYeYgAAIgAAIgAAIgAAIgAAIgEEgCELqBpImxQAAEoolA1AvdE6SlLz5+gqgymrYtDNeiRTXXyqpDjNvudeL4ccpIT6ejx47SiQptj3B5JVCrdm1KS0+joxC6OCkgAAIgYEgAQjdyDwaEbuTuHWYOAiAAAiAAAiAAAiAAAiAAAoEkAKEbSJoYCwRAIJoIRL/QrSohYgFWFk3bFn5riUtNoLjUZIortR+hW1lSQqmJiXTixAkq0f4dl3cCKXXrUK2E2lSs8cIFAiAAAiDgSQBCN3JPBYRu5O4dZg4CIAACIAACIAACIAACIAACgSQAoRtImhgLBEAgmghEvdCtpAqqqtRk4XHk9A3mwY1vmKJJc03qOnCNVScqqFZ5BdXRRGVBfkEwpxcVY2dq6ZaLNF4VyE8dFfuJRYAACASeAIRu4JmGasR+/frSkCFDxO3WrfuRpk17LVS3xn1AAARAAARAAARAAARAAARAAATCiACEbhhtBqYCAiAQVgSiXugy7UoqpqqSCiKUHg3O4UuuRbXSNaFbbD86V07kRFERpdetS6VahG5paWlw5hcFoyanphL/z8yxChziKNhOLAEEQCBIBCB0gwQWw4IACIAACIAACIAACIAACIAACIBAiAhA6IYING4DAiAQcQRiQuhSnBanW1lMcUVaIV3U0g3sIU2I02rnphKVxBP5EgRdVUlVxSWUzrV0C49o6ZexQfoNStBq59ZNS6dj5eUaYl8gB3bLMRoIgAAIhCsBCN1w3RnMCwRAAARAAARAAARAAARAAARAAATsEYDQtccJrUAABGKPQGwIXW1fq+gEVWr1dKuKKx2lBY69I+FgxbXjKD4jleLKtMjcSufRufJOVZrEjSsro7S0unT82DEq18QlrmoCiUlJlFqnDh2vqNDOL2QuzgUIgAAIeCMAoYvzAQIgAAIgAAIgAAIgAAIgAAIgAAKRTQBCN7L3D7MHARAIHoGYEbrVCDWpS2VUVaUVemVnWMERu5qIhCezd8LY2dbiP9q/aGmW42snUVy5FpkbiKDaSm0QTerW0VILx8fHU5mWfrmsrFyL2NVqIMeQyIyL0yKeE2pRosY2KTmJTmhrL6o4gchceycUrUAABGKcAIRujB8ALB8EQAAEQAAEQAAEQAAEQAAEQCDiCUDoRvwWYgEgAAJBIhBjQreaYhVpklCTu6SJ3UotHXO8JkAqoqoAACAASURBVNFweSdQ7bzjKC4ugeI04RpXqZldP6Jyze5WpQncWprbrZ0Qr/1J0OSuJo61+8XKVVmpnczKE9qfSvGdAxa6uEAABEAABOwRgNC1xwmtQAAEQAAEQAAEQAAEQAAEQAAEQCBcCcSi0L311pvFduzYsZMWL/4irLamX7++1LJlCzGnadNeC6u5YTIgEGsEYlLoxtomY70gAAIgAAIgEAsEIHRjYZexRhAAARAAARAAARAAARAAARAAgWgmUBNCl6Vlv379qG3btpScnEx79+6ljRs30jPPPGuJunPnzjR06GA6/fR2lJWVRSUlJbR161aaOXMWrV+/3rI/3/u1114V7caNG0/vvTfHo8+9995DHTt2pJNPPtk1/uLFi23JX5bFXbqcSaeeeqoYl9e2cuUK23L2ww/n0jnnnE2bN/9El1xyqde58Zvbtm2jefPm2ZrbVVcNp169ernmxn2XL19uyEB/Y31fO+uaMmUy1dHKG3q7Dh48QA8+ONFy3+w20J+PvLw82rLlJ/roo/mm54P73HbbrZa3WLfuR9v7qA7mz5n1p6/VgtRzHsqzpJ/Xq69OM50qn48VK1aanm/5vMkB7O6R3X4QulanCO+DAAiAAAiAAAhEBAEI3YjYJkwSBEAABEAABEAABEAABEAABEAABEwJhFroPvrowzRs2DBKSUnxmNP27b/S2LF3m4o3b32Li4tp7ty5lnKQx7juuuuI27dt285tDizPWELm5LTymJvV+N768mBWa5M3XL/+R8rMzNQE5DzBQl5W43/99Td07bXXme7zrFkz6cILLzB835++3ta1a9cOyyeP+/fu3ceynZ0GLJ3vu+9ewU9/5efn09NPP2Mor1nujR8/3vIWn3++mG65xVr8qgP5c2b96ettMTV5lozmZfecPP300x5il2Vw//79XMPaPU/yOZMdzfYWQtfysUADEAABEAABEACBSCAAoRsJu4Q5ggAIgAAIgAAIgAAIgAAIgAAIgIA5gVAKXY4IvOOO212T4SjU3377jc49t6tLwv3+++/UrVt3jwlLESvfkH2zs7NFRKu8XnrpZa+RvjIC9vvv19IVVwxzu8+qVd9S48aNxWssADdu3CTEs53xly1b6hLB3Hf16jVinE6dznCNabY2OQk1evjmm29xk1fq3HicDRv+Q7z2Dh3au+S4mZhVZS6L6U2bNguhzeuSYt1OX8mE59uxYwfLPZOijudbVFRseAg50tebiLb77DK7qVP/6VqPZMSR0lLQ85pHj/6bhxRUhS4LQbOLI6310cQsR7t162oYuevPmfWnL8+f5TZHJxulFK+ps2TGVZ4TPl95efmuZqmpKa5nh1802j+90OV2+mdHf19m89RTT7q9DKFr90lDOxAAARAAARAAgYgkAKEbkduGSYMACIAACIAACIAACIAACIAACICAi0CohC6LrzlzZgvhxmLm4YcfcYuWlKKVJ2YkV7Zu/cm0LwuaiRMfEu9bSVM5zsyZM93knCqG9LJXHZ/nPnz4CLcoYlVUG4lidW36+6pHkaODhw4dImRy585nut6Sr/MLRpG706a97BJfepmlykpmc+utt7vmznui9n3yySfdxKQqvoxSQHtbl3pf/bjBePxUoa5nrMpRowhOde9POaWl7empEtno3PlzZv3pqwp8/RccauoseYMqha7Rc89ndMKEB1xfqtA/X+re8bPJnwFWkdTy3PKeyS9wQOjaPvZoCAIgAAIgAAIgEIkEIHQjcdcwZxAAARAAARAAARAAARAAARAAARD4g0CohK4qksykpkyDqk+HrMpBs76qXDSTcqqg1ItPKdD0MlWSUqWgXqqqUskoOpCl1IIF88VQRsJX3uPTTz+h9u3bebSRstJsbiof/dzkmHwPo7mpUcF6aWu1Lh5Tyjh931AKXXVfzfiq50NfO9lXoatP1Txo0GCXLPfnzPrTl/dEldv6yOuaOkvePnO9CV3ZT40qVp9vde/4DPLzY/acyLHks85sZBpyCF38VxEEQAAEQAAEQCCqCUDoRvX2YnEgAAIgAAIgAAIgAAIgAAIgAAIxQCBUQleKJKPatRKzKn2dRnXakXJmEbDehKh6BKQI0kd5qvdWpZ7aV0orb/VqzaKHOeLy5JNPJrP0xKow1ospM+Gqzk2VvqosY4ndo8f5oqlZnVsp2vRM1L10EvXqyyOn8tfLWjmeKn31jOT67dZflWMy9xkz3hSpp40imK3WYufMmo3hra9kz8/aP//5T7eo65o6S95Y2BG66nrVzwb1df6yB9fH5svs80P/xQyOiOcLQtfqtOJ9EAABEAABEACBiCYAoRvR24fJgwAIgAAIgAAIgAAIgAAIgAAIgACFSuhKaeNNmqli1Sptqn7rZHSvt+g8KZX1UtVMFunvoUY+qpLSKqLS6n2+j9rGTAqbHVc15bOaYtcuT7vr199fFcnemDIrFqq9evUSQ2zfvt1rnWOnj6XZvujHMTuDsr88m8wzJydHdF++fLlbanCjufHa3ntvjtNpa9G8PwoZbBVRajSwVV+OvD5w4KBbanA7E6yJsxQoocvPjVUkvJT3zHzatGk0fvx4gQVC187pQBsQAAEQAAEQAIGIJQChG7Fbh4mDAAiAAAiAAAiAAAiAAAiAAAiAgCAQaqFrJWrtyB1161imXXvttSLVKl/6mqFqWzm2vo3dSElv7aQo4qjIuXPnarVuq1MsDx06mIYNG2ZZ31eObVUD2OjYyihZb6mqvUU8+5oeWa3Vqo+MlSmOWZzl5eVrgrSV29R5rm+++VZAxK5eyJo92mbtpBxloZuVlSkkq3rxnkyd+rxP0tZoLk7OrL6/P33tfOTVxFmy88yrKbPV1OH6Z1KNNtd/MUJNL85fQFi5cgWErp1DgTYgAAIgAAIgAAKRTwBCN/L3ECsAARAAARAAARAAARAAARAAARCIbQKhELp2I0V5J5xG8srdY+k2Y8YMt/Sy6s56i4C1G+FpFcnK7/fseaGQt+rF8pJru06ePMU0YtIsetjqdKqiy5uotit0rYS7nI+autYojbTKlPvw/hQVFXsIU7OayFbrVt+3c2a4vdk+y/5yTBa7fDVp0ti1l7yHDz/8iM9SV19vVzLxdmblfPzp64RjTZ0lK6GrpsvWRzPrha56LvVnS00Dzl9AqFcvHULXyQFBWxAAARAAARAAgcglAKEbuXuHmYMACIAACIAACIAACIAACIAACIAAE4gWocuiZ/XqNfTKK9MMpamMJjWKgA2E0GXpNHr0XdS4cWPDg8Xzmz37PcOIVDV1sbcIY/3AqqBiYXzFFcPcmlgJaCNhaEfoqoKNed566+0ezFmsNWx4EjVr1kyLbp1Kixd/4Zobp/W94YaRQpayKB0+fITj1MDqQv0VuswpNTVVDKmX7ipDpzV21TkaSVmrM2u0P/I1u33tfsrV1Fni+an7t23bNrcpZ2dn0znnnO16zU50vaxFrX/WZSS2fN3OF03iGrbIqbILMRDtMpKSqaC0JBBDYQwQAAEQAAEQAAEQcBGA0MVhAAEQAAEQAAEQAAEQAAEQAAEQAIHIJhAKoasKQCthKOWOkaCUpFmAduvWVfyYnl6Punbt6pI+ZimLZSpZo/uraVrV2rj6nVXlnpr2VR9BuHDhQlqxYqWoYdq378U0ZMhgl+g1ErZq3VJv91fno0YimolGVdLZjdC1ipjltU6c+JDfMladm9U9rZ4wKfCshKsU905r1qrnQ913q3mp7/tyZv05707mVlNnSc5RHyFtNnejc2KUBt0oPbP6jH700TwaO/Zut7rVqKHr5MSgLQiAAAiAAAiAQMQRgNCNuC3DhEEABEAABEAABEAABEAABEAABEDAjUAohC7f0I6oVWtcWolf/TaqYkcvftQIWCOxaSZq9fdQRZEqXqUoNIs25fvPmPGmqM1qJBNl9LCVkJTzUQWcWYQst1UjEL1JU3U8b+JXL3P9SUGs7olRymYnj6ldUavWyu3du4/tW6jCXS/kpaidNu012+PJht7OrNVgVn15r/Ly8twio43GrKmzpM7FTOjKNN179+6ld955x3AtRkLX6Askar1nWVsXEbpWpwzvgwAIgAAIgAAIRA0BCN2o2UosBARAAARAAARAAARAAARAAARAIEYJhEro6tOdGuFWxZnTqE1VEG7e/BNdcsmlrltIacXCtW3bdh63VqWWt5THMspXlbJ2xaQqnrh+53vvzXHNQ7KRkYPejqJdAcdjqILcmzRVZZdZBGogZa5cn91UyVaPpirapazT91H3yVv0t9G9zMQf85069Z8iWtksMtzb3L2dWas1e+ur7qe381xTZ0m/Nqsaut5YGAldbi+fVbkv8mf1swFC1+qU4X0QAAEQAAEQAIGoIRAOQjcuLo4SExOpdu3aVFxSRAVaTZqystKoYYyFgAAIgAAIgAAIgAAIgAAIgAAIRBeBxMQkytAiNVNS6lB5eRmVlZZRVVVIqzS6AQ2V0DVKg6rfWbM2LHpzcnJEc7MaufyemSCU4+pFr7y/Kj7NZJ9ZGztSiO9jVs9WHVcvevV8nAg42VfKYm9phq3aOJW5LBtvu+1WMYV1634ko+hVf6KxvXEx+yKAyk5tw2vr1auXGHLevHmGUaBmEcz6uriqTPbnzPrTl9eh1oQ2E/k1dZaMPs2DIXTV9fFz9dRTT4pbq4LbzrOLGrrR9d9frAYEQAAEQAAEYpZATQrd+Frx2l9+U4XILTpeRIcO/U4VFRUxuxdYOAiAAAiAAAiAAAiAAAiAAAiAQGQRSEhIoAYNG1FqaiqVl1VQcXERVVZWhnwRoRK6qjwxEqtqmlR96mG13qpZFKvaRi+x7ETAqhLMSKyqdVT1aYmlkPImTdXx1ShYq+hheSB8EXDcVxXJRuxUbkZprp3KXDlfq7q2dqNI7TwQLJDnzJktImV5D66//gZav369q6ua8lqfFttOfWcZ3ckDqtJWHVd/pv05s/705TnK/rzWf/7znx5CvabOktleBkPo6iOY27dvp33GukfoQ+jaebrQBgRAAARAAARAICoI1JTQTUxKorp161JJcQkVFR2nI0fyIHOj4kRhESAAAiAAAiAAAiAAAiAAAiAQWwQSEmpTvXqZVKdOHUpKTqajhYVa1G55SCGESujyolSpyZGw06dPFxGRHJF4ww0jhZDjSy9M1dS2/D6Lx+XLl4u0xTLCsn//fqIvS5vRo//mirS0GwGryh0e480336JnnnlWpC0eNWoUnXPO2WJ8ozq3qpxksTdr1ixXSmXuP3r0aGKhZNTfKnqY+6gCjn/mKMPCwiOG5+TIkUK3dM6q7OQOLHVnzpwl+l533bU0dOgQF7fhw0e4iVBV5kruHHFrdqmRuGZMmMc111xDF154gRhGn6qY3x8ypHpOZtG9RvdXxTWPOXXq867zMXr0XdS4cWPRzUhaq8KW35eRurx+3vucnFair1m0K7dTU2hzW3/PrEzlLOds97xLNnz/AwcOuu1nTZ4l00OjvREMocv3UyP+jfYPQtfbruA9EAABEAABEACBqCJQE0I3WfvLXUpyCh09VkgV5RVUUlJMx48fjSquWAwIgAAIgAAIgAAIgAAIgAAIgEDsEKhTJ42Stb/ncjmhOtqXlzkLVWlpScgAhFLoslycNu1ll1wzWqS3lLnDhg1zSV8zQPr+MlrRW/SsHEsvTvX3YFF46623e0gyO+visYz6y0hWbzWDVRFudTCMhLNezOrHYIH98MOPeEhJVZJa3ZffP+WUlq5mdpjwntx33zi3NMdqdKpe7FvNQS/w9O3N0mlb8eFxjLhazYfPky9nlsf1p6+3edXUWfI2p2AJXX1KbH19aAhdqxOM90EABEAABEAABKKGQKiFLv/lNjW1jvgWqkxDhejcqDlOWAgIgAAIgAAIgAAIgAAIgAAIxCQBTr1cr16WWHt8fDzVy8igY8eOaWmYy0LCI5RClxfEom/ChAdcEa9ykSz3Zs9+T0TFml36aFm1nRrxq74uUyWbyTz9vThaeMSIqyhTq3OsH/+xxx73kLlqGxag557b1aMvr2316jUe9X/VdL962aSO66+E47H00aZyfBaVHCmtjzDl9/0RunJ8HqNnzwvdRDwL5E2bNpMRT3lPfXpcuw+D2f2++upruuWW6rq+Rpe3c8l7562vt7n5cmbleP70NZtTTZ0lb4yCJXT5njLduj4SnN+zJXSzsxuGtMJ5dv0GlHv4kN3zjnYgAAIgAAIgAAIgYItAdv36ol3u4cO22vvTqPovtfXoSEGhJnNPuIbKyztEVVUh/V8rf5aBviAAAiAAAiAAAiAAAiAAAiAAAiDgRiAuLo6yshq4XktIqEVp6fz333zt77/B//tuqIWuungWKnzt2LHTLUrTzhGRfbmtmupX39dOBKzR/VimtWzZQrzlbXyrvt7W5iR62A4TO21YXHbr1lU0XbVqjVdBbWc8u21YKNerl27JUwpHozrLdu/F7eT99Cmo7Ywhz5Yvfb2Nb/fMGo3hT187a/alTU2dJV/m6mufOAhdX9GhHwiAAAiAAAiAQDgRCKXQrZuWptXJLRd1c9UrN/dgOCHBXEAABEAABEAABEAABEAABEAABEDAMQHNGbj1SUlNJRa9RcePOx7LaYeaFLpO5+q0vRqBN2jQ4JDJS7vzlPLSrDar3XGiqZ2MqPSWgjqa1ou1hDcBCN3w3h/MDgRAAARAAARAwCaBUAndWrXiKb1eBuXn5XnMDELX5mahGQiAAAiAAAiAAAiAAAiAAAiAQNgS0AtdlrmZWZna34Pzg56VKpqFLtch7dHjfMrTfp9wxRXDwm7/Wejy9cEH7zuOAg67xQRoQjL9rrcU1AG6FYYBAUsCELqWiNAABEAABEAABEAgEgiESugmp6RQLS3l8nGDbyZD6EbCScEcQQAEQAAEQAAEQAAEQAAEQAAEvBHQC11uy5mqykrLqKysNKjwolnoBhUcBg84AVlTmGsOd+58ZsDHx4Ag4JQAhK5TYmgPAiAAAiAAAiAQlgRCJXTTtdpBRcXHqaK8woMDhG5YHg1MCgRAAARAAARAAARAAARAAARAwAEBI6GbmJREibVr07FjxxyM5LwphK5zZugRHAJct3jIkCG0fft2euaZZ4NzE4wKAg4IQOg6gIWmIAACIAACIAAC4UsgVEI3IzODjhQcMUwzBaEbvucDMwMBEAABEAABEAABEAABEAABELBHwEjo1qpVi+rUTaPCIwX2BvGxFYSuj+DQDQRAIOoJQOhG/RZjgSAAAiAAAiAQGwRCJXSzsrO1ukG5mtD15AqhGxtnDasEARAAARAAARAAARAAARAAgWgmYCR0eb2ZWVna34fzgrp0CN2g4sXgIAACEUwAQjeCNw9TBwEQAAEQAAEQ+INAqIQu3yf38GFD9BC6OJEgAAIgAAIgAAIgAAIgAAIgAAKRTsBM6Hr7+3Cg1gyhGyiSGAcEQCDaCEDoRtuOYj0gAAIgAAIgEKMEIHRjdOOxbBAAARAAARAAARAAARAAARAAgYASgNANKE4MBgIgAAIBIRCxQrcqIZHizruc4nqNIKrfLCAwXIMc/o2qlr1DVav/RXEVZYEdG6OBAAiAAAiAAAgEhQCEblCwYlAQAAEQAAEQAAEQAAEQAAEQAIEYIwChG2MbjuWCAAhEBIHIFLoZJxHd/hLFndQyqJCr9v9K9MqdRAUHgnofDA4CIAACIAACIOA/AQhd/xliBBAAARAAARAAARAAARAAARAAARCA0MUZAAEQAIHwIxCZQnfsTIo7pX1IaFZtX0f0/E0huRduAgIgAAIgAAIg4DsBCF3f2aEnCIAACIAACIAACIAACIAACIAACEgCELo4CyAAAiAQfgQiT+h2H0xxV04IKcmqdycRrVkY0nviZiAAAiAAAiAAAs4IQOg644XWIAACIAACIAACIAACIAACIAACIGBEAEIX5wIEQAAEwo9AjQjd/Lxcqqys9I3GmBkU16Kjb3197FW1cyPRc9f72BvdQAAEQAAEQAAEQkEAQjcUlHEPEAABEAABEAABEAABEAABEACBaCcAoRvtO4z1gQAIRCKBGhG6hUeOUHl5mW+8nlpOcSlpvvXVenXKqk1X59Sha1rXpdrxRIdLK+mpDUdo1i/HqbLKeNiq4qNE43r5fE90BAEQAAEQAAEQCD4BCN3gM8YdQAAEQAAEQAAEQAAEQAAEQAAEop8AhG707zFWCAIgEHkEakTolpQU0/Fjx3yiFTf1B5/6cac/N0+h187Pplpx1SJ3z7EKOi2jNqVoL2wpKKcRyw/TnuMnDMevGn2Wz/dFRxAAARAAARAAgeATgNANPmPcAQRAAARAAARAAARAAARAAARAIPoJQOhG/x5jhSAAApFHoEaELqdb5rTLvly+Ct0hp6TSKz2y6HhFFY1dnUcf7yoWt0/SonQf7JJBt7StSz8cLqP+iw8aTisShW7v3r2pefPmYj0zZszwBbejPkOGDKX09DQqLDxK8+Z95KhvqBt36XI2paamUlFREW3fvk2b8xHHU3A6Rps2balBg4bingcP7qe9e/c4vic6gAAIgAAImBOA0MXpAAEQAAEQAAEQAAEQAAEQAAEQAAH/CUDo+s8QI4AACIBAoAnUiNAtLS2hivIK4khdp5cvQjdBi8jdObwplZ6ooiFLDtKGvHKP2756fhax9L3484O0PtczHXQkCt0pU6ZQnz59xFo7derkFLXj9gsWLKAWLVrQzp07adCgQY77h6IDS9WhQ6+i+vXru25XWlpKy5Z9QUuWfG5rCk7HSE+vR9dddyO1bJnjNv769T/QrFlv2ronGoEACIAACFgTgNC1ZoQWIAACIAACIAACIAACIAACIAACIGBFAELXihDeBwEQAIHQE6gRocvRuen1MqnwSD5xtK6Tyxehy+Nf27qOELUb8z1lLr/fv2kyzepZnx5Zd4Re+Emrmau7IHStdynchS6L1XHjJlJSUhKtWrWSfvnlZxGle/HFAygtLZ3eeectWrdurdeF+jLG3XffT02anEw7dmynlSu/FuP37t1XvMbzmDt3tjVctAABEAABELAkAKFriQgNQAAEQAAEQAAEQAAEQAAEQAAEQMCSAISuJSI0AAEQAIGQE6gRoZt7+BAlalKNZdqRggKqqqqyvXBfha7VDc5tkEiL+jakFzWZ+7AmdfVXOAndDh060mWXDdTS9zZwTXPFipVuaY45OjcnJ0dEzPK1dOlS8c9FixZp0ajLXP04LTP/4b3gi9MBz5nzPm3atNENwfXXX09nnHEGHTp0iJ588kkaP368SOe8e/duWr16NQ0cOJDOOussysjIoAJtT3/4obrW8dixY63Qh+z9YcNGULduPWj58iW0cOF8131PPrkp3XHHWCorK6VJk8Z7nY/TMTgt8zXXjBQy98UXp7iNPX78wyJSeMqUJ5F+OWSnADcCARBwSuD8/ldSvayGtHLxXCrI3W/ZPSO7EfXoN4wK8w/RN5/NsWwfyAYQuoGkibFAAARAAARAAARAAARAAARAAARilQCEbqzuPNYNAiAQzgRqTOgylOSUFEpJTqGjRwupoqLCFie7QrdnoyQa2zGdujVIEuOuzyujN/57jD7YUWR4n7Ed0ml8p3Qasyqf3tl+3KNNuAhdrlM7evRdQpzqr2+//ZZuu+028fKGDRsM1/ncc8+56um+8sor1L17d492xcXFxNG2LG7lJdM3czrl/Px86tKli3iLf54/fz6NGTPG8H6hSPVs6+BojZ54YoqptB016nZq27Y9vfrqC/Tzz1tNh3Q6xp13jhWplo2k7UUX9acBAy7zEMwcBdyzZ29q0+Z0MQ9OUc6RvVbRw3Y5oB0IgAAIOCFw8ZAbqW69LCotKdEE7bt0tCDPtHtaRjZdMGAEJSUn0/GjBfTFh9Od3MrvthC6fiPEACAAAiAAAiAAAiAAAiAAAiAAAiBAELo4BCAAAiAQfgRqVOgyjqSkREqtk6bV0y2h4iJPkapHZkfo3nxaXXr87GrhufVIBRVXVFKX7ETx87xdRfT31fl0tPyPqODO2nscnauV2qXO8/fRoRLPNNDhInS/+uorIXMPHNgvom0LC49S69attYjdy8T63njjdXr++Rc0geg9Qletr8simKNs+RowYIAmNtsSS92bbhrlitSV7fn1FE3Er1u3jvLy8kTEbiRE6HIU7tix42nr1s00ffrLHk9ijx4X0pAhV3rIVbWhL2NMmlQtxY0if1ncTpz4hFv0Lr/G0cIcuXv48GEhoNPS0kRK6M8+W2i7zm/4fdRgRiAAApFKIPukpnThJVeJ6ZcUHaOvPnmXio4VeiwntW469Rx4tfZlrbriva8/fY9yD+wJ6bIhdEOKGzcDARAAARAAARAAARAAARAAARCIUgIQulG6sVgWCIBARBOocaHL9OLj47WUv3WoVkIClWsCq1yL1j1RceJ/9XXd0zFbCd3rT61Dz3bNpP3FJ+jGb3JpzaEysUGNUmrR1PMyqXfjZHpu01F6YkN1WuW29RLoX5rMzUiMp7Em0bncLhyELkfnTpz4kJj3ww8/4pZi+bHHHhNpk9WUyqq01UfKcgrlc889l3Jzc2nChAluh3jVqlVC2ko5zG+qY6lRvmrHcK6hK1Mfm9WstXqf12nVxuj9yZNfon379tLkyU8YflDo35cpnVV5KyUvf/lhypSnNInvmRI8oj+FMHkQAIGwJ9CgySl0fr+/iHly5O3yRe9SWckfGS8Sk1OplyZz66RVf5lqxeIP6NC+XSFfF4RuyJHjhiAAAiAQdgR69m5Nmzbs0/6eY5yZKewmjAmBAAiAAAiAAAiAQBgSgNANw03BlEAABGKeQFgIXbkLcXFxlJiYJOrrsuSNj6+l/eG42eqLa+96E7pXtkqlF8/LEhG2A784SL8eraBmdWrRwGYp9JqWbpkvjt5d+Fsx7Tl+TcTHhgAAIABJREFUglqlJdAn/RpS/aR4uvO7PHr/V/O/9IeD0OVatyxT+eKauFb1ab0JXbOTz/V5X3rpRREFrN5DjsWRwX379jPsHslC1yhaVr9IK6FrNIaV0OU6uhyBe//91bWGzVI089gQuTH/eQ0AIFCjBBo3b03d+gwWcyjMPywidSvKy6h2YrKI4E3PrC/eW7V0Pv2++5camSuEbo1gx01BwBaBu+7uqWUgqUMPjf/UVns0AgFfCIx78GK6oFcO/bRpP90z+mNfhkCfMCPAe1pUVEbPT/4qpDPjLwZ06nKy2z0PHjhKc975MaTziIabnXl2U7p86Bm09Muf6atlNfP/iNHAEWsAARAAgVATgNANNXHcDwRAAASsCYSV0LWeLpkK3QFNU+jtntlUUFZJly4+SNsKq2vyPtSlHv21XRot+72E7tKk7YHi6nTKXRsk0psX1KeTUuLpnjX5NGOb93TP4SB0ed4zZsxw1a/l9Me7du2ivXv30ooVK90idrmtldBleXvZZQOpQYMGlJOTI7i0aNHCtQ1GQpdr5g4aNMhwqyB0PVMoOxW6sq4up1v+/vvvaMuWTdr+hjZlqZ3nEG1AAARik0CznPZ09oWXiMXnHthL3y2ZRz36DqPMBo3Ea2u//pR+2765xuBA6NYYetw4SARyWtenSwe19zp6qCWHr0v9ZOmtouulfab5OgT6gYAlgXARuuqz+8mCzbT9l8Nucx9+zZniZ8hByy2lF6cPo5atskP+2cFfQul3yeluE9zxay7dOWqu9aTRwo0Ay/F7H7iIFn+6xVDMs/A9v2cOtWnbUCvDVU5btxygj+duQJQ9zhEIgAAI1DABCN0a3gDcHgRAAAQMCESF0E2tFUfrhzSmerXjqZ8mc9fnVqdZ5qthcjzN7dOA2mXUFj//cLiM6mrtTtNSLfP1wNoCV/SutxMSLkKX58ii9qyzzhJRtOrFsvWBByZ41L3lNvqUy5y++d577xGpleVVUFBA+/fvp0aNGplG6Ear0LWKvmVGVm0CkXKZ7yPTLst9OXq0kDZv3kiLF3+CKF18jIMACNQ4gZZtu1Dn8y4S8+AyCbW1zBp8rf9uCe3Yuq5G5wehW6P4cfMgEJC/BPc2dKQI0lAKXeY27Kou9Oar39GPa/HFOKuj+ciTl2gRkOX01KNfWjWNiPfDIeWy+uz+sGa3R2Q6S0q+IAetj1RNCV39zPgzLBqEbk0872ZCNzs7lUb/vRed1bU5lRSX0++/F1JmZiplZKZQQX4xPTTuE48vQ1ifGLQAARAAARAIFAEI3UCRxDggAAIgEDgCUSF0h7ZIpWk9smi6llb5fk3Q6i/O2nyF1maUlm75jKxE8faqQ6X0j42F9M3+Uls0w0noyglzhG3v3r3ozDPPckXtrlu3jrg+Ll/eInRlndytW7fS++9/4BbdKyNtoylC9+STm2opqsfTjh3b6cUXp3jsuYyMXb58CS1cON/wTPgyxqRJT4o04jKlsjqwt/E4xXLHjp2oVavW1LTpKVqKwvrEUbtPPjnR1nlFIxAAARAIJoHTOnWjdmde4LrFTz9+Q//dsCqYt7Q1NoSuLUxR2ahJy7a0b8fWqFybXJT8hXikCoVQCl0ZWffM40uQ3tPGUxEtosrGUkPWRD6vLKn4uvn/3nOLNoTQtb8VELr2WdlpWRPPu5nQ5Uj1a0d29Yjcla8jdbqdHUUbEAABEAgeAQjd4LHFyCAAAiDgK4GoELoPn1mPbj89jS7T6uauOvRHdK6vUIz6hYvQ5Tq6GRmZHumVX3nlFerevTupEbRmQpejcydOfEgs8+qrr3FF9Mp1S9kbTUKX1ybl6lNPPewR6Tpq1O3Utm17evXVF+jnn81/Iex0DDnuO++8RevWrXU7WnYksuwga+sajRPIc46xQAAEQMAugXZnnk+ndTpPE7nf0U8/rrDbLajtYkHosrhs0LQF7dj8AxXmHRI8O13Qn4qOHqFt678z5Sv7cYMN33xuuQ9qe6ux5WA8D3mp8zO72amdz6PUtHri7UN7dtoSsuo9sk9qShkNG1NOh3MoKSWVHhtZHTmuv0KxdkugAWjgq9Dl1K9Nm1dndanJ2oV6ocspNtPSk2nP7gKvEVgcwdWhUxMXQTtrCKXQ5X3h62hhia1oYKftfT06TvbdX8Gj3mvThn0RlSZVnbvdPbSzJ/J5/Wb5dlHTd9Zba9zSK1sJXX+ZWvWXz5X6/Mln0uwZ84eVHNsOY/mMyLlFstD15XmXrOx8ZvuyJ748704+T3je+vbeUi7zWczNLfJ4rEL5JSA7zzTagAAIgEAsEoDQjcVdx5pBAATCnUBUCN2/d0yn+85Ipxu/yaV/7S42ZN4pqzZ1zEykd7Z7r5VrtmHhIHTHjx9Pw4cPJ66de9NNo9xE7Pvvv68JybZuQpcjdceMGSOWpIpbjux99913xOvPPfecqMsrr8cee0yrq3uZ+NGp0JUC+cCB/dS3b7+wO/sylfGqVStp7tzZrvm1adOWbrnlr7Rv316aPPkJ1+s9elyopaROpSVL/vjFt9MxZBpm/dgcgTt27DgRvasKZhbA9euf5BGJe+21N1DnzmcRhG7YHStMCARAIIwIRKvQHXL7g9T1osH0xeyXqe+I2wXxspJimvXM3+nym8dTdqOm4rU1S+bTvJcfdduR9KwGNHLCC9S4RRvX69x3+by3aNmHr3vsnlF7bnTsSB799P1XtGTONJdIlp17X3ET9RoykhKT/yjjwO/t3LKevvv8Aw+BzOvpfH5/w/azJ9/nMT6Pdd6Av1Cfv9xMdetluc05d/8ejUURHdq7kxa9NdmtbyjWLifD8+t68RDa+O0SQ66BeEzsCl0pP+665UMac9+fRO1Jef2+r5Du+9vHPgu3gVo939vuusC0DqK8j5yrKrHkL+cfvG8R3T2uj0ipKS+jlLQsBMZP7EuNm6S74eOIx7emr6JFWl1S/SXvYcY7kOmpWRr3/FNrSk6pLuvCF6cIXbbkZ3pjmueXKzjibNjwLm7teT9envq1hwiWQtqo3qSZ3HK670b1QVVuRvdW+7Co5BTNsmat7PvK89+49ka+p5eZsu2zUy+ndh0aEZ9VfY1Zp8+M0d5722+WSA8/danb8yH3cPV3O+ndGd/7/JzwOPIZ4Cjxm2/vof39rZxuuvaPv3+YCV2zeZnVHnWyJ3JO87TapJcMbOc6i7xnXbudItLe8qXPAsDP/VXXnu32zHI7s/PL70lpOPe9dWL9Vs8792GRqf9s4HPGX0jR19CVn0VGnx081o23nkdDhnXyEOlOz5Xa3okIdfK8y3sYcebPu+9X76bpL690O49O98SX553nZXQeeU5z56wzrf+s/0yQn4u8H2bnWL8v/Pn//KtXiDOmPjf+7B/6ggAIgAAIOCcAoeucGXqAAAiAQLAJRIXQPa9hEv3r4ga04kApDV5SHa2iXl2yE2meVke3VjzRKXP2UpUPVMNB6LKInTLlH3TSSY2E1N21axfl5eVRu3btXPV0VUHL0bz8M19cH5f/zJ8/XwhcmVaZx+G0yzxOhw7tiUVjaWmpTzV0pXDm+7HU5SucxC6v7Y47xor0xVu3bhY8kpOT6fTTO4i5zpjxmis6V0pefl2VqE7GkMdMRumy1N29e6d4uX37jpSWlk6ffbbQTRhLccttV61aodUzK9L25Qwhc7mW7qRJ4304vegCAiAAArFBINqFLsvLL957WWzmVWOqv4D09YJZtP7rz+jqe56htIxsemhED9dms9C85bE3xOurFn9Ie3/dQql10+n8y64REvi95+73kK2jp8wR8pfH5fZ8cZ+2Z19I6Zn1aerY4W6HiSNmeS7q3LjBya1OpzN7XUoL3/yHxz1YfjZueRpt3/i9a6zz+v+FWpzemf677lt669E7Te/x7rP3ikhejrod9tdJlKbN6c1H7vSI7g3F2uUkeS53Tf5D1LzxyB1eo6V9fRqdCl3+pfvmjb/Txx/9h44UlND/3dhVCBsp4nyZB/9yf+YH15EqUVhcnN8zR0TayhqsRhGyUrjxL/dZmH2iCdl6Gcl0++gLhbRVRaCcG4uBnTtyxS/1+eJ2UooaSUAZDdfn4jZirSyufvm5+u8GdiID7TKRwoLn9fGHG7T/RyvV/r8uifprkqxYq0V7z+iP3YaS8kltL9fCDfXpeP0Runb3XY2gu/eBiwRjFq/yMoq0lX04RWpJSTn9vPWgkNosnA4dOiYEmprmWkoZo7Sp8iwFStjIvef58/yYrzehKwW4ekZ4D1lsZtWv43dtW1We1qmTSP0uOd2NjZnQfX3WCDF3Fl8b1u0V2zFwUAchvo1kmJM9UdNAs5D78rOt9NrbVwmxy8/022+scX1O8BcvZP1pvgfXpN70n33irPPVqcvJYk38PF99xdsejw4/7zLd9Ff//sXyeefzwHPh69NFP7meW76v/FKKfj/f/fD/tL/LJdDQgW943F9yvO4vM/0S8+rAdoWu0+e9eo+rvywjZan8zOPPspxTG2hfepjrtg6ne+LL88578vQ/L9dq2qa49oSfkcuv6CTOqFFKe/nZxV8KYJnPV+s2DVxfILAjdFnse/vvgt3PabQDARAAARDwnwCErv8MMQIIgAAIBJpAVAhdhjL7T/Xp4ibJoo7uxB8LqLyyGtUQrXbu5K6ZlJoQRzevyKUFJhG8VmDDQejyHFnqPvjgBBGNq14sUGfPfs8t2pbfZ8k6aNAgLdK0Ogpizpw5WvTnk2Kcxx9/jFq0aOEahgXn1KnP0//933XidacRujyQTP0sB+UI4WXLllnhDdn7LGSvvPJqkV5ZXixKZ89+2y3VMrcbN666Xu1LL02hvXv3uNrbHUNdFEf2crRuUlKSeJml+bJlX7jJXNleSl21PwveOXNmus0jZNBwIxAAARCIEALRLnQXTH+KvvvsA7EbT837kX7f+bNLsI64+yk6o0dfGjfkTNduqZG9ajQuy86/v/gxHS3IpWdv/7Pb7urHVd/kfjLNs3xd3sNIDhu193aUJry1RETgqmvg9rc+/qaQvc/fPcJN3EqRaiSBQ7F2uRZe5/2vL3YtTT/PQD0+ToUuiyo1UlTKNX9r8H606Eb6/fdCl/B65MlLhDxlESHFihSeqoBRI3SlKGI23lJxGrEzq7motg1mymWWDY8+PVAIUKNoZ6P0oVI86cWtXItesvsjdH3Zd7uiSjJmGZmZmSqiLqX4UyNS1ZS9ZmJNrt0setef58ZOil5vazZLAetkTuq55i8vcLSh+kUII6Hr7WzzGWLeZoLSzp6oaaDlly/0rKRYtFN/Wj77Rm3NnnezNcrPDP35ZeZy7XqhK/vovwwiP+vMoned7KPa1u5z4vR553vw5ypfj09a7BGx7+Q8etsTuRa765CfQ/pnVMr3fE3mq9Gz8ksaLPn1AtrO5zbPj8/fyFHdxFS9RQH7uofoBwIgAAIg4IwAhK4zXmgNAiAAAqEgEDVC96SUeFoy4CRqlFKLik5U0c8F5dS0bgLVT4on7Uchc83SMdsB7YvQ3bBhg+XQeXn5lJWVadlOlavcmIXs2WefJfrt3r3bUppy3dyCgnyPdhzF27x5dXotNfWy5YQsGnC657Vrf6AbbhhJffr0sRwuPz9P+8WQexpFo06dOnWyHMtOA5ayOTmn0sGD+71KUm5XWHjEcEi7Y6idWeoeP37Ma51e2Z7b8rV9+zbTOdhZK9qAAAiAQKwQiHahq0pTvXiVAlOVoSxIE5NS3KJ25VkY+eCLdFqX7vTETf3cJO0js1eKJh+98qitWruX/N8YunDQtSKy9qOXtBr1/6vr68uZk9HBeqFr9jrfw0xAh2Lt6hplyuU1X85zSXdfGHjr41TomkkWf4UuC6DGjdNd8pblRX5+kYiik1GzUi6pkXtm9RCdCl077YMpdK3SCOv3UM7XTC4xF32Uoz9C15d9tyt45NqkBFSj7Vh033DLefTmq9+5CSmz1LdSPAUyglI/P28RulKgPT/lq6DUltafU5leWq7XSOiqabP1KajN5JqTPTF6dvRC10zMG302eXvOnD7v3oS1maCXX67QP1tSHhpF/fvzuWznOfHlebdKH+1kznY+++ysg+/pLQLa6Pk1+4IKj2Xnc5tF/DP/HCSWayS2nXBAWxAAARAAgcAQgNANDEeMAgIgAAKBJBA1QpehNE6tRZPOrEcDmqZQSq04EaX7rlYzd9a2Y/Sf/HK/uIWb0PVrMSHsLOvqWt0y1ELXaj54HwRAAARAIPIIQOgOdotuZdmpT4Usd/XMXgOF0NVH1nI9XFmnl/tu3/S9qAu7bb1nTVAeS6Y25hTOXJt3x5Z1tEurnbt22QKvcvfUzudRx+4XUcOTW1KSVq+er+xGzURdXTOhaxahy7V6pz1wg9uBDcXaQ/2EhIvQlcKAZZmMyOIILk5zKwUKi4B9e4+4pR52KnjEmdBSfl48oC21aJkt6mjylZxc25WS9vnJXxlugx2p4ev+eZNuRmNKoWmWatQo+jBShK6d2rdmaZdZqP66PdcjPbWv+6L2sxOhK+UT9+No6/+s30srvtruER3p63z0AktKOxmBaiR0mQmnPzYS0VYRjnbOpT9Cl/ex10Wn0imnZIqU1HzJKG1vEbr6tZiJPZmi2Sh9srf9NJKOLM9b5WQbpmL2dT+5nx0R6s/z7jRa3emeyLXbWYdcrz4VuxxDprVX915+bhlFWdsRurJ/oEW8P3uOviAAAiAQ6wQgdGP9BGD9IAAC4Ugg8oTuZO0XigmJIWVZVXyUaFyvkN4TNwMBEAABEAABEHBGAELXU+haETRKlcypjHsNuZ5adThbpEDmi+Xux689aSp2WQS30QQxp0aW15ol82ney496TEGmhz52JI9+3bRWS9V7XLRpd05Pw5TLHP06aNQ4YnE7e/J9QhSzSB5x99PifmoqankzFrpWV6DWbnWfQL0fLkJXiiX+RT5fXH+VxR5HVnGtTJasLAz0AtOp0OXou7vH9RFpZrkG62+788X96msyiVM8e6vFGAqh6y36U91zb3KW2xnJqkgRunYZ6NMuS7npVGDZfZbsCF0eS9Yh7dipiThnfLHAennq136LXSOBxfKRL45cNxK6Zs8I97ESYnbW7KvQ5Weea1fzxXW5Dx+u/sxu07ahiMwPlNA1yx7gbW36tMtGdb7tnhurdnZEqD/Pu50013KOvuyJ7GtnHdxWnkdvXIyErtE6rM4v38NOumirPcL7IAACIAACgSUAoRtYnhgNBEAABAJBIOKELo2dSXGn/FH/NBAQrMao2rmR6LnrrZrhfRAAARAAARAAgRokAKHrKXTVOru+bA3L3W4DhlHXiwaLCNx/3Hm5ZVplFrDnX3aNFnHblPRSt9MF/emqMU+41f+V8/KWWllKXXUNPJ/l894itT6wfN9bLWC7HHxZu92xfWkXLkJXpjnlKKpWWtRezz+1FpFwLF2Ki8rpvVlrRY1ZfZSVU6ErJY5eDtgRA6EQunaiU3mf/YnYM5LWZnLLjBfPwUrgWL2vP6925KHaR58CN5jplvm+TufHfVjuXqrV7+x3yemiHrS+3rHTZ9bonKrncthV1YL0zlFzXUMHIkLXm2T3RejKeqk8ST2TQKZc9jVCV0aAyzrUwUq3bOc58vd5t/sFB1/3RB40u8+73XZyXH8jdPm/LWnpybRpwz7KzS1y+sihPQiAAAiAQBAIQOgGASqGBAEQAAE/CUSe0D33zxQ3YqKfy3bWverdSURrFjrrhNYgAAIgAAIgAAIhJQCh6y50vdWRdboxUrYaRbUajWUmbmWtX6OoWm9Cl9dyeN9uWjp3OqWm1RO33PDN56bLqIm1cxpps9TUTnkbtQ8XoctzkxG4zZpnUkpqbSGlOFKOIx1fe3mliNp98L5FblGOToUut+doyZuune2Go6aFbiBr6MpoQv06oy1CVx81Gcx0y3xYfBG68pB5E+NOnmOjcyrlI9d8lWmLVaHrLW2yPhJVPxc7a/ZF6Mo+Upiq9w2k0PWlhq6cC0eAp2ipqjnyOVjpluXnnlUNcm81dM2ed6c1dH3dE8nLrqj1VkPX6Fnwt4auk+cLbUEABEAABEJDAEI3NJxxFxAAARBwQiDyhC6vLoRRulW7NhNNuc4JU7QFARAAARAAARCoAQIQuu5CV8rTrxfMok/ffs5tRzhlMacu1l8sYo1E6T0v/0tE3OqFLkvMA7t/8RhLRtTqI4TlnL6Y/bJbZC3P567J7xmmXJZy+D8rv9BSLo+zdbJCsXZ1IpIPp6Z+9vY/25qj00bhJHRZoOzbU0A5pzag1d/tFGmW1V/mX9Arx6MOqC9CtyC/WEga9bKKeOW2wazFKPeBJex9f/vYI5KMpY0+ukyKEX2Eo9lazOqlcgTbA5P6GdZZ9TdC10iem51RO/JQ31eKtremr6Lb7rrAI4Lb6fPgrb2d+fE+frXsF49hZHpoJ+lvjeZi9sUD5tCuQyPxZYWSknK3CF2zfecz9fyrw7T60QmmkcN218xftlAjv/X95Lzl+r0JSrmWQKRcllHb+vqr3s685C6fI54Hr89IPgfifDkVoXafdzXi9vFJiz3Sfes/U3zdE8nA7MsyekbeIm6NPufkFxb4c/uuW+a6fQ7K/fWWKp/FNmd9eHfG94jQDcSBxRggAAIgEAACELoBgIghQAAEQCDABCJT6GacRHTbixTXqFWAcbgPV3VgB9HLdxAVHAjqfTA4CIAACIAACICA/wQgdN2FLkvSWx57Q4jY/677ln5cvkhAzul4DnU+vz+tWvyhm+iVEpTbbl37NRUdKxTtz+v/F1GrVi8refy/v/gxlZUWa2N/Qnt/3SLaZ5/UVKvBO5ISk1M86tuyAL7xoZeI6+cu/eA12rz639T+3D+JFM1pGdmGfXhMjriV9XzlSeGUy/t2/FdE7eojY4O9dvW0yjXJ1+xGMds58TINLLeVtWP5l+UsUeXFMlW9/BF7dubEbfiX802aZlDjJukk04SqopPb6CNrnQpdKYtYzsx9bx3Vy0im83vmiBTPyVo0HkfKTRz3ieEv/qVYYGn28Ycb6OjRUjHXOnWT6I1p39ldpmk7KSd4/CWLtwo517pNA+p9URsq1tL16tcuI/DU+XTqcrJYS0lJhYf8UMUIp7Dm+avtud6rPrWuP/uuypYN6/ZWP/c9Wgru23857OLA82raPIOuHdlV8JR1lO2kSJWyks8vi0lO0x2oS31OeMxzz2shauKyPDJ6TqSo4kjZNat2Cb58DRzUwSVb9XvodK5mQleeBU7r/PvvhW5Cl+8hhTLPnfciLS2J+g9sJ2rV6mUnt3eyJ75E6PI9ZCpofta//GwrddAi8ZlVq5xs8SwaCVSnz7s888xl7px14pniMyZr9/J9zNJJq88L77s+O4DTvTNrL6OImYOcH/9T/8UAp887308+H7z+Txf9RL/8fEisnz/zGjdOp3v/tsDtWfRlT+S67D7vLG2f/uflYh78rCz98mcxhPws4nnqP0/l2Fz3fNGCTa7nSp4Vb0JXnhnue8/ojwO1bRgHBEAABEDADwIQun7AQ1cQAAEQCBKByBS6GoyqhESK4/TLva/RfsPVLLB4Dv9GVcveoarV/6K4irLAjo3RQAAEQAAEQAAEgkIAQtdd6DJkFptD75hIp3Xp7sZ855b19K/Xn9GE6FbX69z2ouG3CtnLMla9WPJ+9NLDHpG4HD3ba/D11LhFG7f2Uth+99kHHnvd+4qbXMJXvsnRt8vnzaAbHnqRSouLPKJc5dzUwZq1bu+6r1EK52CvXZ2LGqH76oQbLesM230ApIDx1j6QYs/uvKQQ4/aqPJG/kOdf/j80/lO34ZwKHpYJDz91qRBZ8mIZOPmppUJycK1TfZ1e9YYsSFgGsQiSlzcJbHftsh0zkHJZviaF7aIFWoYf3WU2n+ee/rebqJHdpOBR185ylyPYeO2B3Hcj1lKszXnnR9dK1H1Xl2cnmlWmm+V+RufDKX+1vdPnhOdy9fXneOyfnNvUfyz3O0LQW2pwKQaN0vea7YWRPOP5OtkTX4UuR8nePa6PkOT6Z0k+o9f9ZaYbM6fPO4/LInTkqG6uZ1aewRYts8ko6l89A1KEG0X1+3O21L5GHMyigZ0+73L9V117thtn+QUe/Rd3fNkTuRa7zzu357aj/96Lzura3A0jS9dpL6zw+Ozi9uMe6iu+GKGeFf6ce/7VK9yiw/X7IvcwWBHWgToHGAcEQAAEYokAhG4s7TbWCgIgECkEIlboOgWcXb8B5R72TC3odBy0BwEQAAEQAAEQCE8C0Sp0A0Gb5WbL9meJobzVnpX34qhTO7VqZXt1/EN7drqJYrP5sww2mk+Tlm1t9ee+MjpWn9pZvWew1y7vxevZsfmHgMncQOx7NIwhIxD37C7wiBZVo0fN1soSiy87UaS+8GKxkpaeTPr5mY3lpD3LEY6GPFpY4pGG1Ze5WvWRrIN1PzU1rlG6Y6v5BeN9uR88drjMieci9z6c5iVZ6Z8lPjd2nkW7+yefWSf7wXN79OmBXoWh3ftbtXPyDDtpK+/r5Dn0Z0+c3MfpeTT73PbGVt7Dyb5b7RXeBwEQAAEQ8I8AhK5//NAbBEAABIJBAEI3GFQxJgiAAAiAAAiAQMgJQOiGHHnQb8gy9v7XF9OaJfNp3suPGt7vqXk/kjehG/RJ4gYgAAKWBGSdUKM0w5ad0QAELAhwynFOTayvWwtwIAACIAACIAACvhOA0PWdHXqCAAiAQLAIQOgGiyzGBQEQAAEQAAEQCCkBCN2Q4g7Zzbh+Ll8L3/yHW3QxR+f2GTZK1Pf1JnxDNlHcCARAwJAAp9K9/IpOlKml7H180uKQRBtjK2KDAEeocppiTvEr63nHxsqxShAAARAAARAIPgEI3eAzxh1AAARAwCkBCF2nxNAeBEAABEAABEAgLAlA6Ibltvg9KU5lPPS2Bz3q+sqBIXNJY8PjAAAgAElEQVT9RowBQCBoBJ6dermQbbL+8Y9r9wTtXhg4tgjIFN5G9Z5jiwRWCwIgAAIgAALBIQChGxyuGBUEQAAE/CEAoesPPfQFARAAARAAARAIGwIQumGzFQGfiKyDm9PxHNfY2zd+j5q1ASeNAUEgsAR8qYca2BlgtGglwHVaT29/En23Ygfl5hZF6zKxLhAAARAAARCoMQIQujWGHjcGARAAAVMCELo4HCAAAiAAAiAAAlFBAEI3KrYRiwABEAABEAABEAABEAABEAABEKhhAhC6NbwBuD0IgAAIGBCA0MWxAAEQAAEQAAEQiAoCELpRsY1YBAiAAAiAAAiAAAiAAAiAAAiAQA0TgNCt4Q3A7UEABEAAQvcQDgEIgAAIgAAIgECUEoDQjdKNxbJAAARAAARAAARAAARAAARAAARCSgBCN6S4cTMQAAEQsEUAEbq2MKERCIAACIAACIBAuBOA0A33HcL8QAAEQAAEQAAEQAAEQAAEQAAEIoEAhG4k7BLmCAIgEGsEIHRjbcexXhAAARAAARCIUgIQulG6sVgWCIAACIAACIAACIAACIAACIBASAlA6IYUN24GAiAAArYIQOjawoRGIAACIAACIAAC4U4AQjfcdwjzAwEQAAEQAAEQAAEQAAEQAAEQiAQCELqRsEuYIwiAQKwRgNCNtR3HekEABEAABEAgSglA6EbpxmJZIAACIAACIAACIAACIAACIAACISUAoRtS3LgZCIAACNgiAKFrCxMagQAIgAAIgAAIhDsBCN1w3yHMDwRAAARAAARAAARAAARAAARAIBIIxILQPalpK8utOLDnV1ebzAZNKDEpmcpKSyj/0D7DvrW197O0dnypfevWy6Q6aZkefY4fzadjR/It56FvYGfuso86D9kvT5t/ubYOvtQ56+dtNDHJgd/Tz199z2xR6r0dLxwdQCDGCUDoxvgBwPJBAARAAARAIFoIQOhGy05iHSAAAiAAAiAAAiAAAiAAAiAAAjVJIBaE7uCR91ginv/Ws642vQZeS5kNGomfv/3yIzdhKxuxMO1+8VDxo9q3Y9c/Uev2Zxver7ysjHZt+w9t3fCdS7JaTczO3OUY6jxkP3X+6py5z9qvP6Xftm82nALL335X3EK1ExPF+79sXksb1/zbkJHZGszYWa0Z74MACBBB6OIUgAAIgAAIgAAIRAUBCN2o2EYsAgRAAARAAARAAARAAARAAARAoIYJxJLQPXokjyo0qWp0LV80y1BWFhcdo6Ufv+UhYK2ELsvbY9r95JWgidG0elniRx5z9bIFptG/6vxYLqtXcp26lJJal/Tjc5uVX851zdOO0N2362cxD6Or1elnUqdufVxvmQldXkvJ8WOGY2xYvdTWGmv4EcDtQSAsCUDohuW2YFIgAAIgAAIgAAJOCUDoOiWG9iAAAiAAAiAAAiAAAiAAAiAAAiDgSSCWhK7diFEZocvSlCNU9TKTKVoJ3fxD+0mVxNyH0xSfdcEAIXZZLi+Z94bjIykjgI3GVwfzJnS5b11tDry2RbNfMIwWlgwO7ttFDZucYhqha8TG8aLQAQRAwIMAhC4OBQiAAAiAAAiAQFQQCAehm5d3iKqqqqKCJxYBAiAAAiAAAiAAAiAAAiAAAiAQewTi4uIoK6uB4cL57925hw8HFUqSlta39H/1XYN5IyO56e1+UmZyBGuDxi2E+Fy+6F23aFNfhC7fU01lvGHVUvp1y4+Olh4IocuiOv/w70LUGs2B6wBfPOQmEQUs25lF6ELoOto+NAYB2wQgdG2jQkMQAAEQAAEQAIFwJhAOQjc/P5cqK0+EMybMDQRAAARAAARAAARAAARAAARAAARMCcTH16LMzGzD9yF0G4moVL64Jq4+ItZXocvjSSnL0a8rF3/g6IQGQujyDVnkckplo0hheQ8W2imp6aKeMISuo21CYxDwmwCErkOEVQmJFHfe5RTXawRR/WYOe1s0P/wbVS17h6pW/4viKozz9gf2hhgNBEAABEAABKKHQDgI3cLCfCovL48eqFgJCIAACIAACIAACIAACIAACIBATBGoXbs2padnGq4ZQrdaYm7d8B31uXykqFu7Zd23tHX9SsHLH6Er+3IE7KJ3pzo6c4ESupxqeeCIv4p766OP+195m1jv2q8/pRytli6ErqMtQmMQCAgBCF0nGDNOIrr9JYo7qaWTXo7bVu3/leiVO4kKDjjuiw4gAAIgAAIgEKsEwkHoFhcfp6Ki47G6BVg3CIAACIAACIAACIAACIAACIBAhBNITa1DKSl1DFcRjULXbLusok+b5bSnsy+8RKQgXr5oJh07kh8Qocvzmf/Ws45OUaCELt/33N6DqMkpbWjXto3044rPxTz0slmmnzZjZDZ5qxq/jhaNxiAQgwQgdJ1s+tiZFHdKeyc9fG5btX0d0fM3+dwfHUEABEAABEAg1giEg9A9caKCCgryYg091gsCIAACIAACIAACIAACIAACIBAlBDIysqhWrQTD1USj0OX0whWalNVfu7dvdqtlayQx5WsyTXIgInR5HjUpdFVRLSOF9ZLXSugWFx2jkuPHPJgWFhxySeIoeVywDBAIKQEIXbu4uw+muCsn2G0dkHZV704iWrMwIGNhEBAAARAAARCIdgLhIHSZ8dGjR6isrDTacWN9IAACIAACIAACIAACIAACIAACUUYgMTGJ0tLqma4qGoXut19+RAf2aBkzLS4jiVm3Xib1Gngd1U5MFKmIy0qLqfvFQ8VIqpS1E0ErZTDL0M/ff8VqOm7v2xmfOwweeY/op67ZSEKr6ZV/08T2wKtHizV+Oe91EYlsJXT1kbuOFoPGIAACpgRiSujm5+VSZWWlb8dhzAyKa9HRt74+9qrauZHouet97I1uIAACIAACIBBbBMJF6J44cUKL0s2NLfhYLQiAAAiAAAiAAAiAAAiAAAiAQMQTyMjI1qJza5muA0K3uobuxjX/djFq27kHnd6lO7GIXbdysc9C98zz+9Mpp3YkGe3r5DAFWujK8fbt+pl2/rxRrIkjmZfMe0NMC0LXye6gLQgEjkBMCd3CI0eovNwzfYItnE8tp7iUNFtNjRp1yqpNV+fUoWta16Xa8USHSyvpqQ1HaNYvx6myynjYquKjRON6+XxPdAQBEAABEACBWCIQLkKXmZeWltCxY4WxhB9rBQEQAAEQAAEQAAEQAAEQAAEQiGACdeumU1JSstcVQOh6Cl0GdtGQGymtXhaxAOX6s3w5idDNbNCEevQdJqJg7UYMqxsVaKHLkccXD7lJSOqDe3cI0bxh1VJXCmoI3Qh+0DH1iCYQU0K3pKSYjh/zzN1uZwfjpv5gp5lhmz83T6HXzte+3RRXLXL3HKug0zJqU4r2wpaCchqx/DDtOX7CsG/V6LN8vq/asUOHjtS7dy9q0aKleHnnzh20bNly2rRJiwI2uK6//nrx6tq1P5i2CcjEwmwQ/bqHDBlK6elpVFh4lObN+8grq927d2tMl3m0YfZnn129j3Z4cvsHH5xAmZkZNG3aa6b3DTN0mA4IgAAI1DiBcBK6DKO4+DgVFR2vcS6YAAiAAAiAAAiAAAiAAAiAAAiAAAh4I5CaWpdSUlItIUHoGgtdFrK9Bl7txs+O0K2tCfRmrdpRuzMvEDLXl+hcvmmghS6PKaUtS90U7Xwsmv0ClWtfXlff00crm4ley4OFBiAAArYIxJTQ5XTLnHbZl8tXoTvklFR6pUcWHa+oorGr8+jjXcXi9klalO6DXTLolrZ16YfDZdR/8UHDaQVC6E6ZMoW6d++u/Uc5xeMe3377Lb300sse0nbDhg2i7XPPPUczZszwBVlE9tGvm9n16dNH+6V8MXXr1s1jTSx8J058SLy+c+dOGjRokEeb8ePH0/Dhw8XrV199jaUgZ6k8ZswY0X7p0qU0duxY8e+9e/em5s2bi3+PpT0JxkFq06YtNWjQUBMtRXTw4H7au3eP49s4HePkk5tSw4aNKDU1lQ4dOkg//7zV8T3RAQRAwDuBcBO6PFtE6uLUggAIgAAIgAAIgAAIgAAIgAAIhDMBrpnLtXPtXNEodDmVcEWZcVbP5YtmubBYyUopVWUHI6HrjXH+of208su5LmlqZz9km2AI3Vann0mduvURt+DI49XLFliyUCVwyXHjwLoNq5dS/qF9TpaHtiAAAv8jEFNCl3+pWlFeQRyp6/TyRegmaBG5O4c3pdITVTRkyUHakFfucdtXz88ilr4Xf36Q1ud6/ofDX6H7xReL6aSTGon7spQ8cOCA+PeMjAzxh68DB/Zr0vDvbqIRQrdaZKty9eGHH/GIln3sscfosssuc+1rp06dPPaYx+nSpYvg3LdvP1tHj/uwgH/11VddUb9SLvMARvexNXCMN0pPr0fXXXcjtWyZ40Zi/fofaNasN23R8WWMYcNGaF8I6OE2/r59e2n69Je06O8jtu6LRiAAAtYEwlHo8qy5pi5H6/L/h+ACARAAARAAARAAARAAARAAARAAgXAgwOmVU1LqeK2Zq59nNApdb3uhSlkrocvRtn0uHymiWfmyI3TLNZGcf/h3+n33L650xr6cjWAIXZ7HwKtHi8jhtV9/Sr9t3+yamlXKZW9r8CWltC9M0AcEopFATAldjs5N1/K/Fx7JJ47WdXL5InR5/Gtb1xGidmO+p8zl9/s3TaZZPevTI+uO0As/aTVzdZc/QveVV14Rkbl8LVy4kCZMmOA2uiojOVL3tttuc70PoftHZLJkYcTw/fffp7Zt27q4GUU0f/XVV0Ke6xk7OX/cFkLXKTHP9nfffT81aXIy7dixnVau/Fo06N27r3ht1aqVNHfubMubOB1DytzDhw/T118vFVHBHTqcQZ07n0UsdSdPfsLynmgAAiBgj0C4Cl05e/5/j7KyUvGHJW9VVaX2p8re4tAKBEAABEAABEAABEAABEAABEAABHwkEBcXR3Fx8ULecjQu/4mP11JIOryiSeg6XDqagwAIgECNE4gpoZt7+BAlJiWJlKdHCgoc/RLVV6FrtcPnNkikRX0b0ouazH1Yk7r6y1ehy+l5WS7ypabt1Y+vSkI1HbAqdLnu6/DhVwpufP3nP/8xTfnL9+U/si3Lqzlz3vdIM8yRr2eccYaWevYQPfnkkyISln/my6wPz5WvRYsWaWlyD9meE/dRx/e2BiORLaXt1q1b6corr3RDKNuzrGV5rpe26j5I2cuvDRw4UIzD6ZR5bueee66IoJbpldW1cl1e/jknJ0ergdzCtaeShVq3l+vvqntlxtLqXPL7ci/1XwSw09dum7vu+quoTxyKFNJdupxN11wzUsjcF1+sPkvyGj/+Yapfv77G+Umv6ZedjsHRvOPGTRTyZsqUp9yica+99gYhdT/7bCEtWfK5XWRoBwIg4IVAuAtdbB4IgAAIgAAIgAAIgAAIgAAIgAAIRDIBCN1I3j3MHQRAINIJxJzQ5Q1L1lLZpiSn0NGjhVRRUWFrD+0K3Z6Nkmhsx3Tq1qC67sD6vDJ647/H6IMdRYb3GdshncZ3Sqcxq/Lpne3HPdr4KnRl9C1LwptuGmVat5UF4OOPPybu+/bbM10phaWonDNnDvXv39+VnllO0CjaVI0IVhfCc1iwYIEQt/KSIpnrzm7fvl3UqdX3uf/++13phvk9X+bE63vwwQluUbTyPnzvBx6YYJlqWmWp1tGV6ZgLtC8HfPTRh3TjjTd5pFVW6+fKNMlqGmfmK+vr8rxkG71Ylj/rD4gaEcxydMSIqz1qJRvx93boWeRed911Ik20WV1gWw+NjUbqOZg/f35Qxe6dd44VqZaNpO1FF/WnAQMuo+XLl2jR7PNNZ+50jMsuG0y9el1kKG25pu7YseMNBTPPp23bdsSpb6rP/o+QvjbOE5qAQCiFLmiDAAiAAAiAAAgEnkBFeTkl1K4d+IExIgiAAAiAAAiAQMAI5GpZ6IJ58e/DULIomIQxNgiAQKQSiEmhy5uVlJRIqXXStHq6JVRc5ClS9RtqR+jefFpdevzs6rq0W49UUHFFJXXJThQ/z9tVRH9fnU9Hy/9IrdhZe4+jc7VSu9R5/j46VOKZBtpXocsClaM5jaJK7RxWKRBl3d1Vq1ZRnTp1qGvXc1w1edWasmqkL8ve1atXi9sMGDBAyFS9WJbt+XW+1q1bR1u2/ESnn97OlSZaP3enc+JxZXQt32fJkiX0yy+/UOPGjWnQoEFCfJrdQxWlQ4YMpYkTHxLzNFozj8G1bmVEtBrpLOvnqvdRha7ky1KbLxmhqxe6VhG66hz5XitXrhCRr5K/fu5GZ0AVufJ93heeb7AuVXjzPVggB0vsTppU/YWCSZPGeyyHI2knTnzCUK6qjZ2OMWrU7dr5b28a+cuRwWlpaXT//WNdt5F9+AsnR48eFSlwOHp469bNWs3dl4O1FRgXBKKCQCiFbrD/AhsVG4JFgAAIgAAIgAAIgAAIgAAIgAAIRBUBROhG1XZiMSAAAhFGIGaFLu8T1wlITdUKvyckULmWErVci9Y9UXHif/V13WvaWQnd60+tQ892zaT9xSfoxm9yac2hMnEUGqXUoqnnZVLvxsn03Kaj9MSG6rTKbesl0L80mZuRGE9jTaJzuZ2/QtdbumVvZ1UKRX2EJke8vv76dCFD1bFl2uDc3FyPWr0sg7n9G2+8Ts8//4K4rSqA9XVnzWrF+jKnMWPGiPupIpZ/NpO0ZrWDZR1ctY6ulOYcZcvRx7KNuk6jfqrQNdsfo3l4q6HrTeB7SxnNLHg+vXr1EhG58mKRO3PmTLcI6WB9tvGZuuGGkULk8znhi88dnxs1qtvf+0+e/JLXmrVW7/P9rdro35f1du+++w7D6evflymd9fJWSt5XX32Bfv55q78o0B8EopYAhG7Ubi0WBgIgAAIgAAIgAAIgAAIgAAIgEAYEIHTDYBMwBRAAgZglENNCV+46F4UXxeC1+roseePja2l/OG62+uLau96E7pWtUunF87JEhO3ALw7Sr0crqFmdWjSwWQq9pqVb5oujdxf+Vkx7jp+gVmkJ9Em/hlQ/KZ7u/C6P3v/VOB0z96tpoavKSclDykM7sphl3UsvvShSNqvtpZw8cGA/9e3bz+0BVIWnTEHMDaTktDsnmQLaLMrUaB1mQtco0la2ZWnMdWzl/WQ6arV+riqU1fWp0bwqBCdClxm/++47orucizqWGU9+ffDgwa66vBwtzHPnGsVqXd5QfTryOi67bKBbim9OZ/35558HROxayVijaFn92p2OYSV0ZR1dKWrNUjRzBHFhoWeN7VDtDe4DApFCAEI3UnYK8wQBEAABEAABEAABEAABEAABEIhEAhC6kbhrmDMIgEC0EIDQtbmTZkJ3QNMUertnNhWUVdKliw/StsLqmrwPdalHf22XRst+L6G7NGl7oLg6nXLXBon05gX16aSUeLpnTT7N2OY93XNNC1199CyvwUzoSiHXoEEDysnJEevltM/yMhK6RjVarYSu3TnJebIU5D/6iyWzXjSbCV2ZGpilJ9fRVevn9uzZUwzNNWzVOrqyD99btuF2ZutT5+dE6KrjMU+jS+6DUR1fnt8333xDc+a8b1pr2eZjErBmzI45y3nb+fKA1c2dylij8ZyO4VToyrq6paWl9N1339B//7sFEblWG4v3QUAhAKGL4wACIAACIAACIAACIAACIAACIAACwSMAoRs8thgZBEAABKwIQOhaEfrf+0ZCN7VWHK0f0pjq1Y6nfprMXZ9bnWaZr4bJ8TS3TwNql1Fb/PzD4TKqq7U7TUu1zNcDawtc0bvepuCr0JURpUbC1M6SzcQm9zUSupzC+N5773GlzOV2LAr3799PjRo1Mo3QDYXQtVqvWt/WbN1qFCxH255/fg/q06ePqP0ra8yqbTjy9u9/v1ukMdZHCAdT6FqtVUYK6+v4cmTum2++FVZC909/6uWq1xwKoWsla5mtVRt/Uy7zPXr0uJAuvfRyrc53kthOlrs7dvxCn376L9q7d4/VFuN9EIhpAhC6Mb39WDwIgAAIgAAIgAAIgAAIgAAIgECQCUDoBhkwhgcBEAABLwQgdG0eDyOhO7RFKk3rkUXTtbTK92uCVn9x1uYrtDajtHTLZ2QlirdXHSqlf2wspG/2l9q6s69CV0aH8k2M0vDKm6tpgdXIV6dCV9bJZTn6/vsf0Lx5H7nWZySAZcrlUAhdJzLQ27q/+GKxEIxcM1dGj+rTP8s2zHLkyJFCZMsauxJIMIWumqLa6oCxhP/zny9z1c7l6GPev1DVztXPj4X48OFX0gUXXCC48cXnY+nSJa7ay1Zr8vb+pElPitTq998/1qOZjIzdsWM7vfjiFNNhnI5hVfvW23hcT7d16zbUvHkLatLkZCF2X3ppCqSuP4cAfaOeAIRu1G8xFggCIAACIAACIAACIAACIAACIFCDBCB0axA+bg0CIBDzBCB0bR4BI6H78Jn16PbT0+gyrW7uqkN/ROfaHNJWM1+FLsux11+fLiJm1QhU/U3ff/99atu2LclUwvJ9J0KXxeDEiQ/9P3tnAh5ldf3/kwAhCSSEfd9VgoiAIrtCWQQqaAEpiEqxrmirP4NtxWKRiuLfViwqblhFNkEUCkFBCxhlEZB90YiyiICEJYQESEKQ/N9z0zveeeddZyaTzMz3fR6fwsxdP/dOavzMOUd0NaoJK2VvqFMuT548WavJOpiM6vTyWllm62vFWu1brZHLkbfMVr9fKap5rxzBa8Qk2EKX55CMjeoL813gZ/fuXYZ3jjmMHj3aI3a5EUcVZ2RkEEd6l/bD8w8fPlzMz0z5YZG7ePHioM4v5eqcOe9o+9vsta2+fQfQwIGDtT2vpPT0xaZbdjuGHHfDhnW0cOE8r3GdSmTuJGvrGo1T2ueD8UEgnAhA6IbTaWGtIAACIAACIAACIAACIAACIAAC4UYAQjfcTgzrBQEQiCQCELoOT9NI6D7WNpn+cnUy3b3mFC09lG84Ursalaht9Tias8+6Vq7ZMvwVujyeGqXLguzdd2d5ImdZot1///1C5vKTnp5OEyZM8CzDjdBVUw3r69tKqcoDh1ro8h6fffZZIQn1Ubpqiminkclq3VyOIDUSxbINC3Ke16oNMzGLqDXir4pgvUiWspnTXE+aNMlLVDtNv20mdmVKaV4vn/WTT06g+Ph4r/sk7xtHLh89epTGjh3ruUvM+ne/G00FBQX09NOTvcSyeke5Q2mIXLkQjni94467tPUd0VInP+tZX3JyNUpLe1xE7z733CTKzT0j3rviilRq1ao1ff75as9rbsfgsR9/fKIYTx2b//6HP6RR8+YtSRXMLG6vvbYTzZgx3SsSl9MwDx06QhP3vmLY4Y8wNAOBqCAAoRsVx4xNggAIgAAIgAAIgAAIgAAIgAAIlBEBCN0yAo9pQQAEQEAjAKHr8BoYCd2udSrT0n61aW1WIQ1ZecJnpA4142iRVke3QixR0/lHqNjhXGqzQIQujyNFn9XU+hqv3NaN0OX2Mq2yTNubnZ2tyb82xEKLU8WyAA210OV1qcKQZSf/w0+zZs3E/+qFq9W+VS78Z647q4pLyViOYdbG3whdNT223IuMYmXROnXqPz01Z1mM8sPcZfpio+hdo3shxS7L/qysLLrllls8zdS16yO/5R3gxrJWL/9ZRi3zn/VfHJDv8VjLly8PakSu0d5khC1L3UOHShi1adOWkpKStfnTaeXKFZ5uzz47VdSx1UtUN2PwYDJKNy8vl/bsKYmSlmmUMzP3aPL2Vc+cUtxy27VrP6dTp05So0aNqWvX68Vapk6dgpTLRgeL10DgfwQgdHEVQAAEQAAEQAAEQAAEQAAEQAAEQKD0CEDolh5bjAwCIAACdgQgdO0I/e99I6HLb837VS3q1yBe1NGduDWHii6VdBiq1c59oVN1SqwYQ/etPUVLTCJ47aYPVOjy+CzhhgwZ4pGYck6WmcuWLTOsT+pW6LJQfOaZyV5zsHScNu0lEZ3JArUshC7v9eGH/0jDht3qEZv8GotnFtnTp7/qFTFqJ3RlimoeQx+NLLnatfFX6PL4LKhZsMrUxGp9Xj6Dxx4b55U6mfvwOc+b955rWcrjDR48iKZMmeK5pmrUs742sPzyAM+XlvaYhyvzv/vuewTz55//h1d9ZX5v9+49Pqmv7T4Xgbw/fPgojVFHIUj54S8crF79qZfM5dfHjXtC1K5dtGgBrVv3hdeUTseQnVjU9us3UIhj+WzfvoVmz37bZyssgHv3vtGzPm7AgnfJkg99UkUHwgF9QSASCUDoRuKpYk8gAAIgAAIgAAIgAAIgAAIgAALlhQCEbnk5CawDBEAgGglA6Do8dTOhWzchllYOrEv1EirQ+Z+LaW9OETWqWpFqVY4l7a9C5pqlY3YydTCErjqPTJ+7efMW05qqTtZl1oaFX5MmTcTboai/6mat5XltbvbBbTmNcU7OaVMRKs/50KFDpSJLjeoP87rMXrer4+t2/8Foz1L33LmztHdvpulwHGEuUzAbNXIyhtqP0zhXqVLVkZiVbY8fP4ao3GAcOMaICgIQulFxzNgkCIAACIAACIAACIAACIAACIBAGRGA0C0j8JgWBEAABDQCELoOr4GZ0OXu9RMr0FPXVKOBjRIooUKMiNKdq9XMnf3dWdp5usjhDMbNgi10A1oMOoMACIAACIBAOSYAoVuODwdLAwEQAAEQAAEQAAEQAAEQAAEQCHsCELphf4TYAAiAQBgTgNB1eHgxL3xJVDHOYevgNCvOzyN6vFdwBsMoIAACIAACIBDhBCB0I/yAsT0QAAEQAAEQAAEQAAEQAAEQAIEyJQChW6b4MTkIgECUE4DQdXoB0mZRTNM2TlsHpV3xwV1aodYxQRkLg4AACIAACIBApBOA0I30E8b+QAAEQAAEQAAEQAAEQAAEQAAEypIAhG5Z0sfcIAAC0U4AQtfpDeh8M9g+6goAACAASURBVMWMmui0dVDaFc99imhTelDGwiAgAAIgAAIgEOkEIHQj/YSxPxAAARAAARAAARAAARAAARAAgbIkAKFblvQxNwiAQLQTgNB1cwNCGKVb/MMeoqmj3awObUEABEAABEAgqglA6Eb18WPzIAACIAACIAACIAACIAACIAACpUwAQreUAWN4EAABELAgAKHr5nqk1CUa+wrF1GvhppfrtsVZB4hefYgoJ8t1X3QAARAAARAAgWglAKEbrSePfYMACIAACIAACIAACIAACIAACISCAIRuKChjDhAAARAwJgCh6/JmFFeMoxhOv9z7DqJajV32tml+8kcqXj2HijcupZiLF4I7NkYDARAAARAAgQgnAKEb4QeM7YEACIAACIAACIAACIAACIAACJQpAQjd0sH/wAP3iYEPHDhIn3zyaelM4ueo/fvfSM2bNxO9X3/9TT9HQTcQAIFgEIDQDQZFjAECIAACIAACIFDmBCB0y/wIsAAQAAEQAAEQAAEQAAEQAAEQAIEIJhCpQpelZf/+/Sk1NZXi4+PpyJEjtGvXLnr++X/Ynmb79u1p2LAh1Lr1lVSjRg0qKCigzMxMmjVrNm3fvt22P8/95ptviHaPPz6e3ntvvk+fP//5T9S2bVtq2LChZ/xPPvnEkfxlWdyhwzV0+eWXi3F5b+vWrXUsZz/4YCFdd11H2rPna/r1r2+yXBu/+d1339GiRYscre2220ZSr169PGvjvhkZGYYM9BPr+zrZ19SpL1CVKlUsz+T48Sx68smJtufmtIH+fmRnZ9M333xNH3642PR+cJ+xYx+wnWLbtq2Oz1EdLJA7G0hfuw2p99zNXQrmmuTnxWytVsz5szx06FBPV6d3yU0/CF27W4T3QQAEQAAEQAAEwoIAhG5YHBMWCQIgAAIgAAIgAAIgAAIgAAIgEKYEIlHoPv30JBo+fDglJCT4nMq+ffspLW2cqXiz6pufn08LFy60lYM8xujRo4nbp6Ze6bUGFlUsIVu29C0BaTe+VV+exG5vciHbt2+l6tWrawJykWAhH7vxv/hiDd1552jTmz579iy64YbrDd8PpK/Vvn74QSt1afNw/969+9g1c/Q+S+e//OXPgp/+OX36NP2///e8obxmqTh+/HjbOVas+ITuv99e/KoDBXJnA+lrtZlA7pIVY7vPiNGa3njjdRowoL8lex7344+Xe30euIP+3LjdyJGjbL/YIb80ISe1uoMQurYfCzQAARAAARAAARAIBwIQuuFwSlgjCIAACIAACIAACIAACIAACIBAuBKINKHLEYEPPfSg5zg4CvXHH3+kzp07eSTcTz/9RF26dPM5Mili5Ruyb82aNUVEq3ymT3/VMtJXypyvvtpMt9463GueDRvWU/369cVrLAB37dotxLOT8VevXuURwdx348ZNYpx27a72jGm2N7kINXr4vvvu94q6VdfG4+zYsZN471dd1cYjx83ErCpzWXrt3r1HCG3elxTrTvpKJrzetm2vsj0zKXR5vefP5xt+DDnS10pEO/3sMrtp0/7l2Y9kxJHSUtDznh955P98oplVMchyz+zhSGt9NDHL0S5dOhlG7gZyZwPpy+tn8crRyUYpxf29S3rG8jPYuHFjatPmly9H2H0GVb6q0NWzb9CgvtcXP/R31EjEz5o1y/ZLHZmZX3uNC6GrnUjNWrXp1MkTTj9vaAcCIAACIAACIBBmBCB0w+zAsFwQAAEQAAEQAAEQAAEQAAEQAIGwIhBJQpfF1/z584RIYbE2adLfvaIl1ag5o0hIKWGM+rK8mjjxb2JsO2kqx9GLH1Us6WWvOr5RFKAqqo1Esbo3K+HE0cHDhg0VMrl9+2s8d1W+zi8YRe6+/vqrHmmsF8Gq9GI2DzzwoCeCkc9E7TtlyhQvMcn7fu65KWIdRimgrfalzqsftzQ+hKpQ1zNW5aiRvFPPvmnT5o6XpwpOo3sXyJ0NpK8q8PVyNZC79PHHH3nErT5dufoZ0d9fK6B27Pke/d///Z9HwKr3W71j/Lnkz79dxLd6F/jM+AscELraCUHoOv7coyEIgAAIgAAIhCUBCN2wPDYsGgRAAARAAARAAARAAARAAARAIEwIRJLQVUWSmdSU6Yb16ZBVcWPWV5WLZlJOFZR68SkFmpmMUkWQXqqqUko/Ll81FqdLliwWt85I+MrrKIWZvo2UlWZrU/no16ZKOKO1qVHBemlrty9et4zC1fcNpdBVz9WMr3o/9DLSTiqa/bjQR4jecssQjywP5M4G0pfXqsptfVRrIHdJnrUZY5WjWX1qPUsn7NUvTKhf9lA58f2TUcJG91z/GZNR4xy9DaGr0YHQDZN/K8AyQQAEQAAEQMBPAhC6foJDNxAAARAAARAAARAAARAAARAAARBwQCCShK4USUa1ayUKVfq6jep0IobMImCthKh6TFL66gWQOrcq9dS+UoZZ1as1ix7miMuGDRuSWXpiVRjro5vNhKu6NlX6qjKcJXb37j1EU7M6tzJ9r56JepZuol4dfCx8mjgRiar01TOS+7eL7tRPzNxnznxbpJ42imC224uTO2s2hlVfyZ4/a//617+8oq4DuUv8GebHKPU0v66KV6efX6cM5D1Wz0gvvrk2Nj9mtY7VLy/wFx84Gp4fCF0NAoSu3ccV74MACIAACIBAeBOA0A3v88PqQQAEQAAEQAAEQAAEQAAEQAAEyjeBSBK6RkJGT18VNGZSxuzEZHSvVbpXKZX1UlWVSlYiSo18VCWlXUSl3fu8J7WNmRQ227sq0tQUu055Ot2/fn5VJFsxZVYsVHv16iWG2Ldvn2WdY7efSrNz0Y9jdgdlfyn2mGfLli1F94yMDK/U4EZr47299958t8vWonm3ChnsJkWxnMSuL8vLrKzjnohhp4szu0tO+qupnp3e4WAJXf7cjhkzRqRQNuOpfsmAo3jffPON/93H/aZfWIipWbNOsZPNB6tNWYnVspo3WNwwDgiAAAiAAAiAgDUBCF3cEElg0KAhVFxcTB999B9AAQEQAAEQAAEQAAEQAAEQAIFySaBxs8souVp1R2vLyT5Jx7OOUtGFQkftS6tRJApdO1ErpZtdO8mcZdqdd97pSbeqrxmqno0cW9/GqVSyaiejPDkqcuHChVqt25IUy8OGDaHhw4fb1veVY9vVADa6azJK1ipVtZWo9jc9sirw9Cl2ZYpjlmvZ2ac1QdrCa+m81rffficoYlcvZM0+j2btpBxloVujRnUhWdWHz2TatJf8krZGa3FzZ/X9A+nr5OeU2V2y66vWE3YTrezks6dG1qrpnvX39oorWnmibo1+Dshzlp8xJ18ygdC1O3m8DwIgAAIgAAIgEBYEIHTD4phKfZFDhgynHj16iXnWrs2gxYsXlvqcmAAEQAAEQAAEQAAEQAAEQAAE3BIYfvt9VKFiRcfdLl26RNu+WkvfZe523CfYDSNF6DqNFGV+TiSLvnYp92NJM3PmTK/0sup5WEXAOo3wtItk5fd79rxByFv1YXnJIuqFF6aaRkyaRQ/b3Sm1NqyVqHYqdJ2KdLWmsFEaaZWpPJ/z5/N9hKlZTWS7favvO7kz3N7snGV/OSaLXX4aNKjvOUs+w0mT/u631PXnzsr1BNLXDUeru2Q1Dkdqv/76qyI6ljk98sj/0SeffOpoaidCV00Jrt4XvdA9cOCgJ+pWX+dXTbkt60w7uTcQuo6OEY1AAARAAARAAATKO4FIEroNGzb24D5y5EdT9FbtkpOrUVJSsuhbWFhIJ08eNxwnLq4y1a5dx/NeXl4u5eaecTSnOq46n9WaS/Me3XrrbdS1a0k9HflA6pYmcYwNAiAAAiAAAiAAAiAAAtYE6jdsatrgpyM/OMIXFxdPNWvXFW0vaL/bnDp5zKefnOds3hnKy83xeV8d49SJLLpwocCnTVJyClVNqiZed7o2RxswadREi9BNchihm5CQSC0ub02xsbG0aX0G7f/u60Cm9rsvhG4fQ3ZGgosjQTdu3ESvvfa6oTSV0aRGEbDBELosjB555GEhtYweXt+8ee8ZRqSqqYutIoz146opZPUCi9vaCWg5nhvhzn1UOcY8H3jgQR/mLHzr1KlLjRs31qJbp3kJPk7r+/vf3yVkKQvAkSNHuU4NrLJwIua4vdk5M6fExEQxpF66qwzd1thV1+jPnTU6H/ma3X13+0PH7i5ZjWcmXJ2sQeXLXybQP507d/JETOs/u0aR5epa1LTPqqyWrzu5NxC6Tk4RbUAABEAABEAABMo9gUgSur169dV+yWgumH/11XrKzNzjwz81tQ1dd1038fo33+yizZs3eLW5+ebfUrVqJf8x4vz581p6pbmGZ8hSuHfvAZ73Tp48QcuXG6cqbtHicurevZdh244du1Dr1m3Fe7Nnzwj5fbntttHUsWNnMe/y5enifwcOHCz+98sv19IHH7wX8jVhQhAAARAAARAAARAAARCIdgIjf/egJYL932fSdu13HiPBKjt26t6bWlyWKv7Kv9ssXTjTZ8x+N91KNWvVoWNHD1PGf5f6vN+m3XXUtv114vVvv96hRbqu82nT41cDqFGTFpR7Joc+/s+8cnd0des1pF/1v4UuXrxI/3l/Jl0suhDyNUaK0FUFoF0EqJQsRoJSHgAL0C5dOom/8pedO3XqpP2+3lH83SxlsUwlazS/KoHU2rj6A1flE9fglFGI6v5YtKWnp2sZrNaJGqY33tiPhg4d4hG9RsJWrVtqNb+6HjVC1kw0qpLOaYSuXcQs73XixL8FLGPVtdnNaffBy8z8WqzHTrhKoeu2Zq16P9Rzt1uX+r4/dzaQ++5mbU7uktl4qii1+2wbjaF+pqzWbPTFASOhq+5FvVfyjqjpoCF0FeKooevmI4O2IAACIAACIBB+BCJJ6HLU7JAht1FcXCVDGat/Pz39A+0/gPxSS4l/gbzllt96HeLq1SvIKHJWL3S505Il7xtG6aqimdup8rcshS6va/DgIWK/H3+8hFatKkml06fPjfTrX98i/rxkyYf0xRerw+9iY8UgAAIgAAIgAAIgAAIgEMYEpNBlSVqkCMiExKqeCDQ7gTr0tns9vxtx1Np/P1rkE6Xb4bru1OrKdtrvRUW06D3fL5j26ncz1WvQSJA8pWUv+u9HH/hQvXn4GLEmlsyb1gX/dweOIr6ua09KrFLV1Yke3L+XNn/5uSZyi6h3/99QnXoNaM1ny+nIoQOuxglG40gRuszCiahVa2W6lUOqGNILQjUC1khsmola/Rmq8koVr1IUmkWb8vwzZ74tIg2NZKKMHrYTknI9qrQyi5DltqrwspKm6nhW4lcvcwNJQayeiVHKZjefH6eiVq2V27u3cfS30byqcNcLeSlqX3/9TTdLFm2t7qzdYHZ9+ayys7NtUx87vUtG61E/D1ZfwLDai5nQ5c/S0aM/UUFBAW3ZspmefHKizzBmtZ/1gt/s/CB0FaQQunYfObwPAiAAAiAAAuFNIJKELp/E1VdfQ+3aXSsORR+Bq8rTdeu0dFv7v/M6vG7dbqCWLVvRmTMlqZM5UvfHHw9QRsZKn0NWhS6357ZGEb+qRJaDlBehe8MNvTWBPYyWLVtMn33mvUcpdRctWkDr1n0R3pccqwcBEAABEAABEAABEACBMCMghe7nKz/ySWOsRs1u2ci1YXf67K5Zi1bU5fo+4ouu2VqqZY6gPXxoP639bIVXW5alPfveJF4zEr5SCstO89991as/p1u+acgo8dqGNavo4P5vg0qaUz4PGnanENP+PF/v2kI7t26kdtd2pdZXdaCtm9bR3m92+DNUQH0iSehKmWYWQcugVPHiNmpTFYRqFB6PK6UVS6LU1Ct9zkSVWlYpj2WUryplnYpJVVw9/vh4r1qsko2s7Wl1adwIOFWQW0lTKZR5XrMI1GDKXLk/J0LNyQfIKJ2uvp96Tm7lo1lKauY7bdq/RHSw1b0224PVnbXbt1Vf9Tyt7rObu6RfTzBkLo/ppIauGQszoavun9MrjxuXRjfccL1I761+/p3cP6RctruJeB8EQAAEQAAEQCAsCESa0GXoMm0yf8t88eL3RBQuR98OHDhE/IcAs/TIw4bdLr5Zvm/ft1qfCyIVMo+xYMFMn7NUhS63ZxFslKJZpnjmcXK1mlS1atUuNxG6vKmUlOqUk3Pa8K4yM6u6wGFxwbFIEAABEAABEAABEAABEAhDAlZCl7fz69+MouRqKYaSlt+XaZA5avb4T0eE3DWLwpXSdtf2r2jPjq88tKTslVHCnJpZL20vT72aru3cQ/TRy95gYL+sVRvq2KUnHf5Bk9EZ3jLaavyUGrVowODfUr4mtJdoqabbtu9Ebdp1pB1bNtA3u7cGY2muxogkoasKIDNpaNaGRW/Lli0FO7MaufyemaCR4+pFrzwMVXyayT6zNk7rz5rVs1XH1Yte/WXxR8BJWWyVZtiujVuZy7Jx7NgHxPK3bdtKRtGrgURjW3Ex+yKAWSpe3luvXr3EkIsWLTKMaDWLYNbXxVVrtgZyZwPpy/tQawWbiXx/7pLkHiyZy+OVhtBV7xYL7VGjbhPR8XoWELrKJwkRuq7+vxmNQQAEQAAEQCDsCESi0K2l/YeGgQNLUgbLCFs17bFRamS1D0fvFhYWeGrkGkXzqkJ3x44tnqjg5cuXaML2uOce9O37a63GTkPtW55HqFKluHIndMPuwmLBIAACIAACIAACIAACIBAFBOyErqx9a5QGWY1qZQF79PAPNPS23wtqRlG0Mq2yvo6uTMfMkb38hVeux6tPqyzFsVk65kCPSkYj62Wz3bjFxUS3jXmQLl26RO/Pfl2TuSW1gHdu20Rf79xs1z3o70eS0FXll5FYVevQ6lMPq/VWzaJY1TZ6ceMkAlaVYEZiVa2jqk9LLMWQlTRVx1eFtl30sLxU/go4VZgZsVO5GaW5ditz5Xrt6to6jSJ18qFigTx//jwRKctnMGbM72n79u2ermrKa31abCf1nWVkNg+oSlt1XP2dDuTOBtKX1yj7817/9a9/+Qh1f+8Sjx1MmcvjlYbQFf+ftWG9qFvN59KmTUlUvv5zDaGrfLogdJ38qEEbEAABEAABEAhfApEodPk0ZPpk/jPXwe3de4A4JKO0yPr2CxbMElG9I0aMERG9LGNXrvzY65BVocvj9+jRR7RVUzSrNXm/+mo9NW9+OYRu+H5UsHIQAAEQAAEQAAEQAAEQCBkBO6FrFaFrFDVrJm15Q1J26iN4pTRmmXqhsFBE4urr9sr6uW6Fq1OQ/gpdHl8y5MjhQMZxulardpEkdEt+x16lRdq2EFvmSNgZM2aIiEiOSPz97+8SQo4fvTBVU9vy+yweMzIyRNpiGWE5YEB/0Zcl1iOP/J8n0tJpBKwqnHmMt99+h55//h/E/e+991667rqOYnyjOreqnGSBNHv2bE9KZe7/yCOPeKSSvr9d9DDPqQo4/jtHHZplxTpzJtcrnbMqO7kvS91Zs2aLvYwefScNGzbUw23kyFFeIlSVuZI7R9yaPWokrhkT5nHHHXeIFLj86FMV8/tDh5asySy612h+VQzymNOmveS5H4888rCQe3IP999fEj0sH1XY8t2Skbq8fz57eWfNol25Hd9F9Qn0zspUznLNTu+7XAPPn5V13Os8A71Lqsxlcf7666+b3oUDBw7a1u/lzqUldPWfGaOU2BC6yvFB6JreZbwBAiAAAiAAAhFBIFKFrlHtWk6JnJ7+gZC1+kemW1blrRrVKyWv7KcXupdf3ooaN27ulaJZrefL/fv0GQihGxGfGmwCBEAABEAABEAABEAABEqXQCA1dI3krSp5F733tvZ7S4FnA2odXLWOrlzDR4vnibayVq7sb9YvmGQCEbEQusE8Ce+xWC6+/vqrHrlmNJNVytzhw4d7pK/ZKvX9ZbSiVfSsHEsvgfRzsBR64IEHfSSZk33xWEb9ZSSrVc1gVYTbnY6RcNaLWf0YLLAnTfq7j5RUZZvdvPx+06bNPc2cMOEz+ctfHvcSf2p0ql7s261BFY5Gbc3Sadvx4bGMuNqth++TP3eWxw2kr9W6ArlLUoDa7ZvfN4r2NupXWkJX/0UGo88XhK5yIhC6Tq412oAACIAACIBA+BKIVKHLJyLr18rTMUqdzO+1aHE5de/eSzTjSNrMzD3iz2av83t6ocuvyShgOY+s5Ssl8cCBv4HQDd+PClYOAiAAAiAAAiAAAiAAAiEjIGWkrF8rJ05Kri4yA/Gjj5bl1zjdskyvvGXjWvouc6doa/a6HFcfaSvr5/KXYpdqNWj5kVHBMm2zlMRmtXmDAQtC1znFypXjRemgUD0sWiZM+Ksn4lXOy3Jv3rz3RFSs2aOPllXbqRG/6usyVbKZzNPPxdHCsuamfvzJk5/xkblqG5ZTnTt3EvU61Yf3tnHjJp/6v2q6X7O6wjxOIBJOrkMfbSpfZ1HJkdL6CFN+PxChK8fnMXr2vMFLxLNA3r17DxnxlHNym9TUklS5bh6z+T7//AvSR+aq41rdSz47q75W6/PnzsrxAulrtqZA7lI4CV3evyr41VTZkg2ErnJLgiV0iyvGUUzX31BMr1FEtRq7+ezatz35IxWvnkPFG5dSzMUL9u3RAgRAAARAAARAwEMgkoUub1JK1TNnztDSpe8bnrwaibtv37eiPpR8WrduK/548uQJWr78P57X9UL3yJEftRRHt1NiYqJIu7x+/RotZfNo0V5KYghdfPBAAARAAARAAARAAARAAAScEJBC16wt17Ldrn0ZVY205bZSgPKf9ZG4MnLXqN6trIUr6+iq9XPXfrZCLKNT995edXRlH66xK9s42ZubNhC6zmmFWuiqK+M0x/w4Tc9q1JdfU1P96nfuJALWiBbLtObNm4m3rMa362u1NzfRw85P1Loli8suXTqJRhs2bLIU1MGak8dhoVytWrItTykcjeosu1mPnE+fgtrJGPJe+tPXanw5rj93KpC+TvaMNsYEYmrWrKOVVg/dEyyx6nbFQZk3pS7Rg9Mppu4vofpu1+GkffGx/USv/YEoJ8tJc7QBARAAARAAARDQCES60DWSqPqDl7Vy7S7EkiXve+rbGAndjh27EAtg/hb7tm2bRNQvf1t9wYKZYmgIXTvCeB8EQAAEQAAEQAAEQAAEQIAJSKHLtWmzTx4XUGrUqkNt218n/vz5yo/opyM/+MCSUbR2FDmNcl5ujqdZsxatqMv1fcTvL4vem0Gyfq4a5SvbyMhgGdWrtrGb1+37ELrOiZWl0HW+Sv9aqnVxjSL0/Bs1eL2kvDSrzRq8mcJnpO3bt4oIZ6sU1OGzG6w03AlA6Lo5wbRZFNO0jZsefrct3reN6KV7/O6PjiAAAiAAAiAQbQSiXeiqaZU5svbs2bNeV6Bq1aqiNi4/O3ZsoZ07t4o/Gwnd5ORqdMstvxXvc5rl+vUbimjdjIyV4rXyJnRjY2OpWbMWtH//94bXvkWLy+jgwQN06dLP0faxwH5BAARAAARAAARAAARAoEwJmNXQlaLVKN2yWtPWbvEsivfs+MrTTE3JzLJXXy+XG5q10cthu7ndvA+h65xWJAtdrkPavXsPys7OpltvHe4cSohastDl5/33F7iOAg7REkM+jUyDa5WCOuSLwoRRSyBqhG71GrXodPZJ/w+62xCKGTHB//5+9Cye+xTRpnQ/eqILCIAACIAACEQfgWgXumq65QULZmnfSC/0uQQygldN22wkdLmjTPEsB1m9egVxOmZ+7IQutzV6Tpw4briuQG8r733w4CFaKulltHLlcq/h+vTpT7/+9c2Unr5IE9Ilv5ziAQEQAAEQAAEQAAEQAAEQCA0BM6Era9vyKvSRsVJ+WtW0lWmS1dq4ckcyuvfbr3dQqyvbGdbolULZqk0wCUHoOqcZyULXOQW0LA8EZE1hrjncvv015WFJWEOUE4gaoVstpYZIv3Hp0iX/jvzRmRTTrKT2XKie4oO7iF4cE6rpMA8IgAAIgAAIhDWBaBa6cXGVPXVuOaJ25cqPDc+yW7cbqGXLVuK95cuXaPV0jxtG6PL7qalt6Lrruom2/B9JPvxwrmdMO6FrdpFUKRzMy3bDDb21iOJhYsiPPlpKq1d/Iv7cu3d/uummm8Wfly5dRJ9/DqEbTO4YCwRAAARAAARAAARAAATsCJgJXe4npapeysoUyFY1bWXaZB7nvx8tolMnj3mWIuvm8riJiYnEdXo3rVvttVTZhqVxXFwlwzZ2e3PzfrCEbqMmLYhl9prPltORQwfcLCEobfn37lMnAwiacrAKCF0HkNAkJAS4bvHQoUNp37599Pzz/wjJnJgEBKwIRI3QTU5Opvz8AioquuDfjXgug2ISkvzrq/VqV6MS3d6yCt1xWVWqFEt0svASPbfjDM3+/hxdMqliXJyfR/R4L7/nREcQAAEQAAEQiCYC0Sx0Vfn61VfrKTNzj+HR19JqVQ0ceIt4b9++b2n9+i9Mha4qib/5Zhdt3rzBM2Z5E7q8sFtvvY26du0h1pievlj7jzJx1L//TeLvX365lj744L1o+jhgryAAAiAAAiAAAiAAAiBQLghYCd2ateppUneoWCdHym77ah2pr21Ys4oO7v/WdB9Db7vXUMaq0b/c2WgcJ22CCdBfoVus/Xfj28Y8SMXaHxbMei2YS/JrLAhdv7ChEwiAAAgEhUDUCN34+HiqULEindPVk3NKMWbaFqdNfdrd3CSB3uxRkyrElIjcw2cvUquUSpSgvfBNThGNyjhJh88Z13QrfuRav+dVO151VVstSqWXVl+upHYe15FbvTqDdu/WooANnjFjxohXN2/eYtomKAsrZ4Po9z106DBKTk6i3Nw8WrToQ0tWhw4d0ph6f9uPOzD7jh1LztEJT27/5JMTtGLrKaJWgdm85QwdlgMCIAACZU4g0oVumQMOgwWoUlcuFzI3DA4OSwQBEAABEAABEAABEIhYHTRPMwAAIABJREFUAlZClzctUydzpOyyD2dTey1LUIvLUrVSLUW06L0ZllzUvvq2UvbyAPPffdVwHCdtgnUwra/qQO2u7Upf79pKO7f+8mVZu/Erav89+9bb76OLFy/SB3PftGte6u9D6JY6YkwAAiAAAqYEokboxsbGUrWU6lod3VN+XQd/he7Qpon0WvcadO5iMaVtzKb//JAv5q+sRek+2SGF7k+tSltOXqABnxw3XFcwhO7UqVOpW7dulJCQ4DPH+vXrafr0V32k7Y4dO0TbF198kWbOnOkXs3DspN83s+vTp48W3Z1PXbp08dkSC9+JE/8mXj948KCW7rEk6kl9xo8fTyNHjhQv3X77HbaCnKXyo48+KtqvWrWK0tLSxJ979+5NTZo0EX8OlzNxIsSDdU/civNgzYtxQKCsCCQnV9NS514u0kdxGqlt2za7Xoo/Y3To0NEz575932lfeDnjet7S6gChW1pkw2vcIUOGU48evcSi167NoMWLF4bXBrBaEAABEAABEAABEAABEACBiCNQp15D6t3/FvH7+769xhmVjDadXC2Fmja/nLK00jqffbqkzLlA6Jb5EWABIAACUUwgaoQun3HVpCS6WHSRCgpKpKqbxx+hW1GLyD04shEV/lxMQ1cepx3ZRT5TvtGjBrH07bfiOG0/5ZsOOlCh++mnn1DduvXEvCwls7KyxJ9TUlLEP/xkZR3TpOFjXqIRQrdEZKtyddKkv/tEy06ePJkGDx7sOdd27dr5nDGP06FDB8H5xhv7O7p23IcF/BtvvOGJ+pVymQcwmsfRwCFutGTJEi0qvJmp7A7mctSzirYvIgSTI8YKDwLdu9+g1QX9DVWuXNmz4Ly8XJo3713auzfT0SbcjnHFFak0bNhtVEurlyOfwsJC7WfUp1q91hWO5iztRhC6pU04fMbnmrqckmzNms/CZ9FYKQiAAAiAAAiAAAiAAAiAQEQTuLbzDXR56lWu91hYWEArP15Eebk5rvsGuwOEbrCJYjwQAAEQcE4gqoQuR+kmV6tOuWdO06VLl5xT0lr6I3R5gjsvqyJE7a7TvjKX3x/QKJ5m96xFf992hl7+WquZq3sCEbqvvfaaiMzlJz09nSZMmOA1uiojOVJ37NixnvchdH+JTJYsjBguWLCAUlNTPdyMROLnn38u5LmesasLqDWG0LUmBqHr9kahfbgS4AjZO+64i6RMPXXqJDVq1FirHXq92NJzz02yjZp1OwZH8j7++EQhkDdsWEfff79XROn26zeQkpKSac6cd/yKEA72GUDoBpsoxgMBEAABEAABEAABEAABEAABEAgWAa6H2/Ly1pRQpaqrIX/Yv5fO5pWP7FgQuq6ODo1BAARAIKgEokroMrk47T9G83+EPpOTIyI3nD7+Cl278TvXjqNlN9ahVzSZO0mTuvrHX6HL6XlZLvKjpu3Vj69KQjUdsCp0ue7ryJEjBDd+du7caZryl+flf2RbTiMyf/4CnzTDLN+uvvpqOnHiBE2ZMkVEwvLf+THrw2vlZ9myZXT8+AnHa+I+6vhWezAS2VLaZmZm0ogRI7wQyvYsa1me66Wteg5S9vJrgwYNEuNwOmVeW+fOnUUEtUyvrO6V6/Ly31u2bCmiXeWZShZq3V5OO6yelRlLu3vJ78uz1H8RgN/jVMo9enT3DMPnmJ6+zHPOco/XXnutkNk52udty5aSOtRyj7Kz0Vh8J4zuqtwz/y8z5CjmhQsXCn6tWrUSkdD8bNu2jbKzsy3vqn58oztYp05tr7OSffTno47FKbZr165tOrfTu6jOod8vp96Wnxc9T7kW/sIGfw6tPq9m9+Dhh//oqbfNbdauXWdYy1ndq/w5UbNmTdq4caOrtOBOPhNyrXJO+Xf+eWBUu1q9w+rPI25r1t7J56I8tBk37glq0KChFsH/slc0LkfcDh06gjIz99CMGcb1geT63Y4xfPgoLe18d8rIWKl91hd7MDRs2IgeeihNq21USE89Nb7M8UDolvkRYAEgAAIgAAIgAAIgAAIgAAIgAAIRTABCN4IPF1sDARAo9wSiTujyicRrEighPoE4PSUXlHfyOBW6PetVprS2ydSldkkazO3ZF+jf356l9w+cN5wm7apkGt8umR7dcJrm7Dvn08ZfoSujb1kS3nPPvaZ1W1kAPvPMZDHvu+/O8kgbKSrnz59PAwYM8KRnlgs0ijZVI4LVjfAaOPWuKumkSOa6s/v27RN1avV9nnjiCS/x4s+aeH9PPjnBK4pWzsNz//WvE2xTTass1Tq6MiKUZeWHH35Ad999j09aZbV+rkyTrEaSMl9ZX5fXJdvoxbL8u/6CqBHBLOFGjbrdp1ayEX+rO89ybfTo0UKOGtUFNjtn5jBt2kviDql71M8l9yjvnpTUajt1LPm6Gindt29fzz6ZwZAhQzyyWx1H/TIDr7tBgwZadOEGr7vI7WVabLUvp8hmWcjnqp4N/9kqgl2mmdZ/kcLfu8iR4fr9Hjp0yPOFDaNU4EZfJHDyc47l+gMP3OdJ0672YUnO56o+cq/886BlyxaeflZfIjFah5PPhNXajH4e8WePa1rra4e7/Tw44RbKNpz2+P77/2gqbZ96agrFxVWmJ54oqb1t9PgzxrPPTjWVtvfe+6D2M7aNj2Bm2du7941Up05J2v9cLTXUxx8vpSNHDpcaMgjdUkOLgUEABEAABEAABEAABEAABEAABECAIHRxCUAABECg7AhEpdBl3JUrx1FilSStnm4B5Z/3Fan6I3EidO9rVZWe6VhSlzbzzEXKv3iJOtSME39f9MN5emzjacor+iUquL32HkfnaqV2qf3io3SiwDcNtL9CV4oWo6hSJ9dNCitZd5clWJUqVahTp+s80kYVSWqkL8sVjtDjZ+DAgUKm6sWybM+v88Oy6JtvvqbWra/0pInWr93tmnhcGV3L86xcuVJLE/o91a9f3yN6zOZQRSmLpIkT/ybWabRnHoNr3cqIaDXSWYpCdR5VXkm+LLX5kdGWemFoF6GrrpHnWrdurSZP8jz89Ws3ugOqyJXv6yWeKqhZ2nH0Jz+jRt0m7oWsE+wkQlfeUfVskpOTREQsj6WXyer5c6pZGfHL0tVJhK7aXxXzqqDm/W7dukW761XpV7/qpf2ciPd8mUGtW+yP0PX3LjIf/X45wlTWxzYSrXJPLMZ79uzp5CNPLJynT3/FE1G9YsUK+umnnwRbmbpdL07VM5SfY16v26hgu8+Euja+Y599liHWxlHK8ssgakp0VWjz52H58uWCQa9evcQXFXiN+i+MOIJUDhr17TtA+1wP1vaUbli39s47f0/t21/rI1fVpbsdg8VsWtp4U4ksI4PV6F2WxmPG3CdSNB89ekRMX7NmSe3dmTPfdFzn1y1yCF23xNAeBEAABEAABEAABEAABEAABEAABJwTgNB1zgotQQAEQCDYBKJW6DJIrqmbmFiFKlSsSEVausgiLVr354s//6++rnc6ZjuhO+byKvSPTtXpWP7PdPeaU7TpxAVxVvUSKtC0rtWpd/14enF3Hj27oyStcmq1irRUk7kpcbGUZhKdy+0CFbpuI+XkBZPCSi/VWKy89dYMEfWmji3TBp86dcqnVi/LYG7/73+/RS+99LKYQhXA+rqzZrVi/VnTo48+KubTRzGaSVozUSfr4KrSSMosjrLl6GPZRt2nUT9VXpmdj9E6rGroWgl8q5TRzIbXI0WXPH+WhLNmzfJJTWs2Ft+Lxx4bR99++61X9Ktcl1GkL8thTpOckZHhlZ5XPRujNOBGY8l9yPM2qmVsJEB53XPnzhHbNoqolYKT3w9E6Kpn7vYumu1XynWWk6qg5rUa3Tu7//NQv2Shj+pXRT4zlimLVaFrlQnAbm67z4RcGwvqhx76g1dUvVEEvVlUPa+DZTf/nDJKBW+3zvLwvkx9bFaz1u593oNdG/37st4u185duHCeDwaj9zmlMwtcVd5KyXv06GF65ZWSFPrBfiB0g00U44EACIAACIAACIAACIAACIAACIDALwQgdHEbQAAEQKDsCES10JXYY2JiRIpKrq/Lkjc2toL2D8fNljynTp4gK6E7okUivdK1hoiwHfTpcdqfd5EaV6lAgxon0JtaumV+OHo3/cd8OnzuZ2qRVJE+6l+HalWOpT98mU0L9hunY+Z+ZS10VTkpeZillDW6xmpknSrMpKCREZ1qX1XuGEk0p2uSUYpGEYw8n9E+zISuUaStbCsFl5xPRjGqUYKqxFP3pwpLlYEboatKSVW2yfHMePLraqpiFoO8dquapJIDi7VJkybZ1iK1ErpmP/ZUoauKWcnE6Px5LHWfRkKX2/CZqPVTOU21TKlsdBZ2Xy4wmsfoXgVyF832q5672kblZ3QfzLhL4W2Uvpj7SEmsfo7VlMtjx471+//J7D4Tcm3yyxP6ifSfF1VAm90Fvxdbxh3tZKxRtKx+yW7HsBO6ycnVtCwGz9KBA/s8otYsRTO3zc31rRcfLKwQusEiiXFAAARAAARAAARAAARAAARAAARAwJcAhC5uBQiAAAiUHQEIXYfszYTuwEYJ9G7PmpRz4RLd9Mlx+i63pCbv3zpUoz9emUSrfyqghzVpm5Vfkk65U+04evv6WlQ3IZb+tOk0zfzOOt1zWQtdp8KK98aCafDgQVS7dm2tnmZLsV+1PqqR0DWKPrQTuk7XJGUTy0f+R/+kpKSI9LLqusyErj4aUq2fK1PaSjkoJbXso097a7Y/dX1uhK46HvM0euQ5GNXx5fWtWbPGUcQiy8I///lPnrqkvNd9+/YT13RNT1/mU6vZTuiyYOV/atasKerbJiTEe9VvNRK6ZoLOidDVs7H6YgG3LY93Ud2DFOzqlxakPHabbt1OmBtFZ7v5cofVj1q7z4RcG9+3/PwCn6Hq1q0r7qS8G/yzaOrUf3ruEt/xAwcO0OHDh4XQV6W+w/8LKDfN3MpYo4W7HcMfoSvr6rLk3bZtM+3ataNURa7cJ4RuubmqWAgIgAAIgAAIgAAIgAAIgAAIgEAEEoDQjcBDxZZAAATChgCErsOjMhK6iRViaPvQ+lStUiz112Tu9lMlaZb5qRMfSwv71KYrUyqJv285eYGqau1aaamW+fnr5hxP9K7VEvwVulL0mKVrtdu22xqhetHH47NEOXbsGNWrV89HnEqRFgqha7dXVXyZ7VuNhuRo2x49uovanapIU9twtCenIOZ6nfoIYTt5xev1V+ja7VVGCutrlnJU5ttvv+MjZI3G47MeMeK3ojay+nCELws+Tj8tH7uUyyNHjvQag4Xd0aM/CW78hEroOknjHEjKZcnB7nyc3EV1DPklAjXtskxxbhbNarYGq8889zH6zIZa6NrxU1OiyzTgfE9Z9qqPWRSy3fjl4X07GWv3Pu/Brk0wUi5zJO7o0XdT8+YlX+7h5+TJk/TVV18a1v4NFlsI3WCRxDggAAIgAAIgAAIgAAIgAAIgAAIg4EsAQhe3AgRAAATKjgCErkP2RkJ3WLNEer17DZqhpVV+QhO0+oezNt+qtblXS7d8dY048faGE4X0z125tOZYoaOZ/RW6ZjUv9ZOqaYGdyjMjiSMlEgupBQvep0WLPvRMZdQ+lELXTR1hK6mlpn3lmqUc9apPhyvbMMu77rpLiGy9WCtNoatKR7sLxmL25psHe+QpS0E+P6PauWZj8RjXXNOBrr/+erFXfoxqrOqFqZoWmM9Hn+bZ6BzshGMgEbpGdWh5L+rnKBhCN1h3UT0PtXYzv84ppM32Y3Un7ESw/ByrX1AItdD1N30y/5zr3LmzqDUso9XdCm+7z1Oo3u/bdwANHDhYqz29UouKX+wzrYyMfeONl2nv3kzDZbkdo2HDRpSWNt4rpbI6sNV43Ld166s0sduCGjZsTElJybR9+xaaPfvtUkEGoVsqWDEoCIAACIAACIAACIAACIAACIAACAgCELq4CCAAAiBQdgQgdB2yNxK6k66pRg+2TqLBWt3cDSd+ic51OKSjZv4KXY5Oe+utGSIyzSr1qkyjqhdAbiJ0VTlnVIdUiqJQp1yePHmylgJ6MBnV6WX4+nqq/JrVvtUauRxBymz1+5WimvfKEbz86NsEW+jyHJKxUb1Vvgv87N69y/DOMYfRo0d7xC43YmmXkZFBHOmtf3j9mzdv8RpPjU5WpZtZhK7V2djV0A1mymU7CSwj3ZmBkdA1koJGtWaDfRfVM5F3js+MP8fdunUTtZDd1rQ1Sqks51F/nqh7DpXQlWsz25fRZ5nvUU7OaZ/0yvJLF27kuqMf1iFqJOXq0aNH6IUXnvWZ9amnpoia8E88kWa6In/GkOM+99wkn9TJTiQyL4ajdtPSHhdSd9y4h0qFGIRuqWDFoCAAAiAAAiAAAiAAAiAAAiAAAiAgCEDo4iKAAAiAQNkRgNB1yN5I6D7WNpn+cnUy3b3mFC09lG84Ursalaht9Tias8+6Vq7ZMvwVujyeGl3IEZLvvjvLEznLAuT+++/3pM1VU5VyXzdC10zm8ThSZPGfQy10eY/PPvusEK96eaOmiHYamazWzeVoVCNRLNuwWON5rdowE7OIWiP+qnzUS2IpmznN9aRJk7wkltP022Zil+eVj5Gs5PfMJKxZjVo1VfA999zrJYelvONxnZ6NXJ9VHVhmxHV6WX6raaHlnvis0tIe86xF/fzoz0qtz6zylvvV3/dg30X154WMspd1ovluytTaDn+8iWbyTPjPelEt7xDfa/W8QiV01bXphb5a31quzezO88+q6dNf8UkBz/f3d78bTQUFBfT005O97qO8N6tWraSXXnrZg5Tn5Yjfo0ePupbnbs7FqO24cU9od7khzZnzjqhPK5/Bg4dQr159tTu+jhYunOf1+uHDP3q1dTuGTMOsH/uKK1K1/y/5o8bhF8HM4vbeex/SxG8OzZjxqtcWxo+fRLVq1YLQDfQSoD8IgAAIgAAIgAAIgAAIgAAIgAAIlAEBCN0ygI4pQQAEQOB/BCB0HV4FI6HbtU5lWtqvNq3NKqQhK0/4jNShZhwt0uroVoglajr/CBU7nEttFojQ5XGk6LOaWl/jldu6EbrcXoodmbY3OzubrrqqjYjIKiwsLJMaurwuVcqx8JLSS6Zd1QtXu7S+8n0e2yxa0K6NvxG6anpsuZfFixeLKFoWVVOn/pPq1q0njpoFPj8s92QqZKPoXaN7IcUu1x7NysqiW265xdNM5cns9u3bTzVq1PB8MUCfWlnfnge68cb+Yr0ygpz38vXXX4s5rrzySu2+FHj24VboSjnL95DXvmvXLpowYYIYW56LPhpdX0+Y+yUkxIs1cHS7rBWsyndVMPLYzILvOj/chyO49V8iCPZdVM9OrdFrFpFu9TNAvqdGJPM4+fkFlncoVEKX12e0NnlO+s+j+oUNvl8HDhwQW5T1dPViWhXx6pdb1C8q6O+2ytwfge7kPMzasEQdM+Y+8fY33+wWIpo/56mpbUSd2unTp3qiaKXk5bZqVKybMbgv3++HHkoTMjYzc4/4WRofHy/SKZecz5teKZ6luOW2mzdvosTERO1z0VHU1OXX9KI3EB5qX0ToBoskxgEBEAABEAABEAABEAABEAABEAABXwIQurgVIAACIFB2BCB0HbI3Errcdd6valG/BvGiju7ErTlUdKlkwKFa7dwXOlWnxIoxdN/aU7TEJILXbvpAhS6Pz8JqyJAhntqRck4WNly7VI06k++5Fbos6J55ZrLXHPwf/KdNe0lEvrFADXWErtwLy7dhw271iE1+nYUOi+zp01/1isazE7pm0aPqOdq18Vfo8hwsBVmwcvQvP2okJZ/BY4+N80qdzG34nOfNe88wfbLV/ePxBg8e5BXNKtcwYMAARzy5vf5LBbLGLsuyRx552GsclmZ//esEmjt3jliaW6GrH1P9soJMtWv0BQajO8L3defOnaImMD/6aGr9Wcj73qNHd5Fu2yilbzDvonp2qizWR9vb/YzRv89yk9M2yzvG7/Pe3nnnHZ87FEqhy+swW9uaNWs84l7uh+/CAw/c5/lygHydhfsbb7zhFcWuRow///w/PJkM1C9K6L/AIe+1PrLbLW9/27OQHTx4qIjUlQ9Hyc6YMd0rJTJL1DvuuEuI3ilTJnpN53QM2Yml7ogRtwtxLJ+8vFzt58u7PvV6ZZSuuj7uw/Vzlyz50Cdts78c9P0gdINFEuOAAAiAAAiAAAiAAAiAAAiAAAiAgC8BCF3cChAAARAoOwIQug7ZmwndugmxtHJgXaqXUIHO/1xMe3OKqFHVilSrcixpfxUy1ywds5OpgyF01Xlk+lx9DVQna3HShqM7mzRpIpoa1V91MkZptSnPa3O7Z7P6oHIcec6HDh3yqSHqdi6z9ryG5OQkx2dtVHuXO8txcnPzPCIt0DXyWaekVPcZz6jWqjqXXIv8fDiR7zzm8eMnTGsUG+0l2HdRjRhW03GrUaRWTI1Sf0sW/t4hNVLdbG591KvTc3dzZ1TWVj/3rGpNm90bu/vkdD+BtON6uHXq1NOi5b8zlaQsV3Nzz5hO42QMtTOP17Ll5dq9P0ZHjhy2XL5sy43U9NCB7NmqL4RuaZHFuCAAAiAAAiAAAiAAAiAAAiAAAiCAGrq4AyAAAiBQlgQgdB3SNxO63L1+YgV66ppqNLBRAiVUiBFRunO1mrmzvztLO08XOZzBuFmwhW5Ai0FnEIgyAk6EbnlAItMR66OPAxG6ge6rNIVuoGtD/8glAKEbuWeLnYEACIAACIAACIAACIAACIAACJQ9AUTolv0ZYAUgAALRSwBC1+HZx7zwJVHFOIetg9OsOD+P6PFewRkMo4AACLgmUJ6FLkeHDh8+XKRG5pq9/Kgpql1vFh1AIAIIQOhGwCFiCyAAAiAAAiAAAiAAAiAAAiAAAuWWAIRuuT0aLAwEQCAKCEDoOj3ktFkU0/SXuoFOuwXSrvjgLs3QjAlkCPQFARAIgEB5FrqTJ0/WaqgO9uxOraccwJbRFQTCmkCohG71GjXpdPapsGaFxYMACIAACIAACIAACIAACIAACICAGwIxMUQp1Uv/9+HKleOpsLDAzdLQFgRAAASiggCErtNj7nwzxYya6LR1UNoVz32KaFN6UMbCICAAAu4JcF3Vjh2vFR3LW01oriPbqFEDrTZqHvlb59Y9EfQAgfJNIFRCt5pWoztPq0t86ZJWYwEPCIAACIAACIAACIAACIAACIAACEQBgdgKsZSUlExncnJKdbcQuqWKF4ODAAiEMQEIXTeHF8Io3eIf9hBNHe1mdWgLAiAAAiAAAlFNIFRCNzm5GuXnn6eioqKo5o3NgwAIgAAIgAAIgAAIgAAIgAAIRA+BuLg4qhwfr33BObdUNw2hW6p4MTgIgEAYE4DQdXN4KXWJxr5CMfVauOnlum1x1gGiVx8iysly3RcdQAAEQAAEQCBaCYRK6MZrv8BWqFiRzp09G62osW8QAAEQAAEQAAEQAAEQAAEQAIEoI1ClalW6ePEiFRaUbjpkCN0ou1jYLgiAgGMCELqOUZU0LK4YRzGcfrn3HUS1GrvsbdP85I9UvHoOFW9cSjEXLwR3bIwGAiAAAiAAAhFOIFRCNza2AlVLqabV0T3N/2YQ4VSxPRAAARAAARAAARAAARAAARAAgWgnEKMV0K1eowblnD5d6uWHIHSj/bZh/yAAAmYEIHRxN0AABEAABEAABCKCQKiELsOqmpREF4suUkFBfkSwwyZAAARAAARAAARAAARAAARAAARAwIxAYmIixcbG0tkQZKqC0MU9BAEQAAFjAhC6uBkgAAIgAAIgAAIRQSCUQpd/ka2WkkJncs5o307+OSL4YRMgAAIgAAIgAAIgAAIgAAIgAAIgoCdQoWIFSk6upkXn5lBx8aVSBwShW+qIMQEIgECYEoDQDdODw7JBAARAAARAAAS8CYRS6PLMcZUrE39LmaVuKH6pxXmDAAiAAAiAAAiAAAiAAAiAAAiAQCgJyC8zc2Ru0YXQlAiE0A3lCWMuEACBcCIAoRtOp4W1ggAIgAAIgAAImBIItdDlhSQkJlB85QTKy8ujixeLcDogAAIgAAIgAAIgAAIgAAIgAAIgEBEEKlWqJMoNnT9/ngoLCkK2JwjdkKHGRCAAAmFGAEI3zA4MywUBEAABEAABEDAmUBZCl1dSWYvUrVK1qqinm6/9oltcjBMCARAAARAAARAAARAAARAAARAAgfAlwL/j8u+6Z7UvL18IUWSupAWhG773BisHARAoXQIQuqXLF6ODAAiAAAiAAAiEiEBZCV3eHqeh4vTLFStVpAuFRVR08QJd+vkS/fwz6uuG6PgxDQiAAAiAAAiAAAiAAAiAAAiAgB8EYmJiKLZCLFWIraD9TluJ4uLiqKjogvaF5Xy6dKn0a+bqlwyh68chogsIgEBUEIDQjYpjxiZBAARAAARAIPIJlKXQlXRjY2PEL7+V4ipTBe0X4ljtF2L+5RgPCIAACIAACIAACIAACIAACIAACJRHAsVamqlLl37WvpB8SfuCcqGIyOXXyuqB0C0r8pgXBECgvBOA0C3vJ4T1gQAIgAAIgAAIOCJQHoSuo4WiEQiAAAiAAAiAAAiAAAiAAAiAAAiAgCEBCF1cDBAAARAwJgChi5sBAiAAAiAAAiAQEQQgdCPiGLEJEAABEAABEAABEAABEAABEACBKCYAoRvFh4+tgwAIWBKA0MUFAQEQAAEQAAEQiAgCELoRcYzYBAiAAAiAAAiAAAiAAAiAAAiAQBQTgNCN4sPH1kEABCB0cQdAAARAAARAAAQinwCEbuSfMXYIAiAAAiAAAiAAAiAAAiAAAiAQ2QQgdCP7fLE7EAAB/wkgQtd/dugJAiAAAiAAAiBQjghA6Jajw8BSQAAEQAAEQAAEQAAEQAAEQAAEQMAPAhC6fkBDFxAAgaggAKEbFceMTYIACIAACIBA5BOA0I38M8YOQQBxlQhvAAAgAElEQVQEQAAEQAAEQAAEQAAEQAAEIpsAhG5kny92BwIg4D8BCF3/2aEnCIAACIAACIBAOSIAoVuODgNLAQEQAAEQAAEQAAEQAAEQAAEQAAE/CEDo+gENXUAABKKCAIRuVBwzNgkCIAACIAACkU8AQjfyzxg7BAEQAAEQAAEQAAEQAAEQAAEQiGwCELqRfb7YHQiAgP8EIHT9Z4eeIAACIAACIAAC5YgAhG45OgwsBQRAAARAAARAAARAAARAAARAAAT8IACh6wc0dAEBEIgKAhC6UXHM2CQIgAAIgAAIRD4BCN3IP2PsEARAAARAAARAAARAAARAAARAILIJQOhG9vlidyAAAv4TgND1nx16ggAIgAAIgAAIlCMCELrl6DCwFBAAARAAARAAARAAARAAARAAARDwgwCErh/Q0AUEQCAqCISt0C2uGEcxXX9DMb1GEdVqHNzDOvkjFa+eQ8Ubl1LMxQvBHRujgQAIgAAIgAAIlAoBCN1SwYpBQQAEQAAEQAAEQAAEQAAEQAAEQCBkBCB0Q4YaE4EACIQZgfAUuil1iR6cTjF1m5cq7uJj+4le+wNRTlapzoPBQQAEQAAEQAAEAicAoRs4Q4wAAiAAAiAAAiAAAiAAAiAAAiAAAmVJAEK3LOljbhAAgfJMIDyFbtosimnaJiRci/dtI3rpnpDMhUlAAARAAARAAAT8JwCh6z879AQBEAABEAABEAABEAABEAABEACB8kAAQrc8nALWAAIgUB4JhJ/Q7TaEYkZMCCnL4rlPEW1KD+mcmAwEQAAEQAAEQMAdAQhdd7zQGgRAAARAAARAAARAAARAAARAAATKG4FQCN3qtRtQXOV4R1vPPnGUigoLRFvZ71zeaTp75rSnf91GLTx/VtsbTVC1WnWqklRdvHVBG/e0Nr58nKzLzfh2G9TvQ23Pa6maXF1bY77POu3Gle+rXMz6ZB3WsqT+75Ht9Xs0G8eOhTpuXOUEy704YS/Hs5s3GGNV0u5nDXFPS9ZtN6cZO7lm9d6pY7k9I7k3/d1Vz1eunV9Tz9fpvUE7cwJlInRPZ5+iS5cu+Xcuj86kmGZt/evrZ6/ig7uIXhzjZ290AwEQAAEQAAEQCAUBCN1QUMYcIAACIAACIAACIAACIAACIAACIFB6BEIhdHsNulOTs/UcbWL9fz/0SCnZ7/s9m2nXps88/Yfc9SfPn3/4bhdtXbvCdGx17tMnjlHGstmetk7Wpa7HaJK2nX5Fl7Xp6Ghv+n1wp8Yt21CbjjdQQmJVrzHyz5+lPZu/oB/37XE0NjdSuZh1WvzOP3w46vdoNU7emWxxFkbi0Gov29Z94tXHCXu5ULszCGQslqHXdO9PDZpe4YPs6A97aau2bvkFA7WBZGS0Npaw3W8cTpXi4ojH2Lh6ieHddXJG6t7MOLAk7tZvmBhOPV/HFwcNTQmUidDNPXOGioou+Hcsz2VQTEKSf321Xu1qVKLbW1ahOy6rSpViiU4WXqLndpyh2d+fo0vFxsMW5+cRPd7L7znREQRAAARAAARAoPQJQOiWPmPMAAIgAAIgAAIgAAIgAAIgAAIgAAKlSSAUQveaHgMoOaW2ZxsVNdGVVK2G+DtLVvX5Zvs6V0KXxeeKBa8ZIuIoyX5DfynvaCZ0eYyCc2cNx9ixcZVXVK++UYvW11ATTcqqj5TXLD8vXvjFyxzTomMztf3Jh7k0vbwkmI7XwNHDFStVpqSUmh7Bu2PDKtr/zVZHV0BKRv28amdVaJtJSbNxqmpnxpKSH71cZA7tuvTxnOmp44fFnxs2T/XsRe3j750wAuHvWHw/eg0a7dkT34/cnBPirqpn+PlHc32krhk7FsQ9b7pd3G8+B31ft2ekCl2+I6v+847PWiB0HX08/GpUJkK3oCCfzp01/oFkt4uYaVvsmpi+f3OTBHqzR02qEFMicg+fvUitUipRgvbCNzlFNCrjJB0+97Nh/+JHrvV7XnQEgXAkcNVVbaljx5J7P3PmzHDcAtYMAiAQZQQgdKPswLFdEAABEAABEAABEAABEAABEACBiCMQCqGrh+ZUQNlF6B4/+gPVadCUNn/xsWEkq4yele3MhK5R5GwgB20VvSnH5WjWjjf8Wvz1m23rvUQvv5bavju17tBNvG8XoSrHdDKvui87oaufl2Vlp143C+Z6lgNGjBXi1mgv3fv/VvThc1j3yfuGaJ3eCSfn4nSsvkPv9ojXDasWeaX1Ztnbpc9Q8b5+r7wGI3Z2Mtesn9We5GegSPtiAMt0o7vqdL9O2KGNN4EyEbqcbpnTLvvz+Ct0hzZNpNe616BzF4spbWM2/eeHfDF9ZS1K98kOKXR/alXacvICDfjkuOGyIHT9OS30CWcCY8aMoUcffVRsoV27dkHbyhVXpFLt2nXo/PnzdPz4MTpypOTbUW6ehg0bUZ069SgxMZFOnDhOe/dm+nTv0ME+tci2bZvdTIu2IAAC5ZwAhG45PyAsDwRAAARAAARAAARAAARAAARAAARsCISz0OV0tpwqV5/WVm5ZSkbZrjwJXSkTrVJGd+59i9ifkVA0OtbSFro8p5k8lHMbpfxlOdq8VXtiKalGKKt7CKaUdDKWFOq8poxls7xkrlyXGuFtlpZafV2eqVkkLY/r9oyk0OU7XLt+MyF1M5bN9Yoad7Jf/CD0j0CZCN1Crdj3xaKLxJG6bh9/hG5FLSL34MhGVPhzMQ1deZx2ZBf5TPtGjxrE0rffiuO0/ZRvOmgIXbcnhfbhTiDYQjc5uRqNHn03NW/e0gvN9u1baPbstx3juvPO31P79t4R80ePHqEZM6ZTbu4ZzzgvvDDddsxx4x6ybYMGIAAC4UMAQjd8zgorBQEQAAEQAAEQAAEQAAEQAAEQAAEjAuEsdDkdsUzzu2zey16paKXkYrl25ECmqHNbXoSuKgr/u+gtQ5nIZ+W0nTxXt7LQbYQuz2MndI0idJ188oIpJZ2MJWW52ZcB5JrN2unZyXYsiNd9utA0TbfbM1Kj1HlNRvfYyX6dnAHa+BIoE6HL0bnJ2rcgcs+cJo7WdfP4I3R5/DsvqyJE7a7TvjKX3x/QKJ5m96xFf992hl7+WquZq3sgdN2cEtpGAoFgC91x456gBg0a0oED+2jdui8Eot69bxSvbdiwjhYunGeLTcpcdYyOHTtRamobOnnyJE2ZMtEzxvDho0zH4+jdypUrE4SuLXI0AIGwIgChG1bHhcWCAAiAAAiAAAiAAAiAAAiAAAiAgA+BcBa6HB3JaZU5La5eJErBxhGwRRcKy5XQlQKOa6yuXPRvy1spo4ydpF12Kwv9EbqyVi6Ly2Vzp3nWrtYDZkl69Ifv6djhfT71Xs02G0wp6WQsKUrN0nXLdcr96r8MoLLjdNIsWu1kLo/p9oxUoZu540vq85u7fFJbO9kvfvT5R6BMhO6pkycoTpMpnC71TE4OFRcXO169v0LXboLOteNo2Y116BVN5k7SpK7+CVTocj3SkSNHiD3zs3PnTlGXdPz48Vr62dqev/N7LNKuvvpqLZXsCU1QTfFaSu/evWnQoEHitbS0NJ91qu/zm0ZjGM3B62jSpAkdOnRIzDl16lSvdeonGjp0GPXo0d10HVa8eY38j2TBa0xPX0a7d++y3Ctz6dy5M+Xn5xvu3WpOlfPmzVvEWdSsWZM2btzoVR/WKT8518MP/5GaNWvumfrgwQP00ksvey1Ff57y79yI0w7Pn7/AZ+/qAPo51q5dR4sWfeizXf1dkn+3ugdyEKM1cf3cYKVcZoF6xx13CZn7yisld0s+48dPolq1aml3bopl+mVOs5yWNt5wjHvvfVBI3eXL02nlyhVWV4HkWjIz92hRva9atsWbIAACRD0GjKBqNepoNUUWUs6pY7ZIUmrWo+79h1Pu6RO0Zvl82/bBbAChG0yaGAsEQAAEQAAEQAAEQAAEQAAEQAAEQk8g3IVulaQUEaWrylGuZdr/1vs96WkbNW9lKXTNqDtNdazvbyftZG1fJ+M7FY+8Bjkvs7ioCVf9s2PjKq/IUTuhy5L89MmfPMOwuGx6+dWmtVxVqSs78Vr2f7NN+2er5eUOppR0MpbdGcnFmsl32Z+/MND08raiuRuhawZDXyNXX0faKFW0k/2G/idLZMxYZkKX8cUnJFBCfALl5eXSxYsXHRF1KnR71qtMaW2TqUvtymLc7dkX6N/fnqX3D5w3nCftqmQa3y6ZHt1wmubsO+fTJhChy/Lzz3/+EyVo+1Wf+fPnU5cuXTQh2IxWrVrlkZQsU/v06UMHDx6kW265xauPVdSk7KdffI4mzadNe8lLAqpznD59WpNcHUQ3OSfLZn4tMzOTRowY4cNDvm+0RquDNFsjS9rnn/+H1xrVvTKrkSNHeoZ2W9N1yZIlgvP69eupZcsWVLduPTGWEXcn/FjQP/PMZDGm/mEmf/3rBI+kVVlv2LDBax/c12jv/DrfmwceuM+zVnWebdu2CfGvPnKPvKeWLVv6rC0r6xjdeGN/07NU3+C2y5Yto7vvvke87Ja3fpI//CFNpFo2krZ9+w6ggQMHU0bGSk3sLza9PjI612gMlr3dut1A33+/l+zq4spIYf04vI7U1Cu1yN14sYYdO7baymGru473QCBSCPQbereWUqcGFRYUaIJ2LuXlZJtuLSmlJl0/cBRVjo+nc3k59OkHM0KKAUI3pLgxGQiAAAiAAAiAAAiAAAiAAAiAAAgEnUC4C93sE0dp0Kg/Ci6ytqiMqpSS10ygSlnGaZkLzp31YZubc4K2rrUOZjE6EDtZ6I/QdROha3ZJnNSB5b5y/WbjHD/6A23KWGoYfctpohs1v5Jq1m1ILIDlw2fx+UdzTSN2gyklnYxld0Zy3XIsswhdbsci96y2v+q163l9scDqbphJ90P79njJb73Q5THla3wO6z553zQNdtB/WEThgGUqdJl35cpxlFglSaunW0D5531Fqv5MnAjd+1pVpWc6poiumWcuUv7FS9ShZpz4+6IfztNjG09TXtEvUcHttfc4OlcrtUvtFx+lEwW+aaD9Fboc8fnss88Kmctidc2aNZp0+l5Emnbr1k28lpKSErDQnTx5Mg0ePFjskaUlR54mJyeJaF6WlzzPQw/9wUcyskzktbEgzM7O9kT0clSolHkcpbl69WrPUbDMnDt3jvg7i1Z9FLHZ50hdI8+XkZFB9evXp1/9qpdYI6/liSee8MylCl1+Lysri/bt2yeGN4pOtvr8StnJ4/DD8/OfZaS0W35SaPMYPPZPP/0keI8adbvgyWcwduxYMZcUuvKs5flcdtlldP3114vz53Huuedez/kw4+nTXxHvcb8VK1aIOeS9kecs5+C/q3ssLCwUd+3cuXNavdn2mqhMFWtJT0+nCRMmeFC99tpr4h5KJlu3bqEqVaqKM+F/eeL5+QlU6D71VEmk+VNPjfc5Jq6tO3His4aRt2pjjuTlR6ZV5khbfo4fP2YZ2auOYRadKyN8+csleXl5FBdXWUQNI4rX6lOF96KFQM26jeiGX98mtlug/ULB/7J7/myuz/YTqyZTz0G3a1/Wqire++Lj9+hU1uGQYoLQDSluTAYCIAACIAACIAACIAACIAACIAACQScQ7kI36/B+UtMrs4Dt3v+3QiZyjV2ODLUTuvqoyEAh28lCtb7vigWvWU436PZHRESsG6HrpC1Pahehq0rHeO2/YSckViUpEZ0yYrl+xdWdRV+riGQnEtbpnE7GklJU3hGzsVPbd6fWHbr5rF2yk1G5Z3OzPVHhVvfJ7m7o12EkdFma9xo0WtwLThl9oTCfuvUbJroufucfTjGhnQMCZS50eY2xsbFa+t0qVKFiRZE/vkiL1v354s//q6/rnY7ZTuiOubwK/aNTdTqW/zPdveYUbTpREspfL6ECTetanXrXj6cXd+fRsztK0iqnVqtISzWZmxIXS2km0bnczl+hK4WZXtjxmKpEDCRCl+XfW2/NECJRL+xUMai+p0bKvvjii15ph+W9+fzzz4XQ04/JqXw5Wpb3xBHGTh51jepeuS+/N3XqP4XUVSNPVaGr7+NkTrWNKjtVcSrnd8uPI22NeMu00GoqZ5W10fnIuY0ksNG9kfx57apst9qjfE+NqFbFvNGZSKHM8wQqdF94YTodPXqEXnjhWcOjs3ufO8k2GzaspX79BlJSUrJnLBavCxbMpdxc33Tp6oRG0bl2kveNN16mvXsz3V45tAeBiCJQW/ulo4f2ywc/HHnL3zC9UPBLxou4+ETtX9xuJ04rxM9a7dt4J7Rv5YX6kUL3bJ7vt1hDvRbMBwIgAAIgAAIgAAIgAAIgAAIgAAIg4B+BwsIC/zr62cuJcOOhjWQWv66XYnpBKt9fNu9lERFa3oQuC7l+Q0syNf530VtadOdpQ5LVazcQ//2HH7kXK+RuZaGd0FXFsHpmVms2Wp+6XzPh6PROOLlyTsaSXwLger8bVy8xHVZ+OYBTK6vR2pKdWrtZpkPmwcykutszMvsMSNHM0eXb1n0CoevkYvjRplwIXbnumJgYERnH9XVZ8sbGVtD+4bjZkodr71oJ3REtEumVrjVEhO2gT4/T/ryL1LhKBRrUOIHe1NIt88PRu+k/5tPhcz9Ti6SK9FH/OlSrciz94ctsWrDfOB0z9/NX6H766SdCVKqyTj2nHTt2iL8GInRlNC1Hcvbs2dPnGhilcJavmaXh5UGkjNa3WbBggYj4NEr7a3YH1Yjf22+/w6dmrCoppTxUha5RHzf3XU25rEa18hj+8JOym1NSP/30ZMsauJK1mQA34mx3b+T86r2x2qPRHbA7E1VEl7bQ5ejbpKQkLULbty60PGcWuhxByyKXa/HK1MpduvSgBg0aWgpjHsNM3A4ePIR69errU3+XI4ftBLGbO4i2IBDuBOo3uYy69BkitpF7+qSI1L1YdEH79l28iOBNrl5LvLdh1WL66dD3ZbJdROiWCXZMCgIgAAIgAAIgAAIgAAIgAAIgAAJBIxAJEboMY8CIsSIKlAUbR1Sqoq68CV1erz5trtGBOmmj9nMrC90IXXXN+khbyVetY6yuqzwKXVX6ylTd+jOwamPGTopiFq2r/vOOT4ppt2dkJnR5rX21sm1JWtk2vusNml4hlo8I3aD9aBQDlSuh62RrZkJ3YKMEerdnTcq5cIlu+uQ4fZdbUpP3bx2q0R+vTKLVPxXQw5q0zcovSafcqXYcvX19LaqbEEt/2nSaZn5nne7ZX6Erhe2///0WvfTSyz5bVOueyjTCbmvoqsKQ0xLrn4SEeCGV1ehMqzlkf04XzdG7/MhIUDWqc9Kkv3vVvLU6PzuBzPViJ078mxhCjmtVL9jJXVHbGHGW7/vDTxXQPA6z5XTQBw8e8DlnO9aqWJXi1O7eSKmu1jh2skejO2Am9YPJ3y4C16nQZdZGaZBljd7ly9NN695y2meWwfrauVx/Ny1tPHGa6i+/XEPffvsNInLdfsDQPmoIqN/sO5V1hL5cuYi63zhc1OTgh9Oq/KjV1iirB0K3rMhjXhAAARAAARAAARAAARAAARAAARAIDoFIEbpSKrJIY7Gr/jeT8ih01ehbFnJbtShLjibmp5JWmq9Tr5s9NWidRsS6lYVuha4qONUIVHUv+hTGvJdruvcXwpHPxizFtJOoWqc33ulYMvqW0yZ/9Xk6cfpu+fB/k2vXpa9Ia2wUxWvGjvfb5zd3iTvopp/Z3qyErspd9ofQdXpLnLWLCKGbWCGGtg+tT9UqxVJ/TeZuP1WSZpmfOvGxtLBPbboypZL4+5aTF6iq1q6VlmqZn79uzvFE71ohC1TomqU1DqbQtTtyNULUTjLKsWSkqEwVLNNEm0UDm63ByXxSYkpWwRSKTmSnG37clkWsrFGs9mU206a95JHddns32qeehX5tRmM62aMbqR9M/nZC1+593j+34WfSpCd8ImevuCKV7r//j6Y1b/v2HUADBw42fb979xvoppt+o9UNrizmYLl74MD39PHHSx3X57W7P3gfBCKFQPPUDtS+a1+xHS6TUEnLrMHP9i9X0oHMbWW6TQjdMsWPyUEABEAABEAABEAABEAABEAABEAgYAKRInTVKFC9OLQTuty+4JxxOakdG1dp9VOPuuLsVKxyfdl2Xfp4xuYIV3446lI+djVe1YU5nVf2cSt0uZ+MQNVH6V7TYwA1vbytGFrlWVXbC0tRfqxq+zqVsE4OwulYLF973nS7hzeL3bPaGahr5jPhrHlSttux4/fV+fXBGJK5Wp9Yv6eMZbM9L1kJXW4k77bsAKHr5IY4bxMRQndYs0R6vXsNmqGlVX5CE7T6h7M236q1uVdLt3x1jZIP64YThfTPXbm05lihI1qBCl197VQ5qVHqXH8jdFVZZ7cpO8ko+8tIVBnFqRe8dvPI9+1EsCoPZTRwMIWiW9npdF+ynayd26FDB1FbVxXedtHJko0q3GWN3vnz59OUKVN8liP3o6a9drtHu1TQRmmw3XKR7Tk6ltOpG6VUlhGynEb5lVemmk4hhe64cQ8ZtrGSwmbRufqBOC3zZZddQU2aNBNpnFnsTp8+FVLX34NHv4gl0KpdF7rymus9+/t6qxbdvmNDme8XQrfMjwALAAEQAAEQAAEQAAEQAAEQAAEQAIGACESK0GUIZvVO7YSuFUArCWnWz41Y5SjLK6/p4YnGlWMeP/oDfb11rSuZ7GZenscfoauKc71s5rquzVpdLaJT1Yflr50YdyphnVx2t2Px/WjYPNVr3SyljxzIpF2bPjOc0o61vHMsiTOWzfLUSZb9rPahSlk7oatGBPOYELpObojzNhEhdCddU40ebJ1Eg7W6uRtO/BKd6xyDfUt/ha6UbEayVU1pbFRD1ygK1kiyqemKjWrN8jyrV6/22qRTocsplt96a4aQlJwKWaZFdlvT1iilsroguR51z6ESuv7wYy4dO15LM2fO9OJqlD5ZrUUrZbXaSd4RNX2yUUpl2Uc9E1X4uhW6Kl+jCHLeGwtqfgKtoXvvvQ9qdZfb0Jw573hq38r9yOjZjIyVlJ6+2PTDKNMqG0XocoTt0KEjaPv2LTR79tteY9hF55pNKGvrbtiwjhYunGf/QwItQCDKCPC/3Ldq11UTuV+Kf6EvDw+Ebnk4BawBBEAABEAABEAABEAABEAABEAABPwnUBZC1//VRnZPFpH8qKl/w3HHLH2rJFUXS8/Wopv10a3ldU9y3efyTnsEbHldK9YVGgIRIXQfa5tMf7k6me5ec4qWHso3JNeuRiVqWz2O5uyzrpVrht1foasKWFW+sZSbOvWforYtP6rQVUWb+jqL2YkTJ1JKSoroo0o2GTnLUvDppyfT7t27RBt1HiNp7CSqV4o9btusWTMtbW0mjRgxwvUNlWvkaN+0tMc8a2Sh+uc//0lIYzMOgQpFK9nJG3HDTxXxehEqo23V81GFrn7vZvdDFcP6KF15HhzRe88993o4uhW6vEYZIW61Lv1dc33wWgeOfL3jjrvo6NEjWurkZz1DJCdX0+7C4yJ697nnJnlSKfPr/fvfROvXf+GJjjUTs9z2oYfSqFatWobC2C46l8Xttdd2ohkzpntF4kpJDKHrz4mjDwiUDQEI3bLhjllBAARAAARAAARAAARAAARAAARAIFgEIHSDRRLjgAAIRBqBiBC6XetUpqX9atParEIasvKEzxl1qBlHi7Q6uhViiZrOP0LFfpyiv0KXp5Kijf/M4iw/v0ATuXVFOtdCrbA4S11VZHI7KRj5zyzucnPPiHbr16+nbt26iR2oklOVotw+KytLtOF5WJTya0888YQnUtdphC6PoQpm/vu///0WvfTSy64pmq2RJbFkc+ON/T3jhipClyd0y0+NXmXRvW/fPk2etzEU9GrKZf4XEq7TyueTkBDvaW8k1tU55L1hmS+Fvv4c/BG6KmN5b+S6WNynpqb63DXXB/+/DjJKl6XuoUMHxatt2rSlpKRkWr48nVauXOEZWkbj6gXwuHFPiFTIRmNkZu7RpOyrXstzEp0rxW1eXi6tXfs5nTp1kho1akxdu14vzmrq1ClIuezvoaMfCISYAIRuiIFjOhAAARAAARAAARAAARAAARAAARAIMgEI3SADxXAgAAIRQyAihC6fxrxf1aJ+DeJFHd2JW3Oo6FLJGQ3Vaue+0Kk6JVaMofvWnqIlJhG8dicaiNDlKNnHHhvnSV/Lc7Gge/31N+l3vxstol71Qpf7PPPMZPGefFjmjh07lnbs2CFe0ketspSU46n7YTH3xhtveKVddiN0eSwZyanWebVjZvS+2Rp5b9Onv+qJNuW+oRS64q644MftX3vtNXGmLMzlwymj16xZQxMmTPC8prJ+991Z9MgjD3ukLDfiOrj//OcLXnuXnbkvC3z9HO+8845Pumd/hC7Pw9HAw4bd6rUmvo87d+4kThFtdNf8OXvuM3z4KBGty6KUH/5Sw+rVn3rJXNmuS5fuhimU77zz99S69VVeY2zbttkwLbJddK7cB4vf3r1v9IzJr7PgXbLkQ58U0f7uHf1AAARKnwCEbukzxgwgAAIgAAIgAAIgAAIgAAIgAAIgUJoEIHRLky7GBgEQCGcCESN06ybE0sqBdaleQgU6/3Mx7c0pokZVK1KtyrGk/VXIXLN0zE4OMBChK8eXdVdzc/No0aIPxct2qYC5DYtG2d7JWuU83Hbz5i2GotDJOGobGTEspTK/p4/cNRtTL6u5nbpGfR1aJ2tTo56t2vuTqtktP+bAj3qu6pqM5DmfaXJykuPzke0PHTrkUw/ZCS8nbdyuycmYZm1Y6p47d5b27s00HYZTKXNkeiBjuF3jFVekUpUqVen48WOIynULD+1BoBwQgNAtB4eAJYAACIAACIAACIAACIAACIAACIBAAAQgdAOAh64gAAIRTSBihC6fUv3ECvTUNdVoYKMESqgQI6J052o1c2d/d5Z2ni4K6CCDIfOaEucAACAASURBVHSNFuBE6Aa08CB0VmvGcsTm6tWrxaiBCN1Al1WaQjfQten7u42GDvb8GA8EQAAEooUAhG60nDT2CQIgAAIgAAIgAAIgAAIgAAIgEKkEIHQj9WSxLxAAgUAJhJ/QfeFLoopxge7bVf/i/Dyix3u56uO0cXkWupMnT6bExES69tprRTpeozqvTvcZze0gdKP59LF3EACBUBKA0A0lbcwFAiAAAiAAAiAAAiAAAiAAAiAAAsEnAKEbfKYYEQRAIDIIhJ3QpbRZFNO0TUjpFx/cRfTimFKZszwL3Q0bNnhqt3LN37S0x4KSvrlUQJbjQSF0y/HhYGkgAAIRRQBCN6KOE5sBARAAARAAARAAARAAARAAARCIQgIQulF46NgyCICAIwLhJ3Q730wxoyY62lywGhXPfYpoU3qwhvMaJxS1Uf1ZuKwjy3VeuTasP3Vu/Zk3EvtwyuomTZqY1tiNxD1jTyAAAiBQFgQgdMuCOuYEARAAARAAARAAARAAARAAARAAgeARgNANHkuMBAIgEFkEwk/oMv8QRukW/7CHaOroyDp17AYEQAAEQAAEIpAAhG4EHiq2BAIgAAIgAAIgAAIgAAIgAAIgEFUEIHSj6rixWRAAARcEwlPoptQlGvsKxdRr4WKr7psWZx0gevUhopws953RAwRAAARAAARAIKQEIHRDihuTgQAIgAAIgAAIgAAIgAAIgAAIgEDQCUDoBh0pBgQBEIgQAuEpdDX4xRXjKIbTL/e+g6hW4+Aex8kfqXj1HCreuJRiLl4I7tgYDQRAAARAAARAoFQIQOiWClYMCgIgAAIgAAIgAAIgAAIgAAIgAAIhIwChGzLUmAgEQCDMCISt0HXLuWat2nTq5Am33dAeBEAABEAABEAgTAhA6IbJQWGZIAACIAACIAACIAACIAACIAACIGBCAEIXVwMEQAAEjAlA6OJmgAAIgAAIgAAIRAQBCN2IOEZsAgRAAARAAARAAARAAARAAARAIIoJQOhG8eFj6yAAApYEIHRxQUAABEAABEAABCKCAIRuRBwjNgECIAACIAACIAACIAACIAACIBDFBCB0o/jwsXUQAAEIXSaAlMv4JIAACIAACIBAZBOA0I3s88XuQAAEQAAEQAAEQAAEQAAEQAAEIp8AhG7knzF2CAIg4B8BROj6xw29QAAEQAAEQAAEyhkBCN1ydiBYDgiAAAiAAAiAAAiAAAiAAAiAAAi4JACh6xIYmoMACEQNAQjdqDlqbBQEQAAEQAAEIpsAhG5kny92BwIgAAIgAAIgAAIgAAIgAAIgEPkEIHQj/4yxQxAAAf8IQOj6xw29QAAEQAAEQAAEyhkBCN1ydiBYDgiAAAiAAAiAAAiAAAiAAAiAAAi4JACh6xIYmoMACEQNAQjdqDlqbBQEQAAEQAAEIpsAhG5kny92BwIgAAIgAAIgAAIgAAIgAAIgEPkEIHQj/4yxQxAAAf8IQOj6xw29QAAEQAAEQAAEyhkBCN1ydiBYDgiAAAiAAAiAAAiAAAiAAAiAAAi4JACh6xIYmoMACEQNAQjdqDlqbBQEQAAEQAAEIpsAhG5kny92BwIgAAIgAAIgAAIgAAIgAAIgEPkEIHQj/4z/P3tnAudElfXtk94Xupt9V0RcUGQVBQEVEVkckBeUAVEQFwTE0dfGmREGBhkRfZ2R+XBjc0FEBBUcRkYFEXFBQVBQUBkQWWTfe1/pfPdUuOGmUpVUqpN0OvnX/PgNJHd9biVIP3XOwQ5BAATsEYDQtccNvUAABEAABEAABCKMAIRuhB0IlgMCIAACIAACIAACIAACIAACIAACARKA0A0QGJqDAAjEDAEI3Zg5amwUBEAABEAABKKbAIRudJ8vdgcCIAACIAACIAACIAACIAACIBD9BCB0o/+MsUMQAAF7BCB07XFDLxAAARAAARAAgQgjAKEbYQeC5YAACIAACIAACIAACIAACIAACIBAgAQgdAMEhuYgAAIxQwBCN2aOGhsFARAAARAAgegmAKEb3eeL3YEACIAACIAACIAACIAACIAACEQ/AQjd6D9j7BAEQMAeAQhde9zQCwRAAARAAARAIMIIQOhG2IFgOSAAAiAAAiAAAiAAAiAAAiAAAiAQIAEI3QCBoTkIgEDMEIDQjZmjxkZBAARAAARAILoJQOhG9/lidyAAAiAAAiAAAiAAAiAAAiAAAtFPAEI3+s8YOwQBELBHAELXHjf0AgEQCBOBhIRESkpKooTERIqPj6O4uLgwzYxpQKByBCoqKujMmQoqLy+j0pIS8f/llRsQvf0SgND1iwgNQAAEQAAEQAAEQAAEQAAEQAAEQCCiCUDoRvTxYHEgAAJVSABCtwrhY2oQAAFzAixv02tkCIEbT6WlxUKIlQk5Vk5OpxPYQKBaEHA4HOIhhARKSuaHEpKpQsjd/Pw8YtGLKzQEIHRDwxWjggAIgAAIgAAIgAAIgAAIgAAIgEC4CEDohos05gEBEKhuBCB0Azyx5Hgn3dmmmMZ2LKQLap4JsLfv5ntOx9OLG9No0dYUKjnjCOrYGAwEqhOB+IQEyhAyt6CwgMpKS6vT0rFWEDAlkJScTGlpaZSbmyvkbnD//gB2F4FwCt3bbx9Ko0aNMkV/4MABKiwspM2bv6PZs+dG7RExh5tvvpmaNGlCjRs3otTUVNq161c6efIkrV79cVTvPWoPFRsDARAAARAAARAAARAAARAAgSokAKFbhfAxNQiAQEQTgNAN4HgaZ1TQ0sGn6OI6of1B/H+PJ9Dgd2vSwTyklg3geNA0SghwRG5mViblCel1BtIrSk4V25AEEsTDCjUyMijn9GlEm4fgtgin0B0z5n6aMGGCpV2cOnWK/u//nqG33lpsqX11aNSuXTuaPv1JatXqcp/LZbk7b968kO2d19G589XaGnbv3kMrV66KSHx8v/CVk5MbMhYRuXEsCgRAAARAAARAAARAAARAAAQCJAChGyAwNAcBEIgZAhC6ARz1qjtPUYdGZQH0sN90/f5E6vdWLfsDoCcIVFMCWTWzqKiIUyyXVNMdYNkg4JtASmoKJYra0Hl5eUAVZAKRKnR5m0VFRTR16t+iQuaxRJ09+yVq1KiRxwkeOnRIRCUXUYsWF3q8Hsq9q2L9o49W0ujRY4J8VwVnuL17d2sDseDu0ePG4AyKUUAABEAABEAABEAABEAABEAgCglA6EbhoWJLIAACQSEAoWsR44i2RTSjV3h/+P7gh5m0eFuKxRWiGQhUfwJJSUmUKlLScvQiLhCIZgI1a9WifCF0y8vLo3mbYd9bVQldM0n3pz/9kQYNGugWnxyp265dh7BzCfaE69d/5d4Ty9rPPvucZs2aTVu2bHFP9cQTU6l///5US9zrfHG7oUOHebQJxrogdINBEWOAAAiAAAiAAAiAAAiAAAiAQOQQgNCNnLPASkAABCKLQEwJ3VMnT1BFRYWtE/jojlPUsXF4onPlAjcdTKQ+byJK19aBoVO1JFCjRg0huMqouBjRudXyALFoywRS01LJIf7HNVZxBY9ApAld3hlHsy5evEirLcvXY49NqNZRunPmzKY+fXpre/EXeauP5N24cRPddtvg4B24GAlCN6g4MRgIgAAIgAAIgAAIgAAIgAAIVDkBCN0qPwIsAARAIEIJxJTQzc3JobKyUltH8etDxygz2em/74V9xU9vRZ20hh2JEkR07Q+vETlELdzWdxGVFxMdXE+0ZS7Rno/9jpVb4qALn6vntx0agEC0EKhVu5aIzs2x/eBFuDn06NGDzj//fNq06Vvatm1rwNNXtr+c8IorWtOTT06j9evX01NPPRXwOsLdgdf76KPjaf/+/TRp0iRb08+YMYNq165NI0eOtNWf+2VmZlBubp7t87M18dlOiYmJlJbO0eg5lRkGfXUEIlHo8hLfffcduuoq8d8F4jJKC8zic8SI4Zr8rS2+BzmqldMX799/gFav/likNxb/3aBcHPnbp08f7ZWdO3caphmeMeNZbTy+1q37kiZPnuJ1v7zxxgJq0qSJ9vrbby/xmsfoBtu+/Se3nF6wYIHhuGq/228fSk8/fe576f77R3vUuVXXYJaKmMcYNWqUx144Arhr126UJh6OkKmfOQL65MlTXntes+YT7bUDBw7Q8OEjqHfvXtp4F13UQmPNEdbMUR9lLPch5+I/+6oHrJ9HXbdMQ80S/ODBQx7rwQcZBEAABEAABEAABEAABEAABEDgHAEIXdwNIAACIGBMIKaEbnFxERXk59u6F47/8aj/fu1E3bbes4iO/ySk7RyiEvGD+t/NF/2ECF4hhG6KiLZtL9rUuYzog3uItgrZ6+eq+/f6/ppYep8FSo8e3emCC5pr7ffs2U1r1qw1lVBSktgVVZYWZbFRoGu3OGzYm/E+Ona8Upt3/ny+L4JzsRTs1KkT1avnkv8//PBDUMcPziqtjVK7Th06eeKEtcYR0Iql4o033kj//Oc/bTGvbH+JYMKECSKV6VDb6wg3Sv5+eeSRR7Rp27Zta2v677//XusXKPtBg26lhx9+iGrWrOkx7yeffELZ2dm21mKvk4P4AYZTJ0/a645ehgQiVeiqUa16ocvSb8qUv7olqdHG9JGtLCTnzhX/nSEuszTOalpko5TQLHuXL3/PPd2AAQP9pkNmkTxu3AM+5zVavyq0ly5dJj5r493NWIJK2dmsmeu/UfSXURSuytSoj8pZrV/LQtaMt1nEsToXPzSjF+xyfn2dXHXdRmsMRj1dls3nnXe+iFQeK7JbiAcHLV4cMT5r1kv022/7/Ep5i0OiGQiAAAiAAAiAAAiAAAiAAAgEhQCEblAwYhAQAIEoJBBTQpfTLXPaZTuXX6GblEl0r4jQKzhCtLArUcXZ9Mx3byY6I6KCF3RyTRuXSDT8a5fcnS/q6LH09XEFQ+iyNOrSpYvhD4u/+uorevHFl7zErl1ZYpWtKjd9SWMpvIzGNVu71TWEu10wJJa6ZmY4efIkatmypddW+IfSq1evth39GG42cj6WMSeOH6+q6QOet7JCtrL95YL5AQG+Dzp37hzwHqqiA9+799xzt/ZgyXPPPW9rCdOmTdP6BRLhyw8/TJ8+Xeu3fPlyLQKSo3T79etHDRo0pPfffz+g8WwtXOkUjPv9kktaioc56mupm48ePSwiEPcHvKxAx2jSpCnVr99QREam0bFjR2nHju0BzxmqDpEqdM0idFnMzpz5/9x/P7Oc3bDhGw0P8+WoXpmqWS+CVWGrT+Osl7U8nl6WqnL2xx9/optv/p3fY1HF5ueff6FFu1q51Ln0EtOu0A0kQleKVv7Mp6SkaFG5vOfffvuN6ogHia64opWbs1GtX7tCNxwRut27X0+vvvqKlqFh5Mh7qLTUfyYaZjB//qvi/rqK7r33Plq79jMrx4g2IAACIAACIAACIAACIAACIBAWAhC6YcGMSUAABKohgZgSuiUlxVReVi4iGIoCPiqfQve864kG/4coMV1E3t4rIm9fPTf+7z9y/f5tV2pE7Wor0gb2EekTywrE6yJF8/4vTNdTWaG7atVKTVTwxT+kPHJECGdxcXSajFA7cuSwiJZ51EPqhlroqnLTLMJOXfvp06eJf1lZe8CHG6YOwRS6UkzJH/TzGRYVuSJzGjRo4P7B9ObNm22npA0TFo9pgiG4wrnuygrZyvaXe/3ss8/o8OHDNGTIkHBuv9rNNWvWLO3hlldeedlDJLNgfvnleVRSUkLXXy++z8N0VeZ+z8zMEil676XmzVt4rHbLlm/pjTeUv4N87IXHGDVqHDVu7Eq5Ky9fYwwffo9I4+vKNCCvgwcPiDS0L4r01VWfPjoSha6+hq4a4amKQqP6smq6Yv47vGXLy93cOVXxddddq/1ZH/XKsnPEiBHa3/vy7wl9ZKmv/ma3jSpf+WGwZ575u6VPi6+IYrtCV05spYauFLrcxygK11+tX7tCV4Wjj961BM5iox49bhCfwbm0ceNGce4jfUrdpKQkWrBgviZzR426X2Rr+dTiLGgGAiAAAiAAAiAAAiAAAiAAAuEhAKEbHs6YBQRAoPoRiCmhy9G5mVm1KDfnVMA1On0K3ft+JkrKEGmVRaRKzQuJLr+daN9aoq+eIPr9Stdd8Xbvc3dHskj12UBE5/ZfKH6yKCKGX21teudURuhKecGDG0WecYRb//79tbk52nXs2LHudVS10K3M2iP1YxhMoStlN/9gevbs2R7pfmV90vbt22so9PIqUvnwuvwJLk4tzFGor7++gJo2bSzSHffUtrNr1y53uly+r1u3dn2mONqNazyuWbPGa9t8Ht27d9citeQYr776mmkacqNxObLTLOUyr5UlAUdCcRrMLVu2eNW3NRO6LOwHDx4sRFtjv/vgFMKcPtToM87jsNSRe5Q1djk69eDBgx6feZ5Iz2Tr1q20ePESLyayPwsdroXL4/Melyx5m5YtW0q8pltu6e81r3oI+jVwn7vuGqFFmW3YsMG9bjN2/B3BfAYMGGD5lvbVh9dzwQUX2E4BbXkRSkN/97uvMcePn6iJ2N27d4n6qJ9rTXv06KW9tn79OnrnnUV+lzRhwlSqK6Liuf0vv+zQIkI7d+6mjWEkdaXMVefs2PFqIRlb0XERWf/UU941Wv0uIsgNIkno8ue/V6+baNiw292fBaP0yLLdqlUfG6Y8ViNx1ShbVfbqI2xlRDBHw8oas74ifPV1bc2ORZWvvlIPG/VXpaq6j3ALXb38lmtVxbBenke60HV9/v1LXcjcIH/hYDgQAAEQAAEQAAEQAAEQAIGQEIDQDQlWDAoCIBAFBGJK6J44foySkpO1H1rniGhPp1PUtrV4mQrdWhcT3b/DJXMPiFTK9/+X6Kio7dhAyLQfRJTU+SLa69QvnhG6cs7Woo7uza8QzRYRVjm/Gq7ErtBlkcORr3z5qg2ppjS+44473eJGFbqcEnno0CEaN7581WjlefmXbMtpQPVCiEXXpZdeSlI4chTpSVFHUo5rZ+1cj1Mv7Vhs9u/fz11bltfCbYzknoSvX/+xY8eEKFthKvm4H+9H1q/l9vxDbhZjbdq0EelIXX/my5/Q5blZEMpL7aveHLJeKr/mq36oFFQc2RzOqEOLHynDZv4El7xf+Z7hFMMccS6jzfk+r127ttfrvP9x4x70OEOV4Z49e0QEW4oWyc4/xOeIM5aS8uL7aMaMf2jvy0hxGd3+008/aRGf+nPgFMh8f6vtuQ/PpQpII6HLYpPTk3JUHbfni6Ou+dKvjV+TD2boPwP6PXJbFpbMiSW0fi2yvYzkl0x4D1OnTvX43PD3A0eFy4ujw3ls+YDBmDFjtGhN+Tq30wtnHkNdg/x8yLPV99d/jwVbwHKUc7L4+yGcaav93e9mn6X27TvSnXfercncF16Y4dFMStoZM57ymX65Z88+1Ldvf5FqdbU4m3N1VHmwxx9/ijIyMsV9f24MTrOcnT3BcM5Rox7QpO6HH74vUr2fzUpRmS+CSvStKqFrZclm9Vl99WXZy6lx5UMZ+tTK27f/pH1X6AXkli3faX1Y4nJKYU7drKY6ViNmOQ1x585drGxBfA+cq3dbXYWur1rBqjw3i6QOpIauCjWUEbpyHl9SFzLX0i2ORiAAAiAAAiAAAiAAAiAAAhFAAEI3Ag4BSwABEIhIAjEndPkUUsQPP1NTUikvL5fKy8stHYyp0G0uUin//kOiOULsZp5HdLuIBPzuRaI2QtaeFpK2hoiwOyTq4b13G1Gvl4iyzif6VUTtrheSr/alRKNE7cHFNxHtXW24DrtCV0oe/iHvffeNMhWSLKuefNJVi5KjHqXIkkJ38eLF1KdPH3d6ZrlIfUQvv65G1aqb4TWwfJFiU4oY/YalsAlk7VyHk68VK1Z4CKeHHvqDiIq6w7BuMO9JrkVdg1m9XiPJx/1U0aeOs337diFSDnhJM19C12xulmkzZz7nIRiXLFmiSUu9kNPzZDHYrZuo5yyu7OxsS/d5VTfyJ7gkJ32acGbSrFkzLWWuKm/lPanKRHkO+jH4dRaR+rS7qkTmNvKS0pb/rApdf+1VMWkkdPnzwQJXlbdS8u7du9crrTLvvWHDhh7SXqYQ5rUZjSNlsZTLZkyk5NXfa+r3g/wsyUhhff1mtW6tKkvNhC6vWf2Myr3z62r/YApd/r7gOpK+Hn4JxWfD3/1uNueDD2ZrqZaNpK0vUauOx+I3OTlJyNsJXtOwML7ooktE5obP3VJYRucazcmyt0uX67Qo382bN7nH49c5apjr7fKVm3uaPvjg37bq/FrlH6lCl6Upf5e/9dZi061wxC2nwU1PT6eLLxb/TSGuFi1E1g/l0stEtTavfE+VtfxakyZNtIh3vqTMlCmZ+TV95K4v1naFrlrTVy+fwxmhaxQhre5X5cnZHSZPdkWdV4cIXbkPI6kLmWv1GwTtQAAEQAAEQAAEQAAEQAAEIoEAhG4knALWAAIgEIkEYlLo8kHwD7LT0jO0NKFFhaKWrZ/LXOiKVMpcJ3e+qCnIkbk3/j+iK8cR7RGCdqlIBTrobOTTr0L68ns7xJ8vGUg07zJXmua7hOxd0ku0/9hwBXaFrpQdLBft1NWUwkZG63EaVP4h89VXX+WuyTt16t/colEVkix7OWUqX3379tXkoyqW/UXoVnbtUizx/CyiPvnEJcu7du2mrYUvfRpiNf00RwiuXbuWGjVqRDfc0N0duTlx4kQPaaymPeY+vOeLLrqIevbsqUlBfUSmmdDVp77mcTIzM7RoXRkVqkpKeTZGKXb93ceR/r4/wSXvM/35mQk5yVwVdVKIG0U3y/FVocj3vlltVY7q5HNWx+L2HF3aq5eSZv0seH0UqJHQNZuPJe22bVu9jpDb8+dclc3ynjJ6eMFI0komapS+nEiKa/XzLiN09XuUn4m2bdt6rNNIvvqK0FX3wgNJMa9yDpbQlcJY/zBAOD4r/u53szVwBC1fRjKW6+JOmTLdMJJWjifbyLTK/OcWLVwCcdeunYa1cFkA8yXTKrP05evo0cOGgvaSS1qKe/J+LeqZa+zyVadOXe3/58+fSzt2iIeZQnBVldBlUbhhg/j7XLn69Dn3HeArpfGMGc9q6XJlFK4vLHqhy9H848Y9oHWRYlaVtZzaWBW8su6tKi71Ub++5rdTd5fHU9MZq5HC/F44ha5+bv1eVXGriu7qJHR5T6rUve+++0WN8LmomRuC7xsMCQIgAAIgAAIgAAIgAAIgEBoCELqh4YpRQQAEqj+BmBW6fHRxcXEiNXA6xSckUFlpCZWJaN0z5WfO1tf1TMdsKnRvEtG4HcQPU3f+m+jwRqL960T93E/P3Rkse/na/yVRl0lE294ganuf+Im2+GF4cyFyr59OtHkW0SrXD2T1V2WFrt2IMykN9ZF5MvKPI/zUsVnAdOrUiU6cOEGTJol9KhcLJ26vSjhVburFmhQ1dtcu+xtFsKqpcGUaYrM98RbUKFyWtlI0SYHIbfTr1wtlfRQk95HCS51bL2j5vRdffEEThup7oa5vXJVfa/4El1nNWSNxy/swet2XoJVnJ89a/tkoIp3Hl/eTvAfU/vxQgP4aOHCglppYpkc22o8ckyXtunVfCtmx1jTCXu5PL7jlZ8BI0PJ99eabCz0ivKWEXrToLa818+ea00qrclgvY2UnM8kaiNA1+tybRTKrNW9lDV6j+9eszq5ZJHO4PgP+7nezdTz77IuaJH32WfH3h8Hl732Zsplr5/LFf2bxyheLbY6y1dfglWOuX/8l3XRTXy0ls7y2b/9R1E9+00MEc41fFriqvJWS9+DB/V6pooPFvKqErpEoVKWpmUhURSEz4EjenTt/IS4RwLXB+bP25z//2R2pqxe6auSrnEPOq9bVlamEP//8Cxo+fISo1etKyewvYlV/Lqos1tft9XWGqgiWa5Dtwyl0/aWXNhPW1U3oMtubbuqpRRbzA3X832CjR4+hjz82zgYTrM8fxgEBEAABEAABEAABEAABEACBYBCA0A0GRYwBAiAQjQRiWujKA3U4HJSUlKzV12XJGxcXL3453OfNtXcNhW7Ta4nu+Nz7vti2gOg/d7lel0J3+VCiW/9FdJ6oqbv+/4g+e0wUxuxA1FqkDL7yQaKF3UQNXtcP19WrqoWuXhTx2gIRrqqU1Atgllp8BSJ0ObrQqMYlCyn+QbeUVTyu0drV+rxyXlXOGgkwtRapFLEyYpDT9hpFYhqlRTaK0JVzm9W5lSJLldO+hC6vq3FjkeZbd6nptCP5i8yf4AqG0DWTkZKL+r6ZKJZt9etRz9gXZ3nvGe2H7+HJkye5o8l5HL7PPv10rVeqcNlff9/6i17VM5D3lK81q5/faBC66sMaRt8V4fic+LvfzdbgT9hyNG1GRgZNnGical0KXS47wGKWI3W3bftBE7Ddul2vvcayV5W6PKdsz7V7ZWrlzp27ie+cJl6Cefr0GVQqHpTSRxFzNDBHsIfqiiShq0bG8n6Naq/KGrj8voye1bPxl+b4gw/+Q61aXe6uoytl7dKly0S6/fHacFJUsvTl15Yvd2UP2bhxE91222DLx6EKZO7kK/JYDqqvA6zfp7o/s/q2vlJEq9G/ZumjZf1aXhNHLZtdZqxVoWt2Tup5Gwn8cNTQ1e+Lpe7zzz9Hf/jDQ5C5lu9yNAQBEAABEAABEAABEAABEKhqAhC6VX0CmB8EQCBSCUDoWjwZQ6F77RNEHR8WRrKmGKXCNRIL2ptfJXqtvchFueWc0H1b1NptdSdRPxGh+1w9oqLj52b+X/HD7Y0ziNa5UlqqV1ULXaO0tGZClwVJ//79qF69eiKaqIW2DY6gk1cwhK5ZrVk5tirUjOQsr0VGDMuoV7Uuq5GcVSNuZdpZycAsctNIxBoJXdlOprbWn39qaoqWdtmq0DWrT2x0jhZv/bA28ye4Qi105QMBMlW5XaEr03abwdu0iQXaVlED0Kn9sQAAIABJREFUdYZWa9nofPjhA46OvfTSS0W91OZapLb+fuMUx3zp71s7QpelsVGErtzDvn373CnHI1HoBnKjqjLXrKZ2IOPZbevvfjcbN1hCl8f/8MP3afXqs5kkxJ9ZuGZnP6ZJXbVeLs/JF0fjzpsn6sErl6zpq441atQD4qGEVlrqZ5a/W7d+H1KRK5cTSUKX16RGfOolH9fMffppV/psX6mApaDldkZSmFM233rrIG0clo0yBbMqW1XpqbYxk5O+7mk18thfxCuPo7Y3ighWJarZetQx9NI2UKFrNodeVqtyWRW6+ghjyUqVzpEidO1+N6EfCIAACIAACIAACIAACIAACFQlAQjdqqSPuUEABCKZAISuxdMxFLq9RKrk87sTvSzq4cpr2FpXFG7+QaJX2xH1X+h6521RS6/NvaKo7MtEM0Tt3LL8c31GiVqCu0UN3dV/8FqNXaEr07YapR22smVfUaBGQlfWoeS0fvLiqNPDhw9Tw4YNNRllVegGsnb9Wszq1Kp71vcxkq96Rnoe/qKUAxW6/s6Eha+MTJZ1W62kpK5u6Zn9Ca5gCF1Z59VI+Otr8UrBaxaJLceSQlYvhP2dqy+hq/ZVI93VdN2cOtnooQIZQW4UeSr3qH438D5Y5BlFvxvtoboLXfn5rUqZy1z93e9m948/oevvfRmhe/z4cXdNXHWu/v0HUvfuPT1krxS6U6dO9BKznEp59Og/eMhevp9GjLhXPIzgeriHL55v48avPQSyv89IoO9HmtBlSbh48SIt5S1fCxYsEBH4U7TfqxGdZmJUlYTcx0jo6iNDW7S40DCVsowGZtnIbfjyFa1qxp7nmznz/7n3xGufMuVxWrlylUcX3vukSX8RtVtd9ZbN1u9LenMfVXzzn30JXTPZqkbo8nrHjHlARKaLh+6Uy1eKbLVWMf99PHToMI/++ihkX0LXigQP9L5HexAAARAAARAAARAAARAAARCIJgIQutF0mtgLCIBAMAlA6FqkaSh0b3qB6EIReTvnItcoDa8iuusboi1zXPJ2jUh12OJmopTaRGv/TNT9aaJ4UafwNSF61Wv0LhGe8x8hdB/yWo1doaumCZb1Oo22apSCmNsFKnRl1CtHNi5Z8jYtW7bUPZ2R/PRVQ9fq2o3SK6vRtGb7lnuTMmfatGkisrg/maU9Vtcqx5QplWUkp56tkZT2FaEbiHg3qgNsdLb+UklbvPXD2syf4AqG0JXnbSTEpaBV7x15/+qjaM3uYdleRnNLgHy/PvnkNJGa9iCNHTtWe1m/H9mGo9hkvWbZX65NCl15vmbRvfw639NTp051R9aqkanqPSfXoa/jzHPz/cYy6oknprlr+VZnoSs/P1ZkLvO65567acWKFW6GzITP5qKLLvKqF8731i+//KIxs3L5u9/Nxnj88ae0MgFGKZWbNGkqImwnaJGxL7wgMj8YXFLomtXhVWvsyrTLUuiOHz/OcEwziczrueyyK4TYvZCaNDnPneL5jTdEJosQXJEmdHmLanSnPkJVjb5lGblw4UJNjLI0HTRoEPXpIx4GUy4joctvyxq5sqmR2JSpmWWbQGrg6o9KL5r5fR7vt99+05rWqVNHlEBo5Za+/JqZbFUjbLkdy1CWrfxAWOvWrTUhXFxcrNX85UsvdFXhy7L1nXfeoQMHDmhtZ8+eq/2/FLqynixL1Y8//tjd7pZbBmhpq+VlVKtYFfN8jhs2fCOiz78TNag7iGwKV2td5RqNhK6aXpv3wH35wYdnnvm7Hi/+DAIgAAIgAAIgAAIgAAIgAAIxTQBCN6aPH5sHARDwQQBC1+LtYSh0rxB1cn83n+hfov7cf98lqikikTja9thWUR9XpFxeMUKkWb6DqPnZH8jmHxJtbxO1cr86N+vlw0QU75uiMK2osbt9iddq7ApdFhEvvzxP+2GqmXTkyaSYVCNA+fVAhK4qUY2iHqXstRqha3Xtarri++4b5ZZN+pTKKlQjOWuUUlntI+dRha+UgsxNnZv7qetXpZmR0PXHjoX7mjVrPO4LdRwjAScbS7EYiCy2+HEIWTN/gisYQpcXL+WoTI3cqFEjLTqVU4TrI17lGfFZ83s//PADtWnThrp06SJq2x7R+qhSVUar8zw8/oYNG4jHv+GG7lr6bPVzYLQf/doyMzOoa9duWk1dHk+KXhmFKwWv/lDUByP4HuCrQYMG2h44zbN6X6iil+f47rtvtfZyXv09VF2FrmQmz9LoRlblrVEtbPX7Uf38ye8Eft/sTPTz+bvfzT5oMp3xwoWvuWvZyrY9e/ahvn3709q1q+n99111Uo0urnGbl5dnGKE7fPg91K7dleLBnCW0bp2rTrxMq2wUodu163VCPg7RavH6ErVqOmczMVzZL5dIFLr6KF21tq0a+Wm0dxaPhYVF7ohaM6GrRrnyOEZphfUSVo0WtsOd184PPKiZOczGUfds1EaNjtW/z/KU08HLVNJGdXLVtM2yvyqQ1fq1LItlimqjtZhxMZLYav/HHpvgM4W2KvZlP0Tr2rnz0AcEQAAEQAAEQAAEQAAEQCDaCUDoRvsJY38gAAJ2CUDoWiRnKHQ52va2FaJQbE+i8mJXpG7ti4naP0C0R6RQ/n6eq4YuR+iuEq8d2UzkPOOasUYTotG/ECWkEP36oSgyd4t4r9xrNXaFLg+kFzqvv77AHTnLonD06NGaJOJLLwYDEbpqpKw+WlCVHPqISDmHUVpYf2sfPHiwJtT40o+rShuOfJHRwmbRiTyGlGicWjc7+1G3HFZTSavzqNJW1h7lqDxuz9FGLO748id01blZvKtRkOp69XuUUYbcnwUdRyRJ8ctruOuuEe76xfozYbYsL9VIUR6H55s8eRKlpKSIdJozPUQyM23cuLFWf5iFQqguf4IrWEKX9/roo+NFZJV48OLsJSVfdna21/ZYot59991a6nB5cYQn14s2qoGrPwPuYzS+0X5klK5af1qeM0sarr3LF6fe5gi2IUOGmB4Hr7tv377amfIlz89IyBox4T4seP/xj2fd8/Jr1VXomtWYVgGqnxd5Pka1i/kzrraVD1qYpec2OiR/97vZwZpF2EphytG7Tz891Z0amVMiX3rpZeKeWeN+TUphfQ1dbjty5P3a1OoYUhTra+jynOPGZVPdunVFdKlLMPNro0aNE3Od9qq3O2HCVK1tLAldZqnWudWn7GUxOmzY7e7oTnnuGzduomnTntT6yhTJZkJXn5bYKJWympqZ51Br7Nr9TmdZPXbsGC1CVUanqt+p27ZxzeV5XumYjeZj4Xn99dd5CGLJoHPnq7X/puHLSOgapXdWZakqdHv0uFGLmtbPJcWxr4hZo7PiaFze41tvLXZHApvVRDaaV63Va/cc0A8EQAAEQAAEQAAEQAAEQAAEookAhG40nSb2AgIgEEwCELoWaRoKXa2vg6iDSEF50/Pip4zih+AscdWLhS5fb4vUzOrVXqRc7fUS0coxrhTNJldlhC4PKeWmr22qUX+yXSBCl/tIUcI/qGYxefLkSS3dIv9gv6SkxKuGLveRtWC5D0c6bt261SOFqd21qyKU51GjEzmSiOebOHGih7BUxa1cD/eVUs1I0nDK22HD7vCKTuK2/MNcFs5WhK7Z3BxNabZeM+mnP2ejtLKq1FLTAluR7/pIbosfH8vN7AouyxPoGjLHjh2v1F61kiaXz4ojZjdt+tZDcJrNzw9OnH/++ZbHV8fxtTaZKt1XhLYvJmZClvuo81rdp13+1aEf85ASXX8++tfN2prtszL3uxSynDZ537492hStWrXWUhrrJS1H4yYnJwuhv048/LFIa8vfzY89NkV7nSUtZyBg8c/pkfk1/RjcZ/z4ieLBjibiYRDvOfWiV4pbfn3Tpm8oLS1NPEDRUaupq28bzPsgnBG6wVw3j8VSNisrUxt29+49liRosNdQmfFYGDdvfoE2RE5OriY47VySg0yXHMgYLHZZ/vKl9tcLXX5fbRvoeuVe16//xqsWr5X18oNffNntb2UOtAEBEAABEAABEAABEAABEACB6koAQre6nhzWDQIgEGoCELoWCZsL3bMD3LWJKL0B0YJORPkHXS/Wb0s0jNNVOonevE6kYv7B9XpGU6Lh64ly9xIt7OpzBZUVujw4R44NHDjQLSflhCweOb3oc88JGa27AhW6RoKRBcHMmc+5o0X1UaYsxx5++CF31KORWPa19k8/XWsaLWoWbciCVR99KrduFFXJ73F0nhoZqaJisTZixAh3ZBJH+HA0I6eh1Ke1NUq57G9uluNz5szxSrss+3HEUp8+fTwiR/k97vfhhx8aSkopyn1FI+ujptU0wPrarhY/Qpaa1apdh06fOkFO8ZHBZU5ARrDr6/SqPTi69NixY16fEdlXH3UK3uEnULtObTp54qTtiQcPHqZJUhawfPHDM2vWrKLVq88+SHR2ZCli1RTK/BZL3REj7tUkq7zy8nJFbdEP3amW9YvjdMxS+so5OSpXimLZXkbpsgBWL07LvHz5UneksO3Nm3SszkI32Cww3jkCRkIXfEAABEAABEAABEAABEAABEAABCKTAIRuZJ4LVgUCIFD1BCB0LZ6BX6FbX6RuHfapK/Xypv9HlCSibDr9kShvv2uGDPFD7fXPEJXlE10lUrrGJxEtup7o6Pc+VxAMoatOIGVcqCLv7EQkcp+aNWu5UyObAbG79kD7BRq1abRemao10Pq1dqMjA12zUW1e3gePw5dRRKJZH4sfIUvNOKVxXn4enSk/m5rcUq/YayQ/Z2ZRxWpKcFknmCl16tTJnWZaH6UeexSrdsfx8QlUI6MG5YgHXyp7sdQtKMinHTtEDXeTiwVrbm6O4bv8XosWF9PRo4fpwIGzf2f5WZSVOXkIOTb/nsVvqC8I3VATrp7jQ+hWz3PDqkEABEAABEAABEAABEAABGKTAIRubJ47dg0CIOCfAISuf0ZaC79ClxtxRO7/vEtUS9TS5ajcTSLy9atprhmunSpq64o0y9pgP4qitXf4lbncNNhC1+J20cwCAY505JSNat1b2U2mk0YUpAWQSpP09HQ6c+YMFReLByNwVYqAvk62HIwfMlDraVdqEnS2TSBFpH+Pc8RRYWGB7THQ0ZsAhC7uCiMCELq4L0AABEAABEAABEAABEAABECg+hCA0K0+Z4WVggAIhJcAhK5F3gezj1FSvMU8sFkXEFWUn4vOlXNknCdK7oqau7n7LM2aW+KgC5+rZ6ktGoWXgBoByamLOf3zoUOHqFGjRqJ+X2d3eutHHnnENF1yeFdcPWZLTEyk9BrpIu1y5aMWq8eOw7PKQKPUw7Oq2J6lZq1alJ+XT+XlZbENIsi7h9ANMtAoGQ5CN0oOEtsAARAAARAAARAAARAAARCICQJVIXQbNL2QkpJTqbSkSPwqplPHzpZUVIjXqtdYtEmxdAYnRf8yMY561ciqRekZtbSX/L3vb5KCvFOUn3NKaybHNVs3t0kU664t1u+rjdyf5HBk/6/+loH3QQAEwkwAQtci8FV3nqIOjcL7g/dNBxOpz5uuL3lckUdAXwNYXWFRUREtWvSmYX3iyNtJZK0oMyuLSkSELtcDxQUC0UggJSWVkpKSQlZHNhqZWd0ThK5VUrHVbs6c2dqGjx49QpMnT4mtzWO3IAACIAACIAACIAACIAACIFDNCIRT6J7XohW16ngdpabV8KBUVJhPm9etJFVqdu83nGrVa2iJ5lcfL/Xoy5269v491W/cTOv/8+avaPuWdR5jtb76BrqoVUdL4//y4yba+o0o/ygu2e/UscO0dsUbhv1ZWHe56VYhqr3bsMht2+lGr72VlZYSz6Nfp6UFohEIgEBICEDoWsQ6rHUxPdcn12Lr4DR78MNMWrzN2lM/wZkRo9ghwNGPbdq0cXfds2c3RK4dkGf7xMfHUYao6Zkn6n2eOVNRiZHQFQQij0BCAtfOzRC1c3PI6cT9HewTgtANNlGMBwIgAAIgAAIgAAIgAAIgAAIgAALhJRAuoXvhZR2obecbtc2x6DxxdL/2+ybNW7oFrypmO3TrQ5k1z2XTTBAP62dk1Xb3Vyn9LGStKoM5QrbfsD8Qi2KWx3k5J2n1slc8wPJ6zheCWb2kQOb25UKwyuuwiJ6VorUyQpdlbtdegylR7IXXdmD3dm2KOvWbugWvKo/DeydgNhAAAT0BCN0A7olwRul+dyiRei1EdG4Ax4OmUUQgPj5BSN0MKsjPp7Ky8EbGRxFGbCXCCHBUblp6mojMzaMKUSsaV/AJQOgGnylGBAEQAAEQAAEQAAEQAAEQAAEQAIFwEgiX0O0zZKwmV42iZWU07dGDe2ndyrcNty+jXvnN9177u09ELdt1pcvad6G9O7dS/SbNtXnXrnjTMLWzOtDAu/+o/dEo4le2q4zQ7dRjADVudgkZ7VOumSN1V7w5M5y3AOYCARAwIQChG8Ct0Tijgt657TRdWlfUxw3htfNEPN36Ti06mBcXwlkwNAhENgGO1E2vkUFxcXGivkMJlZaWiYjdchHVaLGWdWRvD6uLAQIOUTM9PiGekhKTKTklSdTLPaM9pFBRgcjcUB0/hG6oyGJcEAABEAABEAABEAABEAABEAABEAgPgXAJXSlLjWQs16Vtfmk7YplplnI4EKHbc9C9WjTvps8/oHqNzqNmF7fW5O53X37kE2qoha5MI20mjFkW87X9+6+9agKH527ALCAAAioBCN0A74fkeCdx+uVxVxXSBTWDG2G153Q8vbgxjRZtTaGSM44AV4bmIBCdBBISEikpOYkSExOE3I3XBC8uEKgOBFjcnhGRuOUiyrykpFR7IAFXaAlA6IaWL0YHARAAARAAARAAARAAARAAARAAgVATCLfQNYrQtbJHq0KX5fBNg+7ThmR5zHV7O153s5bi+KMls3xOFS6h6ysS2QoLtAEBEAgPAQjd8HDGLCAAAiAAAiAAAiEmAKEbYsAYHgRAAARAAARAAARAAARAAARAAARCTCBcQpdr4nKkLF8H9+4Qv36hw/t3WY5EtSp0ZUpkVZr2u+NhrW4tR+z+tutHU6KhFrpSLvMCuI7wPrGWowd3U37OqRCfMoYHARCwQwBC1w419AEBEAABEAABEIg4AhC6EXckWBAIgAAIgAAIgAAIgAAIgAAIgAAIBEQgXEKXF6VKXbnIvJyT9OvPm8Wv73yu26rQlbV6v1//iXtMWbuWRfKGNctN5wm10OWJL7ysA13e4VpNMMuLo4cP7N6OVMsB3bloDAKhJwChG3rGmAEEQAAEQAAEQCAMBCB0wwAZU4AACIAACIAACIAACIAACIAACIBACAmEU+jyNjglctPml1OdBk2ofuNm7p2x2P3sP2+aRuxaEbq16jWm7v3u0MZcseh591gyMpZr9K54c6YpzXAIXZ48MTmFzrvwcq2+b71GF7jlLq9v3ap3RPTuwRCeOIYGARCwSgBC1yoptAMBEAABEAABEIhoAhC6EX08WBwIgAAIgAAIgAAIgAAIgAAIgAAI+CUQbqGrXxBHrF7SphOlptXQ0hCvXfGG4ZqtCF0ZASwjXtWBLmrVUfujGrmrnyhcQlc/L+/tsnZdqVa9hsRSd+W7cyynovZ7wGgAAiBgmwCErm106AgCIAACIAACIBBJBCB0I+k0sBYQAAEQAAEQAAEQAAEQAAEQAAEQCJxAVQtdXjFH7d406D5t8e+99nfDTVgRujLdsi8Kam1dfTsrQrelEK+Xte/iUz7LiGBfgtpojXL9X328lI7s/zXww0QPEACBoBKA0A0qTgwGAiAAAiAAAiBQVQQgdKuKPOYFARAAARAAARAAARAAARAAARAAgeAQCIfQbX31DcQRspxWefWyV7wWHgyhKyUqD85CVH+lZ9Sktp1v1F5W0zGr7awIXVUsf7zsZcrPOeU1V9fev9fSSavyWO1nNj+EbnDuaYwCAsEiAKEbLJIYBwRAAARAAARAoEoJQOhWKX5MDgIgAAIgAAIgAAIgAAIgAAIgAAKVJhAOoavWttWnPOZ6sh269qbGzS4hTpX80ZJZhnvyF6HbqccAbQxfEbhSmP68+SvavmWd1zxWhC53kuOwoF7/yTIPqSsjeLmdPtK23x0Pa/VyD+7dQRvWLPeYX+1nJoorfdgYAARAICACELoB4UJjEAABEAABEACBSCUAoRupJ4N1gQAIgAAIgAAIgAAIgAAIgAAIgIA1AuEQurwSWd+Wf8/itrggX1tgjazamuTky1eqYX9CV8pSXzVy5RrMIoWtCl0W1F17DXavm8crF7Vv1b0YSVs1iphr5eaLfnylpNfQagjz9cuPm2jrN59aOzy0AgEQCCkBCN2Q4sXgIAACIAACIAAC4SIAoRsu0pgHBEAABEAABEAABEAABEAABEAABEJDIFxCl1fPUagXXNrGLS/ljrjW7PcbPhF1aQ+abtKX0L3wsg5+0ynzwGqksFEUrFWhy2Nxmui2nW/SUiurF8vqHT9soF9//s5wL7wPTkGdIUS2vt+Pmz6n33b9GJqDxqggAAIBE4DQDRgZOoAACIAACIAACEQiAQjdSDwVrAkEQAAEQAAEQAAEQAAEQAAEQAAErBMIp9CVq2IZmp5RS/vjSSFxy0qKrS84AluypOWrIO+UYU1doyVzqunaItI30H4RuH0sCQSilgCEbtQeLTYGAiAAAiAAArFFAEI3ts4buwUBEAABEAABEAABEAABEAABEIg+AlUhdKOPInYEAiAQjQQgdKPxVLEnEAABEAABEIhBAhC6MXjo2DIIgAAIgAAIgAAIgAAIgAAIgEBUEYDQjarjxGZAAASCSABCN4gwMRQIgAAIgAAIgEDVEYDQrTr2mBkEQAAEQAAEQAAEQAAEQAAEQAAEgkEAQjcYFDEGCIBANBKA0I3GU8WeQAAEQAAEQCAGCUDoxuChY8sgAAIgAAIgAAIgAAIgAAIgAAJRRQBCN6qOE5sBARAIIgEI3SDCxFAgAAIgAAIgAAJVRyAShK7D4aCkpCRKTEykouJCOn3qFJWWllQdFMwMAiAAAiAAAiAAAiAAAiAAAiAAAj4IJCUlU81atSg1NZ3KykqptKSUnE5nlTGD0K0y9JgYBEAgwglA6Eb4AWF5IAACIAACIAAC1ghUpdCNi48T//hN00RuYUEhHTt2iMrLy60tHK1AAARAAARAAARAAARAAARAAARAoIoJJCQkUL36DSktLY3KSsupqKiQKioqwr4qCN2wI8eEIAAC1YQAhG41OSgsEwRAAARAAARAwDeBqhK6ScnJVKNGDSouKqbCwgLKyTkJmYubFQRAAARAAARAAARAAARAAARAoNoRSEhIpKysWpSenk7JKSmUl5sronbLwroPCN2w4sZkIAAC1YgAhG41OiwsFQRAAARAAARAwJxAVQjdlNRUSk1Jpbz8XCovK6fi4iIqKMjDMYEACIAACIAACIAACIAACIAACIBAtSSQnp5BKeLfuVxOKF08vMxZqEpKisO2FwjdsKHGRCAAAtWMAIRugAfmTEgixzX/Q47uw4jqnhdgbz/Nj/9GzjULybnh3+QoLw3u2BgNBEAABEAABKKcQLiFLv/jNi0tnXJzc9xpqBCdG+U3GbYHAiAAAiAAAiAAAiAAAiAAAlFOgFMvZ2XV1nYZFxdHWTVrUn5+vkjDHJ6fV0PoRvkNhu2BAAjYJgChGwi6mg2IHniRHA2aB9Ir4LbOw78SzXqQ6PSRgPuiAwiAAAiAAAjEKoFwCl3XP2qzKOd0rpC5Z9zIT548Rk6nM1aPAPsGARAAARAAARAAARAAARAAARCo5gQcDgfVrl3PvYuEhHjKyOR//54S//4N/b93IXSr+Q2E5YMACISMAIRuIGizF5CjWatAethu69y1mei5+2z3R0cQAAEQAAEQiDUC4RS6NTIyRJ3cMq1urnqdOHE01rBjvyAAAiAAAiAAAiAAAiAAAiAAAlFGoE6d+h47Sk1LIxa9hQUFId8phG7IEWMCEACBakoAQtfqwXUZSI4hk6y2Dko755uPE33zflDGwiAgAAIgAAIgEO0EwiV04+PjKDOrJp06edILKYRutN9l2B8IgAAIgAAIgAAIgAAIgAAIRD8BvdBlmVurdi3x7+BTIc9KFZFC1yHOPIHIkUjkFCyI/8y/+OKgZfHLIbJ1OcvE78vPvhb9twl2CAIgEGYCMSV0T5084a5xFzDnR+aT44LWAXerTAfnnq1E/xxZmSHQFwRAAARAAARihkC4hG5KairFi5TLBQZPJkPoxsztho2CAAiAAAiAAAiAAAiAAAiAQNQS0Atd3ihnqiotKaXS0pKQ7juihC5L3CTha+MdWoSylYvLMDmE1K0oFf9/rkKTla5oAwIgAAI+CcSU0M3NyaGyMpvF259eS47UDNu3U9vaiXRHi3S686IalBhHdLykgp7+Pofe+KWAzEoPOIvyiB7rbntOdAQBEAABEACBWCIQLqGbKWoHFRYVUHkZP3breUHoxtIdh72CAAiAAAiAAAiAAAiAAAiAQHQSMBK6ScnJlJSYSPn5+SHddCQIXWc8UVyKELhC5FbqOiOidktE+K73jw8qNSw6gwAIxCaBmBK6xcVFVGDzLxzHzG9t3yG3nJ9Kc7vV0b7/WeTuzy+nS2smUqp44efTZTRs7XHaX2D8uI7z4Sttz6t2vOKK1tSjR3e64ILm2st79uymNWvW0rZtIgrY4Bo5cqT26qZN35q2CcrCImwQ/b4HDbqVMjMzKDc3j5YtW+qT1b59+wTTNV5tmH3Hjq5ztMKT20+ePIlq1apJs2fPNZ03wtBhOSAAAiBQ5QTCJXRriu/nnNM5hmmmIHSr/DbAAkAABEAABEAABEAABEAABEAABCpJwEjoxsfHU3oN8XPSnNOVHN139yoXuqkiGjexkiJXt0VnmZC6RZybGRcIgAAI2CcQU0K3oqJC5Pk/YYuWXaE7qFkazeq5Jo5ZAAAgAElEQVRamwrKnZS94ST9a2+RNn+yiNKd3L4mjW5Zg749Xkp9Vh41XFcwhO6MGTOoS5culCpSROqvr776il588SUvafv9999rTf/5z3/S/PnzbTGrjp30+2Z2N954IxUVFVHnzp29tsTCd8qUv2qv79mzhwYMGODVZsKECTR06FDt9TvuuNOvIGep/Mgjj2jtP/nkE8rOztZ+36NHDzr//PO138fSmVTH+whrBoFwEOAo0RYtLqa0tDQqLCykzZs3BTytnTHat+/onnPXrp3igZecgOcNVYdwCd3adepo/z0hsih5XRC6oTpdjAsCIAACIAACIAACIAACIAACIBAuAkZCl+euVbu2+PfwyZAuo8qELpfGTbMQlZsi2qXHUZxoW1EoInALKoiKLSDhaF3RXqu5iwsEQAAEbBCIKaFbUlKspUfkSN1ALztCN0F8/+8Z2pRKxJf1oNVH6fuTXBXd85rTrTax9L3po6O05YR3OujKCt1Vq1ZSgwYNtUlZSh45ckT7fc2aNbVffB05clhIw0c9RCOErktkq3J16tS/eUXLTps2jfr37+8+1LZt23qdMY/Tvn17jXOvXr0t3XrchwX8nDlz3FG/Ui7zAEbzWBoYjUAABKKCQNeu19Hvfvc/lCzSHckrLy+XFi16nXbs2G5pj4GOccklLenWW2+nunXruscvKSkR31GraPXqjyzNGepG4RK6PM+J48cNtwOhG+pTxvggAAIgAAIgAAIgAAIgAAIgAAKhJmAmdH39ezhYa6oSoSuCr0gIWkecQWSuSL+ccFkiJV4sfrVIoLhUbux5VRRVUPkvZVS2o4xKt5eRo8I4wtcpPIEWqSscMC4QAAEQCJRATAldjqbJzKol0kKcIo7WDeSyI3R5/OEXpWuiduspb5nL7/dpmkJvXF+X/rY5h57/SdTM1V2VEbqzZs3SInP5ev/992nSpEkeo6sykiN1x44d634fQvdcZLJkYcRwyZIl1LJlSzc3o4jmzz77TJPnesaB3H/cFkI3UGJoDwLRSYAjZO+8826SMvXEiePUtOl5dM0112obfvrpqX6jZgMdgyN5H3tsiiaQ169fR7/8skOL0r3ppr6UkZFJCxe+ZitCONgnBKEbbKIYDwRAAARAAARAAARAAARAAARAIBYJxJrQdaSJU07wFLVOh5OS2iZRynUpFJ8lrK7F68zpCipeW0SlW0tJKGLvXuUVIlLX4mBoBgIgAAIKgZgSuieOHyMu3s4/hM45fdqw9p3Z3WFX6Pq72zrVS6IVverTC0LmThVSV3/ZFbqcnpflIl9q2l79+KokVNMBq0KX674OHTpE48bXDz/8YJryl+flX7ItpwFdvHiJV5phjnxt06YNHTt2jJ566iktEpb/zJdZH14rXytWrKCjR49ZXhP3Ucf3tQcjkS2l7fbt22nIkCEeCGV7lrUsz/XSVj0HKXv5tX79+mnjcDplXlunTp20CGqZXlndK9fl5T+3aNFC1EC+wH2mkoVat5fr76pnZcbS333J78uz1D8IYKVvsNoY3Rf169fz4Cfn0jNT18Bpr+vVq2d671q9P9Q5eHw+R46kfuedd7R02PIelueo58APUfBnw9dnyIzdQw/9wV0Dm9t8+eU6w/rK6l7lZ7eOSA+7YcOGgFJ1W7lP5VrlnPLP/Bk1qifN7/M92r9/P+085GW0F/2ZqXPI7w0zVvo5+HPA6zFbU7Du13CNM378RGrcuImI4H/eIxqXI24HDRpC27f/SPPmveRzOYGOMXjwMJF2viutXbtaPCD0nnvsJk2a0rhx2VRaWkKPPz4hXAhM54HQrfIjwAJAAARAAARAAARAAARAAARAAASigEBMCd1koV3FL49LJERLH5xOic0TPV4u21tG5bvKqSKvQvxyUlyGQ/yKowQRuZvYzLNt6c4yKny3gKjc+4ZwlogoXf6FCwRAAAQCIBBzQpfZpAgBk5qSSpyesrzc4BvVAKBVoXt9w2TKbp1Jneu50mBuOVlKr/w3n97ebfzYTfYVmTShbSY9sv4ULdwlvuB1l12hK6NvWRLed98o07qtLD6efHKaNuvrry9wCyIpKhcvXkx9+vRxp2eWyzOKNlUjgtVt8BqWL1+uiVt5SZHMdWd37dql1anV95k4caKHgLGzJt7f5MmTPKJo5Tw891/+MslvqmmVpVpHV6ZjPi0eDli69F269977vNIqq/VzZZpkNY0z85X1dXldso1eLMs/6+8PNSKYhd+wYXd41Uo24u/rO4JF3ogRI7Q00WZ1gQP4jrHdVKaqVgfgtNUsC5m1yot/7yuqnO8/luH6hxvs3h8crd2zZ083az6Hffv2uR+iMErPbST3rcDhOs1jxtzvTp2u9tm8ebP2QIB6yb3yZ7RFiwvd/Xw92GG0Div3qa+1GX1HcPuHH37I6/uE59e3V8+stqjPwvej/l7Qp4rn980+B/wef97U7yEr/COtDac9Hj36D6bS9vHHn6KkpGSaONFVe9vosjPG9OkzTKXtqFEPiO/YVl6CmWVvjx69qH59V9r/3NzT9MEH/6YDB/aHDCuEbsjQYmAQAAEQAAEQAAEQAAEQAAEQAIEYIhAzQlcE3nI9XPVyZDqoxh3pFF83QXvZWe6kku9KqeSrYnIKiWt2ObLiKKVLEiW1TyZHvEsQlx8up4JF+aLOrncvrfbumRi6qbBVEACBShOISaHL1JKTkygtPUPU0y2mokKDb1QdWitC9/5La9CTHV11abfnlFORSJ/Qvk6S9udlewvp0Q2nKK/s3Jd+O/EeR+fy13u79w7SsWLvNNB2ha6UIUZRpVbuGinHZN3d9evXU3p6Ol199VVuQaRKKzXSl8UMRwPy1bdvX02m6sWybM+v88Vi6ueff6LLLrvcnSZav/ZA18Tjyuhanmf16tUiTegv1KhRIxowYIAm48zmUEUpS6gpU/6qrdNozzwG17qVEdFqpLOUkuo8qiiTfFlq8yUjO/Vy0l+ErrpGnmvdui+FPMlz89ev3egeUEWufN9IGFq5fyrbRn04gNfw3XffivuvBt1wQ3fx2U1xC0G1lrAdoWv3/uBz43S33377rbZVGZEqa1YbcZN74gcArr/+ekuIWDi/+OIL2n6530cffUSHDh3SIrplOnUzEap+tvj3gUYF+7tP1bWxaP/007Xa2jhKWT6goU9TLtOPSzHP9+hFF13krkP9yisv03PPPa+xkd9hvG9O8ys/v7x3lrv8+dU/cKB+Dvi9Tz5ZrY3VtWs390Md6hyWDiHCGvXs2Ud8rvvThx++b1i3dvjwe6hduyu95Kq6jUDHYDGbnT3BVCLLyGA1epel8ciR92tnd/DgAW36OnVctXfnz59ruc5voPghdAMlhvYgAAIgAAIgAAIgAAIgAAIgAAIg4E0gVoSuI138ZP6sfNUoiBitjLtrUHw9l8wt2y2ibJcX+hS5enqOLAelD0qnhKauMcoPllP+/HxveSvq6ToLAovS7d27l8jONojOO+88SklJoZMnT2pBJitXrhS/VuFWBgEQiHICMSt0+Vzj4uJE+lPxtE1CApWJdJFlIlr3TPmZs/V1Pb9M/QndkRen09+vrkWHi87QvV+coG+OlWq3TsPUeJp5TS3q0SiF/rktj6Z/70qr3DIrgf4tZG7NpDjKNonO5XaVFbqBRuXJ+13KMb0wYYnz8svzNJmiji3TBp84ccKrVi/LYG6vihRVAOvrzprVirWzpkceeUTbkj5i0kzSmklBKaJUQSWFk4z6k23UfRr1U0WZ2fkYrcNXDV1fAt9Xymhmw+vp3r27RwQkC8kFCxZUSYpavsfefHOhdm5GEbVScPL7lRG66jkEen+YRS7LiGwWqGo0N6/V6F7w9/eL+uCDPtJejf7m+1ymE5b3gr/ofH9z+7tP5dpYuI4b96BHpLtRVLvZZ47XIVNRq6ma5T6MPr/q2owksNH5yIcrAhHq/hhVxfsy9bFZzVp/7/Oa/bXRvy/r7XLt3HfeWeS1baP3OaUzC1xV3krJe/DgfnrhBVcK/WBfELrBJorxQAAEQAAEQAAEQAAEQAAEQAAEYpFATAhd4VsdaZ7RuekiMjfxQlfq5OL1IhDs4yLjOrh+bgpnnJPSfpdOye1cwV4l20qp6D3vDJ4VIkrXYSFKt127djR9+pPUqtXlpjN//vkXNHz4iFi8XbFnEIgZAjEtdOUpOxwOLUUl19dlyRsXFy9+ncubz7V3fQndIRem0QvX1NYibPutOkq/5pXTeenx1O+8VJor0i3zxdG77/9WRPsLztCFGQn0n971qW5yHD349Ula8qt5FfSqFrpG0Wxm6WuNPjVqFJ8q56QM4ki9Xr16e3RVZY2RsLO6JhkRaRZlarQPM6FrFGkr20qZJueTEZNqil1VGKr7U6N5VQiBCF1VgKpiT45nxpNfHzhwoLsuLwtAXruv+qfh+GbklLkypbIRH3/CX/+AAK/Z6Kwrc3+YRXmqZ6G2UWWm0RmZcZURv0bpi7mPlMTqZ0tNuTx27FjbR+bvPpVrM0tjrL+Hrdb1lgv2l2VAz8aMvRzPbspr2wBD1NGfjDWKltUvJdAx/AndzMwskcVgOu3evcstas1SNHPb3FzvevHBwgWhGyySGAcEQAAEQAAEQAAEQAAEQAAEQCCWCcSC0NVH5yZelkDpt9XQjr3s1zLKfzPflsyV9w1L3RojMijxPFekbt6CPDqzV2dvLUbprl//lZZ1ki/+Ge7Bg4fctyeXXJMXpG4sf2qx91ggAKFr8ZTNhG7fpqn0+vV16HRpBf1u5VHameuqyfvX9ln0h8szaM2hYnpISNsjRa50ylfXS6JXr61LDVLj6I/fnKL5O32ne65qoWtVjvHeWKj079+P6tWrJ2p3ttD2y3VL5WUkdI0i6fwJXatrUlO2clSe/uI0tvxLXZeZ0NVHXqr1c2X6XCkipaSWffQRgWb7U9cXiNBVx2OeRpc8B6M6vry+L774QtQXXWJaa9nixyQozXzJfp4gEu8PdeNS/qsPEkh5HGgKdHkfmAlko+jrQB648HVg/u5TuTa+34uKir2GatCggRaZr35e1brI/B+fe/fuFfVUD9CXX65z1++WA/nbh2Qqv0P8CWgeV2YL0KeCDsqNG6ZBApWxRssKdAw7QlfW1WXJu3nzJtq69fuQily5TwjdMN2ImAYEQAAEQAAEQAAEQAAEQAAEQCCqCUS90OVYrhoO4kAvvkTyY8p8IJPi68TTmfwKypuVK0J0g3DEGQ7KHJdBcYlxVLavjApe93QBTqfIEpovfvnIvPzEE1NpxAhX5O3GjZtEprsnacuWLe7FcRrmqVMfdwvfxx6bQG+9tTgIi8cQIAACkUYAQtfiiRgJ3TSRX3/LoEaUJb6QewuZu+WEK80yX/VT4uidG+vR5TVdKRq+PV5KNUS7S0WqZb7+sum0O3rX1xLsCl0pTsxSw/rbdqD1SDkC8U9/+qMmcOTFovDw4cPUsGFDL3EqpV04hK6/vaqSzWzfavQfR9t269ZVqxOqSju1DUeWPvroeC2NsT5C2J8o4/XaFbr+9iojhfX1UTkC9NVXX4sooWt27wZb6PpjZuX+UMeQYl9NuyxFolk0q9kafH0OuY/R58ifCPW3X/m+v/tUrs3feHp5ymu+8sor3XWQZX8+77/8ZZL7HvS3D/3e/a2X5/E3pr+9RML7/mSsv/d5D/7aBCPlMkfijhhxLzVv7nq4h6/jx4+Lf3h8bVj7N1hsIXSDRRLjgAAIgAAIgAAIgAAIgAAIgAAIxDKBqBe64kf2DhFwJa/4SxIoY4grOrfgXwVUtrXM1vEntkkkjvwt2VBCjgqXLE66JonSeqZpv899OY8qDnlG6To5EMzHdGvWfCKCp1xRuAMGDPSQuXKRY8bcTxxcxNdHH62k0aPH2Fq/r0633z6UsrIytSbr139juA6j/rw2ec2ePdfyumS/nJxcy4Lazhrt9LG8CTQEgSATgNC1CNRI6N56QRrN7lqb5om0yhOFoNVfnLX5NtFmlEi33Ka2K1/++mMl9I+tufTF4RJLM9sVumb1NfWTmqUhDVToSmHF8mvJkrc9ou2MJEo4hW4gdYR97VtNMcv1UTnqVR85KdtwVOLdd9+tSSu9xLMinuwKXTVFtb8bjCX8Lbf0d9fOZQHJ51dVtXPletW6sfo6tNxGvbcrU0PXjtzzJ1jlHtR6yvwap5A2qqvr74z8iWC5B/WhATv7MlqHv/vUKguzPfIDED16dKcOHa5034NG+zBLN62PTraS1lquOVCx7u+cwvl+z559qG/f/rR27Wp6//33vKaWkbFz5jxPO3ZsN1xaoGM0adKUsrMneKRUVgf2NR73veyyK4TYvZCaNDmPMjIyxX/wf0tvvPFqSLBB6IYEKwYFARAAARAAARAAARAAARAAARCwQSAtzSUIQ30VFrpK/gXzinqhmyqicxPPlVxMG5BKSW2SqULI1Zx/5NhKtZx8bTKldncFO+UvyqfyXa5MnpTopKw/1iSHCA4rXldMxWs8Q3+dZSI8t8g8RFcVus2aNTc9ZilAd+/eQytXrtLaqaL3qaeeIiOhunfvbq3trl2/ip/V3eg1PkcI9+/fn2rVquXxHkcLz5s3zz2X+ibX/B07dgxdf/11HgFg/PPRzz77nGbNmm0ohLnf+PHZdNVVHQ37mYlqszXynniNRhHLdvoE8zOGsUDADgEIXYvUjITu1A5Z9MBlGdRf1M1df+xcdK7FIS01syt0WZa8/PI87YvPV5pXKUX0sikQoauKFKOap1JKhTvl8rRp07S/bIzq9DJ8ltlr1qzxOAdf+1Zr5HLkLbPV71fKSN4rR/DypW/jT5Rxn0CELreXjI1S8/K9wNe2bVsN7znmwGk7eE/yYrG2du1a4kjvcF8qH6P02mraXiOhayTrjGrNBvv+UDnJ+4A58merS5cuWn3iQGvaGqVUlvOon3F1z+ESunJtZvsy+nzxazVr1vJKr6xPn8x7VFOmy7TmRntXI4B9pVRW76tA6hiH+/73N5+UqwcPHqBnn53u1fzxx5/SasJPnJhtOpSdMeS4Tz891St1shWJzIvhqN3s7Mc0qTt+/Dh/W7X1PoSuLWzoBAIgAAIgAAIgAAIgAAIgAAIgEAICELr2oCYnp1BJSTDyHZvPr9bPdTqcVJOFa7KDSn8oocLlRQEvPKmLiMK90RWF6xR1cXNn5pBTya6cfmc6JTZPpDPHy0U6Z52A91NH991339EEJ18ciDN58hTL66us0FXnNpqUf+7JGSFVYcpSdvbsl9wpoI36HTp0SMjmBzykrlE/bidrB/M4LJFvu22wx5Bz5symPn16u19jiZuWlupRc/jhh//XQzzb6WMZOhqCQAgJQOhahGskdB9tnUl/bpNJ935xgv69z/iLvm3tRGpdK4kW7vJdK9dsGXaFLo+nRjJyOtPXX1/gFiksVkaPHk0tW7bUptanRQ1E6KqphvUCTkozniPcQpf3OH36dE286qN01RTR6pp97Vutm8uRt0aiWLbhv8x4Xl9tmIlZRK3ROnzVCJVCjNNcT5061UNUW02/bSZ2eV558VlPnjyJUlJSPO4neb9xRO3Bgwc9xCWzvuuuEVRcXExPPDHNQyzznOeff742vCqPpYBlftnZj7r7qPe0np8qAFUGUq7q78Fg3x/qZ1hGvsvazXy/yHTXFr9ytGYyfTP/Xi+q5bnyvXbffaMspyq2Or+/Bw/Utek/92rNabk2o9fkWqQcVtNsy/PkNvq05arUV+Ws/Bwwk2ee+bv7+47v2xkz/kENGjQkfSpv7tO4cWPtoQh+UlFe6n07ZMgQS58Bq2wr2278+IlizU1o4cLXtPq08urffyB1795T7GUdvfPOIo/X9+//zaNtoGPINMz6sS+5pKX4u+QP4nN/TjCzuB01apwQv6fFU5AveWx3woSpVLduXQjdyt4E6A8CIAACIAACIAACIAACIAACIBDxBCB07R1ROISuVj+X02uKy5FOlJVdU/t9wX8Kqey7wAK3kjslUWqvczK3YHEBlf96Njr3LILk60X07nWpxDVzTz8lIoCVrMssgKnAPEKXUwI//fS5n1mxsFy37ktauvQ9v2mPKyN0ubziuHEPaDtgsTplyuNuKTpjxrN0662DtPf0kb1vvLGArrvuWu09teYvC9tJk/7iltP61NCqPF66dJn4mfB4bQx9P1Vq83vLl7sy2OklMXObMuWv2s/oVRFsp4+9Oxm9QCD4BCB0LTI1ErrX1E+mf99Uj748UkIDVx/zGql9nSRaJuroxot0/M0WH/BV29x0FZURujyoFBy+tqmXJdw2EKHL7aV8kWl7T548SVdc0UqLyCopKamSGrq8LlUAslyTgo3TJfOlF67+0siqdUPNIhP9tfEnysz4q+mx5V7ee+89TYSqwor7s7Tii0Ui/+LLKHrX6L6QYpdl/5EjR0RthgHuZura9ZHfqoBT5aUqVPUPDkiR56vOMN9TvI7U1BRNyPG88kEEVYirglGeLd9/fHEfjkDWi/1g3x8qT5WHWZS4r8+lfE+VlzxOUVGxz3MNV4Qur89obfKc+H31M6Leo3yme/fuJf6euPzyy933qCqG5T7kect7Xr2n9edp9jlo0KCB9h9vPO/EiRM9HniQn1d9lgJ5b/I+1HX5+gxYOc9gtGGJOnKkq/7Izz9v0x6WYC4tW7bS6tS++OIMdxStlLzcVo2KDWQM7sufpXHjsjUZu337j9p3KT/YwemUXffCXI8Uz1LccttNm74RT0amic9gR62mLr+mF73B4MJjIEI3WCQxDgiAAAiAAAiAAAiAAAiAAAiAQGUJQOjaIxgWoZshhK7DJXTj6jkoc4zrZ4j574hUydsVGStSM3M6Zme+kwo/LPIQsdw+6WoRmdvbt8zldoltkih9gKtdznMiejfnnMBlyUt55kKX+3B64MGDB3ukIebXWWLu3PmLeOh/oWHq48oI3S1bvtPSLPPPzIYOHeYlj2WUKwtdlq9btmyh3r170dy5c7R9mqVw5hTSjRs3EsEpP7qjbdV+ZjWAZerpU6dOCcnbQZvDX+1gltK5uTkeNX/t9LF3J6MXCASfAISuRaZGQpe7LrqhLt3UOEWrozvlu9NUJmqY8zVI1M599upalJbgoPu/PEHLTSJ4/U1fWaHL47OAGDhwoFbzVb1YDq1YsYKee+55r2UEKnRZpDz55DSPOfgH/jNnPqdFZ/Lc4Y7QlZti0Xfrrbe5pRG/zn8RsUR88cWXPCJG/QldM8mjAvTXxq7Q5TlYQLJgZTnFlxq1yWfw6KPjPVIncxs+50WL3go4fTKP179/P4+oRTWqVR8xKh8e0EfVStGqj5rktal1idXoSH7P6Nz4Hvrhhx+IozL50kc46/nIe7Bbt65aCmyjesrBvD/U+0CVxXqR7e9zr3+fpTinbZbnzu/z3l577TWvcw2n0OV1mK3tiy++EE/dTfLYiozwlkJevml0j6r7OHbsmMd9z/cSy+LsbO+0wmafA37IYebMmV5p1uU9qH+oQI0oViWwr89AoOdamfYsZPv3H6RF6sqLo2TnzXvRIyUyS9Q777xbE71PPeWZksfqGHJ8lrpDhtyhiWN55eXliu+X173q9cooXXV93Ifr5y5fvtQrbXNlWKh9IXSDRRLjgAAIgAAIgAAIgAAIgAAIgAAIVJYAhK49guEWuvFN4injngxtsXkL8+jM7nPhswmXJlCN37tqIZf9t1QI3wJyOF0iOPFKIWlvVmTuEhGZK+vm6rYe3zyBMu50jZP3ai6dOXBWIog/WxG63E/Wpe3U6Wqverb8/o8//iQCGf7iIV7tCl01Kvjzz7+g4cNHeB0mr4clrnqpkbv8c3fOoKe//PW7//7RhnJaHVu2UUWwPorY7O6z08fenYxeIBB8AhC6FpmaCd0GqXG0um8DapgaT4UiPcKO02XUtEYC1U2OI86WwDLXLB2zlamDIXTVeWT63E2bvjWtqWplXWZtzFLoVmbMYPWN5LUFukdOB3v69CkvOSXHkee8b98+0zaBzqm2N6qPyu+bvW5Wx1cKdKPay3I+3mtmZoaI8nPds1aEOK/j6NFjAd3jwb4/1IhhdX9qxLKvMzCqHyxZ2D1XNXrcbG59SmKr94lcW25unleNXP0YfD907Hil9rLZXozEtLyvrdZ2tvp9F+j97Otet8orWO24Hm79+g3FU487TSUpy1V+GtHssjKG2pfHa9HiYvEZO0wHDuz3uRXZlhup6aGDtX/9OBC6oSKLcUEABEAABEAABEAABEAABEAABAIlAKEbKDFX+7AI3XQRoRt/NkK3ThxlPpCpzV2wNJ/KfjoXoetMEumYx2RQXFa89n7JtlIqfK+AktuLyNx+IlezuDhlcoEPmcttEq5IpBoDXe1zX8ihilNKhK6flMtGFFlK9u7dW8ti2KrV5e4m+rTDdoWu2s9MzBqtS61NO2DAQL8poeUYaj+O7DW61Lq4HBg0e/ZcrdkHH/zHiwFHLe/Zs9s0LbWdPvbuZvQCgeASgNC1yNNM6HL3Rmnx9HiHLOrbNJVSxV8EHKX7pqiZ+8bOfPrhVJnFGYybBVvoVmox6AwCQSQgU0gHmo7YitAN4jJtDyXTEesjPysjdG0v5mzHUArdyq5N3z9YkcbBXhfGi2wCELqRfT5YHQiAAAiAAAiAAAiAAAiAAAjEEgEIXXunHQ6h6xBCl84KXRLStuafXSXrilYVUskGzxq6jqw4yrgr3S11y/aWUWKzRK29FZnL7ZI6J1PaTa6Mi6efOk2kltgVQtfpo4auP4osdx9++GG31FTrz9oVumr9XFWe+luLWj+3WbPm/pq731f7WemkrokjfsePz9Zq86rZDeU4HGH87LMzPOSynT5W1oU2IBBqAhC6Fgk7nv1aPEojvt3DeDmL8oge6x7GGTEVCISPgBSzRmmQfa0ikoUuS98wrh0AACAASURBVGpZz4Jr9vJlFGkbPsrVdyYI3ep7dlW5cgjdqqSPuUEABEAABEAABEAABEAABEAABFQCgQrdiy++WOu+c+fOgEAWFuYH1N5K4zp16hs24393nxBlnUJ5hUPokqiN60h0RejylfmwiMLNjKfSn0UE7ruFXtvTpO5IIXVFG3lpMnexSLP8q2pnjcmkD0mnxEsS6czpCsp7PtejkbNMROsW+a6h6483C8rly9/Tmqm1a+0KXSv9jNakRtoGInTVfvqyfEbzrF//jWH0L6+7ffsOxJ+lFi0udHfduHGTu16vfjw7ffydB94HgVARgNC1SjZ7ATmanasbaLVbZdo592wVNmhkZYZAXxCIWAJco7Rz5870+usL/KboVTcRyUJ32rRpoq5pf/dy9XWGI/YwInBhELoReCjVYEkQutXgkLBEEAABEAABEAABEAABEAABEIgRAoEIXU6d27y5K6Jx9+7dtH37dsuUIHQtozrXUATYOkQpRXml9k2h5I4pVFHqpJxnTrvr5Kojq1LXWe6k/CX5dObXc/V2zVbhFA645p+yyJHgoOL1xVT8cbFHU2eRSPdpkuSTa9mOGjVKa79u3Zc0efIU083u3btbe89M6JqlTjbqZ7WGboMG9T3q3VqpocsRxUeOHPUQskb1cW2cqkcXltzz57/qrjdsRTDb6VPZdaI/CARCAELXKq1Ot5BjmPkXptVhAmnnfPNxom/eD6QL2oJA1BNQ669araUaLihcR7Zp08aiXmmeaW3YcK2lus9T2XrB1X3/WL89AhC69rihFwiAAAiAAAiAAAiAAAiAAAiAQPAJWBW6l19+GTVrdoHHAvbu3UM//fSzpUVB6FrC5NmIg3NriChdhytKN6FZAtUYUUP7feH7BVS6xdiwOjIcon5uMpXtLqMzv/mXuTxe0lWi3m6fNG3svFdz6cwBIXDPXk6niMzNF798BOhK4Xrq1CkaOfIew8hUNUUypxgePnyENoMqZo2iVJ94YiqNGOFqq4pg/vOWLd9pMrSoqIiGDh3mNa+MquV1/fnPj2lil2Xt3LlzDMeTe16z5hMteladT+2nrl89NJa+6enptHnzd+76uby/m2++mZo0aUI9etzodSMYpYC208fGHYYuIBASAhC6gWANY5Suc++PRDNcX6a4QAAEQAAEQAAE/BOA0PXPKFpbNG7ekg7utv4Ee7RywL5AAARAAARAAARAAARAAAQih4AVoWskc+UOrEpdCF17Z+5RR1cMkX5fDUpslEAVImI29wWRFtkzkNbWJA4hjTMfyCRHsoPKfiujgvkFnuOUV5DTO8OzRxtVSh46dEhkOnyPVq36WBOsLCe7d+9Offr0dve5//7RHlGzUsxyg48+Win6L9PaduvWVSsdxxfXntULXVUS87xTpjzuHleNqNX3U9fLEnnatCe1tXL066RJf9Fq3cq1jB49xr3ud999x+O9WbNmuyUyi2dZ5k6dTxXS6lw8KKdS/t///V9tbyyd27XroM1lp4+tw0cnEAgBAQjdQKDWbEA09gVyNDyXfz2Q7lbbOo+I9AgvjRMV0o9Y7YJ2IAACIAACIBDzBGJB6LK4rNf0Atr947eUe/KYduZtr+1DhXk5tHPL16b3gOzHDb7/4iO/94ra3t/YcjBeh7zU9ZlNdnG7aygtI0t7+9j+PZaErDpHnQZNqWb9RtTiiqsoOTWNpt3d03CqcOzdL1A0AAEQAAEQAAEQAAEQAAEQiDkC/oRuq1aX0/nnN3NzKSpymb1U8e8bee3bt5d+/PEnn+wgdO3dWs4Eori0c2mX4y9JoIwhrijdsl1llL8on0QMr73BRS+nwynq7mZQQlMxkbjy3sijM3s8o3orCirI4SfQl0Xo7NkvUaNGjfyuZcGCBV5pmVUxqx+AJWjt2rW9ImZlO1WyGk3O0btTp/6N3nprsfttK+tlQTxmzAMeUb9G/bidum+j+WTEr1wAC9/atWu5Uy3z61yXd/bsue412unjFz4agEAYCEDoBgjZmZBEDk6/3ONOorrnBdjbT/Pjv5FzzUJybvg3OcpLgzs2RgMBEAABEACBKCcQrUJ30AOT6eqeA2nVopeo17AHtFMsLS6iN555lP7n/glUp2FT7bVvVr9Hy156wuOUM2vXo7snPU+NLrjE/Tr3XbvsNVrz7sted4RRe26Un3OSftr4Ga1ePNstkmXnHrfdR90H3U1JKake4+35eQt9/dHbXgKZ99OuWx/D9oue/bPX+DzoNX1/Tzf+/n6qkVXbY44Th/cLFoV07MAeWvHasx59w7F3uRhe39U3DaKtX6025BrlHz1sDwRAAARAAARAAARAAARAwICAL6Hbpk1rkSbW9W85vljmfv31eu3311zT2UPq/vbbPtq2TWRzNLkgdO3ffl5RukPSKfESUWBXXFzvtujjIltS1xnnpLSb07T0zHyVbCulovd0obhnnOQs8JFrWbctTnHcqdPVHqJSNmGJ+fbbSzykpdqdpe6wYbe7+7IYZZnLqZmNUiCrfTmitX///l7z8oMGM2fO9IgGlv1Yzo4dO4auv/46LUL23H3umvfZZ2cYpo4268f9zebjPuPHZ2vRvepc3Ie5zJs3z0M48+t2+ti/y9ATBIJHAEI3eCwxEgiAAAiAAAiAQBUSiHahy/Jy1VsvaYRvf2S69v+fL3+Dtnz+Id3xx2coo2Yd+uuwru4TYKE5etor2uvrV75LB379mdJqZFK3/ndqEvitf070kq0Pz1isyV8el9vzxX1adryOMmvVpZnZQz1OmCNmeS3q2rhBkwsvow7df0fvv/oPrzlYfjZqfint2rrRPdY1fX5PF1zWjv67+St67YkHTed48+9/0iJ5Oep28B8epwyxplf/9qBXdG849i4XyWt56NlF7jW/8rdxPqOlq/AjgqlBAARAAARAAARAAARAAATCSMBM6KakpNANN9zgXklhYQGtX7+BSkpKtNeSk5Opc+dOlJaW7m7z6aefUnGxcQ5gCN1KHGo8kSP9XJQuJRFl3FOD4uu5omrLfhVpkpcLEct1bi1ejpoOSh+UTglNXGOUHyyn/Pn5RLpIXKeIztW/ZmUKrjfbvPkF7qbr139jKEeNxuK+HJGrRtRamZPbcHrnrKxMrXkgc3LqY3mpUbL+5rUznzqX1TXa6eNv7XgfBEJFAEI3VGQxLgiAAAiAAAiAQFgJRLvQXT7vafr6w7c1pk8v+44O7dnhFqzDxj9Nbbr2oscGuWrC8KVG9qrRuCw7H33hX5R3+gT9/YFbPM5IP676JveTaZ71cxjJYaP2vm6ISa+t1iJw1T1w+zFPvqrJ3ufGD/MQt1KkGkngcOxd7oX3OfHlle6t6dcZ1g8BJgMBEAABEAABEAABEAABEIgYAlaEbkFBviZzS0s9szUmJSVpUjc93ZUCGEI3hMcq6ttyjVt5OTIcVOPOdIqv6xKyznInlWwqoeKvhXD3IXYdWQ5KvjaFktuIDJ/xrvHKDwmZ+6aom1vkKYSdJeLP/AsXCIAACARAAEI3AFhoCgIgAAIgAAIgELkEol3oqtJUL16lwFRlKAvSpORUj6hdeXp3T36BLm3fhabf19tD0v5t0TqtydJZT1iqtXvzXY/QdQOGa5G1S1+capgu2eodI6OD9ULX7HUe10xAh2Pv6r5kyuVvPl7mlu5W9412IAACIAACIAACIAACIAAC0UnAn9BlmctplsvKygwBJCYmaumXWepC6Ib2HnFw2eIEJVJXZEpOHyzSLzd3pV/my+l0UvmecioXUbsVeU7i+rdxNeIoLiuOEi9KdNfKle3L/ltKBUtFdK++Rm55BTl12ZdDuzuMDgIgEC0EIHSj5SSxDxAAARAAARCIcQIQugM9oltZdupTIctbpEP3fprQ1UfWcj1cWaeX++7atlGrC7tzy9eGd5dMbcwpnLk27+6fN9NeUTt305rlPuXuxe2uodZdelL9Js0pOZX/5UwiDfR5Wl1dM6FrFqHLtXpn/+Uej/WFY+8x/nHD9kEABEAABEAABEAABEAABPwQ8CV0r7rqKhGZay5z5dAsdTt37izqjm5EyuVQ3nEcUJsmInXPRtbyVE6Hk5LaJlHqdSlC2orczBav8hNnqGRtEZX+VOZVf9cp6uZSofiF4FyLNNEMBEBAJQChi/sBBEAABEAABEAgKghA6HoLXX8Ha5QqmVMZdx80ki68oqOWApkvlrv/mvuUqdhlEXyJEMScGlle36x+j5a99ITXEmR66Pyck/Trtk1UXCTST4nr8quuN0y5zNGvA0Y9RixuFz37Z00Us0geNv7/tPnUVNRyMha6/q5g7d3fPHgfBEAABEAABEAABEAABEAgNgmYCd34+HhyOBxUXl5uCUxCQoIWHXrmjD7U09UdNXQtYfTfSEhdh5C6pEhdrZNwuYmtRASuiMJNbJFAcSlKJO/ZUSsKzlDZjnIq+0X82lFKjopzKZzdEwuZ64TM9X8OaAECIGBKAEIXNwcIgAAIgAAIgEBUEIDQ9Ra6ap1dO4fMcrdz38F0dc+BWgTuPx78H79plVnAdut/p4i4bUp6qdv22j50+yPTPer/ynX5Sq0spa66B17P2mWvkVofWL7vqxawVQ529m51bLQDARAAARAAARAAARAAARCIfgJmQjfYO4fQDTLRVBGpm2ggZOU04v24dNFG/H+FELROkXqZin2vwVkmQnJ1dXSDvGoMBwIgEAMEIHRj4JCxRRAAARAAARCIBQIQup5C11cd2UDvBylbjaJajcYyE7ey1q9RVK0voct7OX5wH33yzjxKy8jSpvz+i49Mt1EVe+c00mapqQPljfYgAAIgAAIgAAIgAAIgAALVnwCErr0zTE5OoZISP4bU3tDWeyWIaN1kg2hd6yO4Woqo3IpiJzmMg6sDHQ3tQQAEYpwAhG6M3wDYPgiAAAiAAAhECwEIXU+hK+Xp58vfoA9e/6fHMXPKYk5drL9YxBqJ0j++9G8t4lYvdFliHtn3i9dYMqJWHyEs17Rq0UsekbW8noeefcsw5bKUwz+sWyVSLj9m6XYNx97VhUg+nJr67w/cYmmNaAQCIAACIAACIAACIAACIBDdBCB07Z1vRAhduXQWuxyt6yti12ibIiJXi8q1llXbHij0AgEQiDkCELoxd+TYMAiAAAiAAAhEJwEIXU+hy5J09LRXNBH7381f0XdrV2gH36L1VdSuWx9av/JdD9ErJSi33b7pcyrMz9XaX9Pn91qtWr2s5PEffeFfVFpSJMb+Dx349WetfZ0GTUUN3rspKSXVq74tC+B7//oicf3cT96eSz9u+JRadbpBS9GcUbOOYR8ekyNuZT1fefdyyuWDu/+rRe3qI2NDvXf1EyT3JF+zGsUcnZ9C7AoEQAAEQAAEQAAEQAAE/j975wJnU9n2/2vQMJgZDMZhiokckhxzLpKinoTpQEInSoiXenKIkEIKr0IKIZKikVQOD15yGsKMJBQ55JDTYBzGKfOu657n3tZee62917pnZs+ePb/1//R52fu+7sP3Wp5/+c513SAgCUDoqr0LASV05RG4A7OQu0Rp2v3HxL+XXZk1b0vaPyHaPcdp17Rfs8Tlz/CAAAiAQCYTgNDNZKCYDgRAAARAAARAIHsIQOi6C13OAovNx3sOpcq1Grkl5cCuJPpu2hhNiO52fc5jW3ToLmQvy1j9w5L3m0nDPSpxuXq2WbvnqHT5Sm7jpbDduORrj5eh+RNdXcJXfsnVt6vjZ9ILb02kK6mXPKpc5d70k91asZprXbMWzll9dv1e9BW6nwx+0ec9w9nzJwSrggAIgAAIgAAIgAAIgAAI+JMAhK4a7YAUumpHQRQIgAAIZCoBCN1MxYnJQAAEQAAEQAAEsotAsArdzODJcjO2Wh0xlbe7Z+VaXHVq565aOV4//8nDB9xEsdX+WQab7adMbBVb8Rwrq2ONrZ31a2b12eVafJ79O7dC5mbGC4s5QAAEQAAEQAAEQAAEQCAICEDoqiURQleNG6JAAASCnwCEbvDnGCcEARAAARAAgVxBAEI3+NLMMnbQtGW0ecVCip88wvSAo+O3kTehG3xUcCIQAAEQAAEQAAEQAAEQAIGcQABCVy1LELpq3BAFAiAQ/AQgdIM/xzghCIAACIAACOQKAhC6wZlmvj+Xn8WffeBWXczVuQ882U3c7+tN+AYnFZwKBEAABEAABEAABEAABEAg0AlA6KplCEJXjRuiQAAEgp8AhG7w5xgnBAEQAAEQAIFcQQBCNzjTzK2MH39liMe9vvK0kLnBmXecCgRAAARAAARAAARAAARyOoHu3bv75QhTpkzJ9HWiokqazsn/3X361KlMX08/IYRuluLF5CAAAjmYAIRuDk4etg4CIAACIAACIHCTAIRu8L4N8h7cCtXvcR1y346fcWdt8KYcJwMBEAABEAABEAABEACBHE8AQlcthRC6atwQBQIgEPwEIHSDP8c4IQiAAAiAAAjkCgIQurkizTgkCIAACIAACIAACIAACIAACOQIAhC6ammC0FXjhigQAIHgJwChG/w5xglBAARAAARAIFcQgNDNFWnGIUEABEAABEAABEAABEAABEAgRxCA0FVLE4SuGjdEgQAIBD8BCN3gzzFOCAIgAAIgAAK5ggCEbq5IMw4JAiAAAiAAAiAAAiAAAiAAAjmCAISuWpogdNW4IQoEQCD4CUDoOsxxWr5QCmnYlkKadSQqfqvDaB/DT/1FaavmUNqm7yjk+tXMnRuzgQAIgAAIgECQE4DQDfIE43ggAAIgAAIgAAIgAAIgAAIgkIMIQOiqJQtCV40bokAABIKfAISukxwXiSbqMYlComOdRDkem/b3n0Qf9yI6e9xxLAJAAARAAARAILcSgNDNrZnHuUEABEAABEAABEAABEAABEAg8AhA6KrlBEJXjRuiQAAEgp8AhK6THPf7nELKVXMSoTw2bV8i0YddleMRCAIgAAIgAAK5jQCEbm7LOM4LAiAAAiAAAiAAAiAAAiAAAoFLAEJXLTcQumrcEAUCIBD8BHKN0C1arDidST6lntFG7Sik/WD1eIXItC+GEW1erBCJEBAAARAAARDIfQQgdHNfznFiEAABEAABEAABEAABEAABEAhUAhC6apmB0FXjhigQAIHgJ5BrhG5kkWJ0PuUs3bhxQy2rfWdSSPnqarGKUWkHdhCNf04xGmEgAAIgAAIgkLsIQOjmrnzjtCAAAiAAAiAAAiAAAiAAAiAQyAQgdNWyA6Grxg1RIAACwU8g1wjdiIgISk29TNeuXVXL6ujVFBIWrharRdUodgs9U6EQdapYmG7JQ3Tqyg0avf0czd57kW6kmU+blnqeaEAz5TURCAIgAAIgAAK5iQCEbm7KNs4KAiAAAiAAAiAAAiAAAiAAAoFNAEJXLT8QumrcEAUCIBD8BHKN0C1QoADlzZePLl64oJTVkAlbleI46LHbwujTJlGUNyRd5B6+cJ0qF7mFwrQPdp29Rh1Xn6LDF/8xnT+tTx3ldbMz8K67qlPduul7nzlzZnZuJSDXjot7nCIiwunQoUO0atUqsceBAwfS/fc3o337/qRXXnnF576Z8ZAhg6lo0SI0ZcqnFB//jc8YDAABEACBYCYAoRvM2cXZgolAVFRBuqtGGVqzam8wHQtnAQEQAAEQAAEQAAEQAAE3AhC6ai8EhK4aN0SBAAgEP4FcI3Tz5MlDkUWKavfonlbKqqrQjStXkD5uXIwuXk+jfpuS6duDqWL9/FqV7pBaRejlKoVp66mr1GrZCdN9qQpdvVDdsmUr/fqr1r7Zj89zzz1Hffv2FSvWqFHDjyvnjKUWLVpE5cuXp5UrV1K/fv3EpuVnRmbMkh+9/OXf6xnr58kZBIhq1apLBQsWpEuXLmkS+w9KSTnneOtO56hUqQqVKFFSrHnixN905Mhhx2siAARAIHAJQOgGbm6ws+Ai0KFTbSofG0XLl+yibVuc//+l02Z3pNJlIih+/naaPmVjcMHBaUAABEAABEAABEAABEDgvwQgdNVeBQhdNW6IAgEQCH4CuUbocioLh4fT9WvX6fLldKnq5FERuvm0itwDHWLoyj9pFLfiBG1Pvuax5CdNihFL3weXnqCk057toFWFrl72jR8/3u9VshC63t8uM6HLzNq1a0c7duygwYMHuybYvn27+LWZtOXq57CwMPrkk09clb5O3uvsGMtS9fHHn6bixYu7lr9y5Yq2/+W0YsVSW1tyOkdERCR16fIixcZWcJs/KWkrzZ79ma01MQgEQCDwCUDoBn6OsMPgIDBx6pMUe3sUjXl3hVKVLYRucLwHOAUIgAAIgAAIgAAIgIB3AhC6am8IhK4aN0SBAAgEP4FcJXS5SjcisiilnDtDN27ccJRdFaHLC3SuWEiI2h1nPGUuf98qpgDNblqc3k48Rx/9pt2Za3ggdB2lKccMNhO6Vpv3JnRzzIH/u1EWqwMGDKX8+fNTQsJ62rv3d1Gl++CDD1N4eATNmTODEhO3eD2WyhyvvTaIypQpS/v376P1638S8zdv/pD4jPcxf/7cnIYS+wUBEDAhAKGL1yIzCDw/ZCJduXSB5o4dkBnTZcocZWKr0GNd36DfEzfQqgXTMmXOjEySUaGLlssZoY9YEAABEAABEAABEACBnEIAQlctUxC6atwQBQIgEPwEcpXQ5XSGaiKJBdK5s2cpLS3NdoZVha6vBeqXCKXvHypJEzWZO1yTusZHRejyXayVK1fWWtrWEtMlJiZScnIy/fLLLx6Vur17v6q1/o11Lbtu3Xqvd7FyK+fWrR/V2taWEDHcupbvgJX3wMqJvFXoGufgGF/r+uLI39vdm5zLyfhx48aJsO+//15r1XuSOnRoL94jfsy46tcwG2tVoXv33XfTyZMnadSoUaKlMv/+gQceENMdOHBAa028z/U9f6bflzEH/jifnbzoxzz5ZEdq0KAxrV69ghYvXuj6qmzZGOrZsx9dvXqFhg0b6HVap3NwW+ZOnZ4XMnfixPQ8ymfgwOGiUnjcuFFov+w0mRgPAgFIAEI3AJOSA7c0On4bHTvwO03o1yFgdl/j3lb0dN+RtHnFQoqfPCLb95VRoZvtB8AGQAAEQAAEQAAEQAAEQMAPBCB01SBD6KpxQxQIgEDwE8h1QpdTWkBrURtWIIzOn0+h69ev28qyXaHbtFR+6lc9ghqUyC/mTUq+StP3XKCv918yXaffXRE0sEYE9U04Q3P2XfQYoyJ09Xex6ifUt+yNi3ucund/iaKjS3msyQJY3tuq/5Llb8eOz4gWv8Zn3rx5QkLKx0ro8rp9+vSmIkWKeMyxYcMGeuWVV2zlwzjIyd441ul4WSXL52zVqpXH/s32zmd9441/e/DiORo0aOBxhy7LWZa3LG7btGkjZK2Uufrzyu/5M7kvY1ttf5xPJVEjR46zlLbduvWgKlWqae2jP6Lff99tOb3TOXr16idaLZtJ2xYtWtHDD7f2EMxcBdy0aXOqVKmq2MeVK5dFZa+v6mEVJogBARDIPAIQupnH0l8zRRQrQbHV6ojlTh4+QEf3W//vP4/hStUSMeXF+P07t1JK8klbW9XHbV/rvb2/itB1Mr9+w3fUbEgFwyPp0vlz9EeS9V2ygS50K1QsTjG3FaHzKZeV7tS1lUQMAgEQAAEQAAEQAAEQAIEcRgBCVy1hELpq3BAFAiAQ/ARypdDltObPH0oFC4Vr9+leptRLniLVmHo7QvelyoXp3brponL3ueuUev0G1YoKFb+PP3iJXt90hs5fu1kVXFP7jqtztat2qebCo3TysmcbaBWh66tClys3J02aKKTkWa1SeenSpXTs2DGqX78+NWrUSOzXKChZTg4d+pb4joXiypUrxK8bN26iSbgq4tfTp0+jDz/8SPzaSuiuWbNGrHv8+N+i2jUl5TxVrFhRq/pt7TGH3T9+TvfmdDzvQ4rT1NRUbe/HtTa9CVSoUCGqV+8elxQfPvxtV3Vz8+bNaeTIkULmMuO1a9dq7YX3uhjzZ8xBL9mNQtdOha6Z0PXH+ezmRj+Oq3D79RtIu3fvpKlTJ3tM0bjxfRQX195DrmZ0jmHD0n/QwKzyl8Xt0KEj3ap3+TOuFubK3VOnTgkBHa7dv80toZcsWWz7nl8VRogBARDIGAEI3Yzx82c0i9zHew6lyrXS/71DPqf/PkzLv5xMRunK458f/BGVLl/JbbxVxWqfcfPE2A9f60hPvjrMLY7X+GTwi24yOK7HEKrXop0lAqt1zPZ19XIqrY6fYdoaWcri1QtnUusXXqfCkcVca+7R2inPGNHLbQ/yHFYb+3L8IA9W+rENH36K6j0YRzs2rMjUVs2yQvfjD9dSq0fvFPfpyufY0RTq/z/f0unT7j/M2LR5RXrjzRZuR9n/52nq1W2+P189rAUCIAACIAACIAACIAACfiMAoauGGkJXjRuiQAAEgp9ArhW6nFq+U7dgwUKUN18+uqZJm2tate4/1//57/267u2YfQnd5+4oRO/XK0p/p/5DL649TZtPXhVvT6mwvDShYVFqXroAjf/1PI3cnt5WuUpkPvpOk7lFQvNQP4vqXB6nInQ5Ti9UjdWbUhyynOzatRv9+usO15vOMrhDh/QWg3379nW1UpZVv/rqUBk0c+ZM0d6ZJWXTpk3Fx2ZCVy8a9fKTx7/zzjuihTFLXmPrYF9/DL3t7auvvhLCWb9vp2fh9aU4NZ6f5fi0aVOFuNXL2Y8//ljIcTPGfFYpsL0JXXlub3fomgldf5zPV07Mvpetj63urPX1Pc/pa4zZ92PHTqKjR4/Q2LEjTbdt/F62dNbLWyl5+QdBxo0brf0ggmd7dBUmiAEBEMhcAhC6mcszK2f79+TvKKpUDB3YlUQbl34tloqKjqFG/+pA21b/QD/OGu+2vBzPYnXfjp/Fdw1bPUXlq9Y0bUMsRSjL1f27Emnd4i/o4rkz1LJTLyGR/7ViAQAAIABJREFUf1m/3O2OXH2FLbc2lmJZbsKsGphl7svvTKfwIlGUsGwBHflzFxUsHEFNWncSZzOTrSx0eU/8JK1bSglL5lOhyKLU9qWBImbR1NG0cUk6D35kBW/Z26vSfW06E0vfbau/d33vrdqYz9R77M074qe/3dNrFbCTfEuhezn1Gu3ccYy+/eYX7TqTy/Tsi/WoTr3baO3qfTR6xH/cppT35soPWe5C6DqhjrEgAAIgAAIgAAIgAAI5jQCErlrGIHTVuCEKBEAg+AnkaqEr0xsSEkKhofnF/bosefPkyav9w3Wz6c/pUyfJm9Btf3tBmtiwmKiwfXT5Cfrz/HW6tVBeevTWMPpUa7fMD1fvLv4rlQ5f/IduD89HP7QsScXz56FeG5Ppqz/N2zFzXFYI3eXLl4mqUqsWx7KKVspGlpZffDFHnENfhSv5cDUqS2N+pDw2E7r6cXqRmZE/Zr72xt+XLFnCJYl9jTc7C+9PilOz85vdh+uLsZmkNVboSi5OhK6/zqeSM18y1qxa1riOyhy+hC7fo8sVuIMG9RPLWbVo5v1B5KpkHjEg4D8CELr+Y52RlR55tq9LThorUlmSGtsoN3+iKz3UsYepuB08Y4Woch3ZtaVbnBS6Py2a7SaHpeT0dkeu3ZbLsqp3+dzJbtWvfIbXJ35L58+epvd7POaGiucW/z5lkKvezsjjVVou8z4GTVvmWp+rlX21tLabVyl04+dvp+lT3FtF/7Cyuy1Ra3ec3T1hHAiAAAiAAAiAAAiAAAgEGgEIXbWMQOiqcUMUCIBA8BOA0LWZYyuh+3BMGM1qGkVnr96gfy07QX+kpN/J+1atSHr1znBadewy9dak7fHU9HbK9UqE0mf3FqfosDz0781naOYf3ts9Z4XQ9SYneY+yqnX37t3Uvn17t2rbZ57p5FbRK/FxC2KuUl28eDENHjzYsuWyrOblOK5ePXjwIB05coTWrVvvaldsMyVimF4cW+1NP5+d8cazcLzVXbX8nZnQ9cXYLCYzhK6/zuckR3Ksiow1rqMyh1OhK+/V5XbLP/+8kXbt+lV7Rw+rHBkxIAACfiYAoZsx4DExMdpVAvW8TrJ582Y6fDhj/5soq23tCkZ9+2SjkLSSqjLGqko2M4Quy+TQ/GH0VsfGHsyeHzJRVAIbRbMUugPiarvF+BK2vr63Sppsubz5P/Fulb8Ze1OIpNAd8+4KWrNqr9t0dkWt3XEZ3SviQQAEQAAEQAAEQAAEQCC7CEDoqpGH0FXjhigQAIHgJwChazPHZkK3YN4QSoorTZG35KGWmsxNOp3eZpmfkgXy0PwHStCdRW4Rv9966ioV1sZV1lot8/PmlrOu6l1vW8hKoWtsxSz3YXaXK7df5qdGjRqm2zUKSqs7dDmY569Tp464Q1b/cDvjN98cbCqMrRh5W8csxs54b4LWjJnT8bwvfwhdu7ni/TgV1jb/2LgN8yVjfX3Pk/kakxktl3kd2XZZHuD8+RTauXMHLVv2A6p0VZKPGBDwEwEI3YyBjouL07oVDPI6Cd8PHx8fn6GFWGpeOJdM7zzvfp+q1aRvz11PoQXCyChBebxVZas/hC6fw9iaWZ6hdrNHhdA1CmV/C90MJcpLMIRuVpHFvCAAAiAAAiAAAiAAAsFEAEJXLZsQumrcEAUCIBD8BCB0bebYTOg+Xr4gTWlcjKZqbZUHaYLW+HDX5ie0Md20dst3FwsVXyecvEIf7EihtX9fsbVyVghdWYE6b948GjVqlMc+pGxMTEwUFbD6u2/19+rqA6UQlHPaEafcHrh582ZUu3YdcQcvP3JNW3C0QXb2pp/LznjjWTjeqfCU42XFsvE8xrbW/H1mVOj663x286MfV7ZsDPXrN5D2799HEyeO85hCVsauXr1Cq/ReaLqEyhzDho0SLdVlS2W7e+IWy9Wr16Dbb69IMTHlqHjx4sRVu6NGDVU5PmJAAAT8QABCN2OQ/VWha7elsTyNlQTl760qV/0ldH0Rh9C1JoQKXV9vD74HARAAARAAARAAARDI6QQgdNUyCKGrxg1RIAACwU8AQtdmjs2E7vDakdSjaji11u7NTTh5szrX5pS2hmWF0DW2VNZvhCXrtGlTRftkvfA1a0Ms4/TyVgpfK6HLd9QWKVLUo73yxx9/TI0aNSKu0m3Tpo0tNnKQr73Vr19fa5v7G3344UcixNd4WY2sl9dOha6U4mbnsbpLODOErr/O5yhBusFSro4ePdyj0rVbtx5UpUo1+uSTj+j333dbLuF0DjnvnDkztB8Y2OI2rx2JLAPk3bpm86jyQBwIgEDmEoDQzVyeWTVbMFXoemvdbMYPFbo3qUDoZtWfMMwLAiAAAiAAAiAAAiAQKAQgdNUyAaGrxg1RIAACwU8AQtdmjs2E7uvVI6j/3RH04trT9N2hVNOZahS7haoXDaU5+7zflWu1DVWhy/NZ3ePau/er9OKLXcWSxipdecct32/btWs3V/tjKVz58zFj3ncJWRbA48Z9QNHRpdxkrJnQHThwIHXo0EHcnaufm/chJbOK0LWzN33lr53xxn04FbryrEbGel783cqVK7Wq1X4iF1ZCV8rhDRs20CuvvOL2qpjtyx/ns/nHxmOYbGWckLCe5s+f6/q+UqUq9PLLr9LRo0do7NiRbp9XrlyV1qxZ5RLATueQbZiNc3MFbr9+A0T1rl4wswAuXjzaoxK3c+cXqGbNOgShq5p9xIFA1hOA0M16xpmxQmbeodvxtdF0d+OHaNHU0W53xPqjQtfbHbpWnLJD6N5RsyH9kbQxM1LnmgMtlzMVJyYDARAAARAAARAAARAIUgIQumqJhdBV44YoEACB4CcAoWszx2ZCt2HJ/PTdgyVo3fEr1G7FSY+ZakWFUrx2j27ePETl5h2hNJtr6YdlROjKtr4sUI8fP047duygwYMHi+mluOVfHz/+tyZZL4s7beW9ttOnT3NVtPIYo4hk4clPdHS0qOblNfjevVWrVonPzYSufg4ef/DgQUpOTqY777zTta7Vvb7e0Dndm9PxvLZTocsxUsTqGTOvK1euaP9cFhLcjtDV54q5nzlzRvC12pe/zqfwOhNL1J49+4n2xbt376SzZ89SgQIFqGrVu/77Xn7qVp07cuQ4yp8/v1ZVfVMAO52DJ5ZVuix1Dx1Kf3erVatO4eERtGTJYlqxYqnrOFLc8tiEhHV06dIl7f2/W8hcvkt32LCBKkdHDAiAgB8IQOj6AXImLBHXYwjVa9GO9iRuoBkjernNGFGsBKUku/87ldU9uTy299gvKTR/GH3Qq61bXEaFLt+N+36Px7yeVp7jp0Wz6cdZ432egwdkVOj+sn45zR07wHYWpDy3cx7bk2oDIXSd0MJYEAABEAABEAABEACB3EoAQlct8xC6atwQBQIgEPwEIHRt5thM6HLo3PuL04NlCoh7dIduO0vXbqRPGKfdnTu2XlEqmC+EXlp3mhZZVPD6Wj4jQpfvU+3Tp7dLlhrvp+WKUG5zzEJWPizYZsyYIYSv8WFR+Prrr7nuu5Xfs2ScMGGCS+by51Ytl3mOIUMGa611q7hNz1J57twvTdf1xYi/d7I3lfEqQtdsT3zOKVM+pWef7ULly5e3JXR5nnfffUeM54dz1LRpU/Frq3055aFyPjt5MRvDQrZ9+2dEe2X5sCidO3eWR6vl114bRGXKlNUqwr+i9et/co13MocM4spertZlQcwPi/VVq5a7yVw5Vkpd/f5Z8M6b9zkdOXJY9eiIAwEQyGICELpZDDiTpmcR+/I70ymqVAwd2JVE29ctpUsXUqhavWZUpc69tHvrWg9pKcXk5hULad+On6lg4Qiq92AclS5ficyEakaE7vNDJlLlWo1IrsXH5r2tjp9JR/ffvBJAfw6W09tWfy8IVah+D9Vs0ooSli3wEL2qQpfnlRXBq+Nn0OnjhwWD2DtrWwpersx98a1JrqwZ7/PNSDpVhG7T5hWpRq2yrmVbPlKVzp5JpU0bD4jPThw/T/PmbMvIthALAiAAAiAAAiAAAiAAAgFFAEJXLR0QumrcEAUCIBD8BCB0bebYSuhGh+WhFQ9HU6mwvHTpnzT6/ew1iimcj4rnz0Pab4XMtWrHbGfpjAhdOb/VvbXyexa/ERHhWuXiITcp621/skJ0y5atrrbMds4jx7BwrFu3jvit2bpSMHqb06o9s9O9OR3v5Jw8Vp41JeW8x93BTuaS85jJ9qzMlZM9OhnLUrZChTvoxIm/vUpSHpeScs50artz6INZ6l68eMHrPb1yPI/lZ9++Pyz34OTMGAsCIJC1BCB0s5ZvZs7OMvTxnkOFONU/LHhXzp/q0SKYxz8/+CMhcOVz9XKqqTTl7zMidK3WYpG6asE0t/16O8d308a4CWAOzIjQZUHbvs8IKhxZzLWHC+eS6asJQyxbKusrdD8Z/KJH9bNqTlWEbu/XmhJLXKtn/5+nqVe3+apbQhwIgAAIgAAIgAAIgAAIBBwBCF21lEDoqnFDFAiAQPATgNC1mWMrocvhpQvmpWG1I+nhmDAKyxsiqnS/0O7Mnf3HBfrlzDWbK5gPywyhm6ENZFNwRoRuNm0Zy4IACIAACGQzAQjdbE6A4vI17m0lIvfv3OpTOLJAja2W/gNh29febJevuLTXsDKxVahETHm6dP6czzto/bkvFrsFwyPp5OEDHsLY7EDM1w7brGCIOUEABEAABEAABEAABEAgNxOA0FXLPoSuGjdEgQAIBD8BCF2bOQ4Zu5EoX6jN0ZkzLC31PNGAZpkzGWYBARAAARAAgSAnAKEb5AnG8UAABEAABEAABEAABEAABEAgBxGA0FVLFoSuGjdEgQAIBD8BCF27Oe73OYWUu3nnp92wjIxLO7CDaPxzGZkCsSAAAiAAAiCQawhA6OaaVOOgIAACIAACIAACIAACIAACIBDwBCB01VIEoavGDVEgAALBTwBC126O6z9GIR2H2h2dKePSvhhGtHlxpsyFSUAABEAABEAg2AlA6AZ7hnE+EAABEAABEAABEAABEAABEMg5BCB01XIFoavGDVEgAALBTwBC10mO/Vilm3ZwJ9G4Lk52h7EgAAIgAAIgkKsJQOjm6vTj8CAAAiAAAiAAAiAAAiAAAiAQUAQgdNXSAaGrxg1RIAACwU8AQtdJjotEE70ykUJK3e4kyvHYtOP7iSb3JDp73HEsAkAABEAABEAgtxKA0M2tmce5QQAEQAAEQAAEQAAEQAAEQCDwCEDoquUEQleNG6JAAASCnwCErsMcp+ULpRBuv9y8E1HxWx1G+xh+6i9KWzWH0jZ9RyHXr2bu3JgNBEAABEAABIKcAIRukCcYxwMBEAABEAABEAABEAABEACBHEQAQlctWRC6atwQBQIgEPwEIHSDP8c4IQiAAAiAAAjkCgIQurkizTgkCIAACIAACIAACIAACIAACOQIAhC6ammC0FXjhigQAIHgJwChG/w5xglBAARAAARAIFcQgNDNFWnGIUEABEAABEAABEAABEAABEAgRxCA0FVLE4SuGjdEgQAIBD8BCN3gzzFOCAIgAAIgAAK5ggCEbq5IMw4JAiAAAiAAAiAAAiAAAiAAAjmCAISuWpogdNW4IQoEQCD4CUDoBn+OcUIQAAEQAAEQyBUEIHRzRZpxSBAAARAAARAAARAAARAAARDIEQQgdNXS5A+hW7REGQrNX8DWBpNPHqVrVy6bjo2OuV2bJ4yuXkmli+fP0IVzZzzG3aKtU0xbz85zVVvnjLae8eF1+LH6Xo6X57Lai689ZMZeeY3CkUWpUHhRF5vjh/+0XFq/ptU4fb7kGLmGtzPpOejX8ZZTOwz1efeVE1/M8T0IOCEAoeuEFsaCAAiAAAiAAAgELAEI3YBNDTYGAiAAAiAAAiAAAiAAAiAAArmOAISuWsr9IXSbPdqZipYoZWuDG/7zDRlFY/V691O5O+6mW0JD3eY4c/Jv2r5ppZuUZfnX6MHHba3F8au/n+02lgVjs0efEZ9du3qVvv9iguVc8lx7d26hHZv/z9aa+kGZsdca9R/wYMv7PvjHL6Z70q+5cMb7Hnu+vWptqtHgAfH59oSV9OeubeLXnIOK1ep6PaOeg34dM85yIm8Mb61QjarVvY/CChZ2Wzf10gVKXL/M4z1xnAAEgIAPAhC6eEVAAARAAARAAASCggCEblCkEYcAARAAARAAARAAARAAARAAgaAgAKGrlkZ/CN3aTVpRRJESrg3m08RseGQx8XuWffpnV9J6N1HXIu5F19jz55Ip+cQRMVdhLZ4FL8vL9cvnu6QuC1mWnPpHjmURePniBddXqZdSaNOqRW5jea/l7qhOPJZF4paffqS/9u00hZtRoZuRvbLsrHvfI2JfzODMqWN0/doVCi9S3MXr6MHfPc7nTejyfho/9KTgaoyVQpfXuqDlwew5pHGSAtgoq3clbqDdWm6NjxVDvVjmd+T0icMitGxsFZfgNZP/an8KEAUC5gQgdPFmgAAIgAAIgAAIBAUBCN2gSCMOAQIgAAIgAAIgAAIgAAIgAAJBQQBCVy2N/hC6xp35qhKV46VcZYn485rFbqKXW/rWbtySypSrJITmsgWfWLZqdiJeH32mjxCaLCCr1mpEJ44epPXLvjaF62Reu9mxMye3P272aBeXeN2mVavq21Qz33uathbfG6uHrdh7k7m8dyl0vVXb6s8o1+HcSPFuliOr87Zq/4oQt2YiuHHLp6hkmXJec2OXN8aBgDcCELp4P0AABEAABEAABIKCAIRuUKQRhwABEMhBBN544w1q0KABHT16lHr16mW68/j4ePH5kiVLaOrUqTnodNgqCIAACIAACIAACGSMAISuGr9AFbosbB/t+Ko4lLcqWSn+vLU9tiNJeR1Z9cqVwGt++MK1/vdzPzKVxXbndZIZO3NK0c37XBE/3XR6WeFqlN1mQlcviK0EtqrQ5c0d/GOHqHo2m9vqvO2e/7c4l1lbaN5vbOWaQuSbVf064Y2xIOCNAIQu3g8QAAEQAAEQAIGgIAChGxRpDIhDlNFaJhXS/oPsj6SNWbafiGIlKLZaHdq+dmmWrYGJQSCrCNSvX58WLFhAMTExYonly5dTy5YtTZf766+/XOPWr19PTZo0yaptYV4QAAEQAAEQAAEQCCgCELpq6QhUoSuFJLc+XvrVx5aHszPOjiTlBeo3byMqfqUclu2e9XfJ6jdid14nmbEzp5TYVvuS65mNMwpdFudN//WMaNMsRba+2lfOlRGhy0K85RMvi0pdY5tkX0LXqlWzE6YYCwKqBCB0VckhDgRAAARAAARAIKAIQOgGVDr8spmOr42my6kXKX7yCNvrdX/3M/pda1W1asE00xiWud3fnU6hBcJo+ts9s0zq/nvydxRVKoZ+WjSbfpw13vb+s3tgjXtbUYXq97ht4+yJY5Y8VffLeWjZqRcd3JWU6XOr7glxNwnMmjWLunTpQgsXLqS4uDhbaNatW0eNGzemUaNG0aBBg2zFYBAIgAAIgAAIgAAI5GQCELpq2QtUoSsFIld3bltn/YO5XK35YFxXcXizak7+3I4kZbEppePq778Qd/JWqdlYtF22qoS1M6/TrNiZU1avWlUOyzWNgpo/NwpduZ43mctxGRG6nBfJkgX9ym9nuCqerc4rq5B5bb7P9+jBvfT34X2WbbWdcsZ4ELBDAELXDiWMAQEQAAEQAAEQCHgCELoBn6JM32CfcfOodPlKNCCutu25R8dvo2MHfqcJ/TqYxkDoekcZ12MI1WvRzm2QN562E2MYyOL46b4jafOKhY6Evep6iHNGgNsot2vXjkJCQmwHcnvm9957jz7//HN69tlnbcdhIAiAAAiAAAiAAAjkVAIQumqZC1Sha0dsyhP7Epx25jKr9NXL4v/ET6ML5864QbYzr9Os+JrT7v3DvK6ZFNfHy1bIPNau0PV2Hr1QN9unrHjWS3pv59VLXbku7/PPXYnaP9ucosV4EHBMAELXMTIEgAAIgAAIgAAIBCIBCN1AzErW7ikrhC7v2EnLZRaPzdo9Rz9+PsFRNW+wtFz2JchV3wAIXVVy/omTQrd///40ZswYW4tKoeskxtbEGAQCIAACIAACIAACAUoAQlctMcEkdDNSodu45VNUskw5cd+rviJYSkiz1r++5KtKRnzNqSJ09fcL6+N5fyxI890SSmEFC3ucXb9/KYf53toLWozZs/r72a6Pzfap/0xWQfs6L0v1mNg7KSq6rMiPfHwJaBX2iAEBIwEIXbwTIAACIAACIAACQUEAQjco0ujoEFkldJ1sQlasfjl+UK68DxdC18nbYj6W5T4/KcknMz6Zn2YYOXIkDRw4kJzIWRUJ7KfjYBkQAAEQAAEQAAEQyBICELpqWANV6EqByO12N61aZHm4oiXKaC2VnxHfqwpdbrf8aMdXxRy83qULKa71okrGUNESpcjsLl9fMlIlI3bmlBXJZlXD+jWlpLYSulKKFtMYNnrwcRFqvONWzpfRlstyHll1K9tY2zmv/kxcSV3p7vpCQJ85+TfpJbIKb8SAgDcCELp4P0AABEAABEAABIKCAIRuzkrjHTUbUsHwSLHpk4cP0NH9u30egKs29eN9CV1ZBcsx+3duFcIsswWkv4QuVw2XiCkvzi/P4hOYNkAft32t9T1PPJfk62SNzOYpz2SnQpfzm1kSVOXsev528qMfw7F8F3FkVDTFVq1Fq+NnmN4VrPLnxM57kdExKu2TpdBt0KABbdq0KaNbQDwIgAAIgAAIgAAIBDwBCF21FAWq0DVrgWx2Ql/33HKML2ko1/JFUFaVynG+5vU1n9n3duZs1f4VITS3J6z02nr40Wf60C2hobTlpx/pr307xXJmVbL8uRStXIG7bMEnHnfVZpbQZXn+QNvnXfu/rUI1Icz10tkXNzv3JvuaA9+DgB0CELp2KGEMCIAACIAACIBAwBOA0A34FIkNsgCt2aQVhRYIc9vwgV1JNHdsf1NBx1KrfZ8RVDiymCvml/XLqUTZ8pZ36DZ/ois1i3vetc7Vy6lCmj3UsYfpHbpmd8N6u7+VRaa3x+xeXykp9XG+7p9lafn84I/EOfWP1d6k5P7wtY705KvD3OJO/32YPhn8ogfj7u9+RuWr1vQ4jp37a/0tdJnHy+9Mp6hSMbR87mQhQRs+/BS16TbA5327kr+M4wM7Pbv+PeF3cO7YAdTxtdF0d+OHXPwWTR1NG5d87fo97/nxnkOpcq1Gboz5nTz99190JfUSbV+31C3G7J3nYM7h1lXfmcpfOTnzqPdgHO3YsMLruIz8L0bbtm1p4cKF4p+4uDhbUyUmJlLNmjUd3btra2IMAgEQAAEQAAEQAIEAJQChq5aYQBW6LP5aPvGyEJJm7Y75tHbG8DhfklS2Vebq3AO/7/AAWbVmYyEdje2Yfc2rkhE7c0q5ylXDK7+d4SFfeV19i+Tvv5jg2opVy2Zm2fRfz1C49vcAJ44epPXLbv43ln4+u1Wx3lpD36pJ3Lr3PSKqni9fvOAhdOXeZRWvkSOErsqbhRgVAhC6KtQQAwIgAAIgAAIgEHAEIHQDLiWmG2LZVDq2Mu3b8bPr+4atnhJCcU/iBpoxopdbHMuw1yd+Kz5LWLaAjvy5S/ya762VktMoT6W443t0Vn79qWhPVbBwBD3w1EtCCptJVH31ZNnbq9J9bTp7FYSyorN2s0eFqPtp0WzX3i6dP2d6n66+YpjP8HTfkaZ70QP49+TvhLxkuSqZSV5mwlUKXZaF+3cl0rrFX9DFc2eoZadeYp9SQurXeOTZvuK3ki2zatK6k5s0tXq7/Cl0zWQu74s/HzRtmdv7w0K/eqMWdPLIASFd+TGrpnZ6dvmePPR0D7p6+RL9tXen+AGF3VvX0tlTx8V7Y2y/LXPC78iPs8aLvfD++IcLzHKof+eXzJ7gaq8WFR0jzsRrxk8eYZoS3l/vsXNd301/u6eju53t/q+IitDds2cPVapUCULXLmSMAwEQAAEQAAEQyPEEIHTVUhioQpdPI6tv+ddGqcutluvc+7AQkGbtkPU0vElSvRw0VuDKOWQFL1ev6uWoHfnqNCt25tRXubL0TFgZr91re8a1lBSi/IGxitebaNW3rzbGZVaFrtykbActf6+v0PW2Dz577cYtqUy5Sj7z7pQ9xoOAkQCELt4JEAABEAABEACBoCAAoZuz0zh4xgohW41yVlY/6mWYPKlVjJSgRpklZZevqlg77X7lHjLSctmXDPUm/eTZR3Zt6VZxayYPea92zy7PZXe8rzOovpXGHFjJXDn/23PXi2rXCf06iI+eHzJRCGwW2291bCw+k++SWfW0fp92zs6cw4sWF++sfM/knvVClyttX3xrkukPK8g9cjW1vuW4r/fPW6tpKbfleYxzq+ZDH8ftlp9++mlRbTtq1CgaNGiQrWlnzZpFXbp0oaSkJPryyy9pzJgxtuIwCARAAARAAARAAARyKgEIXbXMBbLQ5RPVb95GyDv5cIVogUKFRctefliyrl8+X7tP9aglAG+SVEpjb1JYf8euvn2xnFdWmpptwOkdr3aELq/D0rPxQ0+KCmZ+9NWuch9m9w97E7ocp6/sXf395y5RrP+cf5jb7DmktXX+c1d6dy1f6+irq3m8seWybAGtPxv/mv+bUJ7Z6r5ftT8JiAIBTwIQungrQAAEQAAEQAAEgoIAhG7OTqPVfbhW4pJPaxYjZRy3pn2/x2MeUOwISF9CTT9pVgpdfftk4x3Dcl19+2A9E2OVKH9n5+z6s9kZb2eMypupz8GKeVM82iwb52RWUaVudclbfm/Onzklqril1JQS9p3nW/jckq9zydzoK2xZ3j7SpQ/9+PkEV1Wst3fJ6t2REpjf4S/ef8PW/dL6A8mWy5v/E+/WxtnnoX0MkPfmir/ASE2lzz77jHr1cq+o97UG36PbqlUrCgtLb7nev39/iF1f0PAUInxVAAAgAElEQVQ9CIAACIAACIBAjiUAoauWukAXunwqbtFbuUYDUY0rHxa5J48doG3rl5m2HNbT8CZJ5X20xnbKRpqyolQvSeW83sgvnPG+o8TYFbo8qaxWLVG6vEty8udctbtne4Lr3lz9BnyJVh4r98DyfP1/5gu++qpfqwPppayddfQV2GZ36PL35Svf7ZL3cl3e1/ZNK71KfEfQMRgELAjkWKGbli+UQhq2pZBmHYmK35q5CT71F6WtmkNpm76jkOtXM3duzAYCIAACIAACIJAlBCB0swRrlkzKwopbx5YsG0v5wwqKNVjG8b26xupJFmv6Kkv9hsyErhRofCfvlDdf8Ni/L1HHAYEidLnq1IwJ79GqelcycSp0ZSvsWytWczFjGeqrmtkOT5WXSOaAW0SXrXCnz/bPUo7y+yOrVFl2c1tjeactS95TRw95vBcqZ/cm2/XnlecwaycuK3TN2iLL73gufpcPafdmJf20xLHcVWFvFVO/fn3q0aMHlSpViu69914xrE+fPjR16lRby4wcOZIGDhxIycnJtGbNGjp69CjNnj2bNm3aZCseg0AABEAABEAABEAgpxGA0FXLWHYIXbWdpgvMYlpl6lVNMHqryFWdPyfHccVuqMYnWatUZgEbTA+3xS4UXlQcKRjPF0y5Craz5EyhWySaqMckComOzdJ8pP39J9HH2k+dnz2epetgchAAARAAARAAgYwTgNDNOEN/zCDb3nJLpD9/3UKXUy+KZe+8p6lpy2VvwtCb0DW7m5TXsSMgA0Xo8l75MWsRbLVHp0KX5efzgz8SlaxcEbrv15t3G9dr0S7HCF0puFlk88P3E3Nlbvd3p1PSuqXizlnmqX8vMnJ2q4pysz9DsgW4XrLL/FlVkvM8PIbvaI6tWkuIfX5Y7s4d29+tzbY//twa15DVugsXLqS4uDhbW0hMTBRtmtu1a0fffpt+LzYeEAABEAABEAABEAhmAhC6atnNSUJX7YSIAgEQAAE1AjlT6Pb7nELK3aweUDu6vai0fYlEH3a1NxijQAAEQAAEQAAEso0AhG62obe9sJRYZlWfVoIMFbqeVcsMPLMqdGVlq5kAtyO/7Yyx/YLoBjptuSzbFHM1bunYylSzSSvRfpnfqyupl2jl/KniLltZrctLZeTsToSuXhzrWfCfgxnvvGpLzvL5HniyG5WvWtOnZFfh7TSGq3UTEhLIidDds2cPVapUiUJCQpwuh/EgAAIgAAIgAAIgkCMJQOiqpQ1CV40bokAABIKfQM4Tuo3aUUj7wX7NTNoXw4g2L/brmlgMBEAABEAABEDAGQEIXWe8smO0FGh6qSb3gTt0PTPira2vrHQ2snRaoSvHj+za0kMs2pG1dsaovGvGCmS+G5mrbblS1aydNK8hK3BlK+8J/ToQc7r9rrq0+LMPRNWuvr1xRs7uROgaq4d5rycPH1Bqn+ytalvPmQXwH0kbVdDbilGp0OX7c7k6F0LXFmIMAgEQAAEQAAEQCAICELpqSYTQVeOGKBAAgeAnkC1C90zyabpx44Ya3b4zKaR8dbVYxai0AzuIxj+nGI0wEAABEAABEAABfxCA0PUH5YytIYUu3226asE012Rcwdh77JemLZflXaI/LZpNP84a74phYdX5jQ9M75jlu1ILRxZzk3ccKMWar3thVVoum0lqX7R8yVCrKlzJKzR/GH3Qq62biFUVutye+Oj+3W58uaLVFytfZ/DFwOp7sxzInHPM7DGvewhLbm186tghKnt7Ffrt5zWizbJkyHfx3t34Ibf21VbCXFb7eju7E6HrTRybnZ/zG31bRY/zybuBOcasDbecS7Z49tbOWTUvMk4K3f79+9OYMWNsTSeFrpMYWxNjEAiAAAiAAAiAAAgEKAEIXbXEQOiqcUMUCIBA8BPIFqGbcu4cXbt2VY3u6NUUEhauFqtF1Sh2Cz1ToRB1qliYbslDdOrKDRq9/RzN3nuRbqSZT5uWel77W5NmymsiEARAAARAAARAIOsJQOhmPeOMriBFGd+fu/LrT2nnpv+javXvpyatO1F4kSghZ41ilCsze4+dS1cvp9Lq+Bl0+vhhioqOoWZxz4vtcIxRbkmJx0Jr3eI5dOlCClWofo9ow8vjzUQdxxQpWVrMGRkVTZVrNRLj/tq7U3y2b8fPtH3tUg8Ecn/6tXh/BQqFuwloDmRJyfuQD99RyyxYPvJz9sQxN9HNn0k5xy2ReQ8FC0dQvQfjxJ23RsnN450K3Uee7Uv3tekszvrj5xPo4rkzVKVOExdfnnPKmy9aVpNKec6SXuaG/68ZKyfvj5VUl+8Qvw9Gqcvyv3jp2yiqVAzJHxrQ31XL67/f4zHXNlTOzvkuEVOeHnq6h1hH3tm7f+dWy9bJ8n00nl/eWcziWf9wDqNK3Uq7t66lnZtXi6847/znhNdkOT137ABTnJKP/NKqmtlJLszGqsjZiRMnUs+ePQlCN6P0EQ8CIAACIAACIJBTCEDoqmUKQleNG6JAAASCn0C2CN3L2l/AXLxwQYluyIStSnEc9NhtYfRpkyjKq13bxCL38IXrVLnILRSmfbDr7DXquPoUHb74j+n8aX3qKK+bnYF33VWd6tZN3/vMmTOzcytYGwRAAARAAASylACEbpbizbTJWW6xjGWxKh8WVKvjZ9ILb00U953qpRuPafjwU/Rw5z6uGCl3S5Wr6FF1KeeU1cDy9yxOv5owhNq+NFCTw5eI2/HqHylCrQ5qdsesHGt2JrP7UY17Mq5lJprN7l/l8ycsW+AhjHk+p0KXY2T7ZrkfyTf1YorgzmLRm0Bs32eEqIjW59NqvN0XyVuVtBSkvE+9bNbz1bdWlm2K9yRuoBkjerltwenZrXLoS5zyO8x3+8qHf2iAK4mZm7GSlqVxy069xA8V6B8+b9K6paLy2Nujr9D9ZPCLtu7otZsXOU4K3QYNGtCmTZtshcuq3kmTJlGvXu55sDUBBoEACIAACIAACIBADiMAoauWMAhdNW6IAgEQCH4C2SJ0ud0yt11WeVSFbly5gvRx42J08Xoa9duUTN8eTBXL59eqdIfUKkIvVylMW09dpVbLTphuS1Xo6oXqli1b6ddftfbNfnyee+456tu3r1ixRo0aflzZfalatepSwYIF6dKlS7Rv3x+UknIuQ3vh+fjxNVdmr5uhTSMYBEAABEAgSwlA6GYp3kyfnIUdP8ZKTpZZ+ta/+oWtYqw2xzI0tlodunT+XJbeJyrXl/vzVq2pClKexYyZ6pz6OCtW/Dk/KcknvS7DlaEFwyOV74bNjDOozpHRs6uuy3Hd3/2MyletaXkvsHynnL7DHJcV76E8a0YqdCF0M/LGIBYEQAAEQAAEQCAnEYDQVcsWhK4aN0SBAAgEP4FsEbpXrlym69euE1fqOn1UhG4+rSL3QIcYuvJPGsWtOEHbk695LPtJk2LE0vfBpSco6bRnO2hVoasXquPHj/d7lWx2C91KlarQ448/TcWLF3cxv3LlCq1atZxWrPBsW2jnfWjc+D6Ki2svhs6ZM4MSE7d4hLVo0YqaN3+I8ufPn2nr2tkbxoAACIAACGQfAQjd7GOPlUEABMwJyApgqztvZcWvrwrfQOPbtm1bmjt3rtjWnj17aP369ZZVtyx/Y2NjqWbNmpSamkr333+/7areQDs39gMCIAACIAACIAACTghA6DqhdXMshK4aN0SBAAgEP4FsEbpcnRsRWZRStDu6uFrXyaMidHn+zhULCVG744ynzOXvW8UUoNlNi9Pbiefoo9+0O3MND4Sukyylj42IiKQBA4YKqZqQsJ727v1dVOk++ODDFB4eYSljva2kn5PHmQldKXxPnTpFP/+8kU6fPiXWve++B4RYjo//SvtLp5+cHwgRIAACIAACAU0AQjeg04PN5WIC3AbazrNjwwqPO4TtxAXyGNkemtuKfz9jrKvSmauC6zZv47qr+INebX1WQQfaOVnqvvLKK1S+fHk6cOAAtWzZ0nSLLHz52blzJ7333nuQuYGWSOwHBEAABEAABEAgywhA6KqhhdBV44YoEACB4CeQLUL39KmTFKpJPpZs586epbS0NNukVYWurwXqlwil7x8qSRM1mTtck7rGR0XoDhw4kCpXrky1atUS0yUmJlJycjL98ssvHpW6vXu/qv1lSKxr2XXr1mvi8RvLbXMr59atH6USJdLb4HEr41WrVol/9I+3Cl3jHBzna11fHPXfP/lkR2rQoDGtXr2CFi9e6PqqbNkY6tmzH129eoWGDRvoZErq3PkF7af769D+/fu0n/SvYCp0hw0bRaGh+Wn06OFurZ153X79BtLRo0do7NiRjtbFYBAAARDIrQSatGpPkcVK0vpl8+ns6b99YigSVYoat3ySUs6cpLVL7Ekcn5PaHAChaxMUhoGAnwnkZqHLqGVbZTPsfH/ut5+O8ktLcD+nHcuBAAiAAAiAAAiAQK4nAKGr9gpA6KpxQxQIgEDwE8g2octoC4SFUViBMDp/PoWuX79ui7Zdodu0VH7qVz2CGpRIb7mblHyVpu+5QF/vv2S6Tr+7ImhgjQjqm3CG5uy76DFGReguWrRI/MS68Vm5cqUmFvuJj+PiHqfu3V+i6OhSHuNYALOQNT4sfzt2fIbCNH7GZ968eTRq1CjXx1ZCl9ft06c3FSlSxGOODRs2iJ+2z+gzcuQ4S2nbrVsPqlKlGn3yyUf0+++7bS3F9+F26vQ8JSVt1dp1Xxay2KxCl0XymTPJpi2dx46dRFy5O2rUULc1ee66detpVcXpPA4dOkDLlv2Q4bt+bR0Mg0AABEAggAk8GPciFY4sRle0/91du+QLOn822XK34UWi6N6HO1L+AgXo4vmztHzBVL+eDELXr7ixGAiAgAMCfMfwrRWrUZGSpUXU2RPH6K+9OyFyHTDEUBAAARAAARAAARDIaQQgdNUyBqGrxg1RIAACwU8gW4Uu482fP5QKFgoXgi71kqdINabAjtB9qXJherduupjbfe46pV6/QbWiQsXv4w9eotc3naHz125WBdfUvuPqXO2qXaq58CidvOzZBlpF6Pqq0OUK2UmTJgqpelarVF66dCkdO3aM6tevT40aNRL7NcpVFrFDh74lvuPWZitXrhC/bty4iSZIq4hfT58+jT788CPxayuhu2bNGrHu8eN/0/fff6+Jy/NUsWJFreq3tcccKn8MZDXs7t07aerUyR5TyLbIxupdb2tx5S0/48aN1lq6/ctS6FrNIffE1b0TJ45zDeP7dh9+uDXx3b7cnpmfMmXKCvE7adI4SF2VFwAxIAACQUMgKjqG7nvkaXGey5cu0JofvqBLF1I8zlewcAQ1ffQZ7Ye1CovvfvrxSzp9/LBfOUDo+hU3FgMBEAABEAABEAABEAABEAABEPBCAEJX7fWA0FXjhigQAIHgJ5DtQpcR58mTR2u/XIjy5stH17Q2vNe0at1/rv/z3/t13dsx+xK6z91RiN6vV5T+Tv2HXlx7mjafvCqyWCosL01oWJSaly5A4389TyO3p7dVrhKZj77TZG6R0DzUz6I6l8epCF2O0wvV8ePHu7VaHjduHD3wwAOUmppKXbt2o19/3eF641gGd+jQQfy+b9++rlbKsuqXZW6bNm3c3tCZM2eK9s4sh5s2bSq+MxO6eik8fPjbbq2d33nnHdEKmyWvsX2zkz8OspqW786dP3+uR6iv740Bsn2zvP9W/t6sQtdsnyyQ5R26xqpgWbWrl7dS8joRzk74YCwIgAAI5CQCJcqUoyYtnxJb5srb1d9/QVcv3+x4EVqgIDXTZG6h8PQfplq37Gs6efSg348Ioet35FgQBEAABEAABEAABEAABEAABEDAggCErtqrAaGrxg1RIAACwU8gIISuxBwSEiLuPuX7dVny5smTV/uH62bTH75715vQbX97QZrYsJiosH10+Qn68/x1urVQXnr01jD6VGu3zA9X7y7+K5UOX/yHbg/PRz+0LEnF8+ehXhuT6as/zdsxc1xWCN3ly5eJVstWLY5lFa1s0cwVvV98MUecQ1+FK/k0b96cWBrzI+WxmdDVj9O3f87M192XsI2IiNQqjUeKu3D11bJmezCrrLUrdF97bZCotuWHW3vPnTvLrcVzpUpV6OWXXyWzSmLeY0qK533KmckJc4EACIBATiFQ+raK1OCBdmK7KWdOiUrd69eu0i2hBUQFb0TR4uK7hJUL6dihvdlyLAjdbMGORUEABEAABEAABEAABEAABEAABEwIQOiqvRYQumrcEAUCIBD8BAJK6NrBbSV0H44Jo1lNo+js1Rv0r2Un6I+U9Dt536oVSa/eGU6rjl2m3pq0PZ6a3k65XolQ+uze4hQdlof+vfkMzfzDe7vnrBC627dvF3sxk7P8+VdffSXaKO/evZvat2/vVm37zDOd3Cp6JbuEhARxt+7ixYtp8ODBli2XZTUvx3GF8MGDB+nIkSO0bt16t4pdOzkxG5OZQpelbFRUcRo9erhLsNoVulxpW7RoMdFeOja2otgqVwwnJm5xbZtbOYeHR4i7eX/99Re371TPjzgQAAEQCEYCt1aoRnXve0Qc7fTxI7RxRTw1fuhJKloi/R74LT/9SH/t25ltR4fQzTb0WBgEQAAEQAAEQAAEQAAEQAAEQMBAAEJX7ZWA0FXjhigQAIHgJxAUQrdg3hBKiitNkbfkoZaazE06nd5mmZ+SBfLQ/AdK0J1FbhG/33rqKhXWxlXWWi3z8+aWs67qXW/pzkqha2zFLPchWzLL9spW9+Hq9y1bMsvKW28xPH+dOnWE7NQ/vN6bbw42FcZ2/0j4Erq+vpfrtG7djpo1a0HG1sd2ha5+v1zp27NnP/GRXg5zle7jjz9NxYunV5fxw5XD69f/BLlrN+EYBwIgkGsIxFapRTUbthDn5WsSbtE6a/CTtHEF7d+dmK0cIHSzFT8WBwEQAAEQAAEQAAEQAAEQAAEQ0BGA0FV7HSB01bghCgRAIPgJBIXQfbx8QZrSuBhN1doqD9IErfHhrs1PaGO6ae2W7y4WKr5OOHmFPtiRQmv/vmIry1khdGU17bx582jUqFEe+5ByNjExUVTa6u++1d+rqw+UVb9yTjsSmFs5N2/ejGrXriPu4OVHrmkLjskgszbJ+mF276gdOXLcf/dzs6KWP7jttvKilTK3SuY7gzds+EmrMD7sc7vGu3j1ASx2K1euSuXKxWpzx1B+rfW3vLPX58QYAAIgAAK5iEDlGg3oztr3uk7827a1tGd7QrYTgNDN9hRgAyAAAiAAAiAAAiAAAiAAAiAAAv8lAKGr9ipA6KpxQxQIgEDwEwgKoTu8diT1qBpOrbV7cxNO3qzOzcz0ZYXQNbZU1u+XJeu0aVNF+2S98DW2VNbH6OWtFL5WQpfv0S1SpKhHe+WPP/6YGjVqRLIqOCMMuZUx34msr4aV83Xr1kNrJ12NPvnkI7c7bY3rjR07ydYW5syZIappWSQ3anQf7d37u2l1rRS6S5YsphUrllrOLe/WPXr0CI0dO9LWHjAIBEAABHITgTtrN6HKNRpqIncj/bZtXUAcHUI3INKATYAACIAACIAACIAACIAACIAACGgEIHTVXgMIXTVuiAIBEAh+AkEhdF+vHkH9746gF9eepu8OpZpmrUaxW6h60VCas8/7XblWKVcVujyf1V25vXu/Si++2FUsaazSlXfc8v22Xbt2c7U/lsKVPx8z5n2XkGUBPG7cBxQdXcpNxpoJ3YEDB1KHDh3E3bn6uXkfUjJnhtCV8jQhYb24t1Y+VrK0ceP7NIFd0KtolXNYtVyWlcHnz6doPEa77tzluIiISOrXb4C4L3fcuFGiopdbP7dq1Zp+/nmj27o8dujQkQShG/z/I4gTggAIBA8BCN3gySVOAgIgAAIgAAIgAAIgAAIgAAI5nQCErloGIXTVuCEKBEAg+AkEhdBtWDI/ffdgCVp3/Aq1W3HSI2u1okIpXrtHN28eonLzjlCaQl4zInTXrFkj7qllgXr8+HHasWMHDR48WOxCilv+9fHjf2tjLoux8l7b6dOn0YcffuTasV7c8ocsXvmJjo4W1by8xqBBg2jVqlXiczOhq5+Dxx88eJCSk5PpzjvvdK1rda+vE3QsRfnOWr6bVrZGLlCgAFWtetd/z/6pqzpXSl7+QlbbelvL2x26nTu/QDVr1iGWuvv2/UGXL18WU1WrVl3I3KSkrTR79mfiM/29ulzhy5W9UVHF6Z57Gop9+6rkdcIDY0EABEAABLKWAIRu1vLF7CAAAiBgJPDGG29QgwYNtB+CPEq9evUyBRQfHy8+X7JkCU2dOhUQQQAEQAAEQAAEQCDXEIDQVUs1hK4aN0SBAAgEP4GgELqcprn3F6cHyxQQ9+gO3XaWrt1IT16cdnfu2HpFqWC+EHpp3WlaZFHB6yvVGRG6fPdtnz69XbLUeD/tuHHjRJtjFrLy4XthZ8yYIYSv8WEh+/rrr7nuu5Xfs9ydMGGCS+by51Ytl3mOIUMGa22Pq7hNz1J57twvTdf1xcjse5a67ds/I9ory4dF69y5s9xaLfO4AQOGiiGTJo3zeR+uN6HLc/AdvU2aNBUCV7/uunVrPCqAWSZ37Pis29grV67Qxo1rafHihSrHRgwIgAAIgEA2EIDQzQboWBIEQCBXEqhfvz4tWLCAYmJixPmXL19OLVu2NGXx119/ucatX79e+3f0JrmSGQ4NAiAAAiAAAiCQ+whA6Krl3J9Cd9y4sVSoUCGvGz1x4rj29+jpf28tn6ef7kDNmjXzeUD+4cZly5b7HMcDRowYTiVLRouxZmvamiSTB7Vs+RDFxcWJWZ2cJZO3gelAAAT+SyBohG50WB5a8XA0lQrLS5f+SaPfz16jmML5qHj+PKT9Vshcq3bMdt6GjAhdOb/VvbXyexa/ERHhdOjQITcp621/LGz52bJlq6sts53zyDEsduvWrSN+62RdJ2vwWBa2FSrcof1/Rn97lbU8LiXlnNPpLcdzBW7JkqV8rssTyLEXL17weq9vpm0OE4EACIAACGQqAQjdTMWJyUAgVxNo/kRXKlWuIq2On0lH9+/O1SzMDj9r1izq0qULLVy40PUXPL4grVu3jho3bkyjRo0SHYXwgAAIgAAIgAAIgECwE4DQVcuwP4XuwYP7fW5y374/qXnzB9zGffLJFO0aP/MfaNQP5H/3nTLlU59rdO/+EvE1ifIxW9PbJDVr1tQ659QTQxISNmsdKpN8rmlngH5fds9iZ16MAQEQUCMQNEKXj1+6YF4aVjuSHo4Jo7C8IaJK9wvtztzZf1ygX85cUyP036jMELoZ2gCCQQAEQAAEQAAEvBKA0MULAgIgkFkE4noMoXot2tGX4wfR9rVLM2vaoJmHfzq/Xbt2FBISYvtM3J75vffeo88//5yeffZZ23EYCAIgAAIgAAIgAAI5lQCErlrmskPoHjt2jC5dSjXd8JEjR6hz5y5u30mhy9cZHj16zPKgfOXIl1/O8wkiKWkbFS1a1DXOqdDNKvGaVfP6BIIBIAACpgRyntAdu5EoX6hf05mWep5oQDO/ronFQAAEQAAEQAAEnBGA0HXGC6NBICcQKBNbhR7r+gb9nriBVi2Y5rctZ4XQfeTZvnRHjfo0oV8Hv50jqxaSQrd///40ZswYW8tIoeskxtbEGAQCIAACIAACIAACAUoAQlctMf4SuhmRlatWrdS6Ud5OTsWrGRGzal+n82bkLN6ylFXzqr0ZiAIBEMhxQpf6fU4h5W7ex+qPFKYd2EE0/jl/LIU1QAAEQAAEQAAEFAlA6CqCQxgIBDCBGve2oqf7jqTNKxZS/OQRfttpVgjdPuPmUenylWhAXG2/nSOrFho5cqRoCedEzqpI4KzaP+YFARAAARAAARAAAX8QgNBVo5ybhC7fxTt69CgBaunSZa42zlktdHndyMgIsa63Fs1OhC63fTZr9axvB71//wHbdwrLt4f3wI/dWL73Nza2vKMYtTcVUSDgfwI5T+jWf4xCOrpfQp7V2NK+GEa0eXFWL4P5QQAEQAAEQAAEMkAAQjcD8AIg9I6aDalgeKTYiVWL24hiJSi2Wp30/zDbuZVSkk/63DkLQfnYjdGvY6fdrp29m21Uxl06f47+SNK60Hh59GucPHzA1r2uXN1aIib9P2TtnMMnTMMAuSc5t+Tma39Ozq0idPXntsOWj2Xcky+hq7KGU6Grfw+zKodOcy7Hq7RPlkK3QYMGtGnTJtWlEQcCIAACIAACIAACOYYAhK5aqvwldMeNG0uPPx4nNlmuXKyjze7e/RuFhYUJCfvyy90dxeoHy0pfbvncoEEjknf62hW6xrt39XObzTFixHBq3bq1W3tnjvn55y3E7aGXLVvudhZvQpdF7ZQpk6l06dIixnjHLovVPn36ULVqd7rNeebMGZo790ut08/7XtcqW7YsPfnkk4KzfPhM/fq9ZiqOea9PPdVeVE7rH6v1lJOGQBDIRgI5T+gyLD9W6aYd3Ek0zr1HfjbmC0uDAAiAAAiAAAhYEIDQzRmvhpRavNtFU0fTzk3/R88P/khULspnZNeWHrK242uj6e7GD7kd8pf1y2nu2AGmB2/+RFdqFvc8hRa4+R9/PPDAriTauPRrN8Gpl4Y8hu9Olc/Vy6n0zccjTIUoS8D2fUZQ4chibuOXzJ5AG5d87bGv0fHb6NiB32n1wpnU+oXX3eL2aC2FZ4zo5RFjtgYPOv33Ydq66jvTNsQsAo1M+Ryr42dkuG0x54+flDOnqHKtRuLXvJdvPx1Fnd/4wMXb7O5Zs7NcOJdMX00Y4iG09e+JWYLN5m/48FP0wFMvuXHV789Mmpux4hydPHJAvG/GdZyuId8tqz+dvJaxBTPL4mf+PYaiSsW4hXEOrd4t/UDeY70H42jHhhUZzrfVvtu2bUsLFy4U/8TFpf8lmK8nMTGR+C99nNy762tOfA8CIOVU4Q8AACAASURBVAACIAACIAACgUwAQlctO/4SuvpWxyx0uWq1WbNmYtP79u3zEI7600jxykL344+naGK4HZUsGU0XL17UpOgyW1WoeqEsZWhWCt0FC+bTPffUtUwK3wc8fPjbbnf+Wgldo8z9/PPPaciQm0V4zHLo0LdcMpbnvnz5sptINsbo19JXKxs3LOW3/nOj2JZ3Iuvl7qRJk73mVO1tRRQI+JdAzhS6RaKJXplIIaXcf9ois9GlHd9PNLkn0dnjmT015gMBEAABEAABEMhkAhC6mQw0i6aTlZCyje6tFatReNHitG31DxR9WwUhCY0taZ8fMlF8zgJ35+bVYmcNWz1F5avWNG3FKyUai8blX052naTs7VWpdrN/0eLPPjAVuizMzp89TesWz6FLF1KIx9/XpjPx5x/0ausmmVm6dX93upibRenp44epYOEIatK6kxBxZsKRhS7PxU/SuqWUsGQ+FYosSm1fGihiWHDrRTDLxtcnfivGs8jjPfETFR1D1Ru1oL/27vRoQ8wxL78zncKLRFHCsgV05M9dPvflJNVStLIY/27aGGrw8JNCgEvZeHD3L9R77Fwhzqe8+YJras47C9+rV1Jp5defirPwOVi682PkK98TmQMW3ttWf++az6zimHPSLO452v/bNherCtXvEftjcfzO8y08jirPo3+3qtVr5vrhAWMena6hr7J96OkerndDbsSqmpl/gOHvg3vFeyVzLn9A4cPXOlpWaPP+mL98pr/d02f1t5P8y7EqQnfPnj1UqVIlCF0V4IgBARAAARAAARDIkQQgdNXS5i+hKwUnV3AmJ5/xqOxkCfnZZzM8JCBXnn766SficDt3/ka33x7rVkUqPx806E3TSlL+noXovHlzRdxPP62lzp3TC8qcCl1J2Fdr5Dfe+Df17NlDDGfZOXToMJd01otloyy1mlcvh41iltdIStom5C0z/N///V+tkvdTsTazGz58mKuq96WXXnbtwyhl9VXDLIj79OntijOumZCwQXxnlNJ68cx5rlkz519/o/anClHBQiBnCl2Nflq+UArh9svNOxEVvzVz83HqL0pbNYfSNn1HIdevZu7cmA0EQAAEQAAEQCBLCEDoZgnWLJuU5SZLNn4+fO1pIUtlm1u90JVy1qyCVco4Y0Wvt3a5LNiMrZrlGrwfuRd5cFkZ/NOi2fTjrPEuHlIymwk/Fmosk9/v8ZgbPz4zP0bJxtXED3Xs4SGnfbUbNjuLPPvyuZPdqjOlHGZhbdyXkyQbmZvt8d+Tv9ME7yW3ylMZZ5SRMt6q2toXAzt7t8oVV7K26TbAQz7znFYxVuvZGe+05bJxLav3RD+O8zxo2jLXR97krx12ZmO43fLTTz8t/hKKKwkGDRpka6pZs2ZRly5dxF9qffklt1gbYysOg0AABEAABEAABEAgpxKA0FXLnL+Ermx3LHcpqzqLFStqu5KUY1kiHj16TEyjrwjl+bp372EqdX/88QfRiphjO3To6BqTVUJXL1j168mz66uV9bLUTOj6krnc1pn/vZ8fYxtm/kwvs1naPvHEk2Ksfi2zdtF6ka6P41hv3FgG33rrrbR9+3ZbldNqby2iQMA/BHKs0HWKJ6p4CTp9yvc9a07nxXgQAAEQAAEQAIHAIAChGxh5sLsLKTf1QpSFFVee6lvQSlFmVmkoBZexsvWRZ/uKylqWwN9MGu7zrl0pDc3a38rvjBWnUkh7q/o0yjR5ZmMFspW05CrVF9+aJOTwF++/Yeve3MEzVlBo/jB6q2Njj1RIlmYtre3mzSglzfYu2zLLPMqqUSNDuSbv+UrqJVPRnBlC10rwSx7G94f35esOXSMvO+MzKnTtspAtlzf/J9609bfdXBvHyXtz+fP0aoXPqFcvzzbh3ubne3RbtWrlqmDo378/xK5qQhAHAiAAAiAAAiAQ8AQgdNVS5C+hy+KR2ySz7JswYYKb7OOK1hdeeF78e6tRurJY5GtHoqKi6NChQ+JOV/mwrBw58l3XvbFmd+zqq2WNbYCzQuiy0Bw9epTYor4aWJ8d3veiRQvFR1x1/Mgj/xK/NgrdFi0edLVttppLympvFbFmY/RrmVX98n6s+FhVBKu9gYgCgcAlAKEbuLnBzkAABEAABEAABBwQgNB1ACsAhnoTovrtSQnG4tf4yHa8m1csdGs9LNsOcxtjbgW8f1ciHdRaAG9ZtchU7noTurLiUS97pWg1E8C8R6tqTadCVz8X/5qF6KHfd1DST0ss5S6vYWw1LbnVbvaoaF1t1g7a7iuhInT1Vdb6tslyTdmK2Ci6+Xu7ElPOxfK45n0Pi/bdEVorb364pTffc2w8tzyL2Q8LeBO0TtYwe5fNzmnkz+9d3eZtqFS5ilSibHnxdWiBgqJls/F9t5u7jI6rX78+9ejRg0qVKkX33nuvmK5Pnz40depUW1OPHDmSBg4cqLWzS6Y1a9ZoVQxHafbs2bRp0yZb8RgEAiAAAiAAAiAAAjmNAISuWsb8JXR97U7fithKMJrNwXJ05szPRJWvUWrqv9OLUzlPVghdvSj1do+srFjWV8fqY7nimNsa82NWQSvPIOfRVy4bOemroPn+Yn58tY3mMVZ89Lniccx97959QrjbvdPY1/uA70EgEAhA6AZCFrAHEAABEAABEACBDBOA0M0wQr9OwOLRSojqNyKlm7fNWQkuruCtpAlMvmtXPmZjvQldjjPu1dd4KxmoInR5fV6PZWxs1Vqa1AsTR2G5O3dsfw9BLdfwxiu7hK6vFyyjQpfzLe/kZYl/7vRxsSTf01y6fCVLoWu2rlUOna5h9i77Err8AwPt+4wQEprzfOLIfjFNZFS0EPLZJXT1Z5HVugsXLhTVCXaexMRE0V6tXbt29O236XdD4wEBEAABEAABEACBYCYAoauW3UARuvqqVatqVKsTzp79Od13X/oPQbZp087VUll+zrKzT5//8WgBnBVCV18RbNYCWZ5Bilj9PbrGe23157WaS95nazf7mSF0eS2Wus2b3+/WLlvugQX0e++9h5bLdpOCcQFLAEI3YFODjYEACIAACIAACDghAKHrhFb2j3UqdH1JMF8n4ja0TVp3Mq1w9CZoZbvg7KrQNZ6LZd8DT3YTktpMiNvl6ouX1fcZqdBVEZF2K3TlHcG87w96tXUT3VZy1mmFrsoaeo52Wy7rq9K3r13qmsIuC9XcOonjat2EhARyInT37NlDlSpVopCQECdLYSwIgAAIgAAIgAAI5FgCELpqqQsUocu7VxWs+jtppfjU3wFrVb0q7+DVf9+8+QM+QXqrbs2sCl3e0/z58+nJJ580bUUtN6kXwzNnzvS59ylTPhVjMlKhq1+EW0zfc889VKVKFbr99ljXdS/eWkD73CQGgECAEIDQDZBEYBsgAAIgAAIgAAIZIwChmzF+/o62Kx693aHrdM9W4tab0GUR3KbbAHEf74wRN+8L9dYy+t+TvxPi2HhXrWqFrtk5rebydoeuU15m41WErq87dL3ty67ElON+Wb9cq1we4DZlZt2hq7KGfiN2ha5sm/1+j8fczmGXBQex+P8jaWNmpNx0DpUKXb4/l6tzIXSzLC2YGARAAARAAARAIMAIQOiqJcQfQperb195pbvYYGLiNpJSUb9jvYDV34XLFa8VKlQQQ19+OX0O47NgwXzXXbNmFahOyMh4bzHeZGhm3aEr2zXz3cNdunQR2zFrvWznDl2zs2SW0DXOLffDn3urUHaSE4wFgewiAKGbXeSxLgiAAAiAAAiAQKYSgNDNVJxZPpldoSslFreenfLmCx774qrJlOSTbp+zzDp+aK/H51LOGitb5Rp896xRonV/9zNRDbto6mjauORr1zpW9+R6u1/XqdDls0XfVtFDzMl7fXkzxsplKS9/WjSbfpw13o2LGSuniVYRuryGt2pYb/vyJlH1e9ff06sX7zxG5tDYaprbJz/UsYdoa6x/t/R3MOtjVNbQ71EyMIp+Yw6sfljgkWf70n1tOvtsuSx/oMDsfXaab6vxUuj279+fxowZY2taKXSdxNiaGINAAARAAARAAARAIEAJQOiqJcYfQpd3tnv3b6J60+o+WH3bZP3ds/r7Ws0EIYvgCRP+V8ytb1/Mn/u6rqRVq5YCGleTbtq0WfzaShrr6fqSoUlJ20QrYq6y7dCho6sFtJxDX1Gsvy/Yal69sNbLbp5PL3yt7uxltidPnqSff/6ZvvxyntiGrzPwGLOKaSnn77jjDpo6daprPnk2uy2n1d5WRIGAfwlA6PqXN1YDARAAARAAARDIIgIQulkENpOnZeFZMDySnu47klg4Lf9yslhB31rWuKSUpyxiN/8nni5dSKGo6Bhq9K8OdOroIQ8Z9/rEb+nqlVTatvoHOvLnLjEdj+f7VfkOWqOclaKOx+nX4Htr+c5SMzHGVafd350u5l4dP4NOHz/s2hPffTr97Z4eItap0GUBGFXqVtq9dS3t3LxarFWwcISrdbRZNapeRnJV8bbV34u4CtXvoZpNWlHCsgUeotdJilWFLue98xsfiKWS1i2lfTt+Fr+WjM14yX3JqmPJmRnE3lnboxL37bnrRX6Xz51MW1Ytothqdahhq6eoTGxl8bkZL56b88XtoHlPkm94kSgRY5TAKmvIc+gF8sal6T8cUPb2qnTmxBG3HxaQApr3uzp+JhWKLErVG7UQ+eM98Ts6451XPX5ggeeTP1Ag18zIfcne3gsVOTtx4kTq2bMnQeg6+ROHsSAAAiAAAiAAAjmZAISuWvb8JXT1wnbnzt9o9uzZQgayeO3UqZPrDly9lOUT6YWtbEP8zTcLhSRledix49Oue1ythKYVGdUWz3oZKu/7ZdHJe+JHLzX5PEOHDnPdJ6sX1MazWklWnnvKlMlUunRpMb/xnHqBzG2ahwwZKsZJ+SrFtV4GqwpdfSW18Wz83fDhw1z7fOmll3GPrtofS0QFCAEI3QBJBLYBAiAAAiAAAiCQMQIQuhnj569oKQSN6/m6I5crT6XQkrFSCBtlMAvaZu2eo9LlK7ktc+FcMq38+lM3ecYD9BW658+cEhW58vElz9r3GSGEoHx4jcWffWAqqJ0KXZbGLTv1ElJZ/1y9nCqkaPzkEaZpY6n7eM+hHnFcifrdtDF0dP9u5XSrCl1ekGXjI136uOWFz8LC+vsZY00FpYwz4/zVhCFu0pznN46T+Xt+8EdiXWN1LMe0fWmgaJEtHxap+3/bJlptG4Woyhp62B1fG013N37Ijb9RNHP+5H717xWfl8VuvRbtPH4oQT+hvkL3k8EvWnJVfgm0QCl0GzRooFUObLI1lazqnTRpEvXqdbN9ua1gDAIBEAABEAABEACBHEgAQlctaf4SukYpabZbrpTt33+AhwTUV6FandJYuWqHhqrQ5bllxbFcx3hnrL6q1mwvLKeHD3/brcLVVyvnoUPfct2n26fP/7g4cZtn+Z1ci2WrFMD8Gf++e/ceLumsKnR5Ln2FsZyb/69+PZV82MkZxoCAPwlA6PqTNtYCARAAARAAARDIMgIQulmGNqAmZvnKz/6dW32KKhZjXKXJz8nDByxFpvEOXRapJWLKe43RQ5HjL50/l2X3lspzO1lDf35vFdD+TrAqL1nd7S2XfBY5zviO8LpWMtsqxoqNyhpyLrt5sXoPvZ1DrsHvi50/I6q5z0iFLoSuKnXEgQAIgAAIgAAI5DQCELpqGfOX0JW7YxnYtOl9QkzKh+Xmr7/upHfeedejPbEcw9KyW7du2n26t7sdlEVlfPxC7WqS9x0DyIjQ5f306dPbTWIaK1JZRLdu3dpVQSw3+PPPW0S74mXLlrvt2Zdk1Ytto6Dl6ljmc889dd3mZLa83tix49zY+lqLJ/HGhyuNmze/3+NsLLbnzv1SKR+OE4gAEMhiAhC6WQwY04MACIAACIAACPiHAISufzgH4ypGoRuMZ8SZQCAzCbRt21b7S5G5Yso9e/bQ+vXrLatuWf7GxsaK9mr8lzf333+/7arezNwz5gIBEAABEAABEAABfxOA0FUj7m+hK3fJQjQyMkL8dsqUT21vnv89t0GDemL8/v0Hsr2lr9xPQsJmrzJantXbONsQfAxkWSsfJ2xV1tfnMRDyoXIGxICAFQEIXbwbIAACIAACIAACQUEAQjco0pgth8itQle2QLYD/cfPJ2RZ9bGd9TEm8Aiw1H3llVeofPnydODAAe0usZamm2Thy8/OnTvpvffeg8wNvFRiRyAAAiAAAiAAAllEAEJXDWx2CV213SIKBEAABPxHAELXf6yxEgiAAAiAAAiAQBYSgNDNQrhBPjWEru8EQ+j6ZoQRIAACIAACIAACIAACIKAnAKGr9j5A6KpxQxQIgEDwE4DQDf4c44QgAAIgAAIgkCsIQOjmijRnySH5TtIqdZrQX3t3ogo1SwhjUhAAARAAARAAARAAARDIfQQgdNVyDqGrxg1RIAACwU8AQjf4c4wTggAIgAAIgECuIAChmyvSjEOCAAiAAAiAAAiAAAiAAAiAQI4gAKGrliYIXTVuiAIBEAh+AhC6wZ9jnBAEQAAEQAAEcgUBCN1ckWYcEgRAAARAAARAAARAAARAAARyBAEIXbU0QeiqcUMUCIBA8BOA0A3+HOOEIAACIAACIJArCEDo5oo045AgAAIgAAIgAAIgAAIgAAIgkCMIQOiqpQlCV40bokAABIKfAIRu8OcYJwQBEAABEACBXEEAQjdXpBmHBAEQAAEQAAEQAAEQAAEQAIEcQQBCVy1NELpq3BAFAiAQ/AQgdIM/xzghCIAACIAACOQKAhC6uSLNOCQIgAAIgAAIgAAIgAAIgAAI5AgCELpqaYLQVeOGKBAAgeAnAKHrMMdp+fLSlYYV6fL9Vemf4uEOo70Pz3vqPBVY9RvlT9hHIdf/ydS5MRkIgAAIgAAIBDsBCN1gzzDOBwIgAAIgAAIgAAIgAAIgAAI5hwCErlquIHTVuCEKBEAg+AlA6DrI8Y0ihSil5wP0T3SkgyjnQ/MeO0cRH6+kPGcvOg9GBAiAAAiAAAjkUgIQurk08Tg2CIAACIAACIAACIAACIAACAQgAQhdtaRA6KpxQxQIgEDwE4DQdZDjc689TNfLFXcQoT40374TFDlhmfoEiAQBEAABEACBXEYAQjeXJRzHBQEQAAEQAAEQAAEQAAEQAIEAJgChq5YcCF01bogCARAIfgIQujZzfKVRRbrQoaHN0ZkzrPCcDZR/877MmQyzgAAIgAAIgECQE4DQDfIE43ggAAIgAAIgAAIgAAIgAAIgkIMIQOiqJQtCV40bokAABIKfQK4SumeST9ONGzeUsnqubyu6HltCKVY1KN/+kxQ5fqlqOOJAAARAAARAIFcRgNDNVenGYUEABEAABEAABEAABEAABEAgoAlA6KqlB0JXjRuiQAAEgp9ArhK6KefO0bVrV5Wymvxee0oLC1WKvSO8OPWtch/dGRlNyVcu0bYzR2j18X207uR+r/OFpF6lYv2/UloTQSAAAiAAAiCQ2whA6Oa2jOO8IAACIAACIAACIAACIAACIBC4BCB01XIDoavGDVEgAALBTyBXCd3Ll1Pp4oULSlk9/WFnx3H5QvLQxHva0UsVG1CI9v+MT8lvhtLJKxe9zhvVe7bjdQMt4K67qtOQIYOpaNEiNGXKpxQf/02gbRH7AQEQAAEQCAICELpBkEQcwY1A0+YVqUatsnTi+HmaN2cb6IAACIAACIAACPw/e2cCZ2PZ/vHLPjPMGMZOsi/Zl6xZQpbiTyKyVEKLxBstSIsWvBW9hN6iVyVSpJTsZKcsY40wjTQMxlhmMGP/P9c93afnPOfZ55wxc/zuz8dbc557/d73OXrne67rBgEQAAEQyEIEIHTdbRaErjtuaAUCIBD8BG4rocvpljntspviRuh+2vBheqJ8A/rjQiI9u3WB+Oc39zxKtQqUoFmx2+mxzV/RTYvJZBahy1K2fv16Yrbbtm2nvXv32Mb4+OOP0/PPPy/qr1q1ioYNG2a7bVaqGBGRn8qXr0hhYWF06dIlio7elu7p16lTX/QRE3OIkpLO6/YXiHHTPXF0AAIgAAK3gACE7i2AjiEDSmDI8BbU7v6qtGzxfpo8YW1Ax0LnIAACIAACIAACIAACIAAC/iUAoeuOJ4SuO25oBQIgEPwEbiuhe/lyKl27eo04UtdpcSp07ytWiZa3epJ+O3+SGiydJIb7uc0zdHfUHULmPr55LmXPlo2m3d2Vtpz+k/73x1bdKWUWoauWsh988AF99tlnjhBy/dDQUPr4449p9erVjtpmhcpNmzanBx7oQnny5PFMNzk5iebM+ZwOHjzgagncZ9euPUTbL7+cqSuI+/Z9gmrXThPtsqR3XFeTRSMQAAEQyAQEIHQzwSY4mML9jz1PFWs1pEnDejpodXtVhdC9vfYbqwUBEAABEAABEAABEAguAhC67vYTQtcdN7QCARAIfgK3ldDl6NyI/AUo6fxZ4mhdJ8Wp0P2pZX+6v0RVarZiqrgr9z/1OtPQys1o7p/R1HvjHCFz5zV7lLqUqk6JStrlogveoOs3feN1g0XoOmGd1epyFG2fPv3o8uXLiqxeTomJp6lUqTuoceNmYinjx48xjK41WitH3Y4Y8bpHEOsJXSlzY2NjhOzlqOCoqELUqlVb0e3UqRPp2LG4rIYT8wUBEAAB1wQgdF2juyUNh06cS8XLVKIRXevekvGzwqAQullhlzBHEAABEAABEAABEAABENAnAKHr7mRA6LrjhlYgAALBT+C2ErqJpxMotxJBySlxz587Rzd1BKrRljsVuue6v003lP4Lzn9VdPlh/S40uNI9NGrXYnrvtzUemSvHK//DWCUl8xmf4d0KXY6orVmzJiUkJNC4ceNo5MiRVLp0aTp69Kj4WRZOpdyzZw/BhAtLwblzv/ZKqcxtK1euTHXq1BF1oqOj6cyZM7R7924RqduqVSvq2LGjeMbplHnshg0bUkpKiie98sSJE8XzRYsW+UTo2p1D4cKFPevRguI+nniin+4Y6vlxBcnEX2/v4cNHUYkSJZXo4w+9onFlhO2BA/to+vRpjoZTy9qyZcv7ROiWLFlKYTuSjh8/RhMmjPXqu02b9tShQyfasmUjzZs3x9G4qAwCIAACWgL3tO9B+QsWoY3L5tG5xBOWgCKjilHTdt0p6WwCrV8y17K+PytA6PqTZuD7ykihW7F2YwoLz08JcUfoeKx15oxazdoLAHbrB4qWVuhGRYVR9VolxHBrVx/267Cy77ij5yjm8GnRd936pSg8IsRwrPIVClGp0pGibnJSKu3YZv+LZLJvp+38umh0BgIgAAIgAAIgAAIgAAIBJACh6w4uhK47bmgFAiAQ/ARuO6HLWxqipP4NDQklTk177do1W7vsVOje6PWekkr5KDVZ/qHov0zeAvRLu6FUJCQf7Tt/gqrlL0bbzvxFe8+doMfL3S3SMm9VftYWt0KXBWrr1q3pyJEjdPbsWY+M5Z87d+4shhky5Dnq1au3SIWsLixiFy5c6BG//O9lypTxmZu8D1edjnnu3LmKIP4ndWKtWrVEu127dol/atM1250DS2Xul+fWqFEjn7kYPZcctA3OKUJ/0qTJtGDBt7b236hSpUpV6KmnniMjafvGG+Mod+48NGqU/XuDZcTvzp3blfTgqcp6m+oK3SZNmtPhwwd9UjGr28+a9T+vqbPsrVLlLiXyN+TvfdlBK1cuTRcDNAYBEAhuAvd17U/58heky8rn0folsyn5nO+XjySB8MgoatahF+UJCaGLyedo+fzpGQoHQjdDcbsajEXpI897fxFJ3VH8kYNeKZgjChamUTOW0YXzZ+jtfm18xmRR2/+1qfR79Caa+dZgz3Mpiz9981nq8uRIiipWyvPsyP6d9N9XntCdf6tuA6hl136UW/nvRFl4TjPffo6SziQYrrlxh4epwX1dac+mlbR6/gxXbPQaqYVuWFhuatayvKdaaspVeueNZT4Sdcr07lS2XBS9+85KHxH706qnKfaPRBo8cJ7op0WrCvTSK21owbxddH/Hu5T/Rs4lXv9o8npq0OhOqtegtPhZ3YZ/7ti5Gj3Stz5FFvD+b8j440k0bdI6XbErx573VTQ9OaipV9vtvx6l10Yu9hs3dAQCIAACIAACIAACIAACmYEAhK67XYDQdccNrUAABIKfwG0pdHlb8+TJTWF5w4UwS7l00XKnnQrduAdfpcvXr1H5H/6Jhi0WEk7r7nuWKoYXonWn/qAOP08XkbqcmrncwrEUe9F/EbpSZLIAZWEro2pldGrXrg/R66+/JtZ94MAB2rhxg5IWOFmJ7OygCL8q4vUxY94UwtMqQlctdHm8kydPUkxMjOiDI3a56AldJ3PgCNzZs78UfbE0VkcZ82vLly+jokWLiXXyfLi8/fbb1KlTJ/HvmzZtol9++YUiIsJFNDHXZan77LODvaKRLQ+CpoKMhl2y5EddMSojbbXRu2bjsATmMnHieGrX7gFdoWvWXs5pzZqV9OOP33mqDhw4SNnbauKLDMnJyUI0FypUyFBGO2WB+iAAAsFJIKpoKWp+/yNicamXLtDan2bTpQtJPosNyxdBLTr2VoRQPvFs3eKvKPGk/Wg9f9CD0PUHxcD2wYK2bLW0u9/bPjJIiNavPhjlGVQvIrbfq1Oocp0mxHL20M7NXhPsNXw81WzalhZOH0+bl3zjeSaF7pXUFNq5YSnF7NnqNeavK7+jBdPe8uqLZW7bXoOIBe6a7z4Tz8rXUL501+ZB8ZrRXb8lylahIRP+yYihN0+3VKXQZXkbH59ESxf9Rps3xFKX7rWoq/KHBeqAvt7ZONwIXe5/3txoWrHkAH3y+SNC7LJk/fzTX+mx/g2E2H315UUeUcuRud0fqUN7dx9X/pvislherTolqd39Venc2RTq3e1znyWz0OVxuKz9+TD9tHAfyuMqgQAAIABJREFU5Y8MoUFDm1PxEhFCIi9SXkMBARAAARAAARAAARAAgWAhAKHrbichdN1xQysQAIHgJ3DbCl3e2uzZsyuphvNSjpw56eqVy3RVida9fu363/fret9n60TolgrNT9s7PE9RecIo11cvkbqngrlDqWZkCdp8+ggVC42gvQ+8QOevplKp77x/qSiPXnojdLkfbVQsvyajblnm9ujRw+ukf/3110Lqqp+ppa22P/UzGbWrfevoCV2nc+D0zpz2WTtnTqnMc+IiJTQL4BkzpguZ/eOPP9Lo0aM9U+JnU6dOocjISJ9nTt/y3bv3MhWuVs+148n6CxZ8rUj2deSkPd+726BBY3GH7hXlPLMQTko6L4aQUbvaSGIpeZ0IZ6eMUB8EQCDrEyhc4k66p93DYiEcebtm0Wy6knrJs7DcIWHUUpG5ecPTUq9uWPYNJRz/M8MXDqGb4cjTNaDdlMsc/dp54AjavXE5zZkwwmvM0TNXip+10buy73ULZ9Hiz9P+G4GLjPhl0ftar6Zer78w5Xu6cjnFp6+ug14VUlcrjbV9yp8nD+9lK62zHXhS6P629wS9OPR7ryZS3D7Q+r+6rzuJ0F2/JobGv7VC9KPtl6NxnxnSTDfiV7uGN8fdL+Sv0dhcXy2G+eeefepS334NaNni/TR5wlo7WFAHBEAABEAABEAABEAABLIEAQhdd9sEoeuOG1qBAAgEP4HbWujK7c2WLZuIVuT7dVnyZs+eQ/mTzbP7fPeuXaFb/O8o3ApKFO57+9fQS9GLdE8RR+suvncA1SlQkl5W6ryr1NUr6RW6J0+eoLZt23l1rY52ff75533utFULWpky2a7Q7d27j27Eq1boupkDp2fu33+AWIt6HBmJyxG3LVq0EM9lXfVragjqlNQyBbWbt7uVcJX36GqjZfXGkvfixsbG0JQpaXcOW/Uv+5kwYaqnS75Xd/r0qR6Zyw86dXqQWrZsQ9pIYpbAUvq6WT/agAAI3D4EipeuQI1aPygWnHT2tIjUvXb1CuXKHSIieCMKFBLPtqz6juKP+vduT7uUIXTtksoc9ewKXZ7tm3M2+shWGRmrJ3pl3xz9u2u999UC6nTMMuJXRudqBTCPbTaOJClTLv+6YoFXpHB6SWvv0FX350+hq5ap2n5lWmY9Satdn5yvmdDVCmjZP4Ruek8L2oMACIAACIAACIAACGQ2Avz75owoHNjh7xIVVUS3S/7/3YmnT/t7OK/+IHQDihedgwAIZGECELo2N8+O0FXL3HH7VtGoXUtE791L16RK4YVpY8IRypcrN9VSInSHVW1BBXOH0dd/7qTem2bT9ZveEcFyWukVuuo7c2WfajnLz/WKvDPXqdCV9bV9aoWumzlwn2vXrhWRteq0yzLdsjoSV51ymlNAa0toaIhIu6zHx+aRSNtbiwhdJ0J3+PBRFBVViMaPH+ORrFb9y7lyPS68prJly9Np5T+svvhiOh07lpbuVMriy5cv0+bN6+n33/fTwYMHnCwVdUEABECA7ihfjeo3v1+QSDx5jDavXEBN23anAoWLide2rVtMf8XcupSpELpZ65A6Ebp6aZfvf+x5at65r24qZjOhK9M0q2WvjMJloXvsj/0+IPneX7O0y4Ein5mFLqddbtmmIt15ZwEqWCivQFCgQJi4GxdCN1AnAv2CAAiAAAiAAAiAAAhkJQIQuu52C0LXHTe0AgEQCH4CELo299hK6Krvxx2ryNxX/pa50+7uSs9UbOIzyg1F4I7Zs5ze3JuW3s6oBFroWi1fpjC2G6HrRujanQPX++ijj6hJkyaetMvqdMvqaGMpdK365jt/GzVqZFXN8LmVcLV6LjuWEbTaSF677dUTlBKZI3UnTBjrecSvP/BAF+X+6LRvB7LcjY09TIsX/+ARv65BoCEIgMBtQ6BslTpUu3EbsV6+riDX39843rl5JcUeiL6lHCB0byl+x4M7Ebp6aZdfnPYD5QkN80mRzBMxE7pS3uoJXbNFQOiupLWr06LvOU1y9551xL/v2xOvfJHsovj3SlWKUNlyURC6jt8NaAACIAACIAACIAACIBCMBCB03e0qhK47bmgFAiAQ/AQgdG3usZnQZZm7ps0zVDmiCKkjc6fW70qDKjWhXWeP0wvRP1LDqNKUS0nnfPHaFVpy/ADtPX/CcvRAC10jAaudWCCFrt058JzUApfTLvfs2UNJJ9zJ515df6VUttqgNm3aU4cOncgopbLdO2rHjk1LsRwdvc1ryNKly1CJEiWV9e0jTh+9adM6W/KVo3253Zgxo3xSKvN9uhUqVCLZN4vdqVMn2urXigeegwAI3B4EKtdqRHfVbeZZ7G87lMj/XVtu+eIhdG/5FjiagBOhyx3zfbmXUy7Re4P+zzINspnQldG+ekJXL0Wzo0X5uXJmjNCNigqjTz5/RKz0yce+osTEf+7TRsplPx8AdAcCIAACIAACIAACIJClCUDouts+CF133NAKBEAg+AlA6NrcYyOhyzJ3/X3PEt+Z+58D6+j5HT+IHmVk7p5z8dRy5TQ6cyXF5kje1QIhdHmELVu2UGhoKH366QyaPPlDr0H5flsue/fu8bzub6HrZg5yMjLFMqddvvfeliLNsDoFM9fr2vUhev3110QTvXt9WQyvXr3a1Z6oG8lUxtpoWFnnjTfGifuZR40aZjqW+g5cs4pffjlTSF8pZY0ErxS6EyeOMxW1MjJ4y5aNNG/enHTzQAcgAAK3D4G76t5DlWs1VkTuZvptx4ZMsXAI3UyxDbYn4VToylTJk4f3otrNOximW+YJmAldjuyNKlaKuJ/jsWnXD5jdoWt3QRVrNyZ5J6/dNlb1MqPQlXferl8TQ+Pf8s40A6FrtaN4DgIgAAIgAAIgAAIgcDsRgNB1t9sQuu64oRUIgEDwE4DQtbnHRkJ3Y9vB1KRQmYDIXJ5aoISuTF3MUZ9jxozxkpufffaZIgzr+NwvK+/B1Upgtey1m3KZ1+ZmDtxu5MiRSmRuTxGVW6VKFTJKmyzFL9d76623PYKahfXEie8LEbxq1SoaNsxctlodESlPpWyV9Y1kKb8eF/eXTzSu3jhGKZdlZHBsbAxNmZIW3StLpUpV6KmnnqPk5CR6442R4mUes169BjR9+lQvwSvTM0PoWu0ynoMACGQFAhC6WWGX/pmjlK5jB7SjpDMJlpNnYdr/tanE99xWa3ivqM/RunpF9r1w+njavOQbTxXZR+KJOK+2EQUL0wtTvqcrl1MU0fuIz3z4udkcpSTW9mu5KIsKboTum+Pup3oNSvukPeY0yX37NaDYPxJp8MB5YmQpZ5ct3k+TJ6wVr02Z3l2kTX6g9X+96sh7cWWb7b8epddGLvZawXuTutBd1Ysh5XJ6Nx7tQQAEQAAEQAAEQAAEgoIAhK67bYTQdccNrUAABIKfAISuzT3WE7qVlKjc3zuNoKXxB6jDzzNETx/W70KDK91DHJl778qPKPHKP2nobA7lVS1QQlctNXnAI0eOiHEjIyPFHy5acbt27VrxjAXqyZMnac+ePTR69GhyK3TdzIHnxe1mz/7Swyk6OlrMQVs4Svell14UkchyzlynaNGintdGjRqV7khdFqiPP/6kGH7//r2UmpoqOFWpUk25U+60SGeclHRePJeSl/99+PBnLY+E2R26I0eOoUKFCokxDh/+XfQVEhJCVatWF/fkLljwNW3cuE68LsUtS94NG9Yq6RFPU6lSd1Djxs1EXatIXsuJogIIgAAIZAICELqZYBMcTEFGxR7Zv5M2L02TriXLVaWzp455SVh1l5x2mUu+/AWF2F38+Qe6I0qheyU1hXZuWEoxe7ZSVNFS1OSBnqKtVvRyJ3I+F86foU0/zaXEk3EUli+CGtzXlcILFNIVvdxOSmI5EX+mbXYjdNXidt5Xafdat76vElWrUVz8e3x8UrqELvfx7aL+FBKai2bN/JVWLDlA1WuVoI6dq1O58lHidb3o3Z9WPS3Gl6JY8tKTyg6OEaqCAAiAAAiAAAiAAAiAQKYlAKHrbmsgdN1xQysQAIHgJwCha3OP9YRu5fDCdKDTy7Q8/ndq//N0mlSvCz1X+R7an3SSWqyYRgmXL9rs3bhaoIQuj8hi9IUXhotoXHU5efIEzZnzFXGkrrqwIB06dIhH+EqR6lboupmDnI+MIuafx4x5U5GX3+pC5Dk/9tijVKZMGa/nHLX78ccfp1vmyk5Z6nbq1FXcWysLp2HmiFgpc/l1TpXcp08/IWHHjXvd8nyYCd2IiPzUrt0Dok+WsupxV69e7hMBzFG9rVq19arLgnfhwm9tRQtbThYVQAAEQOAWE4DQvcUb4GJ4mUZZ3XT3xuU0Z8II3d7U9dUpk7WVpdDlvqrUa0a5Q0JFFRa8axbMpNXz076Ipy2NOzxMrR9+UkhfWVjw7ljzk6E85nrqCN2PR/e3FXFsB5cbocv9yihdOQZH5f7v4830xFONxUvpidDl9nXrl6LhI1pTZIE0rlx4jNdH/ERjxj8gInwfffgLr/t1IXTt7DjqgAAIgAAIgAAIgAAIBBMBCF13uwmh644bWoEACAQ/AQhdm3tslHJ5U9vnqHGhOz29HEg6Rc1XTPWLzOVO3Qpdm8vyVJMRrkePHrWUnHz/bGRkAUOJ6nRsWd/JHJyOwfK6fv16otm2bdu97gd22pdZfb5Tt0iRYhQTc8hL5KrbsIhVS15/jM9COW/efKbjynFk3VOnTpjer+uPeaEPEAABEMhIAhC6GUnbf2NxOuOy1dL+jt61fqllx2/O2UiJJ/6iScN6GtbV3qFbq1l72/1zRY66DQvPTwlxRzz37FpNjMeI3bfdbzLXajyr5+UrFKJSpSMp7ug5ijl82qq6q+csdsMjQmjvruNe8pbHDtSYriaKRiAAAiAAAiAAAiAAAiBwCwhA6LqDDqHrjhtagQAIBD8BCF2be2wkdMNz5hFRuSx1N50+QpMPbKCL16/Y7NW6WkYJXeuZoAYIgAAIgAAIZG4CELqZe3/8Mbuug16lBm0eJKu0xlqh64+x0QcIgAAIgAAIgAAIgAAIgAAIOCEAoeuE1j91IXTdcUMrEACB4CcAoWtzj89M7EU3c+awWds/1bKlXKGCL3/tn87QCwiAAAiAAAgEOQEI3eDd4BJlq1CjDt2FzP09ehPNfGuw6WIhdIP3LGBlIAACIAACIAACIAACIJBVCEDoutspCF133NAKBEAg+AlA6Nrc4/PDO9C1OwvZrO2fajljEyj/B9apB/0zGnoBARAAARAAgaxNAEI3a++f0ew5/XH/16aKx2b366rbQ+gG51nAqkAABEAABEAABEAABEAgKxGA0HW3WxC67rihFQiAQPATgNC1uceXG1WgC70a26ztn2r5vtxEeX6N8U9n6AUEQAAEQAAEgpwAhG7wbnCrbgPowPYNtu+z5fqJJ+My1Z22wbs7WBkIgAAIgAAIgAAIgAAIgIAeAQhdd+cCQtcdN7QCARAIfgIQug72OCOjdHP+eZryT1jiYHaoCgIgAAIgAAK3NwEI3dt7/7F6EAABEAABEAABEAABEAABEMhMBCB03e0GhK47bmgFAiAQ/AQgdB3s8Y3IvJT0TGu6Xjy/g1bOq+Y4eZ4ipq6i7OcuOm+MFiAAAiAAAiBwmxKA0L1NNx7LBgEQAAEQAAEQAAEQAAEQAIFMSABC192mQOi644ZWIAACwU8AQtfhHt/MmYMuNypPqa3uouuFwh22Nq+e43Qyhaz+jfJsiaFs1677tW90BgIgAAIgAALBTgBCN9h3GOsDARAAARAAARAAARAAARAAgaxDAELX3V5B6LrjhlYgAALBTwBCN8B7HFWoMCWeTgjwKOgeBEAABEAABEAAQhdnAARAAARAAARAAARAAARAAARAILMQgNB1txMQuu64oRUIgEDwE4DQDfAeQ+gGGDC6BwEQAAEQAIG/CUDo4iiAAAiAAAiAAAiAAAiAAAiAAAhkFgIQuu52AkLXHTe0AgEQCH4CELoB3mMI3QADRvcgAAIgAAIgAKGLMwACIAACIAACIAACIAACIAACIJDJCEDoutsQCF133NAKBEAg+AlA6AZ4jyF0AwwY3YMACIAACIAAhC7OAAiAAAiAAAiAAAiAAAiAAAiAQCYjAKHrbkMgdN1xQysQAIHgJwChG+A9htANMGB0DwIgAAIgAAIQujgDIAACIAACIAACIAACIAACIAACmYwAhK67DYHQdccNrUAABIKfAIRugPcYQjfAgNE9CIAACIAACEDo4gyAAAiAAAiAAAiAAAiAAAiAAAhkMgIQuu42BELXHTe0AgEQCH4CELoB3mMI3QADRvcgAAIgAAIgAKGbZc9ARMHCVLZaPdq1fmmWXQMmDgIgAAIgAAIgAAIgAAIgAAJ6BCB03Z0LCF133NAKBEAg+AlA6AZ4jyF0AwwY3YMACIAACIAAhG6WPQMvTvuBooqVonULZ9Hizz9wvI5ew8dTaspFWjDtLcdt0cCaQM8+dalM2Sia91U0xRw+bd3gNq/x3qQutH3rUZr75Y7bnASWf7sQuN3OfPkKhaj7I3WoVOlIscVxR8/R3t3HadHCfQHZ8hGv3keXLl2hyRPWpqt/OW/uZPxbK9LVFxqDAAiAAAg4IwCh64yXrA2h644bWoEACAQ/AQjdAO8xhG6AAaN7EAABEAABEPibQFShQuLfEk8HVjzxOEZjJCaewn44IJBeoTt04lwqXqYSjeha18Go/q/K4vOuasWoYKG84hf8mzfG0trVh/0+EP9y36lc5bkVKRruSggMGd6C2t1fld59Z6XuetTrPnjgFO2KPma67qioMOrSvRZVqVpUsPnr6Fn6SREhdmSxm7U73QCWHg90rma5DqN+f1r1NMX+kUiDB85zOrRPfZ5LyzYVBavQsFzEfDesjaEd2+LS3bdeB/2fbkyHDybYPreS1ezPtlJi4iXTOckvBrAEO3P6Iv2274Sp9OZzZ1ROnUy+JcJcvo+czsvtmW/RqgI1blpWiEM7zNwcCrmHlaoUoZRLV+nA/pP0/bxdlvupHsvOme+ovKfyhecx3Tdeb606JU2XYSQ1nXwOyf24884Cjj+veZy+/RooXyK6SvHxSWKuxYtH0L498fTayMVutsCyzZTp3alsuSh6oPV/veo6PY/M96VX2qTr8yk9f5dYLhQVQAAEQCCICUDouttcCF133NAKBEAg+AlA6AZ4jyF0AwwY3YMACIAACIDA3wQgdLPeUUhvyuVbLXRZDvz7P12oeIkIij+eRKmpV8Uv+Lk8+dhXjsSI1e7JX8gvW7zflpytW78UDRraXMyNi1YIWI3Hz42Ernrd586m0Nmzl8S6Q0Jz0ayZv+qKG57PK2+0E3UkKxYVLEfeeWOZqah0unY7a9PWkWvl1+0y1vZhR27ZmRvL1fs73iVYsSDmwqzSMzezcXk/P/n8ESGp7MpoK9nP4+mdkwIFwiiyQKg4Ay//63vd9whzNCrr18TckghDKdaM5qUn8t2e+TfH3U/1GpQm+d6SzIy+WGHnTGnraOVkSEgu8Vnh9OzbOfPMjj8fzD4T1e8/o/VoP8Ocfg7p7Yf83Nr+61FLKfvtov7KZ/w1GvLUPK9zy/Ow+lKDmz3iNkZC1+l5TI/Q9cffJW7Xj3YgAAIgEAwEIHTd7SKErjtuaAUCIBD8BCB0A7zHELoBBozuQQAEQAAEQOBvAhC6t99RuNVCl9ON3lW9mI/E5Mg3O1GnTnZMjvXow1+YygOWCwMHNaVmLcsLWcoCggWaP4WulAlqeauWK1rxJIUhr1ctb6Vg4dfNZI/dtTvhKeuy6HhS4SUloxupJfuyI7fszJGFLkcQTnp/jWevzfja6dOsDo/XVYmc/mjyetupY1lunVVk/oC+cwy7ZknX4t4KNG9utJfkl8LSSKL5i2N6udhpz+/1yR93I+1a3J55uRfa/vz5mcLvu7f+3dFHqrsZw2qv5FjpEfGz5z8mtqJ3t8+9tsTp5xDXZzk+YfwqzxdI1O8roy+j8KByHf6KwLdztriOkdA1am90Ht0IXX/+XWJ3vagHAiAAAsFIAELX3a5C6LrjhlYgAALBTwBCN8B7DKEbYMDoHgRAAARAAAT+JgChG/xHoVaz9mKRCXFH6HjsAbqVQje9UaMsCMIjQig5KdUyja7RL+n1dlxGurFAmT5tI40Z/4Buyk69tto56UVhSrHx294T9OLQ7726kc+0MkpKqgVKOtdP/7vZq418ZiRTnKzd6TtASjeW3p8orLhwWlI7UYrctnqtEqLN3l3HhXi1kltc18m+a9fDqWufGdLM1vycsDASZkZ9yOhOMwEm2xpJQmbFXzh4qOOnPsPY4ehkfWZ1+X0si9xHJ31LOT3kqfleX+Jwc+bdREo7mausaydiVq9fN2feiI/deRudNTefQzym3nmUn+V6n2lynm6EKLdVM+N0/FZf9JHnUdZ1KnSNeGvnr56X0fUA6fm7xO7+oh4IgAAI3A4EIHTd7TKErjtuaAUCIBD8BCB0A7zHELoBBozuQQAEQAAEQOBvAhC6WeMosJR95PmxXpONP3KQJg3rabiAirUbU4+hb1G+/AU9dXZvXE6FS5axvEO3cYeHqcF9XWnPppW0ev4Mv0FyKypYRAwf0VpEhMrCqVXVUWPaSfL9sRxxayflKv+i/s6yBT2S2I4Q4DZS/MqxORKNpYJ2XCuRrSfqzNLzWskUJ2t3s7k8vhQaVmuT/bNk6t6zjkiJzIXFJEeh8v2aRhF8bvZdux6783PCwY0knjGrlxLpGJqutOJm5zIjhK6M+taysiPzZRszAevmzDsR5U72WF3X7Rck3Jx55vPFN4+m695WI/ls9V4w+8KAHjujMye/gFGhUmERxc6pwvmLDLIYSVpe+9AXWorU2eoi22slqt7nA38ph+9Q1rtDV28NZudRLXT5Pm6+G10W/vyaOX2LT3S+m79L3J5LtAMBEACBYCYAoetudzNK6BYtVU5M8EzCcbp6OdXRZPPlL0B5wwsYtlc/t+r4YvJZunD+rKhmp526fq48IVSwcNoXTc3WUUCpk1upq26rNy9mkjtPKF25nKL8SaWzChttsTum3XpWfPAcBEDgHwIQugE+DRC6AQaM7kEABEAABEDgbwIQulnjKMh7c+VsWe6aCV2u/8KUtEjQLcvm07E/9ot/b/ng40LmchnRta7u4kuUrUJDJvyTEvbTN5+lQzu9I0TdUmOpFaoIPU4DypLk7kalKW++PBS97S/DiFuZYpgjQr+atY2Sky+LeytZDnLRSzssf0lvld7WaB12hK6swwJh88ZY0VXjpmWFzOWiFslWIkVvPKv7Vo1kSnrX7nRvrdbG/ck6LOHlHoaH56FH+tYXkt7sLlUn+643d8lRGw3qdJ3q+nK/rFJ5yzZy/elJoct98Z4zQ20aXfks0KltOYKWy+GDCeKfvIddutUS70c7kcfcRu6HXqpqN2defnmB9/ecci9143vKUjnls2VX9DHPlw7Ss9fcVgp8uUbez1p1StIfh0/T5g2xuunc3Zx5Kz521mF21qzeq3Y+97RnWi8FuNVdtUZfsuG/H/gscdTvooV7xVD8c6cuNWj1yoNemQrU6bkXL/rNcya7P1LHc3e2nZT5ZudR8uJ5sFT+fv4u8fePFNUsdV/610LTCGInTO3sL+qAAAiAwO1CAELX3U5nlNB9sN+LYoKbVnxLJ+P+cDTZpu0epiIl7hRt9kdvogM70zL+yFKjwb1UoVp9W30e3reN9vz6s6hrp526PgvYJvc9JNqeTThBaxbN0h2zZce+VKBwMVK3VVe8o3w1qla/OYWG5fNqn3LpAu3bto7+itnn9Xqbrv0pXPnC9anjf9LGZd/ojln3nvZ0Z8UaxH2s+n6mY2luCx4qgcBtRgBCN8AbDqEbYMDoHgRAAARAAAT+JgChmzWPwvgFO0yFbq/h46lm07a0buEsWvz5B16LHD1zpYjaNRK6LINHzVjmaTN5eC+RqtkfRUrIDWtjRGSmurCMen3ETz5yRP5CXCvkzMSFXtQe98Nl8MB5lkux+iW8FDx66UZlFLJaWhilVeaJsJiY/HF3nzt7zdIqm91Nmd61W8LRVLCSRFxdippXX17kJe5l5KOeiHSz73JqzKdEyfzUoNGdVK1GcZ/7aJ2uUV1fL1pTSiEjgaQXmc7vBSeRrZKz2R26LHtTFMnEEowLC6e1Px+myRPWpmfJpm3N9lCvoVmqajdnXp4TPluvvNHOEwHOY1tF8duFopZ+UmDLtjLSfO6XO7y6c3PmuQMtH7nvdjINcHuzLAhuPoeMGEkmeiLfKkJXL0230T3I8jOS07OrixT5einpmaHdO9DNzqNayg95ap7X303q1Mrj31pheJSs/i6xewZRDwRAAARuNwIQuu52PLMLXY487djrOSEqWYAmnz9DKxd4XyVSrmpdKq1IUnVhocqF61+7csXz6IQik6UQlkL3qvL8glJPrxxV5Oof+9P+m00tdPlnPbnMr5sJXSleuR6viaNyc+bKQ+GRUR7Bu2vLKs+Y2nH1hDhHBLfs2FvMcdu6xT5C2N3JQCsQAAEI3QCfAQjdAANG9yAAAiAAAiDwNwEI3ax5FKyErpS2Ywe0o6QzadF0sti5Q1emXP51xQLavET/m8NuyMmUntyW0+2yBGGhOXBQUxHZqpVVUhYZ3dPIv4xngTWg7z8Rxdw3vx4SktPrrlF/Cl0pTZxEGUrJoJaavPZ//6eLR8CphaBcO0sptUyQEcuculhPhDpdu5QvRvtpdV+xldCV6+AIN+0+8Zh6kcZu912u4dtF/T1ij8/U55/+qhtF52btcu/V+2gmdI3W4lToypTNRhGB8nxHb48T0Yosddu0qyL+qSe93Kzd6IzYTfcsv2ygNx/u282Zl8JMyuvZn20V4k2OpRfR7HTtcn95jD9iEum/H24Q54nP/pPKZxeWlfd/AAAgAElEQVTLQ/UXTtyceV6/Hh8nQtfqfSM/G3m+dj+H9Pacx3n3P53JKgOCkzt0pQC3G0kvP0/1ouTtSlSr82g2f7Mv1aiZ2Z2Lm79P0QYEQAAEgpkAhK673c3sQrdK7aZUtU4T+vPQHipSsqyQnmsWzdZNT6wmYCciWApds2hbdZ9S6LIAzpU7N/E/l83/2Cca1kjocmRu/eb3iy71ZLBcKz9fsWCGJzU0/9ywVWcqcWclIYGXfv2R12bL8eyuw91JQSsQuP0IQOgGeM8hdAMMGN2DAAiAAAiAwN8EIHSz5lGwErr8/EpqCr3Wq6nPAu0I3UBRkUL3nTeW+aRYlr/QV/+CXh2VuGrFQZ9pcZQvCyu1CDWK3GUBcFZJyeqPCF11VOCObXFe8zJKG6sVsdyoePEI2rcnnspXLOwjoPm5FA4skuLjk8Q4fDckR3byfY5a0e1m7VbpUa3S+FoJXav7fvVkoJt91x4OluWcfpcjKvnu2skT1/qk4HW6dqN01lLy6kXo6qV0leLNboSu7N9uWmPJQp2W9qGO3tEPTtcu++TodE5pXKlKEQ9yPpNW54Qr27lH2OmZl+vQYyOjOLVfvHC6drmHetHRMlpfnU7bzZlnPnqpvCUPOxG6du7OdvM5pH5vyS+h8HtK73NcXdeJ0DVLJ67395HZfb92JarVebSav507h+3OJVB/56JfEAABEMiqBCB03e1cZhe6Mt0wR54WLn6HSCvMcnfHhqWmCw6k0OWBeQ48F700yEZCV67FbP4yvfTxPw/SL6sXetbIkcrtuj0lRLJaBktJzHJ5zaIvvCSwuxOBViAAApIAhG6AzwKEboABo3sQAAEQAAEQ+JsAhG7WPAp2hK7RHbu3WugaiR89GaG+w9Bsp9Qi7b1JXeiu6sW8Iua4rd0oQq5r9Ut4s+dm94CyyHtAEWIsw1IuXaXtW4/SiiUH6ItvHvWRs3K9zIDv5i1VOpLOnL5ILLb57tJnhjTzibx0s3an0YrafbArdI3kpZnQtXp32rkjkwUU8/VHpKZRSmCz88DRwnwPsPreWytm6nVLoWeUatmKkdGXD5zuO3McM/4B8YUCjrbevfOYZ2j+coGV0HVyj7CTM2/GXspW7dlzunaz97Q8X+r1W+2v3pk3Sodsda+w3AQnd2e7+RyS4zj5coGVEFWfXSefz1af51af39zeznm0mj/PmYvZ55CduVi9h/EcBEAABG5HAhC67nY9MwvdfPkL0H1dB4iFfTfzPZLyUi9KVbv6QAvdRXM+9AhWbRpkPaGrXos2+lY9d44C5vuCLyaf90q7zHU4tXStRq29IoPb93hGRC0b3dfr7lSgFQiAABOA0A3wOfCX0M2dLQe1i6pJDxapR8XzRPp11vGXz9G3p7bRisQ9dOXmdb/2jc5AAARAAARAIKMIQOhmFGn/jmNH6GbGCF2WWxxpqhclqycurMSIHlX5S3Yz4laRkVa/hHcToWs0H7O7KI3aGN0v64+1Oz2pVnvkJlrRqk+nc7TaT7v9WUV2cj96Ys+qf6Poy/TKXB5XztlOhKfZPOU51Xvv2JFxRl82sGIjnxudedmvnlTz1zmSIt+IoXb9bs685GvFw0gemt0/bNUnP7fzOeRE5nKfVkJUPa+MjtC1cx6t5m9nzv767LGzh6gDAiAAAsFEAELX3W5mZqErUyKro2A79h4qolSt7ooNtNBlwSxTJLNgXvX9TE/qZT2hK2W03h3ATnZO9s0RvJcuJFGFavV10zA76RN1QQAE9AlA6Ab4ZPhD6BbKFU5jK3SjO0KiAjrbP1MSaXTMfDp9NTmg46BzEAABEAABEAgEAQjdQFANfJ9WQje9d+jyCirWbkyHdm7262LMfrmt9wt2O3dCaifIYkKvcBQhR2n+svkI7Yo+5pN+V93G6pfwbu7Q1ZuTTH/KEZzqe3LNoEvJp3evsD/W7nTDraSZm/tE3ey72bzlfZt2Inqt2BcpGu5TpWHjMuIeVZadp04mi7uhuchISG2DQoXyUr0GpYX8PXjgFP20cJ/PHb/+kLk8rpEIdbrPeumAZR9WQje9+2l15vm9rSdb0ys55frMzrheZK2bM89j1KpT0mdbOJqfo6I5Qvu0EqE/ecJa3a3Tuzvb7h7b+RxyKnN5bCshqp5fRt6ha/c8ms3fStrLtVn9XWJ3j1APBEAABG43AhC67nY8MwtdGX26a8sqT7SqvEtWm5JYu3onQteMHItbWeQduvyzfF0vjbKe0HV6X6/RnAoULkEtO/YWj1kkc3SuNkLY3UlAKxAAAS0BCN0Anwl/CN3/VOpNlfMWD/BM07rfeyGOXjw0N0PGwiAgAAIgAAIg4E8CELr+pJlxfVkJ3X6vTqHKdZrQuoWzaPHnH3gmxpK270vvU+6QUBrRta7hhF+c9gNFFStFiSfi6L1B/+e3hUkxo73vUqYL1aam5YHNomG5XWLiJVvzs5JO6k6sfglvJJjk/ZJ8r69VRCT30b1nHTGs1V2UXIf77v343eLuXE55+/K/vg/I2m3BVFWyErpcVQrVV19e5HV3suSol67X6b6zvPt+3i4fJnbFi9N1Ozkv2r6tmDmVufK+4EWKGFYXKRv5vAzoOyc9SzQUw3IMs5TLUgZavSe0E7Rz5qWc00tJ7S+ZLc8w/1OdOpt/NopsdXPm9TbITspleV6sMg/o9W/nc8iNzOWxnAhds3uK9T7n5ZwWKO/5T//7zxeP1HcEG32Bw+55lPPXe//YZWL1d0m63pRoDAIgAAJBTABC193mZlahqxaXnN746uVUsUD1nbGLZk8yXLQTocv3z144f0a3rzWLZnle1xO66tfWLJpNZxOOK8K1LxUoXMwrDbK/hC5Ppu497cX9vVz07vB1dxLQCgRAQEsAQjfAZ6JAwUJ09sxp16N0KFSDhtzRznV7Nw0n/LmEVp7x/iWKm37QBgRAAARAAAQykgCEbkbSdj9WrWbtqXyNuz0dNGjzoPg/qr9tTYvWOncqnlbPn+F5XqJsFRoyYQ5x2uU1C2ZS4sk4iipailp27SfqmAldlr79X5vq6eurD0bRrvVL3U9e05IjsQoo0YyLF/1Ghw8miPtgu3SrRUYSVP6CnrtZ+/NhEV3LpfV9lUSUo1YSGk3UTOhqIynVEZeyP20UpRQ2LFF4TnIdvLaQ0Fy6QpfFxH0dqlCnLjVERCeLgmmT1nlJTu385dxa3FtB9MuRuePfXG5b5nJ/TmS2nY1mCSQjVbXRptxeHaXKP0vhxOv9fv4uSk6+LKIR5Zr0ZKCTfZfiJTXlqtcZkWPwHOxIcztr16vjVNqYCV1576tci9542rMoo9tZavIdy1z4/cRfGDA6i07XKqNdea/+9/FmOn8ule5uVNrzpQTu76V/LfSJNDb7sobRHJyeeXn/9vo1MbR5Y6zotmPn6uIubTeSU29ecl94/fO+ihZV+HwZ3R/s5szrjWtH6DoV104+hyRb7b3J6rkaRQ07EbrqL8PwZ9za1YfE5wTfH353w9K09ZejNP6tFZ5hpcjn98m8udHis1Seea7E515P6Do5j+o73Hnflyp/Z8nPLvnFGu0XJdz8XeL0vYj6IAACIHA7EIDQdbfLmVXoSmnJUajHYg94LY7TDHNRR+5qV+9E6J5NOEFqcWtEUk/ocl05V5lOWU/oyrZ27v+12slceUKoY6/nRDVE51rRwnMQcE8AQtc9O1st80cWpOSkc3Tjxg1b9bWVJlbqRVXzlnDV1m2j/ReP07CD6fvmu9ux0Q4EQAAEQAAE3BKA0HVLLmPbdR30KrHENSrxRw7SpGE9vR437vAwdeg7VMhbLlLuFruzAtVs2tZ2hO7Ho/tT0pkEvy2Yf6E+ZvwDIo2oLJwK+atZ20gbYSifs9x74qnGXm34F/n8S/7p0zbakptmUlP9i3ujhWqjC3lOg4Y2FxJBFhZKe3cfp2eGNNMVunyHMIsGlgMb1sZ4UvMajSmjH/m5lHVrVx92vBf+FrpWd8nqCVrtHaG85xPGrxIMU1Ov6t6r7GTfue4jfesLiacuUkDu2BbnmJvdBv4UunbuUtWeRRnJKgW5+n31ifL+cHNm9NYu5Z58JmXaBUW89RvYyEe6cT0pQrVR+f4+83pz4y+AGMlGu3urriejWfk9LAu/Lye9v0b3M8jNmdfOy0roskB89z+dad+eeHpt5GJby3LyOWT1XucBjSJhnQhd7ofP8dAXWoov6qgLC17++0H7HuazxedO7oc8j2XKRlGzluV15+XkPMr58+d6qdKRXn//8OfK6yN+MswIYLYRTiPVbW0qKoEACIBAkBGA0HW3oZlV6Mp0y2arMotOzUihy4K1dZd+Iv0xS+bS5av5ROjmy1+A7us6QCxnxYIZyhetz+oujcVvkRJ30sXk854003oV7azP3YlAKxAAAUkAQjfAZyEiIoJSUlLp6tUrrkaaX3Mw5c0RYtg2slF5KjOsHeUqkFe/zo2bFDdzPcXP/cX2+Bevp1K33VNs10dFEAABEAABEMgMBCB0M8MuBHYOHN3LxWmULbeL3bfdrzJXvVIWEfxL8uSkVNMI1fS2CSxd5VvcikgMjwihvbuOW4plFgRxR8/5RDGazZEFxOYNsZZ9B3qd/uifhU31WiUc7TmP6+SsyDG4nZ098ce6MlMffMa4OD1ndtdgtIf8Ohe9FOhmz/TGdXvm1XvvL4mtNz/J2M75cnvm7e6HrMfvkZjD9jJcufkccjqf9NZ3wljWtbvnTs+jmjH/nRWo91Z6maE9CIAACAQTAQhdd7uZGYWuTKvMK+IIVG3JGx5JtRq1Fi+r0zGr69kRnk7TIBtF6PK4cs4cgZt68YKP0OU6MnLXTETLOn8e2kM7NhhnvLKzPncnAq1AAAQkAQjdAJ+FkJAQypEzJ128cMHVSEvqvGDYLqJeGao8rjtdPXORUo/55tTPnisn5a2advduUvSfdOi17+iGEjVgp3SIft9ONcs61avXoFatWlKZMmVF3SNHYmn16jW0d+8ey7ao4F8CvBf169cTnX722WeGnXft+hDVrVuHwsLC6NKlS7RjRzQtWOD7Hyr+nR160xIYOXIk3XtvS4qJ+YOeeeaZDAXEZyAiIlx3zG3btuP9m6G7gcGcEIDQdUILdUEABEAABEAABEAABEAABEAABAJJAELXHd3MKHQbtupMJe6sZHo/rIzg3R+9iQ7s3OizeDvC059ClyfQtN3DIrpWlsP7ttGeX3/2/Ky+F/j4nwdpx8ZlnruBOcq3btN2Yt18p++aRV8YRvFyh3bW5+5EoBUIgIAkAKEb4LOQPXt2yh9ZQLlHN9HVSGZCt9I7D1H++mVpV5+P6UpCsk//uYtGUK0vn6KbV69Ttlw5KGn7ETo4+lu6ec06/bM/hO7EiROpSZMmFBqalh5RXTZt2kRTp067JWKoVatWVLp0WvorM7HpasMsGklRlpSUnOGS9PHHH6fnn39ezLBWrVo+M+W5PfbYo4p8L+Pz7Ny5czRz5swM5xWIPcgqfS5cuNCzF3r7Fch1qMfWG+fIkSM0adIk5csZqwM5jVvWd6VKVahw4SLiCw2nTp2gY8fSl9qyZMlSVKRIMbqofBvy4EHvO1bUi6xTp77nixQxMYcoKen8LWOQVQeG0M2qO4d5gwAIgAAIgAAIgAAIgAAIgEDwEYDQdbenGS10+Z7Za4qw1JakcwmeiNSOvYdSrty5Te/I1d5bq+3PjvCUQpcF6gVlXnrlaMw+T+pjswhdbstStl23p8TcuWiFLr9WrmpdT3Qx/8w8uITnLyj+yXPZtWUl/aWMa1bsrM/diUArEAABSQBCNwPOQr7wcLp29Zpyp1aK49HMhG6NmQMoR0gu2vnIR7r9SqGbuGIf5cibhyKbVKCz6w/S4bcWEt00n0p6he7y5cuoaNG0e79SUlLo5MmT4t8jIyPFHy4nT56gYcNeyHCpy6K5deu0FBi3SpSxEOvcubPj85CeBmZCd8iQ56h//7Q7E+TecKpwLmrBO3fuXBo3blx6poG2Ngnwfj344IO0Z88eGj16tM1W/qkmhS6LfP4jS2hoiNf7etSoUUEldSMi8tOjj/ansmXLe4HcuXM7zZr1P9dwR44cQ4UKFaLjx4/RhAljffphgdyr12MUHv7P3ZVcacuWjTRvHu4zdwIeQtcJLdQFARAAARAAARAAARAAARAAARAIJAEIXXd0M1roGs3ybMIJJSp1lpfwNEqnzH2oo1317qS1Izyl0DUjp5ayVkKX+6lSuylVrdNEdKkndOXc76p7j1c0L7/OqZh/27GBziYct9xMO+uz7AQVQAAETAlA6GbAAeEo3QjlkvEk5WLxGzeso2PVUzITuhx9y4UjdPWKFLqnl++lI/9ZTlXe60H5qpWkM2t/p5ixPxIp9+salfQI3Y8++khE5nL58ccffWTU22+/TZ06dRLPOVI3o9PJQuh6i2yOWB47dqyIpGbJPn78v70kHT8fMeJlIfJYzgebxMuAj4AsN4QUuqtWrVK+dDHMa/4smp9++mlxXqKjo4l/DpYyfPgoKlGiJMXGxtDGjevEslq1aitecytXu3fvRY0aNRV96Qldjt599tk0xqtXL1fu6zstonSbN28tJPCaNSuVz9HvggVxwNcBoRtwxBgABEAABEAABEAABEAABEAABEDAJgEIXZugNNUySui6m13wt2JJzOVk3B/Bv1isEASyGAEI3QzasNx58ohf0p9Xot1u3rQIj1XNKT1CN3tYbqr3/VDRW/Kev0SUblj5IuLnvz5ZQyfmbTVcvVuhy/Lvgw8+EP3qySA5oFqq9u7dxydKl/vhP8yMS0JCgiI1FvnUY5lUs2ZN8ZwjR+XP3IbTpc6d+7VXGx63fPnynqhTniOXRYsWeUlMvm+2Z88envH1+uKoVnk3sFZ6cfsnnugn+t6wYaMS5XiWOnbsSPXq1RMRyhz1uH37dvFctuU7UwsXLky7d+/2SW2sXad249Rz4WdGfeilXOa003Xq1BGydsCAgboR07yeGTOmC4lnJOG1c+B16929q14n38fKnCtWrEhnzpxRohHnefaB19ywYUMqWLAgHTp0yGcv+XwwU8lQ/bPenvJr2jZyDF67dg/lPCVr7RlR74H2vPJ54XTERimJtaz4bunJkz/02larPecU2ffckyYKuej1wa87fY9wGzOhy8/llzb4HLdo0UJ7HMkJO5/Gt+gFTnfcp08/IXOnTJnoNQsZYTtx4jhH6ZelrD1+PE5E/eoJ3b59n6Datesp75WvPRKZB+do4REjXqcrVy7TG2+MvEVU0oa9p30Pyl+wCG1cNo/OJZ6wnEtkVDHljpbulHQ2gdYvmWtZ358VIHT9SRN9gQAIgAAIgAAIgAAIgAAIgAAIpIcAhK47ehC67rihFQiAQPATgNDNwD0OUWRYaEgoJScn0bVr12yNnB6hywMU79WIIu8uR/mql/Qa7+KBePrtuS8N5+BW6MroWzM5yIOyIHznnbfF+J9//oWX+FPLXvUEuc93331Pty6nMI6JifGkUpbttBGlu3bt0l0zS2h5ny7Ltl69evvc/ct9seiSKYfVklMrr7/++muqUqWKiHht27adkGpSpmonINM+m0k0yUSbqpml3tChQzxprNV9c91XXhntEbRGKZe3bNki1mom4Llf3tsaNWooUuq4V1Q1z+Hpp5/0pOJVz0EvglOuk8Vw+fLlvNrJc/PCC8OFZFYXlofPPjtYdz1jxrxJL730os+eaVNEqxnws549e3qGkPtgth49mc3yktNna++K1p4X9bnXu6dYu19Ge87n7tVXR4vzpS16aczV/dh5j3CfVkLXKMrdKTtbH4IZVGnw4GFCuupJ2zZt2lOHDp0cR8tyxG9UVCHlvvCJyhcGRhoKXb5fVy8Vs4wYHj78WS8KLIo5cpjbcUlKOkeLF//gSDY7wXpf1/6UT7k35XJqqiJoZ1PyOf07XLjP8MgoatahF+UJCaGLyedo+fzpToZKd10I3XQjRAcgAAIgAAIgAAIgAAIgAAIgAAJ+IgCh6w4khK47bmgFAiAQ/AQgdDN4j/PkyU1hecOV+3RTKeXSRcvR0yt09QaoNftpunntOu1+zPgX7W6FrhRBBw4coB49eliuT1tBnY6ZZeCaNWuoePHidO+9LXVT/kqxxPKMC7fZv/83qlr1Lk/aZ/VcrCJ0WUi9/vproi9ut3HjBkWWJCsyp4NHoLE8lJGnLPNYCqrFsfo+WllXRoaaReg6Fbpqocwi7+ef11B8fLzgJQWjWtLqCV31a+p12d04nsPUqVM8UcdLly4Vc+DIWpl2WytB5Trl3cqrVq2kvHnzUfv27UU/LDZZePLcOdJY3ZdaEKvnzrL3xIkTYr+4r0aNGnmisNWyXt1Gjs+SkwtH6KrXo2bKUeDy3mV1GnF1RDqflyVLloi+WrZs6Yl6VqeoVkdDMwdmFRER7vkCgZqVkdCVXxbg+XN9ZlShQgVq06aNJ202f4lAFqfvEW5nJXT1InSdsrN7xjKq3htvpN0NrRcNy9Gyr78+Vjd612h+Wgk8YcJUwzt0jfrgOfH/+Rs16p+013zf7uOPP0l5lKwPHPHLhaUxl88++4QOHjzgd2RRRUtR8/sfEf2mXrpAa3+aTZcuJPmME5Yvglp07E0hofnEs3WLv6LEk3F+n49ZhxC6GYobg4EACIAACIAACIAACIAACIAACJgQgNB1dzwgdN1xQysQAIHgJwChewv2mO/UDQvLSzly5qSrSjrNq0q07nVFsKbdr+udjjkgQtfi7l1Gkl6haxXtqYfdLOKVn02c+L6Qumqpp44UVIs77t8oitDsDl0zIS1FmlZWa9usXbtWiEk9BrKuNtKW5+tG6Mp0xW+99bZXqmQpxmWEMPdvJXRlhKqTt4RaFmrTNUvZzf1xdLJMPyzXqU3Xq56flp0UiEbr0fsCgRzHqI3e/sj1aKOBeQ3q6HMWxkavSX4858TERK9U0TIaWnu3tEz9/Msvv3gixfWErpqR9rzzlxFklLI6MtnNe8TNHbpO2Tk5ZxlR10q4Wj1Xz1GmS05OTlYi+l8Xj5y05/pNmzanrl17+NzdK6N+1fJWSl5O7axNF+0vdoVL3En3tHtYdMeRt2sWzaYrqZc83ecOCaOWiszNGx4pXtuw7BtKOP6nv4a33Q+Erm1UqAgCIAACIAACIAACIAACIAACIBBgAhC67gBD6LrjhlYgAALBTwBC9xbucbZs2UT0Fd+vy5I3e/Ycyp9snhklnk6g20noqiNb9e7VVQtCKR+lRFJLOwnQKMWwkdBlaTx7dloaarWAtOqPozTHjh0roiNZNnOqYL35cD/+FLpmR1cd6SxZBULoLl++TEh2o3t19eS2mSyUKbHtyHmr6GK986Ruo3fG5Hq0qZola+381GdSO2e9/ZE8WEBrJby2vp7Q1RPb6nYyAlj9hQE37xG1dGe5LQt/UYH/cNGmM3fK7hZ+9OoObSVc+R7d8PBwr2hZozUMHDhIieivRh9//KEnYtaqf3VfUtDy/bkTJ45XsgSc9zweO3ai7r26LJHV9QLBt3jpCtSo9YOi66Szp0Wk7rWrVyhX7hARwRtRIC1SeMuq7yj+6OFATMGyTwhdS0SoAAIgAAIgAAIgAAIgAAIgAAIgkEEEIHTdgYbQdccNrUAABIKfAIRuJt/j20nomokn3iZ1OmSZHtgoLS3Xdyp01fVZiOkVefepNppVLVC5nVH64kAIXeZyzz1NqWDBglSgQAEh3KR047kEUuhKwfnppzNo8uQPfZDpRTUHQujqRRerBb2UrUZnQk5croeFfEpKqs96ihYtKsS97E8dOc6VWX7GxsZSXFyciEiWUcmyI7UA5tfk3c9HjsT68NM72+r7h5955hmf+elFEbt5j8hxjD4eed6TJk3yWp9Tdpnto9dKuNoVunXq1Kc+ffr5RNZa9S95yOhe/lkvhbKUxbGxMcoXSLbRnj27Ai5y1Xt1R/lqVL/5/eKlxJPHaPPKBdS0bXcqUDjtPt9t6xbTXzH7btn2QujeMvQYGARAAARAAARAAARAAARAAARAQEMAQtfdkYDQdccNrUAABIKfAIRuJt/jrCZ09SIE7SI2E0+yD22EpBtZZRShq5Z9VnPWClvtfa7PPjvYKwWy7M/fQlfyVs+XZRvf0VylShXxspnQVd8BayfCVMvFKKJW1jOTknopj91G6Bqli9b2Z1foWu2/OmUyS90XXhgueLPsVRe9yGWOHO7YsaOIbFYXlsGTJk323M/slB33pbc+N+8ReU7lPdbct/quX7O9c8LOqm5GPrcSrlbP0xjlV+5iHiGmrY2stdv+2WeHUaFChZRz8LVyJ/Q6HwQ8xqOP9qeyZct7np0+fZq2bt1MK1cuzRBkZavUodqN24ix+NqAXEqmCS47N6+k2APRGTIHo0EgdG8pfgwOAiAAAiAAAiAAAiAAAiAAAiCgIgCh6+44QOi644ZWIAACwU8AQjeT73FWE7pG96ZqMeuJRBldqL1bVbZVyyqZEtmNrLIjdJ3cJ8tCb+rUKSIqliM7zVIQ+1PoqqMxud8ff1zkkchO0ivLNMDqu4n13hZ6sl7eCWuUolgtBnlOXAIRoauXPlkvotuu0HUjt3ltfK4bNmxIfMeujOY2YsP15d25nKabZbD67OudbRnxbLRX6ntsW7RoIXi7eY8Y7ZH6zuRRo0bpRui6ZXerP4rfeGOcSIE/atQwn6mULFlKEbUjlejrGNM7ajt1epBatmwj6vFngbo0atSUkpOTaN++PXT27Bkf+cqiVsrcJUt+tJSzPKeqVasrYrcclSx5h5IOOoJ27txOs2b9L0NQVq7ViO6q28wz1m871tPvu7ZkyNhmg0Do3vItwARAAARAAARAAARAAARAAARAAAT+JgCh6+4oQOi644ZWIAACwU8AQjeT73FWE7osN2fMmC7kFN8T2qNHD13CUooWYysAACAASURBVEzxPZwsv7joCTh1Y3/JKiOhy2NJQamXQpjXxmXv3j1ea5L3mso0tPI+XT2xZUfo6sk6PZkqGepFgdq9Q5cXouZhlCpavTfq6FS9lMoSjvosqKVmIISunjRVy0d5xqyErhlTXhcLW20aZWZz7txZn9flnbLqaFZmUr9+PSWV7mdeZ0h936/2fmj1fbh6KZXVHekJdH8KXfWeas+pG3aZ6eNXpjL+8suZIpWxurRp0546dOhEa9asVL448Z3htLt376V8njW1XNbx48dowoSxXvWGDx9FJUqUJDsyVzuAjAxmqTt8+LOW4/urwl1176HKtRorIncz/bZjg7+6TVc/ELrpwofGIAACIAACIAACIAACIAACIAACfiQAoesOJoSuO25oBQIgEPwEIHQz+R4HROjOfppu3rhBu/t+Yrj6DtHvuyajjtJlGfX551940siyEHvqqac86YDVcpAHlBKMo9uGDXvBI09Zmr300otCFKsFmRtZpZZ62shOKWc5UnLMmDFekk5Pqqr70t7ry31oUy+b3ROsFqtqGay927dz585ib9QiWb7Gr6sjhvlns5TLsv7Eie+LyGIW7CtXrqS5c7/2sOf95P5lBKl6TWoRqZWqkhf3OWDAQE9/gRC6PMa7777nOWfq86IWj1ZCV70erZCX51q9HqMU4+o9kOfVLL21noDXO9vch/zCgFaoqt936rm7eY+Y7ZH6nMpIeT5HTtnJM1yiRAnxRYpx48Z5PnN4/x577FGROlz9pRDm+uqroykkJMTrc8X1h5Wqobz7VitbpSzl/xM2fvwYz321/Hq7dg/Qpk3r6NixOMspmKVcljLZSubymAMHPqvM4RxNnz7Na0y+45dTNWek0LVc9C2oAKF7C6BjSBAAARAAARAAARAAARAAARAAAV0CELruDgaErjtuaAUCIBD8BCB0M/kemwndGv/rTznCctPOnh85WkXtrwfRteRU2jvAODVneoSuFDVNmjQxnZdeJKpaxLE4O3nypOhDpq9l0du2bTtPv25klVqssXTlP999952ImmRhJOUmD8JCmgunU+Y/XGT0rlraaaNkZRpj7etq6SZTssr1qGUdj8PzkmNzP8xTHa2plpPc1969+6hgwYJCliclnffc0WoldHkM5j506BDPGvU2TitNZR31Pb48j5SUVF1esn4ghC5Hg/O65X7J86KVyVZCl+eot57Q0BAPT/Weqs8r71dsbKxYprxPVzu+um+ea0xMjHLmqnn6tvNlBfUZkufXaH48FzfvEbM9Up979Xl0yo7ryzuO1ZH6/LqM9uV/N/pyg1kGAL3za+c1KVZZ6h49mvber1athkhnrJWtgwcPE/fY6kXb6o1lJHT79n2CateuR5cvX/aJDJb9qKWxFLcHDuyjbdt+pbCwMGIZzXPh17Si1866g6kOhG4w7SbWAgIgAAIgAAIgAAIgAAIgAAJZmwCErrv9g9B1xw2tQAAEgp8AhG4m32MzoVvpnYcof/2ytKvPx3QlIdnWSnIXCadas56ic7/8QYdeW2DYJr1Clztmefbggw96ZKwcjKXfokWLaPLkD3XHl9F5Usr9IzU2KXfVTvNKeexGVnF/6qhT/lkdXcrC6oUXhiuSpI7X/Hjec+Z85UmXK+WcXiSuWhxqIz1lZK3sXB3lqBWrLLpYrsXHxxPX0wo07Tq4TxaOv/zyi6jPxY7Q5Xq87iee6CfEMUfjysJzYHn2/vsTfNJNyzq8D9p2zGXmzJk+6YUDIXQ50vqdd972Omva6HB5JrVc9A6h0XrWr19Po0eP9mrCe/b00096pKx8yMw+/vhjn1TMvP/yzlxZl1lp+zY72xwN+9BD3bwEvIyu1s7PzXvEbI/k+6dnz55i+trz7YSdjMg3ijbmNanv6lV/6cHsbmJbH4YGlThtMgvSPHnyiBosWlevXu5zp61Mr2z33lojoStTLZvNWZ0GWkbpcnpmdeF5LFz4rSeCOD0MsnJbCN2svHvBP/dW3QZQZJHiXguN2bOVdq1fmuUXX7NkBD3fqhxVLJJXrOXQqYu06Y8zNH3jUVdr4/4GNCnt03bIvL2u+kMjEAABEAABEAABEAABELgVBCB03VG/dUL3Jt28me3vSd+kbNnkv7tbx+3Y6ubNm8qysynsePVp/44CAiDgPwIQuv5jGZCezIRugXsqUoXXu9DVxIuUeuwMXUtKpZTYBN15hJYtTDkjQiikVEHKVTAvHXr9Ozq36bDhnP0hdNWds+Dksm3bdkMpqJ2MvG+UX9feOeov2Eb3n8r+5byPHj3qI+bSOwfu24gHr71IkcK2x/T3PFmclS5dWpFDyZ40xnbWyzwjIsKV6Eb/89KOrxdtK+ftr/HleuxwkGPbPedyz+z0bcTe7T7Z2cv01rHLTu9eYh7b6HWrZ+mdt2zPUvfixQt08OABwy5ZrnI0/K0oPHb58hXF0No7f2/FfDLLmBC6mWUnMA89AkMnzqXiZSp5Pfp15Xe0YNpbWRrYi23K0ysdKtHFy9coNvGSWEvZqDDaHHuWuk33vpPc7kK71SlOM/rU9qkeOXyJ3S5QDwRAAARAAARAAARAAARuOQEIXXdbkNFCVzhIRT5my6n8I2d28c+b2RUVCaHreANZ6Ga7ofC7pjS9poC9nibJgdIxSjQAAV0CELqZ/GCYCV2eetGu9ah4z4aUq0BaRIRVuXr2Ih2ftYlO/bjTtKq/ha7VvPAcBJwSsJM+2WmfqA8CIJC1CUDoZu39u51mX6tZe3rk+bEUDEL32Nj76NKV69R84kaKT7rs2cbiEXm8fk7P/m4Y3pSql4ggCN30UERbEAABEAABEAABEACBjCYAoeuOeMYKXUU6ZleEY2g2EsG5V5U/ioSk68o/hehFcUSAGebgP8q/5FKkuMLwZoryP4rkRQEBEEg/AQjd9DMMaA8/1H6ecmXjT0HrkjN/KIWWKaRbMeXIabp2PsW6E6XGxeup1G33FFt1UQkEbhUBCN1bRR7jgkDmJQChm3n3BjPzJhAsQrdV5UK04Mm7ae/xJLpnwsaAbTOEbsDQomMQAAEQAAEQAAEQAIEAEoDQdQc3o4QuR+Zmy6n8T0h2unlZiSzlqFIU/xLgqOc8iiy/dEORu0i/7F+46O12JAChm8l3/T+VelPlvN73rQV6yvsvHqdhB+cEehj0DwLpIgChmy58aAwCQUkAQjfrbWvF2o0pLDw/XUo+T4d2bvb7AkqUrUKFS5UR/doZI6JgYSpbrR4lxB2h47FpKdflHK3uupX11G2NFuRG6Mq5cZ+x+7ZT0hn9azb8DtGkQ5ka2YnQZQlcMEz5qrZSDip37e4+lmQ5ZTdCl+cmy8aYM7aihWUbu/OynDgqgAAIgAAIgAAIgAAI3NYEIHTdbX+GCV0lfDRbXiW38iVEkLrbKZutOFYtRJG6FxWpizt1bUJDNRDQJwChm8lPRtuo6vR86fYZOssJfy6hlWf2ZeiYGAwEnBLIiDuWnc4J9UEABG4tAQjdW8vfyegsP3sMfYvy5S/oaXbh/Bn6etKrPmL3/seep+ad+9Lv0Zto5luDPfVZcA6Z8BXlzhNKs959watd4w4PU+uHn/Tqnxsmnoij7z8Z51VXytV1C2dRo3bdKHdIqBhj4fTxVKV+c6pcp4n4Of7IQZo0rKdnfHkn7qdvPktdnhxJUcVKeZ4d2b+T/vvKE4ZInArdXsPHU82mbb36271xOc2ZMMIUO3NocF9X2rNpJa2eP8PJFpnWlVK2dqn8NLhlWTqi3J379pKDnjZ6QnRy9+r0kCJZ8+bhr2j/U7Yod+32+yLaVLg6Ebp8p++/WpXTHWfGxj9pfnS8z9r02rCk7q7cAaxOI+03gOgIBEAABEAABEAABEDgtiAAoetumzNG6KbJXI7MJUTmutsoJ61yczS0kn6Z5TmkrhNyqAsCXgQgdLPAgcjIKN3fL8bTvw7OzgJUMEUQAAEQAAEQ8CYAoZs1TgTL3L4vvU9XLqfQqm8+oUsXkiiqaClq2bWfWMD7g7v4RJ9KefrVB6NIRspKycnidfOSb7wWz5G5Lbs+TrG/7RD9cylf425q0OZBYnH8dr82nvpSrl5JTaE1C2bSttUL6YUp3wuxyxJ52ZdTqF2fwULssryVkcRyTtxu54alFLNnq+iz7SODhNw1ux/XidDt9+oUMTYL3H2/rhFjNG7/MJWpWtt0DGYwZMI/GVfUc0/vSZGC1aifAV/u9BGnA5uWphrKPbjrDid6mg1oeic1KluAVh5IoG6KPDUqdoWujBjWCmYWzz3qlaCRC/f7zItl7isdKom00f9Z/YeYQvMKUfRoozsCnko6vfuA9iAAAiAAAiAAAiAAApmbAISuu/3JCKF7U5GL2ZRUwHQRF+W62yUXrfIpvPk+Xb6fGAUEQMAVAQhdV9gytlGhXOH0dvludGdoVEAH/is1kUYdnk+nryYHdBx0DgIgAAIgAAKBIAChGwiq/u9TitDJw3t50hrzKFJy6kWespx8+p1PKflcIr036P9EGuT+r00lq0hY7eylHFWLYb1x5RxHdK0ruuBI184DR5C6nazDkb2LP//AMxRHDo+asYxY9L7Wq6kuQLtCV9bTRidzp3L8sQPa6aZflvOQE9DyTs/OWkXo2k1xzHM49EYrKhyehyKHLzGckl2hy1HALGL1hHLxiDw+0bb82rYRzenSletU8Y3VXuPLvl5csI+mbzyaHlxoCwIgAAIgAAIgAAIgcJsSgNB1t/EZIXRv5CHKfkOZ31UHc8yZnfLfXZLC65akUOWLqXTjJqX+eZbObz1OSTuOKZG+3CGKIQGFuYjPvQxGIAACbglA6Loll8HtcmfLQfdF1aCHitSn4nki/Tp6/OVz9O2pbbQicQ9duYmvyPgVLjoDARAAARDIMAIQuhmG2vVAMmrUSMSOnrmSLqdcEtJWW2TqZY58LV/9bgqPjNKN5jWbXNdBr4ooXT2hq46o1QpdKVb1hK76NTm2Oh2z3t3AdoWuFNB60bWtug2gtr0GidTQ2ghlOQ+ZcvnXFQsM67jeTKWhmzt0tePZkbV26nC/b3eqIlJAc8Tvc1/vsUyXLKNzp6yJpdE/pt2ZLEvNkko08bCm9N3OeOo3a2d6MKEtCIAACIAACIAACIDAbUoAQtfdxmeE0L2ZVxGLKcr8bDjYbLmyU9EeNanEo3UoV4G0K3q05YpyDc2xT7fRyfl7Sbma11UJq1yIQssoolgpLIivJlyy3Q+3jWpfkXLmy0OX45Mp4cf9lu0jGpaiqDYVxBiXDp6mk/P22h7PVcUcChiOira/LFfDoBEIBDMBCN0g3d2oQoUp8XRCkK4OywIBEAABEAABXwIQupn/VKgjTnesWeQzYZmuWEbGais8/c7/RKphLnoiVV2f5XHt5h2oaOnyFFGgkHgUrvyT7+0NtNCV6aCN5mhX6KpTTWtZlCxXVdwtbJbaOdAnwqnQ5cjeLjWLUaWi+ShfnhxiemWjwsR9t/6I0OWI2yWDG1EZpc+Ll6/RZuV+3l+UP1/+Gqcrd2UULgvdnXHnfXDN6FMbaZcDfYjQPwiAAAiAAAiAAAgEMQEIXXebmxFCN1tENrpx/gZly6YIRpOSq1AYVXq/A+WrVpRY2p74ahdd+C2BUg6dFq3CKhWmvHcVpuK9a1GuyFAlWjeODr28jK4nOwtDLapkGyo1uDHlDMsl+j08egUlLjtkC2CFsW0p6r40MSvLtUtXKf7zHXT8f9t9+shVOIwqT+pEeSt6ZwPl9cW8vpKSfomzNa7TSjeV+Nxs4QpvJAd1ig71QcBDAEI3SA8DhG6QbiyWBQIgAAIgYEgAQjfzHw4pMq1maiR0ZYQttze7E5ajV+WdvLH7o+l84kkx5B0VqlHxMpUCLnT1IoHVa3YqdM14ZRWhO7NvbXqwdnFKUH6xsSHmDCWnXhPL6lCtiN9SLktOHHnbukphcT+vLF9s+YuGaL5xLoWuGV++W/eeCRutjiyegwAIgAAIgAAIgAAIgIAPAQhdd4ciY4RudrqZZB6emz00F931aVchPhMW/05H3l1PNy5e0V1UDuXLpeVevZcKtixHSdHxtH/QQtspmKWQZQl7I+Uq5Va+oGpX6Mq2qXFJdGLOTrqWdJnCqhSiIl2rCzl85N11PpG31ef0EGtKUrIRnVIiirkUur8yRTYpTTyH3d1mW0b3uttZJSo6wpq7277RDgRuBwIQukG6yxC6QbqxWBYIgAAIgIAhAQjdzH847IpMvZWo780tUbay5z5dbV2+O/aFKd+Ll98f3MXrftmMSrmsd1evep52OWhTP2e2HbYboWtWz046ZTt1jNgMbFqanm1RVkTtaqWu2Z27mY015gMCIAACIAACIAACIJD1CEDoutuzzCJ073yxGRV7uAadmLub/pywwWsxeasrEbunLtDVUxe9Xq/473ZUsFV5+mvqFjr+2Q5LAGVfaUlFutxFFw8l0u9Df/REztoRulHtKlKFt+8jlrm7HvzSayz5jKNuo9t/5nlW4ol6dMczDcV4e3t97dVGzuXcpqPKXHwzalkuxkYFCF0bkFAFBEwIQOgG6fGA0A3SjcWyQAAEQAAEDAlA6Gb+w2F1h67RCljSPvX2p5QnNIwmD3+E2vR8WtyFqxedKmXp7o3Lac6EEV5dZpTQfXHaDxRVrJQy1150PNb7blaekF2ha3aHrt3dZhGud4+v3fZm9ewKXSlOX1ywj6ZvPOrVpR1Za6eOm3ma3aHrDz7oAwRAAARAAARAAARA4PYmAKHrbv8zg9DltMR1Fj1Gl48n066HZit37XpfjFv7hz4UP2c3nVRkr7pkD8tJtb7rQ9lz56ToDp/Rjb8zExmRYInKJfadNeKfMnrWjtCtPKmjiKo1qnvHUCWFs3Knbtwnv3oibqtOf5AilMxJem14zTXn9xbz2N5ius+UWRJH1C/peT1p2zHbaaFlIwhdd+8JtAIBz3soKqqIy2u63UG8VaLxVo3rjlL6W91u600/MfQAAiAAAiCQ1QlA6GaNHZRRp3opk1ncJp1J8FmIvJN24fTxtHnJN+K5lKbae2rV9/TOfGuwV1/yDl5/3qGrnhMPJiOJE0/E0XuD/k93U+wKXVnvyP6d9N9XnvDpy4iXrCgZmc0lPafGqdB9Z8lBem9ljGdIvvN23bCmfku5zHf07o9P9rkvl6N03+tazec+XB5/24jmdOnKdWo+caNPO34er6QsQwEBEAABEAABEAABEAABNwQgdN1QI8oMQrfIQ9Wo7IgWFDtuLZ1SvpiqLUZCl+uVHHg3lXrybjqgRLmeV6JdzQpL1KsJlzxVnAjdOksfF+3UEbhWxBtuHSTSKusJW26rJ3yN7tzl+k6jeSF0rXYIz0HAnAAidIP0hEDoBunGYlkgAAIgAAKGBCB0s8bhYOHZ96X3xWR3blhKMXu2in+v27IjVa7TxOduXCOpKcXphfNnRNSuWgS/OWcj5Q4JpeVzptG21QupbLV61Lj9w8Spmvl1dfSunlzVpjqWddQiWNa5kpriWUdU0VLU5IGelC9/QdKKXvXuyEhlnvuqbz6hSxeSqGS5qrRz3RKfiF4ZpRt/5CD9umKBqCvHOX38qK7o5bEkHzmuVnz747TYFbosWhcov9Dg+3PfXXGYFu05SR1rFBWpkAvny0158+QkvehdOcf5A+tTG+VO3O+UO55+2nuSCih3QUUq91lp5bCUs19vP047486L5mWVVMv/alXOcAwZpctz+2TDnxSrpCTj/h9rdAcVDc+jK3r9wQ59gAAIgAAIgAAIgAAIBD8BCF13e5wZhG65N1tT4Q6VaUf7mXQ1McVnIWZCN0z5/z81vnyYjikpl+OU1MtOil2hy5K17uLHPamaSz3ZgCKblRH373Ka5XPrj3hF5vIcIhqWoqpT/k833bKco0y7fPzLaPpr0ua0/0/1d1polrd/TdtCl34/TbzGiuPbU0ipCNv3/XJfELpOTgPqgoAvAQjdID0VELpBurFYFgiAAAiAgCEBCN2sczhYNt7/6FAqXqaSZ9IsRg9sX0+LZk7wyFmz+3C5oYzc/T16E6mjcbn/HkPfEmJVFhaiM99+jvqN/lCMO3ZAOzFOeoUuy+Eq9ZoJUcyF17FmwUxaPX+G6Ya06jaAWnbt52nHlY0kMKeKrn1Pe6+6HHW7/KtptGv9UsNx1BG6H4/urxv9nJ5TY1fo8hgsTqVYlWOyoP1g9R/0rSJsLypRsrXHrtWdDkfKzlPqVC8R4Xl+RPklhbY+z4fHUNfjBlIka9M9y844gvel+yqISGFZuA2L4dE/+qbMTg8ztAUBEAABEAABEAABELh9CEDoutvrzCB0K09W0hk3Lk1bGkyjbDr5Tc2Ebva8uejuNQPpzOoYOvTyMkcQ7ApdeUduovKF2bxViwixynfpXk+5SnlKRlBO5Uuq/PNvTy7wRADLNnr358pJSnl76vvffNJA77j/M69oYpa6Ue0rUuLSQ0Ly2ikQunYooQ4IGBOA0A3S0wGhG6Qbi2WBAAiAAAgYEoDQzXqHgyNVC5cqQ5eSzwfknlcWu2Hh+Sl233Yvmcnj6t1t64SgjNCVka8shrmYCVa9/mU77RzTW1e25/7t9O1k7empy9KVy/zoeK9uaiq/dNh9LMm0a65TqUheOqOkCFtt8gsDFsBNy6fJ/IOnLlr2KwflSOKCyi8+nLRJDwu0BQEQAAEQAAEQAAEQCG4CELru9jczCN1KE++nAkrE69YWn9CNS9d8FsJC9/LJi/THm6vp8l9p2YFkyaEI3fosdNfF0qHhSxxBcCp0uXNOoXzopSWU9EucGIujd8uNbiXu11WnRHYrdGUaZrXkdbQoVWUIXbfk0A4E0ghA6AbpSYDQDdKNxbJAAARAAAQMCUDo4nBkJAGt0M3IsTEWCIAACIAACIAACIAACIBA5icAoetujzKD0L3z5RZUrFs12vXwV5Qae9ZnIflqFqMyyh27oWUL0Klv99JfH/1KNy5eEfVCK0RRza960Ilv9tCf7613BMGN0D08egUlLjvkNQ5L3Zrze4tIXRlZ61bocrsyo1qKvjidM0fjJu+Kp3Mb/7QdmSsnB6Hr6DigMgj4EIDQDdJDAaEbpBuLZYEACIAACBgSgNDF4chIAhC6GUkbY4EACIAACIAACIAACIBA1iMAoetuzzKD0I3qUIkqvNmGjk7ZTPGfR+su5GY2UqRvdbrj2UZ08/oN2vfEAkr98xyVHHg3lXrybjo4YhmdXRXjCIIbofvL3dN0x5CRtVL4yrt97aRc/uujX+j4/7Z7+uW2dwxqRPlqFxdiVxZO+Xx41HLba4TQtY0KFUFAlwCEbpAeDAjdIN1YLAsEQAAEQMCQAIQuDkdGEoDQzUjaGAsEQAAEQAAEQAAEQAAEsh4BCF13e5YZhG6O/CFUd+njdO1sCu3sPItuXr1huJickSFUvHctOjrtF8oRkotqL+xD2UNy0o4On3uidu2SsCt0ub+GWweJbo2EbuVJyj3AStpldQRvvbUDhZA1aiPH3z/4B08KZ+3cWe5GNr2Tij5cg3JHhZGTVMwQunZPAuqBgD4BCN0gPRkQukG6sVgWCIAACICAIQEIXRyOjCTQqtsASjwZl6nup83I9WMsEAABEAABEAABEAABEAABcwIQuu5OSGYQujzzO4Y2phJ96tCpH/ZT7Fs/Wy7mplKj0r/bUcFW5Slu+lY69slWyzbaCk6Ebq3v+lBIqQja0+cb3dTHdRQhzcJVplzmsaTk1Ubg8jMZwctplaPbf+Y1NX7GqZbVxU4KZ+36IHQdHwk0AAEvAhC6QXogIHSDdGOxLBAAARAAAUMCELo4HCAAAiAAAiAAAiAAAiAAAiAAApmFAISuu53ILEI3e2guuuvTrpS3YhRxauE/xq6hGxfS7snVlpwFQqm8kqI5stEdlLznBO1/eiHdvHLdMQAjoVv2lZair9h31nj6LPFEPbrjmYaUGpdEvz25gK4mXPI8k+JWm15ZSliWtnv7fuPVRqZoVkfcyrt4b6Rc9alftHt1KvNSc0raGU/7B35na60QurYwoRIIGBKA0A3SwwGhG6Qbi2WBAAiAAAgYEoDQxeEAARAAARAAARAAARAAARAAARDILAQgdN3tRGYRujz7XFGhVGnC/ZSvWlFiCXpizk66uP80Xfw9gbLnzkFhiuzNV70YFXukJuUMz0Pnt8bRIeXu3OtJl10tXk/oSgnLHWoja6W4vXbpKp3f+Cddv3iFIuqXEpG7/Nr+J7/ziaytMLYtRd1XQTyXbSKblRHRvCyHdz34pdfcZX1e/7n1R8SzHHlzU34l7TKnb1andLZaNISuFSE8BwFzAhC6QXpCIHSDdGOxLBAAARAAAUMCELo4HCAAAiAAAiAAAiAAAiAAAiAAApmFAISuu53ICKFL4dmIkjlJsnXJlis7FetVi0o8WodyRoToNvh/9s4Ezuay/f/X2Acz9n0SkUhCZK9UQkWYFhJKlMJTf7QgpSI8FT0KJSQpLUSiLMkzspc1PCQioey7GUvm/73u+d2n+3zPd73nzDFz5vP9/bzinHt9X/eZJ73Pdd3nD5+lfZPX0oHpmyjG27CW41gJXS53XO39dqK9laDl7N2iza8WclU+nDX7+5tLLUsxcxurPsdX7KHfhi4OytqV40mpqy6aBe/+SWuMPW92hyhb+ODufVC0BIHsQwBCN0pjDaEbpYHFtkAABEAABGwJQOjicIAACIAACIAACIAACIAACIAACGQWAhC6epGIhNBNLWiszRC6MTGG2PX4sNiNr3cFxdUuS7EVChP9nUrJu4/SyTX76eS6feLPGfVw6WN+1LLK5rni6ydQ7sKxYi1O7dR+ss+RBb96WjpnC/OTvPuYrSy2Gyg11eBjCN2Y056mQiMQAAELAhC6UXosIHSjNLDYFgiAAAiAgC0BCF0cDhAAARAAARAAARAAARAAFeicEQAAIABJREFUARAAgcxCAEJXLxKRELpUwBC5yYZgvKS3RvTSIJDT6JPP4H4m48S3xqrQBQSyFAEI3SwVLu+LhdD1zgotQQAEQAAEooMAhG50xBG7AAEQAAEQAAEQAAEQAAEQAIFoIAChqxfFSAjd1LxGdm6qIRfP660RvTQI5EklRh5zzntWtMYs6AICUU0AQjdKwxsuoZsnJie1KHY9tStZh8rkNUpJhPH589xx+vLgGvruyCY6n/p3GEfGUCAAAiAAAtmRAIRudow69gwCIAACIAACIAACIAACIAACmZMAhK5eXCIidDlbNK8hF8/qrRG9/BNILcAy1+h30X9f9AABEEgjAKEbpSchHEK3eO44Glb5ProiX7EMpfR78hEatHMGHb5wKkPnweAgAAIgAALRTQBCN7rji92BAAiAAAiAAAiAAAiAAAiAQFYiAKGrF61ICF0hRoyyy5fOXaKYi8gY1YuUj165jYzo3DGUCoHuAxqagkAoAQjdKD0V4RC6/6nyEF1ToExECG0+vZee/fWziMyFSUAABEAABKKTAIRudMYVuwIBEAABEAABEAABEAABEACBrEgAQlcvapESupTDWF9+Q+aexV26epHy2EvencuccX2uR2hoBgLWBCB0o/RkFClanI4dPay9uzuL16Cnrmih3V+n48jf59Gio1t0uqIPCIAACIAACBCELg4BCGQNAsWK5afrapalJYt3ZI0FY5UgAAIgAAIgAAIgAAIgoEEAQlcDmtElYkKXl/d/sjE1xcjU/RuZunoRc+iVy7g3N08OikmBNA87WwyYLQlA6EZp2AsVLkqnTh6nS5cuae1wVJWOVK1AWa2+up22ntlPfbdP0+2OfiAAAiAAAtmcAIRuNj8A2H6WITBxakcqUzaeZk7fSJPeW3nZ1l2pcnG6u011Mf/bI5dctnVgYhDIzAQ6dLqBKlQsRgvnbaV1a/aGfanq51AdHJ/JsKO+bAPeUDeB2t57PX3/3XZ8keeyRQETgwAIXC4CELp65CMqdHmJRqZuTKxRDjjGkI4XjH9eMP57uvH/Mcb/4fFHwNC3hiQ3uBm/YvIYZZYNjqkpxhh6isLf5GgNAtmAAIRulAY5Pj6ekpNT6MKF81o7nHF9byqQM59t38INKlGFvi0odxHjNnOr51Iq7Z28lP78bLXn+c/8nUL3/TzGc3s0BAEQAAEQAAGVAIQuzgMIRIbAU/1uoYMHTtFnH68LmZDlT8lScY6CNLMI3Vtuq0zPvdCMdv12hHo/Nj0y8CIwC++rZu1ytHH9vrDKk/TGPQJbz3ZTyFjbbdzuc+oH1JgJ91PFq4rR668tCut5kmuQn0Pzmu6+/T0/y0TbTExAxnjBt1sv25dn+IsDTZtdTVWrlaLY/Llp+7aD9M3sLbRzh35Vs0yMHEsDARDIRAQgdPWCEXGhK5eZy/hNLkNEGlm7qSx5YyB0/UYw1XAC7MVTLxo9Lxq/+dvvCGgPAiDgRABCN0rPR758+Shnrlx05vRprR3Oq/2Mbb/4OhXomuH304WjZyhl39GQdjly56IC1dLu3j25/nf69aVZdCnlgqd13Ln+TU/t1Ea33XYblS9fXrz04YcfOva/7roaVLduHdFmzZq1tHnzJt/zZZUOvNfWrVtRiRIlxJJ3795FixcnZck9P/LII7bY3WIeiXglJt5LTzzxOB07dpyGDBmaJRlHghPmAIGMJgChm9GEs8f4XV8cQ+fOnqZpI/tnmg2XrViV7un+HG1fv4IWz5h42df1zfdP2EpQKX+cZExGl1xmeXD/g7Xpg/ErHTMKo1XosnhtcVc1Crc8SW/cL/vBjcIFyFjbbS0cX1bIaKFrXruXnyFRGMqIbenV4XfR2bMXaMSQ7yI25+UWut2eaEiJ99cU++XPRL58uUWViJTkCzR5wiqaa4hdPCAAAiCQUQQgdPXIXjahq7dc9AIBEACBiBGA0I0Y6shOlCNHDipUuIhxj+4RrYmdhG6V1+6lQnUr0sZO4+n8oVMh4+cpFU81P+5hlKf4m2Jy56STa3fT9kFfGt/Mca+toCN0WaYNHvySWMekSRPp7bffsd3z0KFDDcnZWrzfp08fQ3Au1uLjp5OUkXv27InIfLy2d999lxo1ahSyzOTkZFqxYgX17ds36D1mGB8fRydPnqKZM7/0s72ItN24caPjPLynsWPHpUuk+vligHkxo0aNottvv128/NZbb7l+sSAi0C7DJPHxhahSpaspf/78xn8oOkvr16/xtYrateuK9jt3/mqcxRMhfcuVS6CSJUuL8Q8dOkjbt2/zNT4aRz8BCN3oj3Ekdjhi5jr6c/d2Gt23QySm8zRHzZta0oN9htGPi2bRzHFDPPXJyEaZXexJyeWWUQih6++UZPa4+9tN9LXOKJEPoRtdZ8Xpc5xRO72cQpfLPb/wcgv6becRGvHqQjpy5KzYpnydf39vq0kZtXWMCwIgAAIEoat3CCB09bihFwiAQPQTgNCN4hgXjIujixcuUkpKsu9dOgndGpO7U07jW60bHnzXclwpdI98t4VyFshLhRtVpmNLt9OOIbONegvOS9ERujzikiVLqHDhwrRt2zZq37697SQLFy6gUqVKu7bzDcyhg5SR33//fYhIDec8cqzPP/+cqlatKv544MBfhuTcQrGxsXTttdcKRvyY1zJ79myqUKGCkcW7m9q0aZMRy0rXmJIh74dLicuH9yP3xO81b95Cex5VytasmfYNbq8Py+AePXoYa0smp2xir+NlxXaNG99Md9/dlvLmzRtY/qlTJ2natCmu4pVFbZcuj1Hx4sVF348/nhwigzt3fpRq1UrLrpfP/v37aMKEsZbyNysyxJrTTwBCN/0MIz1CfNESVLF62mf70N7dtH+X8xc1OFO1REIF0X7XlrV08ughT0tW+21cOt+xj47Q9TO+OvnVtRpS/rhCdPbUCfp1g/1dshC6nsIcaJQeocvigZ/NG/cH/sO/3excwjOhfNq/Wy1ZvMPfIo3WLBTi4tOuOLHrL7OZva6J22WU2Euv0JVsT51MyZC7WH0H4P86qHF0i7va1u8+ZLz99vO6r4yKu1noSgZe9+F337oZunKevXuOZ5oyupnxzOsIXS8/q9Rzav7Z6CZ01Z9zuj9PnT4nPL4UuWq7SH9ZwetnGe1AAASiiwCErl48IXT1uKEXCIBA9BOA0I3iGHOWbnyhInTyxDG6dMk9O1ZF4SR0OfuWH87QtXqk0D28cDPt/s9CqvpGeypYvRwdXfIL7Rw2x7gE3d7q6gpdNfP2oYc6WWZqsnTj7El+PvvsMxo+fHhEoh9JocsykTOP7fbI5Ylr164t3lc5ZRWha5X9qsY+PXFNj9CNyEHKxJNwZm2nTl3p3LlzRhY6f/P9MCUkXEENG94kVj1ixCu20lWKYG536tQpIXXNQlfK3F27dtLy5T+IMevWrWd8caE6HT582PgsD87EdLC0SBKA0I0k7fTNxSL33l6D6ZrawdUkjvy1lxZ+Oo7M0pXbdx30DpWpUCVoYruM1adHfSbavt2vI93/r5eD+vEc4wd1C5LBiT1fpHrN2tluym4eq3WdN75IlzRzsmVpZCmLk2Z9SK0ffYYKFioamPMXo5zy5CG9g9Yg92G3sE/fGhjCSm3b8M4HqN4dibRpxaKwlmrWEXtW92SGoxysul9el9NjLgOtZuguW7KT7u9Qm/LF5g4MMXXyj5b3BLMceGXE3eJeUflw6c7pn623bC+lAbd99+2ltHLZrpD+XR74KEQ49H/xDrqpaaWgLS1N2ulaKjWjxJ5O3HnxfK+yme2f+0/SuNE/BMQuM/3oiy6e7jPmdaz9cQ+9NODbdP0gYkn1aI+GQXHkAf+3+S96751lQVKwVZvq9GDnulS4SGzQnOZ9mM8jn/Hpn66nx3s2DuobjvWbN59RcZfnl89uy1bXBvHi/T///76ylGXMt1//24P2ffxYMo0c8b2j0PcqdGW7F5+fSz2fvlmU0JUPx/DZp79K1/ngmD/51E22Z02W8bX6OeHlzMvFOcXNKwu3jbqV5rYrz24VQ7cyxeafWxzzxYu2i5LH5nlY/A4Y3DwodrwXuznSExMrRp/MeFicT6ufv25M8T4IgAAIeCUAoeuVVHA7CF09bugFAiAQ/QQgdKM8xnmMbDkuT3ri+HFKTXVJj1VYpEfo5sifh+p89bQY7dSmP0SWbv5KJcWf/3g/if6a/pMtdV2h60XWOklfvm+2Q4f2ghU/XC72s88+dyzh+9RT/zKyWisG9rJs2fKgcsUsV6+//vpAKV7Oft25c6dRKvZQiEzmksdNmjQOjMX33VqVjh4wYIC4E/fnn38WdwDzmosVK0arV68WZX6llLTLVuV9vvbaUDHPlCkf0fHjx6hVq1ZUp04dkel63Dgna9euFe+byzIzY/4lGfE+5syZG8KI2/CYcgzmUL9+fZG9ah5T7kdufO7cuZZlqaUUtytnLDOv169fH5Ihq66H57Hiz9wqVaokspT54QxmfuR6ZCxlX14339vMZbT5iwHmPZsPuNc1cD+OrdW9wOoZMXOU65Pz2o3B+5T74n9ynDh7e/r06ekqB96v30AqW7YcjR//TlA2LsvaxMT2Rkb8FiOTdpzl537kyLFCyn755adUs+YN1KBB4yChy9m7ffsOIJa5Y8akrV8+jz3WU0jdefPm0KJFzhl3lpPjxagjAKGbdUL67LivqVjpBNq9dQOtnP+FWHixUgnU6O4OtC7pG/p2StoXsOQj27NY3bkp7d8jGrZ8gCpUq2VZhliKUJaru7aup2VzPqEzxhfcWnTqLSTyz8sXBt2Rq2bYcmljKZbl/FbZwCxzewydRHGFi9GqBTNo329bKX/BeGrSupPYm5VsZaHLa+Jnw7L5tGredCpgfPmu7eMDRJ/ZE0bQynlpPPiRGbzlrqpGN7fpTCx91yXNDbzvlG3Me3pq5LRA20mv9nLMAvZzenTEnjkD67kXmnmSd37WJbPhbr+jCtWpV55mTt9IO7anZXFbZRNKocvyICXlIs35ahN9N28bNWxSkbo+1kDIXfN/6Od9/Ps/bamIIQG+nfs/MX5cXF5qe19NISWsyjzL7DbeMwuNKlVLGv3zC8lx5ZVFxFrNspnvueTXWeCuXL5L7KFVm+vo2utKu96NK0VTZrhDVwoYFn9fzdhofHnrnODEgpefxx/+NCADJ07taPx7SW566L4p4j0pXPn3vR+bLl5zy/Tzel5YJL3+nzYixsxp4/p9omvN2uXollsr02svLwiSjtye72Xe/PN+sQfZlu8qZmEl16zOz58TPlv8LPnvDvrGuKezUOF8AfnIgjScd3dmtNDlvWzZ9Cd99eXPxt8tU+jhbvUCZ9R8H6ssZ8ufq0+nrnGMuzlmXiWmbMfrYr4yhp271hNnLBznn4Vfvny5LEvy8nnlecw/I/yced57JISumjHLP4f488giWj5WmenyM8Jt+Msq3MftZ53ci/wiA/etXKUE3WV8EUB+1t4euSQo5CyAd+86IsbnR/584PZP9ZgRkm2tExPzGeOf4/1fai5+nnr5kozXnytoBwIgAAJWBCB09c4FhK4eN/QCARCIfgIQutEfY+MvT7EUmy/W+Iv0Sbp48aKnHadH6Iq/iHVsQIVvvIoKXlcuaL4z2/6k//3rY9s16ApdHlBmmdqVXbaTfixmO3Z8SIgt9WEByWOaM3lZrD3xxOOidLP5UYWimvGptlPLGrNgffHFQYESyWo7lrJ9+z4TJEzlHvnO2EqVrgqsQZZQlnPy2rt3f8z1Tlk1o9e8F7XssN1eeJ7XX38jRGSrWcIdOvxzB6Ec04kh7+3JJ58MWo6b0LXLMLZbN4vr0aPfDqzb7o5eKZDlOBy7Y8eOBbKcZSxVjuZyzV7XILOn7c6v1ftO54fX9sILg4LOgNznnDlzqFmzZoEzn557f6tUqWqUm/6XrbR9+eXh4s6YgQOD722WAWYp+/nnn4gM3vvv7xgidGV27qhRw2nfvr1B54Jlb6NGN9OOHduDSjTzXb633HIbValSTbQ/dy5FZPb6vdPX0w9LNMpUBCB0M1U4bBdz18N9AnLSnJHKktRcRvm2+7pT8449LcXtoMmLRJbrsO4tgvpJofvD7KlBclhKTqc7cr2WXJZZvQunjQvKfuU9PDPmKzp1/Ai90fOeIA48Nj9mueq0R26vU3KZ1zFw4oLA/Jyt7FbS2usJYlFlFgKyr5QpZkFpHlun7KfX9fktucxC7qke04OyDO3GkK+bs/JYELw/5UHj3xOMfwfr/I9IV9fMe+a5+JHzyfFUXlJaWmVxSonllFEm+7PQnvSefSlvrzxlO524S/miilsejzMY+ayoMuWN0W2FYJEsZBtuz1mY69bsNaR2Wtak2/3IbnuTc1llV9qVZ7UaU4p3q/XIjHG5dtlf7iscwlFdU0YLXavzZPc5lufULOTk2XSSaH6FrnldMtubRW9670aV2aZm+c6y8+3x91lm7/o58+JnQb9biL8YYHUevLJwO+/mn0NeqiPYnW25d/7fAPVnneRu9fPU75l3aq8TE3X//GUDmdENmevn5KAtCICALgEIXT1yELp63NALBEAg+glA6EZ/jMUO8+bNQ/kLxBnZBymUfPaM667TK3StJqj5yROUevFv+vnhCbbzp0foctaklIfmsstqBu+kSRMD2a8sFgcPfkmsh0Xa8uXLDLF0iu68886AZH3llVcD4o8F2tixYwLZrPPnz6c///xTZKA2apRWNlIKSS8ZuvK+Wxaj3I8zKytXrhyQbeZMWykuuT0/LJD59zIjU90n9+UMU6tMXxkAmTnqlKGrZjbzfElJSVSmTBm69damQijz/AMHDgxkeKpyk987cOCAyEzmhzNLVYa8xv/+N0kwVLOZWTgOGjQocE7chK6VrFfXzWw5izk+Pk5kpfK6Wer26tVbCE+3DF1VlLP4Zw5Hjx4NZPvaCV0/a+AvFnTr1l3smYX44sWLA/tnZp98kvZFCLWstHp+Fi1aZIjNHSI2fA8yr9MshyVHjguXR5bZ2HaZ0a4/KIwGzZq1ND4vrW2zZKWQNWfvWo1tJXQHDHhFNJVllbm8Mz8HD/4VInj5dZa5vXr1FaWbOfP3/PlzRjZBnPErHpm8XgKaxdtA6KYvgAkJCVSvXj3HQX788Ufauzf4yxV+Z5XZtl4Fo1o+2Swk7aSq7GOXJRsOocsyOU/eWHqp4z8VNiSLri+OEZnAZtEshW7/xBuCsLkJW7f37WIgSy7/+N3MoMxfvzEzt3crbczts5LQtZIbdkLXKTtMChA72Sq5qfKPxUWTWyoFMlCZnRzHLAL5PSk6nLI7pTRLr/RMb9ydxDSPLQW3zG6VzOW+mUPR4gVEiV8pXmUbq8w9r+daFU9WmbVex+F2Tl8ekPG2K/Wd1YSunbQ2f36k8LMre8yfoWRDttp98cGrxHS6/1Qtx8xfBNB9WP4N+XerEHFr9zn0e+bVM5TZhK7586kytBL2Vl/SkH38ZtY7tfcbE3PsZWa1XUl93bOCfiAAAiBgRwBCV+9sQOjqcUMvEACB6CcAoRv9MQ7skO/UzZ+/AOXMlYsuGJLjgpGt+7chWNPu1w0ux5whQtfl7l1eaHqErp304nGlWGOR1aBBgwATp6xeKctUKeaUAavOoWbH2t2hq0pAc4Yki+bnnntWSDlV4KlC1y4DVxXbvFHe8++//06//vqrbRlpuwxXZjpx4gSxDpkFLOHxe6NGvSnkqJqZrO7L3If7SoaqUJVj2sXJSeha3aGrrtssh1WhrL7ndIeu+p5VNquV0NVZw5IlS8SXBcxrljFVz686p/qlA2apflFBfU9yVLPE0/sj0ErCqmO6ve/Wlksy79+/j1atWkZ33HGnELPy4VLOMrtXvibnU8swS8nLX2wZNWqE7X2+6WWB/pefAIRu+mKQmJgovqDj9AwbNsz4ktPMdE3EUvP0iaM0tGszT+O8Om055TEqjZglKHe2y2yNhNDlfZhLM8sN3dC0lRC6ZqEcaaHrCbBGI51MTfM0mSlD14/Qddq7LPVsJ1KdBInKRxVVZm5cvtTqLkq1XUYKXT+Z2W6ln+X9lVJ4mtfN4oVLWvOe+Z9c1pclb/UaZdKVeekm3ew+Eiwqmza7WpTJZtHMD5fO5js4nTJ0s5vQVfl+/932EJxuWfzhELoyizMcX2qw+hIHZ3hfValYyDn0e+YZTmbM0JXS1C6T1yp7V+7DKpPbSdDyFyzuuLMqVahYjBLKFxbnJV++3I5ls/3ExOpnIzJzNf6HH11AAAS0CUDo6qGD0NXjhl4gAALRTwBCN/pjHLLDmJgYUQKV79dlyZsjR07jV0yg3ZHDhygrCl3egCxLa85stcrgVAWwOSOSx7KSdHIcq7LA3IdF2syZXwYxtxO67777rsjqtbvvVu5FlW9qyWVzWWJ1Us687dKli8gyNpeS5rWPHTvOspSzWfSpWaPmrGeeT5XHstSwys2qj2Soimp17VbyVr7GrJKTUwLNS5UqFdifylGum6XxLbfcEvIZUEsoczYrP16Erl2srM6KzhrszoT8coEqzmVbq3uDeT/yrKhSXXJUs9TT+yPQTdjKe3STkhYZonqW43RWY7HQ5XLxLHL5Hl1ZNrlBgybi3l6WvSNHDguM27t3X6pYsZIRz+ASzSx1uawznugmAKGbvvhGKkPXa0ljuRs7Ccrv22WuRkrouhGPZqFr9x/6vcqYrCx03eLuJHS9lDqVDJ3mccruzEih6yfubiWAzWdFZnbKvfEZ4Sy6OjeWp9j8uUUWM/fhR96p6xYLq/f9ZgvyGJx9KO/95XtkDx9Oq3jE9yFzBjGEbtodx/xIvm6xscvi9/ozxClD12vZdbc18vvmEr8yw9uqJLrfM8/jZ0ahK2No93m34uvE3O4zx+K4X//bxZciOKP7jz3HREiKG1+Y4DvE7X7O+YmJGmO/pZ+9nA+0AQEQAAE3AhC6boSs34fQ1eOGXiAAAtFPAEI3+mOstcOsKnStytaqZYjVbEVVwrHItHoqVKggXpayUkeI2QldNzlrla1qJencAixLP8uyytzeLG7d7qC1E5lWmaBO98ny3HZyVu5DSlo1E9bujlvZxyyp1UxqLvlsfmJj84nMYpWDF6Frl9lqtWedNahnVX7JQP3igXp+ZcxYWvMv88OZvvzLSuim585c8zyRELo8J2fjTpgwLmh6KW/VbFxZAprLLf/000raunWzZWlmt88N3s+aBCB0s0bcoilD16l0s1U0oilD14/Ys2KRlYWuFymbnj17FVp2n3gWTtfVLEubN+4Puhc4vT8hnGJmtWadbMUv53ajn1bvoZXLd9FzLzQTd+dySepbbq0ssiHl+5ytq/v4zdCV9yPzfOa7gFFy+Qkyfx50hLkaS6/n30noOt1t7PfcyC8ayKxOp7LnOmc+MwrdSGXo2sXQ7Qz5iYkab+7HWcB79xynnTsO+z0KaA8CIAACWgQgdLWwGVcH5jOuCvsnoUNvFPQCARAAgegjAKEbfTENy46yqtDlza9atUpkbcqytVKMmrM1VQnnBk2KNLe7XK3GcRO6VmWJeRwrSagjdNU1qeWJ1SxNN6HrVKLXzMSr0HVjrpYdlnPwa3xPLD9813Dr1q3F782CUpWzTvOoJYwzSui67dNcBlxmMMv9yyxo8/mVMXMbXy0ZrnN+3cZ3E7pu76vj22XocptXXhkYkmFbpUpV6tHjXyGyV44jx+YM3y1bNtGCBd8gS9ctoFn8fQjdrBHAcN6h27HfCLq+cXOaPWFE0B2xkcjQdbpD1y4Sl0PoXl2rIf26YWVYD4dfsWc1eVYVuk536LpB9rpnpzt03ebIyPf9xt1JnMosRy7hrN6lKjNw16/dK0pLcxZnqzbV6cmnbiK+N/ft8feRVUlXP/v2e4eu3IdVmVYI3VCh63aHrluswiF05T2p6blrWV0njxcbm5v4zmW7csvcXufMZ0ahy3txKhEv+ar3hevcoStL2JvvU3YTurw+rzFxO294HwRAAAQymgCErh5hCF09bugFAiAQ/QQgdKM/xlo7zMpCV5YqliLLLhPWTTxagZOy2K5csFUfO6FrVUZX7a/eNSvLBrsJXd4TP3v27KHFixdbxl4KQ1Uk2wldOxkuB1YZyoxSN646UtGuj1y3OYPYqqSy2wcho4Su3/tqpcCVe5LnxHyvrttZcDqL4czQlRmxdiWVH3usp1H6uzqNH/8Obd++zTEMTkK3X79eln3lHbtq2WVuyCWWa9SoSVddVZkSEq40SrcVN8ojHqbhwwe7HQW8n4UJQOhmjeAl9nyR6jVrR7+sX0GTh/QOWnR80RJ08uihoNfs7snltk+N/NS4QiKW3uzdNqhfeoUu3437Rs97HIHKffwweyp9O+Ut131wg/QK3Z+XL6RpI/t7DrSU517243lQo6FfsWc1tle56Wddsq0UJO++vZTmzt5iO4RTWVE7Ued0TySLwiNHztrO53XPcl1cgvTZp78KGc9tHs6u46zWZUt20ro1e3UQWvbRibsU4ObMVrtMRi6lWsPILt756yFxTy2XVlaz8W5qWsmyvLHfTUppyCWdP/t4XVB3M18nScdy79rrSqPkshEn9ZF8OcPafAbdzq9foWv+nMvsUvOXBfyeEbW9PK9cWpszx53uYPV75u3KAPM+Xni5BeUzRLJdeWqdPdlJVPNYdlnOdtm78nN6/Fiy8eWL6UE/C+VY5hLKdtLYLdOZ1+onJnJvGfWzUScO6AMCIJB9CEDo6sUaQlePG3qBAAhEPwEI3eiPsdYOs7LQVcsAs2RkecWP1T25UtBa3SnKpW752bx5U4ChlGtq1qN8k9s/80w/+uWXX4zs4LmBfnZC16qkshosKezUO1LdJJ7VXcHqmLzGiRMnBGUw8/t2QteqpLI6npV0dhO6kqHdPcRcdtgso+2ErjqXKtnVdVsFWR1JAAAgAElEQVTd42s1R7iFrs4amK25xPLgwS9Znl95fuzKYfvhqPVD4v86lSuXQH37Dgi5y1aO+fLLw8Wd3QMH9nWdxkroyrLKVhm68n7eDRvW0tSpHziOL8f5+OPJgXt4XReEBlmOAIRu1ggZi9geQydRsdIJtHvrBtq4bD6dPX2SqtdrSlXr3ETb1i4NkZZSTP64aBbt3PQT5S8YT/XuSKQyFaqQlVBNj9Dt+uIYuqZ2I5JzMVVeW9LMD2n/rn++mKLug+X0uqS5IgCVatxItZq0pFULZoSIXl2hy+PKjOCkmZPpyIG9gkHFa2+wFbycmdvtpbGBQ2G+zzc9p0VH7LEUq1m7XGDaFndVI/4P/6tX7havHTxwKkSs6a5RigUWOl/N2GjcxX6OypSNpwIF89Kk9/7JVtYRuiyj/v2ftmI8vkPz+++2i2Xy3rgs8Ldz/xc0B7/HEiEuPp8QQbwmloj8LFmcVnXE6pEChMvZzjfGlHto3bYG7d93wlL0ynFk9lxK8gVRpjhcj07cZXatGgvJKiXlYoj4kXKL2+/fe5xeGvCtWL6UUMxdzQrU3Zsqy1jOcYnnuLi8VK/BleLuTrMk5FLPLNY4dt/N2yZKWrdqcx1dVamYeN1K8PGa+THLOC/Zh173pX6u5H2+fGa2bzsYts+VU2ljuzMh+Ypz/t8dtHH9PrGe2++oIvhaiV65Z3n21bgUNGJjFu9yXXzO5Rx8Pvgzwneyun2hwytjbqfKSh7baf1+z7w69qdT14jPuvoZ4fnCKXRVuSrj0rBxRZr+6fqgMsS8rtf/00Zgmv7ZevGzS+VrxUCOzV9GmTt7s+irfk7MQld+IYJjzfMXKpwvUGKdP1d8lgf3/8byizJ+YiJjrZ6ZcP5s9HOW0BYEQCD7EYDQ1Ys5hK4eN/QCARCIfgIQutEfY60dZojQ/eQJSr10iX7u/L7tmu5c/6bWes2dlixZIu4PZRlau3ZtspNe7777LjVq1EjcQfrKK68EiUSZ6atmWKp39JqzdGV7u9K4ZoHJwm3YsGFCrqrSlvciszT592o2pZvQVaWkOaOT5+vRo4eRLVlV4FIFt+xnxUlKYn6vb99nAqKaheVzzz0r1q9m+7oJXZWhOVNU7pvLEHfv/liIFLfKLFXvkpWZzLw/uW6W70OGDA2MxcJ01Kg3xR26dus2S2C3jF+7PftdgzzHapY5x8vqCwTq+TGX7VZjY3UXcTgzdHnN/foNpLJly5FZlrZu3Y6aNm1mlEFfTtOnTwt8TPn1vXv/CBGrVkJXZgCb79DlDNxevfqKzFt1Xs4ILl68VEgmbufOj1KtWnVC1hiWHzgYJNMQgNDNNKFwXQjL0Ht7DRbiVH1Y8H4/fUJIiWBu33XQO0Lgyud8SrKlNOX30yN07eZikbp4xsSg9Trt4+uJrwcJYO6YHqHLgrb900OoYKGigTWcPnGUPh/9om1JZTVDd/ygbiHZz66BsmmgI/ZkZqvdnLr30tqNx2Lw/g61hWyTj1kO6AhdHoul7tPPNBViSn1YYrz3zrKQuxmlRDCv1U3SMDOWxOoepBB2ksFSkoSbqU7cec92sXjr3/8NYSVjwv3U0sqSIX8JgMvehuNh6fhoj4ZU8apigeFYDm7Z9CeNfjMpSCJx2379bxei0HyeXhlxtxjDLJojIXQj8bnSEbrMyI4v35E8Ydxy22x2/nxJppK1VbatXBfLwBvrlw98TjiGLCDNAji9Z0Z+UcLLGfRz5uVnpHPXeoEl8hwsd68ypCp/+cXtZ4WfvVnxtWNmde55be8b8bP6GcRj93+puchaVz8n/FnnculmoWu1Fh5/5IjvhdjlvTuJeT8x4fVwBQDO8g9n9rYf9mgLAiCQPQlA6OrFHUJXjxt6gQAIRD8BCN3oj7HWDp2Ebo0PulHO/HloQ4d3fY1d6/OedPFUCm3ubp9JFy6ha75D1Sw35cJVucevsbzlh2Uw/+LHnL0rZRu/x5IzOTnFc3se/9ixY+J+XH5UccsimH/FxuYTspEfswR2E7rm/cg9qWPya2Ye6jp4T/w0b95C/FOVgyxaDxw4IF6vUKGC+KdZArsJXe5jxdBp305lmtVMWFVs2q27VKlSQkLzXgYOHBiQ+CxIZTa3jMWsWbPEWnWFrt81CKDGo0pv/rNdiW+r8+MUG51y13JNTv/ku2wfeeRx0WTr1s2UkpL2meBSy1zmeOzYUYG7a6Xk5bbmMsp29+1KYbx//z6jnPhuMU/16jWMTJr4kPtzpbjltqtWLaOzZ88aWc/XC5nLd+m+/PIAL1tCmyxKAEI3awau5k0txcJ3bVnrKhxZoFasXke037h0foZuuGzFqlQioQKdPXXC9Q7aSK6LxW7+uEJ0aO/uEGFsBYT5emGboTAv4+AsCPnZvHG/YzlknSWyjOBMTX6cBKvO2GofnT1wn4xck86eZKby3j3HQ0Suznjh6uMnjnIP5vPE2YI7dxwO15Kiahxmk1C+MJ06meKrBLhbP7Nolp+TjDr3stSwWUo6BcvPmZfn0C8n3cPixlcd109b7ifbe/2s27V3+1zpxITPSUb874FuHNAPBEAg+glA6OrFGEJXjxt6gQAIRD8BCN3oj7HWDp2EbpXX7qVCdSvSxk7j6fyhU57Gz1MyjmpO7UHHV/9Gv74007ZPuISuKud4Mqtyy3IRslQyZ/KqD4vKadM+FULP/LDg48xeFoPyYQk4efLkkPY8/muvDQ0IUHMGL8u7e++9LyCQeTyWjYsWLaJBgwYFTe0mdLkxz/foo11D1sfv8Z7mzp1Lb7/9TsieZLayfENlxmLy4Ye7BPYg27BwHjt2XFBZai9Cl/vbMVy6dGnIvt1EpBTE5sxeu3Vzxuv48eNDSjuzIG3Tpk0grlKk6gpd3qffNUi2Msuc99SgQQPbz4zd+eGsb3Ns3Dh6+jDbNGKp27p1osjUlQ9L1QkTxgZkLr9eu3Zd6tSpq+V9tnZCl/uxqK1W7TrKmzevGP7cuXMiw1fN/JXzSqmrLpXX8tlnH9G+feG7SzA9vNA3YwhA6GYMV4wKAiAAAiAAApmNgFPmcEaslecrUyaezPdBZ8RcGNMbAcTEGye0AgEQuLwEIHT1+EPo6nFDLxAAgegnAKEb/THW2qGT0C3S5GqqPLgtXThyhlL2HaWLxretk3cdspwntmIJymXcGZYvoSjlLlqAfh08i46vsL8vLFxCV2vTRieZObtnz54Q2Wc1Jsu6+Pg4I2vQvT2L1rp161gKYh6bJXT58uUN+XWKZs78UncLQf3k+vjFNWvWBolXuwmYgV1buQfuayW6dRYt1xjOfZvXoa7bCwde0/HjxzydAa979rsGr+PKdvL8hDM2ftfA7flO3ZIlS9POnb8GiVx1LC6XfPLkCZ3hhRA+c+Y0bd/+zz2WdgNxW36c1qK1CHTKtAQgdDNtaLAwEAABEAABEAgrgUgJXc4CfbBzXVFGmO9QDncp57BCySaDISbZJNDYJghECQEIXb1AQujqcUMvEACB6CcAoRv9MdbaoZPQ5QFLJdahMh3qU+4iBTyNf+HYGdo/dQUdnLPBsf3lFrqeNoNGIAACIAACmZIAhG6mDAsWBQIgAAIgAAJhJxAJodvtiYaUeH9Nyqh7ecMOJRsMiJhkgyBjiyAQZQQgdPUCCqGrxw29QAAEop8AhG70x1hrh1/X6kO5Y3J66purUCzFVihu2TZ592G6eCLZ0zhn/k6h+34e46ktGoEACIAACICAmQCELs4ECIAACIAACGQPAh063UB/7j+Zofeh8h2u1aqXopXLdoX9Du7sEaXw7xIxCT9TjAgCIJCxBCB09fhC6OpxQy8QAIHoJwChG/0x1trhf6o8RNcUKKPVV7fT1jP7qe/2abrd0Q8EQAAEQCCbE4DQzeYHANsHARAAARAAARAAARAAARAAgUxEAEJXLxgQunrc0AsEQCD6CUDoRn+MtXbYvNh11Kd8S62+up1G/j6PFh3dotsd/UAABEAABLI5AQjdbH4AsH0QAAEQAAEQAAEQAAEQAAEQyEQEIHT1ggGhq8cNvUAABKKfAIRu9MdYe4eRzNL95cyf9P+2f6K9VnQEARAAARAAAQhdnAEQAAEQAAEQAAEQAAEQAAEQAIHMQgBCVy8SELp63NALBEAg+glA6EZ/jLV3WDx3HA2tdB9dGVtMewwvHf9IOUIDd8ygwxdOeWmONiAAAiAAAiBgSQBCFwcDBEAABEAABEAABEAABEAABEAgsxCA0NWLBISuHjf0AgEQiH4CELrRH+N07TBPTE66o1gNurdkXSqTt3C6xjJ3/vPccfry4Br67sgmOp/6d1jHxmAgAAIgAALZjwCEbvaLOXYMAiAAAiAAAiAAAiAAAiAAApmVAISuXmQgdPW4oRcIgED0E4DQjf4YY4cgAAIgAAIgkC0IQOhmizBjkyAAAiAAAiAAAiAAAiAAAiCQJQhA6OqFCUJXjxt6gQAIRD8BCN3ojzF2CAIgAAIgAALZggCEbrYIMzYJAiAAAiAAAiAAAiAAAiAAAlmCAISuXpggdPW4oRcIgED0E4DQjf4YY4cgAAIgAAIgkC0IQOhmizBjkyAAAiAAAiAAAiAAAiAAAiCQJQhA6OqFCUJXjxt6gQAIRD8BCN3ojzF2CAIgAAIgAALZggCEbrYIMzYJAiAAAiAAAiAAAiAAAiAAAlmCAISuXpggdPW4oRcIgED0E4DQjf4YY4cgAAIgAAIgkC0IQOhmizBjkyAAApmIwHPPPUcNGjSg/fv3U+/evS1XNnPmTPH6vHnzaMKECZlo9VgKCIAACIAACIAACGQsAQhdPb4Qunrc0AsEQCD6CUDoRn+MsUMQAAEQAAEQyBYEIHSzRZgjssmyFatSgUJF6NcNKzNsvviiJahi9Tq0cen8DJsDA4NARhGoX78+zZgxgxISEsQUCxcupBYtWlhO98cffwTaLV++nJo0aZJRy8K4IAACIAACIAACIJCpCEDo6oUDQlePG3qBAAhEPwEI3eiPMXYIAiAAAiAAAtmCAIRutghz0CY79htBKclnaOa4IZ43/8RrH9D29Sto8YyJln1Y5j7x2iTKky+WJr3aK8Ok7rPjvqZipRPoh9lT6dspb3le/+VuWPOmllSpxo1Byzh+8E9bnrrr5Ti06NSbft+6Iexj664J/f4hMGXKFOrSpQvNmjWLEhMTPaFZtmwZNW7cmIYPH04DBw701AeNQAAEQAAEQAAEQCArE4DQ1YsehK4eN/QCARCIfgIQutEfY+wQBEAABEAABLIFAQjdbBHmoE0+PeozKlOhCvVPvMHz5kfMXEd/7t5Oo/t2sOwDoeuMMrHni1SvWbugRk48PQfG1JDF8YN9htGPi2b5Eva686GfPwJcRrldu3YUExPjuSOXZ/73v/9NH330ET388MOe+6EhCIAACIAACIAACGRVAhC6epGD0NXjhl4gAALRTwBCN/pjjB2CAAiAAAiAQLYgAKGbLcIctMmMELo8gZ+Syywem7Z7hL79aLSvbN5oKbnsJsh1TyWEri65yPSTQvf555+n119/3dOkUuj66eNpYDQCARAAARAAARAAgUxKAEJXLzAQunrc0AsEQCD6CUDoRn+MsUMQAAEQAAEQyBYEIHSzRZgjInT9kJQZq5++NTBb3ocLoevntFi3ZbnPz8mjh9I/WIRGGDZsGA0YMID8yFkdCRyh7WAaEAABEAABEAABEMgQAhC6elghdPW4oRcIgED0E4DQjf4YY4cgAAIgAAIgkC0IQOhmrTBfXash5Y8rJBZ9aO9u2r9rm+sGOGtTbe+WoSuzYLnPri1rhTALt4CMlNDlrOESCRXE/uVeXIEZDdR+G5fOd+wi+fqZI9w85QK9ZOhyfMMlQXX2rsL0Eh+1Dfflu4gLFStFFavVpqSZky3vCtb5nHg5F+lto1M+WQrdBg0a0OrVq9O7BPQHARAAARAAARAAgUxPAEJXL0QQunrc0AsEQCD6CUDoRn+MsUMQAAEQAAEQyBYEIHSzRphZgNZq0pLy5IsNWvDurRto2sjnLQUdS632Tw+hgoWKBvr8vHwhlShXwfYO3dvu605NE7sG5jmfkiykWfOOPS3v0LW6G9bp/lYWmU6P1b2+UlKq/dzun2Vp2XXQO2Kf6mO3Nim53+7Xke7/18tB/Y78tZfGD+oWwviJ1z6gCtVqhWzHy/21kRa6zKPH0ElUrHQCLZw2TkjQhnc+QG0e6+96367kL/vxhv3uXT0nfAanjexPHfuNoOsbNw/wmz1hBK2c90Xgz7zme3sNpmtqNwpizGfyyF9/0Lnks7Rx2fygPlZnnjtzDNcu/tpS/srBmUe9OxJp04pFju3S8xOjbdu2NGvWLPErMTHR01Dr16+nWrVq+bp319PAaAQCIAACIAACIAACmZQAhK5eYCB09bihFwiAQPQTgNCN/hhjhyAAAiAAAiCQLQhA6GaNMLNsKlPxGtq56afAghu2fEAIxV/Wr6DJQ3oHbYRl2DNjvhKvrVowg/b9tlX8nu+tlZLTLE+luDt94ih9/8X7dPb0ScpfMJ5uf+BxIYWtJKqaPVnuqmp0c5vOjoJQZnTe0LSVEHU/zJ4aWNvZUycs79NVM4Z5Dw/2GWa5FhXAs+O+FvKS5apkJnlZCVcpdFkW7tq6npbN+YTOnDhGLTr1FuuUElKd466H+4g/SrbMqknrTkHS1O50RVLoWslcXhe/PnDigqDzw0K/RqNmdGjfbiFd+bHKpva7d3lOmj/Yk86nnKU/dmwRX1DYtnYpHT98QJwbc/ltGRM+I99OeUushdfHXy6wiqF65udNHS3OLz/FSiWIPfGcM8cNsQwJr++pkdMC7016tZevu529/hTREbq//PILValSBULXK2S0AwEQAAEQAAEQyPIEIHT1Qgihq8cNvUAABKKfAIRu9McYOwQBEAABEACBbEEAQjdrh3nQ5EVCtprlrMx+VGWY3KldHylBzTJLyi63rFgv5X7lGtJTctlNhjpJP7n3Yd1bBGXcWslDXqvXvct9eW3vtgfdU2mOgZ3MleO/Om25yHYd3beDeKnri2OEwGax/VLHxuI1eZassqfVdXrZO3OOK1JcnFl5zuSaVaHLmbbdXhpr+WUFuUbOplZLjrudP6dS01Juy/2Yx9aNh9qPyy0/+OCDItt2+PDhNHDgQE/DTpkyhbp06UIbNmygTz/9lF5//XVP/dAIBEAABEAABEAABLIqAQhdvchB6OpxQy8QAIHoJwChG/0xxg5BAARAAARAIFsQgNDN2mG2uw/XTlzybq36SBnHpWnf6HlPCBQvAtJNqKmDZqTQVcsnm+8YlvOq5YNVJuYsUX7Py97VvXlp76WNzslUY7Dos/dCyiybx2RWxUpfEZC3fG5OHTsssril1JQSdmjXZq5LctuXjI2aYcvy9q4uT9O3H40OZMU6nSW7syMlMJ/hT954ztP90uqGZMnlH7+bGVTG2XXTLg3kvbncLDk5mT744APq3Ts4o95tDr5Ht2XLlhQbm1Zy/fnnn4fYdYOG90EABEAABEAABLIsAQhdvdBB6OpxQy8QAIHoJwChG/0xxg5BAARAAARAIFsQgNDNOmFmYcWlY0uWq0h5Y/OLhbOM43t1zdmTLNbULEt1l1ZCVwo0vpP3vRceDYHiJuq4Q2YRupx1asWE12iXvSuZ+BW6shT2FZWrB5ixDHXLZvbCU+dkyhhwiehyla51Lf8s5SifH5mlyrKbyxrLO21Z8h7evyfkXOjs3Um2q/uV+7AqJy4zdK3KIsv3eCw+y3u2b6INP8zzLXd12Nv1qV+/PvXs2ZNKly5NN910k2j29NNP04QJEzxNM2zYMBowYAAdPXqUlixZQvv376epU6fS6tWrPfVHIxAAARAAARAAARDIagQgdPUiBqGrxw29QAAEop8AhG70xxg7BAEQAAEQAIFsQQBCN2uEWZa95fttf9u8hlKSz4iFX3vjLZYll52EoZPQtbqblOfxIiAzi9DltfJjVSLYbo1+hS7Lz66D3hGZrJwRunPzP3cb12vWLssIXSm4WWTzw/cTc2buE69Nog3L5os7Z5mnei7Ss3e7jHKrT6EsAa5Kdhk/u0xyHofb8B3NFavVFmKfH5a700Y+H1Rm+3J88mW27qxZsygxMdHTEtavXy/KNLdr146++irtXmw8IAACIAACIAACIBDNBCB09aILoavHDb1AAASinwCEbvTHGDsEARAAARAAgWxBAEI384dZSiyrrE87QYYM3dCsZY50uDJ0ZWarlQD3Ir+9tNE5mX5LLssyxZyNW6biNVSrSUtRfpnP1bnks/T99AniLluZrctrSs/e/QhdVRyrLPhzMHnovzzJWd7f7fc/RhWq1XKV7Dq8/fbhbN1Vq1aRH6H7yy+/UJUqVSgmJsbvdGgPAiAAAiAAAiAAAlmSAISuXtgiIXSLlChLefLm87TAo4f204VzKcYXkItQgbgios+Bvb/Z9rVql9uYq6gxp9VjN5ZTHznOeWNdx4z14QEBEMgeBCB0fcY5NVceimnYlmKadiQqfoXP3i7ND/9BqYs/ptTVX1PMxfPhHRujgQAIgAAIgECUE4DQzfwBlgJNlWpy1bhDNzR+TmV9ZaazmaXfDF3Zflj3FiFi0Yus9dJG52SaM5D5bmTOtuVMVaty0jyHzMCVpbxH9+1AzOmq6+rSnA/eFFm7annj9Ozdj9A1Zw/zWg/t3a1VPtkpa1vlzAL41w0rddB76qOTocv353J2LoSuJ8RoBAIgAAIgAAIgEAUEIHT1ghgJodu0VWcqUqK0pwWu+O5LIXBZ1DZt1YVy58lDW9evoG0bllv2b5bYjeIKFaWD+3+n5Qu+EG1KJVxFje6413a+/b9vp3XLFwhxLB+3Ptzu2KG/KGnuVE/7QCMQAIGsTwBC108MC5ci6jmWYkpV9NPLd9vUv4xv+Lzbm+j4Ad990QEEQAAEQAAEsisBCN3MH3kpdPlu08UzJgYWzBmMT4381LLksrxL9IfZU+nbKW8F+rCw6vzcm5Z3zPJdqQWNv0Cb7yaVYs3tXlidkstWktotIm4y1C4LV/LKkzeW3uzdNkjE6gpdLk+8f9e2IL6c0erGym0Pbgzs3reKgYw595n6+jMhwpJLGx/+cw+Vu6oq/e+nJaLMsmTId/Fe37h5UPlqO2Eus32d9u5H6DqJY6v9c3xLla8csj95NzD3sSrDLceSJZ6dyjnrxkX2k0L3+eefp9dff93TcFLo+unjaWA0AgEQAAEQAAEQAIFMSgBCVy8wkRC6NxgVfeILlwgsMJchaVnC8sOSVH22GuJWZtHWqHcrVa5ely6cP08LZowPErDcp2qtxlStdiPxftLcj+j0iWNiKFXOmseXYvmUcS3Rkm8+CYzp1Eeu7+TxQ7TOuGIGDwiAQPYgAKHrJ859P6KYK6v76aHdNnXneqK3u2v3R0cQAAEQAAEQyG4EIHQzf8SlKOP7c7//4n3asvq/VL3+rdSkdSeKK1xMyFmzGOXMzKdGTqPzKcmUNHMyHTmwl4qVSqCmiV3FhrmPWW5JicdCa9mcj+ns6ZNUqcaNogwvt7cSddyncMkyYsxCxUrRNcZfwrndHzu2iNd2bvqJNi4N/YuyXJ86F68vX4G4IAHNY7Ck5HXIh++oZRYsH/k5fvDPINHNr0k5xyWReQ35C8ZTvTsSxZ23ZsnN7f0K3bse7kM3t+ks9vrtR6PpjPEfHKrWaRLgy2O+90I322xSKc9Z0svY8D+tWPk5oXZSXZ4hPg9mqcvyv3iZ8lSsdALJLw2od9Xy/G/0vCewDJ29c7xLJFSg5g/2FPPIO3t3bVlrWzpZnkfz/uWdxSye1YdjWKz0FbRt7VLa8mOSeIvjzp8TnpPl9LSR/S1xSj7yTbtsZj+xsGqrI2fHjBlDvXr1Igjd9NJHfxAAARAAARAAgaxCAEJXL1KRELrmlanydNbkNxwX3rL9kxSbvyBxVu3qxbMDbblEcov7eogM3h1b1tCmH/8beM9pfC7/3Lj5/SGZv37WpEcavUAABLIagWwjdIsULU7Hjh7Wj08jozxY+0H6/TV6pn7yMtGPczR6ogsIgAAIgAAIZD8CELpZI+Yst1jGsliVDwuqpJkf0qMvjRH3narSjds0vPMBurPz04E+Uu6WvrJySNalHFNmA8s/szj9fPSL1PbxAYYcPktcjld9pAi1o2h1x6xsa7Unq/tRzWsyz2Ulmq3uX+X9r1owI0QY83h+hS73keWb5Xok3+QzJwV3FotOArH900NERrQaT7v2Xk+pU5a0FKS8TlU2q3zV7GxZpvgXoyza5CFGFRzl8bt3uxi6iVM+w3y3r3z4SwOcSczczJm0LI1bdOotvlSgPrzfDca3780C2MxUzdAdP6ibpzt6vcZFtpNCt0GDBrR69WpP3WVW79ixY6l37+A4eBoAjUAABEAABEAABEAgixGA0NULWGYXuqpoTZr7SeAOW876vfLqGsSZtotmTgravJuclZm/aglltz56dNELBEAgKxPINkK3UOGidOrkcbp06ZJevPp8SDEVauj11eyVunsT0VuPaPZGNxAAARAAARDIXgQgdLNWvFnY8WPO5GSZpZb+VXdl18du5yxDK1avQ2dPncjQ+0Tl/HJ9TtmaulGSe7Fipjum2s+OFb/Oz8mjhxyn4czQ/HGFtO+GDccedMdI79515+V+T7z2AVWoVsv2XmB5pvyeYe6XEedQ7jU9GboQuuk5MegLAiAAAiAAAiCQlQhA6OpFK7MLXd5V/dvaUNkrqwTusOX7de9ITKu2Ke/cVXfvJmchdPXOCnqBQHYjkG2Ebnx8PCUnp9CFC+f1YjwiiWJi4/T6Gr1qFs1ND1UqQJ0qF6TcOYgOn7tEIzaeoKk7ztClVOthU5NPGRdkNdWeEx1BAARAAARAIDsRgNDNTtHGXkEgaxCQGcB2d97KjPfIwyQAACAASURBVF+3DN/Mttu2bdvStGnTxLJ++eUXWr58uW3WLcvfihUrUq1atYy/jyXTrbfe6jmrN7PtG+sBARAAARAAARAAAT8EIHT90PqnbVYQump55Y2rvqfylaoT34VrLsMsd+UmdGV278H9v9PyBV+Ibm599OiiFwiAQFYmkG2Ebr58+Shnrlx05vRprXjFjF6r1Y873VM+lt5vUoxyxqSJ3L2nL9I1hXNTrPHC1uMXqGPSYdp75m/L8VOfrqM9r9rxuutq0G23NaUKFSqKl3fv3kWLFyfR5s1GFrDF88gjj4hX16xZa9smLAvLZIOY952YeC/Fx8fRyZOnaObMLx1Z7dmzx2C6OKQNs69bNy2OXnhy+xdfHERFihSm995733beTIYuqpZz2223Ufny5R3jHlUbxmZAIEoIQOhGSSCxjagjwGWgvTybViwKuUPYS7/M3EaWh+ay4nMnjwxkOnNWcF3jW/3yLug3e7d1zYLObPtkqfvkk08af7+oYPzdYje1aNHCcoksfPnZsmUL/fvf/4bMzWyBxHpAAARAAARAAAQyjACErh7arCB0eWdVazWmasY1KclnT4s7dS+cP08LZoynC+dSQjbuJGf5vRtvaS3u0GU5/NvWdaK/2seOpFU2sB519AIBEMgKBLKN0M2RIwcVKlzEuEf3iFZcdIVu4pX56d3GRenMxVTqu/ooffV7spg/r5Gl+2LtwtSjakFae/g8tVxw0HJd4RC6o0aNokaNGlFs7D931cnJVqxYQWPHjguRths3bhRN3nrrLfrwww+1mGXFTuZ9M7vbb79dZBPwHWHmh4Xv4MEviZf5P2S1adMmpM2AAQOoQ4e0e/oeeqiTqyBnqdynTx/R/vvvv6e+ffuK30vJyL+P9ph4EekZeb5k3O1impFzp3fscuUSqGTJ0pQ/f346dOggbd++zfeQfseIjy9ElSpdLeY8e/YsrV+/xvec6AAC4SAAoRsOihgDBMJPIDsLXaYpyypbkeX7c796f3hESoKHP7IYEQRAAARAAARAAARAwIkAhK7e+cgqQpd31yyxG8UVKio2unX9Ctq2YbnlplU5y/fkyidfgYJCBvNjvnvXro86wcbV3wfu8NWjjV4gAAJZiUC2EboclIJxcXTxwkVKSUmTqn4eHaGby8jI3d0hgc79nUqJiw7SxqMXQqYc36QosfS9Y/5B2nAktBx0eoXuwoULqFSp0mJelpIHDhwQvy9cuLD4xc+BA38Z0vCZINEIoZsmslW5+sorr4Zkyw4dOpRat24diGvNmjVDYszj1K5dW3Bu3tw6c8HcifuwgB8/fnwg61dKRm5rNY+f85zZ286ePTuQ7WElyTN6/VlV6N5/f0fjiweNg/Ds37+PJkwYa2Qbn/CEze8YjRvfTHff3Zby5s0bGP/UqZNGGcYpWjLZ0yLRCARsCEDo4miAAAhkVgJ8x/AVlatT4ZJlxBKPH/yT/tixBSI3swYM6wIBEAABEAABEACBMBCA0NWDmJWE7hVGqeW6N98lNjpr8hu2G3bKtuUM3327ttGmH/8b1B8ll/XOD3qBQDQTyFZCl7N0440Lyk+eOEaXLl3yFVcdocsTdK5cQIjaTcdCZS6/3zIhH029pTi9uv4EvfM/485c05Meofvuu++KzFx+5syZQ4MGDQoaXZWRnKnLJdPkA6H7T2ayZGHF8PPPP6eqVasGuFllNC9ZskTIczNjXwfQaAyh65eYfvusKHSliD18+DD98MP3IlP2uuuuN+6rq0MsdUeOHOYKxO8YtWvXpU6dutK5c+eMLx4spCNHDlNCwhXUsOFNYq4RI17xLJJdF4cGIOCBAISuB0hoAgIgAAIgAAIgAAIgAAIgAAIgEBECELp6mLOS0PUqXb22U4np9NEjjl4gAAJZhUC2EroclDxGFhmXBT1x/DilpqZ6jpOu0HWboH6JPDS3eUkaY8jcVwypa350hS6X52W5yI9attc8vioJ1XLAqtDle187dGgvuPHz888/25b85Xn5l2zLUumzzz4PKTPMma/XX3+9URL2EA0fPlxkwvKf+bHrw2vlZ+7cuXTw4CHPa+I+6vhOe7AS2VLabtu2jdq3bx+EULZnWcvy3Cxt1ThI2cuvtWrVSozD5ZR5bfXr1xcZ1LK8srpXvpeX/1ypUiWRtSpjKlmo9/by/btqrOxYup1Lfl/G0vxFAC99ddtINnXq1BES/LjxOV27Nu3+aslGjm0+a3yW5syZ61jSmks5N2nyTwYr3yX99tvvhCzXSehanXGOgfn+ZJ7rmmuqiPOd0Q+XPO7ffzCdP3/OOCsjgiRq586PCqk7b94cWrRovu1SdMbo128glS1bzsgkfycoG5ezdhMT29O2bVuM7OBxGb19jA8CAQIQujgMIAACIAACIAACIAACIAACIAACmYUAhK5eJCB007hB6OqdH/QCgWgmkO2ELgczn1HKNjZfLHFZ0IsXL3qKr1ehe0vpvNS3Rjw1KJFWfnTD0fM06ZfT9MWus5bz9L0ungbUjKc+q47RxzvPhLTRFboy+5YlYffuj9lKLhaAr702VMw7ZcpHgZLCUlR+9tln1LJly0B5ZrlAq2xTNSNY3QivgUvoqmJLFWY7d+4U99Sa+wwcODBIkumsiff34ouDgrJo5Tx8P+oLLwxyLTWtslTv0ZXlmFk6fvnlDOrWrXtIWWX1/lxZJlkt48x85f26vC7ZxiyW5Z/NB0TNCH7qqX9Rx44PhdyVbMXf6dCzsOzSpYsoEx3pO2RVNuY1qmWm1S8imM/N66+/EVIa2+kcWJUctxO6HE8uAW2+j9qKsXo+5s+fn6Fit3XrdtS0aTNLacv34fbtO4B27dpJY8akfSnC6vE7RpUqValHj3/ZStuXXx5O/BeXgQPT7oCWD2f11q1bj+Lj00q+79mzmxYs+AaZvE4fSrznmQCErmdUaAgCIAACIAACIAACIAACIAACIJDBBCB09QBD6KZxg9DVOz/oBQLRTCBbCl0OaN68eSh/gTjjPt0USj4bKlLNQfcidB+/piC9VjdNUmw7cZGSL16i2sXyiD/P/P0sPbP6GJ268E9WcC3jPc7ONa7apVqz9tOhlNAy0LpCV95BapVV6uVAS4Eo791dtWoVFShQgOrVuzFwJ696p6wq2Fj2rl69Wkxz5513CplqFsuyPb/Oz/r162nr1v9RtWrXBspEm9fud008rsyu5XkWLVpEO3bsoDJlygSknN0cqijlTMvBg18S67TaM4/Bd93KjGg101nen6vOo0pLyZelNj8yC9UsdN0ydNU18lzLly8zBNmpAH/z2q3OgCpy5fscF15vpB4vGbpqqXBeX1JSkojprbc2FWeTmZq/DKCeAz6fnGVeuXJlatasmZCz5vuNrYSumm3NjOfNmyewNG3aVMhv87wck+eeezYgf1n8Z5TYfeyxnsbnrLqRnTuc9u3bGxKuAQNeoTjjDnGzXFUb+h2jWbOWxvlqbZv5KzOD1exd2YdLNHN5Zn44w5fLRI8dOwpSN1IftCieB0I3ioOLrYEACIAACIAACIAACIAACIBAFiMAoasXMAjdNG6q0D126C9LmCePH6J1y+wr8ulFAL1AAAQyK4FsK3Q5IHynbv78BShnrlx0wShVesHI1v374t//d79ucDlmN6H7yNUF6I16Reiv5L+p29Ij9OOh8yLmpWNz0uiGRei2Mvnorc2naNjGtLLKVQvloq8NmVs4Tw7qa5Ody+3SK3Sdyi07HUopFM0ZmpzpOHHiBCGp1LFl2eAjR46E3NXLMpjbT5o0MVDeVhXA5ntn7e6K1VlTnz59xDZVEct/tpO0dncHy3tw1Xt0pTTnLFvOPpZt1H1a9VOFrl18rNbhdIeuk8B3KhnNLHg9UkrKM8Gi9KOPPgopIxypH2RyP17PH6+Lz+aoUW8KqauKaJW3+ayp0lXGkceyErp2mdrcnrPT+exblRfnrF41y53F7tKlSy3b6vKVpY/79etlOYTb+9zJrY35fXnf7scfTzZ4rwmZ1+r9kSPHhshbKXmTkhYZJbNn6SJAPxAQBCB0cRBAAARAAARAAARAAARAAARAAAQyCwEIXb1IQOimcVOFrh1JFr1Jc6fqgUYvEACBLEcgWwtdGa2YmBhRGpTv12XJmyNHTuMX582mPUcOHyInodv+qvw0pmFRkWHbauFB+u3URbqiQE5qdUUsvW+UW+aHs3fn/JFMe8/8TVfF5aJvWpSk4nlzUO+VR+nz36zLMXO/yy10VTkpeUjZ5kUWs2QbO3aMKNmstpfCzJwZyXOoAk4tsyslp9c1yRLQdlmmVvuwE7pWmbayLUtjvj9VzifLUasZnapQVvenZvOqPz38CF1m/MknH4vuci3qWHY8+fV27doF7uXlDFNeO99RbL4PNtI/2eyELpeV5tLW/FixsypxLeNiddZ4HBlbVR5bCV11bLMY9sKH13777c1CeH/wwWTHe3+9jO0mY62yZc3j+h3DTejKe3SlqHUq0cz39548GXqHuJe9ow0IqAQgdHEeQAAEQAAEQAAEQAAEQAAEQAAEMgsBCF29SFwOoau3UvQCARAAgcgSgND1yNtO6N6ZEEtTbilGx89forsXHKRfT6bdyftS7UL0r2vjaPGfKfSUIW0PJKeVU65XIg99cFNxKhWbg5798Rh9+KtzuefLLXStxJWd0GWx2Lp1KypRogRVqlRJ7LdChQoBwlZC1+qOVjeh63VNcp2cEcm/zA9LZrNothO6Uuax9OR7dNX7UW+55RYxtJSNUhzKPjy3bMPt7Panrs+P0FXHY55Wj4yD1T2+GZEx6vFjZdvMTug6fRGAB7PKvJZjWd37zH2sMm+thK6aAcz9mNuuXbto7969QoB7leDmjOhw3FPsV8Zagfc7hl+hy3PyvbpxcfG0YcNaQ2L/bJnZm96zg/7ZmwCEbvaOP3YPAiAAAiAAAiAAAiAAAiAAApmJAISuXjQgdPW4oRcIgED0E4DQ9RhjK6GbP2cMbUgsQ4Vy56AWhszdcCStzDI/JfPloOm3l6BrC+cWf157+DwVNNpdY5Ra5ueFNccD2btOS9AVulZZhx63KprZiU1+z0romu8L5XYsvP766y8qXbq0bYZuJISu277V+23t9q1mwXK2bZMmjY1sy9uDSvuqbTh79Jln+om7Vc0ZwhkpdN32KjOFzff4suwMR6ao2/xe33cTuk4S1BxDt4xyq3hYCV1eO8eY48r3QnMZcfWxE8bmPfN88m5pfi8SQtdN1vI63NqEo+QyZ+nee++DVLx48QCWXbt2Gnc+/wC56/XDgXaOBCB0cUBAAARAAARAAARAAARAAARAAAQyCwEIXb1IQOjqcUMvEACB6CcAoesxxlZC994K+em9xkVpglFWeaAhaM0PV22+z2jzmFFu+fqiecTbqw6dozc3naSlf53zNLOu0FXLw1qV4ZWTq2WB1cxXv0JX3pPLcvTzz7+gmTO/DOzPSqjZCTPuFO4MXS+loeVinfa9cOECcT8r37XKWbqc9Wou/yzbMMuuXbsKka3ezeq0P/VA6GboqiWq3Q4YS/h77mktpDM/nH3M8bucd+fKNdsJXZlNa856lv3UsyPPvbxD2K70tjyL6phO51P97NSvXz9wFvh1c6zVGPBnUp4bfp3nmz9/vnFv7Nx0l1x+7LGehmSuTuPHv0Pbt28LCT1nxvJfIgYO7Gt7LPyO4Xb3rdN4LHavuaYaXXllRSpbNoHyGuXuZ878XIhdPCCQHgIQuumhh74gAAIgAAIgAAIgAAIgAAIgAALhJAChq0cTQlePG3qBAAhEPwEIXY8xthK6r9xQiHpWi6PWxr25qw79k53rcUhPzXSFLmcSTpw4QWQRqhmo5kml7JKlhOX7foSuWubW6l5TKXsjXXJZyj+7u1NZZpvL5DrtW70jlyUoszXvV4pA3itn8PJjbhPuDF2eQzK2ul+YzwI/mzdvsjxzzKFLly4BscuNWH4mJSWJ+2Uvx2MndK1KKqvrs5KzViWV1T5yLlX42gldnv/48WMh50aKfPOXB5h9hw7t6aabbhJynx8pcocPHx42tFKurlq1nKZPnxY0brlyCdS37wCjPPROGjNmlO2cfseQ4+7fv49GjhwWMq4Xicyd5N26duOEDRIGyhYEIHSzRZixSRAAARAAARAAARAAARAAARDIEgQgdPXCBKGrxw29QAAEop8AhK7HGFsJ3WdqxNPz18dTt6VH6Os9yZYj1Syam2oUyUMf73S+K9duGbpCl8dTs3S5rOuUKR8FMmdZ4vXo0UOUjuVnzpw5NGjQoMAy/AhdtdSw+X5bKdN44EgLXd7jsGHDhHg1iza1RLTXzGT13lyWc1aiWLZhQc7zOrVhJnYZtVb8VRFslsRSNrMsfOWVV4KEo9fy23Zil+eVD8f6xRcHUb58+YLOkzxvnIG6f/9+evLJJwN9mPXDD3ehlJQUGjJkaJBY5jnLly8v2qry2OmuXClPmW3fvs8ExlNjqsZbPQfmLF31M6KeAyuha8eRmYwdOyakrLi5DHlGiFwJOT6+EPXvP1j8ccSIV+jkyRMB/r1796WKFSvRxx9PDpQ15vYtWtxNK1b8QPv27RVt/Y7BfWQZZnVsfr1163bUtGkz44sG/wjm2rXrUsuWremnn1bSokXzA+vjeQcPHmacG2sxbPezEa+DgBUBCF2cCxAAgXARuO2+7lT6ysqUNPND2r8rtPpFuObBOCAAAiAAAiAAAiAAAtFLAEJXL7YQunrc0AsEQCD6CUDoeoyxldBtWDIvfX1HCVp24By1W3QoZKTaxfLQTOMe3Zw5iK78bB+lepxLbZYeocvjSNHnNLVVKVo/QpfHllmOsmzv0aNHjftGqwtJdO7cuctyhy6vSxV2LNT4Fz9cLpkfs3B12je3l+/z7+3uTHVro5uhq5bHlnuZNWuWEKEsFUeNelOUhOaHBT4/LJ5lZqhV9q7VuZBil2X/gQMHqE2bNoFm6trNmd/yDHBjeVcv/17KUf69+YsDduWQ1bhxjPhp3ryF+KcqSvm88RqdYsrvWZ2D2Nh8AV7mWFoJXXVe5r9r1y4xr7xPl9fSvftjAcEsWfH6//vfJApnRq5V3GSG7alTJ2nLlrRs7PLlKxgljcsZWfpbaMKEcYFuUvKaJaqfMXgwzq595JHHxbhbt24W0p7PG5d/Pnz4sCG6RwXkMmf09uqVVvJ5/fo1tGPHdipWrDjdeGNDcafuvHlzgkSv1R7xGgi4EYDQdSOE90EABLwSSOz5ItVr1o4+fWsgbVz6zxeRvPZHOxAAARAAARAAARAAARCA0NU7AxC6etzQCwRAIPoJQOh6jLGV0OWu024tTneUzSfu0R287jhduJQ2YKJxd+7IekUof64YenzZEZptk8HrNn16hS6Pz2KpXbt2AYkp52TRNHfuXHr77XdCluFX6LJQfO21oUFzsPQaPfptkZ3JAjXSGbpyU0899S+69977AmKTX2f5xiJ77NhxQRmjbkJXCkgew5yNLOdza6MrdHl8FpMsWDn7lx/1zlaOwTPP9AsqncxtOM7Tpn3qu3wyj9e6dasgEalmu5rvi5VfHjBnzjL/bt26C+avv/5G0P3K6r3EZuFp/jKCehe0zPqVYl6yZzFrjqnbOVi0aFFQdjq3dyq5/MQTjwdEsByb5fb48eODMqN5jfHxcb65u/1McHq/ceOb6Y477qS4uPhAsw0b1tLUqR8Edbv//o7Gfb6Nyeo9r2PIAVnqtm6dKMSxfFgUT5gwNihTmN/jth07Phy0Pv7Cx8qVSw3ZPys9W0dfEBAEIHRxEEAg+giUrViV7un+HG1fv4IWz5gYsQ1mhNC96+E+dHXN+jS6b4eI7QMTgQAIgAAIgAAIgAAIXD4CELp67CF09bihFwiAQPQTgND1GGM7oVsqNgcturMUlY7NSWf/TqXtxy9QQsFcVDxvDjL+KGSuXTlmL1OHQ+iq88jyuWvWrLW9U9XLuuza2JXQTc+Y4eqbmdfmd492d7nKcWSc9+zZE3Lfq9+5rNpb3T/M7exet7vHVwp0q7uX1b3YnVcet27dOqKp1/t+5Tk4efJUkFz2w0U9Sxn1WfKzHnNbFqcFChQMlFi2Gouz59XSzDpjqH04A7dkydK0c+evjuNyH9n2zJnTtH07ylimJ9boG0wAQhcnAgSij0DNm1rSg32G0Y+LZtHMcUMitsGMELpPj/qMylSoQv0Tb4jYPjARCIAACIAACIAACIDA5SMAoavHHkJXjxt6gQAIRD8BCF2PMbYTuty9TP6c9PINhejOhFiKzRkjsnQ/Me7Mnfrrafr52AWPM1g3C7fQTddi0BkEwkhAlpC2umc4jNNgKBAAgWxEAEI3awf76loNKX9cIbEJuxK38UVLUMXqaV/k2bVlLZ08GnrlhZkCC0H5eO2jzuOl3K6XtVtFR/Y7e+oE/bphpWMA1TkO7d3t6V5Xzm4tkVDBkWl6To1ck2Qkubmtz8++dYSuum8vbJmBeU1uQldnDr9CVz2HTp+L9MQQfUEABEAABEAABEAABDKOAISuHlsIXT1u6AUCIBD9BCB0PcY4ZqTxH9ly5fHYOjzNUpNPEfVvGp7BMAoIZDICsvS0Woo7ky0RywEBEMhiBCB0s0bApNTi1c6eMIK2rP4vdR30jshclM+w7i1CZG3HfiPo+sbNgzb58/KFNG1kf8uN33Zfd2qa2JXy5Eu7pkA+u7duoJXzvwiSxqo05HZ8d6p8zqck05fvDrGUzCwB2z89hAoWKhrUft7U0bRy3hch6xoxcx39uXs7Jc36kFo/+kxQv1+MksKTh/QO6WM1Bzc68tdeWrv4a8syxCwCzUx5H0kzJ6e7bDHHj5+Txw7TNbUbid/zWr56fzh1fu7NAG+ru2et9nL6xFH6fPSLIUJbPSdWAbYav+GdD9DtDzwexFVdn5U0t2LFMTq0b7c4b+Z5/M4hz5bdp5PnMpdgZln80LOvU7HSCUHdOIZ2Z0ttyGusd0cibVqxKN3xtls3XgcBEAABEAABEAABEHAnAKHrzsiqBYSuHjf0AgEQiH4CELpeY9z3I4q5srrX1mFpl7p7k3FR6yNhGQuDgEBmI8D3ATdo0ICmTPlIu/RxZtsT1gMCIHB5CUDoXl7+XmeXmZCyjO4VlatTXJHitC7pGypVvpKQhOaStF1fHCNeZ4G75cckMVXDlg9QhWq1LEvxSonGonHhp+MCSyt3VTW6oendNOeDNy2FLguzU8eP0LI5H9PZ0yeJ29/cpjPx62/2bhskmVm6PfHaJDE2i9IjB/ZS/oLx1KR1JyHirIQjC10ei58Ny+bTqnnTqUChItT28QGiDwtuVQSzbHxmzFeiPYs8XhM/xUolUI1GzeiPHVtCyhBznx5DJ1Fc4WK0asEM2vfbVtd1eY0dt5OilcX41xNfpwZ33i8EuJSNv2/7mZ4aOY34/fdeeDQwNMedhe/5c8n0/Rfvi73wPli682PmK8+JjAEL73VJcwPjWWVOc0yaJj5Cu/63LsCqUo0bxfpYHA/t2ixkq3I/6tmqXq9p4MsD5jj6nUPNsm3+YM/A2ZALsctm5i8w/PX7DnGuZMzlFxTe7tfRNkOb18f85TPp1V6u2d9+4o+2IAACIAACIAACIAAC3glA6HpnpbaE0NXjhl4gAALRTwBC12uM699DMR0He20dlnapn7xM9OOcsIyFQUAABEAABEAg2glA6GatCLPcZMnGz9v9HhSyVJa5VYWulLNWGaxSxpkzep3K5bJgM5dqlnPweuRaJE2ZGfzD7Kn07ZS3ApClZLYSfizUWCa/0fOeoKDwnvkxSzbOJm7esWeInHYrN2y1F7n3hdPGBWVnSjnMwtq8Lj8nx8zcao3PjvvaELxngzJPZT+zjJT97bKt3Rh4WbtdrDiTtc1j/UPkM49p18duPi/t/ZZcNs9ld07UdhzngRMXBF5ykr9e2KENCIAACIAACIAACICAPgEIXT12ELp63NALBEAg+glA6PqJcQSzdFN/30I0qouf1aEtCIAACIAACGRrAhC6WSv8Um6qQpSFFWeeqiVopSizyjSUgsuc2XrXw31EZi1L4C/HvuJ6166Uhlblb+V75oxTKaSdsj7NMk3u2ZyBbCctOUu120tjhRz+5I3nPN2bO2jyIsqTN5Ze6tg45EBIllYlrb2eHrOUtFq7LMss4yizRs0M5Zy85nPJZy1FcziErp3glzzM54fX5XaHrpmXl/bpFbpeWciSyz9+N9Oy9LfXWKMdCIAACIAACIAACIBA+ghA6Orxg9DV44ZeIAAC0U8AQtdPjAuXInpyDMWUvspPL99tUw/sIhrXi+j4Ad990QEEQAAEQAAEsisBCN2sFXknIaruREowFr/mR5bj/XHRrKDSw7LsMJcx5lLAu7aup9+NEsBrFs+2lLtOQldmPKqyV4pWKwHMa7TL1vQrdNWx+PcsRPds30QbfphnK3d5DnOpacnthqatROlqq3LQXk+PjtBVs6zVsslyTlmK2Cy6+X2vElOOxfK41s13ivLd8UYpb364pDffc2zet9yL1ZcFnAStnzmszrLVPs38+dzVva0Nlb6yMpUoV0G8nSdfflGy2XzevcYO7UAABEAABEAABEAABCJLAEJXjzeErh439AIBEIh+AhC6PmOcmisPxXD55ds6ERW/wmdvl+aH/6DUxR9T6uqvKebi+fCOjdFAAARAAARAIMoJQOhmrQCzeLQToupOpHRz2p2d4OIM3iqGwOS7duVj1dZJ6HI/81rd2tvJQB2hy/PzfCxjK1arbUi9WLEVlrvTRj4fIqjlHE68LpfQdTuh6RW6HG95Jy9L/BNH0r4cyfc0l6lQxVboWs1rF0O/c1idZTehy18YaP/0ECGhOc4H9xlf9jSeQsVKCSEPoet2kvA+CIAACIAACIAACGQOAhC6enGA0NXjhl4gAALRTwBCLHq6aQAAIABJREFUN/pjjB2CAAiAAAiAQLYgAKGbtcLsV+i6STC33XMZ2iatO1lmODoJWlku+HJl6Jr3xbLv9vsfE5LaSoh75erGy+799GTo6ohIrxm68o5gXvebvdsGiW47Oes3Q1dnDpWj15LLalb6xqXzA0N4ZaEbW/QDARAAARAAARAAARAILwEIXT2el03oVrye6PrbiSrVJipZnmJi4/Q2kIV6pSafIjq4h2J+W0+pG78n2vVzFlo9lgoC2Y8AhG72izl2DAIgAAIgAAJRSQBCN2uF1at4dLpD1++O7cStk9BlEdzmsf7iPt7JQ3oHpnQqGf3suK+FODbfVauboWu1T7uxnO7Q9cvLqr2O0HW7Q9dpXV4lpmz38/KFRuZy/6Ahw3WHrs4c6kK8Cl1ZNvuNnvcE7cMrC+7E4v/XDSvDEXKMAQIgAAIgAAIgAAIgoEkAQlcPXKSFbqpRhTPmoZcp5qp/KjvprTwKeu1YS5c+HUIxRiVRPCAAApmPAIRu5osJVgQCIAACIAACIKBBAEJXA9pl7OJV6EqJxaVn33vh0ZAVc9bkyaOHgl5nmXVgz46Q16WcNWe2yjn47lmzRHvitQ9ENuzsCSNo5bwvAvPY3ZPrdL+uX6HLeytVvnKImJP3+vJizJnLUl7+MHsqfTvlrSAuVqz8HgEdoctzOGXDOq3LSaKqa1fv6VXFO7eRMTSXmubyyc079hRljdWzpd7BrPbRmUNdo2RgFv3mGNh9WeCuh/vQzW06u5Zcll8osDrPfuON9iAAAiAAAiAAAiAAAvoEIHT12EVU6JatTDE93yWKK6q32Gjsdeoopb7bk2jfr9G4O+wJBLI0AQjdLB0+LB4EQAAEQAAEQEASgNDNGmeBhWf+uEL0YJ9hxMJp4afjxMLV0rLmnUh5yiL2x+9m0tnTJ6lYqQRqdHcHOrx/T4iMe2bMV3T+XDKtS/qG9v22VQzH7fl+Vb6D1ixnpajjduocfG8t31lqJcY46/SJ1yaJsZNmTqYjB/YG1sR3n056tVeIiPUrdFkAFit9BW1bu5S2/Jgk5spfMD5QOtoqG1WVkZxVvC5pruhXqcaNVKtJS1q1YEaI6PVzcnSFLse983Nviqk2LJtPOzf9JH4vGVvxkuuSWceSMzOoeO0NIZm4r05bLuK7cNo4WrN4NlWsXocatnyAyla8RrxuxYvH5nhxOWhek+QbV7iY6GOWwDpzyH2oAnnl/LQvB5S7qhodO7gv6MsCUkDzepNmfkgFChWhGo2aifjxmviMTh76r5AvLPB48gsFcs703Jfs51ygLQiAAAiAAAiAAAiAQCgBCF29UxEpoZtaPIFinppAMYVK6i00inulHj9INOphohPGP/GAAAhkGgIQupkmFFgICIAACIAACIBAeghA6KaHXuT6SiFontHtjlzOPJVCS/aVQtgsg1nQNm33CJWpUCVomtMnjtL3X7wfJM+4gZqhe+rYYZGRKx83edb+6SFCCMqH55jzwZuWgtqv0GVp3KJTbyGV1ed8SrKQojPHDbEMHEvde3sNDunHmahfT3yd9u/aph1wXaHLE7JsvKvL00Fx4b2wsJ47eaSloJT9rDh/PvrFIGnO45vbyfh1HfSOmNecHct92j4+QJTIlg+L1F3/WydKbZuFqM4cKuyO/UbQ9Y2bB/E3i2aOn1yveq54vyx26zVrF/KlBHVANUN3/KButly1DwE6ggAIgAAIgAAIgAAIeCIAoesJU0ijSAldemIMxVRrqLfIbNArdatxhct7/1w7lA22jC2CQKYnAKGb6UOEBYIACIAACIAACHghAKHrhVLWb8PylZ9dW9a6iioWY5ylyc+hvbttRab5Dl0WqSUSKjj2UUnK9mdPnciwe0vlvv3Moe7fKQM60qdCl5fM7naKJe9FtjOfEZ7XTmbb9bFjozOHHMtrXOzOodM+5Bx8Xrx8RiIde8wHAiAAAiAAAiAAAtmJAISuXrQjInSvqW+UWk6rFoXHnkDqOKP08i+rgQgEQCCTEIDQzSSBwDJAAARAAARAAATSRwBCN338snNvs9DNziywdxAAARAAARAAARAAARAAgfAQgNDV4xgRodt+IMU0uldvgdmoV+qKL4k+H5aNdoytgkDmJgChm7njg9WBAAiAAAiAAAh4JACh6xEUmoUQyK5CV5ZA9nIkvv1odIZlH3uZH21AAARAAARAAARAAARAIKsRgNDVi1hEhO7zn1NM2cq+F9i5cgGqXyIvFcwdQ6cvpNLqQ+do6o4zluNw20J5ctCKA+do3ZHzvudy69D72jjqVKkAJf2VQv1/Ou7WXOv91P07iP7dXqsvOoEACISfAIRu+JliRBAAARAAARAAgctAAEL3MkCPkikhdN0DCaHrzggtQAAEQAAEQAAEQAAEQEAlAKGrdx4iInRHJFFMbJznBbKc7VUtjirF5wrpc+z8JRqy/kSI2F3VurRo/4rx3pj/nfI8l9eGcvydJy9Sgzl/ee3mq11qsrHu/k199UFjEACBjCMAoZtxbDEyCIAACIAACIBABAlA6EYQdpRNxXeSVq3ThP7YsQVZqFEWW2wHBEAABEAABEAABEAABC4XAQhdPfKRELoxo9d6XhzL3NfqFqbYnDHE8nTN4fO07cQFqlooN9Utnicgec3iNqOFLq+r/VUF6PPfzthmCXvepEPD1KfrhGMYjAECIBAGAhC6YYCIIUAABEAABEAABC4/AQjdyx8DrAAEQAAEQAAEQAAEQAAEQAAEQCCNAISu3knITEL3hmJ56Ks7SgiZ+/lvZ6n3yqMhmxpxY2HqVqUgJf+dSm2/OxQor5zRQlePrv9eELr+maEHCGQUAQjdjCKLcUEABEAABEAABCJKAEI3orgxGQiAAAiAAAiAAAiAAAiAAAiAgAMBCF2945GZhO6HNxeju6+INe7KPU+tFh603dDc5iWNu3XzBElfVejyPbqPGtKX797lh7N87cows0R+4Kr8VDo2p2jLd/V+80cyzdubHDQ/36HLGcLqWHcmxBpZu/npr+S/xb26so0c54Ptp33f5wuhq3eO0QsEMoIAhG5GUMWYIAACIAACIAACEScAoRtx5JgQBEAABEAABEAABEAABEAABEDAhgCErt7RyExCd/v9ZalInhzUZcmREKGq7k6K1F+NksyvbTgh3pJClzN777kyVmT5qo9Vxi9n+3asVCCkLfebZMhYlrTykbKZZe8jPxwRL7PAHVy7kCgNffjcJSGZ1Yfv++2w+LAvqQuhq3eO0QsEMoIAhG5GUMWYIAACIAACIAACEScAoRtx5JgQBEAABEAABEAABP4/e2cCZ2PZ///vWMbMMGPfl0YUHllT2SoPEpUWJZKKqITqb7QgLSJ5KvwIEVJIRFOiyMM8ylpZQySaqRhkxjKDMbb5399ruo773Oe+z7nPdc4ZZ/ncv1cvzTnX+r6uMz0/7/P9fkEABEAABEDAggCErtrVCBahy5Gy33asQOlnLlKjLw55vRkpdDkVc0r6WZq4K1uMwZG6HEXLj14Uc03ccTeVFqmbv/ojh2Q07cuNS9JTdUsIyatv707o8hjHNaE7/ddTIhKYx36+QQJViSvsMdrYuFEIXa+PHh1AIGAEIHQDhhYDgwAIgAAIgAAIFCQBCN2CpI25QAAEQAAEQAAEQAAEQAAEQAAE3BGA0FW7H8EidPXRrs2XHPZ6M1LomqVr/qxtOfp35RinFM0c5cvpnU9duOQUicsTy/b6KF13Qpf7GKOKpaBm2Vtj/kHb+4HQtY0KDUEg4AQgdAOOGBOAAAiAAAiAAAgUBAEI3YKgjDlAAARAAARAAARAAARAAARAAATsEIDQtUPJtU24Cd0RW0+61MvlqNv/Vz9e1MaV6ZLd0ZJCV9/eU8plMwm9/b7KIkq3/CcHbB8OhK5tVGgIAgEnAKEbcMSYAARAAARAAARAoCAIQOgWBGXMAQIgAAIgAAIgAAIgAAIgAAIgYIcAhK4dSpEpdGX0r5nQ5fTI7arEULmYwlSuWCEqE1NI1PHlx1ehK6OGIXTV7iZ6gcCVJgChe6VPAPODAAiAAAiAAAj4hQCErl8wYhAQAAEQAAEQAAEQAAEQAAEQAAE/EIDQVYMYLBG6vPqjD1ej4+cu0bUL073ejJSnZhG6ZkKXUyJPaVmGaiUUccy1P+sCZWi1cFns8usQul4fAzqAQFgRCFmhm1ckmqJa3EtRbXoQlavu30PJ+IvyUuZS3g9fUdSFc/4dG6OBAAiAAAiAAAgEhACEbkCwYlAQAAEQAAEQAAEQAAEQAAEQAAEFAhC6CtC0LsEkdGWKYjMpq98dC9qetYrTpoxzNHDDMfGWt0J3aYcKdFP5aNpx/Dy983MWLTuQ45jCLL2ySsplROiq3Un0AoFgIRCaQrdURaL+kymqYs2Acsw7/DvR+wOJThwJ6DwYHARAAARAAARAwHcCELq+M8QIIAACIAACIAACIAACIAACIAAC/iEAoavGMZiE7pgbSlGfa0tQ+pmL1OiLQ5YbkqJ05t5TNOSnE6Kdt0JXtr99+d+0JdM5yMxfNXQhdNXuJHqBQLAQCE2hmzSboq6qXyAM8/ZvJZrYt0DmwiQgAAIgAAIgAALqBCB01dmhJwiAAAiAAAiAAAiAAAiAAAiAgH8JQOiq8Qwmocs7kFG6HDn7/A/HnWQrp0l+4/pSIrLWKH1VhW6SNsecfacd8HiOL28rT7GFo5ByWe1KoRcIhA2BAhe6pcuUo+PHMtQBtryPoroNV++v0DPvk9eJflyi0BNdQAAEQAAEQAAECooAhG5BkcY8IOBMoErNutSmSy8qXzVRvHH0YBql/rKFNiz7LGhQ9XvzQ9q7dT2lLJrhWJNcN78wb+yQoFkrr+v2ngPpj93bnNYbNAvEQkAABEAABEAABEAABGwRgNC1hcmlUUEIXRqzmqJi420tkIXqrFvKUpW4wqI917Xdc/I81S1ZlKoULyxEK8vc3t9nOsleb4WujAbOuZhHKeln6TdtnkZlilLzCsXEvFdC6OblZBMNaWOLExqBAAgEnkCBC92SpcpQdtYJunTpktruBn1EUYkN1Poq9spL20E0vpdib3QDARAAARAAARAoCAIQugVBGXOAgDOBtg/0pQ49+tO5szmUefgv8WbZStUpdfdWmjVSK10SJM+Y5C10KG0vTUjq7lhRo5s70kODRru8fqWXLNf148ovKHnKyCu9HMwPAiAAAiAAAiAAAiCgSABCVw1cgQjdlxZQVJXathfIUvfZ+vHUtkqMEKvykfJ14q5slzTJ3gpdHpPr4hrn+N+hs3TmQh7dWT22wCN089L3Ef2nm21OaAgCIBBYAgUudBMSEign5yydP++cB972Nr349ozZmPytloe1AuU9a5egooWIMnIv0ZjtJ0Uag0t55qvAN1Fsnw4aggAIgAAIgMAVIwChe8XQY+IgJMBSsM19veib2RPot20bArbCN+ato3O5OTRx8EOUdeyoY56EMuWdfg7YAmwODKFrExSagQAIgAAIgAAIgAAI+I0AhK4aygIRut2GUVTL+5UW2KlaLNVKKCIidZcdyFEaw10nlsctK+ZH5a4/kusiiv0+oZsB89Z/TrRgdEFOiblAAATcEChwoRsTE0OFixSh06dOKR1M1ITNSv240901YumD1mWJv0TDIvfAqQtUp1RR8a2a3SfOU4/VGXTg9EXT8fOeu155XnQEARAAARAAARAIPAEI3cAzxgyhQ6BL/1foxvb30afjh9H2NcsDsvBrGregPq9ODroIV7PNQugG5ApgUBAAARAAARAAARAAATcEIHTVrkeBCN06N1FU/ylqC4ygXnlT+hP9+kME7RhbBYHgJlDgQrdQoUJUslRprY5uphIZVaHb5ao4er9VGTqtpSdI+uEYfflH/rdnimlRuq80KUVP1S1BmzPOUcdv/zZdF4Su0nG57dSrVy/x/p9//kkpKSn+n8CLEatWrUYVKlSiuLg4Onr0b9q7d48XvV2bJiSUpFq1rhFvbN26yXKsa6+tS+XLV6AzZ87Q338fpoMHD/g0LzqDAAiAQCQTgNCN5NN3v3cWj3HxJenogTRKT/Xuv/Ec6crPmeyTlpGucnxuZ0ee8pj68bhmavlqiZS6a7PbqFbZzt1aJImCELqqKYslLzv74P1wtG/N+vlfrvTEyKq9HaGrn8fTOcqz8HQ3jDdTP4fVfbSTcjnYIqDx2wcEQAAEQAAEQAAEQMCVAISu2q0oEKHLS+s3iaLqtVBbZAT0ytutZXqaGjxldCIAObYIAh4JFLjQ5RWViI+nC+cv0Fmt1pa3j4rQLaJF5KZ1r0a5WkHxLiv/pu3HzrtMO611GWLpe9vyv2lbpms6aAhdb0/Kc/vt27eLRqtWraKkpCTPHQLUomvXHtS8eSun0dPTD9L06ZMpK+uk0qyPPPI4NW6c/xePgwcPcBmDBXL37o9SlSpVnd5LTd1Ps2fPVJ5XabHoBAIgAAJhQgBCN0wO0g/beG7cfKqceC3NfGMA3fvkUK2mazXHqGm7t9HUlx93mYWFn3xG972dKtaoTd2eG0klSpYRL2cePkDv9L/bqR+LSX0bfpNryS6bM4E2LPvMqS2P//O6FVS11r8c6+GfD/+xT9SglX3fHXivQ+pKKbt4+hhq1LojJdZr7BiT1/PJOy+6CGr9PsxQDunS1GfCUshWvboe3XLPI4LNik8vf7vdSlSa8Tp18hgtmPCKpSzvMXgMNWzVwWnNzG3e2CGm++Cavm269KbomFgH09XJswRjdzV0/9q3S0Q0y8fqHFt0epDaPfik417I9szgyw/estwHC9j7B7xGdZq0dFq3ZKcXyFZCl8d4atRMcX9WzJtCKYtmmDLgNd54WxfasX6lZRufLwEGAAEQAAEQAAEQAAEQ8EgAQtcjItMGBSZ0S1YgSvqYokppf+JxIpB3Ugt6G/so0cnLZXWACARA4MoTuCJCl6N0E0qWpqyTx+nSpUteUVARujzBI7WLC1G747irzOX3O1aLoTm3lqM3tp6k937JdlkThK5Xx2SrcTAIXSlzMzIy6PvvV4lI2euuayhkLEvdsWO9rxHQpEkz6tmzt4OBUehy9G5S0hCKj0+gPXt20aZNP4q2rVrdQjVr1iKWupMmjbPFEI1AAARAAAQuE4DQxW2QBKTQZSm3be1y2r/jJ/FWh4f6Cxn248ovKHnKSCdgLNGkoGSB2umR5zRR+ZeQYte3vVsTtWdoQlJ3Rx+O0Oz35kzxMwvDzCMHKK5EArXu3FPMYUx1LEUrz71y/lTqPfw9IZ2lCKxeu76Qjt8vnkPffDxejCuFLu8jPfVX2rA8XxI3bXOXEINGQcnvyYhi2YbHO/j7btHPbkSsp5sk+Vq1M0vzzDL3kRffFfV2V332AZ05lUVlK1YT8pUfvciW4/Z+ZZLYJwvcXT+uFi+36PigENtWZ/jQoNHEkljOwWciBayV0OVx+RzWLpkr1iXvAXOf+nIfJ2nO596mSy9K/WWLaMtPrQY3CBnM847q3d4UywtTvhL3gr9QIM+R99/yzu60ZfXXjjOXZ8j70O/Rrszl9T07dp5jDfylhkDWUPZ0V/A+CIAACIAACIAACEQyAQhdtdMvMKHLy6t6DUU9rX05NT7/i7x4NALZxyjvfe1Lxwd/Aw4QAIEgI3BFhC4ziC5WTKS3PXniBOXl5dnGoip0PU1wU/loWtqhAk3SZO4ITeoaH1+F7nXXNdAiMruJPfPz888/00cffURDhw7VUu6Wd/xsnFe+L19funSpS3ritm3b0l133SWacKSr/md+zayPfh6VOThd8k033UQ5OTlO0bW8z86d7xJ7sloz923YsCG1a9dONElLS6P9+/drqY6P0ltvveWEQLaVL0puns7TzvssVocMeY3OnculcePGOEXFygjbZcuW0MqV3tWdGzp0BBUrFk25ueeoXLlyLhG6UiJv3LiOFi68/BduvOaBA5OE1J07d5bbVM129oc2IAACIOAPAq07dqOSZSrQum8X0onMwx6HLFW2ErW6vStlHT9Ka5bN99jenw0gdP1JM7THksJRL0d5RyzFhs34VkTRvtrDOTsHvy8jI1nMZaT/6Yjk5fH40QtdKRuN8lIKNWNELwtd/WvGlMhybXqJJ9uYRRVLQWgl7AKZctlThK5ZWmR5JhMH93ASpJK5MepWvv7r1vU0a6Rzmi85FkdSZx27/I1xKybyTKyELp/3xMEPOY0l+bmLBtZ/SqzuA7e547FBIpLZbC9mqZONEbp2Za7+jsu1GXmH9icbqwcBEAABEAABEACB0CIAoat2XgUqdHmJFWtS1INDiWrnZ1uM6GffZrr06UiKyvgrojFg8yAQrASumNBlIDGxsRSrpUPLzs6iCxcu2GJkV+jeWqkYJTVIoObli4lxtx07RzN/PUWfpZ4xnSfpugQa2iiBBm08TnP3n3Zp44vQ7dLlfnrxxRcoVtuv/lmyZAk1aNCAEhMTXdIOc59+/Z6kihUruaxl/fr19PTTTzteZ+k5aNAg8fPMmTOoR4+HXebi1ydOfM9pLNU55s+fr8npyxEqjRo1EuOyGL7nnntc5ub39GseN26cQ+bqF8Ril/vzw2L4lVeGU926dV32z+1efnk47dy5w9adsWrUufN91KZNezKTtpwSOSlpqNfRslLWJicv0NI4txYplY0RuoMHDxOvjxgxzCW1spyXI3enT7+cupD30L59R43HvzRZHCO2tH37Fq9ls0/A0BkEQCAiCdzWpY9ILZp79qwmaD+h7BPHLDnElypLN3fqQcViYuh09glasWh6gTKD0C1Q3EE9mRR+ZpGi+nTMxshFKdJY+OojRjntLz/6NL8saK0iMs3kpbGGq5lw5TZmQtcsGlX2N0preTCBFLpyDrs1dKVQtUp3PXzWSsrNOeOU0loKUjNhzWmVOZqZI6llamsrkS7XaqeGrv5Ss7Tu8+pk0yhos8vvjrcUzXblql7ocjS3nTTL+jXJlMs//jfZJfV3UH9wsTgQAAEQAAEQAAEQCDMCELpqB1rgQlcus2ZDimrUjvKubkJUoQZFxcarbSCEeuXlaJlK//6TaP9WLQJtFVHqzyG0eiwVBCKPwBUVuoybIxnjisdr9XTPUs4ZV5FqPBI7QvfJOiXozWalRNc9Jy9QzoVL1KRstPg5+Y8z9PwPxyn7/OWo4Mbaexydq5XapcZfpNPRs65poFWFLkfLjh49WkjOE1o08po1a2jfvn0iurVly5bitVKlSjkJXZaZkydPEq8fOXKY/ve/1XTo0CGnqFaWwcOHDxd70gtdjpjds2cPbdmyWRPFNcUcPDe/3rx5cwdOX+c4cuSIiKrlh6OC9Wvg+detW6vJymynNY8fP15EJduJ0F2wYIGQubzulStXCmaVK1d2CGOeo1u3bj59Yp94or82R30tOvctOnjwgMtYHGkbr9V7HjbMXn1fowSW4tZK6JrV1uVFjB072SXds1wrf/khOzub+H8QcvSvmfj1CQo6gwAIgICBAKcEveWOh8SrZ8+cou++/sSRZlTflNOa3nrXw9qXtUqIl7//5lORgrYgHwjdgqQd3HO5E7qyJquZ7HUXFarfsSfZZxat6W+hy9LunieGmKYe5rUGk9DVc92yeqnL5ZGpsPX1ffVnaOwgUyLrRbecw12NZHc1dPXR13I+PjOzaG6Wx41v6aTVWa5FCaXLiebx2p/85Reze+VO/pt9kvRRy7LmsruaucH9acTqQAAEQAAEQAAEQCByCUDoqp39FRO6astFLxAAARAoMAJXXOjyTrmmblxccSpcpAid19LfnteidS9euPhPfV3ndMyehG6va4rTOzeWpsM5F6nPmkz68eg5AbNSbGGa0KI0ta0cQ+N3ZtPo7flpleuWLEJfaTK3VHQhSrKIzuV2qkL3/fffF1KVxWTfvk84RZWOGjVKS0/cWaxj1apVjtTFMoKVZe+AAQNN++gFrV6m6sfhcfXvSaHKr/tzDh5PpnkuU6aMmFP/SDlrjCy2qqGrX/OIEW9QcvLnjuE4qvi1114VPxvf8/ZTYyVc5Tie3jfOx+3Lli2nyfhxQhB7ErpmIllff1cKX/maUd5KyTtt2nu0d+8eb7eP9iAAAiBgm0D5KldR69sfFO058nb10k9EPVH5RMfEURtN5haPz/8y1dpvP6Oj6X/YHt9fDSF0/UUy9MdxJ3TdiU5jqlsrEp4iU62ib/VC0dcIXU9rDUah6+lmmQldd33MhK5ZNDOP4W2EruzDf+rXxdHBsu5v6u6tdDLziFgi10DmmshWQtes3rGn+8XpniF0Pd0avA8CIAACIAACIAACwUsAQlftbCB01bihFwiAQPgTCAqhKzFHRUWJyEOur8uSt1Chwto/HDeb/2RmHCV3Qrfb1XE0qUUZEWF714q/6ffsC1S9eGG6q3osfaClW+aHo3eX/JVDB05fpKvji9DXt1egcsUK0cANx2jB7+bpmLmfqtBdseJbkTbZKDPlnjZu3CgiaPUiVvbh1MbGmrLcT4pQfcSrTLn88MM9XVIRG9vzGP6ew91HRQpdfUpl/T6MElpK8K1bt7rIYe63ePFi0zTV3n5cPQlbWUfXjjDldMidOnWm1atX0pIlX4ilWI0v26am7qdJk8Y5ls01fQcMSBKRt/n9B4g/rVJDc/usLNd6z95yQHsQAAEQsEOgco3a1LzdfaJp1vEMEal74fw5KhodIyJ4ZZTaxlVf0KE/99kZ0u9tIHT9jjRkB3QndN3VOvUkSSWQYIjQlWmHrQRmMApdq7WaXTR5hnqZ6u5CBipCV59Wm2vZPj/pS7EMfUpu/tkdb9UIXealknI5ZD+4WDgIgAAIgAAIgAAIhBkBCF21A4XQVeOGXiAAAuFPIKiErh3cVkK3U7VY+vjWsnTi3CW689u/6bes/Jq8rzYpSc/8K55SDp2lZzVpeyQnP53yjeWj6cPiANliAAAgAElEQVSby1HF2EL0wo/H6aPf3Kd7VhW6Uqaa1bDldZjJSdmH0y3n5Jx1wVKxYkUhgc2Erqxnq+9kJnT9PYec79lnnxGpnqtWrUoxWg1FuVZ+367QlUw4Qpn/MT6citqYptrO3TG28ZfQZbE6ZMhrlJmZoaVLHu2Yxt348j1Oobxr1w7Bql6960Q6ZX70qZ5lKufc3FzasGEN/frrbkTkqhw4+oAACPhMoHqt+tTsljvEOJlHDtKGlcnUqkNXKl0+v977pu+/ob/27/J5HtUBIHRVyYVfP3dC1109U7tCl4m5k3RyjtF9b6esY0cFYH+nXJapo61S8QaT0PVUQ9fsBrqroWvW3t81dM0EsT4Vsr6eMq8nUDV0k6eMJN5bvzdnUnRMrGkEsBkP/tKBsUZ0+H3SsSMQAAEQAAEQAAEQCG4CELpq5wOhq8YNvUAABMKfQFgI3bjCUbStS2UqWbQQ3a7J3G2Z+WmW+akQU4gWtitP/ypVVPy8OeMcldDa1dFSLfPz8qYTjuhdd8ftq9DVpzvWz+NO6Hq6frKOrj5FsbdC119zcE3ecePeFdHI8uG00Fxrl5/ExESvha6ntflaR9eT0PX0vlzfwIFJVLNmLTJG8nrq37VrD+J0ysW0iHR+OKXyggWfiCjdc1rqcb0cbtXqFrrzznsdbVnupqbuo2+++cq0/q8ndngfBEAABFQJ1KzbhBq3aC+6c5mEolpmDX62bVhJqXu2qg7rl34Qun7BGBaDSKG7ePoY2rDsM8eeZGRt5uED9E7/u1326o3QtYr0tYre9UXocupdvUDkSNFnx34qarbqpbF+Q1IwGhn484A9pZ7WzyXPZOYbA1xEI+9Him/Zx1PErVmf4bNWCibGOWQ0s1UNXbP7IM9XL8zd1Vju9+aHlFivsalwlWfx69b1NGvkQKcjcLd3fUQz36tHXnxX9J3z9vNuZa38QoHVPffnHcBYIAACIAACIAACIAAC1gQgdNVuB4SuGjf0AgEQCH8CYSF070+Mo6mtytB0La3yME3QGh/O2vyA1uYJLd1ywzLR4u2NR3Pp3R1ZtOZwrq1TVhW6MqWylK/Gyb777juXaFOziFp3i/RF6FqJZuN8nuaQaZU5qnjp0qU0ceJ7jiFkvV5vI3SNqZhtHZQXjTzVoH399bdECvBhw5IsR7322rr01FPPUEZGBu3b96tTu/r1G2iRtgm0ceM68frChfNsrW7s2MlC7k6fPsWlPQvg2rWvpRo1EqlKlarEYlfW7LU1OBqBAAiAgB8I1GnUnP7V9GbHSL9s0bIHbN/oh5F9GwJC1zd+4dRbysNzZ3No29rltH/HT1S2YjVqeWd3IfzMJCfLuqpX16Nb7nmEWLxtWb2UzmSftBRnMmqSua1OnqVFrR9wmsMoFX0RujyHXFNciQS68bYuol6rUfTqz1Afsbp2yVw6cypLrC+meDx98/F4vxy3N0JXLyTlmfAimra5i+o0aekiYfk9KVVZxP7432THHvgcM9L/pKkvP+60DyluWWTKPddqcAM1bt1RRLdaCV0eRD8H97mx/X1kJkTfmLdOjMWid1PKYqpZ/3pq0fFBLYq2jnjd7ExY2j41aiaVrVSN0nZvo+3aneTzqH9jG6p7/c20Z/MaJ2Fv9cUC+WUBvtdWUle2kWDMavr65fAxCAiAAAiAAAiAAAiAgEcCELoeEZk2gNBV44ZeIAAC4U8gLITuiKYlqX+9eOqs1c3dePRydK4/j09V6FrVj+W16SWpXl7KPlZ1d9u2bUspKSmO7XmSrWaC2N9zSHFtllra2xq6o0aN0urGdtaiew9Thw63uxyjcf+q5yxr2bJwNcpWmebYWOfWOBcL1p49e9tagqyJy9G2VapU0+oqf+8SXSvXtGzZElq5crnbcWVtXbP121oQGoEACICADwT+1bQ11WnUQhO5G+iXLWt9GMl/XSF0/ccy1EeSQpflGgszFm38sAhj+ZqyaIbLFlm4Gh+jADS+z/Ks23MjhSSWD9dcXfLhu7R9jfN/x30RuiwB40uXE0JQPu5krmzDgrNNl96O/fPrvKdZo55xiYhVOXNvhC6Pz7zuePQ5IaPlw2fCQnPprLGma+LoVilkZR8WrSs+neLCmN+X0bD681gw4RW698mh2vmfoQlJ3R1z61Mol6+a6LQuK05mZy7b9h7+nhjDLGqape79A14T8lr/8NmuWjjd6YsD7iLFpbRmblNf7kPpqXtcjk4foTtteB+/nLXK/UAfEAABEAABEAABEIh0AhC6ajcAQleNG3qBAAiEP4GwELrPN0iglxomUJ81mfTVnzmmp9aoTFFqUDqa5u53XyvX6shVha5etnKK4GnTpgkZy7Vme/R4WNTC5UcvdPm9Pn36iteNEbRDhw6l7t27a7V1c6hv3ydo584dTmLYbsplf8+xYsW3It2yMaq2S5f76bXXXhV7MUboynTTRnHNwnb06NGCjdl4L774glMNYdWPqax9y/3HjBlBWVknHUPJNMpz586irVs3ide5/e2332kqYs3WYJVyWUrbbds205w5Hzq68vhJSUPEz6+/PtTxOovb66+/UYvYnewkgFkMd+nSTUQA243+VWWFfiAAAiAQCgQgdEPhlApmjcYauizI+DFKVn+thqNhy1dLdBvRqzKXlJMy9S7LxLj4kpS6a7NXkk7u39t+Kmu200eFlzd7YHnKkbPuIqzN1inXdfRAmqko1fexOgsew0yy6vt6sxc7PM3a8BzBct6qe0A/EAABEAABEAABEAh1AhC6aicIoavGDb1AAATCn0BYCN0WFYrRV7eVp7VHcum+lUddTq1J2WhK1uroFi5EdNX8g5SncK6qQpenkimHjdNu3bqVSpcuLerLGsXlRx99pNVXbSK6cKRqTs5ZTWLGOGrU6iWoSoQuj+vPOfR7ZHF98OBBqlq1KtWtW1esn2WvUejq5+f3jh8/LuQ0P1Jc87+fOHFC/MMPs5JMzKJ3vT1aKVezs7No164dortMZ2xMeywlb3r6Qaf6tlZzuquhO3ToCCpXrpxWB3e/4MOPTNGcnLyA1q373jGsFLe8xrVrv6PMzAyqVq06tWhxs6ipO27cW6ij6+3Boz0IgEBYEoDQDctjVdqUUegqDRIEnYxCNwiWhCWAAAiAAAiAAAiAAAiAAAjYJAChaxOUoRmErho39AIBEAh/AmEhdPmY5v27HN1WJUbU0X1tywk6fyn/8LpotXPH3lia4opE0ZNrM2mxRQSvp6P2Rejy2CwqO3XqRDExMWKq/fv3a9GYSSSjVM3qxbIkbdmypSOKl/ux2FyzZg0NHz7csWRVocsD+GsOHuv9998X65UPRxHz/sqXL0/t2rVzEbrXXdeA3nxzlEPS8t5uvfVWR3+OIr7//gdEjWH9mCzCJ0+eIqKT/fGwML3ttk6i3q18jNGz/HrXrj2oefNWZPae2TrcCV2Oxu3W7WFNeNd3dGVhu3jx546IYP2YLJ7btu0gBK583LX3BxeMAQIgAAKhRgBCN9ROLHDrhdC1x1amQLbT+pvZEyzrCdvpjzYgAAIgAAIgAAIgAAIgEGkEIHTVThxCV40beoEACIQ/gbARuhVjC9HKThWpUmxhOnMxj/aeOE/VShShcsUKkfajkLlW6ZjtHLOvQtdqDndCV/bhtMUJCfFaSuBsSk7+3M5yvW7jrzlY0jZrdr2Yf9Omzbakq+zDEbtmD6dgrlGjhnjLqo3XGzbpcO21dal48RKmQlU2ZxGrT83sj3m5Du/ffx+2FWUr12i3vT/WhzFAAARAIFQIQOiGykkFfp0QuvYYQ+ja44RWIAACIAACIAACIAACIKBCAEJXhRppAS0xlJt7Vq0zeoEACIBAGBMIG6HLZ1Q5rjC93rQkdaoWS7GFo0SU7idazdw5v52in4+f9+kYVYUuy8rHH+8tomyffvpppzWwqOQaufzMnDmDJk58z6c1ojMIgAAIgAAIRDIBCN1IPn3nvbd9oC9lHjkQ8jVEuQ5qXIkE+mPPzx7rsuL0QQAEQAAEQAAEQAAEQAAEgosAhK7aeUDoqnFDLxAAgfAnEHpCd+wGoiLRBXoyeTnZREPaKM2pT4fMtWXXrVsrIm1r165NN998s0gnbEw1rDQROoEACIAACIBAhBOA0I3wC4DtgwAIgAAIgAAIgAAIgAAIgEAQEYDQVTsMCF01bugFAiAQ/gRCTuhS0myKuupy3dGCOKK8NK1W6/heylMNHTqU7rnnHqdauHKwI0cO09SpHwQslbLyotERBEAABEAABEKMAIRuiB0YlgsCIAACIAACIAACIAACIAACYUwAQlftcCF01bihFwiAQPgTCD2he9PdFNXjtQI9mbxPXif6cYlPc3Lq5bZt21BiYk3HOGvXroPI9YkqOoMACIAACIDAZQIQurgNIAACIAACIAACIAACIAACIAACwUIAQlftJCB01bihFwiAQPgTCD2hy2dSgFG6eX/sIhr3aPjfBOwQBEAABEAABEKcAIRuiB8glg8CIAACIAACIAACIAACIAACYUQAQlftMCF01bihFwiAQPgTCE2hW6oi0dOTKKrS1QE9obwjqURTBhCdOBLQeTA4CIAACIAACICA7wQgdH1niBFAAARAAARAAARAAARAAARAAAT8QwBCV40jhK4aN/QCARAIfwKhKXS1c8krEk1RnH65bU+ictX9e1IZf1FeylzK++Erirpwzr9jYzQQAAEQAAEQAIGAEIDQDQhWDAoCIAACIAACIAACIAACIAACIKBAAEJXAZrWBUJXjRt6gQAIhD+BkBW63h5N2XLlKTPjqLfd0B4EQAAEQAAEQCBECEDohshBYZkgAAIgAAIgAAIgAAIgAAIgEAEEIHTVDhlCV40beoEACIQ/AQjd8D9j7BAEQAAEQAAEIoIAhG5EHDM2CQIgAAIgAAIgAAIgAAIgAAIhQQBCV+2YIHTVuKEXCIBA+BOA0A3/M8YOQQAEQAAEQCAiCEDoRsQxY5MgAAIgAAIgAAIgAAIgAAIgEBIEIHTVjglCV40beoEACIQ/AQjd8D9j7BAEQAAEQAAEIoIAhG5EHDM2CQIgAAIgAAIgAAIgAAIgAAIhQQBCV+2YIHTVuKEXCIBA+BOA0A3/M8YOQQAEQAAEQCAiCEDoRsQxB80m2z7Ql65t0pJWLZxOv23b4HFd3L5UhcpO7fbv+Im2r1nusW+gG/QYPEZMMW/skEBPhfFBAARAAARAAARAAARAIGIIQOiqHTWErho39AIBEAh/AhC64X/G2CEIgAAIgAAIRAQBCN2IOOag2eRz4+ZT5cRr6dPxw2xJWdlev4EfV35ByVNGXvE9jUneQofS9tKEpO5XfC1YQMESqJxQjAbcWpOaXVVKTLzpjxM0+btUOpSVW7ALwWwgAAIgAAIgAAIgEIYEIHTVDhVCV40beoEACIQ/AQjd8D9j7BAEQAAEQAAEIoIAhG5EHHPQbNJboatfeKObO9JDg0YThG7QHGdELoRl7rKBzSmxbBylZZ6hU7kX6LoqCXQ0O5fun76Jfj6YFZFcsGkQAAEQAAEQAAEQ8BcBCF01khC6atzQCwRAIPwJQOiG/xljhyAAAiAAAiAQEQQgdCPimINmkxC6QXMUWIgigUVPNKP2dcvTm8v20jsr94tR2tYpR8lP3kA707Oo9dh1iiOjGwiAAAiAAAiAAAiAABOA0FW7BxC6atzQCwRAIPwJQOiG/xljhyAAAiAAAiAQEQQgdCPimINmk0ahe03jFhQXX5KOHkij9NQ9btepEqFbpWZdKl8tUYybumszZR07aosFz8XPmeyTlrV+7aRcTihT3vacthb2TyPJjX+0qifMc9esf73tvetZudu3fp0qfeys3YyF7Gd3bd7wtNuWo3N3v9ZWROY2Hv2do9sL7WvRy52uFT93+eAnSvk1w+6QaAcCIAACIAACIAACIGAgAKGrdiUgdNW4oRcIgED4E4DQDf8zxg5BAARAAARAICIIQOhGxDEHzSal0P1+8Ryqf9O/qWylao61pe3eRvPGvmQpQL0Ruiwzew9/T9Tr1T+e0jV36f8KNW7dkaJjYh3dTp08RltWf03ffDzeaSwrodv7lUlUp0lL+nXrepo1cqBP7PU1hBdPH0O7fvify75G973dhVmPwWOoYasOTnP/vG6FxneIy3padHqQ2j34JJUoWcbpvczDB+jLD94yFdpWfJnVLz99RyvnT3VZEwvZbs+NdJrn3NkcWjZnAm1Y9pnLuiTf1V98RJ0ff96pnye2PFe7rk9oa/jbdM+qhyLF7eyNf9GzC3c6hvnt9ba0dv8xuq9xZZq0OpWGL3H/5QTV+dEPBEAABEAABEAABCKBAISu2ilD6KpxQy8QAIHwJwChG/5njB2CAAiAAAiAQEQQgNCNiGMOmk3qBSXL1f07fhJr6/BQfyF3raQjt/FG6L4w5Ssxnn6OFh0fpMR6jS1r8EoJyiJz7ZK5dOZUFsWVSKAbb+tCuTlnaOrLjztxNBO6/pS5PJmMSpW1g6vXrk/xpcsJwVyxRi0hjod0aeq0LrkGZrnrx9XiPXd75yjbNl16UeovW8Se+anV4Aa6sf19xIJ2VO/2LvdHL+YP/r5bvM+s6ja7hRK09U1I6u7Uh+fo9+ZM8drq5FmUeeSAaN+6c09xTp+OH+YSacx8Wfjys23tctq4bCEVL1ma7n1yqOjDgttMBHP74bNWOgQwf3nAKONVPxATu15HjzavTn3nbqNFWw+JYVjy3tOoEv1fyu80o2djWrnnKD2g1dLFAwIgAAIgAAIgAAIgoEYAQleNG4SuGjf0AgEQCH8CELrhf8bYIQiAAAiAAAhEBAEI3Yg45qDZpF4E6iUbR3w+P+lLERlrFnHKG7ArdNs+0Jc69OhvKm6l6DPOweK0z6uTiWXutOF9XKJLzVInG4Wuv2Wu/tB4Lpar/Ewc/JBYH0cTs3TVC13JyCyCVbK34mu8JHI/VrL1UNpeF3HLY5ixshqLRe+zY+cJ7u/0v9tpCbxnfma+McApStjd+coBpNDnn1fMm0Ipi2b45TOwfGBzal6ztJPQ5ejcoYt30zotQpfTMaOOrl9QYxAQAAEQAAEQAIEIJgChq3b4ELpq3NALBEAg/AlA6Ib/GWOHIAACIAACIBARBCB0I+KYg2aTxhq6+oX1e/NDEUFrJhC5nV2hK+eYOLiHS11eKUGNkk9G53oj//RCN5Ayl/cu5aaeDYvNBi3bO0lVuQ6jBOUxpAh1F9mqPw/Jyuw83pi3TjT9/P2RljV89WNJIe0u2td4XnLPxghkO/dAplz++2AqJU8Z6bf7v3ZwK7quSoJD6Mro3NZj83mcGNsJQtdvtDEQCIAACIAACIBApBKA0FU7eQhdNW7oBQIgEP4EIHTD/4yxQxAAARAAARCICAIQuhFxzEGzSXdCVwpEqxS5dkQeb5RlI0f6GkUgv2cV3elOAlvBk0I363iG32rmupvLKv2xvo+er3GsqlfXo1vuecQ0cpkjZRvf0kmkceaUyfxwameuq2smdCVHbsfRtft3/kQ71q80rbcro5+tInqtond9EbqBuvBGocvRuW//dx9NX/enmBJCN1DkMS4IgAAIgAAIgEAkEYDQVTttCF01bugFAiAQ/gQgdMP/jLFDEAABEAABEIgIAhC6EXHMQbNJO0KX696aRVXaFbpWIpAhWI0h12Umga3gFbTQtRKi+vXpaxRbrdvIl+Vsmy69RfPU3VvpZOYR8e9cr7dy4rWWEdOy9u7V1zVz1KtlufvlB285iV3J3Gr9VpHAwSh0Zz3SmO5rXFlE6NYsG0dPtr6Krnk9RfBqW6ccJT95AyJ0g+a3DRYCAiAAAiAAAiAQqgQgdNVODkJXjRt6gQAIhD8BCN3wP2PsEARAAARAAAQiggCEbkQcc9Bs0o7QtUp7bFfoFnSE7oSk7lQQKZe9Ebp2xbSsXcwX5N2B9zrVDnaXctl4oVjuNu/UVdT0PXc2x2mscIrQndj1Onq0eXV6IXkXvXhbbfpg7R/0zsr9AscDTSrTjJ6N6Ytth6j3nG1B85nDQkAABEAABEAABEAg1AhA6KqdGISuGjf0AgEQCH8CELrhf8bYIQiENIEiRYpSdHQ0FSlalAoXLkSFChUK6f1g8ZFB4NKlS3Tx4iW6cOE8ncvN1f68EBkbv8K7hNC9wgcQYdO7E7ryPbP6r4zJrtB1lz5Z1so11pH1tYYur++FKV9R2UrVTFMa+3rM+nq97sZyV0PXrJ9k+vO6FTRv7BCnJt4IXdnR6nzd1dCV3Eb3vd1JKPsaocuS+dTJTKcxfT0HKW2PZueKoWR0Lv+7lL1vLtvrkLy+zof+IAACIAACIAACIBCJBCB01U4dQleNG3qBAAiEPwEI3fA/Y+wQBEKSAMvb4iXiNYFbmM6dO6tJsfOaILtAeXl5IbkfLDqyCERFRWlfQChC0cX4CwnF6JImd0+dyiYWvXgCRwBCN3BsMbIrASn8jEKV5duzY+dpAu4Yjerd3hSdXaFrVSeXo1GfHfup9jsm1iUaVY7NKYOnDe/jIgG5b9axo07rMkpWbvPUqJlC6lpFGaveCbtCV+4jbfc2mvry4y7TGfch2/+6dT3NGjnQqX2/Nz+kxHqNTVMuc7/ta5a7jC/lrLHurlWdXHfRu74IXSnoOVp46st9KD11jyp6l35cN7d8fDEyilt+PS66MDUb8z0dysoXvnhAAARAAARAAARAAAS8JwCh6z0z7gGhq8YNvUAABMKfAISul2dcrHAe9Wx4lp5udoYSS130srf75mknCtPkn+Jo3o4Yyr0Y5dexMRgIhBKBwkWKULwmc0+fOU3nz50LpaVjrSBgSiC6WDGKi4ujrKwsTe76978dQH6ZAIQubkNBEpBCl0XbtrXLaf+OnyiuRAK17txTiFCj6NWvTS99V332AZ05lUVVr65H275f5iLs9NGyco4bb+siasJ+v3gOffPxeJdtS+nIUndzyleUeeSAGL9pmzspN+cMvdP/bqc+ZpJVSuMSJcv4Reqy8IyLL0kPDRpNvK4Vn04RazCTqXJxch+covnH/yYLTmUrVqOWd3anjPQ/XUSvTFHNEnpTymKqWf96atHxQapSsw5Fx8SSMXpXRu6yBN6z6XsxPj/chwUwr9PIis+u35szRbvVybMEW7kmZmUWle2L0JV74vmsajKr3vsnWtWgd7rUp42px2nGuj/EMH1bXUXNa5amSatTafgS/8lj1TWiHwiAAAiAAAiAAAiEMgEIXbXTg9BV44ZeIAAC4U8AQteLM64Sf4k+73qcrikb2L+M/zWjCHVdVIrSs5Fa1ovjQdMwIcARuQklEyhbE18XIb7C5FSxDSZQRPuiQon4eDp54gQizQN0JSB0AwQWw5oSkEKX5WGbLr2FMOSHBS+LvpRFM9yS4+hbfT9ubCaBWaz2Hv6eELjy4Tk2frvIVObKNiwrG7fu6FgXv86Ccu2SubRh2WdOa7OKmmUJ+8iL74ox3AlqO1dE8jK29VQj12ofLISNMpjX2+25kcRiVT4sg2eNesbBUJ8Omdm2797PhRP3Zcn7+eQRpmmOzebhiOwlH75rKqh9Ebr6CN05bz9Pv23bYAe37TYvtK9F/6/t1VS8WBHR53TuBfp86yF6duFO22OgIQiAAAiAAAiAAAiAgDkBCF21mwGhq8YNvUAABMKfAISuF2e8oudxalr5vBc91JtuPFCU7vq0tPoA6AkCIUqgZKmSlJPDKZaR4i9EjxDLdkMgJjaGimp1obOzs8EpAAQgdAMAFUPaJsCpe/lxF3FqNpjsl7prs9saqSwfOeLU2zlkZOzRA2l+TddrG4yfGtrlxNPJPRuZcnStVcpi2ccbvjxe+WqJdCb7pN9Fqx4br+30yeMBPT+uqcvPIk3m4gEBEAABEAABEAABEPAPAQhdNY4Qumrc0AsEQCD8CUDo2jzjRxvl0LgOBfsX8AOXJdD8nTE2V4hmIBD6BKKjoylWS0vLEYx4QCBcCZQqXZpOaUL3woUL4brFK7YvCN0rhh4TgwAIgAAIgAAIgAAIgAAIgAAIGAhA6KpdCQhdNW7oBQIgEP4EIkroHj+WSZcuXVI61eUPH6dmVQomOlcucFN6Uer4CaJ0lQ4MnUKSQIkSJTTJdZ7OnkV0bkgeIBZti0BsXCxFaf935swZW+3RyD4BCF37rNASBFQJcArg8lUTPXY/ejCN5o0d4rEdGoAACIAACIAACIAACIBAuBKA0FU7WQhdNW7oBQIgEP4EIkroZp08SefPn1M61d+fPUoJxfI89726E1HjJ4kqNdMKJmrRtT/PIorSauE2eIzowlmi9I1E2z4gSvuvx7GycqPo6onlPbZDAxAIFwKly5TWonNPKn/xoqA59OrVi7Kysik5+XOlqX3tLycdNWoUNWjQgO655x6ldRR0p2effYZatWpN06ZNo5SUFK+n79LlfurW7UFatmwZffTRR173b9u2LdWoUYMSEuLpwIF05fPzeuJ/OhQtWpTiinMk+knVIdDPggCELq4GCASeAIRu4BljBhAAARAAARAAARAAgfAgAKGrdo4Qumrc0AsEQCD8CUSU0D17NodOnzqldKoZL/ztuV/jfkS3v0+U8YsmbacR5Wp/WX8nywZNBC/VhG6MFm3bRGtTth7RN48T7dBkr4en3DsVPDWx9f511zWgtm3bUGJiTdE+LS1VEymraefOHab9WTTxs2nTZss2tib2QyNv1+6HKQMyBO+jWbP82ncqEspqUSynbrrpJipfPl/+//zzz34dPyAwLAYtU7YsHcvMLMgpfZpr+/bt2mcpTVmk+tpfLv67776jE1qa6lARuosXL9Z+FyXSqlWrKCkpyeszGDduHLVr106J/fvvv08tW7Z0mvPIkcM0deoHBSh2o4i/vHD82DGv944O7glA6OKGgAAIgAAIgAAIgAAIgAAIgAAIBJ+rp5oAACAASURBVAsBCF21k4DQVeOGXiAAAuFPIKKELqdb5rTLKo9HoRudQNRHk6OnjxDNbUV06Z/0zL23El3UooJn35Q/baGiRI9syJe7HzXNl75uHn8IXZYfLDBiY2NdZlq/fj1NnjzFRdqyaOJn/PjxAZGDernpThpLcWOGyGrtKudbEH1Ykg8aNEhM1ahRI5+nZIavvDKc6tat6zJWTk4OrVy5koYPH+7zPAU5AMuYzIyMgpzSp7l8FbK+9ufFs9Dnz+mSJUtC5rw5Qpe/XPLhh7OUvjDCEbqtW7eitWvXeSVhpczds2ePiO7lp2HDhkIOsxAfMGCg0npULpE/7vq119bVvshRQaRu/vvvw3Tw4AGVpTj68HjFi5fwOFaTJs0oTqt1zfPu3/+bFqUePJHGELo+XQF0BgEQAAEQAAEQAAEQAAEQAAEQ8CMBCF01mBC6atzQCwRAIPwJRJTQzc09SxfOX9Dqc+Z4fbJuhW71W4m6fk1UtLgWedtHi7z98PL4Dy7P//fPOl5+rdETRB21tMvnT2uvaymaD6yxXI+vQnfFim+pYsVKYnyWfEeOaMJZe0qVKiX+4Yej05KSnncSGYEWunq5aSWN9Wtn2cL/2Fm714dbQB38KXRZ4o0ePdoh6fkMc3K0lN7aU7FiRcfrW7duJRltXUDb9Gkaf0gunxbgZWdfhayv/Xm5Q4cOpe7du9OIEW94JTe93GrIN+cvQHzyyVzx+65Dh9ud9iO/ODJ//nx66623CmSvvtz1hISS9OijfahmzVpOa922bTPNmaP7748XO6latZomtJOoWLFitHHjOlq4cJ5Lbxa599xzP8XHa19g0j1W7b2Y3m9NIXT9hhIDgQAIgAAIgAAIgAAIgAAIgAAI+EgAQlcNIISuGjf0AgEQCH8CESV0OTo3oWRpyjp53OsanW6Fbt/dRNHxWlrlRzVTejXRvx4i+nM10fqRRA9+m3+LPtMJhGKaSK2oRed2nqtZVi1i+MMGljfNF6GrTy1qFr3HdTc7d+4s5uZo16efftqxjistdH1Ze7B+bP0pdKXsZkk/depUpyhqFlfPPz+YmjRpIlDMnDmDJk58L1ixOK3Lk+TiVL3p6ekiqpz3WLp0ae0LGmdpwYLPhMzkyM277+4sXudn48aNpoKOGXXv3k3UneWHx3BXj9VqXCshy8K9a9euVKVKFTE+r3nhwoUu9WKt+rOkbdy4McXEaHW43eyD31uwYAFdddVV1Lx5c5cz5nHk68ePH6fZs2eL9Nz82scfz3YSwEYm3H716tUuEfpyTO5frVoVLbq1vZh3//79jvTJsqYvvy7n1dfK1Y8h6w/zZ555cdpo/brN2PF5PPbYo5bna3bZ3fWRn03VFNAqHy5Pd93dmIMHD9NYVaXU1P20bt33omnbth3Ea6pyVY6Zf99chS5H7z711DOUm5tLW7duon379ooo3VtuaUfltMj61atXalHiX6ig8GsfCF2/4sRgIAACIAACIAACIAACIAACIAACPhCA0FWDB6Grxg29QAAEwp9ARAndzIyjFK1FH/FfQp/Uoj3z8rTatjYfS6Fb+hqiJ/fmy9yDWirlJ38l+ltLV1xRk2k/a5FSNbTo3eP7nCN05ZwNtDq6d8wkmqpFWZ383XQlqkJXpmHlQd1JCn1K44cf7umI0tULXU6JzPKLufHjrkYrz8v/yLacknP+/AVO0b8sa+rUqeMQjhxFekyrJSnHVVk7pzLWCyNeJwuqzp3vctSW5bVwG2M7PXjj+o8ePapJiqVu07DyfmT9Wm7PEX4siDiVq/yZ5/AkdHnuu+66y7EcfV/9GmVEJr/mLiW2rFPKkc233qrdwxB4PEkuvpccYSkfjkrmWqxSbPfr10+kf5Wvczvjlxn4Xowb966IXJeR3zKq2SyiWc+b6+Xyw3PyuPyFCGMNXRaHL774goiS1rfnNc6b94mTXDcTulxfmWW8XFtsbIxYq1W0NUtrTiGsj8Q22yNH5HP0JY/DKdj1d0ffXkZ7SybG3x/ydwaPw+m+OepfRvxz2zJlyri8bkxnLMfQr0HeV/5yCe9fPy6z69v3Ccfn0N8CVp5xQaat9nTXrT6uHCXbs2dvIXMnTRrn1Gzo0BFCro4b95ZX6ZdbtbpF+zJENzEmR/2aCV0pfOfOnSWErnw4WjgpaQjx/5M6ZsyIK55+GUI3BH7RY4kgAAIgAAIgAAIgAAIgAAIgECEEIHTVDhpCV40beoEACIQ/gYgTunykMZpoiY2JpezsLLpw4YKtU7YUujW1VMoParUYp2liN6E60UMpRFsma4UZNVl7QpO0JbQIvUM/En3xAFGHKUQlaxD9rkXtbtTSepapQ/TEHqL5txH9sdJ0HapCV0bfGkWIcRIWOW++OUq8rI/Yk0KXU5B27NjRkZ5Z9jdG9PLr+qha/Ty8BpY1MpWpFDfGtUhx5M3aH3+8txhm6dKlTqKWa3T26PGwad1gq7SqVvV6ef1vv/2OSzpbvQTT74Xl2sGDB0VdTr3scyd0reZmETZhwkSnuTkik0WaUSQaeco6o/x6UlKSrXt+pRt5klz6eynvE+/ztddeFVJXXzdYpqXmPemjV+X9098DfVSz8fUZM6YLLPo7YJS2HFXKD4/jrj230YtJo9CVd8Qob6XkNaZVlns33mm9dNWLXjkOr8NMphr3LsW3vq0c25iqXUYKcwSnvhat/L2gl6XuhK5xXLlmfX9/C12OeGcxqT+bQH8WPN11q/kHDkwS0tVM2rZv35E6dersVbQs73vIkNe0/x5m0/LlS4QsNhO6Y8dOpgytvvVbb73msjQ577JlS7TP4D9lBrRWnMaZI4crVMhP+5+VdYK++eYrr2Szt+cAoestMbQHARAAARAAARAAARAAARAAARAIFAEIXTWyELpq3NALBEAg/AlEpNDlYy1WLJriiseLVKs5Z7Rath4ea6GrpVLmOrkfXZ8fmdvu/4iuH0CUpgnazzXJ0+WfFJS/a9KX39ur/XztfUTT6+WnaX5Mk70LOmjt/2u6AlWhK6UVy8Vu3bp52p7L+1Kcybq7HAVYvHhxuvHGGxw1efVySS8kWfb+8MMPYsxOnToJ+agXy54idH1du5RcPD9Lz1Wr8mV5q1atxVr4MaYh1qefZpnGqWYrV65M//53G7FfXv+wYcOcpLE+7TH34T3Xrl2b2rdvL9KSctSiHaFrTH3N4yQkxItoXRlFqhdk8mwKMprQ6wuk2MGT5JIRusYaqPIsGjVq5DSzvEvydXk3zGS4lLF8djKiWZ6N2ZcAZFSnfizZ3izNtVkUqFHoWs3Ha9u5c4cLVdneGKHOn1f9PvQdv/vuO3E3paSVTMy+pCGj5fW/R+Rn3bhH/hJFnz59XTICmMlXd0LXuBdZ+9bss+SPFMlmwljx+nrVzdNdtxrs9dfza/y+/vpQlyYsZ197bbRp9K7VeE880V/7vVifpk17T/sdX8Kt0E1PP0hjx452GUpGDetFMKdo7tXrSREVzv34KVu2nPjzo48+oL17tS8zBeCB0A0AVAwJAiAAAiAAAiAAAiAAAiAAAiCgRABCVwmb9ncJMdrfa51V64xeIAACIBDGBCJW6PKZFipUSEsNXJwKFylC58/l0nktWvfihYv/1Nd1TsdsKXRv06Jxm/Yn+u0rosM/ER1Yp9XP/d/lK8Oyl58Da4laDifaOYeoUV/tb7SbEdXURO6t2l+Ob32faIU2hsnjq9BVFR5SGhrFl5RenE5WPzZLG67NmZmZScOHa/vUPSyXuL1eAOmjVY1pg6WEU1277G8m7fTpbKW0s9oTb0EfhauPmpTyitsY128UyjJ60yxCVz+3WWrgyZMnCfmmfy/Q9Y2v5O87T5LLquasUdzKPRhfdydouY+MfpZSUf6sT0cux5ayU3/PZHu+E8aHvyDQvXt3p9TJxv3IMWW08ZYtW10iw/Xj8v44JbNecMt7ZiZoua+MmJX3VjLhO7Zvn5Ye3vBwGmu9HDaTsdzFKmrWW6FrlPI8tlUks/53hKzBa1y/VR1lbmcVyVwQnwFPd91qDRwpayVWuY+n9/XjShG7bdtmmjPnQy3VdX46Z6sIXc5qYSaSu3btoUXBt3JaF6doZoGrl7dS8qanH3BJF+0v5hC6/iKJcUAABEAABEAABEAABEAABEAABHwlAKGrRhBCV40beoEACIQ/gYgWuvJ4o6KiRP0/rq/LkrdQocLaP1GO0+fau6ZCt9rNRA9/73pLds4m+vqx/Nel0F3cnej+L4mqa7VMN/6H6LshWp3dpkQNtJTB1w8kmttaq8GryWDDc6WFrlmkoTfClYWllJJGAczSjB9vhC5HOerT50pcUtrIaD5+3Wzt+vq8cl69nDUTd/oaqlI2SSnG6WGN0aI8t1laZDOhK+e2qnMrhZNeGroTulZSS59OO5h/rXmSXL4KXSsZKZkY37cSxbK9cT1W6cT1zI1nafzigTFdOMtdjpCdPXu2S/1nnt8obj2lIzbu0Srdt/GeyLsfLkJXfq6tPsOB/px4uutW83sStlxHNz4+Xsso4DnNuoz2HTdujKh9607oykje1atXal8w+SfzhLZIYySujOAdPXocndO+KGUUwBxFzHMF6oHQDRRZjAsCIAACIAACIAACIAACIAACIOAtAQhdb4nlt4fQVeOGXiAAAuFPAELX5hmbCt2bRxI1e04zkqW0US7lj8SC9o4PiWY10VIwb7ssdD/Tau3W70l0lxahO7E8UU7G5Zn/n/aX2z+NI1o3wmU1V1roGmUrL9BK6LJM7dz5LipfvjzVqlVL7CUxMdGxJ38IXSv5JMfWS1MzOcuLkRHDMupVXxPUTM7qI25lmmnJwCoK0kzEmgld2U6mtjZeAI6+5LTLdoWulVA0O0ebV79Am3mSXIEWulLUG8/ZLGqUwVgJXbMIXQkyKyvbEXVrtR9uy/elYcOG4rPEnyNj2m/5ZQDjFxdUha5VhK5cN0e38xOsQtebi6qXuUlJz5ums/ZmPJW2nu661Zj+Eroyqnbu3Fla1PgmMZ07oStr7coUyn/+mSayB3C65j17dok/U1P3OyJvpQDm13j8HTu2B1TkSl4Quiq3EX1AAARAAARAAARAAARAAARAAAQCQQBCV40qhK4aN/QCARAIfwIQujbP2FTodtBSJddoQzRDq4crnx6r86NwT6UTfdiYqPPc/Hc+02rtNuyjFZWdoRkRrXbu+VOX+zyh1RJM1WrornzGZTWqQlemFjZLO2xny+6iQM2ELkvPF198QaRWlg9HnR4+fJgqVaok/uLfrtD1Zu3GtZhJU+N+jX3M5Kuxj5GHpyhlb4WupzNhmScjk2UNVDspqUMtPbMnyeWr0JUS1ErEG2vxSsFrFu0tx9J/xoxC2NO5uhO6+r4yLbIxxXDLli3J+MUFGaVuFXkq92iMULdbkznUha78HcF8rpTM5bP1dNet7o4noevpfR6Xo2qfeuoZl1q77oQu92Op263bw0Le8sOpuFnWfvvt16J2rz5VM7d99NE+VLNm/pd7+MnIyKCfftpAK1f+U4rA0wdE4X0IXQVo6AICIAACASbAZVlkqRP9VPy/aX/44QfT2V988UWX1921D/AWMDwIgAAIgAAIgAAIKBGA0FXChghdNWzoBQIgEAEEIHRtHrKp0L1tEtHVWuTttNr5o1S6geixH4m2TcuXtymDiWrdQRRThmj1S0RtxhAVLqZF72qiV/88tZ9o/9ea0H3WZTWqQlefJljWAzXbqlkKYm7nrdCVUa+cGnbBgs+c6n6ayU93NXTtrt0svbI+mtZq33Jv8+fPp7feeoukLLNKe6xfq7G2Ku+3W7duLmjNpLS7CF1vxLtZHWCzs/WUStrm1S/QZp4kl69ClzfDd5Wfvn2fcIrMlLz0tZLlmZmdj1mtZtne7F7wPWvQoAHp018b98Ntbr75ZhoxYoRTemW5Nr3QZTGbk3OWZI1m/UHJO2KU/vrPlhS6so4zy7kBAwY6MeHPU79+T9L//rdafFb4CWWhK794wil/7chc5l68eAnH3nn/zKt7925krG/MYzdt2oTmz19gK+LX0123+uBxmmT+fwjNUipXrVpN29dQF1FrHGvgwCQhWrl27tmzZx1vy4hbrtHLEbj79u11RO+6+0UgRfCyZUtcZC2vqV6967T5rqaqVatr6aATxLxcszcQD4RuIKhiTBAAAXcEGt3ckVJ3baasY0cByoIAy9n//EcrOWN4XnrpJXr77bdNe+Xl5XnVHvBBAARAAARAAARAIBgJQOiqnQoidNW4oRcIgED4E4DQtXnGpkL3Oq1O7p0fEX3ZlejXRUSltEgkjrY9ukOrj6ulXF76qJZm+WGimlp0Lj+nDmltH9Bq5a6/POu/emhRvJ9oeYy1Grt7FrisRlXoSknDEbNW0pEnk7Ve9RGg/Lo3QlcvUc3SHEvZazdC1+7a9emK9XLOmFJZD9VMzpqlVNb3kfPoha+UwMzNKAb169eLQDOh64kdC/eUlBSne6Efx11UpZlwtHndr1gzT5LLH0JXX7d4+fLldOjQIeLIkSZNtM+s9gwbNsyJub4e8qpVK0Wbdu3aiz85FbJR9uplPt9FOT5H0xrvi3E/ZmurXbs2tW/fXkS/yy8UyC8zWEVp8/vjxr0r0nXzveV/OH03R02ysOa16NNwS9HL7dasWaOJvH2kn1ffNlSFLn+WRo8eLTjy78SDBw+63POjR4865K3+s2m2f+PvTLPfc+4+SJ7uulVfmcpYnypZtm3fviN16tSZjHVujWMNHjyMqlSp6vFzro+47dz5PoqJiaWFC+e59JNrGjfuLY3rActx+f4lJQ0RUnfw4AEe51dpAKGrQg19QolAQpny1LpzT7qm0U1i2VnHM+iP3dtoU8piCMUrcJA9Bo+hhq06UJp2BlNffvwKrCA0ppRCd+/evbRr1y7HomfPnk1ffvml6SaSk5Mdr9evX1/LLnEtuRPAoUECqwQBEAABEAABEIg0AhC6aicOoavGDb1AAATCnwCErs0zNhW6HG37wFLN6mhy54IW5cSRumWu0QoR9idK01Iob5+eX0OXI3RXaK8d2UqUdzF/xhLaX6Y/tY+oSAzR78uIFt2tvXfBZTWqQpcH0kfjsXTSRway3Hjqqae01Jl1xZxGMeiN0NVHyhprtUrxyXMY5ZOcwyydrae1d+3aVUgps3Fl2lsWLm+//Y4jWlgvuYwSTqahNaZh1aeS1q9fL225z7x5nxKLPBnRyCKNH09Cl9vIuVkyjRw5yhHdp1+vkZ2Uhtyf0wcvXLjQISF5DY899qijfrHxTJgtp29OT0+np59+2nHneL5XXhmuSZsYmjBhgpPUZKZVqlQR0a0yUtPmR8erZp4klz+ELi+Ixen99z8gUoHLx/gZka8zlwED+jvuG78u78knn8x1Ebr8PktPvp/6FORm45vth8+Ho26N6ctnzZol7pj+sy1r/ZpB5nU//nhvRz3r48ePE//F6V133aUJ6XZOQteKCQvezz9fRBMnvueYIlSFrv6LEFaXUv95lZ9xbquX/GaptrmN/AKF2e8zs/k83XWrNcpoWI6iHTt2tKOZlKX8/yyOGTPCUa+W0yvXqVOPvvsuxWMNW3cpl6W0TU5eQOvWfe+YV6Zv5jq606dPEa/zWp54YoA23wnHa7LD0KEjqFy5chC6Xv1mRGMQyCdwTeMW9MiL71K09uWKQ2l7xWvxpcuJP0f1zv+iEZ6CJQCha4+3FLpffPGF9r+Vu9jrpGvFcve+++6D0PWaHDqAAAiAAAiAAAhcaQIQumonAKGrxg29QAAEwp8AhK7NMzYVuqJvFFFTLdLoNk14LH8yX+LqHxa6/HympWbWP000kdZB+8vvb/vlp2i2eHwRujyklJvutqlPMSvbeSN0uY+UGSxRWUweO3ZMS01aX/zFPqdyNdbQ5T6yFiz3OXLkCO3YsYOGDx/uWKrq2vUilAdjScNPxYoVhSTj+YxRmHpxK9fDfTgCkx+zeqQsdnr0eNhJvMm2+/f/LoSeHaFrNbe79fIe33xzlGN9Vucr00rr35dnxa/phaAd+W6MSnR3r1TeU5VcKnNxH2afkBCvpZf90yUS2jgmM2/W7HpNUmU7pRR3NzdLRH7sjG8cx93aWOzylzFkXWVv9m8lZOUYcl5v9unN/KHWls99504t64LuMXuN37Z63WzPvtx1KVdlamQev379BiLy1Zj2ePTocVrtmWJO9W2tzsCd0OXUyQMGJImxZKpm/vIHp1PmZ/LkcU7RuVLcsujdtOlHiouL06Lgm4lUz3r56+/7gAhdfxPFeMFEoN+bH1JivcY0840B9Nu2DY6lcdSuv9L99n5lEuWeOUXzxg4Jpq0XyFpU946Uy56PB0LXMyO0AAEQAAEQAAEQCE8CELpq5wqhq8YNvUAABMKfAISuzTO2Frr/DPDYJqLiFYlmaynwTqXnv1ihEVEPjmTSakB9couWivnn/NfjqxE9otXxzPqDaG4rtyvwVejy4CyV+FvtUk7KCVlSLl261Cn6Tr7nrdA1E4wc3TdhwkRHtKgxypTF0XPPPeuIkjQTy+7Wrq/raYTI63n++cGONLryfRasxuhT+Z4xslW+zhGwkydPMa2LyZHOjz76KJUuXVo05yjId98dKyIjOQrSjtDlflZzsxyfNm2apWzkaM6OHTs6RZryeNxv2bJljohOPR8pyt1FIxujDGUUsdkZ2fwI2WpWukxZOnE8k0zKptnqHymN+MsQhw8fNq3fLO/T3Xd3FnfRKCPlFynM0qNHCr9g2GeZsmXoWOYx5aV07dpDCFIWrPzwF2dSUla41LCV6ZWNkbVmE7sTutyeo3E7d+7ilK6ZpfL8+bNdUi3LKF1jameWwYsXf+4xWlgVDISuKjn0CwUCb8xbJ6Jzh3RpGrDljkneIqJ/JyRppUAi7Am1vVepWZfSU7VSLyHwQOiGwCFhiSAAAiAAAiAAAgEhAKGrhhVCV40beoEACIQ/AQhdm2fsUehW0Opv9vhffurlTf9HFJ1AdNMLRNn/1BOM11Isb3yb6PwpohuSiApHE827lejv7W5X4A+hq59ARgxu2rTZVFDaxGHZjAVnjRo1xPsyPaynMblPqVKlPUY9qq7d234yEtObPRj3KKMgjamdPbHQz+3NGXm7ZrPavLw2HocfowTk16z6eNqTN+9zJHf2qWy6eOGf1OTedI6gtnyn3UX96us+yzrBlStXFhG9/MUO/pKCPt12BKELiq0WLlyESsSXoJPal158fVjCnj59ivbutf5LfZarWVknfZ3K0Z/Hq1XrGtq//zeP48q23HnrVu2LTwF+IHQDDBjDWxLgKE35pO7a7DFiltMnx8WXFF2OHkizJeZYOPLjjdBl6Ve+WqLot33NP1lj3JxjKEhNjkiuWf96t+z0+z6TfdIpotlq+wW5d3n+dtamv1tlK1ajUhUqU63rbqBisXGWqba9vY+B/mhD6AaaMMYHARAAARAAARAIVgIQumonA6Grxg29QAAEwp8AhK7NM/YodHkcjsi9dxFRaa2WLkflbtLSMK8flT/DzSO02rr/1CvN2KUVrX3Yo8zlbv4Wuja3i2Y2CHB0bOPGjZ3q3spuMgoS4swGSF2T4sWL08WLF+nsWe2LEXh8IsAptG+++Wan6G1Omc13MilJ+1IJnitGIEZL/V4oqhCdOXP6iq0hXCeG0A3Xkw3efbV9oC+16dJbRM7qn7Td22jD8s9cJGqX/q9Q49YdTdvPG/uSiwjWi8mHBuXXzf50/DDHVFZCkKVn7+HvUeXEax1tz53NodXJsyhl0QyntfKabmx/nyXkH1d+QclTRjreb9HpQbrniSH069b1NGvkQJd+dzw2iG655xFaMW+Ky1zenCRLSbnnzMMH6J3+d5OR98/rVjilh+a1tXvwSSpRsozTVNz/yw/echG73u5dDirlun4Sd6JdyuLVX3xEnR9/3ml9Vhzd7eXc2TN09GAaLZ011unOeHsf5fr5vtw/4DUqFhOn8XS9h96cm1lbCF1fCaI/CIAACIAACIBAqBKA0FU7OQhdNW7oBQIgEP4EIHRtnnF60lGKLqxJWjtPyUSiSxcuR+fKPvHVtZK7Ws3drD/tjEJZuVF09cTyttqiUcES4EjWGTOmi/q5nLqY0z8fOnSI9FGQvKJBgwZ5rM1asCsP7tmKFi1KxUsU19Iu+x65GNw7LbjVyah51MQtOOaeZiqlpWg/lX2KLlw476kp3veSAISul8DQ3CcCUjiyLFzx6RTHWFWvrkdN29xJSz5810XosqSrXLMO7d/xk6N9i44Pitq4ZmJPRTiynHtq1EyKL1WWNn67iA7+vpviSiRQ6849qWylakII66N1jdLYuB+ziOPhs1ZSdLFYerWHa+mQF6Z8JeYZ3fd2j5HK7g5ARuI2bXMX1WnSUqybBS9z2rPpeyGVjbKZ99KmSy9K/WULnTmVJYav1eAGIaxPnTzmEtGqsnceUx8B2+Gh/mK/noQuC3V+tq1dThuXLaTiJUvTvU8OFX0XTx9DG5Z95sChv1ufvPOiiODmtXZ95nWKL12OPnxjoEtUt8p9lBNy/WBmzA9/GWHqy4/79NkwdobQ9StODAYCIAACIAACIBBCBCB01Q4LQleNG3qBAAiEPwEIXZtnvKLncWpauWD/8n1TelHq+El+bVY8wUfAWANYv0KOhJw37xPT+sTBt5PgWlFCyZKUq0Xock1QPCAQbgRitCi+6Ohoj6mKw23fBbUfCN2CIo15mICUrUZByu+xjMw6dtQ2KBakHFVqlIKeInTN0jXLdRkjZHlNz0/6krJPZIpoV7PHbtrhHoPHUMNWHVxEJK/32bHzLKN3bQPRNZT7YSG7ZfXX9M3H48W7vFaj0LUaXwpLs7OSfezu3TjHc+Pmi0hoT0KX+818Y4BTlDBH1Hbo0d9lH/3e/FBI/omDeziJW3d8mNcS0wAAIABJREFUfbmP8jx5jVYRwypnJ/tA6PpCD31BAARAAARAAARCmQCErtrpQeiqcUMvEACB8CcAoWvzjHs0OEsTO+Z/07+gnoHLEmj+zpiCmg7zKBLgeqYNGzZ09E5LS4XIVWTJ3QoXLkTxWo3ObK3m58WLl3wYCV1BILgIFCnCtXPjtdq5JykvD3c7EKcDoRsIqhjTioBMLcwC7PPJI7wSuMYxvZGCnmrououelWLTKnrWrtTkGrB9Xp3sIv+koDRGnPpyi6SoPJS2lyYkdXcMxcx2rF9pK62zO9kpB7S7d3+enYyqNYppd/fBap2+3EeZcpn35utdNjtrCF1fPgHoCwIgAAIgAAIgEMoEIHTVTg9CV40beoEACIQ/AQhdL864IKN0txwqSh3mIjrXi+NB0zAiULhwEU3qxtPpU6fo/PmCjYwPI4zYShAR4KjcuOJxWmRuNl3S6kTjCQwBCN3AcMWo5gRkamNOmcvpdFN3b6U/tHS1m1IWu5W7LEMbtGxPFarWpGKxcWLwspWqi7q6dqI8PQldFn7GtMlyB/r0xfq0y/J9b6SmmTjmyNIqWkpps1TMqvfIKuLYajyOYm18SyeqWKMWJWjpifnhNMUcAX2lI3SNZ+dJ6FpF6JqlRVa9j6rn4k0/CF1vaKEtCIAACIAACIBAOBGA0FU7TQhdNW7oBQIgEP4EIHS9OOMq8Zdo4QMnqE45rT5uAJ/fMgvT/QtLU3p2oQDOgqFBILgJcKRu8RLxVKhQITqnpV8+d+68FrF7QYtstFnLOri3h9WFOYEorV564SKFKbpoMSoWE63Vy70ovqBw6RIicwN59BC6gaSLsa0IcFTqtVr9UU6RKx+rVMAytS2nD/595yY6m3NadPnXDbeaplzWz8mylR87QtfTaVmJTW+ErjHtMgvFYTO+9XvKXjvRtXK/fBZtuvQWP7JgP5l5RPx79dr1RVrkUBG6XGuZawSzuJ039iXxBQHm22Pwf8Q9cxcB7c199HRP/PU+hK6/SGIcEAABEAABEACBUCMAoat2YhC6atzQCwRAIPwJQOh6ecbFCucRp18ecMMZSizl3yirtBOFafJPcTRvRwzlXozycmVoDgLhSaBIkaIUXSyaihYtosndwkLw4gGBYCfA4vaiFol7QYswz809J76MgCfwBCB0A88YM7gnwCKudeeeWsRtNZe6qDIa05g6mEf0Z8plb6SscTfe9JX1XH9et0KTjkMoEOmWeX12ha6sEcx93h14r1OUtJ0xvNm7npsvZ2cVocvjS6mrn4sjwVcnz7KVZlqOYXUfC/KzDKFbkLQxFwiAAAiAAAiAQDARgNBVOw0IXTVu6AUCIBD+BCB0w/+MsUMQAAEQAAEQiAgCELoRccxBv0krcSuloll0pS9S0AjEXQ1dT/C8lZovTPlKpI0e1bs9BSLdMq/XjozldpK7FMz6vdoZw9u9y/F9OTt3QpfPMSP9T1q1cDrFxZcU05mlyfZ0pu6+SKDvy0K8RMmylJ66x9OQXr8Poes1MnQAARAAARAAARAIEwIQumoHCaGrxg29QAAEwp8AhG74nzF2CAIgAAIgAAIRQQBCNyKOOWg2ybVwj/y5z6VeroysNEbiWtWCZZH27NhP/ZZyWc7z/eI59M3H45148VycvtfqkfV33+l/ty3Odzw2iG655xGRyvihQaPJTKbaGshNIzsylrtLcfnr1vU0a+RApxFZNnOqYk8pl7n2sN29ywkCIXTdyWkrVN7eR/04+mhgd+mcVc8SQleVHPqBAAiAAAiAAAiEOgEIXbUThNBV44ZeIAAC4U8AQjf8zxg7BAEQAAEQAIGIIAChGxHHHBSblOl9z+Xm0JbVX9PB33eLdZWtWE3UcI2OiXWpc8rCrc+rk4nr56767APa9cP/qP5N/xYpmuNLlTXto9+s3Rq6vLanRs0UaZ9Zbm5ZvVQMU6vBDdS4dUfa+O0iF9Er5+n9yiSqo9UD5hrA+3f8JF6uf2MbLc3vR6aRmzLtMu+pRMkyNPONAfTbtg1+OSPeR83611PTNneJNbGgZs5HD6RZRpG+MW+d4Lhi3hTalLJY9G/R8UGqUrOOeN2dcLa7d95z805dHXuU9Y+ZmXySp4x0YmB1dp4idJmp/uGUy+mpv4qoXT1nlfuoH1cKb37NLCW4rwcKoesrQfQHARAAARAAARAIVQIQumonB6Grxg29QAAEwp8AhG74nzF2CAIgAAIgAAIRQQBCNyKOOWg2yTKuzX29qHLitU5rksJ2w7LPXNbKdWal8JVvsmRkYfr4q5MoN+eMZYSoXaHL47Lgu3/Aa0KE6p+03dvoqxlvWwpR7td7+HtOe/JUt5XTLrM85n1z6mV/PVJ2GsdjcWoUprINS/Nuz40Uclk+LChnjXrGsa/RfW83jVK2u3erdenXOaRLU6dlqwhdXk/77v2cxqleu77jbIyRtCr3UQ6uj9BlGZ6yaIa/jlGMA6HrV5wYDARAAARAAARAIIQIQOiqHRaErho39AIBEAh/AhC64X/G2CEIgAAIgAAIRAQBCN2IOOag26SMJOWFuYse1S+c5Rs/xpqoHP3pzxqm+rV5U3+V11G+WiKdyT7pMeJWRh67E60FfWi8Jq47m7prs5O8tcPXm70X9L54PsnbKpJW5T7yuLzv4iVLezxvlT1D6KpQQx8QAAEQAAEQAIFwIAChq3aKELpq3NALBEAg/AlA6Ib/GWOHIAACIAACIBARBCB0I+KYsckgI8A1ZMtWqk7vDrzXbX3eIFt20C6HheywGd+KtNdWkcgc8RuI1MiBgiKFrnH8l156id5++23TafPy8lxed9c+UGvHuCAAAiAAAiAAAiDgCwEIXTV6ELpq3NALBEAg/AlA6Ib/GWOHIAACIAACIBARBCB0I+KYsckgIcCRou26PkGJ9RqLmrXu0vSy9LXz7Fi/0u/pfu3MG2xths9aKZa05MN3naK49cyDKSLaE797772XHn30UZdms2fPpi+//NK0e3JyslftPa0B74MACIAACIAACIDAlSAAoatGHUJXjRt6gQAIhD8BCN3wP2PsEARAAARAAAQiggCEbkQcMzYZBATueGwQ3XLPI+Spvq5cKoSud4fGKbnvf/oVio6JNe0YSjLXu52jNQiAAAiAAAiAAAiEFwEIXbXzhNBV44ZeIAAC4U8AQjf8zxg7BAEQAAEQAIGIIAChGxHHjE0GAQGut3pV3Ya064f/Ic1ygM5D1sKt1eAGxwz7d/zkUhc4QNNjWBAAARAAARAAARAAAT8QgNBVgwihq8YNvUAABMKfAIRu+J8xdggCIAACIAACEUEAQjcijhmbBAEQAAEQAAEQAAEQAAEQAIGQIAChq3ZMELpq3NALBEAg/AlA6Ib/GWOHIAACIAACIBARBCB0I+KYsUkQAAEQAAEQAAEQAAEQAAEQCAkCELpqxwShq8YNvUAABMKfAIRu+J8xdggCIAACIAACEUEAQjcijhmbBAEQAAEQAAEQAAEQAAEQAIGQIAChq3ZMELpq3NALBEAg/AlA6Ib/GWOHIAACIAACIBARBCB0I+KYsUkQAAEQAAEQAAEQAAEQAAEQCAkCELpqxwShq8YNvUAABMKfAIRu+J8xdggCIAACIAACEUEAQjcijhmbBAEQAAEQAAEQAAEQAAEQAIGQIAChq3ZMELpq3NALBEAg/AlA6Ib/GWOHIAACIAACIBARBCB0I+KYsUkQAAEQAAEQAAEQAAEQAAEQCAkCELpqxwShq8YNvUAABMKfAIRu+J8xdggCIAACIAACEUEAQjcijhmbBAEQAAEQAAEQAAEQAAEQAIGQIAChq3ZMELpq3NALBEAg/AlA6Ib/GWOHIAACIAACIBARBCB0I+KYsUkQAAEQAAEQAAEQAAEQAAEQCAkCELpqxwShq8YNvUAABMKfAIRu+J8xdggCIAACIAACEUEAQjcijhmbBAEQAAEQAAEQAAEQAAEQAIGQIAChq3ZMELpq3NALBEAg/AlA6Hp5xnlFoimqxb0U1aYHUbnqXvb20DzjL8pLmUt5P3xFURfO+XdsjAYCIAACIAACYU4AQjfMDzjMtpdQpjzVrH89bV+zPMx2hu2AAAiAAAiAAAiAAAiAAAgwAQhdtXsAoavGDb1AAATCnwCErjdnXKoiUf/JFFWxpje9vG6bd/h3ovcHEp044nVfdAABEAABEACBSCUAoRupJ+9531Vq1qU2XXpR+aqJovHRg2mU+ssW2rDsM9POLTo9SLHFEyhl0QzPgyu2eGHKV1S2UjX6fvEc+ubj8YqjuHZr+0BfqnRVbfpp1WL6bdsGv42LgUAABEAABEAABEAABEAABLwjAKHrHS/ZGkJXjRt6gQAIhD8BCF1vzjhpNkVdVd+bHspt8/ZvJZrYV7k/OoIACIAACIBApBGA0I20E7e3XxacHXr0p3Nncyjz8F+iU9lK1Sl191aaNVL7Ap3huaZxC+rz6mTx6qfjhwUsgjZQQve5cfOpcuK1AV27PfJoVdAEypaNo9s61aV/1a9EZcoVp2MZp+mPP47T6pW/0f59GY7l3Nq2NjVqUtXW8rZvPUjfpexzasv9W7SqSdVqlBJz/LLrMM2fu8V0PLO5/j6STXv3/E1bNh2wtQY0AgEQAAEQAAEQAIFQJQChq3ZyELpq3NALBEAg/AlEjNAtXaYcHT92+S8yvD7alvdRVLfhXnfzpUPeJ68T/bjElyHQFwRAAARAAAQihgCEbsQctVcbfWPeOjqXm0MTBz9EWceOOvpyymP9z/INfv3ZsZ9SdLFYmvpyH0pP3ePVfHYbByrlMoSu3RMIr3ZNm1WjwUPaUanSsXQ25zwdOpRFlSsnUExsUbHRb7/ZTRPHfif+/dnBt9Ltd9SzBWDOrB+dZO0bb91B199YQ/RN/T3TMQf/+2tDvqbMzDNO47qbi/t8OG0DxK6tk0AjEAABEAABEACBUCQAoat2ahC6atzQCwRAIPwJRIzQLVmqDGVnnaBLly6pneqgjygqsYFaX8VeeWk7iMb3UuyNbiAAAiAAAiAQWQQgdCPrvO3sVkbbHkrbSxOSutvpEvJtIHRD/giVNjBjTg+qXCWBkhdup5lTL6faZtH7+FMtRCTtq0O/sRz761X9xHt3tptq2UbK2c0//kkT3l3tkLdDXrmNbm5Ti9as3k9jRv7Xqb/s8/abKx2RvrVql6M776kvpDLL5ycf+9RFBCtBQCcQAAEQAAEQAAEQCDICELpqBwKhq8YNvUAABMKfQMQI3YSEBMrJOUvnz59TO9UxqykqNl6tr9arUZmi9HCt4tSzdgkqWogoI/cSjdl+kubsO02X8syHzcvJJhrSRnlOdAQBEAABEACBSCIAoRtJp21vr41u7kgPDRpNBSF0uU5v+WqJYmHb1yy3t0AvWrGcjosvKXocPZBmGTlsFLpyXWeyTwa8pq6eQequzaYR0Lx+uRc7a5KRzBKVXbZ89vJxtxbZRj+PO77GIwv0udu5IixtR/7nLhExO/CJhaZdOB2zMXpW39CT0OX+H3z8EJ09e4EefuBjlzkmTe9KNa8uS88+tcgpvbOZ0JWdpQjWRw/b2S/agAAIgAAIgAAIgECoEIDQVTspCF01bugFAiAQ/gQiRujGxMRQ4SJF6PSpU0qnGjVhs1I/7nR3jVj6oHVZKhyVL3IPnLpAdUoVpVjthd0nzlOP1Rl04PRF0/HznrteeV59x+uua0Bt27ahxMSa4uW0tFRKSVlNO3dqUcAmT69evcSrmzZttmzjl4UF2SDGfXfpcj8lJMRTVlY2JSd/7pbVn3/+qTFNcWnD7Js1yz9HOzy5/SuvDKfSpUvR1KkfWM4bZOiwHBAAARC44gQgdK/4EQTNAqQwrHp1Pbrlnke02rkHaMWnUxzrMxN2ejEnG9oRpxMH96Cuz7wu6tbKh+ebNryPi9CUglkPypNs5r10e24klShZxokvz7E55StKWTTD6XUpdBdP///snQu8VWP6+B8GXaik0kUoJRGSSySXJolcppwRaZRJwsQwiuRSLrnkElOTBmUal8l1IiJMmpLklkpSUkrTRVIoujE///2s/u+etddea6+137PPcfZa3/X5+Eyd/d6e7/Pu3e93vvt536HS+uSSSOvKN3ElfQdJ6w5nOd0+mvG6jBs2ULr3HyqHtu2YHkrnnznpmYyh/WL5/rv18vTwQVmyWfPxu2vuTt133DBjDL0LedLjw7PGNo30zuR2Jb1kl8pVMvotWzBHZr76jK9s965dO2r7ccOuzcqh4ZtP3t0LUXZ7N20hrzw2vGCC3Qjd1as2yEU9xuWbTqd9mNDtdv7h0qNX64yjm90Tmde9FcK5hK7erzvghg45RbRVMHSCAAQgAAEIQAACFYQAQtcuEQhdO270ggAE4k8gMUJ3xx13lBq710zdo7vOKqu2Qrdk36ry17Z7yA8//Sz93l0vL3yx2Zm/UqpKd1Cr3eWS5rvJrK+3yamvfeW7rkII3fvuu0+OPfZYqVIl8xdbOuHbb78tDzwwKkvazp0711nP/fffL3//+9+tmBVjJ2/cyu6kk05KVXdvlmOOOSYrJBW+N9002Pn5smXLpHPnzlltrrvuOunWbfsxj7/73fmhglyl8lVXXeW0f+ONN6Rfv37On9u3by/77LP9zrIk5aQY91FZrTkue6BVqyOlatWqsmnTJlmy5LPUFya+yxtZvmM0a5aqnKuzpzPnV199KStXrsh7TjpUfAII3Yqfo/JaoZFuQfM9ef/1WWLPLSlNv/cmPy/jRw3xHcbMoYJx6YLZ8tZL/5AfvvtGTjn/cjmg1bFp0enu7K02Dase1vZXj3zBGUIl5qbvNzh/rlW3oRxybAf5z+L5WeuzWVe+eTHyu+N5fWXblk3OOg477lRZOGu6fPv1GkeiexmrzO0x4F7nPuM3nnnYiUXjUPmqz72Xd8mSpypav/xisaxbs/0z27RXWatC1Xu/sRHmXoGvYv/wdqfLS3+7NyvvRuYa4avzNDnkKEdY+8n20vBV2dyxe18nFt03g7u3zRd9YPt/PHeBc3+uVrv+4+/v532EcZjQNdW07qOT3YsJkrMI3YKlmIEgAAEIQAACEChCAghdu6QhdO240QsCEIg/gcQIXU3lbtWqyU8//pQ6Kmy7VM3nsRG6O6Uqcpd1ayhb//uzlEz+Suau/zFryoeO20NU+p786lcyZ132cdClFbqvv/6a1K1bz5lXpeSaNWucP+++++7Of/qsWfNlShpenSEaEbrbRbZbrt5yy61Z1bK33XabnHnmmem8tmzZMivHOk6rVq0czh07nhJp22kfFfAPPfRQuurXyGUdwG+eSAPTqKgJFPseUKn629+eJ7Vr107nYevWrak9/rpMnhzteNJ8x6hevYb07NlbGjdukpH7OXNmyeOP/62o9wOLzyaA0GVXGAJhFbp+R/C6K3RNZW8UofvmhMfllUfvT8PXca4YNi7SMc9Dx3+Ys50RlEHrUOG7Yf3ajMQb4ehdlzYKmy/fHaRzVatZ26kefuTWy5yKU7Nmr9B1V7a6Raxpbyp9w9ZgpKgfEyPl/YS9H6tcueo1aKQj5r2VxkF8o+S9TadzpHOfgU6IWpl8W68OYeFGfl2rdG+4+RSpXGVn517a+fNWy3vvfCETJ8yPNEaY0DVHKgcJXZ1Ex/Ae+5xL6JrXOHI5UopoBAEIQAACEIBAERJA6NolDaFrx41eEIBA/AkkSuhqlW71GjVlQ6p64v/+7//yyq6N0NUJejTd1RG1877Jlrn6+qkNK8vjJ9aWW2d/J3/5JHVnrucpjdD961//6lTm6vPSSy/JjTfemDG6W0Zqpe4f/vCH9OsI3f9VJhsWfgyffvppad68eZqbX0XztGnTHHnuZZzXBkw1LnaZl2+8tM8mUMx7QMXqwIE3SaVKleSdd2bI4sWLnCrdk0/uJNWqVZcnnhgrs2d/kDPtNmP073+9NGiwlyxdukRmzHjTGb99+47Oz3Qdzz5rdzQl+7NiEkDoVsy8/JKrsr1DN0ykakzeu2rdcUYVp2HtVEz3HvyAc2T0P+4ZEHhvrnvuQqwras7MXG65qms+reeVGUcKG9mpVbAP3nBh1vA3jp0sWzdvknv6/iZ06ly5Oe2Cq5zq4E9nvy3/fOCWwDt8zSRGAL8+blTW0dVmHh1r7JDL0+sqLV+dc8+9Gssbz44u2JHLZnF6z+3vfn+UHN2mkVOtq4/K3Wn/Xiwjhk3LybZQQtd77HOQ0NUjmrt2a+WsacCfJmTcuxu6CWgAAQhAAAIQgAAEioQAQtcuUQhdO270ggAE4k8gUUJX07lLSiaoRPju22/l559/jpxhW6EbNsHRdXaRiR33lJEpmXtLSup6H1uhq0ezqlzUx31sr3d8tyByHwfsFrp672u3buc63PT56KOPAo/81Xn1P9NWjzd96qmns44Z1srXQw89VNauXSt33nmnUwmrf9cnqI+uVZ+JEyemjkxdG3lN2sc9fq4Y/ES2kbYLFy6Uc889NwOhaa+yVuW5V9q682Bkr/7sjDPOcMbR45R1bUcffbRTQW2OV3bHqvfy6t+bNGmSugO5UTqnhoX73l69f9edqyCWYftSXze59H4RIErfQrXx2xd77lkng593Ljdffc3sMW87mz1oxog6hx63XadOHec9Y95HtWrVknfffTfjPRTlfVMWe0C/1KH7x+/u50Ll0IzTtWv31LHlbWXq1MmpL5g8nx5+r70aymWX9ZNt27bKzTdfl3PafMfQY5nPP7+XI3NHjtz++WGe6667xakUvu++Ozl+udDJ/gXHQ+j+gvAr6NTFLnQVq6kU1T+rEF2+aJ7MeXNSoNwtrXDMJ5VBVbfeMdxy9MOpE7Om0KOb9a7cgSWHZ7ymVbVHtu8s9fZtKnX2auS8tkvlqk5bvwpdbX/JbY84r5ujsL9IMftgygRfuXvp7X+TRgcelnU8tM4TVHFbnnzzyYW3rVbsdux0oBx19D5O1e6s95bL4OteCRyyUEI3qEJXRe+WLdu/4Np4v1rO/6psHnHfNJk2ZXFpQqUvBCAAAQhAAAIQqLAEELp2qUHo2nGjFwQgEH8CiRO6mtLKqaNsq6Tu3tq4cYP89NNPkbIcVeieWK+S9DukuhxTp5Iz7pz12+SRT7+XZ5Zu8p2n38HV5bqW1eWqd76RJ5b8kNXGVuia6luVhBdd1Cfw3lYVgLfffpsz76OPPpY+UtiIyqeeekpOPfXU9PHMZoF+1abuimB3ILqGCRMmOOLWPEYk672zS5Ysce6p9fa5/vrrM0STzZo0vkGDbsyoojXz6Nw33HBj6FHTbpbue3TNcczfpr4c8M9/Pie9e1+Udayy+/5cc0yy+xhn5Wvu19V1mTZesWz+7t0g7orgK674o3Tv/rusu5L9+Ofa9CoXe/bs6RwTHXQvcKQ3TSkbmaOq3cO4Wbt5efeVd2rtN3z4iIwjs232oI7r/hKEd23eOXTfq4TX90uTJvuljz93f8ki6vumLPaAWd/s2bPlscceK1Oxe8cd9wVK2z59+qbeoy1SR4z/RRYtWhi4c/Id4/LL+zlHLftJ2w4dTpVOnc7MEsw6ub7WvPlBqWriys5a5s79MPKR0KXc9nQvJQGEbikBxrB7HISu8+/d8aem7oA9Qxof2ColNLdXXqrcHTfs2sAjl/2OHQ6rCM53Cxi56RWx3nFMHsLGd4+jlb7nXjnEOc5ZY/1q5VKne41adZ2jkHMdh63HMjdLtVFZax6/9rnkrPbz41UsQtfErVW7Ix7q6lTs/nXE9MAjmEsrdJs0rZ2a5+zAI5eN0N286Uf5z/Jv5PPFX0c+Djps3/A6BCAAAQhAAAIQqKgEELp2mUHo2nGjFwQgEH8CiRS6mtZKlXaRqrtWS31TfIts3pQtUr2pjyJ0Lz5gN7n9yO330i787ifZ/NP/Satauzh/H//FJrn63W9k44//qwo+LPWaVuemrtqVw55fJWu3ZB8DbSt0jajxqyqNsq2NPDL37r7zzjuy6667SuvWR6WllPtOWbfkUnmlFYj6dOrUyZGpXrFs2uvP9VGhtGDBJ3LggQelj4n2rj3fNem4prpW55k8eXLqmNfFUr9+fencubMjPoPmcIvSkpLfyk03DXbW6RezjqF33ZqKaHels5GS7nncQtfwVamtj6nQ9QrdsOpM9xp1rhkz3pINGzam+XvX7rcH3CLXvK550fWW9+OWnLqGDz+cldp/u8mvf93OkWzm/mf3XcLeI8R1D1avXs2p5tV7pFXqXnbZ5WmBb7MH853DvA/d+1z/bKrc83nflMUe8ErzshK7WoXbr991qffbfBk9elTWdmrb9gQpKTnXV66axjZj3Hzz9i+R+FX+6vHNN910R1b1rpHL+oWfjRs3iv4/X1rJG7T28n5vMF9uAghddoiXQFyErjsuFZ0nde3jyMrVyxbJ8H7dMsIuT+GYr9DNJWG9uQuKI8px2O6x9N7a484837eqN84Vum4GUe6qDRO6ZozHx74nTz3xYdaHzYntm8qAGzpkVQLnukOXTywIQAACEIAABCAQdwIIXbsMI3TtuNELAhCIP4HECl1Nrd6pW7XqrvKrnXaSH1PHff6Yqtb970///f/362YexxwmdH+//65yT+ua8uXm/0rv6evkvbXbnN1Tr8qvZHibmtK+fmW5/+ONcsfc7ccqN6+xk7yYkrm777Kj9AuoztV2pRW6uY5bzrW9jVD0VmhqxeuYMaMdGeoe2xwbvG7duqy7elUGa/tHHhkjI0b8xZnWLbK8984G3RNqs6arrrrKmc8tYvXvQZI26O5gcw+u+x5dI+u0ylarj00bd5x+/dxCNyg/fuvIdX9qLoGf68hoZaHradeunVORa56yEntRPlJ1j/3jH084Tb189LUHHhiZJXTd+9J717G7j/u1fPegzRxuoetXKV+a941bZisr2z0QJPKnTp0aeLS/sJYRAAAgAElEQVR6lDy625ijj4PurA17XccKa+P3+rBhD8iqVStl2LA7fJfsfd2M4ZW3USuI8+VC+8ITQOgWnmmxjxhHoWtyotWj+nirYyui0A27Q9dvn2l8enew917dfIWujh20D3LdoasiuHOfgfLRjNdTldAD00ssBF+V8p/NmVlub69CCN0gYWuCGDjoZDm+XZOsKmCEbrmlmYkgAAEIQAACEKiABBC6dklB6NpxoxcEIBB/AokWuia9O+ywg1OFpffrquTdccdfpf7Tutntz7qv10ouoXvuflVlZJs9nArbM17/Sj7f+JPsveuv5Iy9q8jDqeOW9dHq3Zf+s1lW/PBf2a/aTvLyKXtK7Uo7yuUz18vTn/sfx6z9fmmh65aThocRR1FksVumudsbmbZmzZfSseMpGe80t/B0SysjOaOuyVR5BlWZ+sURJHT9Km1NW5XGegepmc8cR+2+P9ctlN3xuat53RDyEbpuAWrW4h4riKf+/Kyzzkrfy6uVo7p2vaO4PO5UDfp41aOj9fhqffz4uKtkzf4wfbQK98QTT8wa2n28slZn65PvHrSZw33k8h/+8IfI/6KEvW90IPd7w3YPuBdk7gXWu6D1Cxj66Bc6nn/++VKL3TAZG1Qt616fzRhhQlfv0a1WrZpcf30/Z6ozzzwr9eWGDjJp0ksZRyzr+jZsyL7jPHJCaVhuBBC65Ya6aCYqdqGrd8LW3adplvzTn18/5jUnD8UgdHWdRoQ+cutlvvFsWL82Y1+p0P3+u/VyW68OGT8/7YKr5ITOPXyPXFZRumb54qxjqI2c9VY0B92TqxMGVe+WRujqfJfe/ohzbLZXFJfmTWXuyx09aoasW5f5/1fokct3/bmL1G9QXQZdO1E+/GCF71RhFbra6R/PXeAc3ewdR+d4+NHzUicf/SS/O/vRjPERuqXJLH0hAAEIQAACECh2AghduwwidO240QsCEIg/AYRuxBwHCd1ODavIoyfWkm+3/Z+c/tpX8tmG7XfyDm5VQ/54UDWZsnqLXJGStms2bz9OuXWdXeRvx9eWulV2lGve+0b+/lnu455/aaHrrZ7VGIKErkqlM888Q+rUqZO6L7SJE6/eH2oeP6Hrd0drmNCNuiazTpV8+p/30WN79T/3uoKErrkLV6Wn3qPrvj/XCEQj/IykNn28kjEoPvf68hG67vGUp99j8uB3j6+ub/r06fLUU08H3rUc8W1SkGa5RKtO4MfPfXzymjVrstZRpUpl59hl937zk7ymY6HmiPLlB5v3ja7TLXRt9kBQsnQ93bqdK8cff3y6EtrvPZdPsm1krHd8mzHyFbrmWOetW7fKzJnT5dNPF+S80zcfBrQtHwII3fLhXEyz5CN09d7V3fes74Rn7mlVAfifxfOdny2Z977Mnf5qOnwbsafraXLIUekxWnc4y5GWn7w/zfnZt1+tlinPjcmYo1a9vWXhrOky/72pzs+r7lY9fYSwnxS0WVe+OVUxWadhI+l4Xl/nKGO9r1efpfNnZclUM7bK1h4D7nX+OuetVx2e+ujdwHonrlf0GqGqMU4d/3fZtUZNOeTYDnLYcac6QlRzM/a2P6bnU8l99cgXZNvWzfLh1Jdl5ecLnPFr1W0o7Up6OX0mjB4qMyc9kxFu9/5D5dC2HZ17eme+uv01syb92YM3XJjRvjR8jYw2A4bdPRw1L0aafvvNZpk3d5V8/NGq1LUBW6VpszrSvkMzR8LOem+5DL7ulcAhowhdFcdD7jpDtmz+UV6Z+IksXrQ2Yw6/O3oRulGzSDsIQAACEIAABOJIAKFrl1WErh03ekEAAvEngNCNmGM/oVv1VzvInJL6UmPnHeWUlMyds277Mcv67Fl5R3n2pDpy0O47O3+f9fU22S3V7oDUUcv63PDBt+nq3VxLsBW6pqLUT5hGCTlIbGpfP0mlRxgPGHBNurJP26ko/PLLL6VevXpZ4jRfmabj5bsms86weN332wbN4a6A1Grb445rKyeddJJz96+5Y9bdRitLr766v3OMsbdCuCyFblisplLYe4+vVub+7W9jK5TQDdq7uWRrWPxGyGu7fPeg+4jmXPO45wgTurbvG50/SOiGMfAeP+5tr/v4wgt7yRFHHFFuQjdM1uoaw9oU4shlnUfv8z399C6pu5orOWhU7i5dulheeeVFWbnSv6opjDmvlx8BhG75sS6WmfIRukbUBcXmvf/VRuyZI36D5vCrID3l/Msd4el+tm3Z7EjR8aOGZA1ls6588xkUh4pdt/T2jqtS97SeV0r9Rs3SL2ksKqwnjh2WIYNV0Pa68S8ZbVV+Pz18kCN2VYZ7Ba3mu91Zv8/ooxNpvzeeeThL5ppFGKnrXq+KZO+a9PXS8HVX6H46+20ZO+TyfNEHtu92/uHS4ZTmTiWu+1H5Ou3fi2XEsO1fGgh6oghd7atHL1/ct60jic2jIvnJxz+QiRO2f/nB/SB0C5ZiBoIABCAAAQhAoAgJIHTtkobQteNGLwhAIP4EELoRc+wndH/bqKo82HYPGZ06Vvn6lKD1Pnpq89mpNn1Sxy0fuscuzsvvrN0q987bINO/3BppZluha6pDdRK/Y3jN5O5jgd1VePnKU3NPrsrRp59+RsaP/2c6Pj+pla9M08HyXVOYTPNLQK45Xn/9NafKU+/M1SpdrXr1Hv9s2ijLXr16OULM3LFr5itLoeu9VzXXJlOZ+JvfnJm+O1dFpObvscce+0WPXDZHKrvFqDsO99428ebaT0EM8t2DNnOE7UHb943GFCR089kDbjb6WdC1a1dnP5gjl/XLCC+++FLG+znSB5enkal8Xbp0iYwceV/WEB06nCqdOp0pU6dOlpdeet53Cpsxbr75Tuc4fXOksnvgsPFUEDdt2kz22aeRNGiwlyN2H3jgPqSuzQYoxz4I3XKEzVTlTkBlpT6bNn5XrvevlkWgpsI3Siym7doVy2TV0oXp5ejP3X93r1NlcOMWRzg/8vbLFY9hnKvSuLQ8zNpyie/SzKHHHx/csoEzxMYNWwKPWC7NHNq3SdPa0nCf3ct0jtKukf4QgAAEIAABCEDglyaA0LXLAELXjhu9IACB+BNA6EbMsZ/QveXwGtL3wGpyZure3HfW/q86N+KQkZrZCl2tshszZrQjZtwVqN5Jn376aWnevLl45Vk+8lTF4E03DXaG9rvz1Eir8j5y2YhBv3t6da0qsLx3xeaK231HrpFe3niN9NNYtYLXj0mhha7OYRj73S+se0Gfjz+e57vnlEPPnj3TYlcbqcibOnVqqe9OjbTJPY3c+ynX8drazcjLsD3ol+t8ha7NHLmEbth4ud437tgNPts9oPuxXbt2WfkvtNg3cnXo0Fuy7qPt06dv6nOohTz00F9yHnGc7xhm3CeeGJva0x9k7LQoEtl0MHfrvvPODHn22XE225o+5UQAoVtOoJkGAhCAAAQgAAEIQAACEIAABEIJIHRDEfk2QOjacaMXBCAQfwII3Yg59hO6Vx9SXa49tLr0nr5OXly+2XeklnvsLIfU3EWeWJL7rtygZdgKXR3PXcmox9c++uhj6Uo7FVyXXHKJI3P1eemll+TGG29MLyMfoes+atgr4IxU1YHLW+hqjHfccYcjtd1z61rcR91GrUx235urlbd+oti0UUGu8+Zqo+sIqqb04+8WwV6RbGSzHnN9yy23ZIjqqMdvB4ldc6S0rldzPWjQjVK5cuWM/WT2m1Yur1q1Sv7whz+k95KyvuCCnrJlyxYZMuS2DLGsc+6zzz5OW12neYwIVY765zvvvNMR8F7x7OZnqqP1CwzueXTN9913r1NdXdo9mO8cuYSuzfum0HvA7A3DXUV+oUWuGbtr1+6pyva2qS8fZErRZs2apz6L/pjaNytl2LA70ntAf37AAQfKtGlT0gI43zHMMczesatXryH9+g10qnfdglnF7RFHtJbRox/IqMTVY5hLSs7NWnvEfz5oVo4EELrlCJupYkHAHIEcJZhXHhte9JXBUeKkDQQgAAEIQAACEIAABApFAKFrRxKha8eNXhCAQPwJIHQj5thP6LbZs5K8eHIdeWvNVjlr8tqskVrV2kXGp+7R/dWOIvs+tVJ+jjiXu1lphK6OY0Rfrqm9d7xq23yErrZ3CzgVauvXr0/Jvxai4kSPKlUBWlqZlu+adF1uqa2yU//TR49L1scrXHPN4eaif9Z7Z93i0jA2YwS1sa3QdR+PbWJ5/vnnHRHqlpY6rwp8fZS7/qePX/Wu374w4lRl/5o1a6Rz587pZu61eyu/3XcWu+9pdd896/3igKkQ9+5BXcNNN92UXrtZgAreyZMny5lnnun8yC103ZJe2+na9albt64j1/Vn119/fVp251uhq2PlO0fYkcv5vm8KvQd0fuVTHkdt62fBZZf1k9q1a6fmm++8F/WLAQceeLCTp7///eGM6tw77rjPucfWLYDzHUPHNVW6KnWXL9/+vmjR4hCpVq26TJr0Umo/vZre30bcbty4Qd56a5qsW/e1NGy4t7Rpc7yzlvvuu5Mjl/0+NCrQzxC6FSgZLKUoCCB0iyJNLBICEIAABCAAAQhAoEgJIHTtEofQteNGLwhAIP4EELoRc+wndLXruF/XlpMbVHbu0b3pw2/lx//bPmBJ6u7cYa1rStWddpCL31onEwIqeMOmL63Q1fFVwp111llpiWnmVJk5ceJEGTHiL1nLyFeeqlC8/fbbMuZQYTN8+AinOlMF6i8hdDWwK674o/z2t2dnyEGVeyoRH3hgVEbFaJjQNQJSx/U7Dlh/HtbGVujq2CqoVbCaO07d9/NqDq6+un/G0bnaR/M8btyTeR+frOOdeeYZTnWsedxVz967gc2XB3S+fv2uTnNV/r17X+QI1bvvvifjPlb3vcTueXQ+nf/CC3tJkyZNnOm1wlfvZ65evZpzL7Q+3gpnUw1shL1ZtwrLhx56KKNy2UboOu/t/19xHGWOMKGb7/um0HtA99NLL00MPI477PMp39dVyJ577u+c45XNo/J03LhHs45a7t//eufu2vHjn5YZM95Mt89nDNNJK3u1WlelrD76JZMpU17PkLmmrR7F3L59x3Rb/bmuccKEf2Yd25xv/LQvewII3bJnzAwQgAAEIAABCEAAAhCAAAQgEI0AQjcaJ28rhK4dN3pBAALxJ4DQjZjjIKFbt8qOMrlTXalX5Vey6b8/y6Jvf5SGu+0ktSvtKKm/OjI36DjmKFMXQui65zHH537wwawykThBR+hGibWs21TkteUbu0rFb7/9JusOYDOOyfPy5csD2+Q7p7u93520+nrQz4Pu8TUC3e/u5aD1RRHiOt+RRx7hDFFWe72Qc9jszV96D5Rm/6iUbdJkf/nqqy9zVrxquw0bvvOdKuoY7s4qdX/44fuc9/Sa9nrk86677ha6xtJwoG/hCSB0C8+UESEAAQhAAAIQgAAEIAABCEDAjgBC144bQteOG70gAIH4E0DoRsxxkNDV7vWr/kpuPryGdGpYRar8agenSvcfqTtzH//se/nomx8jzuDfrNBCt1SLoTMECkjAHB8cdM9wp06dnIrc8eP/mTGruffVr18Bl8dQEIBAERJA6BZh0lgyBCAAAQhAAAIQgAAEIACBmBJA6NolFqFrx41eEIBA/AkgdCPmeIdhM0V22iVi68I0+3nzRpGB7QozGKNAoIIRMJW27qO4zRLdd8vqnbmLFy92jlo+/PAj0kdKe498rmDhsRwIQOAXIIDQ/QWgMyUEIAABCEAAAhCAAAQgAAEI+BJA6NptDISuHTd6QQAC8SeA0I2a436PyQ77/u/ex6jdStPu52XzUhe1/r40Q9AXAhWWgN7feswxx8ijjz6WVYXrd7esOxA/CVxhA2VhEIBAuRFA6JYbaiaCAAQgAAEIQAACEIAABCAAgRACCF27LYLQteNGLwhAIP4EELpRc3z0b2SH7jdFbV2Qdj//42aR914qyFgMAoFiJKD3xB5+eCupWrWqs/y1a9fKSy9NLJP7n4uRD2uGAAQyCSB02REQgAAEIAABCEAAAhCAAAQgUFEIIHTtMoHQteNGLwhAIP4EELr55Lgcq3R//mK+yH0981kdbSEAAQhAAAKJJoDQTXT6CR4CEIAABCAAAQhAAAIQgECFIoDQtUsHQteOG70gAIH4E0Do5pPj3euK/GGk7FBvv3x65d325zVLRUZdJvLtmrz70gECEIAABCCQVAII3aRmnrghAAEIQAACEIAABCAAAQhUPAIIXbucIHTtuNELAhCIPwGEbp45/nmnXWQHPX65/fkitffOs3dI86//Iz9PeUJ+fvdF2eGnbYUdm9EgAAEIQAACMSeA0I15ggkPAhCAAAQgAAEIQAACEIBAERFA6NolC6Frx41eEIBA/AkgdOOfYyKEAAQgAAEIJIIAQjcRaSZICEAAAhCAAAQgAAEIQAACRUEAoWuXJoSuHTd6QQAC8SeA0I1/jokQAhCAAAQgkAgCCN1EpJkgIQCBAhLo0qWLNGvWLGvEu+++23eWo48+Wk488cTI7Qu4VIaCAAQgAAEIQAACRUcAoWuXMoSuHTd6QQAC8SeA0I1/jokQAhCAAAQgkAgCCN1EpJkgIRCZQMvjT5Wl82fJhvVrI/dJWsPx48fLWWedlRX2Djvs4ItiwIABctddd0VunzSexAsBCEAAAhCAAATcBBC6dvsBoWvHjV4QgED8CSB0459jIoQABCAAAQgkggBCNxFprrBBNmjcXNqV/F7q7NXIWePalctk6ScfysxJz1TYNcd5Yd37D5VD23aUZQvmyIM3XBjnUEsVmxG6M2bMkK+++io9VklJie+4WtHbs2fP9GtarbvHHntIkAAu1eLoDAEIQAACEIAABIqcAELXLoEIXTtu9IIABOJPAKEb/xwTIQQgAAEIQCARBBC6iUhzhQyy/dkXScfufWXbls2y7sv/OGusVW9vWbpgtowdcnmFXHPcF4XQjZZhI3SvvfZaCTpmOddIn376qXNkM0I3Gm9aQQACEIAABCCQLAIIXbt8I3TtuNELAhCIPwGEbvxzTIQQgAAEIACBRBBA6CYizRUyyFvHzZBtWzfLiP7nZRzvW32POgU57lerf39z0QBZNPttmfLcmArJoKwWVZrYOXI5PCsI3XBGtIAABCAAAQhAAAK2BBC6duQQunbc6AUBCMSfAEI3/jkmQghAAAIQgEAiCCB0E5HmChfk/oe1kd6DH5DVyxbJ8H7dymR9KibPu+oOeW/y8zJ+1JAymaOiDlqMsauEXrV0YUVFmrEuhG5RpIlFQgACEIAABCBQpAQQunaJQ+jacaMXBCAQfwII3fjnmAghAAEIQAACiSCA0E1EmvMOUoWgeZbOnxVaMWvTXmVrvkJXRXDVajVk08bv5LM5M3PGVSxSU0VmnYaNnFiCWJu4tc3aFctCxWd5x27yH7Y2rb5u3OKIdN722u9A2b12Xdnv4CNl5ecLfY/a9vaZO/3VvPdzoTsgdAtNlPEgAAEIQAACEIDA/wggdO12A0LXjhu9IACB+BNA6MY/x0QIAQhAAAIQSAQBhG4i0hw5SL3Xtl1JL9mlcpWMPssWzJGZrz4jXpl26e1/k0YHHpY1flBVrBGTKvJO6NwjdXfuCnn9yVHp/kFCUPude+UQ2a3GHum233+3Xp4ePihL7F5531NSv1GzwJifvP/6jDjadDpHOvcZKJ+mjmb2u7v3tAuuctb6+rhRpTq6uaTvIGnd4SxnXR/NeF3GDRso5s5as9gJo4fKzEnPpNeufQ477lTffIwbdm2WaM83djPR0PEfZvEaWHK4L0O3LN7yw/dyzClnZ6wviFNQLCr19fls7rvyyqP3Z8zp5aMv6p3Les/ya0+MDBTbul9O6tonxecrh3OhH4RuoYkyHgQgAAEIQAACEPgfAYSu3W5A6NpxoxcEIBB/Agjd+OeYCCEAAQhAAAKJIIDQTUSaIwVpRJ1Xsqp8Pbzd6fLS3+7NEroqO/VZ+fkC53+r7lZdjjvzfKlVr6GvALURjirnegy417lv941nHpZN32+QWnUbOuJZn3sv75IhNr3SWEXth1Mnphn4VXjeOHay7FKpigzu3jaL1TWjXnTiueOiU0IrlXOBNpW4Hc/rm5KSm+Q/i+c7snbhrOny7ddrHGnsJ5vrNz5Alsx7Pz10m1PPcSS6n4C2iV0HdldY6/o03jChq2JVc/L2y0/JB1MmSIujfy2delzpyF0vKyOzdc3/fOAWh6POeeaFV8vGb772PXbb3cedvxat2zkVvd67l93sNZ9G/r854fEsURzpDZGjEUK3tATpDwEIQAACEIAABIIJIHTtdgdC144bvSAAgfgTQOjGP8dECAEIQAACEEgEAYRuItIcKUgj0LxSUTvrsbcq4aI8Ki6vGDbO9zjlsApdvyOHjQQe0b97RkWmEdCm2tW7tnyOHTaVoN4KWRNLUPVuFB7eNhpPtZq1HeH4yK2XORXGZq1+7P3mMMIyTLra3B9seIeNrRXSXqnaa9BIOaDVsVli+tZxMxz5e1uvDhnhaEV4x+59c8p/v3WE7Ucj4XWy0lZW+/FH6NrsfPpAAAIQgAAEIACBaAQQutE4eVshdO240QsCEIg/AYRu/HNMhBCAAAQgAIFEEEDoJiLNkYI0Rwu7qygjdfRppEf45rof1wjMsDt0jVDVI58fvOHCrJlUbG7dvEnu6fubrNfyEboqmnsPfiCr6tUIR6/oteWi/YwwdctWnf+0nlfKK48ND70b2D1GmHQtS6Hrl7ugLwUE7YdcOTLHedtU2Jojl79auVTGjxpSmnT59kXoFhwpA0IAAhCAAAQgAIE0AYSu3WZA6NpxoxcEIBB/Agjd+OeYCCEAAQhAAAKJIIDQTUSaIwWpVY+X3PaIc9yuuaf0i5RI1eN0c1Xn6h20eizw3k1bpOfRO2wLIXSN8PMem2wmynU8cD5CV8fzO3ZZpWKDVGx+RzFHgurTKKjiOGg8lZOHHNtB9tyrsVSqUtVpVqve3s7RxsUkdLWiN6hC10/amqO2NU7t+/nHH8jSTz7MuGPYNgel7YfQLS1B+kMAAhCAAAQgAIFgAghdu92B0LXjRi8IQCD+BBC68c8xEUIAAhCAAAQSQQChm4g05xWkVqU2Sx2bq/e0msev0lMFcK8b/yIqb/Xe3SUf/++e19Ydziqo0A0LwE9s5it0vccua3zXj3nN967asPXkej3sSGN3X7MmIzS3bP7Befmgo050jmwuFqFr4nDvI62+vnDwSOfu4gdv6J1xnLZhoDnQO5n1fl79ooE++mWDSY8P/0XFLkK3NO8A+kIAAhCAAAQgAIHcBBC6djsEoWvHjV4QgED8CSB0459jIoQABCAAAQgkggBCNxFptg5Sq29VqKlM80pdc7yun+wt1JHL+UpZd6D59jXHO5s7ecviuGVdX1Shm+tY6rAx8o3dzS3q2PkcuazjG6nrnktF9dPDB0U6Zlrl7pHtO0u7kl5OdXLU+4atN3+OjgjdsqDKmBCAAAQgAAEIQGA7AYSu3U5A6NpxoxcEIBB/Agjd+OeYCCEAAQhAAAKJIIDQTUSaSxVkkFg04u+Oi07JOpK5UEI37A7dXIHZSM1rRr3oHGusRwOXxXHLut4wYWpiMsLc7/7esDFsYjfzRh07H6Fr8qhHK6/8fIEz1aaN30USud4c5/oigbutzvn9d+tyHhdu+8ZA6NqSox8EIAABCEAAAhAIJ4DQDWfk1wKha8eNXhCAQPwJIHTjn2MihAAEIAABCCSCAEI3EWmOFKTeWbpm+eIsAaZVup37DMw6QjnoLlgdp/fgBwpy5LIu3MzzyK2XZQlArdoMut/XSE1TcRsFwmkXXCUndO7hVH+ed9Udkk/fKOO74wk6LtmMY8Tl6+NGyZTnxqSH15ivGPZkpCOXbdZfFkI3l5wO4qb5mzv91ayX/Y5v9jYybfR45qDjnKPmy68dQrc09OgLAQhAAAIQgAAEchNA6NrtEISuHTd6QQAC8SeA0I1/jokQAhCAAAQgkAgCCN1EpDk0SJWEV498QbZt3SwfTn05XUVZq27D9BG33kpRIz+1UvOVx4bLD999I82POM5pb54gmZbrOGHvYlUQ9xhwr/PjOW+9Kkvmbb+r9/B2Z8gBqbt+/USvGePGsZOdO1qnjh8r69askKq7VZfGBx0u44YN9GViKkn1KGC9ozbX2KFQPQ107DoNG0nH8/o6R1irNNZn6fxZvlLaiHFdyxvPPCzz3/23c5esHoFdbfdazrHDftW7+cau6zqmU9f0as39vHqUtnnGjxqS/nOu3Blx6z0O2XD1MtPYVn6+UP75wC0ZDNxzzHt7spM7fZoccpTo/cxhovbWcTMcPvr4HQmeb+687RG6pSVIfwhAAAIQgAAEIBBMAKFrtzsQunbc6AUBCMSfAEI3/jkmQghAAAIQgEAiCCB0E5HmSEGqRGt31u+lfqNmGe2NUJw56Zmscbz3oqpoU3m6+YcN0qnHlbJw1nRfeZqP0NVJVW6e1vPKjLXpXDr+xLHDAqt0td+5Vw5x5Kx5wu5t1WOXVbhqOz16uVCPkZ3e8XLdBav3+Jo7Y00/rbqdOv7vcuHgkbJ18ya5p+9vfJcYNXaTi1xxuquJbYSuyeEhx/6PZ+Uqu8peTQ5yWPsJWo392NO7ZeROxzFfIPhszszAJbsrdB+/+2qro51z8UDoFupdwTgQgAAEIAABCEAgmwBC125XIHTtuNELAhCIPwGEbvxzTIQQgAAEIACBRBBA6CYizXkFqdW6jVsc4fRZu2KZrFq6MGd/0957J6r+XJ+gI5HzWtT/b2yqXPO9f1XlZtVqNSLFYypjy6Ky0yZm7aMSVR/vEcTKIyw/+cRuu77S9DOV3kG8Tc51jqBqZr/5NW6tGg/jY7N2hK4NNfpAAAIQgAAEIACBaAQQutE4eVshdO240QsCEIg/AYRu/HNMhGKKsg8AACAASURBVBCAAAQgAIFEEEDoJiLNBJkHAb1Dtla9veXey7sUVEbnsYRYNTV3MAdVIpuK34ok0MMSYISut90OO+zg23XAgAFy1113Zb0W1D5sfl6HAAQgAAEIQAACcSaA0LXLLkLXjhu9IACB+BNA6MY/x0QIAQhAAAIQSAQBhG4i0kyQEQhoRedJXftIowMPk9fHjZIpz43x7WWOf44wpHO3cK6jgaOMUextzP25elTys3+5OaNiVmWv3gls7hT2ViBX1NhV0B5zzDFZyyspKfFdcpcuXaRnz56R21fUuFkXBCAAAQhAAAIQKA8CCF07yghdO270ggAE4k8AoRv/HBMhBCAAAQhAIBEEELqJSDNBhhAwx/6aO4CDZK4Og9DNfzsZvn49lfmkx4eL3x3N+c9EDwhAAAIQgAAEIACBYieA0LXLIELXjhu9IACB+BNA6MY/x0QIAQhAAAIQSAQBhG4i0kyQIQS0inTf5ofK/Hf/zTHLZbRbDOP6jQ9wZtjyw/ey8vMFWfcCl9H0DAsBCEAAAhCAAAQgUCQEELp2iULo2nGjFwQgEH8CCN3455gIIQABCEAAAokggNBNRJoJEgIQgAAEIAABCEAAAhCAQFEQQOjapQmha8eNXhCAQPwJIHTjn2MihAAEIAABCCSCAEI3EWkmSAhAAAIQgAAEIAABCEAAAkVBAKFrlyaErh03ekEAAvEngNCNf46JEAIQgAAEIJAIAgjdRKSZICEAAQhAAAIQgAAEIAABCBQFAYSuXZoQunbc6AUBCMSfAEI3/jkmQghAAAIQgEAiCCB0E5FmgoQABCAAAQhAAAIQgAAEIFAUBBC6dmlC6NpxoxcEIBB/Agjd+OeYCCEAAQhAAAKJIIDQTUSaCRICEIAABCAAAQhAAAIQgEBREEDo2qUJoWvHjV4QgED8CSB0459jIoQABCAAAQgkggBCNxFpJkgIQAACEIAABCAAAQhAAAJFQQCha5cmhK4dN3pBAALxJ4DQjX+OiRACEIAABCCQCAII3USkmSAhAAEIQAACEIAABCAAAQgUBQGErl2aELp23OgFAQjEnwBCN/45JkIIQAACEIBAIgggdBORZoKEAAQgAAEIQAACEIAABCBQFAQQunZpQujacaMXBCAQfwII3fjnmAghAAEIQAACiSCA0E1EmgkSAhCAAAQgAAEIQAACEIBAURBA6NqlCaFrx41eEIBA/AkgdOOfYyKEAAQgAAEIJIIAQjcRaSbIPAmc2L6pfDx3laxbtynPnjSHAAQgAAEIQAACEIAABEpDAKFrRw+ha8eNXhCAQPwJIHTjn2MihAAEIAABCCSCAEI3EWkmyDwIDBx0shzfrol88vGXcs2VL+TRk6YQgAAEIAABCEAAAhCAQGkJIHTtCCJ07bjRCwIQiD8BhG78c0yEEIAABCAAgUQQQOgmIs0EmQcBhG4esGgKAQhAAAIQgAAEIACBAhNA6NoBRejacaMXBCAQfwII3fjnmAghAAEIQAACiSCA0C2uNJ92wVWyf8ujZXi/bsW18CJbLUcuF1nCWC4EIAABCEAAAhCAQGwIIHTtUonQteNGLwhAIP4EELrxzzERQgACEIAABBJBAKFbXGm+8r6npH6jZjKw5PDiWjirhQAEIAABCEAAAhCAAAQgEIEAQjcCJJ8mCF07bvSCAATiTwChG/8cEyEEIAABCEAgEQQQusWV5vIUuvsf1kaqVqsha1csk1VLF4aCann8qU6bqO1DByxlg1q1qsrBLRukR5k2ZXEpR6Q7BCAAAQhAAAIQgAAEIFDWBBC6doQRunbc6AUBCMSfAEI3/jkmQghAAAIQgEAiCCB0K36aVZSed9UdgQtdvWxRxhHM1feoI9ePeU2+/2693NarQ1Y/FbW9Bz8gn85+W8YOuTz9upHFj9x6mXS5+DqpVa9h+rVlC+bIgzdc6LuG9mdfJO1KeskulaukX9c1jb3tj7Jh/drAdbfpdI60PrlE5r09WaY8N6ZgiWjStLZcd1NHqd+gesaYWzb/KGNHvyMTJ8z3nevlNy7N+vnpJz1YsHUxEAQgAAEIQAACEIAABCAQTgChG87IrwVC144bvSAAgfgTQOjGP8dECAEIQAACEEgEAYRuxU+zCtrGLY5wFtrxvL6OaH3y/uvTC/eriO01aKQc0OpYUTn72ZyZGUF27z9UDm3bUSaMHiozJz2Tfs0I3W1bNsuct16VJfPez5jzvcnPy/hRQzLGUpnbsXtfUYE79fm/O681OeQoad3hLOdnQXf9NmjcXK4YNi49lt86S5OZgYNOlmVL18nqVRucYVTudu3WSipX2VmuuOQ5WbL466zh9d5c8/To1drpg9AtTRboCwEIQAACEIAABCAAgfwJIHTzZ6Y9ELp23OgFAQjEnwBCN/45JkIIQAACEIBAIgggdIsrzVGPXNbq1859BspHM16XccMGZgR549jJzt+91btm7DcnPC6vPHp/uo+p+FXRO7h724yfXz3yBdm2dXPWWCV9BzlS1yuNTWczpvn7iP7dIx3rXJpsdTv/cFFR+9orC2TEsGk5hxo5uqs03q8WQrc0wOkLAQhAAAIQgAAEIAABCwIIXQtoqS4IXTtu9IIABOJPAKEb/xwTIQQgAAEIQCARBBC6xZXmqEJXo7p13Iws2WoqY/1Erxlbq3/nTn81A4z7OGZT8Wuqc70CWDvmmscMbI5cfu9f4zMqhcsqI1qBO+CGDgjdsgLMuBCAAAQgAAEIQAACECgAAYSuHUSErh03ekEAAvEngNCNf46JEAIQgAAEIJAIAgjd4kpzPkLX79jl0y64Sk7o3MP3KOZcQtcc0+yWvaYKV4Xuys8XZIHUe39zHbtcluRr1aoqJ3dqLo0a15KG++zuTFW58s7OMcpU6JYlecaGAAQgAAEIQAACEIBA6QggdO34IXTtuNELAhCIPwGEbvxzTIQQgAAEIACBRBBA6BZXmvMRun7HLl8z6kWpVKVq1hHJSiGX0DXy1k/o5iL4Swjdw49sKP0HniS716win3z8pfxn+TfOEmvX3lWOaL0PQre4tjyrhQAEIAABCEAAAhBIGAGErl3CEbp23OgFAQjEnwBCN/45JkIIQAACEIBAIgggdIsrzfkIXY1M78vdunmT3NP3N6HHIOcSuqba10/o+h3R/EtSNfff3n37ZJk2ZXF6KRy5/EtmhbkhAAEIQAACEIAABCAQjQBCNxonbyuErh03ekEAAvEngNCNf46JEAIQgAAEIJAIAgjd4kpzvkLXHJU8on93OeyEToHHLSuFXEJXK3tr1WsoOs6qpQsdaLnu0I1Kdf/D2oi5kzdqn7B2L79xqaxetUEu6jEuoylCN4wcr0MAAhCAAAQgAAEIQOCXJ4DQtcsBQteOG70gAIH4E0Doxj/HRAgBCEAAAhBIBAGEbnGl2UjXOy46RTasXxu6eBWmvQc/IHrPbYujf+2012pdv8eMPWH0UJk56Zl0EzPGui9XZPStvkcduXrkC7Jt6+aU6D0vaz36eq41GknsHTc0qJAGKnS//Waz/O7sRzNa9r60jZR0bcmRy6UFTH8IQAACEIAABCAAAQiUIQGErh1chK4dN3pBAALxJ4DQjX+OiRACEIAABCCQCAII3eJKs6mKXbZgjsx8dbt03Wu/A+Wbr1ZmSFh3VHrssj671djDEbuvPHq/b9BG6G7bslnmvPWqLJn3vtSq21COPb2b09crenUQs57vv1svb7/8lKxbs0Kq7lZdWp9cItVq1vYVvdrPSGKzkEIe23zP8C5y0MH1ZPrUJfLsk7Olxu6V5bgTm8iJv24qlavsLEs/Xyc3DXxZ1q3blObQpGltOb1zi/Tfj27TyLmD97VXFqR/NmLYtOLaLKwWAhCAAAQgAAEIQAACRUgAoWuXNISuHTd6QQAC8SeA0I1/jokQAhCAAAQgkAgCCN3iS7M5Rtm98o9mvC7jhg30Dcbd3n1ksrexEbo6VvMjjpddKldxmqjgnTp+rEx5bozv+G06nSMnnXOxI33No4L3w6kvB8pjbeeu0H3oxt6RKo6jZKtWrapyy9DTpfF+tdLNtWJ32NA3HLF7ymkHyl9HTJeJE+anXzfHMeca//STHowyPW0gAAEIQAACEIAABCAAgVIQQOjawUPo2nGjFwQgEH8CCN3455gIIQABCEAAAokggNAtzjTrccaNWxzhLH7u9FdDg7h13AxZ9+V/ZHi/boFtvXfotjz+1Mjja0Otuq1arYasXbEsfc9u2MJ0jqXzZxVM5rrn06rbhvvsLiuWfytLFn+dfkl/7v572Bp5HQIQgAAEIAABCEAAAhAoPwIIXTvWCF07bvSCAATiTwChG/8cEyEEIAABCEAgEQQQuvFPc0nfQdK6w1kSdqyxV+jGnwwRQgACEIAABCAAAQhAAAIVjQBC1y4jCF07bvSCAATiTwChG/8cEyEEIAABCEAgEQQQuvFNc4PGzeWYTl0dmfvp7Ldl7JDLcwaL0I3vXiAyCEAAAhCAAAQgAAEIFAsBhK5dphC6dtzoBQEIxJ8AQjf+OSZCCEAAAhCAQCIIIHTjmWY9/rj34Aec4HLdr+uOHqEbz71AVBCAAAQgAAEIQAACECgmAghdu2whdO240QsCEIg/AYRu/HNMhBCAAAQgAIFEEEDoxjfN7c++SBbOeivyfbbaft2aFWV2p218SRMZBCAAAQhAAAIQgAAEIFAoAghdO5IIXTtu9IIABOJPAKEb/xwTIQQgAAEIQCARBBC6iUgzQUIAAhCAAAQgAAEIQAACECgKAghduzQhdO240QsCEIg/AYRu/HNMhBCAAAQgAIFEEEDoJiLNBAkBCEAAAhCAAAQgAAEIQKAoCCB07dKE0LXjRi8IQCD+BBC68c8xEUIAAhCAAAQSQQChm4g0EyQEIAABCEAAAhCAAAQgAIGiIIDQtUsTQteOG70gAIH4E0Doxj/HRAgBCEAAAhBIBAGEbiLSTJAQgAAEIAABCEAAAhCAAASKggBC1y5NCF07bvSCAATiTwChG/8cEyEEIAABCEAgEQQQuolIM0FCAAIQgAAEIAABCEAAAhAoCgIIXbs0IXTtuNELAhCIPwGEbvxzTIQQgAAEIACBRBBA6CYizQQJAQhAAAIQgAAEIAABCECgKAggdO3ShNC140YvCEAg/gQQuvHPMRFCAAIQgAAEEkEAoZuINBMkBCAAAQhAAAIQgAAEIACBoiCA0LVLE0LXjhu9IACB+BNA6MY/x0QIAQhAAAIQSAQBhG4i0kyQEIAABCAAAQhAAAIQgAAEioIAQtcuTQhdO270ggAE4k8AoRv/HBMhBCAAAQhAIBEEELqJSDNBQgACEIAABCAAAQhAAAIQKAoCCF27NCF07bjRCwIQiD8BhG78c0yEEIAABCAAgUQQQOgmIs0ECQEIQAACEIAABCAAAQhAoCgIIHTt0oTQteNGLwhAIP4EELrxzzERQgACEIAABBJBAKFbfGmuvkcdadziCJk7/dXiWzwrhgAEIAABCEAAAhCAAAQgkIMAQtdueyB07bjRCwIQiD8BhG78c0yEEIAABCAAgUQQQOgWX5qvGfWi1KrXUN6c8Li88uj9eQfQvf9Q2bL5Bxk/akjefekAAT8C3c4/XI44ah+pUnVn2bzpR1m4YI1MnfyZLFn8NcAgUOEImP365OMfyIcfrKgw67ui/4nSrPmecnmfZyvMmpo0rS1dz2vlrGfokH9ZrcuM0XCf3Z3+K5Z/Kx9/tEomTphvNV6xdrpneBeZ9f5yeeqJD4s1BNYNAQhAoNwIIHTtUCN07bjRCwIQiD8BhG78c0yEEIAABCAAgUQQQOgWX5pLK3SvvO8pqd+omQwsObz4gq+gK1ZhcXrnFjJ39kqZNmVxpFWqVNqzbjUZMWxaaHtte1CLerJH7V1l0cKv5OWUCIkiS09s31RattorcvvQhXga1KpVVe76cxep36C6rF61QbZs+VEqV97Z+fsVlzyXtUZvHFF42cYeJRaTt6C2Qesz/VS+rf/6B/nii2/khWfnyrp1m3JOa/r94+/vh7Y1AynjLl1byg/fby0zEWSzrt6XtpHFi9aG7vfDj2wox53YxBGV+cj+ssz7yNFdpfF+teTu2yeHrt+dh5M7NU+/D8tCSr78xqXOdKef9GCU7VsubfQzZMANHWTp5+usRLPmsUev1qkvEf0oq1dvcNZcv351mT9vtQy+7pWMGM5IfYYefGgDUfGr76tP5n8p/5q0MPC9ovu2XYf9pfmBdZ0vk+hn41vTluSU9Lb7sRCwNb+5OLr3vO6vmTOW5tyf7s8h896K8jlUXvPkw6ws3+/5rIO2EIBAxSGA0LXLBULXjhu9IACB+BNA6MY/x0QIAQhAAAIQSAQBhG7xpbm0Ry4jdAubc62qO+W0A51BX3tlQaigVaHQ98oTHOmpT5i8ufXO0+SI1vvIt99slm++2eTIEH3Gjn4nsMJNJeDAwR3loIPrOW3zEVf50FGpV5KSjeNTMvORB2emu+r8brnpFr/uOCpX2VkeH/teoKi0iT2f9RtZFdTnryOmZzE2gkr7qJwxAluF9rV/eiGnqDV7JWo+VHD16nOMKCdboRaFR77r0nw+/Oh5jqALqibVNn36tpXj2zVJyzzDSuVerv1b1nnPV+jqPrk4FcvuNaukv7ig78NC5yWOQvefE3unvujxU+oLHs9mfSaYzwgVk1dd+2tHspvPh5o1qzq89e+DB76c9eUQ/ew57YyD0jnQfa79gz6HS7Mfo7yHorQJErruz0d9n+tj4p/13vIs8a2vm88hw8vEr++t229+zVdq+30Bx/x7cvEFT/p+dnmFvHkPR/m3LgoTbVPW7/eo66AdBCBQsQggdO3ygdC140YvCEAg/gQQuvHPMRFCAAIQgAAEEkEAoZuINGcEidAtTM69kkcFba5fcnuFgkoOFRa5hK75Zbr7l/o6zoiHuqZE4k7i90t4t+hQyajriioQ8yWjR4iqNA4b3wg0t7x1ywW//jax57t+I3SjygnT3itvzVrDpKvKrW9SguqiHuNyLtUtuEwOw8bON3Z3+6jrMn2MyPcT3u5xdX/o8dtu2a9faLjh5lOcZn77tzzynq/QNV/CuPOW1zPEohFRUfdPWI7iJnSV25C7zgj9MoL5LNDPB/cJB7neV7oH9923pgy/d2paRIZ9ptjsx7Cc5fN6kNA1n6ODrp2YIWLN/vJ+6cVw/eTjL+WaK19IL8G8t/Tflt+d/WjW0sw83vH088bvxAczj/fzLqh9PixM2/J4v9usiz4QgMAvTwCha5cDhK4dN3pBAALxJ4DQjX+OiRACEIAABCCQCAII3finueXxpzpBrl2xTFYtXSgVUejqL4jN/Yofz10V+TjaKNnTX/If3LKB07RQY5sKRf3F+cOjZjhj67GkucSOqYKcPnWJjE71uWXo6U5FWS6hO+bx7o6Q7XnOY2kmymrEQ2c7c3orY93Ho95/17+dY6C1ejhMuBqO7jxEOTo6ihgLkg86p3nNrwot39ij7AVvm3yFbpB40XHNa35HTevrRlzkqkg261OuWjn3ysRPHBkadlSrTeymTz7rMn3+8dwFzh/9pFGUtQwcdLJTueu3L8sj7959q/uwWvXKzt2uUY4yNzHq58Bjz/QMFZbaXveaPhs3bAk8EtgrdE2fQn1uuXPjfq/nWpP3yGX352nYZ0Rpj2vW9Zr9EHaSgYlNq9r/cMXxkU5LMH1y7ccgZmE58ft3J+h9HPTzoM/HXBX1QZ9D+X7WadzmcyioejfKez2sTXm838PWwOsQgEDFJIDQtcsLQteOG70gAIH4E0Doxj/HRAgBCEAAAhBIBAGEbnGkWaXseVfdkbHY1csWyfB+3QID2P+wNnLulUNktxp7pNt8NON1qbNXo9A7dNt0Okdan1wi896eLFOeG1MwSO7jiVVsDh3yLzG/TDeTeKv+gqrWgn5BbebQcfQ+RhVH5sl1HGW+Qer8RmhE+WW5/oJ/38Z7pGWOkUpBosKIW29lplZtbdr0oxOXt0JLY3CvK+pRuro2I5jdrJ59anbWcchuUaF3Y6pwVrGs96maxy16wthofjUvvz3jkXR/29htchgm4t1j5sqZYe2V7Ka/iouaqYrsKHJERc4XS9enJX5ZCt181qWx2Agzb16C9mV55d3kUXPVpm3j9PHnuk59Tw299fXIXyoJy43GeuKvmzpHA5tHj8mdMnlRRuWyvmY+6/Szyxy1bfoUqgpY83dejyOd0wHcj1Zhjhr+ZpZsdktZvaPWHC+vfYOOzjaCvGmzOs6R7Dq2fpHBPPmI87DPSe/eCvu88fuMCPuc1HguvKRN+khnM4bulQf/8pbvXeFdu7VK51w56Wepfl76VdoH7SHzfjD/Vpp5c63XVPW6vwSk/czPg75w4uVi5g468jnfz1q/9uX1fi/EWhkDAhAofwIIXTvmCF07bvSCAATiTwChG/8cEyEEIAABCEAgEQQQusWRZnNvrlmtyt1cQlfbXz1y+1GM77z2nKz8fIHz53Zn/d6RufoMLDncN/gGjZvLFcP+dyTsI7deJp/N+d/9qKUhZqrC9BfbW7b8KCoIVHa8/+5yWbv2e+eX/96qPVuhq79E1zs+X01VOc58a6l0SY1t5ELYkbf5xmgjEcJEhd+Yyu/uP3d2pKBWBqoYylUlGSYqNE5zTKnKRq0IVTFbrVol6XJ2S9/jmsPunfUKizA2fhwKEXuUHIatzTtGrpzlGsu85hUzUdaobcKkYdRxvO1s1mUYeIVRPmvQMfSOUO/eLa+8mxh0zSpK585e6SzffEEhap7MeoOqrs2XVVRovvDcXNm4cavz3jo1dffr5tSXMtzH5Zo86/8aAaj9tL2Ru2FHXEfJgX6GdD2vlXz80SpnPfq0bLWXI2r9Pk/c73d3HEbW6loH/GlChtR08/VbU9QTA8xJCPPnrfa9R9ZvbPOZF1Vc6hhB+1FfM5+5KuTde0WZ6b9d3vtqDS9l+eTjH6RzbiS6n9A1vLxHLgd9fps5vF/oyXW3tX5xo0oqBn3PaUxHHbOP7LpbJZn9wX98K8bNFzfM3tY5NebPF3/t/HvqviM9yr7za1Ne73fb9dEPAhD4ZQkgdO34I3TtuNELAhCIPwGEbvxzTIQQgAAEIACBRBBA6BZnmoeO/zCn0O3ef6gc2rajvDnhcXnl0fszgrxx7GSnajdI6KoMvn7Ma+k+I/p3d45qLuRjfoGuVWLml9jml7uFErp+1at6VGzYvbU2ceYrBo1EyHXksrmn1F2Zp1VWX3/9g4wYNi3SUaRRhK5p45VSRg5473wNq9D1Ht+a61hlcx+wNyeFiD1KHk3eVFSp7DBVi0bGTJwwP2OYXMcq+63ZdParjlNJG7XqsqyEbr7r8qvaM/sn7EhcZa3V3Med2MSRucOGvpElksor7+4KXff9vmbPq7wLEtbmSyla2XvU0fs4X0bRkwa8T9D9o6adzuWVYubLK16x596nhf4yinePej9/3YLyikuezViz+xh5N4OwCt1cxxWbzxcVxu07NEvdOb1Jbhr4ck6BqPM12KuGtD5mX2lxSH2nGvapJz7M+REQZT/qAEH3zuprfjk0Rwh7cxhUjarj6Pr7DzzJ+fzRf7dmvb9cDmpRz4ll7Oh3xPs5pH3MlwX0s2pe6poCFfQq/j9fss63wtx8hrw1bYnzxQX3o5LZy9h90oX5co/pY75wEMY47DO4vN7vYevgdQhAoGISQOja5QWha8eNXhCAQPwJIHTjn2MihAAEIAABCCSCAEK3ONMcJnSNtL3jolNkw/r/HYWr0Ua5Q9ccufzev8bLzEnPFBySESpuoWWOtfzbQzMzRI9tha6fLAuqsDQCIijQXHdMap+yELrmF+omDnd1roqgsApfXVcUoauSu3LlnTKOPDYcgo7vNK9HuUNX2xqR7pYcpjJYJZ8+biFoE7v7TtCgPHrv/DR7TqslVaKo2FWRdFqqglKlnlfKmPtmvV8WMD/Xeb37zogcb59CCl2b2G3WZfaDm0sUoWvkpsmLHnX8Quo/r9Asr7zn2rdG4AVVkZrXNRYVYc8+OTt99Lp73xnhFuXOZNMv6LNOX//nxN7OngwT57Yf1mHVoH6VpSavfq+5PxeDXvdbq5F8+prKypdemBcqZw0b7aNHBD/6yHs570KOuh/NHclhJyGYOMx7Sj9H/MR7ri9m6L8hV/Q7MeNo7rDjv917UdcQdAS2vmaOttc/G+Gt8fXp29Y5vt97tLLZDzqmSmJztLSu8+JUH5XP3irofP8dtXm/2+5v+kEAAsVHAKFrlzOErh03ekEAAvEngNCNf46JEAIQgAAEIJAIAgjd4kxzmNDV17dt2SyDu7fNCjCK0C1rKkaoRDkWszyEbtgRoWFCojyErrk711TCFUroKl/vHZcm/yed3EyOaL1P1jHY5vWoQld/0X/Dzac4skJZ6lO/fnXRo1Sb7F8nSyh7f9EfJXb3/cxB+zeqDAs60lTHNVJTJY9WD1auvLNzN65WaqoY8d6h6650M5V2RvwUqkLXJvZ81xVUsW14RGFrjnrV+0W3bPkpJYT8Kz4Nl7LKe659G3YXstlbukfO6HywHHRwvayca5t8PuPMmLmErt+xvDYiX+fSfu067C/77ltT9qi9qzO9Vk2rpAuq0A36DPS7A9vNSO+oDvv89Hu/6meGVnPrUdB+py14++j+bHNcY+eoeH0/jrhvmq9od/cL24/mcyDqPbK5Pjd03iCha74QYva9jmM+e/3ufTdfhtEx9d5jvW9brxTQimbNod96TZ68R0TrGKaq2F2Vbt4HfmOZ45i9R5Pn+++ozed8Wf/fJowPAQhUHAIIXbtcIHTtuNELAhCIPwGEbvxzTIQQgAAEIACBRBBA6BZnmqMI3aA7diuS0I0igcpD6OZbWeTdNWUhdM0vzfWX/C+njv4d8dDZGRVRUSr2jjgL8gAAIABJREFUolToGr653glB1YpRha6OrfLk9M4tpFnzPZ37Q7Ui9l+TFjp3AXuFjU3stnIrKO5cokoFjB6JqjJsxfJvnSpNvZdUha63qlfzpPLSfV9svvsl7Mhlm9jzXZepnPRWnEb5YoGXscmvVxaVV96jCN2ost3IMO+XU2y4RBG67veijcjXvatCXR/9QoUe4a6Pvi/1CHgboav9/T7LzT63Ebpmz+Rb6ZxvVa3OE7Qf832fhrX3ex/nksbu467dnx9BXxbQ2AcO7uh8ycD7Ps31GWIY++0tv89+w9ib13z/HbV5vxfn/8XGqiEAARsCCF0baiIIXTtu9IIABOJPAKEb/xwTIQQgAAEIQCARBBC6xZnmKEK3GCp0K4rQLe0uCPtFvt/4YcLHjKlVUFWr7uwMMfi6V9JDmcraXHdqRhW6tsIlH6HrxyDo/t5CxF7anOaSa96xTfVqkLgNW0uQMDf9woRu2Pje1w3fsH7udYVV3+lY+eyjXHKrNHs+LCZ9PYrQjXpUctB7rKwqdN3iOF+Rb/apMrj4gid978O1EbpBRxIXQuiWxWer3x7JV7b6jWFToRv2Ge1XmR12dLNWRXu/JKNf4Fi9eoNc3ufZrKX7rcF8gSPos6kQn0kV4XM+yucFbSAAgV+GAELXjjtC144bvSAAgfgTQOjGP8dECAEIQAACEEgEAYRucaY5TOiW9g5dpbL/YW3kszkzywRQmMx0T1oeFbqlDbKspIPGrrLEe19h1KNAw2SBxp3rDt0wLqURuuYYZr+jd3Xe0sYetvaw18387sq4oD7m2GHvccumKtnbr3aqslePslYBumjhV04F9pLFXwcuqRDyxD24zbq0snPPutWy1nh0m0bO/tSK1q/WbAy971QHMEdO+wng8sh7rn3rJ9By7RWTe6/4yrey1Ox5/V+/L7rkqhgP28vmdbdAM0e3m9ds7tANE5iFELre44ijxGru7I7yhaFc+zHfal+bO3T9qmPdMXr3alB1rDfH3vdWrn9zzV287i8L5Po3zdxBHPUo6lw5K4/3e5Q9QxsIQKDiEUDo2uUEoWvHjV4QgED8CSB0459jIoQABCAAAQgkggBCtzjTHCZ0ew0aKQe0OlbenPC4vPLo/ekgVdL2GHCv7FK5igwsOTww+GtGvSi16jWUdV+ukHv6/qbgkPIRukG/nDcixXs0qvdePr9fjkf9RX/UwMtK6JoYvb84D5JI3vVGEbq57gxVebBu3aZADLZC133sq9+djjphaWOPkjsVE/p8+MGKjOamOs17R6R3TBU4l/7xOOeI03zkRr77pdBCN4hNvuvScYLey7p39F7PRx7M/lJIrj1XHnk3a/7riOli7jXWWIyQ81acKhd9pk1ZnIHOXfH62zMeyXjNsNT7qa/90wtZ7yO/95b58or7LlMd1EjNfPaYX45zfRHESL2gCl2Nw3sagMlVUDVzVKFr7rJ96okPs5YdJNj1PfrCs3OzuAZJZtv9aOb3i9Evh+bfK+/R6yaHXtGaS1gH7S/zJRxvlbXCC3pvmXm8cQSdLqBj6Tz6eL/UEnSyQpTPXG+b8ni/26yLPhCAwC9PAKFrlwOErh03ekEAAvEngNCNf46JEAIQgAAEIJAIAgjd4khzy+NPlSaHHJVebOsOZ8n3362XT96f5vzs269Wy5TnxqRfb9C4uVwxbJzosctTx4+VdWtWSK26DaVdSS+nTS6hq9K39+AH0mM9ef/1Mnf6qwUBZY4I7dGrtdRvUN25r1Gfj+euChSH5he+Ktdmzlgq1apVklPPOEhq1qyargwcMWw7B33KS+i6Kxa9FZe6Dm+1orcq0l3ZaNburdTUPnf/ubN8k6rSfeG5ubJx41Zp2WovOeW0A7OO1HTHb/5s7sVUEWTuypw7e2WGmNJf6N/15y5OPrTdG/9a5HTXeU78dVN5ZeInvlJO2+QjdHWekzs1lzO7HOLkTQXRqOFvZslUs3ab2PPZpLqeEQ91lcqVd5Jp/14sysXErXy3bP4x61haM76K4C6/PdSpstUn6n2rpn+YONXXlb95dD0qGd+duSz9M/eezyfuXG3D1uXXN0jomvehrvulF+Y5+dbnpJObOdyCRGdZ5929bzXHJvf6udLl7JbO+8Ateo3wqlxl54z3h7YzezlIaJrPLo118msLnZibNqsj7Ts0k82pub2C1AhdNzOdx9x5O+BPE3JWckfZB+bubV2z3mF9cMsGqTtkD5b9mtQSjdH7JQb38dwqI19NfR64P4f8RK93n4cdxW32kHt88zmv9/p6RbZZkzt/7s8s/bP3iyK2+9GcJGDYmH+DWh+zr7OPvV8KMOJUubg/s/WzVMfwY2HuYTb/xun6Ne8dTmnu/K93f5m7Z937Svu0advYucc76L2l89RMffbqZ/riRWudf0vNnvc7WtnMo2vWe8Ldn49hOY2yF7VNebzfo66FdhCAQMUigNC1ywdC144bvSAAgfgTQOjGP8dECAEIQAACEEgEAYRucaS5pO8gUYkb9KxetkiG9+uW8XKbTudIpx5XOvJWHyN36+3bVA5t2zFyhe5DN/aWDevXFgSU+aW6d7Bcd4i6haPpp7/gH37vVHnsmZ5ZMq28hG7YnaLeX3hHubfUj4MKhf4DT3IkqDd+v+pZI4WCEuYnH5XxlVe3SwtK01fvYXzwL28FSqR8hK4RScrlrWlLIh3Nm2/s+W5SlQkX9G6dFbeu8f67/u0bt6neVZn0/rvLHdGR67hkvzWFidOg94l7rEJXmevYYevyiyVXtb0KISOM3H3N+zeo+rus8+6uulRZqqJNH83ps0/Nztqb5v3R4pD66bbaXsXrk49/kFHl62WkuTQyz7xmZJ+7OlhfM5XYK5Z/64g58+g8w4a+Efjlh3z2vR9b3e83DXxZbhl6uqhAdVcIu49pbrjP7s7r5jH9gvIYtUJXx1NO5ksuZnwjbP2+vKBxnNfjSKc63v3omv720ExfVqXZjxde0iYjdl3b/HmrnX+HvPF7378mf32vPEG2bPkx6x7boM/fXPtLY9H43f8uKIdc7y2dx+TYvbdy7WFzmoJ5j4TNkc9eNG3L+v1usyb6QAACvzwBhK5dDhC6dtzoBQEIxJ8AQjf+OSZCCEAAAhCAQCIIIHTjn2at7tUn3ypb7bd0/qyCydzSktZf+larXjlnNW9p56jI/csjfv2Fv1bs6eM9Xra0bFTuqKjKV37qvGUduzvuXNXiuhZTZV5oPqXlW5H7G2b57quyzrthFnSksh9T0zbfvWxiidrP7MmNG7YUROR6Ywliq7nK9R41uYwaR7770qwratz5vHfNWmz3Yz6fj7b5y3d/2cRi+kRlrNzMusI+H/PNt7t9eb3fS7NG+kIAAuVHAKFrxxqha8eNXhCAQPwJIHTjn2MihAAEIAABCCSCAEI3EWkmSAhAAAIQgAAEIAABCEAAAkVBAKFrlyaErh03ekEAAvEngNCNf46JEAIQgAAEIJAIAgjdRKSZICEAAQhAAAIQgAAEIAABCBQFAYSuXZoQunbc6AUBCMSfAEI3/jkmQghAAAIQgEAiCCB0E5FmgoQABCAAAQhAAAIQgAAEIFAUBBC6dmlC6NpxoxcEIBB/Agjd+OeYCCEAAQhAAAKJIIDQTUSaCRICEIAABCAAAQhAAAIQgEBREEDo2qUJoWvHjV4QgED8CSB0459jIoQABCAAAQgkggBCNxFpJkgIQAACEIAABCAAAQhAAAJFQQCha5cmhK4dN3pBAALxJ4DQjX+OiRACEIAABCCQCAII3USkmSAhAAEIQAACEIAABCAAAQgUBQGErl2aELp23OgFAQjEnwBCN/45JkIIQAACEIBAIgggdBORZoKEAAQgAAEIQAACEIAABCBQFAQQunZpQujacaMXBCAQfwII3fjnmAghAAEIQAACiSCA0E1EmgkSAhCAAAQgAAEIQAACEIBAURBA6NqlCaFrx41eEIBA/AkgdOOfYyKEAAQgAAEIJIIAQjcRaSZICEAAAhCAAAQgAAEIQAACRUEAoWuXJoSuHTd6QQAC8SeA0I1/jokQAhCAAAQgkAgCCN1EpJkgIQABCEAAAhCAAAQgAAEIFAUBhK5dmhC6dtzoBQEIxJ8AQjf+OSZCCEAAAhCAQCIIIHQTkWaChAAEIAABCEAAAhCAAAQgUBQEELp2aULo2nGjFwQgEH8CCN3455gIIQABCEAAAokggNBNRJoJEgIQgAAEIAABCEAAAhCAQFEQQOjapQmha8eNXhCAQPwJIHTjn2MihAAEIAABCCSCAEI3EWkmSAhAAAIQgAAEIAABCEAAAkVBAKFrlyaErh03ekEAAvEngNCNf46JEAIQgAAEIJAIAgjdRKSZICEAAQhAAAIQgAAEIAABCBQFAYSuXZoQunbc6AUBCMSfAEI3/jkmQghAAAIQgEAiCCB0E5Hmog2y/dkXye571s9Y/5J578vc6a8WbUxm4YfuVV2uar+f7L/nrs6PPvvqB3n78/UyesZyq9h0vIuO3Ser7xXPfmw1Hp0gAAEIQAACEIAABCDwSxBA6NpRR+jacaMXBCAQfwII3fjnmAghAAEIQAACiSCA0E1Emos2yCvve0rqN2qWsf73Jj8v40cNKdqYdOHXdGgiN3RqJj9s/UmWrtvkxNK4VlWZufQbOXv0B1axnd2qvow5/7Csvrv3n2Q1Hp0gAAEIQAACEIAABCDwSxBA6NpRR+jacaMXBCAQfwII3fjnmAghAAEIQAACiSCA0E1EmmMRZMvjT5XzrrpD4iB0V95xsmza9l854b4ZsnrD1nR+6levlPH30iTurf5t5eAG1QWhWxqK9IUABCAAAQhAAAIQKG8CCF074ghdO270ggAE4k8AoRv/HBMhBCAAAQhAIBEEELqJSHMsgoyL0G1/QG0Zf/FR8vGqDXLcsBlllhuEbpmhZWAIQAACEIAABCAAgTIkgNC1g4vQteNGLwhAIP4EELrxzzERQgACEIAABBJBAKFbfGne/7A2UrVaDdm08Tv5bM7MggfQoHFzqdOwkTNulDmq71FHGrc4QtauWCarli50+pk1ht11a9q5+wYFZCN0zdp0zKXzZ8mG9WsLzivfAc3RyPkIXZXAe1Td2ZlqUequ3Y9Wbgid1kbo6trMM2PJ+kjVwqZP1HWFLpwGEIAABCAAAQhAAAKJJoDQtUs/QteOG70gAIH4E0Doxj/HRAgBCEAAAhBIBAGEbvGkWeXnuVcOkd1q7JFe9PffrZenhw/KErunXXCVnNC5h3w6+20ZO+TydHsVnFcMe1J2qVRFHr/76ox+bTqdIyedc3HG+Npx3Zcr5IWH78xoa+TqmxMel2NOOVt2qVzFmWPC6KHS/MgT5IBWxzp/X71skQzv1y09v7kT95FbL5MuF18nteo1TL+2bMEcefCGCwMTkq/Q7d5/qBzatmPGeB/NeF3GDRuYM+nKofXJJTLv7cky5bkxBdsgRsoe1rCGXN6usSxL3Z1726RF6fH9hOiIrgfLb1OSdddKO2Ws453UXbu9HpudU7jmI3T1Tt8/td/Pd54xM76Q52avzuLg10clddfUHcDuY6QLBpCBIAABCEAAAhCAAAQSQQCha5dmhK4dN3pBAALxJ4DQjX+OiRACEIAABCCQCAII3eJIs8rcHgPulW1bN8sbzzwsm77fILXqNpR2Jb2cAO69vEtW9amRp0/ef72YSlkjOVW8zpz0TEbwWpnbruT3svSTD53x9WlyyFHSusNZouL4tl4d0u2NXN22ZbNMHT9WPpgyQa4e+YIjdlUiv/bESDnl/Msdsavy1lQSmzVpvzlvvSpL5r3vjNnxvL6O3M11P24+QrfXoJHO3Cpw57831ZmjzannSKMDD8s5hzK4Yti4dJzutZd2pxjBGjTORU/MyRKnfdruI4ek7sF9c/G6dLeL2u4rxzSuKZMXrpWzU/I06IkqdE3FsFcwq3g+94gGct2EBVnrUpl7Q6dmzrHRf57yubOEE5rWkp7H7F3mR0mXNg/0hwAEIAABCEAAAhCo2AQQunb5QejacaMXBCAQfwII3fjnmAghAAEIQAACiSCA0C2ONBsROqJ/9/SxxrpyIzn9Kk9VTl56+yOy8dt1ck/f3zjHIPce/ICEVcJ6iRg56hbDfvOaNQ4sOdwZQitdO/cZKO5+po1W9r7y6P3pqbRy+Poxr4mK3sHd2/omJarQNe281ck6qJn/jotO8T1+2azDLMDLuzS7JaxCN+oRx7qGz25uL3WqVZLd+08KXFJUoatVwCpi/YRy/eqVsqpt9WcfDDxBNm37r+x/85SM+c1Y14yfL6NnLC8NLvpCAAIQgAAEIAABCCSUAELXLvEIXTtu9IIABOJPAKEb/xwTIQQgAAEIQCARBBC6FT/Npmo0SMTeOHaybN28yZG23sccvayVr00OPkqq7V7Lt5o3F4WSvoOcKl0/oeuuqPUKXSNW/YSu+2dmbvdxzH53A0cVukZA+1XXtj/7IunYva9zNLS3Qtmswxy5/N6/xge2Kc2usblD1ztfFFkbpY2Oe9uZzZ0joLXi949Pzws9LtlU546culRufGn7ncnmOXSvVDVxv7by/JzV0uvxOaXBRF8IQAACEIAABCAAgYQSQOjaJR6ha8eNXhCAQPwJIHTjn2MihAAEIAABCCSCAEK34qfZXXH64dSJWQs2xxWbylhvg0tv/5tz1LA+fiLV3V7l8WEndJK6+zSR6jVrOy9VS/2v3ttb1kLXHAcdtMaoQtd91LSXxV77HejcLZzraOey3hH5Cl2t7O1yaD1pVnc32a3Sr5zlNa5V1bnvthAVulpxO+nyY6RRaswftv4kM1P3876b+u+J91b4yl1ThatCd86K77JwjTn/MI5dLutNxPgQgAAEIAABCEAgxgQQunbJRejacaMXBCAQfwII3fjnmAghAAEIQAACiSCA0K34aTYiM2ylQULXVNhq/1x3wmr1qrmTd+mC2fLdujXOlHs3bSH1GzUrc6HrVwnsjjlfoZuLV7EI3bE9DpOzDqsvazdulbeWrJeNW35ywurUYs+CHblsOGnl7UnN6zj385rnsXf+I1c8+3EGSiN0c/HVu3WPGzYjbMvyOgQgAAEIQAACEIAABLIIIHTtNgVC144bvSAAgfgTQOjGP8dECAEIQAACEEgEAYRuxU9zVJHpF4n73twGjQ9I36frbat3x1498gXnx/de3iXjftnyOnLZ765e9zqjcvAe/VzRMhy1QjdXuyjHKUdpE8SmT9t95LITGztVu16pm+vO3YrGmvVAAAIQgAAEIAABCBQfAYSuXc4Qunbc6AUBCMSfAEI3/jkmQghAAAIQgEAiCCB0K36aw+7QDYpAJe0ltz0ilapUlRH9z5MO3S517sL1q041svSjGa/LuGEDM4YsL6F7zagXpVa9hqm1dpdVSzPvZtUFRRW6ue7QjZptFeF+9/hG7Z+rXVSha8TpNePny+gZyzOGjCJro7SxWWeuO3QLwYcxIAABCEAAAhCAAASSTQCha5d/hK4dN3pBAALxJ4DQjX+OiRACEIAABCCQCAII3eJIs6k69TsyWcXthvVrswIxd9JOGD1UZk56xnndSFPvPbXue3rHDrk8YyxzB28h79B1r0knM5XE675cIff0/Y1vUqIKXdNu2YI58uANF2aNFcTLNDSMcq2lNLsmX6F7+6RFcs/kJekp9c7bN/u1LdiRy3pH74LVG7Puy9Uq3XtKWmTdh6vzfzDwBNm07b9ywn0zsvrp66s3bC0NIvpCAAIQgAAEIAABCCSYAELXLvkIXTtu9IIABOJPAKEb/xwTIQQgAAEIQCARBBC6xZFmFZ49BtzrLHbOW6/KknnvO38+vN0ZckCrY7Puxg2Smkacfv/deqdq1y2Cbx03Q3apXEVeHzdKPpgyQRq3OELanHqO6FHN+nN39a6fXPUedWzauEWwabNty+Z0HLXqNpRjT+8mu9XYQ7yi150dU6msa3/jmYdl0/cbZK/9DpQ5b07Kqug1Vbqrly2S9/413mlr5vl61XJf0atzGT5mXq/4LsRuiSp0VbSOv/go5/7cu/+1WCbOWyNnHFLXOQq5zm67yK6VdhK/6l2zxuf6HCkdUnfiPj9ntbz88RqpWXVn2b3Kzlly2MjZp2etkjkrvnO6N04dtfyn9vsFzmGqdHVtD7/1hSxdt8kZ/4Jj9pa61Sr5it5CsGMMCEAAAhCAAAQgAIH4E0Do2uUYoWvHjV4QgED8CSB0459jIoQABCAAAQgkggBCt3jSrLLxtJ5XSv1GzdKLVjG6cNZ0mTh2WFrO5roPVzuayt1PZ78t7mpcHf/cK4c4YtU8KkTH3vZH6XXjX5x577joFGee0gpdlcPNjzjeEcX6aBxTx4+VKc+NyZmQ9mdfJO1KeqX7aeMgCaxHRR923KkZbbXq9vUnR8nc6a8GzuOu0H3oxt6+1c+l2TVRha7OoeLUiFUzpwra+6d8Lv9MCdsfUlWyh90xzXc5Win7bKrNwQ2qp19flhKv3va6Hp3D3U47GJHsPe7ZDKYVvANObupUCptH+6gYvvGl7COzS8OMvhCAAAQgAAEIQAACySGA0LXLNULXjhu9IACB+BNA6MY/x0QIAQhAAAIQSAQBhG7xpVkrVes0bCSbNn5XJve8qtitWq2GLJ0/K0Nm6rx+d9vmQ9BU6JrKVxXD+uQSrH7jm37eNZa2remv40cZO5/YS9NWpas+z81enTHMoXtVl49Wbsg5tLZptueusn7TjzLl068D26oAbttku8xf9NUPoeOagbSSeI9UdW4+fUrDgr4QgAAEIAABCEAAAvEmgNC1yy9C144bvSAAgfgTQOjGP8dECAEIQAACEEgEAYRuItJcYYL0Ct0KszAWAgEIQAACEIAABCAAAQhUCAIIXbs0IHTtuNELAhCIPwGEbvxzTIQQgAAEIACBRBBA6CYizRUmSIRuhUkFC4EABCAAAQhAAAIQgECFJIDQtUsLQteOG70gAIH4E0Doxj/HRAgBCEAAAhBIBAGEbiLSXGGCROhWmFSwEAhAAAIQgAAEIAABCFRIAghdu7QgdO240QsCEIg/AYRu/HNMhBCAAAQgAIFEEEDoJiLNFSbI9mdfJOvWrKhQ99NWGDgsBAIQgAAEIAABCEAAAhAQhK7dJkDo2nGjFwQgEH8CCN3455gIIQABCEAAAokggNBNRJoJEgIQgAAEIAABCEAAAhCAQFEQQOjapQmha8eNXhCAQPwJIHTjn2MihAAEIAABCCSCAEI3EWkmSAhAAAIQgAAEIAABCEAAAkVBAKFrlyaErh03ekEAAvEngNCNf46JEAIQgAAEIJAIAgjdRKSZICEAAQhAAAIQgAAEIAABCBQFAYSuXZoQunbc6AUBCMSfAEI3/jkmQghAAAIQgEAiCCB0E5FmgoQABCAAAQhAAAIQgAAEIFAUBBC6dmlC6NpxoxcEIBB/Agjd+OeYCCEAAQhAAAKJIIDQTUSaCRICEIAABCAAAQhAAAIQgEBREEDo2qUJoWvHjV4QgED8CSB0459jIoQABCAAAQgkggBCNxFpJkgIQAACEIAABCAAAQhAAAJFQQCha5cmhK4dN3pBAALxJ4DQjX+OiRACEIAABCCQCAII3USkmSAhAAEIQAACEIAABCAAAQgUBQGErl2aELp23OgFAQjEnwBCN/45JkIIQAACEIBAIgggdBORZoKEAAQgAAEIQAACEIAABCBQFAQQunZpQujacaMXBCAQfwII3fjnmAghAAEIQAACiSCA0E1EmgkSAhCAAAQgAAEIQAACEIBAURBA6NqlCaFrx41eEIBA/AkgdOOfYyKEAAQgAAEIJIIAQjcRaSZICIQSGDBgQFabRYsWyQsvvODbt0+fPlKzZs2M13K1D10ADSAAAQhAAAIQgAAEIJAigNC12wYIXTtu9IIABOJPAKEb/xwTIQQgAAEIQCARBBC6iUgzQUIglMDPP/+c1eb555+XkpIS376ffvqpNGvWLOO1XO1DF0ADCEAAAhCAAAQgAAEIpAggdO22AULXjhu9IACB+BNA6MY/x0QIAQhAAAIQSAQBhG4i0lwmQZb0HZQ17juTnpVVSxeWyXxlNWjL40+VJocclTH8t1+tlinPjQmcMi6xuwNUobt+/XqZNm1a+sfvvPOO3H333b4cRo4cKQ0aNHBe23PPPaVt27aC0C2rXcq4EIAABCAAAQhAIDkEELp2uUbo2nGjFwQgEH8CCN3455gIIQABCEAAAokggNBNRJrLJMih4z/MGvfJ+6+XudNfLZP5ympQlbOtO5yVMfzqZYtkeL9ugVPGJXZ3gCp09cjkAw44IG/UelzzXXfdhdDNmxwdIAABCEAAAhCAAAS8BBC6dnsCoWvHjV4QgED8CSB0459jIoQABCAAAQgkggBCt7jSfNoFV8n+LY/+f+3dCZRdVZkv8E2ATGQAwhzQhBkjyCyTiIBMNmAiokRR06LtQluWjQPPRrtb0EejtAtFnq8FUWiDIAYCQhARIlMQZJZZCCioQAIkhExA8mof3ylvVd1b99apulX37vO7a7mIVWfvs7/fd8Jaxb/22b2GjUNRUR6KtmOg290rhrX1At3KManULtAdir857kmAAAECBAgQICDQHZhnQKA7MI5mIUAgPQGBbno9VREBAgQIECilgEC3vdp+0n/9NGw6adtwyrRdW2rhqYSaEVWga4duS/3lshgCBAgQIECAQMkE7NAt1nCBbjE3owgQSF9AoJt+j1VIgAABAgRKISDQba82Fwl0N5u8fdhw80lZofMfvCssfvGFukVvs/PeYfTY8dl1jbxCebAC3XHrbxgmT9ktW9cLzzzV63m9ldc2Wke8bjAC3Xhub/5ptCd1m9bPC+zQ7Seg4QQIECBAgAABAgMiINAtxijQLeZmFAEC6QsIdNPvsQoJECBAgEApBAS6rd/mGP4rOwUiAAAgAElEQVQd97lv1FxordcDx0BzxqnfzXb0Vn7uuP7yMOvc06rOF4PcD5x0Whgzfv3O769cvizMuejsMG/OpTXX0OxAN9byvk//W9hul326rGHhX58J1118bpfQOQbYH/rCmWHCJpt3ubaROuKAZga6Bx5zQjhg2owwfOSoLmt76uF7w7xrL+01PI/GW2w9JVxz4dnh8XvnDfiDK9AdcFITEiBAgAABAgQIFBAQ6BZA6xgi0C3mZhQBAukLCHTT77EKCRAgQIBAKQQEuq3f5sqdpoccd2IWVMazavNPrZ2qXzj3yuzaGOA+8cCd2eV7H3ZsmLTDztnXuoe6MQj91NfPz66bO+uCsPC5Z8LoMePCfkd+uPOetXbrNjvQzWvJg8+4xgkbbx72ec8Hw91zrw7X/PjbXRo5/eQzwl+f/kNWQ35tHqR+5+Tpve7sbVagmwfzeQidL3jiljuEXQ94T7jqh9+qGejGIPiQ6SdmQ2Iw/dXp+w74gyvQHXBSExIgQIAAAQIECBQQEOgWQOsYItAt5mYUAQLpCwh00++xCgkQIECAQCkEBLrt1eZGX7mcB4DVgttTL7g+24H7jRMO7fL65RlfOSfbARvD4srgNga9nz1rZohB5DdPPKoqWDMD3SM++rmw/9HHh0fvuS1ccNpnutw/ht2NvEI6DurNpHLSZgW6vRnVq2Pvw48NR3/ilGyZSxa9GE6fcfCAP7gC3QEnNSEBAgQIECBAgEABAYFuAbSOIQLdYm5GESCQvoBAN/0eq5AAAQIECJRCQKDbXm1uNNDNr6u2GzUPFq+beW644bLzOgFikFkrLOxtvjhBMwPdfHduvZ219TqZ75Dt7ZXTcY5mBbqVwfTPv/cfDQfReV3ReKOJk8Ovf/YDr1yu12zfJ0CAAAECBAgQaFsBgW6x1gl0i7kZRYBA+gIC3fR7rEICBAgQIFAKAYFue7W50UD3azNvzc5pPWXarj0KrLZTNZ6d+/Gvfi/UOo+31u7dyrBxz4On9tjdOxC6vQXNteaPO153P/DosMmbtw4bTpyUXTZ85OjOV1DXOkM4XtesQDeu6Z9OPz9bQ3xt8vyH7wlPd5yd+7sbZvc53B0I1+5z2KHbDFVzEiBAgAABAgQI9FVAoNtXsb9dL9At5mYUAQLpCwh00++xCgkQIECAQCkEBLrt1eZGA90YSsZPtUC32k7V/Gu1At16O3Drfb8/yn0NWGM4/YGTTsteKx3P3H3+2fnZ7cdP2Dh7pfRQ7dDNDWKgvm3HOuJZxvmn3pr649foWIFuo1KuI0CAAAECBAgQaKaAQLeYrkC3mJtRBAikLyDQTb/HKiRAgAABAqUQEOi2V5sbDXTLvEM3N+p+FvBQv3K52pMWz8bd78gPN7RzuNlPqkC32cLmJ0CAAAECBAgQaERAoNuIUs9rBLrF3IwiQCB9AYFu+j1WIQECBAgQKIWAQLe92txooNvbmbfTTz4j7LTvIWH2D84I8+Zc2gnQ26uN83Nsv3HCoVVfD9zMHbp9PUM31rHwr8+Eb554VJfmtmKgGxdYb3d0ZRFx9/Hj985rykMr0G0Kq0kJECBAgAABAgT6KCDQ7SPY/79coFvMzSgCBNIXEOim32MVEiBAgACBUggIdNurzXlQWytYzaupdk5u/F48x/WzZ10cho8YFb71mfd2CWdrnZNb73zdOG8zA9187kfvuS1ccNpnujQs1rP4xRe6fK1WMH3ERz8X9j/6+CF75XJ0fO6Pf+ix3rhL9+hPnFLz/OJY3GaTtw+f+vr52bnI9996XZh51ikD/uAKdAec1IQECBAgQIAAAQIFBAS6BdA6hgh0i7kZRYBA+gIC3fR7rEICBAgQIFAKAYFue7U5D2rj2bDzrv3b7tqJW+4QXnr+2S67bePX852t8XzWJx64M4weMy7s+e5pYdNJ24abZl8Urvnxt7sUn4eG8YtzZ10QFj73TJiw8eZhn/d8MDuP9vyvfbrm7tB8XfEM3rmX/yibd6sd9wizzj2t38AxtP2n08/PXksc677vlmvD0iWLw5Q9Dwjb7/aO8MhdN3cJOD/19R9m59PG4HPurB+FdcavF3bc5+Cw836HZYFoXOMFp/9z1Z3GcbGnXnB9Vu91M8/tNIgW9918bdVaGqk91vD5c64IK1csC3fPvTo8++TD2VzR94BpM7J1dd8xXXmzPIzOv1btbOT+Qgt0+ytoPAECBAgQIECAwEAICHSLKQp0i7kZRYBA+gIC3fR7rEICBAgQIFAKAYFu+7U5f2Vy5cqr7dqMIeKMU7+bBbj5Z+XyZeH2X17WI8zNvx93kX7gpNOyQDP/LFn0Yrjqh9+qGWjm13VfV7zX9//14+HP8x/pN3Ks5X2f/rew3S77dJkrBry//tkPugTN1eqONVxy9leyYHfPg6f2Gp5WM6i3K7aR2uOrlQ+Y+rEu/YjFxLX9+tL/7hHIVxZauUO32k7lfgN3TCDQHQhFcxAgQIAAAQIECPRXQKBbTFCgW8zNKAIE0hcQ6KbfYxUSIECAAIFSCAh027PNMbScPGW3bPG1do7mlfXl2nxMDBA33HxSWPrKoj6d2VrkXn3tQAxG42f+g3fV3GUbv5/X8MIzT3UJlePXGwmZY7A7euz40H18rfU2WnvldY3OHe+Zj6vX77565tcLdIvKGUeAAAECBAgQIDCQAgLdYpoC3WJuRhEgkL6AQDf9HquQAAECBAiUQkCgW4o2K5JAXYEY6Hb/XH755WHatGlVxz766KNh223/vvs7XtTb9XUX4AICBAgQIECAAAECHQIC3WKPgUC3mJtRBAikLyDQTb/HKiRAgAABAqUQEOiWos0tUWR8LfGGEyfVXcsLzz7V5UzcugNcMCACs2bN6jHP7bffHs4888yq859zzjlhs8026/K93q4fkEWahAABAgQIECBAIHkBgW6xFgt0i7kZRYBA+gIC3fR7rEICBAgQIFAKAYFuKdrcEkUKdFuiDRZBgAABAgQIECBAoKUFBLrF2iPQLeZmFAEC6QsIdNPvsQoJECBAgEApBAS6pWizIgkQIECAAAECBAgQINAWAgLdYm0S6BZzM4oAgfQFBLrp91iFBAgQIECgFAIC3VK0WZEECBAgQIAAAQIECBBoCwGBbrE2CXSLuRlFgED6AgLd9HusQgIECBAgUAoBgW4p2qxIAgQIECBAgAABAgQItIWAQLdYmwS6xdyMIkAgfQGBbvo9ViEBAgQIECiFgEC3FG1WJAECBAgQIECAAAECBNpCQKBbrE0C3WJuRhEgkL6AQDf9HquQAAECBAiUQkCgW4o2K5IAAQIECBAgQIAAAQJtISDQLdYmgW4xN6MIEEhfQKCbfo9VSIAAAQIESiEg0C1FmxVJgAABAgQIECBAgACBthAQ6BZrk0C3mJtRBAikLyDQTb/HKiRAgAABAqUQEOiWos2KJECAAAECBAgQIECAQFsICHSLtUmgW8zNKAIE0hcQ6KbfYxUSIECAAIFSCAh0S9FmRRIgQIAAAQIECBAgQKAtBAS6xdok0C3mZhQBAukLCHTT77EKCRAgQIBAKQQEuqVosyIJECBAgAABAgQIECDQFgIC3WJtEugWczOKAIH0BQS66fdYhQQIECBAoBQCAt1StFmRBAi0mcDb3/728M53vrPHqn/zm9+E3/72t1Wr+eIXv9in69uMxHIJECBAgACBkggIdIs1WqBbzM0oAgTSFxDopt9jFRIgQIAAgVIICHTbr83j1t8wTJ6yW7jv5mvbb/H9XHGZa+8nneFtJhDD2f/8z//sseovfelL4cwzz6xazerVq/t0fZuRWC4BAgQIECBQEgGBbrFGC3SLuRlFgED6AgLd9HusQgIECBAgUAoBgW77tfkL514ZJmyyebhp9kXhmh9/u20KeNs7Dgtb7bhHl/W+/Pxfwg2XnddwDf2tffrJZ4Tly14Ns849reF7tsuFm03ePux1+Pt7LLcdaz3wmBPCuhtt2qWWJx64s+YvMaRUe150Hug+9thj4cEHH+y0uPDCC8MVV1xR9bGcNWtW59enTJkStt1229BbANwuz7Z1EiBAgAABAuUSEOgW67dAt5ibUQQIpC8g0E2/xyokQIAAAQKlEBDotl+b+xtqDlXF0078Stjz4Kldbv+Xpx4LZ//LBxteUn9rP+m/fho2nbRtOGXarg3fs10ujIH5cZ/7Ro/ltmOteZ8qi7nj+strBvEp1Z7XnAe6l19+eZg2bVqfH8MY7k6dOlWg22c5AwgQIECAAIGhFhDoFuuAQLeYm1EECKQvINBNv8cqJECAAAECpRAQ6LZfm1N57fAZs+4OfQ10+1t7MwLdGV85J6xYuiTMPOuUlnqYmlHrUBSYh7W9Bbrd15VC7QLdoXja3JMAAQIECBBoBQGBbrEuCHSLuRlFgED6AgLd9HusQgIECBAgUAoBgW4p2tySRRYJdPtbSDOCvqGooxGHZtTayH0H+hqBrh26A/1MmY8AAQIECBBobQGBbrH+CHSLuRlFgED6AgLd9HusQgIECBAgUAoBgW4p2hzyna2x2vkP3hUWv/jCgBYeQ7f80+j8gxGE5ut64Zmnwp/nPxKaEXIWqWObnfcOo8eOz8juu/nahnqR17L0lUXh8Xvn1R3TjFqr3TSeX7vh5pOyb9XrfeW1jdYxWIFukWe4bhP6cYEduv3AM5QAAQIECBBoawGBbrH2CXSLuRlFgED6AgLd9HusQgIECBAgUAoBgW57tLnaGaG9va44P6929g/OCJPfsmvYad9DOgtduXxZuOjMz3cJBfc+/Nhw9CdOCfffel3VVwcf8dHPhf2PPj5cN/PccMNl53XO9amv/zBM2mHnHoiNvB630SC0r7XHxcTA9AMnnRbGjF+/c22xtg0nThqQM3SrnQdciVCr/mrriv2Yc9HZYd6cS6s+jAcec0I4YNqMMHzkqM7vL/zrM+GK//7fvQa7zQ50Yy1HfOSkzLPy89TD94YrzzszC9DzT3y+Djr2k136Eb/XSB3NDnSr+ca1xTrmXXtpzcA9/pLE+z79b2HEyNEdf2e+NOC/JCHQbY9/N1slAQIECBAgMPACAt1ipgLdYm5GESCQvoBAN/0eq5AAAQIECJRCQKDbHm2u3GEbV3zc577R6/mzeeAYw8KFf/1TuONXs8KDv70x7Hfkh7NgNgZp3zzxqC7Fn3rB9WH4iFHhq9P37YHyhXOvDGPXnRC+9Zn3dgmuYtAbP88++XD2z9FjxmX3mLDJ5j3C3+6TNhro9rX2eP3nz7kiu93tv7ysc20HTP1YZ/h4yrRd+9X4yp2msRfR87qLz+2cs9pO1TjmU18/P7tm7qwLwsLnnunidfG3v9wjPMyD9jj/LVf9T1i6ZHGYsPHmWcAbP937UVlUMwPdvJYYMsfw+okH7sxuvdWOe4Sd9zusxy8MxOsPmPaxMP+hu7Ma8mv3PHhqWLLoxXD6jINr9qOZgW4+d/f+Tdxyh7DrAe8JV/3wWzUD3Xh28na77JOtO4a/3//Xf+zXM9V9sEB3QDlNRoAAAQIECLSRgEC3WLMEusXcjCJAIH0BgW76PVYhAQIECBAohYBAtz3bXC8MzQPdakFTDG7jztXuoeb0k8/IdvLGXb2Vu0VjGPfZs2aGR++5LVxw2mfqguXX97aDOE5Sr4ZaN6o3Lq/jptkXhWt+/O0u09SqvW5RvVxQbz350DwA7B7c5l69hezdg9u4q/SQ6SfW3FEd79nMQDffmd19x3a8bwzUG32ldy2TSu5mBrr535NqYXq9OvLnLK610b8bfXnOBLp90XItAQIECBAgkJKAQLdYNwW6xdyMIkAgfQGBbvo9ViEBAgQIECiFgEC3PdtcL0TMg6pqr/6tFfTFV+h+/Kvf6xFO5a9b7h709iZXb31xbCPXVLtHvXF5aPuNEw7tESw2I+Sst568hnhdrd2o+bq+c/L0zlcV50FmrbCwt/niPZtRa5w3Bp1fPu+XdXfWNvI3q7dANR/fzEA3f7aj8c+/9x8NB9G5Q3zlcvz0dWwjNgLdRpRcQ4AAAQIECKQoINAt1lWBbjE3owgQSF9AoJt+j1VIgAABAgRKISDQbc821wsRiwS6UaLaa5fz1y1XexVzHBNfC7zp5O3CFltP6cSM56oO1Q7daBNfNV1tvc0IOev1IqLkYXktk2o7VfOwsdZ5vPV2Gzej1lhLvaC51t+ouBN55/0PDxu/aaswbr0NssvGdvwz7havtkM2n6eZgW4Mp//p9POzV4THZ2b+w/eEpzten/y7G2b3Kdxtxr9FBLrNUDUnAQIECBAg0A4CAt1iXRLoFnMzigCB9AUEuun3WIUECBAgQKAUAgLd9mxzvRCxaKDbfTdu/jrg+2+9Lsw865QuWDEMm3Hqd7NzaePrgp/4/d/OUY2feDbqUAa6te7djJCzXi+iRx5K1lpXtZ2qvfUwzlmvlnrfL/rkFwlY4yui83N/Y2i6aOFz2e3jLwHE52eoAt3cIK5v247zcCftsHMnS60gvahbX8cJdPsq5noCBAgQIEAgFQGBbrFOCnSLuRlFgED6AgLd9HusQgIECBAgUAoBgW57trleiFg00O1+Xm4e8J7/tU+Hx++d1wWrt3vUW1+cqJFrqnWn3jg7dP+m1uxAt9FzY2Pw//lzrsjW1P0s4KF+5XK15yvuON/vyA9nu3aHMtQV6Lbnv5utmgABAgQIEOi/gEC3mKFAt5ibUQQIpC8g0E2/xyokQIAAAQKlEBDotmeb64WaRQPdPAicsMkW2SuL4+uWR4waHU6fcXAPqDwwrHZWbb31xckauaZad+qNa8czdKNzDBArLXt7tXF+jm3cGf3NE4+q+hA3K9Dt6xm6eR3Vdnm3YqAbMevtqM7Bo8WY8RM6zz0eyH+bCHQHUtNcBAgQIECAQDsJCHSLdUugW8zNKAIE0hcQ6KbfYxUSIECAAIFSCAh027PN9ULN/gS68fWzh0w/Mdw0+6Kw/9HHZ/+85sff7gGVB4bfOXl6l0Cr3nmx+UT1aqjVmXrj8vNou687ruv4L34rDB85KpwybdcBa3xcT2/Ban6jaufkxu/15pWfadx9Z2u983XjvM0KdCvnvm7mueGGy87rYhlDzsUvvtD5td6C6U99/YfZa46H6pXL0f65P/6hx3m5cZfu0Z84pdfXhufXxEJn/+CMMG/OpQP2TMWJBLoDymkyAgQIECBAoI0EBLrFmiXQLeZmFAEC6QsIdNPvsQoJECBAgEApBAS67dHmGIptteMenYuNZ9QuWfRieOjO32Rfe/n5v3QJ1voT6OY7MFcuX5aFn90D23wReagYz4W95sKzw6uLXgrb77Zf51mp8brv/+vHa+5ezHfSxlBw4XPPhAkbb579876br+3SlL7Wnr82Oq5/7qwLOufOz3Ad6EA3D2rj63mfeOBv5whP2fOAjnv/qEvtcV2f+vr52fcr17XPez7Ysctz/VDttdZ5aBgD41uu+p+wdMni7DnYeb/DwsoVyzp6c1yPMDLHy9cVd8Y+eMfcMHrMuDBqnXE9AtgifwMqw/HK+bffff+wXcdZtN0Dzq/NvDV7lmKvf3fD7DB5ym5h78OODZtN3i77erXdu/m68n7G5/3Xl/53ZjBxyx3CvTfNqflsNVJ7/iro6Hj33KvDs08+nN0yPofxWYnr6i2ozcPoOKbeedFFjAW6RdSMIUCAAAECBFIQEOgW66JAt5ibUQQIpC8g0E2/xyokQIAAAQKlEBDotkeb84C21mq7B0r9CXTjPfJArF5QNf3kM8JO+x7Suaw8RF326uJw+PEnhUfuujnMPOuUqsuOoeAHTjotCzPzT2+v5W209nhdDELj/WMoFz/5ujZ589bZegdyh24MBmec+t2w6aRtezh0371areYYVF71w2/1CLLzyeKO6TxgzL8W+/Kz7/57r6/6rbauRnYSN/o3ItZyxEdO6lH3/IfvCT//3n90CZqr1R1ruOD0f+60q/bq7t4MegtbG609/rLAAVM/1qWGeM88PO5t123lDt1qO5Ubdax1nUC3v4LGEyBAgAABAu0qINAt1jmBbjE3owgQSF9AoJt+j1VIgAABAgRKISDQLUWbm1pkDM/ijsulrywKj987r/Ne8evxU/n63WoLiWHf6LHjwwvPPDXgZ5HGwC5+uu/6bQZI3Em64eaTejhUu1dfrs3HF3Uqcq+++OT9b8Q5r2H+g3d1eS7iGv88/5G6t8372X18rYGN1l5ZQ1+ewzj/OuPX6/Lc1y2iwQsEug1CuYwAAQIECBBITkCgW6ylAt1ibkYRIJC+gEA3/R6rkAABAgQIlEJAoFuKNiuSAIE2E8gD3e7L/tKXvhTOPPPMqtWsXr26x9d7u77NSCyXAAECBAgQKImAQLdYowW6xdyMIkAgfQGBbvo9ViEBAgQIECiFgEC3FG1WZC8C8bXRG06cVNfohWefqvn66LqDW/SCMtfeoi3pXNZ73/ve8JGPfKTHMi+88MJwxRVXVF3+rFmz+nR9qxtYHwECBAgQIFBOAYFusb4LdIu5GUWAQPoCAt30e6xCAgQIECBQCgGBbinarMheBMocapa5dn8pCBAgQIAAAQIEWlNAoFusLwLdYm5GESCQvoBAN/0eq5AAAQIECJRCQKBbijYrkgABAgQIECBAgAABAm0hINAt1iaBbjE3owgQSF9AoJt+j1VIgAABAgRKISDQLUWbFUmAAAECBAgQIECAAIG2EBDoFmuTQLeYm1EECKQvINBNv8cqJECAAAECpRAQ6JaizYokQIAAAQIECBAgQIBAWwgIdIu1SaBbzM0oAgTSFxDopt9jFRIgQIAAgVIICHRL0WZFEiBAgAABAgQIECBAoC0EBLrF2iTQLeZmFAEC6QsIdNPvsQoJECBAgEApBAS6pWizIgkQIECAAAECBAgQINAWAgLdYm0S6BZzM4oAgfQFBLrp91iFBAgQIECgFAIC3VK0WZEECBAgQIAAAQIECBBoCwGBbrE2CXSLuRlFgED6AgLd9HusQgIECBAgUAoBgW4p2qxIAgQIECBAgAABAgQItIWAQLdYmwS6xdyMIkAgfQGBbvo9ViEBAgQIECiFgEC3FG1WJAECBAgQIECAAAECBNpCQKBbrE0C3WJuRhEgkL6AQDf9HquQAAECBAiUQkCgW4o2K5IAAQIECBAgQIAAAQJtISDQLdYmgW4xN6MIEEhfQKCbfo9VSIAAAQIESiEg0C1FmxVJgAABAgQIECBAgACBthAQ6BZrk0C3mJtRBAikLyDQTb/HKiRAgAABAqUQEOiWos2KJECAAAECBAgQIECAQFsICHSLtUmgW8zNKAIE0hcQ6KbfYxUSIECAAIFSCAh0S9FmRRIgQIAAAQIECBAgQKAtBAS6xdok0C3mZhQBAukLCHTT77EKCRAgQIBAKQQEuqVosyITE9hm573Dfkd+KNw99xfhvpuvTaw65RAgQIAAAQIECJRZQKBbrPsC3WJuRhEgkL6AQDf9HquQAAECBAiUQkCgW4o2KzIxgbe947Bw3Oe+Ee64/vIw69zTEqtOOQQIECBAgAABAmUWEOgW675At5ibUQQIpC8g0E2/xyokQIAAAQKlEBDolqLNimyiwIyvnBNWLF0SZp51ShPv0nXqZgS6cc4Dpn4sXHPh2eHxe+cNWi1uRIAAAQIECBAgQKBSQKBb7HkQ6BZzM4oAgfQFBLrp91iFBAgQIECgFAIC3VK0eciK3Gzy9uHP8x8ZsvsPxo3PmHV3+MtTj4Wz/+WDg3G77B7NCHSnnfiVsOfBU8PF3/6y1zgPWifdiAABAgQIECBAoLuAQLfYMyHQLeZmFAEC6QsIdNPvsQoJECBAgEApBAS66bc5nrc6euz4rNAXnnmqbsAaQ9gNN5+UXb/0lUUN7dasvMfoMePCppO3CxtNnBwm7bBz+M7J06ves/I+zTgHNp9//oN3hcUvvpDVE4PQejX1dV19DXSL+HZfU71Ad9z6G4bJU3brfLgb8S0S6MZ15J9K5/T/VqmQAAECBAgQIECgWQIC3WKyAt1ibkYRIJC+gEA3/R6rkAABAgQIlEJAoNsebY6hYfycMm3XLgvuLdiLIesHTjotjBm/fpcxC//6TLjrhivDDZed1+Xrex9+bDjo2E9Wvf6K//7fVYPdeI8jPnJS2HTStl3mWrLoxfDKSwvC4o7/3XLVT7qMjWHjjFO/22XMyuXLwtxZF/RYU1+7k4eS1808Nxwy/cRseJz7ojM/H977yf8VJmyyefa1amfP9mVd+X1qra/a/EV84/zTTz4j7LTvIZ23irZ3z7067H/08T3qiMHvh75wZmed+aBoMOeis8O8OZf2WHL+bNWqpfszF6/71Nd/mIX13T+NnOkbHfZ897TwwG3X97vffX0+XE+AAAECBAgQIND6AgLdYj0S6BZzM4oAgfQFBLrp91iFBAgQIECgFAIC3fZoc18D3RhOfv6cK7LiYpC3dMni7M8TNt487LjPweFPf3gwzDr3tC7FxzDwgGkfC/Mfurvz+q123CN7DW8MEU+fcXCX6yvv8fP/c1r2mt74tX+YcXLYfrd3VA0Q4/f/6fTzw9h1J4Tbf3lZePbJh0Pc0bvfkR/OQsj+vu43D1pjaH3dxedm6z3uc9/I/nnT7IvCvTfNyQLPeP+vTt+3s56+rqtyx2ycv/J+cdJqu1X76hvnyeuJr3See/mPsvVO3HKHsNehx4ThI0dVDaZjAPzXp/8QFj73TGfPD5g2I7u+2m7pfJftrgf8Q9hul30yp9iX+Km1m/mIj34u+35+XWUPY5je/ZcFcuho8NmzZna6n/+1Tze0A7zLg+f/ECBAgAABAgQIJC0g0C3WXoFuMTejCBBIX0Cgm36PVUiAAAECBEohINBtjzb3NdBt5JW8+WuI6wnM+Mo5WdDXPWyNoV7cJVotwDv1guuzabuHwJU7aCtDvzwcfuXlheGbJ3BLrjAAACAASURBVB5Vb0k1v5/PP/sHZ3TuRu3+SuR8x2vlztP+rKuvr1zuvvhavtHky+f9MgvTv3PycZ2vjY7jDzzmhGwHciM7Yhu9vsgrlytrycPa3s4TzmvKx9V6HXfhB8BAAgQIECBAgACBthcQ6BZroUC3mJtRBAikLyDQTb/HKiRAgAABAqUQEOi2R5v7GujGVyF//Kvfy3aO/uSbX6x7bm5vCrWCvt4CwJP+66fZK5W7v643Br3DR4zqsjs2v3cebH7jhEO7hJd96VC1NXUPXPNrKtfWn3X1N9Ct5ZiHtvffel2YedYpXRjqBfbdzRq5vr+BbrxnIxb5K5fv+NWsqq+A7ku/XUuAAAECBAgQIJCegEC3WE8FusXcjCJAIH0BgW76PVYhAQIECBAohYBAtz3a3NdAN1aVB6Txz089fG/442MPZK8c/vP8R2oWHXdZ7rz/4WHjN20Vxq23QXbd2I5/xnN4u+/QrbWrNY6pFZDGOrq/njhfTP7K3/68drlooNufdTUSYuY1FvGNr0C+5sff7tKz3gLauAt29wOPDpu8eeuw4cRJ2bjhI0dnr7TubUdvXwPdGMxuOnm7sMXWUzrXFkP83nbotsffNqskQIAAAQIECBAYSgGBbjF9gW4xN6MIEEhfQKCbfo9VSIAAAQIESiEg0G2PNhcJdGNlMfiLQenkHXbJzlCNnxjuzjzrSz12wcYdofGs1fiZ//A9YdHC57I/x8AuBnXdg9YYTn7q6+eHlSuWhR9+7TOdQXEeDFbbWZrX0Zv6UAW69Z6EWutqNNDtq29vAWutQDfuzP7ASadlAXzs8/PPzs/KGj9h4+y12QMR6MbAeMap382eiRjOP/H7Ozvp4nnLAt16T5LvEyBAgAABAgQI9CYg0C32fAh0i7kZRYBA+gIC3fR7rEICBAgQIFAKAYFue7S5aKBbWV0M+w56/yfCpB127hG65WfYxuu/9Zn3dgl7ewsW81A3D4vz+1ULc+P3Gg0/i3alPzt0iwaRjdRUxDevpS87dPNXXXcPnwfylcv5uqqFw41YFO2tcQQIECBAgAABAuUQEOgW67NAt5ibUQQIpC8g0E2/xyokQIAAAQKlEBDotkebByLQzSutNlce+FULYnsLdONrnSduuX245OyvhNFjx2e3mP/gXTXPwO3trNqB6ETRQLc/62okxCziW+QM3fzV0d888agunAMZ6OahcbWzjhuxiAuLv1zw+L3zBqLl5iBAgAABAgQIEEhMYPToMYNS0dKlSwb8PhMmbFR1zvhz98IFCwb8fpUTCnSbymtyAgTaWECg28bNs3QCBAgQIEDg7wIC3fZ4GmLgGF+je8q0XbssOD8nt/tuybgjdOM3bd0jNItf//J5v8zmqJwrD/wevee2cMFpn+lyj099/YfZrt5qrxyuFSDWUu1t12lc2+IXX+hXQ4oGuv1ZVyMGRXzj7ufPnjUzLFn0YvjOycd1sanV97iWeP3pMw7u4njERz8X9j/6+IZeuTz7B2eEeXMurdmHPND9zsnTu5zHHEPaj3/1e3VfufyFc6/MzvONr2vuHjz3q/kGEyBAgAABAgQIJCEg0C3WRoFuMTejCBBIX0Cgm36PVUiAAAECBEohINBtjzbnAV7cQfvgHXPD6DHjwp7vnhbGrrdBFvR2D3Rj6DZhky3CI3fdnF0fP3HMfkd+OAvTqu3E/drMW7Nzdq+beW743Q2zw+Qpu4W9Dzs2bDZ5u+zr1cbk6+quGF9ffMevZvUIBmNo+0+nn5+tIYbHd8/9RTZ0qx33CDvvd1i4/ZeXhWt+/O3CTSka6PZnXZXh6hMP/O082Sl7HhDmzvpRl8CzP77xPNx51/4tZK3sSfe+5+F77FW8/zrj1ws77nNwZht7GPtywen/XDU4zwPkGLTectX/hKVLFocJG28eRq4ztktP8nA4znXNhWeHVxe9FLbfbb/O85fjGr//rx/vUnve0Dz0zf9/f85LLvyQGEiAAAECBAgQINDSAgLdYu0R6BZzM4oAgfQFBLrp91iFBAgQIECgFAIC3fZoc2XgmK84BqI//95/ZDtuuwd7MZw79MOfCdvtsk+XAlcuXxbuveXaMOvc03oUHsO2D5x0WhYQ5588AJxx6nfDppO2DdVesxsDvpHr/P21aBtNnNxrCBxred+n/63H2mJoeeV5Z1YNAhvtUtFAN85fdF1xXO6TrzM6z511QbjhsvM6l17EN849/eT/zHZIV/bkZ9/992z3brWd2d3XEnfsxldix2B3z4Onht524MbXPB8wbUYW/nZ/Bip3T08/+Yyw076HdF6T17vs1cXh8ONPyn6RYOZZp1RtW+UO3f976sf7vSu70WfDdQQIECBAgAABAu0hINAt1ieBbjE3owgQSF9AoJt+j1VIgAABAgRKISDQba82x1AwnlXb2zm13SuKr/uNn6WvLGro3NJa94gh8Z/nP9IQWAwiP3vWxVVfE51PEK+Ju4Dj576br21o3sG4qOi6os+Gm0+q61zEN5/7hWeeaqgHta5vtIf5M9Pbc5Y7dX+u4tfjp7fXZ8f5+/IMD0bf3YMAAQIECBAgQKA1BAS6xfog0C3mZhQBAukLCHTT77EKCRAgQIBAKQQEuqVoc1OKjDstVy5fGs7+lw9WnT8/a7X7ub9NWYxJCRAgQIAAAQIECBBIQkCgW6yNAt1ibkYRIJC+gEA3/R6rkAABAgQIlEJAoFuKNjelyPzs2HjmbuWrheMu0L0Of3/2et/4yuZagW8ji4qhcCOfB267vssaGhnjGgIECBAgQIAAAQIEWk9AoFusJwLdYm5GESCQvoBAN/0eq5AAAQIECJRCQKBbijY3pcgY3H7oC2eGCZtsXnX+eCbuzLO+1K8zUgW6TWmdSQkQIECAAAECBAi0rIBAt1hrBLrF3IwiQCB9AYFu+j1WIQECBAgQKIWAQLcUbW5qkfE81Ilb7hBGrjMmu89f5j8ann7k/obOem3qwkxOgAABAgQIECBAgEDbCdQKdNdcc82wxhprhNdff72hmtZaa62wevXq8MYbb1S9funSJQ3N05eLJkzYqOrl8efuhQsW9GWqPl8r0O0zmQEECJREQKBbkkYrkwABAgQIpC4g0E29w+ojQIAAAQIECBAgQIBA+wjUCnRHjhwZ9thjj3D77beH1157rdeC1l577bDXXnuFO++8MyxfvrzqtQLd9nkmrJQAAQL9ERDo9kfPWAIECBAgQKBlBAS6LdMKCyFAgAABAgQIECBAgEDpBXoLdN/1rneFV19dEubNqx3qxjB37733Cut0vEHoxhtvFOiW/okCQIBA2QUEumV/AtRPgAABAgQSERDoJtJIZRAgQIAAAQIECBAgQCABgXqBbiwxhrq33/7bsHLlyi4VDx8+vGNn7tuzMDd+BLoJPBBKIECAQD8FBLr9BDScAAECBAgQaA0BgW5r9MEqCBAgQIAAAQIECBAgQCCERgLd6LR06avZTt081B0xYkQW5o4evU4no0DXE0WAAAECAl3PAAECBAgQIJCEgEA3iTYqggABAgQIECBAgAABAkkI1Ap0Y3E77bRjmDhx8846Y6gbd+rGT3zN8qhRozu/9+yzz4T773+gpokzdJN4XBRBgACBugIC3bpELiBAgAABAgTaQUCg2w5dskYCBAgQIECAAAECBAiUQ6C3QDcKTJnylvCmN725E2PZsqVhjTXWCCNHjur82tNPPxUeeujhXsEEuuV4nlRJgAABga5ngAABAgQIEEhCQKCbRBsVQYAAAQIECBAgQIAAgSQE6gW6sci3vnVK2GKLN1Wtt5EwNw4U6CbxuCiCAAECdQUEunWJXECAAAECBAi0g4BAtx26ZI0ECBAgQIAAAQIECBAoh0AjgW6UeMtbdghvfvOkLiiNhrlxkEC3HM+TKgkQICDQ9QwQIECAAAECSQgIdJNooyIIECBAgAABAgQIECCQhECjgW4sdvvttw+TJ0/O6p4/f3545JFHGjYQ6DZM5UICBAi0tYBAt63bZ/EECBAgQIBALiDQ9SzUEnjbOw4L8x+8Kyx+8QVIBAgQIECAAAECBAgQGBSBvgS6cUEx1H399dfDH/7whz6tT6DbJy4XEyBAoG0FBLpt2zoLJ0CAAAECBCoFBLqeh2oC008+I+y07yHhqYfvDd//13+ENEQCBx5zQthxn4PD2f/ywSFagdsSIECAAAECBAgQGFyBvga6RVcn0C0qZxwBAgTaS0Cg2179sloCBAgQIECghoBA16Mh0G3dZ+Ck//pp2HTStuGUabu27iJbdGXH7LJp2H/rCeG82/4Y7n92cdVV7jRxXDhhnzfVrOCmPywMl93zlxat0LIIECBAgAABAmkKCHSL9XXEiJFhxYrlxQYbRYAAgYQFBLoJN1dpBAgQIECgTAIC3TJ1u2+1tvsrlzebvH046oQvhsfuuS3ccNl5fSu+D1fP+Mo5YcXSJWHmWaf0YVRjlwp0G3OqvGrTcSPCBR/ZJew1eb3syyf8z701Q9kY+p734Z1r3uQLsx4MP7j1j31fhBEECBAgQIAAAQKFBQS6xegEusXcjCJAIH0BgW76PVYhAQIECBAohYBAtxRtLmWRMZA+7nPfCHdcf3mYde5pTTM4Y9bd4S9PPdaU1yILdPvWttOP3D7M2HuLsM6ItcJTC5eGSRNGNxToXnj7n8Jnf/b7vt3M1QQIECBAgAABAk0REOgWYxXoFnMzigCB9AUEuun3WIUECBAgQKAUAgLdUrR50IqMIWr8vPDMU+HP8x+pe99tdt47jB47vuHr605YcUErB7p53XG59918bc2yGgl0x62/YVj84gs95ohfnzxlt+zr8x+8q+o11W4cdzZvuPmk7Fu9rS1+v/Lapa8sCo/fO68vLRrQa/Pdtr//8+Jw4k8fyF6l/JG9thDoDqiyyQgQIECAAAECzRcQ6BYzFugWczOKAIH0BQS66fdYhQQIECBAoBQCAt1StLnhIuNu0+6fWue3Vgamy19dEvY69JgwfOSozuHXzTy3x6uO84Dy/K99Orz3k/8rTNhk887rn3r43vD9f/3HHvfP19R9HbUC2/wetYq++NtfrhtU1gObduJXwp4HT615Wa1dwTHI/cBJp4Ux49fvHLty+bIw56Kzw7w5l/aYr1age+AxJ4RDpp8YFv71mfB/T/14j7B2+slnhJ32PaTLfPffel3V10Ln9/jOydPD+//537Mze/NPrfljWDzj1O92uTaOWbLoxfDQnb8J1//0+zUD5L0PPzbs+e5p4YHbrh/wV2HHUDc/8/Y773+rQLfeg+z7BAgQIECAAIEWFBDoFmuKQLeYm1EECKQvINBNv8cqJECAAAECpRAQ6JaizQ0Xme+wjQMOOe7ELHCtF+jGQHLlimXhtqt/Gn53w+ww5e3vCocff1IW7n7jhEO7BHt5eBjH3HvLteGJB+7M1pbfq1oQ2tdAN9/9OnHLHcL+Rx8fHu04Q/fuub/oNKi367QRrMqdqfG1zjH4vO7iczuHVtsRG8d86uvnZ9fMnXVBWPjcM2H0mHFhvyM/nDlXC5qrBbr1wtx4pu92u+wTYoD74B1zs/vtfdixYdIOO1d9/XRlT+Y/fE+45aqfhFcXvRQO/fBnOufpfj5wPuam2ReFZ598OLtHrGX73fcP49bboObrp6PBZ8+a2ekUg/1m7eoV6DbyJLuGAAECBAgQINB6AgLdYj0R6BZzM4oAgfQFBLrp91iFBAgQIECgFAIC3VK0WZEECBAgQIAAAQIECBAg0GSBCRM2qnqH+HP3wgULmnp3gW5TeU1OgEAbCwh027h5lk6AAAECBAj8XUCg62kgQIAAAQIECBAgQIAAAQL9FxDo9t/QDAQIEBhoAYHuQIuajwABAgQIEBgSAYHukLC7KQECBAgQIECAAAECBAgkJiDQTayhyiFAIAkBgW4SbVQEAQIECBAgIND1DBAgQIAAAQIECBAgQIAAgf4LCHT7b2gGAgQIDLSAQHegRc1HgAABAgQIDImAQHdI2N2UAAECBAgQIECAAAECBBITEOgm1lDlECCQhIBAN4k2KoIAAQIECBAQ6HoGCBAgQIAAAQIECBAgQIBA/wUEuv03NAMBAgQGWkCgO9Ci5iNAgAABAgSGRECgOyTsbkqAAAECBAgQIECAAAECiQkIdBNrqHIIEEhCQKCbRBsVQYAAAQIECAh0PQMECBAgQIAAAQIECBAgQKD/AgLd/huagQABAgMtINAdaFHzESBAgAABAkMiINAdEnY3JUCAAAECBAgQIECAAIHEBAS6iTVUOQQIJCEg0E2ijYogQIAAAQIEWiHQffHFF8Lq1as1gwABAgQIECBAgAABAgQItKXAGmusEdZff8Oqa48/dy9csKCpdY0YMTKsWLG8qfcwOQECBNpRQKDbjl2zZgIECBAgQKCHQCsEui+9tDCsWvWG7hAgQIAAAQIECBAgQIAAgbYUGDZszbDeehMEum3ZPYsmQCBlAYFuyt1VGwECBAgQKJFAKwS6ixe/FF577bUSqSuVAAECBAgQIECAAAECBFISWHvttcO4cesJdFNqqloIEEhCQKCbRBsVQYAAAQIECLRCoLts2ath6dJXNYMAAQIECBAgQIAAAQIECLSlwOjR64RRo9YR6LZl9yyaAIGUBQS6KXdXbQQIECBAoEQCrRDovvHG6+Hll18skbpSCRAgQIAAAQIECBAgQCAlgXXXXT+sueZaAt2UmqoWAgSSEBDoJtFGRRAgQIAAAQKtEOjGLrzyyqKwcuUKDSFAgAABAgQIECBAgAABAm0lMHz4iDB27Piaa44/dy9csKCpNY0YMTKsWLG8qfcwOQECBNpRQKDbjl2zZgIECBAgQKCHQKsEum+88UbHLt2FOkSAAAECBAgQIECAAAECBNpKYN11J3Tszl1ToNtWXbNYAgTKIiDQLUun1UmAAAECBBIXaJVANzLH3yZesmRx4uLKI0CAAAECBAgQIECAAIFUBMaMGRfi7tjePnboptJtdRAg0I4CAt127Jo1EyBAgAABAj0EWinQjYtbtuzVsHTpqzpFgAABAgQIECBAgAABAgRaWmD06DFh1KjRddco0K1L5AICBAg0TUCg2zRaExMgQIAAAQKDKdBqgW6s3U7dwXwC3IsAAQIECBAgQIAAAQIE+ioQz8yNZ+c28hHoNqLkGgIECDRHQKDbHFezEiBAgAABAoMs0IqBbiSIZ+rG3box3PUhQIAAAQIECBAgQIAAAQKtIBBfrzxq1Dq9npnbfZ0C3VbonDUQIFBWAYFuWTuvbgIECBAgkJhAqwa6OfOqVavCypUrsv/FkHf16lUd/1udWBeUQ4AAAQIECBAgQIAAAQKtJrDGGmuENdYYloW3cTdu/N+wYcP6vEyBbp/JDCBAgMCACQh0B4zSRAQIECBAgMBQCrR6oDuUNu5NgAABAgQIECBAgAABAgT6KyDQ7a+g8QQIECguINAtbmckAQIECBAg0EICgxnotlDZlkKAAAECBJIReP2118Jaa6+dTD0KIUCAAAECKQosXLCgqWXFV0E7sqipxCYnQKBNBQS6bdo4yyZAgAABAgS6CgxmoNvsH2D1lgABAgQIECBAgAABAgQItJqAHbqt1hHrIUCgTAIC3TJ1W60ECBAgQCBhAYFuws1VGgECBAgQIECAAAECBAgMuYBAd8hbYAEECJRYQKBb4uYrnQABAgQIpCQg0E2pm2ohQIAAAQIECBAgQIAAgVYTEOi2WkeshwCBMgkIdMvUbbUSIECAAIGEBQS6CTdXaQQIECBAgAABAgQIECAw5AIC3SFvgQUQIFBiAYFuiZuvdAIECBAgkJKAQDelbqqFAAECBAgQIECAAAECBFpNQKDbah2xHgIEyiQg0C1Tt9VKgAABAgQSFhDoJtxcpREgQIAAAQIECBAgQIDAkAsIdIe8BRZAgECJBQS6JW6+0gkQIECAQEoCAt2UuqkWAgQIECBAgAABAgQIEGg1AYFuq3XEeggQKJOAQLdM3VYrAQIECBBIWECgm3BzlUaAAAECBAgQIECAAAECQy4g0B3yFlgAAQIlFhDolrj5SidAgAABAikJCHRT6qZaCBAgQIAAAQIECBAgQKDVBAS6rdYR6yFAoEwCAt0ydVutBAgQIEAgYQGBbsLNVRoBAgQIECBAgAABAgQIDLmAQHfIW2ABBAiUWECgW+LmK50AAQIECKQkINBNqZtqIUCAAAECBAgQIECAAIFWExDotlpHrIcAgTIJCHTL1G21EiBAgACBhAUEugk3V2kECBAgQIAAAQIECBAgMOQCAt0hb4EFECBQYgGBbombr3QCBAgQIJCSgEA3pW6qhQABAgQIECBAgAABAgRaTUCg22odsR4CBMokINAtU7fVSoAAAQIEEhYQ6CbcXKURIECAAAECBAgQIECAwJALCHSHvAUWQIBAiQUEuiVuvtIJECBAgEBKAgLdlLqpFgIECBAgQIAAAQIECBBoNQGBbqt1xHoIECiTgEC3TN1WKwECBAgQSFhAoJtwc5VGgAABAgQIECBAgAABAkMuINAd8hZYAAECJRYQ6Ja4+UonQIAAAQIpCQh0U+qmWggQIECAAAECBAgQIECg1QQEuq3WEeshQKBMAgLdMnVbrQQIECBAIGEBgW7CzVUaAQIECBAgQIAAAQIECAy5gEB3yFtgAQQIlFhAoFvi5iudAAECBAikJCDQTambaiFAgAABAgQIECBAgACBVhMQ6LZaR6yHAIEyCQh0y9RttRIgQIAAgYQFBLoJN1dpBAgQIECAAAECBAgQIDDkAgLdIW+BBRAgUGIBgW6Jm690AgQIECCQkoBAN6VuqoUAAQIECBAgQIAAAQIEWk1AoNtqHbEeAgTKJCDQLVO31UqAAAECBBIWEOgm3FylESBAgAABAgQIECBAgMCQCwh0h7wFFkCAQIkFBLolbr7SCRAgQIBASgIC3ZS6qRYCBAgQIECAAAECBAgQaDUBgW6rdcR6CBAok4BAt0zdVisBAgQIEEhYQKCbcHOVRoAAAQIECBAgQIAAAQJDLiDQHfIWWAABAiUWEOiWuPlKJ0CAAAECKQkIdFPqploIECBAgAABAgQIECBAoNUEBLqt1hHrIUCgTAIC3TJ1W60ECBAgQCBhAYFuws3tY2n/8A9Tw+rVq8PVV1/Rx5EuJ0CAAAECBAgQIECAwOAIbDFp6zBu/HoN3ezlFxeE55/7c3ht5YqGrm/WRQLdZsmalwABAvUFBLr1jVxBgAABAgQItIGAQLcNmjQIS5w69f1hv/0OyO50yy1zw+WX/2wQ7uoWBAgQIECAAAECBAgQ6JvA+z/0ybDmWms1PGjVqlXhnjtvCY8/8vuGxwz0hQLdgRY1HwECBBoXEOg2buVKAgQIECBAoIUFUgp0J07colP62Wf/VFO9t+vGjRsfxo4dl41dsWJFWLDg+arzDB8+Imy44Uad33vllcVh8eJFDd2zct7K+/W25mY+Qsccc1zYe+/9utxCqNtMcXMTIECAAAECBAgQ6F1g04lvrnnBX559uiG+4cNHhgkbbpxdu7LjZ5uFC/7aY1x+nyWvLAqvLH65x/cr51j4wnNh5crlPa4ZO27dMGbs+Ozrja6toQJqXPSmjh26YxvcoTtq1Oiw5TY7hGHDhoU7bpsbnnz8of7cuvBYgW5hOgMJECDQbwGBbr8JTUCAAAECBAi0gkBKge4BBxwctthicsZ65523hUceebAH8fbbTwl77LFP9vWHH34g/O53t3e55qijjg3jx//tP0YsXbo0/PznP6naphgKH3jgYZ3fW7DghTBnTvVXFW+55TZh330PqHrt7rvvFXbYYcfsexdd9INBfySOO+4jYffd357dd86cq7J/Hn74kdk/5827JVx22cWDviY3JECAAAECBAgQIFB2gQ9+9MReCZ78wyPh3o6feaoFrPnAPfc9MGy59fbZ/40/21z5sx/1mPPd7zkmTNhgo/DXPz8T5v7qyh7fn/K2PcKOO++Rff3Rh+7r2Ol6a49r9nvXYWHzN20ZFi96OVxzxcyWa93Gm0wM7zr06PD666+HKy79UXj9tZWDvkaB7qCTuyEBAgQ6BQS6HgYCBAgQIEAgCYGUAt24a3bq1OPC8OFrVw1ju3//qqsu6/gPIH8/Synulj366GO79PWGG64N1XbOdg9046DZsy+tuku3MmiO11WGv0MZ6MZ1HXnk1Kzea66ZHX796+uyPx900CHhiCOOzv48e/bPw0033ZDEs64IAgQIECBAgAABAu0ikAe6MSR9rSKAHDV6TBg9enRWRr0Addpxn+j82SiO+dXVs3rs0t1lj33Ddm95W8fPRa+FWRf3/AXTA959VNhks82z+y3seHvRr66+rAfhUe//WLamGDLfcevA/+wQdxHvsfc7w+h1xvSpfU89+Vj43bzfdAS5r4UDD31v2GiTzcLNN84Jz/5xfp/mGYiLBboDoWgOAgQIFBMQ6BZzM4oAAQIECBBoMYGUAt1Iu9NOu4a3vW23TLn7DtzK8PTWWztet/Xk4126sc8++4etttouLFr0t1cnx526f/rT/DB37vU9ulYZ6Mbr47XVdvxWhsj5JK0S6O6//4EdAfb7wi9+cXm48cauNeah7qxZl4Rbb72pxZ5ayyFAgAABAgQIECCQtkAe6P7m+qt7vMa4ctfsXb+NZ8Pe3wNj0pbbhb3ecVD2i64vdrxqOe6gfeaPT4Zbbry2y7UxLH3nwe/JvlYt8M1D4XzQT398bpfx8XXL75k6Pfva7Tf/Ojz15KMD2pj4yud/eN/xWTBd5PPQA3eF++/+bXjbbnuHHd66S7j7jlvDYw/fV2Sqfo0R6PaLz2ACBAj0S0Cg2y8+gwkQIECAAIFWEUgt0I2u+WuT42+ZX375xdku3Lj79vDDp2b/IaDW65Hf974PZb9Z/sQTj3aMWZm9CjnOccklJpTktQAAFf9JREFUP+rRrspAN14fg+Bqr2jOX/Ec51nccSbVBhts2DI7dGNR6667Xnj55ZeqPo7RrLdzgVvlGbYOAgQIECBAgAABAqkJ9BboxlqPeO/0MG78ulVD2vj9/DXIcdfs8395Ngt3a+3CzUPbB+69Mzx4352dlHnYm+8Sjq9m7h7abrP9TmG3t++Xjeke9g5ET7bebkrYfa93hmee7gij53YNo3ubf931NwiHHXlsWNYRaM/ueNX0jjvvGaa8bfdw3123h4d/f/dALK1Pcwh0+8TlYgIECAyogEB3QDlNRoAAAQIECAyVQIqB7gYd/6Hh8MP/9srgfIdt5WuPq70auXJM3L27YsXyzjNyq+3mrQx077vvrs5dwXPmzO4IbJ/vbOfBBx8RNt10YvhLx39EWXvt4S0X6A7Vc+e+BAgQIECAAAECBAjUFqgX6OZn31Z7DXLlrtYYwP75mafDtOP+MbtZtV20+WuVu5+jm7+OOe7sjb/wGs/j7f5a5Tw4rvU65v72ON+N3D1srjfv6tUhHPexE8OqVavCpRd9vyPM/dtZwPffc0d46P7f1Rs+4N8X6A44qQkJECDQsIBAt2EqFxIgQIAAAQKtLJBioBu989cnxz/Hc3APPPCwrA3VXovc/fpLLrkw29X7gQ98LNvRG8PY66+/pksbKwPdOP9++x2UXVv5iubKM3nvvPO2MHnyNgLdVv7LYG0ECBAgQIAAAQIEWkSgXqDb2w7dartma4W2sdw87Oy+gzcPjWOYunLFimwnbvdze/Pzc/sauDbKXDTQjfPnhnHncH/maXStvV0n0B0IRXMQIECgmIBAt5ibUQQIECBAgECLCaQa6FY7uza+Evmqqy7Lwtrun/x1y5XhbeWu3jzkzcd1D3S32Wa7sMUWk7u8ornyPN84/qCDDhfottjzbzkECBAgQIAAAQIEWlGgP2foVgtvK0PeWRf/sOPnluWdZVeeg1t5jm6+hqsvn5ldm5+Vm4+vNW4gPfsTxAp0B7IT5iJAgED7Cgh027d3Vk6AAAECBAhUCKQa6MYS8/Nr83KrvTo5fm/LLbcJ++57QHZZ3En7yCMPZn+u9fX4ve6Bbvxavgs4v09+lm8eEh9++HsFuv72ESBAgAABAgQIECBQVyAPI/Pza/MBY8etl70ZKH6675aNX4uvW85fr3zXb28Jjz9yf3Ztra/n83bfaZufnxt/KfbKjjNo4yffFZy/tjkPiWudzVu3yAYuEOg2gPT/LxkxYmR2dJAPAQIECHQVEOh6IggQIECAAIEkBFIOdGOD8lB10aJF4corL63as8qduE888Wh2PlT+2WGHHbM/LljwQpgz54rOr3cPdJ999k8h3+UbX7t82203d7yy+SPZ9XlILNBN4q+MIggQIECAAAECBAg0XSAPdGvdKJ5le2/HL6NW7rSN1+YBaPxz9524+c7daufd5mfh5ufoVp6fe8uN12bL2HPfA7uco5uPiWfs5tcMNIxAt3FRgW7jVq4kQKBcAgLdcvVbtQQIECBAIFmB1APdaiFq92bmZ+XWa/Ls2ZeGxYsXZZdVC3R3332vEAPg+Fvs99xzR7brN/62+iWX/CgbI9CtJ+z7BAgQIECAAAECBAhEgTzQjWfTvrjg+Qxl/Q02CjvuvEf2599cf3X4y7NP98DKd9HWU4yvUX5l8cudl03acruw1zsOyn5+mXXxD0J+fm7lLt/8mnxncL6rt/Kaevft6/cFuo2LCXQbt3IlAQLlEhDolqvfqiVAgAABAskKlD3QrXytctxZu2TJki69HjNmTHY2bvzcd99d4f77787+XC3QHTdufDj66GOz78fXLG+66cQQ55w79/rsa60W6A4bNixMmrRlePLJP1R9vrfccuvw1FPzw6pVbyT7/CuMAAECBAgQIECAQCsK1DpDNw9aq71uufJM23o1xaD4wfvu7Lys8pXMMeztfl5uvLDWNd3D4Xr37sv3BbqNawl0G7dyJQEC5RIQ6Jar36olQIAAAQLJCpQ90K183fIll1zY8RvpK3r0Ot/BW/na5mqBbhyYv+I5n+SGG64N8XXM8VMv0I3XVvu88MLzVdfV34cy1n7kkVM7XiX9i3D99XO6THfQQYeGI444Klx11ayOQPrX/b2V8QQIECBAgAABAgQI9EGgVqCbn20bp+q+MzYPP3s70zZ/TXLl2bj5svLdvY8+dF/Y7i1vq3pGbx4o93ZNH8qse6lAty5R5wUC3catXEmAQLkEBLrl6rdqCRAgQIBAsgJlDnSHDx/Rec5t3FF7/fXXVO3zPvvsH7baarvse3PmzO44T/f5qjt04/e3335K2GOPfbJr438k+fnPf9I5Z71At9ZDVhkKD+SDuP/+B3bsKH5fNuXVV18Zbrjhl9mfDzzw0PCe9xyV/fnKK2eF3/xGoDuQ7uYiQIAAAQIECBAgUE+gVqAbx+WhavdQNn8Fcm9n2uavTY7z/OrqWWHhgr92LiU/NzfOO3r06BDP6b3j1hu6LDW/JobGw4evXfWaerX15fsDFehu/qYtQwyzb75xTnj2j/P7soQBuTb+3L1wwYIBmavWJALdpvKanACBNhYQ6LZx8yydAAECBAgQ+LtAmQPdyvD1zjtvC4888mDVR2ODjrOqDj/86Ox7TzzxaLjttptqBrqVIfHDDz8Qfve72zvnbLVANy7smGOOC3vvvV+2xquuurzjP8oMD4ce+p7s/8+bd0u47LKL/XUhQIAAAQIECBAgQGCQBXoLdCdssElHqDstW1HcKXvPnbeGyq/dfvOvw1NPPlpzxdOO+0TVMLZy928cXG2eRq4ZSKqige7q1SEc97ETw+qOP1xy4f8ZyCUVmkugW4jNIAIECAyIgEB3QBhNQoAAAQIECAy1QOqB7lD7tsP9K0PdfL3C3HbonDUSIECAAAECBAikKtBboBtrzl+dHHfK/uLnF4WdO94StOXW23cc1fJamHXxD3plqRzb/do87I0T/PTH51adp5FrBqovO7x1l/C23fYODz1wd7j/7r//smy9+ddaa61wzIc+GV5//fVw2U/+u97lTf++QLfpxG5AgACBmgICXQ8HAQIECBAgkISAQDeJNva7iKlT3x/22++AbJ5bbpkbLr/8Z/2e0wQECBAgQIAAAQIECBDoj8BGm0wMBx56dHaczROPVX+jUrX5x41fN7x58jbhuY6jdW68bnZ/ljAgYwW6A8JoEgIECBQSEOgWYjOIAAECBAgQaDUBgW6rdWTo1hPP1I2vJLv55huHbhHuTIAAAQIECBAgQIAAgQqB3d6+f9hm+7f22WTFiuXh+mtmhVcWv9znsQM9QKA70KLmI0CAQOMCAt3GrVxJgAABAgQItLCAQLeFm2NpBAgQIECAAAECBAgQKLlAPA93q212CKPWGdMniaeffCwseWVRn8Y062KBbrNkzUuAAIH6AgLd+kauIECAAAECBNpAQKDbBk2yRAIECBAgQIAAAQIECBBoWwGBbtu2zsIJEEhAQKCbQBOVQIAAAQIECIQg0PUUECBAgAABAgQIECBAgACB5gkIdJtna2YCBAjUExDo1hPyfQIECBAgQKAtBAS6bdEmiyRAgAABAgQIECBAgACBNhUQ6LZp4yybAIEkBAS6SbRREQQIECBAgIBA1zNAgAABAgQIECBAgAABAgSaJyDQbZ6tmQkQIFBPQKBbT8j3CRAgQIAAgbYQEOi2RZsskgABAgQIECBAgAABAgTaVECg26aNs2wCBJIQEOgm0UZFECBAgAABAgJdzwABAgQIECBAgAABAgQIEGiegEC3ebZmJkCAQD0BgW49Id8nQIAAAQIE2kJAoNsWbbJIAgQIECBAgAABAgQIEGhTAYFumzbOsgkQSEJAoJtEGxVBgAABAgQICHQ9AwQIECBAgAABAgQIECBAoHkCAt3m2ZqZAAEC9QQEuvWEfJ8AAQIECBBoCwGBblu0ySIJECBAgAABAgQIECBAoE0FBLpt2jjLJkAgCQGBbhJtVAQBAgQIECAg0PUMECBAgAABAgQIECBAgACB5gkIdJtna2YCBAjUExDo1hPyfQIECBAgQKAtBAS6bdEmiyRAgAABAgQIECBAgACBNhUQ6LZp4yybAIEkBAS6SbRREQQIECBAgIBA1zNAgAABAgQIECBAgAABAgSaJyDQbZ6tmQkQIFBPQKBbT8j3CRAgQIAAgbYQEOi2RZsskgABAgQIECBAgAABAgTaVECg26aNs2wCBJIQEOgm0UZFECBAgAABAgJdzwABAgQIECBAgAABAgQIEGiegEC3ebZmJkCAQD0BgW49Id8nQIAAAQIE2kJAoNsWbbJIAgQIECBAgAABAgQIEGhTAYFumzbOsgkQSEJAoJtEGxVBgAABAgQIDFagu976E8JLLy4EToAAAQIECBAgQIAAAQIESiOwxhohrLte838eHjFiZFixYnlpXBVKgACBRgUEuo1KuY4AAQIECBBoaYHBCnTHr7teeGXxorBq1aqW9rA4AgQIECBAgAABAgQIECAwUALD1hwWxo4dFxa9/PJATVl1HoFuU3lNToBAGwsIdNu4eZZOgAABAgQI/F1gsALdcePGh2XLlobXXnsNPwECBAgQIECAAAECBAgQKIXA8OHDw4iRIzt+wXlxU+sV6DaV1+QECLSxgEC3jZtn6QQIECBAgMDgB7ojO36AXXOttcKrS5bgJ0CAAAECBAgQIECAAAECpRBYZ8yY8Prrr4cVy5v7OmSBbikeJ0USIFBAQKBbAM0QAgQIECBAoPUEBmuH7rBha4bx647vOEf3pQ6E1a0HYUUECBAgQIAAAQIECBAgQGAABdboOEB3vfXXDy+/9FLTjx8S6A5g40xFgEBSAgLdpNqpGAIECBAgUF6BwQp0o/CYsWPD66+9HpYvX1ZecJUTIECAAAECBAgQIECAQCkERo8eHYYNGxaWDMKbqgS6pXikFEmAQAEBgW4BNEMIECBAgACB1hMYzEA3/iA7ft11w6KXF3X8dvIbrYdhRQQIECBAgAABAgQIECBAYAAE1lxrzTBu3PiO3bkvh9WrVw3AjL1PIdBtOrEbECDQpgIC3TZtnGUTIECAAAECXQUGM9CNdx4+YkSIv6UcQ93B+KFWvwkQIECAAAECBAgQIECAwGAK5L/MHHfmvrZy5aDcWqA7KMxuQoBAGwoIdNuwaZZMgAABAgQI9BQY7EA3rmDU6FFh5IhR4ZVXXgmvv/6athAgQIAAAQIECBAgQIAAgSQE1l577ey4oaVLl4YVy5cPWk0C3UGjdiMCBNpMQKDbZg2zXAIECBAgQKC6wFAEunElIzp26q4zZkx2nu6yjh90V6/WIQIECBAgQIAAAQIECBAg0L4C8Wfc+LPuko5fXl45SDtzcy2Bbvs+N1ZOgEBzBQS6zfU1OwECBAgQIDBIAkMV6Mby4muo4uuX11p7rbByxWvhtddXhlVvrApvvOF83UFqv9sQIECAAAECBAgQIECAQAGBNdZYIwxbc1hYc9iaHT/Trh2GDx8eXnttZccvLC8Lq1Y1/8zc7ksW6BZooiEECJRCQKBbijYrkgABAgQIpC8wlIFurjts2BrZD79rDx8R1uz4gXhYxw/E8YdjHwIECBAgQIAAAQIECBAg0IoCqzteM7Vq1Rsdv5C8quMXlFdkO3Lj14bqI9AdKnn3JUCg1QUEuq3eIesjQIAAAQIEGhJohUC3oYW6iAABAgQIECBAgAABAgQIEKgqIND1YBAgQKC6gEDXk0GAAAECBAgkISDQTaKNiiBAgAABAgQIECBAgACBEgsIdEvcfKUTINCrgEDXA0KAAAECBAgkISDQTaKNiiBAgAABAgQIECBAgACBEgsIdEvcfKUTICDQ9QwQIECAAAEC6QsIdNPvsQoJECBAgAABAgQIECBAIG0BgW7a/VUdAQLFBezQLW5nJAECBAgQINBCAgLdFmqGpRAgQIAAAQIECBAgQIAAgQICAt0CaIYQIFAKAYFuKdqsSAIECBAgkL6AQDf9HquQAAECBAgQIECAAAECBNIWEOim3V/VESBQXECgW9zOSAIECBAgQKCFBAS6LdQMSyFAgAABAgQIECBAgAABAgUEBLoF0AwhQKAUAgLdUrRZkQQIECBAIH0BgW76PVYhAQIECBAgQIAAAQIECKQtINBNu7+qI0CguIBAt7idkQQIECBAgEALCQh0W6gZlkKAAAECBAgQIECAAAECBAoICHQLoBlCgEApBAS6pWizIgkQIECAQPoCAt30e6xCAgQIECBAgAABAgQIEEhbQKCbdn9VR4BAcQGBbnE7IwkQIECAAIEWEhDotlAzLIUAAQIECBAgQIAAAQIECBQQEOgWQDOEAIFSCAh0S9FmRRIgQIAAgfQFBLrp91iFBAgQIECAAAECBAgQIJC2gEA37f6qjgCB4gIC3eJ2RhIgQIAAAQItJCDQbaFmWAoBAgQIECBAgAABAgQIECggINAtgGYIAQKlEBDolqLNiiRAgAABAukLCHTT77EKCRAgQIAAAQIECBAgQCBtAYFu2v1VHQECxQUEusXtjCRAgAABAgRaSECg20LNsBQCBAgQIECAAAECBAgQIFBAQKBbAM0QAgRKISDQLUWbFUmAAAECBNIXEOim32MVEiBAgAABAgQIECBAgEDaAgLdtPurOgIEigsIdIvbGUmAAAECBAi0kIBAt4WaYSkECBAgQIAAAQIECBAgQKCAgEC3AJohBAiUQkCgW4o2K5IAAQIECKQvINBNv8cqJECAAAECBAgQIECAAIG0BQS6afdXdQQIFBcQ6Ba3M5IAAQIECBBoIQGBbgs1w1IIECBAgAABAgQIECBAgEABAYFuATRDCBAohYBAtxRtViQBAgQIEEhfQKCbfo9VSIAAAQIECBAgQIAAAQJpCwh00+6v6ggQKC4g0C1uZyQBAgQIECDQQgIC3RZqhqUQIECAAAECBAgQIECAAIECAgLdAmiGECBQCgGBbinarEgCBAgQIJC+gEA3/R6rkAABAgQIECBAgAABAgTSFhDopt1f1REgUFxAoFvczkgCBAgQIECghQQEui3UDEshQIAAAQIECBAgQIAAAQIFBAS6BdAMIUCgFAIC3VK0WZEECBAgQCB9AYFu+j1WIQECBAgQIECAAAECBAikLSDQTbu/qiNAoLiAQLe4nZEECBAgQIBACwkIdFuoGZZCgAABAgQIECBAgAABAgQIECBAgMCACQh0B4zSRAQIECBAgMBQCgh0h1LfvQkQIECAAAECBAgQIECAAAECBAgQaJaAQLdZsuYlQIAAAQIEBlVAoDuo3G5GgAABAgQIECBAgAABAgQIECBAgMAgCQh0BwnabQgQIECAAIHmCgh0m+trdgIECBAgQIAAAQIECBAgQIAAAQIEhkZAoDs07u5KgAABAgQIDLCAQHeAQU1HgAABAgQIECBAgAABAgQIECBAgEBLCAh0W6INFkGAAAECBAj0V0Cg219B4wkQIECAAAECBAgQIECAAAECBAgQaEWB/wd5ScMM+WwFMQAAAABJRU5ErkJggg==)"
      ],
      "metadata": {
        "id": "3zgSIcfsUcuW"
      }
    },
    {
      "cell_type": "markdown",
      "source": [
        "![image.png](data:image/png;base64,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)"
      ],
      "metadata": {
        "id": "HThCskGQ8qGS"
      }
    }
  ]
}