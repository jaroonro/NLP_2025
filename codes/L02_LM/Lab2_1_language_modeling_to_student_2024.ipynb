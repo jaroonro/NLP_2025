{
  "cells": [
    {
      "cell_type": "markdown",
      "metadata": {
        "collapsed": true,
        "id": "15QfB7RAuXAc"
      },
      "source": [
        "# Language Modeling using Ngram"
      ]
    },
    {
      "cell_type": "markdown",
      "metadata": {
        "id": "gucid6KNuXAe"
      },
      "source": [
        "In this Exercise, we are going to create a bigram language model and its variation. We will build one model for each of the following type and calculate their perplexity:\n",
        "- Unigram Model\n",
        "- Bigram Model\n",
        "- Bigram Model with Laplace smoothing\n",
        "- Bigram Model with Interpolation\n",
        "- Bigram Model with Kneser-ney Interpolation\n",
        "\n",
        "We will also use NLTK which is a natural language processing library for python to make our lives easier.\n",
        "\n"
      ]
    },
    {
      "cell_type": "code",
      "execution_count": 1,
      "metadata": {
        "colab": {
          "base_uri": "https://localhost:8080/"
        },
        "id": "MRRrn78ZjL54",
        "outputId": "1deac04a-3d74-4749-94dc-d400abdd7a9a"
      },
      "outputs": [
        {
          "name": "stdout",
          "output_type": "stream",
          "text": [
            "--2025-05-29 12:45:15--  https://github.com/ekapolc/nlp_2019/raw/master/HW4/BEST2010.zip\n",
            "Resolving github.com (github.com)... 140.82.112.4\n",
            "Connecting to github.com (github.com)|140.82.112.4|:443... connected.\n",
            "HTTP request sent, awaiting response... 302 Found\n",
            "Location: https://raw.githubusercontent.com/ekapolc/nlp_2019/master/HW4/BEST2010.zip [following]\n",
            "--2025-05-29 12:45:15--  https://raw.githubusercontent.com/ekapolc/nlp_2019/master/HW4/BEST2010.zip\n",
            "Resolving raw.githubusercontent.com (raw.githubusercontent.com)... 185.199.108.133, 185.199.111.133, 185.199.110.133, ...\n",
            "Connecting to raw.githubusercontent.com (raw.githubusercontent.com)|185.199.108.133|:443... connected.\n",
            "HTTP request sent, awaiting response... 200 OK\n",
            "Length: 7423530 (7.1M) [application/zip]\n",
            "Saving to: ‘BEST2010.zip’\n",
            "\n",
            "BEST2010.zip        100%[===================>]   7.08M  --.-KB/s    in 0.1s    \n",
            "\n",
            "2025-05-29 12:45:16 (70.5 MB/s) - ‘BEST2010.zip’ saved [7423530/7423530]\n",
            "\n",
            "Archive:  BEST2010.zip\n",
            "   creating: BEST2010/\n",
            "  inflating: BEST2010/article.txt    \n",
            "  inflating: BEST2010/encyclopedia.txt  \n",
            "  inflating: BEST2010/news.txt       \n"
          ]
        }
      ],
      "source": [
        "# #download corpus\n",
        "!wget --no-check-certificate https://github.com/ekapolc/nlp_2019/raw/master/HW4/BEST2010.zip\n",
        "!unzip BEST2010.zip"
      ]
    },
    {
      "cell_type": "code",
      "execution_count": 2,
      "metadata": {
        "colab": {
          "base_uri": "https://localhost:8080/"
        },
        "id": "qeyvLSptdKXj",
        "outputId": "c4620ba5-1401-400e-b6aa-ef23a5abdb02"
      },
      "outputs": [
        {
          "name": "stdout",
          "output_type": "stream",
          "text": [
            "--2025-05-29 12:45:17--  https://www.dropbox.com/s/jajdlqnp5h0ywvo/tokenized_wiki_sample.csv\n",
            "Resolving www.dropbox.com (www.dropbox.com)... 162.125.3.18, 2620:100:6018:18::a27d:312\n",
            "Connecting to www.dropbox.com (www.dropbox.com)|162.125.3.18|:443... connected.\n",
            "HTTP request sent, awaiting response... 302 Found\n",
            "Location: https://www.dropbox.com/scl/fi/88uzig0mno1b57d6bhwht/tokenized_wiki_sample.csv?rlkey=oya9jw1rljj31jc49fvoaty01 [following]\n",
            "--2025-05-29 12:45:17--  https://www.dropbox.com/scl/fi/88uzig0mno1b57d6bhwht/tokenized_wiki_sample.csv?rlkey=oya9jw1rljj31jc49fvoaty01\n",
            "Reusing existing connection to www.dropbox.com:443.\n",
            "HTTP request sent, awaiting response... 302 Found\n",
            "Location: https://uc25bfdf396c5b8e9d165adc5af1.dl.dropboxusercontent.com/cd/0/inline/Cql0E65k3AuVeWGtn_EyFyVOoDT8gXzwVW8N6oKpaXIuf2STz1IfWw3JmtXFpfnSGTskKR2MzmyaPJk5cB-NeHrv0NwelOKJqOzuO6nEpNK12pEq-0JnqLjQKmgO_U4xylvZ9xpJDfRv371_EJgKa-Hv/file# [following]\n",
            "--2025-05-29 12:45:18--  https://uc25bfdf396c5b8e9d165adc5af1.dl.dropboxusercontent.com/cd/0/inline/Cql0E65k3AuVeWGtn_EyFyVOoDT8gXzwVW8N6oKpaXIuf2STz1IfWw3JmtXFpfnSGTskKR2MzmyaPJk5cB-NeHrv0NwelOKJqOzuO6nEpNK12pEq-0JnqLjQKmgO_U4xylvZ9xpJDfRv371_EJgKa-Hv/file\n",
            "Resolving uc25bfdf396c5b8e9d165adc5af1.dl.dropboxusercontent.com (uc25bfdf396c5b8e9d165adc5af1.dl.dropboxusercontent.com)... 162.125.3.15, 2620:100:6018:15::a27d:30f\n",
            "Connecting to uc25bfdf396c5b8e9d165adc5af1.dl.dropboxusercontent.com (uc25bfdf396c5b8e9d165adc5af1.dl.dropboxusercontent.com)|162.125.3.15|:443... connected.\n",
            "HTTP request sent, awaiting response... 200 OK\n",
            "Length: 4399477 (4.2M) [text/plain]\n",
            "Saving to: ‘tokenized_wiki_sample.csv’\n",
            "\n",
            "tokenized_wiki_samp 100%[===================>]   4.20M  --.-KB/s    in 0.09s   \n",
            "\n",
            "2025-05-29 12:45:18 (44.8 MB/s) - ‘tokenized_wiki_sample.csv’ saved [4399477/4399477]\n",
            "\n"
          ]
        }
      ],
      "source": [
        "!wget https://www.dropbox.com/s/jajdlqnp5h0ywvo/tokenized_wiki_sample.csv"
      ]
    },
    {
      "cell_type": "code",
      "execution_count": 3,
      "metadata": {
        "id": "GjJDeG03uXAf"
      },
      "outputs": [],
      "source": [
        "#First we import necessary library such as math, nltk, bigram, and collections.\n",
        "import math\n",
        "import nltk\n",
        "import io\n",
        "import random\n",
        "from random import shuffle\n",
        "from nltk import bigrams, trigrams\n",
        "from collections import Counter, defaultdict\n",
        "random.seed(999)"
      ]
    },
    {
      "cell_type": "markdown",
      "metadata": {
        "id": "HugXBHNEuXAh"
      },
      "source": [
        "BEST2010 is a free Thai NLP dataset by NECTEC usually used as a standard benchmark for various NLP tasks including language modeling. It is separated into 4 domains including article, encyclopedia, news, and novel. The data is already  tokenized using '|' as a separator.\n",
        "\n",
        "For example,\n",
        "\n",
        "ตาม|ที่|นางประนอม ทองจันทร์| |กับ| |ด.ช.กิตติพงษ์ แหลมผักแว่น| |และ| |ด.ญ.กาญจนา กรองแก้ว| |ป่วย|สงสัย|ติด|เชื้อ|ไข้|ขณะ|นี้|ยัง|ไม่|ดี|ขึ้น|"
      ]
    },
    {
      "cell_type": "code",
      "execution_count": 6,
      "metadata": {
        "id": "iu-AJSZZuXAi"
      },
      "outputs": [],
      "source": [
        "total_word_count = 0\n",
        "best2010 = []\n",
        "with open('BEST2010/news.txt','r',encoding='utf-8') as f:\n",
        "  for i,line in enumerate(f):\n",
        "    line=line.strip()[:-1] #remove the trailing |\n",
        "    total_word_count += len(line.split(\"|\"))\n",
        "    best2010.append(line)"
      ]
    },
    {
      "cell_type": "code",
      "execution_count": 7,
      "metadata": {
        "colab": {
          "base_uri": "https://localhost:8080/"
        },
        "id": "3WfpGgbruXAj",
        "outputId": "e70e1e35-05cc-447f-a926-b05750452247"
      },
      "outputs": [
        {
          "name": "stdout",
          "output_type": "stream",
          "text": [
            "Total sentences in BEST2010 news dataset :\t30969\n",
            "Total word counts in BEST2010 news dataset :\t1660190\n"
          ]
        }
      ],
      "source": [
        "#For simplicity, we assumes that each line is a sentence.\n",
        "print (f'Total sentences in BEST2010 news dataset :\\t{len(best2010)}')\n",
        "print (f'Total word counts in BEST2010 news dataset :\\t{total_word_count}')"
      ]
    },
    {
      "cell_type": "markdown",
      "metadata": {
        "id": "_JD9iXF1uXAm"
      },
      "source": [
        "We separate the input into 2 sets, train and test data with 70:30 ratio"
      ]
    },
    {
      "cell_type": "code",
      "execution_count": 8,
      "metadata": {
        "colab": {
          "base_uri": "https://localhost:8080/"
        },
        "id": "_WGcQq_juXAm",
        "outputId": "6e083854-cf4d-4a4f-96ac-08353e8b30cd"
      },
      "outputs": [
        {
          "name": "stdout",
          "output_type": "stream",
          "text": [
            "Total sentences in BEST2010 news training dataset :\t21678\n",
            "Total word counts in BEST2010 news training dataset :\t1042797\n"
          ]
        }
      ],
      "source": [
        "sentences = best2010\n",
        "# The data is separated to train and test set with 70:30 ratio.\n",
        "train = sentences[:int(len(sentences)*0.7)]\n",
        "test = sentences[int(len(sentences)*0.7):]\n",
        "\n",
        "#Training data\n",
        "train_word_count =0\n",
        "for line in train:\n",
        "    for word in line.split('|'):\n",
        "        train_word_count+=1\n",
        "print ('Total sentences in BEST2010 news training dataset :\\t'+ str(len(train)))\n",
        "print ('Total word counts in BEST2010 news training dataset :\\t'+ str(train_word_count))"
      ]
    },
    {
      "cell_type": "markdown",
      "metadata": {
        "id": "17x6tW-3ae7Z"
      },
      "source": [
        "Here we load the data from Wikipedia which is also already tokenized. It will be used for answering questions in MyCourseville."
      ]
    },
    {
      "cell_type": "code",
      "execution_count": 9,
      "metadata": {
        "id": "0fAl6dTg_9HG"
      },
      "outputs": [],
      "source": [
        "import pandas as pd\n",
        "wiki_data = pd.read_csv(\"tokenized_wiki_sample.csv\")"
      ]
    },
    {
      "cell_type": "markdown",
      "metadata": {
        "id": "H1W5bm-hbQXa"
      },
      "source": [
        "## Data Preprocessing\n",
        "\n",
        "Before training any language models, the first step we always do is process the data into the format suited for the LM.\n",
        "\n",
        "For this exercise, we will use NLTK to help process our data."
      ]
    },
    {
      "cell_type": "code",
      "execution_count": 10,
      "metadata": {
        "id": "4OIqxJB7P29D"
      },
      "outputs": [],
      "source": [
        "from nltk.lm.preprocessing import pad_both_ends, flatten\n",
        "from nltk.lm.vocabulary import Vocabulary\n",
        "from nltk import ngrams"
      ]
    },
    {
      "cell_type": "markdown",
      "metadata": {
        "id": "Oy0ZN2_0bzRr"
      },
      "source": [
        "We begin by \"tokenizing\" our training set. Note that the data is already tokenized so we can just split it."
      ]
    },
    {
      "cell_type": "code",
      "execution_count": 11,
      "metadata": {
        "id": "WQM0PXnXbzCN"
      },
      "outputs": [],
      "source": [
        "tokenized_train = [[\"<s>\"] + t.split(\"|\") + [\"</s>\"] for t in train] # \"tokenize\" and pad each sentence"
      ]
    },
    {
      "cell_type": "markdown",
      "metadata": {
        "id": "TM2ylNRNcrg9"
      },
      "source": [
        "Next we create a vocabulary with the ```Vocabulary``` class from NLTK. It accepts a list of tokens so we flatten our sentences into one long sentence first.\n",
        "\n",
        "\n",
        "\n",
        "\n",
        "\n"
      ]
    },
    {
      "cell_type": "code",
      "execution_count": 12,
      "metadata": {
        "id": "Tbp-VmkHcq4d"
      },
      "outputs": [],
      "source": [
        "flat_tokens = list(flatten(tokenized_train)) #join all sentences into one long sentence\n",
        "vocab = Vocabulary(flat_tokens, unk_cutoff=3) #Words with frequency **below** 3 (not exactly 3) will not be considered in our vocab and will be converted to <UNK>."
      ]
    },
    {
      "cell_type": "markdown",
      "metadata": {
        "id": "oFnBHe6ScAaV"
      },
      "source": [
        "Then we replace low frequency words.\n",
        "\n",
        "Now *each* sentence is going to look something like this:\n",
        "\\[\"\\<s\\>\", \"hello\", \"my\", \"name\", \"is\", \"\\<UNK\\>\", \"\\</s\\>\" \\]"
      ]
    },
    {
      "cell_type": "code",
      "execution_count": 13,
      "metadata": {
        "id": "9q6QakuibxqN"
      },
      "outputs": [],
      "source": [
        "tokenized_train = [[token if token in vocab else \"<UNK>\" for token in sentence] for sentence in tokenized_train]"
      ]
    },
    {
      "cell_type": "markdown",
      "metadata": {
        "id": "Dn6GxaSFeSpD"
      },
      "source": [
        "Finally, we do the same for the test set and the wiki dataset."
      ]
    },
    {
      "cell_type": "code",
      "execution_count": 14,
      "metadata": {
        "id": "D4N6qKrPadIj"
      },
      "outputs": [],
      "source": [
        "tokenized_test = [t.split(\"|\") for t in test]\n",
        "tokenized_test = [[token if token in vocab else \"<UNK>\" for token in sentence] for sentence in tokenized_test]\n",
        "\n",
        "tokenized_wiki_test = [t.split(\"|\") for t in wiki_data['tokenized'].tolist()]\n",
        "tokenized_wiki_test = [[token if token in vocab else \"<UNK>\" for token in sentence] for sentence in tokenized_wiki_test]"
      ]
    },
    {
      "cell_type": "markdown",
      "metadata": {
        "id": "pHtCMFMluXAo"
      },
      "source": [
        "# Unigram"
      ]
    },
    {
      "cell_type": "markdown",
      "metadata": {
        "id": "2V1WQTGzuXAp"
      },
      "source": [
        "In this section, we will demonstrate how to build a unigram language model <br>\n",
        "**Important note:** <br>\n",
        "**\\<s\\>** = sentence start symbol <br>\n",
        "**\\</s\\>** = sentence end symbol"
      ]
    },
    {
      "cell_type": "markdown",
      "metadata": {
        "id": "Xd7qOd7KAYWM"
      },
      "source": [
        "# VERY IMPORTANT:\n",
        "- In this notebook, we will *not* default the unknown token probability to ```1/len(vocab)``` but instead will treat it as a normal word and let the model learn its probability so that we can compare our results to NLTK.\n",
        "- **Also make sure that the code in this notebook can be executed without any problem. If we find that you used NLTK to answer questions in MyCourseVille and did not finish the assignment, you will receive a grade of 0 for this assignment.**"
      ]
    },
    {
      "cell_type": "code",
      "execution_count": 23,
      "metadata": {
        "id": "CTV-i9kdse58"
      },
      "outputs": [],
      "source": [
        "class UnigramModel():\n",
        "  def __init__(self, data, vocab):\n",
        "    self.unigram_count = defaultdict(lambda: 0.0)\n",
        "    self.word_count = 0\n",
        "    self.vocab = vocab\n",
        "    for sentence in data:\n",
        "        for w in sentence: #[(word1, ), (word2, ), (word3, )...]\n",
        "          w = w[0]\n",
        "          self.unigram_count[w] +=1.0\n",
        "          self.word_count+=1\n",
        "\n",
        "  def __getitem__(self, w):\n",
        "    w = w[0]  #[(word1, ), (word2, ), (word3, )...]\n",
        "    if w in self.vocab:\n",
        "      return self.unigram_count[w]/(self.word_count)\n",
        "    else:\n",
        "      return self.unigram_count[\"<UNK>\"]/(self.word_count)"
      ]
    },
    {
      "cell_type": "code",
      "execution_count": 16,
      "metadata": {
        "id": "FnWJJ8Hqs8Qs"
      },
      "outputs": [],
      "source": [
        "train_unigrams = [list(ngrams(sent, n=1)) for sent in tokenized_train] #creating the unigrams by setting n=1\n",
        "model = UnigramModel(train_unigrams, vocab)"
      ]
    },
    {
      "cell_type": "code",
      "execution_count": 17,
      "metadata": {
        "id": "6coGxSY7uXAt"
      },
      "outputs": [],
      "source": [
        "def getLnValue(x):\n",
        "      if x == 0:\n",
        "        return -math.inf\n",
        "      return math.log(x)"
      ]
    },
    {
      "cell_type": "code",
      "execution_count": 18,
      "metadata": {
        "colab": {
          "base_uri": "https://localhost:8080/"
        },
        "id": "cFy8yhZjuXAv",
        "outputId": "0b0700bb-e5df-4f63-b1ef-068cc2933f18"
      },
      "outputs": [
        {
          "name": "stdout",
          "output_type": "stream",
          "text": [
            "-6.571687039690381\n",
            "-3.952132570275872\n",
            "Problability of a sentence 4.877889285183675e-18\n"
          ]
        }
      ],
      "source": [
        "#problability of 'นายก'\n",
        "print(getLnValue(model[('นายก',)]))\n",
        "\n",
        "#for example, problability of 'นายกรัฐมนตรี' which is an unknown word is equal to\n",
        "print(getLnValue(model[('นายกรัฐมนตรี',)]))\n",
        "\n",
        "#problability of 'นายก' 'ได้' 'ให้' 'สัมภาษณ์' 'กับ' 'สื่อ'\n",
        "prob = getLnValue(model[('นายก',)])+getLnValue(model[('ได้',)])+ getLnValue(model[('ให้',)])+getLnValue(model[('สัมภาษณ์',)])+getLnValue(model[('กับ',)])+getLnValue(model[('สื่อ',)])+getLnValue(model[('</s>',)])\n",
        "print ('Problability of a sentence', math.exp(prob))"
      ]
    },
    {
      "cell_type": "markdown",
      "metadata": {
        "id": "D8EfqnDsuXAw"
      },
      "source": [
        "# Perplexity\n",
        "\n",
        "In order to compare language model we need to calculate perplexity. In this task you should write a perplexity calculation code for the unigram model. The result perplexity should be around 448.90 and\n",
        "392.74 on train and test data."
      ]
    },
    {
      "cell_type": "markdown",
      "metadata": {
        "id": "hZHQ-6tVuXAx"
      },
      "source": [
        "## TODO #1 Calculate perplexity"
      ]
    },
    {
      "cell_type": "code",
      "execution_count": 47,
      "metadata": {
        "id": "kh0DwzoouXAx"
      },
      "outputs": [],
      "source": [
        "def getLnValue(x):\n",
        "    if x == 0:\n",
        "        return -math.inf\n",
        "    return math.log(x)\n",
        "\n",
        "def calculate_sentence_ln_prob(sentence, model):\n",
        "    return sum(getLnValue(model[word]) for word in sentence)\n",
        "\n",
        "def perplexity(test, model):\n",
        "    total_ln_prob = 0\n",
        "    total_words = 0\n",
        "    for sentence in test:\n",
        "        total_ln_prob += calculate_sentence_ln_prob(sentence, model)\n",
        "        total_words += len(sentence)\n",
        "    return math.exp(-total_ln_prob / total_words)"
      ]
    },
    {
      "cell_type": "code",
      "execution_count": 26,
      "metadata": {
        "id": "X-t_8mEzRxT-"
      },
      "outputs": [],
      "source": [
        "test_unigrams = [list(ngrams(sent, n=1)) for sent in tokenized_test]"
      ]
    },
    {
      "cell_type": "code",
      "execution_count": 30,
      "metadata": {
        "colab": {
          "base_uri": "https://localhost:8080/"
        },
        "id": "PztVYprdtBja",
        "outputId": "b9e1e8ac-6f77-43e4-f26f-6f7ef8137020"
      },
      "outputs": [
        {
          "name": "stdout",
          "output_type": "stream",
          "text": [
            "448.89690751824827\n",
            "392.74028966757214\n"
          ]
        }
      ],
      "source": [
        "print(perplexity(train_unigrams,model))\n",
        "print(perplexity(test_unigrams,model))"
      ]
    },
    {
      "cell_type": "markdown",
      "metadata": {
        "id": "PHnBXtt3b-OY"
      },
      "source": [
        "## Q1 MCV\n",
        "Calculate the perplexity of the model on the wiki test set and answer in MyCourseVille"
      ]
    },
    {
      "cell_type": "code",
      "execution_count": 31,
      "metadata": {
        "id": "JRd6hF_WSBl_"
      },
      "outputs": [],
      "source": [
        "wiki_test_unigrams = [list(ngrams(sent, n=1)) for sent in tokenized_wiki_test]"
      ]
    },
    {
      "cell_type": "code",
      "execution_count": 32,
      "metadata": {
        "colab": {
          "base_uri": "https://localhost:8080/"
        },
        "id": "I_LiSohADNLC",
        "outputId": "e4e56465-a28b-4bae-ac3d-7924c232a6b6"
      },
      "outputs": [
        {
          "name": "stdout",
          "output_type": "stream",
          "text": [
            "485.7336366066887\n"
          ]
        }
      ],
      "source": [
        "print(perplexity([list(flatten(wiki_test_unigrams))], model))"
      ]
    },
    {
      "cell_type": "markdown",
      "metadata": {
        "id": "lK0gaMf0uXA2"
      },
      "source": [
        "# Bigram"
      ]
    },
    {
      "cell_type": "markdown",
      "metadata": {
        "id": "dmTkAY_QuXA3"
      },
      "source": [
        "Next, you will create a better language model than a unigram (which is not much to compare with). But first, it is very tedious to count every pair of words that occur in our corpus by ourselves. Lucky for us, nltk provides us a simple library which will simplify the process."
      ]
    },
    {
      "cell_type": "code",
      "execution_count": 33,
      "metadata": {
        "colab": {
          "base_uri": "https://localhost:8080/"
        },
        "id": "Lv6r2LJ1uXA4",
        "outputId": "c71db6cb-adf3-41e3-89cd-53df93a78b02"
      },
      "outputs": [
        {
          "name": "stdout",
          "output_type": "stream",
          "text": [
            "This is how nltk generate bigram.\n",
            "<s> I\n",
            "I always\n",
            "always search\n",
            "search google\n",
            "google for\n",
            "for an\n",
            "an answer\n",
            "answer .\n",
            ". </s>\n",
            "\n",
            "<s> and </s> are used as a start and end of sentence symbol. respectively.\n"
          ]
        }
      ],
      "source": [
        "#example of nltk usage for bigram\n",
        "sentence = 'I always search google for an answer .'\n",
        "padded_sentence = list(pad_both_ends(sentence.split(), n=2))\n",
        "\n",
        "print('This is how nltk generate bigram.')\n",
        "for w1,w2 in bigrams(padded_sentence):\n",
        "    print(w1,w2)\n",
        "print('\\n<s> and </s> are used as a start and end of sentence symbol. respectively.')"
      ]
    },
    {
      "cell_type": "markdown",
      "metadata": {
        "id": "5R2T-6i9uXA6"
      },
      "source": [
        "Now, you should be able to implement a bigram model by yourself. Also, you must create a new perplexity calculation for bigram. The result perplexity should be around 56.46 and inf on train and test data."
      ]
    },
    {
      "cell_type": "markdown",
      "metadata": {
        "id": "9aYkjzTzuXA7"
      },
      "source": [
        "## TODO #3 Write Bigram Model"
      ]
    },
    {
      "cell_type": "code",
      "execution_count": 42,
      "metadata": {
        "id": "l4s7oSmjkNuU"
      },
      "outputs": [],
      "source": [
        "class BigramModel():\n",
        "    def __init__(self, data, vocab):\n",
        "        self.bigram_count = defaultdict(lambda: 0.0)\n",
        "        self.unigram_count = defaultdict(lambda: 0.0)\n",
        "        self.vocab = vocab\n",
        "\n",
        "        for sentence in data:\n",
        "            for w1, w2 in sentence:\n",
        "                self.bigram_count[(w1, w2)] += 1.0\n",
        "                self.unigram_count[w1] += 1.0\n",
        "\n",
        "            self.unigram_count[sentence[-1][-1]] += 1.0\n",
        "\n",
        "    def __getitem__(self, bigram):\n",
        "        w1, w2 = bigram\n",
        "\n",
        "        bigram_count = self.bigram_count[(w1, w2)]\n",
        "        unigram_count = self.unigram_count[w1]\n",
        "\n",
        "        return bigram_count / unigram_count"
      ]
    },
    {
      "cell_type": "markdown",
      "metadata": {
        "id": "i3_Cgu6guXA-"
      },
      "source": [
        "## TODO #4 Write Perplexity for Bigram Model\n",
        "\n",
        "Sum perplexity score at a sentence level, instead of word level"
      ]
    },
    {
      "cell_type": "code",
      "execution_count": 54,
      "metadata": {
        "id": "hICoAhZjAxo1"
      },
      "outputs": [],
      "source": [
        "def calculate_bigram_ln_prob(sentence, model):\n",
        "    prob = 0\n",
        "    for bigram in sentence:\n",
        "        prob += getLnValue(model[bigram]) if model[bigram] != 0 else float('-inf')\n",
        "    return prob\n",
        "\n",
        "\n",
        "def perplexity(bigram_data, model):\n",
        "    total_ln_prob = 0.0\n",
        "    total_bigrams = 0\n",
        "\n",
        "    for sentence in bigram_data:\n",
        "        total_ln_prob += calculate_bigram_ln_prob(sentence, model)\n",
        "        total_bigrams += len(sentence)\n",
        "\n",
        "    if total_bigrams == 0:\n",
        "        return float('inf')\n",
        "\n",
        "    return math.exp(-total_ln_prob / total_bigrams)"
      ]
    },
    {
      "cell_type": "code",
      "execution_count": 49,
      "metadata": {
        "id": "NxJYI3_TS2gf"
      },
      "outputs": [],
      "source": [
        "train_bigrams = [list(ngrams(sent, n=2)) for sent in tokenized_train]\n",
        "test_bigrams = [list(ngrams(sent, n=2)) for sent in tokenized_test]"
      ]
    },
    {
      "cell_type": "code",
      "execution_count": 50,
      "metadata": {
        "id": "A4DD_RPFtxUo"
      },
      "outputs": [],
      "source": [
        "bigram_model_scratch = BigramModel(train_bigrams, vocab)"
      ]
    },
    {
      "cell_type": "code",
      "execution_count": 55,
      "metadata": {
        "colab": {
          "base_uri": "https://localhost:8080/"
        },
        "id": "yw4BubpbtuV7",
        "outputId": "5ff20aa9-00a6-4230-aebe-5010affee56b"
      },
      "outputs": [
        {
          "name": "stdout",
          "output_type": "stream",
          "text": [
            "56.45504870219316\n",
            "24.598691603876187\n",
            "inf\n"
          ]
        }
      ],
      "source": [
        "print(perplexity([list(flatten(train_bigrams))], bigram_model_scratch))\n",
        "print(perplexity([list(flatten(test_bigrams))[:16]], bigram_model_scratch)) #can be used to compare with nltk\n",
        "print(perplexity([list(flatten(test_bigrams))], bigram_model_scratch))"
      ]
    },
    {
      "cell_type": "markdown",
      "metadata": {
        "id": "PRv294uQcZFC"
      },
      "source": [
        "## Q2 MCV"
      ]
    },
    {
      "cell_type": "code",
      "execution_count": 56,
      "metadata": {
        "id": "kCeRCyOIUWTS"
      },
      "outputs": [],
      "source": [
        "wiki_test_bigrams = [list(ngrams(sent, n=2)) for sent in tokenized_wiki_test]"
      ]
    },
    {
      "cell_type": "code",
      "execution_count": 57,
      "metadata": {
        "colab": {
          "base_uri": "https://localhost:8080/"
        },
        "id": "q47hutRqIg1z",
        "outputId": "9f60fa3d-4589-4de4-e63d-5b99d8dad0d8"
      },
      "outputs": [
        {
          "name": "stdout",
          "output_type": "stream",
          "text": [
            "inf\n"
          ]
        }
      ],
      "source": [
        "print(perplexity([list(flatten(wiki_test_bigrams))],bigram_model_scratch))"
      ]
    },
    {
      "cell_type": "markdown",
      "metadata": {
        "id": "9BAF9DQbuXBC"
      },
      "source": [
        "# Smoothing"
      ]
    },
    {
      "cell_type": "markdown",
      "metadata": {
        "id": "jlm75BWLuXBC"
      },
      "source": [
        "Usually any ngram models have a sparsity problem, which means it does not have every possible ngram of words in the dataset. Smoothing techniques can alleviate this problem. In this section, you will implement three basic smoothing methods laplace smoothing, interpolation for bigram, and Knesey-Ney smoothing."
      ]
    },
    {
      "cell_type": "markdown",
      "metadata": {
        "id": "jwa7YQiouXBD"
      },
      "source": [
        "## TODO #5 write Bigram with Laplace smoothing (Add-One Smoothing)\n",
        "\n",
        "The result perplexity on training and testing should be:\n",
        "\n",
        "    370.28, 369.16 for Laplace smoothing"
      ]
    },
    {
      "cell_type": "code",
      "execution_count": 58,
      "metadata": {
        "colab": {
          "base_uri": "https://localhost:8080/"
        },
        "id": "j2Bw4C9T_UEs",
        "outputId": "e3913f4a-1176-4c42-a99e-eb5b13376cba"
      },
      "outputs": [
        {
          "name": "stdout",
          "output_type": "stream",
          "text": [
            "370.28232024056035\n",
            "369.1605485652555\n"
          ]
        }
      ],
      "source": [
        "class BigramWithLaplaceSmoothing:\n",
        "    def __init__(self, data, vocab):\n",
        "        self.unigram_count = defaultdict(lambda: 0.0)\n",
        "        self.bigram_count = defaultdict(lambda: 0.0)\n",
        "        self.vocab = vocab\n",
        "\n",
        "        for sentence in data:\n",
        "            for w1, w2 in sentence:\n",
        "                self.bigram_count[(w1, w2)] += 1.0\n",
        "                self.unigram_count[w1] += 1.0\n",
        "            self.unigram_count[sentence[-1][-1]] += 1.0\n",
        "\n",
        "    def __getitem__(self, bigram):\n",
        "        w1, w2 = bigram\n",
        "\n",
        "        bigram_count = self.bigram_count[(w1, w2)]\n",
        "        unigram_count = self.unigram_count[w1]\n",
        "\n",
        "        return (bigram_count+1) / (unigram_count + len(self.vocab))\n",
        "\n",
        "\n",
        "\n",
        "model = BigramWithLaplaceSmoothing(train_bigrams, vocab)\n",
        "print(perplexity([list(flatten(train_bigrams))],model))\n",
        "print(perplexity([list(flatten(test_bigrams))], model))"
      ]
    },
    {
      "cell_type": "markdown",
      "metadata": {
        "id": "mFT4uhIGhP0c"
      },
      "source": [
        "## Q3 MCV"
      ]
    },
    {
      "cell_type": "code",
      "execution_count": 59,
      "metadata": {
        "colab": {
          "base_uri": "https://localhost:8080/"
        },
        "id": "jSH60cshIpDy",
        "outputId": "00a9669d-e2b9-47c6-caac-0fa1106c6aa2"
      },
      "outputs": [
        {
          "name": "stdout",
          "output_type": "stream",
          "text": [
            "735.0253999215859\n"
          ]
        }
      ],
      "source": [
        "print(perplexity([list(flatten(wiki_test_bigrams))],model))"
      ]
    },
    {
      "cell_type": "markdown",
      "metadata": {
        "id": "5JDswBSIuXBG"
      },
      "source": [
        "## TODO #6 Write Bigram with Interpolation\n",
        "Set the lambda value as 0.7 for bigram, 0.25 for unigram, and 0.05 for unknown word.\n",
        "\n",
        "The result perplexity on training and testing should be:\n",
        "\n",
        "    70.07, 102.99 for Interpolation"
      ]
    },
    {
      "cell_type": "code",
      "execution_count": 61,
      "metadata": {
        "colab": {
          "base_uri": "https://localhost:8080/"
        },
        "id": "PIeDBLarvZUT",
        "outputId": "005230b8-c7d9-4c88-e3be-7e57a1ed8545"
      },
      "outputs": [
        {
          "name": "stdout",
          "output_type": "stream",
          "text": [
            "70.06754793707988\n",
            "102.99295310997627\n"
          ]
        }
      ],
      "source": [
        "class BigramWithInterpolation():\n",
        "    def __init__(self, data, vocab, l=0.7):\n",
        "        self.unigram_count = defaultdict(lambda: 0.0)\n",
        "        self.bigram_count = defaultdict(lambda: 0.0)\n",
        "        self.total_word_count = 0\n",
        "        self.vocab = vocab\n",
        "        self.l = l\n",
        "        for sentence in data:\n",
        "            for w1, w2 in sentence:\n",
        "                self.bigram_count[(w1, w2)] += 1.0\n",
        "                self.unigram_count[w1] += 1.0\n",
        "                self.total_word_count += 1\n",
        "\n",
        "            self.unigram_count[w2] += 1.0\n",
        "            self.total_word_count += 1\n",
        "\n",
        "    def __getitem__(self, bigram):\n",
        "        w1, w2 = bigram\n",
        "        unigram_prob = self.unigram_count[w2] / self.total_word_count\n",
        "        bigram_prob = self.bigram_count[(w1, w2)] / self.unigram_count[w1]\n",
        "\n",
        "        return 0.7 * bigram_prob + 0.25 * unigram_prob + 0.05 * (1 / len(self.vocab))\n",
        "\n",
        "\n",
        "model = BigramWithInterpolation(train_bigrams, vocab)\n",
        "print(perplexity([list(flatten(train_bigrams))],model))\n",
        "print(perplexity([list(flatten(test_bigrams))], model))"
      ]
    },
    {
      "cell_type": "markdown",
      "metadata": {
        "id": "i-GlmJUIhN7s"
      },
      "source": [
        "## Q4 MCV"
      ]
    },
    {
      "cell_type": "code",
      "execution_count": 63,
      "metadata": {
        "colab": {
          "base_uri": "https://localhost:8080/"
        },
        "id": "EilXywU-IuNU",
        "outputId": "049a3df5-51d4-4358-880e-11f053450634"
      },
      "outputs": [
        {
          "name": "stdout",
          "output_type": "stream",
          "text": [
            "251.60709095654997\n"
          ]
        }
      ],
      "source": [
        "print(perplexity([list(flatten(wiki_test_bigrams))],model))"
      ]
    },
    {
      "cell_type": "markdown",
      "metadata": {
        "id": "pUorP-EWuXBM"
      },
      "source": [
        "## Language modeling on multiple domains\n",
        "\n",
        "Sometimes, we do not have enough data to create a language model for a new domain. In that case, we can improvised by combining several models to improve result on the new domain.\n",
        "\n",
        "In this exercise you will try to merge two language models from news and article domains to create a language model for the encyclopedia domain."
      ]
    },
    {
      "cell_type": "code",
      "execution_count": 64,
      "metadata": {
        "id": "Jel9Hx69uXBN"
      },
      "outputs": [],
      "source": [
        "# create encyclopeida data (test data)\n",
        "encyclo_data=[]\n",
        "with open('BEST2010/encyclopedia.txt','r',encoding='utf-8') as f:\n",
        "    for i,line in enumerate(f):\n",
        "        encyclo_data.append(line.strip()[:-1])"
      ]
    },
    {
      "cell_type": "markdown",
      "metadata": {
        "id": "Jlla-S8YYRur"
      },
      "source": [
        "(news) First, you should try to calculate perplexity of your bigram with interpolation on encyclopedia data. The  perplexity should be around 236.33"
      ]
    },
    {
      "cell_type": "code",
      "execution_count": 65,
      "metadata": {
        "id": "1smQyjHMWCr-"
      },
      "outputs": [],
      "source": [
        "def get_vocab(data):\n",
        "    tokenized_data = [\n",
        "        [\"<s>\"] + t.split(\"|\") + [\"</s>\"] for t in data\n",
        "    ]\n",
        "    flat_tokens = list(flatten(tokenized_data))\n",
        "    vocab = Vocabulary(flat_tokens, unk_cutoff=3)\n",
        "\n",
        "    return vocab\n",
        "\n",
        "def get_bigram_data(data, vocab):\n",
        "    tokenized_test = [t.split(\"|\") for t in data]\n",
        "    tokenized_test = [\n",
        "        [token if token in vocab else \"<UNK>\" for token in sentence]\n",
        "        for sentence in tokenized_test\n",
        "    ]\n",
        "    padded_tokenized_test = [\n",
        "        list(pad_both_ends(sentence, n=2)) for sentence in tokenized_test\n",
        "    ]\n",
        "    bigrams = [list(ngrams(sent, n=2)) for sent in padded_tokenized_test]\n",
        "\n",
        "    return bigrams"
      ]
    },
    {
      "cell_type": "code",
      "execution_count": 66,
      "metadata": {
        "id": "gkRm8W4UWyfc"
      },
      "outputs": [],
      "source": [
        "encyclopedia_bigrams = get_bigram_data(encyclo_data, vocab)"
      ]
    },
    {
      "cell_type": "code",
      "execution_count": 68,
      "metadata": {
        "colab": {
          "base_uri": "https://localhost:8080/"
        },
        "id": "x0l91qLEuXBP",
        "outputId": "144f0602-b875-4c91-f336-3a2df30a2d20"
      },
      "outputs": [
        {
          "name": "stdout",
          "output_type": "stream",
          "text": [
            "236.3286142031601\n"
          ]
        }
      ],
      "source": [
        "# 1) news only on \"encyclopedia\"\n",
        "print(perplexity([list(flatten(encyclopedia_bigrams))], model))"
      ]
    },
    {
      "cell_type": "markdown",
      "metadata": {
        "id": "hwV9j9U-uXBR"
      },
      "source": [
        "## TODO #7 - Langauge Modelling on Multiple Domains\n",
        "Combine news and article datasets to create another bigram model and evaluate it on the encyclopedia data."
      ]
    },
    {
      "cell_type": "markdown",
      "metadata": {
        "id": "9skdgo8muXBO"
      },
      "source": [
        "\n",
        "\n",
        "(article) For your information, a bigram model with interpolation using article data to test on encyclopedia data has a perplexity of 218.57"
      ]
    },
    {
      "cell_type": "code",
      "execution_count": 70,
      "metadata": {
        "id": "LOA8fd53uXBU"
      },
      "outputs": [],
      "source": [
        "# 2) article only on \"encyclopedia\"\n",
        "best2010_article=[]\n",
        "with open('BEST2010/article.txt','r',encoding='utf-8') as f:\n",
        "    for i,line in enumerate(f):\n",
        "        best2010_article.append(line.strip()[:-1])\n",
        "\n",
        "combined_total_word_count = 0\n",
        "for line in best2010_article:\n",
        "    combined_total_word_count += len(line.split('|'))\n",
        "\n",
        "article_vocab = get_vocab(best2010_article)\n",
        "article_bigrams = get_bigram_data(best2010_article, article_vocab)\n",
        "\n",
        "\n",
        "model = BigramWithInterpolation(article_bigrams, article_vocab)"
      ]
    },
    {
      "cell_type": "code",
      "execution_count": 72,
      "metadata": {
        "id": "sVHruMDdWnbt"
      },
      "outputs": [],
      "source": [
        "encyclopedia_bigrams_article_vocab = get_bigram_data(encyclo_data, article_vocab)"
      ]
    },
    {
      "cell_type": "code",
      "execution_count": 75,
      "metadata": {
        "colab": {
          "base_uri": "https://localhost:8080/"
        },
        "id": "7bLYcPvXYHkB",
        "outputId": "62e03722-844d-467c-b2ef-142aa88d7baf"
      },
      "outputs": [
        {
          "name": "stdout",
          "output_type": "stream",
          "text": [
            "Perplexity of the bigram model using article data with interpolation smoothing on encyclopedia test data 218.57479345888848\n"
          ]
        }
      ],
      "source": [
        "print('Perplexity of the bigram model using article data with interpolation smoothing on encyclopedia test data',perplexity([list(flatten(encyclopedia_bigrams_article_vocab))], model))"
      ]
    },
    {
      "cell_type": "code",
      "execution_count": 77,
      "metadata": {
        "colab": {
          "base_uri": "https://localhost:8080/"
        },
        "id": "wBjmLhUcuXBS",
        "outputId": "07e8366f-faf4-4c3d-b1df-8b1f430bf49e"
      },
      "outputs": [
        {
          "name": "stdout",
          "output_type": "stream",
          "text": [
            "Perplexity of the combined Bigram model with interpolation smoothing on encyclopedia test data 242.88025282580364\n"
          ]
        }
      ],
      "source": [
        "# 3) train on news + article, test on \"encyclopedia\"\n",
        "best2010_article_and_news = best2010_article.copy()\n",
        "with open(\"BEST2010/news.txt\", \"r\", encoding=\"utf-8\") as f:\n",
        "    for i, line in enumerate(f):\n",
        "        best2010_article_and_news.append(line.strip()[:-1])\n",
        "\n",
        "combined_vocab = get_vocab(best2010_article_and_news)\n",
        "combined_bigrams = get_bigram_data(best2010_article_and_news, combined_vocab)\n",
        "encyclopedia_bigrams_combined_vocab = get_bigram_data(encyclo_data, combined_vocab)\n",
        "\n",
        "combined_model = BigramWithInterpolation(combined_bigrams, combined_vocab)\n",
        "print(\n",
        "    \"Perplexity of the combined Bigram model with interpolation smoothing on encyclopedia test data\",\n",
        "    perplexity([list(flatten(encyclopedia_bigrams_combined_vocab))], combined_model),\n",
        ")"
      ]
    },
    {
      "cell_type": "markdown",
      "metadata": {
        "id": "XNPEhD7WuXBV"
      },
      "source": [
        "## TODO #8 - Kneser-ney on \"News\"\n",
        "\n",
        "<!-- Reimplement equation 4.33 in SLP textbook (https://lagunita.stanford.edu/c4x/Engineering/CS-224N/asset/slp4.pdf) -->\n",
        "\n",
        "Implement Bigram Knerser-ney LM. The result perplexity should be around 65.81, 93.21 on train and test data. Be careful not to mix up vocab from the above section!\n"
      ]
    },
    {
      "cell_type": "code",
      "execution_count": 78,
      "metadata": {
        "colab": {
          "base_uri": "https://localhost:8080/"
        },
        "id": "Y_8xFf7tBqpc",
        "outputId": "d0af1a76-97d2-45bb-c00b-676e308ace4b"
      },
      "outputs": [
        {
          "name": "stdout",
          "output_type": "stream",
          "text": [
            "65.80901349887752\n",
            "50.40541747450013\n",
            "90.29909158711666\n",
            "93.21479572741401\n"
          ]
        }
      ],
      "source": [
        "class BigramKneserNey:\n",
        "    def __init__(self, data, vocab, d=0.75):\n",
        "        self.unigram_count = defaultdict(lambda: 0.0)\n",
        "        self.bigram_count = defaultdict(lambda: 0.0)\n",
        "        self.start_with_unique_count = defaultdict(lambda : set())\n",
        "        self.end_with_unique_count = defaultdict(lambda: set())\n",
        "        self.vocab = vocab\n",
        "        self.d = d\n",
        "\n",
        "        for sentence in data:\n",
        "            for w1, w2 in sentence:\n",
        "                self.bigram_count[(w1, w2)] += 1.0\n",
        "                self.unigram_count[w1] += 1.0\n",
        "                self.start_with_unique_count[w1].add(w2)\n",
        "                self.end_with_unique_count[w2].add(w1)\n",
        "\n",
        "            self.unigram_count[w2] += 1.0\n",
        "        self.bigram_size = len(self.bigram_count)\n",
        "\n",
        "    def __getitem__(self, bigram):\n",
        "        w1, w2 = bigram\n",
        "        x = max(self.bigram_count[(w1, w2)] - self.d, 0) / self.unigram_count[w1]\n",
        "        lambda_w1 = (self.d / self.unigram_count[w1]) * len(self.start_with_unique_count[w1])\n",
        "        p_con = len(self.end_with_unique_count[w2]) / self.bigram_size\n",
        "\n",
        "        return x + lambda_w1 * p_con\n",
        "\n",
        "model = BigramKneserNey(train_bigrams, vocab)\n",
        "print(perplexity([list(flatten(train_bigrams))],model))\n",
        "print(perplexity([list(flatten(train_bigrams))[:1000]],model)) #can be used to compare with nltk\n",
        "print(perplexity([list(flatten(test_bigrams))[:1000]], model)) #can be used to compare with nltk\n",
        "print(perplexity([list(flatten(test_bigrams))], model))"
      ]
    },
    {
      "cell_type": "markdown",
      "metadata": {
        "id": "ULDScRw-g8Yn"
      },
      "source": [
        "## Q5 MCV"
      ]
    },
    {
      "cell_type": "code",
      "execution_count": 79,
      "metadata": {
        "colab": {
          "base_uri": "https://localhost:8080/"
        },
        "id": "eSZ1Pb9WvfWC",
        "outputId": "95f24375-f2b5-4fe0-d631-a4a066e7631f"
      },
      "outputs": [
        {
          "name": "stdout",
          "output_type": "stream",
          "text": [
            "266.582022413098\n"
          ]
        }
      ],
      "source": [
        "print(perplexity([list(flatten(wiki_test_bigrams))],model))"
      ]
    }
  ],
  "metadata": {
    "colab": {
      "provenance": [],
      "toc_visible": true
    },
    "kernelspec": {
      "display_name": "Python 3",
      "name": "python3"
    },
    "language_info": {
      "codemirror_mode": {
        "name": "ipython",
        "version": 3
      },
      "file_extension": ".py",
      "mimetype": "text/x-python",
      "name": "python",
      "nbconvert_exporter": "python",
      "pygments_lexer": "ipython3",
      "version": "3.6.4"
    }
  },
  "nbformat": 4,
  "nbformat_minor": 0
}
